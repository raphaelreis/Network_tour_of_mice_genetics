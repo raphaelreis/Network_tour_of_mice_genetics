{
 "cells": [
  {
   "cell_type": "code",
   "execution_count": null,
   "metadata": {},
   "outputs": [],
   "source": [
    "import pandas as pd\n",
    "import numpy as np\n",
    "import matplotlib.pyplot as plt\n",
    "import networkx as nx\n",
    "from tabulate import tabulate\n",
    "\n",
    "\n",
    "from pygsp import graphs, filters, plotting\n",
    "from scipy.spatial.distance import pdist, squareform\n",
    "from scipy.stats import norm\n",
    "import scipy\n",
    "import matplotlib\n",
    "import utils\n",
    "\n",
    "\n",
    "\n",
    "import dgl\n",
    "import dgl.function as fn\n",
    "import torch as th\n",
    "import torch.nn as nn\n",
    "import torch.nn.functional as F\n",
    "from dgl import DGLGraph\n",
    "\n",
    "import time\n",
    "\n",
    "from sklearn.metrics import classification_report"
   ]
  },
  {
   "cell_type": "code",
   "execution_count": 7,
   "metadata": {},
   "outputs": [],
   "source": [
    "gcn_message = fn.copy_src(src='h', out='m')\n",
    "gcn_reduce = fn.sum(msg='m', out='h')"
   ]
  },
  {
   "cell_type": "code",
   "execution_count": 8,
   "metadata": {},
   "outputs": [],
   "source": [
    "# Define the GCNLayer module\n",
    "class GCNLayer(nn.Module):\n",
    "    def __init__(self, in_feats, out_feats):\n",
    "        super(GCNLayer, self).__init__()\n",
    "        self.linear = nn.Linear(in_feats, out_feats)\n",
    "\n",
    "    def forward(self, g, inputs):\n",
    "        # g is the graph and the inputs is the input node features\n",
    "        # first set the node features\n",
    "        g.ndata['h'] = inputs\n",
    "        # trigger message passing on all edges\n",
    "        g.send(g.edges(), gcn_message)\n",
    "        # trigger aggregation at all nodes\n",
    "        g.recv(g.nodes(), gcn_reduce)\n",
    "        # get the result node features\n",
    "        h = g.ndata.pop('h')\n",
    "        # perform linear transformation\n",
    "        return self.linear(h)"
   ]
  },
  {
   "cell_type": "code",
   "execution_count": 9,
   "metadata": {},
   "outputs": [],
   "source": [
    "# Define a 2-layer GCN model\n",
    "class GCN(nn.Module):\n",
    "    def __init__(self, in_feats, hidden_size, num_classes):\n",
    "        super(GCN, self).__init__()\n",
    "        self.gcn1 = GCNLayer(in_feats, hidden_size)\n",
    "        self.gcn2 = GCNLayer(hidden_size, num_classes)\n",
    "\n",
    "    def forward(self, g, inputs):\n",
    "        h = self.gcn1(g, inputs.float())\n",
    "        h = th.relu(h)\n",
    "        m = nn.Dropout(p=0.2)\n",
    "        h = m(h)\n",
    "        h = self.gcn2(g, h)\n",
    "        return h\n",
    "# The first layer transforms input features of size of 30 to a hidden size of 5.\n",
    "# The second layer transforms the hidden layer and produces output features of\n",
    "# size 2, corresponding to the two groups of the karate club."
   ]
  },
  {
   "cell_type": "code",
   "execution_count": 10,
   "metadata": {},
   "outputs": [],
   "source": [
    "# TRAINING / evaluating\n",
    "\n",
    "def train(model, g, features, labels, loss_fcn, train_mask, optimizer):\n",
    "    model.train()  # Activate dropout\n",
    "    \n",
    "    logits = model(g, features).float()\n",
    "    loss = loss_fcn(logits[train_mask], labels[train_mask])\n",
    "\n",
    "    optimizer.zero_grad()\n",
    "    loss.backward()\n",
    "    optimizer.step()\n",
    "    return loss\n",
    "\n",
    "def evaluate(model, g, features, labels, mask, report=False):\n",
    "    model.eval()  # Deactivate dropout\n",
    "    with th.no_grad():\n",
    "        logits = model(g, features)[mask]  # only compute the evaluation set\n",
    "        labels = labels[mask]\n",
    "        _, indices = th.max(logits, dim=1)\n",
    "        print(indices, labels)\n",
    "        correct = th.sum(indices == labels)\n",
    "        if report == True:\n",
    "            return correct.item() * 1.0 / len(labels), classification_report(labels, indices)\n",
    "        return correct.item() * 1.0 / len(labels)\n",
    "    "
   ]
  },
  {
   "cell_type": "code",
   "execution_count": 66,
   "metadata": {},
   "outputs": [],
   "source": [
    "# Build the target\n",
    "# genotype_gene_expression_present_df = pd.read_pickle(\"data/pickle/genotype_gene_expression_present_df.pkl\")\n",
    "phenotype_df = pd.read_pickle(\"data/pickle/phenotype.pkl\")\n",
    "y = phenotype_df.loc['X62'].dropna().astype('int64')"
   ]
  },
  {
   "cell_type": "code",
   "execution_count": 161,
   "metadata": {},
   "outputs": [],
   "source": [
    "# Build the relevant high variance signals\n",
    "gene_expression_df = pd.read_pickle(\"data/pickle/concat_gene_expression.pkl\")"
   ]
  },
  {
   "cell_type": "code",
   "execution_count": 186,
   "metadata": {},
   "outputs": [],
   "source": [
    "gene_expr = gene_expression_df.copy(deep=True)\n",
    "frame_nan_count = gene_expr.isna().sum(axis=0)"
   ]
  },
  {
   "cell_type": "code",
   "execution_count": 191,
   "metadata": {},
   "outputs": [],
   "source": [
    "gene_expr = gene_expr.loc[:, frame_nan_count < 30]"
   ]
  },
  {
   "cell_type": "code",
   "execution_count": null,
   "metadata": {},
   "outputs": [],
   "source": [
    "gene_expr = gene_expr.loc[y.index]"
   ]
  },
  {
   "cell_type": "code",
   "execution_count": 199,
   "metadata": {},
   "outputs": [],
   "source": [
    "top_var = 100\n",
    "# top_var_gene = gene_expr.std().sort_values()\n",
    "top_var_gene = gene_expr.std().sort_values().tail(top_var)"
   ]
  },
  {
   "cell_type": "code",
   "execution_count": 201,
   "metadata": {},
   "outputs": [
    {
     "data": {
      "text/plain": [
       "gene\n",
       "AI594671_1449603_at    1.836940\n",
       "Pnliprp2_10464328      1.851778\n",
       "Mtmr7_1447831_s_at     1.857344\n",
       "Serpina1b_10402390     1.858340\n",
       "LOC674190_10403011     1.858610\n",
       "                         ...   \n",
       "Amy2a1_10501500        3.613998\n",
       "Amy2a1_10501511        3.613998\n",
       "Amy2a1_10501522        3.613998\n",
       "Amy2a1_10501533        3.613998\n",
       "Amy2a1_10501494        3.690222\n",
       "Length: 100, dtype: float64"
      ]
     },
     "execution_count": 201,
     "metadata": {},
     "output_type": "execute_result"
    }
   ],
   "source": [
    "top_var_gene"
   ]
  },
  {
   "cell_type": "code",
   "execution_count": 209,
   "metadata": {},
   "outputs": [
    {
     "data": {
      "text/plain": [
       "Cela3b_10517573          4\n",
       "Trim12a_10566326         4\n",
       "Prune2_1432198_at        4\n",
       "Phgdh_1454714_x_at       4\n",
       "Tra2a_1436240_at         4\n",
       "                        ..\n",
       "Dmbt1_10558159           2\n",
       "AI594671_1449603_at      2\n",
       "Mup2_10513472            2\n",
       "St6galnac1_1421517_at    2\n",
       "Gm17535_10582916         1\n",
       "Name: gene, Length: 65, dtype: int64"
      ]
     },
     "execution_count": 209,
     "metadata": {},
     "output_type": "execute_result"
    }
   ],
   "source": [
    "gene_expr.loc[:, top_var_gene.index].columns.value_counts()"
   ]
  },
  {
   "cell_type": "code",
   "execution_count": 211,
   "metadata": {},
   "outputs": [
    {
     "data": {
      "text/html": [
       "<div>\n",
       "<style scoped>\n",
       "    .dataframe tbody tr th:only-of-type {\n",
       "        vertical-align: middle;\n",
       "    }\n",
       "\n",
       "    .dataframe tbody tr th {\n",
       "        vertical-align: top;\n",
       "    }\n",
       "\n",
       "    .dataframe thead th {\n",
       "        text-align: right;\n",
       "    }\n",
       "</style>\n",
       "<table border=\"1\" class=\"dataframe\">\n",
       "  <thead>\n",
       "    <tr style=\"text-align: right;\">\n",
       "      <th>gene</th>\n",
       "      <th>AI594671_1449603_at</th>\n",
       "      <th>AI594671_1449603_at</th>\n",
       "      <th>Pnliprp2_10464328</th>\n",
       "      <th>Pnliprp2_10464328</th>\n",
       "      <th>Mtmr7_1447831_s_at</th>\n",
       "      <th>Mtmr7_1447831_s_at</th>\n",
       "      <th>Serpina1b_10402390</th>\n",
       "      <th>Serpina1b_10402390</th>\n",
       "      <th>LOC674190_10403011</th>\n",
       "      <th>LOC674190_10403011</th>\n",
       "      <th>...</th>\n",
       "      <th>Amy2a1_10501500</th>\n",
       "      <th>Amy2a1_10501500</th>\n",
       "      <th>Amy2a1_10501511</th>\n",
       "      <th>Amy2a1_10501511</th>\n",
       "      <th>Amy2a1_10501522</th>\n",
       "      <th>Amy2a1_10501522</th>\n",
       "      <th>Amy2a1_10501533</th>\n",
       "      <th>Amy2a1_10501533</th>\n",
       "      <th>Amy2a1_10501494</th>\n",
       "      <th>Amy2a1_10501494</th>\n",
       "    </tr>\n",
       "  </thead>\n",
       "  <tbody>\n",
       "    <tr>\n",
       "      <td>BXD1</td>\n",
       "      <td>4.408</td>\n",
       "      <td>5.234</td>\n",
       "      <td>7.103</td>\n",
       "      <td>6.914</td>\n",
       "      <td>9.538</td>\n",
       "      <td>9.321</td>\n",
       "      <td>8.322</td>\n",
       "      <td>8.911</td>\n",
       "      <td>8.736</td>\n",
       "      <td>9.960</td>\n",
       "      <td>...</td>\n",
       "      <td>6.595</td>\n",
       "      <td>5.936</td>\n",
       "      <td>6.595</td>\n",
       "      <td>5.936</td>\n",
       "      <td>6.595</td>\n",
       "      <td>5.936</td>\n",
       "      <td>6.595</td>\n",
       "      <td>5.936</td>\n",
       "      <td>5.257</td>\n",
       "      <td>4.923</td>\n",
       "    </tr>\n",
       "    <tr>\n",
       "      <td>BXD2</td>\n",
       "      <td>4.553</td>\n",
       "      <td>5.239</td>\n",
       "      <td>9.903</td>\n",
       "      <td>11.682</td>\n",
       "      <td>9.837</td>\n",
       "      <td>9.728</td>\n",
       "      <td>7.187</td>\n",
       "      <td>8.051</td>\n",
       "      <td>8.807</td>\n",
       "      <td>8.889</td>\n",
       "      <td>...</td>\n",
       "      <td>14.114</td>\n",
       "      <td>14.767</td>\n",
       "      <td>14.114</td>\n",
       "      <td>14.767</td>\n",
       "      <td>14.114</td>\n",
       "      <td>14.767</td>\n",
       "      <td>14.114</td>\n",
       "      <td>14.767</td>\n",
       "      <td>13.344</td>\n",
       "      <td>14.127</td>\n",
       "    </tr>\n",
       "    <tr>\n",
       "      <td>BXD5</td>\n",
       "      <td>5.538</td>\n",
       "      <td>8.939</td>\n",
       "      <td>6.879</td>\n",
       "      <td>8.151</td>\n",
       "      <td>9.450</td>\n",
       "      <td>9.734</td>\n",
       "      <td>7.687</td>\n",
       "      <td>8.383</td>\n",
       "      <td>8.498</td>\n",
       "      <td>9.250</td>\n",
       "      <td>...</td>\n",
       "      <td>6.187</td>\n",
       "      <td>12.048</td>\n",
       "      <td>6.187</td>\n",
       "      <td>12.048</td>\n",
       "      <td>6.187</td>\n",
       "      <td>12.048</td>\n",
       "      <td>6.187</td>\n",
       "      <td>12.048</td>\n",
       "      <td>5.588</td>\n",
       "      <td>11.428</td>\n",
       "    </tr>\n",
       "    <tr>\n",
       "      <td>BXD6</td>\n",
       "      <td>4.462</td>\n",
       "      <td>4.962</td>\n",
       "      <td>11.683</td>\n",
       "      <td>6.877</td>\n",
       "      <td>9.597</td>\n",
       "      <td>9.992</td>\n",
       "      <td>11.620</td>\n",
       "      <td>12.108</td>\n",
       "      <td>5.446</td>\n",
       "      <td>5.536</td>\n",
       "      <td>...</td>\n",
       "      <td>14.480</td>\n",
       "      <td>10.024</td>\n",
       "      <td>14.480</td>\n",
       "      <td>10.024</td>\n",
       "      <td>14.480</td>\n",
       "      <td>10.024</td>\n",
       "      <td>14.480</td>\n",
       "      <td>10.024</td>\n",
       "      <td>13.723</td>\n",
       "      <td>9.327</td>\n",
       "    </tr>\n",
       "    <tr>\n",
       "      <td>BXD8</td>\n",
       "      <td>4.485</td>\n",
       "      <td>4.984</td>\n",
       "      <td>9.242</td>\n",
       "      <td>6.940</td>\n",
       "      <td>9.902</td>\n",
       "      <td>9.603</td>\n",
       "      <td>10.191</td>\n",
       "      <td>12.085</td>\n",
       "      <td>7.288</td>\n",
       "      <td>8.445</td>\n",
       "      <td>...</td>\n",
       "      <td>10.070</td>\n",
       "      <td>6.524</td>\n",
       "      <td>10.070</td>\n",
       "      <td>6.524</td>\n",
       "      <td>10.070</td>\n",
       "      <td>6.524</td>\n",
       "      <td>10.070</td>\n",
       "      <td>6.524</td>\n",
       "      <td>9.358</td>\n",
       "      <td>6.054</td>\n",
       "    </tr>\n",
       "    <tr>\n",
       "      <td>...</td>\n",
       "      <td>...</td>\n",
       "      <td>...</td>\n",
       "      <td>...</td>\n",
       "      <td>...</td>\n",
       "      <td>...</td>\n",
       "      <td>...</td>\n",
       "      <td>...</td>\n",
       "      <td>...</td>\n",
       "      <td>...</td>\n",
       "      <td>...</td>\n",
       "      <td>...</td>\n",
       "      <td>...</td>\n",
       "      <td>...</td>\n",
       "      <td>...</td>\n",
       "      <td>...</td>\n",
       "      <td>...</td>\n",
       "      <td>...</td>\n",
       "      <td>...</td>\n",
       "      <td>...</td>\n",
       "      <td>...</td>\n",
       "      <td>...</td>\n",
       "    </tr>\n",
       "    <tr>\n",
       "      <td>BXD98</td>\n",
       "      <td>4.483</td>\n",
       "      <td>6.230</td>\n",
       "      <td>7.271</td>\n",
       "      <td>11.310</td>\n",
       "      <td>9.545</td>\n",
       "      <td>9.956</td>\n",
       "      <td>8.238</td>\n",
       "      <td>7.993</td>\n",
       "      <td>10.566</td>\n",
       "      <td>9.011</td>\n",
       "      <td>...</td>\n",
       "      <td>11.044</td>\n",
       "      <td>14.501</td>\n",
       "      <td>11.044</td>\n",
       "      <td>14.501</td>\n",
       "      <td>11.044</td>\n",
       "      <td>14.501</td>\n",
       "      <td>11.044</td>\n",
       "      <td>14.501</td>\n",
       "      <td>10.554</td>\n",
       "      <td>13.799</td>\n",
       "    </tr>\n",
       "    <tr>\n",
       "      <td>BXD99</td>\n",
       "      <td>6.673</td>\n",
       "      <td>8.522</td>\n",
       "      <td>11.487</td>\n",
       "      <td>11.399</td>\n",
       "      <td>6.469</td>\n",
       "      <td>6.216</td>\n",
       "      <td>8.607</td>\n",
       "      <td>8.569</td>\n",
       "      <td>9.240</td>\n",
       "      <td>9.627</td>\n",
       "      <td>...</td>\n",
       "      <td>14.408</td>\n",
       "      <td>14.369</td>\n",
       "      <td>14.408</td>\n",
       "      <td>14.369</td>\n",
       "      <td>14.408</td>\n",
       "      <td>14.369</td>\n",
       "      <td>14.408</td>\n",
       "      <td>14.369</td>\n",
       "      <td>13.863</td>\n",
       "      <td>13.951</td>\n",
       "    </tr>\n",
       "    <tr>\n",
       "      <td>BXD100</td>\n",
       "      <td>NaN</td>\n",
       "      <td>NaN</td>\n",
       "      <td>NaN</td>\n",
       "      <td>NaN</td>\n",
       "      <td>NaN</td>\n",
       "      <td>NaN</td>\n",
       "      <td>NaN</td>\n",
       "      <td>NaN</td>\n",
       "      <td>NaN</td>\n",
       "      <td>NaN</td>\n",
       "      <td>...</td>\n",
       "      <td>NaN</td>\n",
       "      <td>NaN</td>\n",
       "      <td>NaN</td>\n",
       "      <td>NaN</td>\n",
       "      <td>NaN</td>\n",
       "      <td>NaN</td>\n",
       "      <td>NaN</td>\n",
       "      <td>NaN</td>\n",
       "      <td>NaN</td>\n",
       "      <td>NaN</td>\n",
       "    </tr>\n",
       "    <tr>\n",
       "      <td>BXD101</td>\n",
       "      <td>NaN</td>\n",
       "      <td>NaN</td>\n",
       "      <td>11.293</td>\n",
       "      <td>7.397</td>\n",
       "      <td>NaN</td>\n",
       "      <td>NaN</td>\n",
       "      <td>11.966</td>\n",
       "      <td>11.656</td>\n",
       "      <td>8.196</td>\n",
       "      <td>7.816</td>\n",
       "      <td>...</td>\n",
       "      <td>14.428</td>\n",
       "      <td>7.872</td>\n",
       "      <td>14.428</td>\n",
       "      <td>7.872</td>\n",
       "      <td>14.428</td>\n",
       "      <td>7.872</td>\n",
       "      <td>14.428</td>\n",
       "      <td>7.872</td>\n",
       "      <td>13.680</td>\n",
       "      <td>7.018</td>\n",
       "    </tr>\n",
       "    <tr>\n",
       "      <td>BXD102</td>\n",
       "      <td>NaN</td>\n",
       "      <td>NaN</td>\n",
       "      <td>6.655</td>\n",
       "      <td>6.848</td>\n",
       "      <td>NaN</td>\n",
       "      <td>NaN</td>\n",
       "      <td>11.804</td>\n",
       "      <td>12.095</td>\n",
       "      <td>9.851</td>\n",
       "      <td>9.412</td>\n",
       "      <td>...</td>\n",
       "      <td>5.631</td>\n",
       "      <td>7.747</td>\n",
       "      <td>5.631</td>\n",
       "      <td>7.747</td>\n",
       "      <td>5.631</td>\n",
       "      <td>7.747</td>\n",
       "      <td>5.631</td>\n",
       "      <td>7.747</td>\n",
       "      <td>5.111</td>\n",
       "      <td>6.683</td>\n",
       "    </tr>\n",
       "  </tbody>\n",
       "</table>\n",
       "<p>90 rows × 199 columns</p>\n",
       "</div>"
      ],
      "text/plain": [
       "gene    AI594671_1449603_at  AI594671_1449603_at  Pnliprp2_10464328  \\\n",
       "BXD1                  4.408                5.234              7.103   \n",
       "BXD2                  4.553                5.239              9.903   \n",
       "BXD5                  5.538                8.939              6.879   \n",
       "BXD6                  4.462                4.962             11.683   \n",
       "BXD8                  4.485                4.984              9.242   \n",
       "...                     ...                  ...                ...   \n",
       "BXD98                 4.483                6.230              7.271   \n",
       "BXD99                 6.673                8.522             11.487   \n",
       "BXD100                  NaN                  NaN                NaN   \n",
       "BXD101                  NaN                  NaN             11.293   \n",
       "BXD102                  NaN                  NaN              6.655   \n",
       "\n",
       "gene    Pnliprp2_10464328  Mtmr7_1447831_s_at  Mtmr7_1447831_s_at  \\\n",
       "BXD1                6.914               9.538               9.321   \n",
       "BXD2               11.682               9.837               9.728   \n",
       "BXD5                8.151               9.450               9.734   \n",
       "BXD6                6.877               9.597               9.992   \n",
       "BXD8                6.940               9.902               9.603   \n",
       "...                   ...                 ...                 ...   \n",
       "BXD98              11.310               9.545               9.956   \n",
       "BXD99              11.399               6.469               6.216   \n",
       "BXD100                NaN                 NaN                 NaN   \n",
       "BXD101              7.397                 NaN                 NaN   \n",
       "BXD102              6.848                 NaN                 NaN   \n",
       "\n",
       "gene    Serpina1b_10402390  Serpina1b_10402390  LOC674190_10403011  \\\n",
       "BXD1                 8.322               8.911               8.736   \n",
       "BXD2                 7.187               8.051               8.807   \n",
       "BXD5                 7.687               8.383               8.498   \n",
       "BXD6                11.620              12.108               5.446   \n",
       "BXD8                10.191              12.085               7.288   \n",
       "...                    ...                 ...                 ...   \n",
       "BXD98                8.238               7.993              10.566   \n",
       "BXD99                8.607               8.569               9.240   \n",
       "BXD100                 NaN                 NaN                 NaN   \n",
       "BXD101              11.966              11.656               8.196   \n",
       "BXD102              11.804              12.095               9.851   \n",
       "\n",
       "gene    LOC674190_10403011  ...  Amy2a1_10501500  Amy2a1_10501500  \\\n",
       "BXD1                 9.960  ...            6.595            5.936   \n",
       "BXD2                 8.889  ...           14.114           14.767   \n",
       "BXD5                 9.250  ...            6.187           12.048   \n",
       "BXD6                 5.536  ...           14.480           10.024   \n",
       "BXD8                 8.445  ...           10.070            6.524   \n",
       "...                    ...  ...              ...              ...   \n",
       "BXD98                9.011  ...           11.044           14.501   \n",
       "BXD99                9.627  ...           14.408           14.369   \n",
       "BXD100                 NaN  ...              NaN              NaN   \n",
       "BXD101               7.816  ...           14.428            7.872   \n",
       "BXD102               9.412  ...            5.631            7.747   \n",
       "\n",
       "gene    Amy2a1_10501511  Amy2a1_10501511  Amy2a1_10501522  Amy2a1_10501522  \\\n",
       "BXD1              6.595            5.936            6.595            5.936   \n",
       "BXD2             14.114           14.767           14.114           14.767   \n",
       "BXD5              6.187           12.048            6.187           12.048   \n",
       "BXD6             14.480           10.024           14.480           10.024   \n",
       "BXD8             10.070            6.524           10.070            6.524   \n",
       "...                 ...              ...              ...              ...   \n",
       "BXD98            11.044           14.501           11.044           14.501   \n",
       "BXD99            14.408           14.369           14.408           14.369   \n",
       "BXD100              NaN              NaN              NaN              NaN   \n",
       "BXD101           14.428            7.872           14.428            7.872   \n",
       "BXD102            5.631            7.747            5.631            7.747   \n",
       "\n",
       "gene    Amy2a1_10501533  Amy2a1_10501533  Amy2a1_10501494  Amy2a1_10501494  \n",
       "BXD1              6.595            5.936            5.257            4.923  \n",
       "BXD2             14.114           14.767           13.344           14.127  \n",
       "BXD5              6.187           12.048            5.588           11.428  \n",
       "BXD6             14.480           10.024           13.723            9.327  \n",
       "BXD8             10.070            6.524            9.358            6.054  \n",
       "...                 ...              ...              ...              ...  \n",
       "BXD98            11.044           14.501           10.554           13.799  \n",
       "BXD99            14.408           14.369           13.863           13.951  \n",
       "BXD100              NaN              NaN              NaN              NaN  \n",
       "BXD101           14.428            7.872           13.680            7.018  \n",
       "BXD102            5.631            7.747            5.111            6.683  \n",
       "\n",
       "[90 rows x 199 columns]"
      ]
     },
     "execution_count": 211,
     "metadata": {},
     "output_type": "execute_result"
    }
   ],
   "source": [
    "gene_expr.loc[:, top_var_gene.index].drop"
   ]
  },
  {
   "cell_type": "code",
   "execution_count": 210,
   "metadata": {},
   "outputs": [],
   "source": [
    "signal = gene_expr.loc[:, top_var_gene.index]"
   ]
  },
  {
   "cell_type": "code",
   "execution_count": 150,
   "metadata": {},
   "outputs": [
    {
     "data": {
      "text/plain": [
       "(90, 285041)"
      ]
     },
     "execution_count": 150,
     "metadata": {},
     "output_type": "execute_result"
    }
   ],
   "source": [
    "signal.shape"
   ]
  },
  {
   "cell_type": "code",
   "execution_count": 152,
   "metadata": {},
   "outputs": [
    {
     "data": {
      "text/plain": [
       "BXD1           0\n",
       "BXD45          0\n",
       "BXD48a         0\n",
       "BXD5           0\n",
       "BXD51          0\n",
       "           ...  \n",
       "BXD24a    142599\n",
       "BXD52     142599\n",
       "BXD59     142599\n",
       "BXD72     142599\n",
       "BXD53     142599\n",
       "Length: 90, dtype: int64"
      ]
     },
     "execution_count": 152,
     "metadata": {},
     "output_type": "execute_result"
    }
   ],
   "source": [
    "gene_expr.isna().sum(axis=1).sort_values()"
   ]
  },
  {
   "cell_type": "code",
   "execution_count": 155,
   "metadata": {},
   "outputs": [
    {
     "data": {
      "text/plain": [
       "(90, 285041)"
      ]
     },
     "execution_count": 155,
     "metadata": {},
     "output_type": "execute_result"
    }
   ],
   "source": [
    "signal.shape"
   ]
  },
  {
   "cell_type": "code",
   "execution_count": 154,
   "metadata": {},
   "outputs": [
    {
     "data": {
      "text/plain": [
       "1    30\n",
       "2    23\n",
       "4    19\n",
       "3    18\n",
       "Name: X62, dtype: int64"
      ]
     },
     "execution_count": 154,
     "metadata": {},
     "output_type": "execute_result"
    }
   ],
   "source": [
    "# What are the most present labels ?\n",
    "y.value_counts()"
   ]
  },
  {
   "cell_type": "markdown",
   "metadata": {},
   "source": [
    "# Two classes evaluation"
   ]
  },
  {
   "cell_type": "code",
   "execution_count": 196,
   "metadata": {},
   "outputs": [],
   "source": [
    "# Select only the mice that have label 1 or 4. We chose it because they are the most present\n",
    "y_binary = y[(y.values == 1) | (y.values == 4)]"
   ]
  },
  {
   "cell_type": "code",
   "execution_count": 197,
   "metadata": {},
   "outputs": [],
   "source": [
    "# Drop the rows with only nan values\n",
    "sign = signal[signal.index.isin(y_binary.index)].dropna(how='all')"
   ]
  },
  {
   "cell_type": "code",
   "execution_count": 198,
   "metadata": {},
   "outputs": [],
   "source": [
    "# Filter y_binary to take into account nan filtering\n",
    "y_binary = y_binary[y_binary.index.isin(sign.index)]"
   ]
  },
  {
   "cell_type": "code",
   "execution_count": 199,
   "metadata": {},
   "outputs": [
    {
     "data": {
      "text/plain": [
       "True"
      ]
     },
     "execution_count": 199,
     "metadata": {},
     "output_type": "execute_result"
    }
   ],
   "source": [
    "# Are both index the same ?\n",
    "(y_binary.index == sign.index).all()"
   ]
  },
  {
   "cell_type": "code",
   "execution_count": 200,
   "metadata": {},
   "outputs": [],
   "source": [
    "# Transfrom to np.array\n",
    "sign_np = sign.values"
   ]
  },
  {
   "cell_type": "code",
   "execution_count": 201,
   "metadata": {},
   "outputs": [],
   "source": [
    "# Transfrom to np.array\n",
    "sign_np = sign.values\n",
    "y_b = y_binary.values"
   ]
  },
  {
   "cell_type": "code",
   "execution_count": 202,
   "metadata": {},
   "outputs": [],
   "source": [
    "# Build the training/testing data\n",
    "features = th.tensor(sign_np)\n",
    "labels = th.tensor(y_b)"
   ]
  },
  {
   "cell_type": "code",
   "execution_count": 203,
   "metadata": {},
   "outputs": [],
   "source": [
    "labels[labels == 1] = 0\n",
    "labels[labels == 4] = 1"
   ]
  },
  {
   "cell_type": "code",
   "execution_count": 237,
   "metadata": {},
   "outputs": [
    {
     "name": "stdout",
     "output_type": "stream",
     "text": [
      "train_size: 18 | test_size: 7 | val_size: 5\n"
     ]
    }
   ],
   "source": [
    "# Split the data into train / test / validation\n",
    "test_p = 0.25\n",
    "val_p = 0.25\n",
    "test_size = int(len(labels)*test_p)\n",
    "val_size = int((len(labels) - test_size) * val_p)\n",
    "test_split, train_split, val_split  = th.utils.data.random_split(labels, [test_size, len(labels) - test_size - val_size, val_size])\n",
    "print(\"train_size: %i | test_size: %i | val_size: %i\" % (len(labels) - test_size - val_size, test_size, val_size))"
   ]
  },
  {
   "cell_type": "code",
   "execution_count": 238,
   "metadata": {},
   "outputs": [
    {
     "name": "stdout",
     "output_type": "stream",
     "text": [
      "train_mask: [28, 9, 21, 1, 4, 2, 18, 14, 6, 3, 8, 27, 25, 11, 10, 23, 24, 15]\n",
      "test_mask: [7, 13, 16, 29, 22, 19, 20]\n",
      "val_mask: [5, 17, 26, 0, 12]\n"
     ]
    }
   ],
   "source": [
    "train_mask = train_split.indices\n",
    "test_mask = test_split.indices\n",
    "val_mask = val_split.indices\n",
    "print(\"train_mask: {}\\ntest_mask: {}\\nval_mask: {}\".format(train_mask, test_mask, val_mask))"
   ]
  },
  {
   "cell_type": "code",
   "execution_count": 133,
   "metadata": {},
   "outputs": [],
   "source": [
    "# Build a graph adjacency for the subsample and mice labeled as 1 and 4\n",
    "genotype_df = pd.read_pickle('data/pickle/genotype_df.pkl')\n",
    "adj = utils.build_adj_from_strain(genotype_df, sign.index, 'cosine', 70, 0.273)"
   ]
  },
  {
   "cell_type": "code",
   "execution_count": 134,
   "metadata": {},
   "outputs": [
    {
     "name": "stderr",
     "output_type": "stream",
     "text": [
      "/Users/Raphael/anaconda3/envs/ntds_2019/lib/python3.7/site-packages/networkx/drawing/nx_pylab.py:579: MatplotlibDeprecationWarning: \n",
      "The iterable function was deprecated in Matplotlib 3.1 and will be removed in 3.3. Use np.iterable instead.\n",
      "  if not cb.iterable(width):\n"
     ]
    },
    {
     "data": {
      "image/png": "[encoded data removed]",
      "text/plain": [
       "<Figure size 432x288 with 1 Axes>"
      ]
     },
     "metadata": {},
     "output_type": "display_data"
    }
   ],
   "source": [
    "nx.draw(nx.from_numpy_array(adj))"
   ]
  },
  {
   "cell_type": "code",
   "execution_count": 135,
   "metadata": {},
   "outputs": [
    {
     "name": "stdout",
     "output_type": "stream",
     "text": [
      "╒═════════════════════════════════════════════════╤════════╕\n",
      "│ Number of nodes                                 │  30    │\n",
      "├─────────────────────────────────────────────────┼────────┤\n",
      "│ Number of edges                                 │ 106    │\n",
      "├─────────────────────────────────────────────────┼────────┤\n",
      "│ Graph density                                   │  24.37 │\n",
      "├─────────────────────────────────────────────────┼────────┤\n",
      "│ Average degree                                  │   7.07 │\n",
      "├─────────────────────────────────────────────────┼────────┤\n",
      "│ Number of connected components                  │   1    │\n",
      "├─────────────────────────────────────────────────┼────────┤\n",
      "│ Average clustering coefficient                  │   0.49 │\n",
      "├─────────────────────────────────────────────────┼────────┤\n",
      "│ Diameter of the network (longest shortest path) │   5    │\n",
      "╘═════════════════════════════════════════════════╧════════╛\n"
     ]
    }
   ],
   "source": [
    "utils.graph_basic_stats(nx.from_numpy_array(adj))"
   ]
  },
  {
   "cell_type": "code",
   "execution_count": 214,
   "metadata": {},
   "outputs": [],
   "source": [
    "graph = DGLGraph(adj)"
   ]
  },
  {
   "cell_type": "code",
   "execution_count": 215,
   "metadata": {},
   "outputs": [],
   "source": [
    "model = GCN(sign_np.shape[1], 5, 2)"
   ]
  },
  {
   "cell_type": "code",
   "execution_count": 218,
   "metadata": {},
   "outputs": [],
   "source": [
    "pol_order = 3\n",
    "lr = 0.2\n",
    "weight_decay = 5e-6\n",
    "n_epochs = 100\n",
    "p_dropout = 0.8"
   ]
  },
  {
   "cell_type": "code",
   "execution_count": 231,
   "metadata": {},
   "outputs": [
    {
     "name": "stdout",
     "output_type": "stream",
     "text": [
      "tensor([0, 0, 0, 0, 0]) tensor([0, 0, 0, 0, 0])\n"
     ]
    },
    {
     "data": {
      "text/plain": [
       "1.0"
      ]
     },
     "execution_count": 231,
     "metadata": {},
     "output_type": "execute_result"
    }
   ],
   "source": [
    "evaluate(model, graph, features, labels, val_mask)"
   ]
  },
  {
   "cell_type": "code",
   "execution_count": 236,
   "metadata": {},
   "outputs": [
    {
     "name": "stdout",
     "output_type": "stream",
     "text": [
      "tensor([0, 0, 0, 0, 0]) tensor([0, 0, 0, 0, 0])\n",
      "Epoch 00000 | Time(s) nan | Train Loss 0.6365 | Val Accuracy 1.0000\n",
      "tensor([0, 0, 0, 0, 0]) tensor([0, 0, 0, 0, 0])\n",
      "Epoch 00001 | Time(s) nan | Train Loss 0.6537 | Val Accuracy 1.0000\n",
      "tensor([0, 0, 0, 0, 0]) tensor([0, 0, 0, 0, 0])\n",
      "Epoch 00002 | Time(s) nan | Train Loss 0.6376 | Val Accuracy 1.0000\n",
      "tensor([0, 0, 0, 0, 0]) tensor([0, 0, 0, 0, 0])\n",
      "Epoch 00003 | Time(s) 0.0069 | Train Loss 0.6400 | Val Accuracy 1.0000\n",
      "tensor([0, 0, 0, 0, 0]) tensor([0, 0, 0, 0, 0])\n",
      "Epoch 00004 | Time(s) 0.0083 | Train Loss 0.6462 | Val Accuracy 1.0000\n",
      "tensor([0, 0, 0, 0, 0]) tensor([0, 0, 0, 0, 0])\n",
      "Epoch 00005 | Time(s) 0.0078 | Train Loss 0.6444 | Val Accuracy 1.0000\n",
      "tensor([1, 1, 1, 1, 1]) tensor([0, 0, 0, 0, 0])\n",
      "Epoch 00006 | Time(s) 0.0080 | Train Loss 134.7106 | Val Accuracy 0.0000\n",
      "tensor([1, 1, 1, 1, 1]) tensor([0, 0, 0, 0, 0])\n",
      "Epoch 00007 | Time(s) 0.0078 | Train Loss 1540.1918 | Val Accuracy 0.0000\n",
      "tensor([0, 0, 0, 0, 0]) tensor([0, 0, 0, 0, 0])\n",
      "Epoch 00008 | Time(s) 0.0083 | Train Loss 326.1610 | Val Accuracy 1.0000\n",
      "tensor([0, 0, 0, 0, 0]) tensor([0, 0, 0, 0, 0])\n",
      "Epoch 00009 | Time(s) 0.0089 | Train Loss 0.6407 | Val Accuracy 1.0000\n",
      "tensor([0, 0, 0, 0, 0]) tensor([0, 0, 0, 0, 0])\n",
      "Epoch 00010 | Time(s) 0.0087 | Train Loss 0.6497 | Val Accuracy 1.0000\n",
      "tensor([0, 0, 0, 0, 0]) tensor([0, 0, 0, 0, 0])\n",
      "Epoch 00011 | Time(s) 0.0086 | Train Loss 0.6603 | Val Accuracy 1.0000\n",
      "tensor([0, 0, 0, 0, 0]) tensor([0, 0, 0, 0, 0])\n",
      "Epoch 00012 | Time(s) 0.0087 | Train Loss 0.6701 | Val Accuracy 1.0000\n",
      "tensor([0, 0, 0, 0, 0]) tensor([0, 0, 0, 0, 0])\n",
      "Epoch 00013 | Time(s) 0.0090 | Train Loss 0.6774 | Val Accuracy 1.0000\n",
      "tensor([0, 0, 0, 0, 0]) tensor([0, 0, 0, 0, 0])\n",
      "Epoch 00014 | Time(s) 0.0088 | Train Loss 0.6815 | Val Accuracy 1.0000\n",
      "tensor([0, 0, 0, 0, 0]) tensor([0, 0, 0, 0, 0])\n",
      "Epoch 00015 | Time(s) 0.0091 | Train Loss 0.6822 | Val Accuracy 1.0000\n",
      "tensor([0, 0, 0, 0, 0]) tensor([0, 0, 0, 0, 0])\n",
      "Epoch 00016 | Time(s) 0.0092 | Train Loss 0.6797 | Val Accuracy 1.0000\n",
      "tensor([0, 0, 0, 0, 0]) tensor([0, 0, 0, 0, 0])\n",
      "Epoch 00017 | Time(s) 0.0091 | Train Loss 0.6746 | Val Accuracy 1.0000\n",
      "tensor([0, 0, 0, 0, 0]) tensor([0, 0, 0, 0, 0])\n",
      "Epoch 00018 | Time(s) 0.0092 | Train Loss 0.6677 | Val Accuracy 1.0000\n",
      "tensor([0, 0, 0, 0, 0]) tensor([0, 0, 0, 0, 0])\n",
      "Epoch 00019 | Time(s) 0.0100 | Train Loss 0.6600 | Val Accuracy 1.0000\n",
      "tensor([0, 0, 0, 0, 0]) tensor([0, 0, 0, 0, 0])\n",
      "Epoch 00020 | Time(s) 0.0099 | Train Loss 0.6525 | Val Accuracy 1.0000\n",
      "tensor([0, 0, 0, 0, 0]) tensor([0, 0, 0, 0, 0])\n",
      "Epoch 00021 | Time(s) 0.0100 | Train Loss 0.6458 | Val Accuracy 1.0000\n",
      "tensor([0, 0, 0, 0, 0]) tensor([0, 0, 0, 0, 0])\n",
      "Epoch 00022 | Time(s) 0.0099 | Train Loss 0.6408 | Val Accuracy 1.0000\n",
      "tensor([0, 0, 0, 0, 0]) tensor([0, 0, 0, 0, 0])\n",
      "Epoch 00023 | Time(s) 0.0099 | Train Loss 0.6376 | Val Accuracy 1.0000\n",
      "tensor([0, 0, 0, 0, 0]) tensor([0, 0, 0, 0, 0])\n",
      "Epoch 00024 | Time(s) 0.0098 | Train Loss 0.6365 | Val Accuracy 1.0000\n",
      "tensor([0, 0, 0, 0, 0]) tensor([0, 0, 0, 0, 0])\n",
      "Epoch 00025 | Time(s) 0.0097 | Train Loss 0.6371 | Val Accuracy 1.0000\n",
      "tensor([0, 0, 0, 0, 0]) tensor([0, 0, 0, 0, 0])\n",
      "Epoch 00026 | Time(s) 0.0096 | Train Loss 0.6390 | Val Accuracy 1.0000\n",
      "tensor([0, 0, 0, 0, 0]) tensor([0, 0, 0, 0, 0])\n",
      "Epoch 00027 | Time(s) 0.0096 | Train Loss 0.6415 | Val Accuracy 1.0000\n",
      "tensor([0, 0, 0, 0, 0]) tensor([0, 0, 0, 0, 0])\n",
      "Epoch 00028 | Time(s) 0.0095 | Train Loss 0.6438 | Val Accuracy 1.0000\n",
      "tensor([0, 0, 0, 0, 0]) tensor([0, 0, 0, 0, 0])\n",
      "Epoch 00029 | Time(s) 0.0094 | Train Loss 0.6456 | Val Accuracy 1.0000\n",
      "tensor([0, 0, 0, 0, 0]) tensor([0, 0, 0, 0, 0])\n",
      "Epoch 00030 | Time(s) 0.0094 | Train Loss 0.6464 | Val Accuracy 1.0000\n",
      "tensor([0, 0, 0, 0, 0]) tensor([0, 0, 0, 0, 0])\n",
      "Epoch 00031 | Time(s) 0.0093 | Train Loss 0.6461 | Val Accuracy 1.0000\n",
      "tensor([0, 0, 0, 0, 0]) tensor([0, 0, 0, 0, 0])\n",
      "Epoch 00032 | Time(s) 0.0093 | Train Loss 0.6450 | Val Accuracy 1.0000\n",
      "tensor([0, 0, 0, 0, 0]) tensor([0, 0, 0, 0, 0])\n",
      "Epoch 00033 | Time(s) 0.0092 | Train Loss 0.6432 | Val Accuracy 1.0000\n",
      "tensor([0, 0, 0, 0, 0]) tensor([0, 0, 0, 0, 0])\n",
      "Epoch 00034 | Time(s) 0.0092 | Train Loss 0.6411 | Val Accuracy 1.0000\n",
      "tensor([0, 0, 0, 0, 0]) tensor([0, 0, 0, 0, 0])\n",
      "Epoch 00035 | Time(s) 0.0092 | Train Loss 0.6393 | Val Accuracy 1.0000\n",
      "tensor([0, 0, 0, 0, 0]) tensor([0, 0, 0, 0, 0])\n",
      "Epoch 00036 | Time(s) 0.0092 | Train Loss 0.6378 | Val Accuracy 1.0000\n",
      "tensor([0, 0, 0, 0, 0]) tensor([0, 0, 0, 0, 0])\n",
      "Epoch 00037 | Time(s) 0.0093 | Train Loss 0.6368 | Val Accuracy 1.0000\n",
      "tensor([0, 0, 0, 0, 0]) tensor([0, 0, 0, 0, 0])\n",
      "Epoch 00038 | Time(s) 0.0092 | Train Loss 0.6365 | Val Accuracy 1.0000\n",
      "tensor([0, 0, 0, 0, 0]) tensor([0, 0, 0, 0, 0])\n",
      "Epoch 00039 | Time(s) 0.0093 | Train Loss 0.6367 | Val Accuracy 1.0000\n",
      "tensor([0, 0, 0, 0, 0]) tensor([0, 0, 0, 0, 0])\n",
      "Epoch 00040 | Time(s) 0.0094 | Train Loss 0.6372 | Val Accuracy 1.0000\n",
      "tensor([0, 0, 0, 0, 0]) tensor([0, 0, 0, 0, 0])\n",
      "Epoch 00041 | Time(s) 0.0093 | Train Loss 0.6379 | Val Accuracy 1.0000\n",
      "tensor([0, 0, 0, 0, 0]) tensor([0, 0, 0, 0, 0])\n",
      "Epoch 00042 | Time(s) 0.0093 | Train Loss 0.6385 | Val Accuracy 1.0000\n",
      "tensor([0, 0, 0, 0, 0]) tensor([0, 0, 0, 0, 0])\n",
      "Epoch 00043 | Time(s) 0.0093 | Train Loss 0.6389 | Val Accuracy 1.0000\n",
      "tensor([0, 0, 0, 0, 0]) tensor([0, 0, 0, 0, 0])\n",
      "Epoch 00044 | Time(s) 0.0092 | Train Loss 0.6390 | Val Accuracy 1.0000\n",
      "tensor([0, 0, 0, 0, 0]) tensor([0, 0, 0, 0, 0])\n",
      "Epoch 00045 | Time(s) 0.0093 | Train Loss 0.6389 | Val Accuracy 1.0000\n",
      "tensor([0, 0, 0, 0, 0]) tensor([0, 0, 0, 0, 0])\n",
      "Epoch 00046 | Time(s) 0.0094 | Train Loss 0.6385 | Val Accuracy 1.0000\n",
      "tensor([0, 0, 0, 0, 0]) tensor([0, 0, 0, 0, 0])\n",
      "Epoch 00047 | Time(s) 0.0094 | Train Loss 0.6380 | Val Accuracy 1.0000\n",
      "tensor([0, 0, 0, 0, 0]) tensor([0, 0, 0, 0, 0])\n",
      "Epoch 00048 | Time(s) 0.0094 | Train Loss 0.6375 | Val Accuracy 1.0000\n",
      "tensor([0, 0, 0, 0, 0]) tensor([0, 0, 0, 0, 0])\n",
      "Epoch 00049 | Time(s) 0.0097 | Train Loss 0.6370 | Val Accuracy 1.0000\n",
      "tensor([0, 0, 0, 0, 0]) tensor([0, 0, 0, 0, 0])\n",
      "Epoch 00050 | Time(s) 0.0097 | Train Loss 0.6367 | Val Accuracy 1.0000\n",
      "tensor([0, 0, 0, 0, 0]) tensor([0, 0, 0, 0, 0])\n",
      "Epoch 00051 | Time(s) 0.0097 | Train Loss 0.6365 | Val Accuracy 1.0000\n",
      "tensor([0, 0, 0, 0, 0]) tensor([0, 0, 0, 0, 0])\n",
      "Epoch 00052 | Time(s) 0.0098 | Train Loss 0.6365 | Val Accuracy 1.0000\n",
      "tensor([0, 0, 0, 0, 0]) tensor([0, 0, 0, 0, 0])\n",
      "Epoch 00053 | Time(s) 0.0098 | Train Loss 0.6367 | Val Accuracy 1.0000\n",
      "tensor([0, 0, 0, 0, 0]) tensor([0, 0, 0, 0, 0])\n",
      "Epoch 00054 | Time(s) 0.0099 | Train Loss 0.6368 | Val Accuracy 1.0000\n",
      "tensor([0, 0, 0, 0, 0]) tensor([0, 0, 0, 0, 0])\n",
      "Epoch 00055 | Time(s) 0.0099 | Train Loss 0.6370 | Val Accuracy 1.0000\n",
      "tensor([0, 0, 0, 0, 0]) tensor([0, 0, 0, 0, 0])\n",
      "Epoch 00056 | Time(s) 0.0100 | Train Loss 0.6372 | Val Accuracy 1.0000\n",
      "tensor([0, 0, 0, 0, 0]) tensor([0, 0, 0, 0, 0])\n",
      "Epoch 00057 | Time(s) 0.0099 | Train Loss 0.6372 | Val Accuracy 1.0000\n",
      "tensor([0, 0, 0, 0, 0]) tensor([0, 0, 0, 0, 0])\n",
      "Epoch 00058 | Time(s) 0.0099 | Train Loss 0.6372 | Val Accuracy 1.0000\n",
      "tensor([0, 0, 0, 0, 0]) tensor([0, 0, 0, 0, 0])\n",
      "Epoch 00059 | Time(s) 0.0098 | Train Loss 0.6370 | Val Accuracy 1.0000\n",
      "tensor([0, 0, 0, 0, 0]) tensor([0, 0, 0, 0, 0])\n",
      "Epoch 00060 | Time(s) 0.0098 | Train Loss 0.6369 | Val Accuracy 1.0000\n",
      "tensor([0, 0, 0, 0, 0]) tensor([0, 0, 0, 0, 0])\n",
      "Epoch 00061 | Time(s) 0.0098 | Train Loss 0.6367 | Val Accuracy 1.0000\n",
      "tensor([0, 0, 0, 0, 0]) tensor([0, 0, 0, 0, 0])\n",
      "Epoch 00062 | Time(s) 0.0098 | Train Loss 0.6366 | Val Accuracy 1.0000\n",
      "tensor([0, 0, 0, 0, 0]) tensor([0, 0, 0, 0, 0])\n",
      "Epoch 00063 | Time(s) 0.0098 | Train Loss 0.6365 | Val Accuracy 1.0000\n",
      "tensor([0, 0, 0, 0, 0]) tensor([0, 0, 0, 0, 0])\n",
      "Epoch 00064 | Time(s) 0.0098 | Train Loss 0.6365 | Val Accuracy 1.0000\n",
      "tensor([0, 0, 0, 0, 0]) tensor([0, 0, 0, 0, 0])\n",
      "Epoch 00065 | Time(s) 0.0098 | Train Loss 0.6365 | Val Accuracy 1.0000\n",
      "tensor([0, 0, 0, 0, 0]) tensor([0, 0, 0, 0, 0])\n",
      "Epoch 00066 | Time(s) 0.0098 | Train Loss 0.6366 | Val Accuracy 1.0000\n",
      "tensor([0, 0, 0, 0, 0]) tensor([0, 0, 0, 0, 0])\n",
      "Epoch 00067 | Time(s) 0.0098 | Train Loss 0.6367 | Val Accuracy 1.0000\n",
      "tensor([0, 0, 0, 0, 0]) tensor([0, 0, 0, 0, 0])\n",
      "Epoch 00068 | Time(s) 0.0097 | Train Loss 0.6367 | Val Accuracy 1.0000\n",
      "tensor([0, 0, 0, 0, 0]) tensor([0, 0, 0, 0, 0])\n",
      "Epoch 00069 | Time(s) 0.0097 | Train Loss 0.6367 | Val Accuracy 1.0000\n",
      "tensor([0, 0, 0, 0, 0]) tensor([0, 0, 0, 0, 0])\n",
      "Epoch 00070 | Time(s) 0.0097 | Train Loss 0.6367 | Val Accuracy 1.0000\n",
      "tensor([0, 0, 0, 0, 0]) tensor([0, 0, 0, 0, 0])\n",
      "Epoch 00071 | Time(s) 0.0097 | Train Loss 0.6367 | Val Accuracy 1.0000\n",
      "tensor([0, 0, 0, 0, 0]) tensor([0, 0, 0, 0, 0])\n",
      "Epoch 00072 | Time(s) 0.0097 | Train Loss 0.6366 | Val Accuracy 1.0000\n",
      "tensor([0, 0, 0, 0, 0]) tensor([0, 0, 0, 0, 0])\n",
      "Epoch 00073 | Time(s) 0.0097 | Train Loss 0.6366 | Val Accuracy 1.0000\n",
      "tensor([0, 0, 0, 0, 0]) tensor([0, 0, 0, 0, 0])\n",
      "Epoch 00074 | Time(s) 0.0097 | Train Loss 0.6365 | Val Accuracy 1.0000\n",
      "tensor([0, 0, 0, 0, 0]) tensor([0, 0, 0, 0, 0])\n",
      "Epoch 00075 | Time(s) 0.0097 | Train Loss 0.6365 | Val Accuracy 1.0000\n",
      "tensor([0, 0, 0, 0, 0]) tensor([0, 0, 0, 0, 0])\n",
      "Epoch 00076 | Time(s) 0.0097 | Train Loss 0.6365 | Val Accuracy 1.0000\n"
     ]
    },
    {
     "name": "stdout",
     "output_type": "stream",
     "text": [
      "tensor([0, 0, 0, 0, 0]) tensor([0, 0, 0, 0, 0])\n",
      "Epoch 00077 | Time(s) 0.0096 | Train Loss 0.6365 | Val Accuracy 1.0000\n",
      "tensor([0, 0, 0, 0, 0]) tensor([0, 0, 0, 0, 0])\n",
      "Epoch 00078 | Time(s) 0.0096 | Train Loss 0.6365 | Val Accuracy 1.0000\n",
      "tensor([0, 0, 0, 0, 0]) tensor([0, 0, 0, 0, 0])\n",
      "Epoch 00079 | Time(s) 0.0096 | Train Loss 0.6366 | Val Accuracy 1.0000\n",
      "tensor([0, 0, 0, 0, 0]) tensor([0, 0, 0, 0, 0])\n",
      "Epoch 00080 | Time(s) 0.0096 | Train Loss 0.6366 | Val Accuracy 1.0000\n",
      "tensor([0, 0, 0, 0, 0]) tensor([0, 0, 0, 0, 0])\n",
      "Epoch 00081 | Time(s) 0.0095 | Train Loss 0.6366 | Val Accuracy 1.0000\n",
      "tensor([0, 0, 0, 0, 0]) tensor([0, 0, 0, 0, 0])\n",
      "Epoch 00082 | Time(s) 0.0095 | Train Loss 0.6366 | Val Accuracy 1.0000\n",
      "tensor([0, 0, 0, 0, 0]) tensor([0, 0, 0, 0, 0])\n",
      "Epoch 00083 | Time(s) 0.0095 | Train Loss 0.6366 | Val Accuracy 1.0000\n",
      "tensor([0, 0, 0, 0, 0]) tensor([0, 0, 0, 0, 0])\n",
      "Epoch 00084 | Time(s) 0.0095 | Train Loss 0.6365 | Val Accuracy 1.0000\n",
      "tensor([0, 0, 0, 0, 0]) tensor([0, 0, 0, 0, 0])\n",
      "Epoch 00085 | Time(s) 0.0094 | Train Loss 0.6365 | Val Accuracy 1.0000\n",
      "tensor([0, 0, 0, 0, 0]) tensor([0, 0, 0, 0, 0])\n",
      "Epoch 00086 | Time(s) 0.0095 | Train Loss 0.6365 | Val Accuracy 1.0000\n",
      "tensor([0, 0, 0, 0, 0]) tensor([0, 0, 0, 0, 0])\n",
      "Epoch 00087 | Time(s) 0.0094 | Train Loss 0.6365 | Val Accuracy 1.0000\n",
      "tensor([0, 0, 0, 0, 0]) tensor([0, 0, 0, 0, 0])\n",
      "Epoch 00088 | Time(s) 0.0094 | Train Loss 0.6365 | Val Accuracy 1.0000\n",
      "tensor([0, 0, 0, 0, 0]) tensor([0, 0, 0, 0, 0])\n",
      "Epoch 00089 | Time(s) 0.0094 | Train Loss 0.6365 | Val Accuracy 1.0000\n",
      "tensor([0, 0, 0, 0, 0]) tensor([0, 0, 0, 0, 0])\n",
      "Epoch 00090 | Time(s) 0.0094 | Train Loss 0.6365 | Val Accuracy 1.0000\n",
      "tensor([0, 0, 0, 0, 0]) tensor([0, 0, 0, 0, 0])\n",
      "Epoch 00091 | Time(s) 0.0094 | Train Loss 0.6365 | Val Accuracy 1.0000\n",
      "tensor([0, 0, 0, 0, 0]) tensor([0, 0, 0, 0, 0])\n",
      "Epoch 00092 | Time(s) 0.0094 | Train Loss 0.6365 | Val Accuracy 1.0000\n",
      "tensor([0, 0, 0, 0, 0]) tensor([0, 0, 0, 0, 0])\n",
      "Epoch 00093 | Time(s) 0.0094 | Train Loss 0.6365 | Val Accuracy 1.0000\n",
      "tensor([0, 0, 0, 0, 0]) tensor([0, 0, 0, 0, 0])\n",
      "Epoch 00094 | Time(s) 0.0094 | Train Loss 0.6365 | Val Accuracy 1.0000\n",
      "tensor([0, 0, 0, 0, 0]) tensor([0, 0, 0, 0, 0])\n",
      "Epoch 00095 | Time(s) 0.0094 | Train Loss 0.6365 | Val Accuracy 1.0000\n",
      "tensor([0, 0, 0, 0, 0]) tensor([0, 0, 0, 0, 0])\n",
      "Epoch 00096 | Time(s) 0.0094 | Train Loss 0.6365 | Val Accuracy 1.0000\n",
      "tensor([0, 0, 0, 0, 0]) tensor([0, 0, 0, 0, 0])\n",
      "Epoch 00097 | Time(s) 0.0094 | Train Loss 0.6365 | Val Accuracy 1.0000\n",
      "tensor([0, 0, 0, 0, 0]) tensor([0, 0, 0, 0, 0])\n",
      "Epoch 00098 | Time(s) 0.0094 | Train Loss 0.6365 | Val Accuracy 1.0000\n",
      "tensor([0, 0, 0, 0, 0]) tensor([0, 0, 0, 0, 0])\n",
      "Epoch 00099 | Time(s) 0.0094 | Train Loss 0.6365 | Val Accuracy 1.0000\n",
      "\n",
      "tensor([0, 0, 0, 0, 0, 0, 0]) tensor([0, 1, 0, 0, 1, 0, 0])\n",
      "Test Accuracy 0.7143\n",
      "              precision    recall  f1-score   support\n",
      "\n",
      "           0       0.71      1.00      0.83         5\n",
      "           1       0.00      0.00      0.00         2\n",
      "\n",
      "    accuracy                           0.71         7\n",
      "   macro avg       0.36      0.50      0.42         7\n",
      "weighted avg       0.51      0.71      0.60         7\n",
      "\n"
     ]
    },
    {
     "name": "stderr",
     "output_type": "stream",
     "text": [
      "/Users/Raphael/anaconda3/envs/ntds_2019/lib/python3.7/site-packages/sklearn/metrics/classification.py:1437: UndefinedMetricWarning: Precision and F-score are ill-defined and being set to 0.0 in labels with no predicted samples.\n",
      "  'precision', 'predicted', average, warn_for)\n"
     ]
    }
   ],
   "source": [
    "loss_fcn = th.nn.CrossEntropyLoss()\n",
    "optimizer = th.optim.Adam(model.parameters(),\n",
    "                             lr=lr,\n",
    "                             weight_decay=weight_decay)\n",
    "\n",
    "dur = []\n",
    "for epoch in range(n_epochs):\n",
    "    if epoch >= 3:\n",
    "        t0 = time.time()\n",
    "    loss = train(model, graph, features, labels, loss_fcn, train_mask, optimizer)\n",
    "\n",
    "    if epoch >= 3:\n",
    "        dur.append(time.time() - t0)\n",
    "\n",
    "    acc = evaluate(model, graph, features, labels, val_mask)\n",
    "    print(\"Epoch {:05d} | Time(s) {:.4f} | Train Loss {:.4f} | Val Accuracy {:.4f}\". format(\n",
    "            epoch, np.mean(dur), loss.item(), acc))\n",
    "\n",
    "print()\n",
    "acc, report = evaluate(model, graph, features, labels, test_mask, report=True)\n",
    "print(\"Test Accuracy {:.4f}\".format(acc))\n",
    "print(report)"
   ]
  },
  {
   "cell_type": "markdown",
   "metadata": {},
   "source": [
    "Eventhough the result seems to be good, the data is unbalanced so the prediction is highly biased towards the 0 class"
   ]
  },
  {
   "cell_type": "markdown",
   "metadata": {},
   "source": [
    "# Four classes evaluation"
   ]
  },
  {
   "cell_type": "code",
   "execution_count": 312,
   "metadata": {},
   "outputs": [],
   "source": [
    "# Select all classes of mouse\n",
    "y_fourC = y.copy()"
   ]
  },
  {
   "cell_type": "code",
   "execution_count": 313,
   "metadata": {},
   "outputs": [],
   "source": [
    "# Drop the rows with only nan values\n",
    "sign = signal[signal.index.isin(y_fourC.index)]"
   ]
  },
  {
   "cell_type": "code",
   "execution_count": 314,
   "metadata": {},
   "outputs": [],
   "source": [
    "shape = []\n",
    "for i in range(1000):\n",
    "    shape.append(sign.dropna(thresh=i).shape[0])"
   ]
  },
  {
   "cell_type": "code",
   "execution_count": 315,
   "metadata": {},
   "outputs": [
    {
     "data": {
      "text/plain": [
       "[<matplotlib.lines.Line2D at 0x12ebbad68>]"
      ]
     },
     "execution_count": 315,
     "metadata": {},
     "output_type": "execute_result"
    },
    {
     "data": {
      "image/png": "[encoded data removed]",
      "text/plain": [
       "<Figure size 432x288 with 1 Axes>"
      ]
     },
     "metadata": {
      "needs_background": "light"
     },
     "output_type": "display_data"
    }
   ],
   "source": [
    "plt.plot(shape)"
   ]
  },
  {
   "cell_type": "code",
   "execution_count": 316,
   "metadata": {},
   "outputs": [
    {
     "data": {
      "text/html": [
       "<div>\n",
       "<style scoped>\n",
       "    .dataframe tbody tr th:only-of-type {\n",
       "        vertical-align: middle;\n",
       "    }\n",
       "\n",
       "    .dataframe tbody tr th {\n",
       "        vertical-align: top;\n",
       "    }\n",
       "\n",
       "    .dataframe thead th {\n",
       "        text-align: right;\n",
       "    }\n",
       "</style>\n",
       "<table border=\"1\" class=\"dataframe\">\n",
       "  <thead>\n",
       "    <tr style=\"text-align: right;\">\n",
       "      <th>gene</th>\n",
       "      <th>Ube2d3_10469772</th>\n",
       "      <th>Ube2d3_10605349</th>\n",
       "      <th>ATP6_10598043</th>\n",
       "      <th>ND4L_10598059</th>\n",
       "      <th>Tpt1_10546702</th>\n",
       "      <th>ATP6_10353626</th>\n",
       "      <th>Tpt1_10601264</th>\n",
       "      <th>Sgta_10371041</th>\n",
       "      <th>Tpt1_10416496</th>\n",
       "      <th>CYTB_10598069</th>\n",
       "      <th>...</th>\n",
       "      <th>Mup2_10513437</th>\n",
       "      <th>Ube2g1_10342768</th>\n",
       "      <th>Mup2_10513455</th>\n",
       "      <th>Mup7_10513420</th>\n",
       "      <th>Ube2g1_10343119</th>\n",
       "      <th>Fbxw11_10375123</th>\n",
       "      <th>Dlg1_10338109</th>\n",
       "      <th>Fbxw11_10375121</th>\n",
       "      <th>H2-Ea-ps_10450161</th>\n",
       "      <th>Mela_10582545</th>\n",
       "    </tr>\n",
       "  </thead>\n",
       "  <tbody>\n",
       "    <tr>\n",
       "      <td>BXD1</td>\n",
       "      <td>NaN</td>\n",
       "      <td>NaN</td>\n",
       "      <td>NaN</td>\n",
       "      <td>NaN</td>\n",
       "      <td>NaN</td>\n",
       "      <td>NaN</td>\n",
       "      <td>NaN</td>\n",
       "      <td>NaN</td>\n",
       "      <td>NaN</td>\n",
       "      <td>NaN</td>\n",
       "      <td>...</td>\n",
       "      <td>NaN</td>\n",
       "      <td>NaN</td>\n",
       "      <td>NaN</td>\n",
       "      <td>NaN</td>\n",
       "      <td>NaN</td>\n",
       "      <td>NaN</td>\n",
       "      <td>NaN</td>\n",
       "      <td>NaN</td>\n",
       "      <td>NaN</td>\n",
       "      <td>NaN</td>\n",
       "    </tr>\n",
       "    <tr>\n",
       "      <td>BXD100</td>\n",
       "      <td>13.815</td>\n",
       "      <td>14.281</td>\n",
       "      <td>14.806</td>\n",
       "      <td>14.941</td>\n",
       "      <td>14.316</td>\n",
       "      <td>14.754</td>\n",
       "      <td>14.322</td>\n",
       "      <td>11.339</td>\n",
       "      <td>14.312</td>\n",
       "      <td>15.240</td>\n",
       "      <td>...</td>\n",
       "      <td>5.812</td>\n",
       "      <td>7.626</td>\n",
       "      <td>5.791</td>\n",
       "      <td>6.151</td>\n",
       "      <td>8.434</td>\n",
       "      <td>11.691</td>\n",
       "      <td>8.131</td>\n",
       "      <td>11.802</td>\n",
       "      <td>6.517</td>\n",
       "      <td>7.187</td>\n",
       "    </tr>\n",
       "    <tr>\n",
       "      <td>BXD101</td>\n",
       "      <td>13.860</td>\n",
       "      <td>14.233</td>\n",
       "      <td>14.788</td>\n",
       "      <td>14.930</td>\n",
       "      <td>14.280</td>\n",
       "      <td>14.737</td>\n",
       "      <td>14.266</td>\n",
       "      <td>11.408</td>\n",
       "      <td>14.273</td>\n",
       "      <td>15.249</td>\n",
       "      <td>...</td>\n",
       "      <td>6.260</td>\n",
       "      <td>5.005</td>\n",
       "      <td>6.183</td>\n",
       "      <td>6.585</td>\n",
       "      <td>4.471</td>\n",
       "      <td>8.518</td>\n",
       "      <td>8.082</td>\n",
       "      <td>8.531</td>\n",
       "      <td>6.810</td>\n",
       "      <td>9.852</td>\n",
       "    </tr>\n",
       "    <tr>\n",
       "      <td>BXD11</td>\n",
       "      <td>NaN</td>\n",
       "      <td>NaN</td>\n",
       "      <td>NaN</td>\n",
       "      <td>NaN</td>\n",
       "      <td>NaN</td>\n",
       "      <td>NaN</td>\n",
       "      <td>NaN</td>\n",
       "      <td>NaN</td>\n",
       "      <td>NaN</td>\n",
       "      <td>NaN</td>\n",
       "      <td>...</td>\n",
       "      <td>NaN</td>\n",
       "      <td>NaN</td>\n",
       "      <td>NaN</td>\n",
       "      <td>NaN</td>\n",
       "      <td>NaN</td>\n",
       "      <td>NaN</td>\n",
       "      <td>NaN</td>\n",
       "      <td>NaN</td>\n",
       "      <td>NaN</td>\n",
       "      <td>NaN</td>\n",
       "    </tr>\n",
       "    <tr>\n",
       "      <td>BXD12</td>\n",
       "      <td>NaN</td>\n",
       "      <td>NaN</td>\n",
       "      <td>NaN</td>\n",
       "      <td>NaN</td>\n",
       "      <td>NaN</td>\n",
       "      <td>NaN</td>\n",
       "      <td>NaN</td>\n",
       "      <td>NaN</td>\n",
       "      <td>NaN</td>\n",
       "      <td>NaN</td>\n",
       "      <td>...</td>\n",
       "      <td>NaN</td>\n",
       "      <td>NaN</td>\n",
       "      <td>NaN</td>\n",
       "      <td>NaN</td>\n",
       "      <td>NaN</td>\n",
       "      <td>NaN</td>\n",
       "      <td>NaN</td>\n",
       "      <td>NaN</td>\n",
       "      <td>NaN</td>\n",
       "      <td>NaN</td>\n",
       "    </tr>\n",
       "    <tr>\n",
       "      <td>...</td>\n",
       "      <td>...</td>\n",
       "      <td>...</td>\n",
       "      <td>...</td>\n",
       "      <td>...</td>\n",
       "      <td>...</td>\n",
       "      <td>...</td>\n",
       "      <td>...</td>\n",
       "      <td>...</td>\n",
       "      <td>...</td>\n",
       "      <td>...</td>\n",
       "      <td>...</td>\n",
       "      <td>...</td>\n",
       "      <td>...</td>\n",
       "      <td>...</td>\n",
       "      <td>...</td>\n",
       "      <td>...</td>\n",
       "      <td>...</td>\n",
       "      <td>...</td>\n",
       "      <td>...</td>\n",
       "      <td>...</td>\n",
       "      <td>...</td>\n",
       "    </tr>\n",
       "    <tr>\n",
       "      <td>BXD9</td>\n",
       "      <td>NaN</td>\n",
       "      <td>NaN</td>\n",
       "      <td>NaN</td>\n",
       "      <td>NaN</td>\n",
       "      <td>NaN</td>\n",
       "      <td>NaN</td>\n",
       "      <td>NaN</td>\n",
       "      <td>NaN</td>\n",
       "      <td>NaN</td>\n",
       "      <td>NaN</td>\n",
       "      <td>...</td>\n",
       "      <td>NaN</td>\n",
       "      <td>NaN</td>\n",
       "      <td>NaN</td>\n",
       "      <td>NaN</td>\n",
       "      <td>NaN</td>\n",
       "      <td>NaN</td>\n",
       "      <td>NaN</td>\n",
       "      <td>NaN</td>\n",
       "      <td>NaN</td>\n",
       "      <td>NaN</td>\n",
       "    </tr>\n",
       "    <tr>\n",
       "      <td>BXD90</td>\n",
       "      <td>13.831</td>\n",
       "      <td>14.201</td>\n",
       "      <td>14.770</td>\n",
       "      <td>14.926</td>\n",
       "      <td>14.237</td>\n",
       "      <td>14.729</td>\n",
       "      <td>14.219</td>\n",
       "      <td>11.284</td>\n",
       "      <td>14.228</td>\n",
       "      <td>15.183</td>\n",
       "      <td>...</td>\n",
       "      <td>6.388</td>\n",
       "      <td>6.113</td>\n",
       "      <td>6.416</td>\n",
       "      <td>6.802</td>\n",
       "      <td>6.107</td>\n",
       "      <td>7.867</td>\n",
       "      <td>4.913</td>\n",
       "      <td>7.899</td>\n",
       "      <td>5.990</td>\n",
       "      <td>10.308</td>\n",
       "    </tr>\n",
       "    <tr>\n",
       "      <td>BXD95</td>\n",
       "      <td>13.822</td>\n",
       "      <td>14.228</td>\n",
       "      <td>14.744</td>\n",
       "      <td>14.847</td>\n",
       "      <td>14.312</td>\n",
       "      <td>14.686</td>\n",
       "      <td>14.300</td>\n",
       "      <td>11.407</td>\n",
       "      <td>14.304</td>\n",
       "      <td>15.194</td>\n",
       "      <td>...</td>\n",
       "      <td>5.275</td>\n",
       "      <td>5.385</td>\n",
       "      <td>5.123</td>\n",
       "      <td>5.478</td>\n",
       "      <td>5.612</td>\n",
       "      <td>11.583</td>\n",
       "      <td>5.070</td>\n",
       "      <td>11.735</td>\n",
       "      <td>6.090</td>\n",
       "      <td>9.969</td>\n",
       "    </tr>\n",
       "    <tr>\n",
       "      <td>BXD98</td>\n",
       "      <td>13.825</td>\n",
       "      <td>14.249</td>\n",
       "      <td>14.765</td>\n",
       "      <td>14.889</td>\n",
       "      <td>14.270</td>\n",
       "      <td>14.701</td>\n",
       "      <td>14.242</td>\n",
       "      <td>11.333</td>\n",
       "      <td>14.252</td>\n",
       "      <td>15.188</td>\n",
       "      <td>...</td>\n",
       "      <td>6.940</td>\n",
       "      <td>5.482</td>\n",
       "      <td>6.824</td>\n",
       "      <td>7.226</td>\n",
       "      <td>5.587</td>\n",
       "      <td>11.901</td>\n",
       "      <td>7.657</td>\n",
       "      <td>12.044</td>\n",
       "      <td>6.594</td>\n",
       "      <td>9.686</td>\n",
       "    </tr>\n",
       "    <tr>\n",
       "      <td>BXD99</td>\n",
       "      <td>13.894</td>\n",
       "      <td>14.313</td>\n",
       "      <td>14.850</td>\n",
       "      <td>15.008</td>\n",
       "      <td>14.351</td>\n",
       "      <td>14.786</td>\n",
       "      <td>14.341</td>\n",
       "      <td>11.250</td>\n",
       "      <td>14.334</td>\n",
       "      <td>15.244</td>\n",
       "      <td>...</td>\n",
       "      <td>6.616</td>\n",
       "      <td>6.029</td>\n",
       "      <td>6.529</td>\n",
       "      <td>7.036</td>\n",
       "      <td>5.848</td>\n",
       "      <td>11.655</td>\n",
       "      <td>7.662</td>\n",
       "      <td>11.849</td>\n",
       "      <td>9.375</td>\n",
       "      <td>13.888</td>\n",
       "    </tr>\n",
       "  </tbody>\n",
       "</table>\n",
       "<p>72 rows × 26205 columns</p>\n",
       "</div>"
      ],
      "text/plain": [
       "gene    Ube2d3_10469772  Ube2d3_10605349  ATP6_10598043  ND4L_10598059  \\\n",
       "BXD1                NaN              NaN            NaN            NaN   \n",
       "BXD100           13.815           14.281         14.806         14.941   \n",
       "BXD101           13.860           14.233         14.788         14.930   \n",
       "BXD11               NaN              NaN            NaN            NaN   \n",
       "BXD12               NaN              NaN            NaN            NaN   \n",
       "...                 ...              ...            ...            ...   \n",
       "BXD9                NaN              NaN            NaN            NaN   \n",
       "BXD90            13.831           14.201         14.770         14.926   \n",
       "BXD95            13.822           14.228         14.744         14.847   \n",
       "BXD98            13.825           14.249         14.765         14.889   \n",
       "BXD99            13.894           14.313         14.850         15.008   \n",
       "\n",
       "gene    Tpt1_10546702  ATP6_10353626  Tpt1_10601264  Sgta_10371041  \\\n",
       "BXD1              NaN            NaN            NaN            NaN   \n",
       "BXD100         14.316         14.754         14.322         11.339   \n",
       "BXD101         14.280         14.737         14.266         11.408   \n",
       "BXD11             NaN            NaN            NaN            NaN   \n",
       "BXD12             NaN            NaN            NaN            NaN   \n",
       "...               ...            ...            ...            ...   \n",
       "BXD9              NaN            NaN            NaN            NaN   \n",
       "BXD90          14.237         14.729         14.219         11.284   \n",
       "BXD95          14.312         14.686         14.300         11.407   \n",
       "BXD98          14.270         14.701         14.242         11.333   \n",
       "BXD99          14.351         14.786         14.341         11.250   \n",
       "\n",
       "gene    Tpt1_10416496  CYTB_10598069  ...  Mup2_10513437  Ube2g1_10342768  \\\n",
       "BXD1              NaN            NaN  ...            NaN              NaN   \n",
       "BXD100         14.312         15.240  ...          5.812            7.626   \n",
       "BXD101         14.273         15.249  ...          6.260            5.005   \n",
       "BXD11             NaN            NaN  ...            NaN              NaN   \n",
       "BXD12             NaN            NaN  ...            NaN              NaN   \n",
       "...               ...            ...  ...            ...              ...   \n",
       "BXD9              NaN            NaN  ...            NaN              NaN   \n",
       "BXD90          14.228         15.183  ...          6.388            6.113   \n",
       "BXD95          14.304         15.194  ...          5.275            5.385   \n",
       "BXD98          14.252         15.188  ...          6.940            5.482   \n",
       "BXD99          14.334         15.244  ...          6.616            6.029   \n",
       "\n",
       "gene    Mup2_10513455  Mup7_10513420  Ube2g1_10343119  Fbxw11_10375123  \\\n",
       "BXD1              NaN            NaN              NaN              NaN   \n",
       "BXD100          5.791          6.151            8.434           11.691   \n",
       "BXD101          6.183          6.585            4.471            8.518   \n",
       "BXD11             NaN            NaN              NaN              NaN   \n",
       "BXD12             NaN            NaN              NaN              NaN   \n",
       "...               ...            ...              ...              ...   \n",
       "BXD9              NaN            NaN              NaN              NaN   \n",
       "BXD90           6.416          6.802            6.107            7.867   \n",
       "BXD95           5.123          5.478            5.612           11.583   \n",
       "BXD98           6.824          7.226            5.587           11.901   \n",
       "BXD99           6.529          7.036            5.848           11.655   \n",
       "\n",
       "gene    Dlg1_10338109  Fbxw11_10375121  H2-Ea-ps_10450161  Mela_10582545  \n",
       "BXD1              NaN              NaN                NaN            NaN  \n",
       "BXD100          8.131           11.802              6.517          7.187  \n",
       "BXD101          8.082            8.531              6.810          9.852  \n",
       "BXD11             NaN              NaN                NaN            NaN  \n",
       "BXD12             NaN              NaN                NaN            NaN  \n",
       "...               ...              ...                ...            ...  \n",
       "BXD9              NaN              NaN                NaN            NaN  \n",
       "BXD90           4.913            7.899              5.990         10.308  \n",
       "BXD95           5.070           11.735              6.090          9.969  \n",
       "BXD98           7.657           12.044              6.594          9.686  \n",
       "BXD99           7.662           11.849              9.375         13.888  \n",
       "\n",
       "[72 rows x 26205 columns]"
      ]
     },
     "execution_count": 316,
     "metadata": {},
     "output_type": "execute_result"
    }
   ],
   "source": [
    "signal"
   ]
  },
  {
   "cell_type": "code",
   "execution_count": 289,
   "metadata": {},
   "outputs": [],
   "source": [
    "# Filter y_binary to take into account nan filtering\n",
    "y_fourC = y_fourC[y_fourC.index.isin(sign.index)]"
   ]
  },
  {
   "cell_type": "code",
   "execution_count": 290,
   "metadata": {},
   "outputs": [
    {
     "data": {
      "text/plain": [
       "True"
      ]
     },
     "execution_count": 290,
     "metadata": {},
     "output_type": "execute_result"
    }
   ],
   "source": [
    "# Are both index the same ?\n",
    "(y_fourC.index == sign.index).all()"
   ]
  },
  {
   "cell_type": "code",
   "execution_count": 291,
   "metadata": {},
   "outputs": [],
   "source": [
    "# Transfrom to np.array\n",
    "sign_np = sign.values"
   ]
  },
  {
   "cell_type": "code",
   "execution_count": 292,
   "metadata": {},
   "outputs": [],
   "source": [
    "# Transfrom to np.array\n",
    "sign_np = sign.values\n",
    "y_f = y_fourC.values"
   ]
  },
  {
   "cell_type": "code",
   "execution_count": 293,
   "metadata": {},
   "outputs": [
    {
     "data": {
      "text/plain": [
       "(40, 10000)"
      ]
     },
     "execution_count": 293,
     "metadata": {},
     "output_type": "execute_result"
    }
   ],
   "source": [
    "sign_np.shape"
   ]
  },
  {
   "cell_type": "code",
   "execution_count": 202,
   "metadata": {},
   "outputs": [],
   "source": [
    "# Build the training/testing data\n",
    "features = th.tensor(sign_np)\n",
    "labels = th.tensor(y_b)"
   ]
  },
  {
   "cell_type": "code",
   "execution_count": null,
   "metadata": {},
   "outputs": [],
   "source": []
  }
 ],
 "metadata": {
  "kernelspec": {
   "display_name": "Python 3",
   "language": "python",
   "name": "python3"
  }
 },
 "nbformat": 4,
 "nbformat_minor": 2
}
