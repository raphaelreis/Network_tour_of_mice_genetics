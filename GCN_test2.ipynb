{
 "cells": [
  {
   "cell_type": "code",
   "execution_count": 2,
   "metadata": {},
   "outputs": [],
   "source": [
    "\n",
    "\n",
    "import pandas as pd\n",
    "import numpy as np\n",
    "import matplotlib.pyplot as plt\n",
    "import networkx as nx\n",
    "from tabulate import tabulate\n",
    "\n",
    "\n",
    "from pygsp import graphs, filters, plotting\n",
    "from scipy.spatial.distance import pdist, squareform\n",
    "from scipy.stats import norm\n",
    "import scipy\n",
    "import matplotlib\n",
    "import utils\n",
    "\n",
    "\n",
    "\n",
    "import dgl\n",
    "import dgl.function as fn\n",
    "import torch as th\n",
    "import torch.nn as nn\n",
    "import torch.nn.functional as F\n",
    "from dgl import DGLGraph\n",
    "\n",
    "import time\n",
    "\n",
    "from sklearn.metrics import classification_report"
   ]
  },
  {
   "cell_type": "code",
   "execution_count": 3,
   "metadata": {},
   "outputs": [],
   "source": [
    "gcn_message = fn.copy_src(src='h', out='m')\n",
    "gcn_reduce = fn.sum(msg='m', out='h')"
   ]
  },
  {
   "cell_type": "code",
   "execution_count": 4,
   "metadata": {},
   "outputs": [],
   "source": [
    "# Define the GCNLayer module\n",
    "class GCNLayer(nn.Module):\n",
    "    def __init__(self, in_feats, out_feats):\n",
    "        super(GCNLayer, self).__init__()\n",
    "        self.linear = nn.Linear(in_feats, out_feats)\n",
    "\n",
    "    def forward(self, g, inputs):\n",
    "        # g is the graph and the inputs is the input node features\n",
    "        # first set the node features\n",
    "        g.ndata['h'] = inputs\n",
    "        # trigger message passing on all edges\n",
    "        g.send(g.edges(), gcn_message)\n",
    "        # trigger aggregation at all nodes\n",
    "        g.recv(g.nodes(), gcn_reduce)\n",
    "        # get the result node features\n",
    "        h = g.ndata.pop('h')\n",
    "        # perform linear transformation\n",
    "        return self.linear(h)"
   ]
  },
  {
   "cell_type": "code",
   "execution_count": 5,
   "metadata": {},
   "outputs": [],
   "source": [
    "# Define a 2-layer GCN model\n",
    "class GCN(nn.Module):\n",
    "    def __init__(self, in_feats, hidden_size, num_classes):\n",
    "        super(GCN, self).__init__()\n",
    "        self.gcn1 = GCNLayer(in_feats, hidden_size)\n",
    "        self.gcn2 = GCNLayer(hidden_size, num_classes)\n",
    "\n",
    "    def forward(self, g, inputs):\n",
    "        h = self.gcn1(g, inputs.float())\n",
    "        h = th.relu(h)\n",
    "        m = nn.Dropout(p=0.2)\n",
    "        h = m(h)\n",
    "        h = self.gcn2(g, h)\n",
    "        return h\n",
    "# The first layer transforms input features of size of 30 to a hidden size of 5.\n",
    "# The second layer transforms the hidden layer and produces output features of\n",
    "# size 2, corresponding to the two groups of the karate club."
   ]
  },
  {
   "cell_type": "code",
   "execution_count": 6,
   "metadata": {},
   "outputs": [],
   "source": [
    "# TRAINING / evaluating\n",
    "\n",
    "def train(model, g, features, labels, loss_fcn, train_mask, optimizer):\n",
    "    model.train()  # Activate dropout\n",
    "    \n",
    "    logits = model(g, features).float()\n",
    "    loss = loss_fcn(logits[train_mask], labels[train_mask])\n",
    "\n",
    "    optimizer.zero_grad()\n",
    "    loss.backward()\n",
    "    optimizer.step()\n",
    "    return loss\n",
    "\n",
    "def evaluate(model, g, features, labels, mask, report=False):\n",
    "    model.eval()  # Deactivate dropout\n",
    "    with th.no_grad():\n",
    "        logits = model(g, features)[mask]  # only compute the evaluation set\n",
    "        labels = labels[mask]\n",
    "        _, indices = th.max(logits, dim=1)\n",
    "#         print(indices, labels)\n",
    "        correct = th.sum(indices == labels)\n",
    "        if report == True:\n",
    "            return correct.item() * 1.0 / len(labels), classification_report(labels, indices)\n",
    "        return correct.item() * 1.0 / len(labels)\n",
    "    "
   ]
  },
  {
   "cell_type": "code",
   "execution_count": 7,
   "metadata": {},
   "outputs": [],
   "source": [
    "# Build the target\n",
    "# genotype_gene_expression_present_df = pd.read_pickle(\"data/pickle/genotype_gene_expression_present_df.pkl\")\n",
    "phenotype_df = pd.read_pickle(\"data/pickle/phenotype.pkl\")\n",
    "y = phenotype_df.loc['X62'].dropna().astype('int64')"
   ]
  },
  {
   "cell_type": "code",
   "execution_count": 8,
   "metadata": {},
   "outputs": [],
   "source": [
    "# Build the relevant high variance signals\n",
    "gene_expression_df = pd.read_pickle(\"data/pickle/concat_gene_expression.pkl\")"
   ]
  },
  {
   "cell_type": "code",
   "execution_count": 9,
   "metadata": {},
   "outputs": [],
   "source": [
    "gene_expr = gene_expression_df.copy(deep=True)\n",
    "gene_expr = gene_expr.loc[:, gene_expr.isna().sum(axis=0) < 30]\n",
    "gene_expr = gene_expr.loc[y.index]\n",
    "top_var = 25\n",
    "# top_var_gene = gene_expr.std().sort_values()\n",
    "top_var_gene = gene_expr.std().sort_values().tail(top_var)"
   ]
  },
  {
   "cell_type": "code",
   "execution_count": 10,
   "metadata": {},
   "outputs": [],
   "source": [
    "signal = gene_expression_df.copy(deep=True)\n",
    "signal = signal.loc[:, top_var_gene.index]\n",
    "signal = signal.groupby(by=signal.columns, axis=1).mean()"
   ]
  },
  {
   "cell_type": "code",
   "execution_count": 11,
   "metadata": {},
   "outputs": [
    {
     "data": {
      "text/plain": [
       "(94, 17)"
      ]
     },
     "execution_count": 11,
     "metadata": {},
     "output_type": "execute_result"
    }
   ],
   "source": [
    "signal.shape"
   ]
  },
  {
   "cell_type": "code",
   "execution_count": 12,
   "metadata": {},
   "outputs": [
    {
     "data": {
      "text/plain": [
       "1    30\n",
       "2    23\n",
       "4    19\n",
       "3    18\n",
       "Name: X62, dtype: int64"
      ]
     },
     "execution_count": 12,
     "metadata": {},
     "output_type": "execute_result"
    }
   ],
   "source": [
    "# What are the most present labels ?\n",
    "y.value_counts()"
   ]
  },
  {
   "cell_type": "markdown",
   "metadata": {},
   "source": [
    "# Two classes evaluation"
   ]
  },
  {
   "cell_type": "code",
   "execution_count": 13,
   "metadata": {},
   "outputs": [],
   "source": [
    "# Select only the mice that have label 1 or 2. We chose it because they are the most present\n",
    "y_binary = y.copy(deep=True)\n",
    "y_binary = y_binary.loc[(y.values == 1) | (y.values == 2)]"
   ]
  },
  {
   "cell_type": "code",
   "execution_count": 14,
   "metadata": {},
   "outputs": [],
   "source": [
    "# Drop the rows with only nan values\n",
    "sign = signal.copy(deep=True)\n",
    "sign = sign.loc[y_binary.index]\n",
    "sign.fillna(sign.mean(), inplace=True)"
   ]
  },
  {
   "cell_type": "code",
   "execution_count": 15,
   "metadata": {},
   "outputs": [],
   "source": [
    "# Filter y_binary to take into account nan filtering\n",
    "y_binary = y_binary.loc[sign.index]"
   ]
  },
  {
   "cell_type": "code",
   "execution_count": 16,
   "metadata": {},
   "outputs": [
    {
     "data": {
      "text/plain": [
       "True"
      ]
     },
     "execution_count": 16,
     "metadata": {},
     "output_type": "execute_result"
    }
   ],
   "source": [
    "# Are both index the same ?\n",
    "(y_binary.index == sign.index).all()"
   ]
  },
  {
   "cell_type": "code",
   "execution_count": 17,
   "metadata": {},
   "outputs": [],
   "source": [
    "# Transfrom to np.array\n",
    "sign_np = sign.values\n",
    "y_b = y_binary.values"
   ]
  },
  {
   "cell_type": "code",
   "execution_count": 18,
   "metadata": {},
   "outputs": [],
   "source": [
    "# Build the training/testing data\n",
    "features = th.tensor(sign_np)\n",
    "labels = th.tensor(y_b)"
   ]
  },
  {
   "cell_type": "code",
   "execution_count": 20,
   "metadata": {},
   "outputs": [],
   "source": [
    "# Restart classes from 0\n",
    "labels[labels == 1] = 0\n",
    "labels[labels == 2] = 1"
   ]
  },
  {
   "cell_type": "code",
   "execution_count": 211,
   "metadata": {},
   "outputs": [
    {
     "name": "stdout",
     "output_type": "stream",
     "text": [
      "train_size: 30 | test_size: 13 | val_size: 10\n"
     ]
    }
   ],
   "source": [
    "# Split the data into train / test / validation\n",
    "test_p = 0.25\n",
    "val_p = 0.25\n",
    "test_size = int(len(labels)*test_p)\n",
    "val_size = int((len(labels) - test_size) * val_p)\n",
    "random_idx = th.randperm(len(labels))\n",
    "not_test_mask = random_idx[test_size:]\n",
    "\n",
    "\n",
    "# Test mask\n",
    "test_mask = random_idx[:test_size]\n",
    "\n",
    "# Train masks\n",
    "train_random_idx = th.randperm(len(not_test_mask))\n",
    "train_mask = not_test_mask[train_random_idx[val_size:]]\n",
    "val_mask = not_test_mask[train_random_idx[:val_size]]\n",
    "\n",
    "\n",
    "print(\"train_size: %i | test_size: %i | val_size: %i\" % (len(labels) - test_size - val_size, test_size, val_size))"
   ]
  },
  {
   "cell_type": "code",
   "execution_count": 212,
   "metadata": {},
   "outputs": [],
   "source": [
    "# Build a graph adjacency for the subsample and mice labeled as 1 and 4\n",
    "genotype_df = pd.read_pickle('data/pickle/genotype_df.pkl')\n",
    "adj = utils.build_adj_from_strain(genotype_df, sign.index, 'cosine', 70, 0.266)"
   ]
  },
  {
   "cell_type": "code",
   "execution_count": 213,
   "metadata": {},
   "outputs": [
    {
     "name": "stderr",
     "output_type": "stream",
     "text": [
      "/Users/Raphael/anaconda3/envs/ntds_2019/lib/python3.7/site-packages/networkx/drawing/nx_pylab.py:579: MatplotlibDeprecationWarning: \n",
      "The iterable function was deprecated in Matplotlib 3.1 and will be removed in 3.3. Use np.iterable instead.\n",
      "  if not cb.iterable(width):\n"
     ]
    },
    {
     "data": {
      "image/png": "[encoded data removed]",
      "text/plain": [
       "<Figure size 432x288 with 1 Axes>"
      ]
     },
     "metadata": {},
     "output_type": "display_data"
    }
   ],
   "source": [
    "nx.draw(nx.from_numpy_array(adj))"
   ]
  },
  {
   "cell_type": "code",
   "execution_count": 214,
   "metadata": {},
   "outputs": [
    {
     "name": "stdout",
     "output_type": "stream",
     "text": [
      "╒═════════════════════════════════════════════════╤════════╕\n",
      "│ Number of nodes                                 │  53    │\n",
      "├─────────────────────────────────────────────────┼────────┤\n",
      "│ Number of edges                                 │ 311    │\n",
      "├─────────────────────────────────────────────────┼────────┤\n",
      "│ Graph density                                   │  22.57 │\n",
      "├─────────────────────────────────────────────────┼────────┤\n",
      "│ Average degree                                  │  11.74 │\n",
      "├─────────────────────────────────────────────────┼────────┤\n",
      "│ Number of connected components                  │   1    │\n",
      "├─────────────────────────────────────────────────┼────────┤\n",
      "│ Average clustering coefficient                  │   0.39 │\n",
      "├─────────────────────────────────────────────────┼────────┤\n",
      "│ Diameter of the network (longest shortest path) │   4    │\n",
      "╘═════════════════════════════════════════════════╧════════╛\n"
     ]
    }
   ],
   "source": [
    "utils.graph_basic_stats(nx.from_numpy_array(adj))"
   ]
  },
  {
   "cell_type": "code",
   "execution_count": 127,
   "metadata": {},
   "outputs": [],
   "source": [
    "graph = DGLGraph(adj)"
   ]
  },
  {
   "cell_type": "code",
   "execution_count": 128,
   "metadata": {},
   "outputs": [],
   "source": [
    "model = GCN(sign_np.shape[1], 5, 2)"
   ]
  },
  {
   "cell_type": "code",
   "execution_count": 129,
   "metadata": {},
   "outputs": [],
   "source": [
    "pol_order = 3\n",
    "lr = 0.5\n",
    "weight_decay = 5e-6\n",
    "n_epochs = 100\n",
    "p_dropout = 0.2"
   ]
  },
  {
   "cell_type": "code",
   "execution_count": 130,
   "metadata": {},
   "outputs": [
    {
     "name": "stderr",
     "output_type": "stream",
     "text": [
      "/Users/Raphael/anaconda3/envs/ntds_2019/lib/python3.7/site-packages/numpy/core/fromnumeric.py:2920: RuntimeWarning: Mean of empty slice.\n",
      "  out=out, **kwargs)\n",
      "/Users/Raphael/anaconda3/envs/ntds_2019/lib/python3.7/site-packages/numpy/core/_methods.py:85: RuntimeWarning: invalid value encountered in double_scalars\n",
      "  ret = ret.dtype.type(ret / rcount)\n"
     ]
    },
    {
     "name": "stdout",
     "output_type": "stream",
     "text": [
      "Epoch 00000 | Time(s) nan | Train Loss 373.2446 | Val Accuracy 0.2000\n",
      "Epoch 00001 | Time(s) nan | Train Loss 0.7418 | Val Accuracy 0.2000\n",
      "Epoch 00002 | Time(s) nan | Train Loss 0.8221 | Val Accuracy 0.2000\n",
      "Epoch 00003 | Time(s) 0.0153 | Train Loss 0.8196 | Val Accuracy 0.2000\n",
      "Epoch 00004 | Time(s) 0.0163 | Train Loss 0.7669 | Val Accuracy 0.2000\n",
      "Epoch 00005 | Time(s) 0.0162 | Train Loss 0.7133 | Val Accuracy 0.8000\n",
      "Epoch 00006 | Time(s) 0.0158 | Train Loss 0.6910 | Val Accuracy 0.8000\n",
      "Epoch 00007 | Time(s) 0.0150 | Train Loss 0.7034 | Val Accuracy 0.8000\n",
      "Epoch 00008 | Time(s) 0.0150 | Train Loss 0.7294 | Val Accuracy 0.8000\n",
      "Epoch 00009 | Time(s) 0.0151 | Train Loss 0.7461 | Val Accuracy 0.8000\n",
      "Epoch 00010 | Time(s) 0.0147 | Train Loss 0.7436 | Val Accuracy 0.8000\n",
      "Epoch 00011 | Time(s) 0.0148 | Train Loss 0.7263 | Val Accuracy 0.8000\n",
      "Epoch 00012 | Time(s) 0.0143 | Train Loss 0.7054 | Val Accuracy 0.8000\n",
      "Epoch 00013 | Time(s) 0.0140 | Train Loss 0.6925 | Val Accuracy 0.8000\n",
      "Epoch 00014 | Time(s) 0.0138 | Train Loss 0.6926 | Val Accuracy 0.2000\n",
      "Epoch 00015 | Time(s) 0.0136 | Train Loss 0.7025 | Val Accuracy 0.2000\n",
      "Epoch 00016 | Time(s) 0.0136 | Train Loss 0.7129 | Val Accuracy 0.2000\n",
      "Epoch 00017 | Time(s) 0.0136 | Train Loss 0.7165 | Val Accuracy 0.2000\n",
      "Epoch 00018 | Time(s) 0.0136 | Train Loss 0.7114 | Val Accuracy 0.2000\n",
      "Epoch 00019 | Time(s) 0.0136 | Train Loss 0.7017 | Val Accuracy 0.2000\n",
      "Epoch 00020 | Time(s) 0.0135 | Train Loss 0.6934 | Val Accuracy 0.8000\n",
      "Epoch 00021 | Time(s) 0.0132 | Train Loss 0.6910 | Val Accuracy 0.8000\n",
      "Epoch 00022 | Time(s) 0.0131 | Train Loss 0.6943 | Val Accuracy 0.8000\n",
      "Epoch 00023 | Time(s) 0.0132 | Train Loss 0.6997 | Val Accuracy 0.8000\n",
      "Epoch 00024 | Time(s) 0.0131 | Train Loss 0.7029 | Val Accuracy 0.8000\n",
      "Epoch 00025 | Time(s) 0.0131 | Train Loss 0.7020 | Val Accuracy 0.8000\n",
      "Epoch 00026 | Time(s) 0.0130 | Train Loss 0.6977 | Val Accuracy 0.8000\n",
      "Epoch 00027 | Time(s) 0.0130 | Train Loss 0.6931 | Val Accuracy 0.8000\n",
      "Epoch 00028 | Time(s) 0.0130 | Train Loss 0.6910 | Val Accuracy 0.8000\n",
      "Epoch 00029 | Time(s) 0.0129 | Train Loss 0.6920 | Val Accuracy 0.2000\n",
      "Epoch 00030 | Time(s) 0.0129 | Train Loss 0.6947 | Val Accuracy 0.2000\n",
      "Epoch 00031 | Time(s) 0.0128 | Train Loss 0.6967 | Val Accuracy 0.2000\n",
      "Epoch 00032 | Time(s) 0.0127 | Train Loss 0.6965 | Val Accuracy 0.2000\n",
      "Epoch 00033 | Time(s) 0.0126 | Train Loss 0.6944 | Val Accuracy 0.8000\n",
      "Epoch 00034 | Time(s) 0.0125 | Train Loss 0.6920 | Val Accuracy 0.8000\n",
      "Epoch 00035 | Time(s) 0.0126 | Train Loss 0.6909 | Val Accuracy 0.8000\n",
      "Epoch 00036 | Time(s) 0.0125 | Train Loss 0.6916 | Val Accuracy 0.8000\n",
      "Epoch 00037 | Time(s) 0.0126 | Train Loss 0.6930 | Val Accuracy 0.8000\n",
      "Epoch 00038 | Time(s) 0.0127 | Train Loss 0.6939 | Val Accuracy 0.8000\n",
      "Epoch 00039 | Time(s) 0.0127 | Train Loss 0.6936 | Val Accuracy 0.8000\n",
      "Epoch 00040 | Time(s) 0.0127 | Train Loss 0.6924 | Val Accuracy 0.8000\n",
      "Epoch 00041 | Time(s) 0.0127 | Train Loss 0.6912 | Val Accuracy 0.8000\n",
      "Epoch 00042 | Time(s) 0.0127 | Train Loss 0.6909 | Val Accuracy 0.8000\n",
      "Epoch 00043 | Time(s) 0.0129 | Train Loss 0.6915 | Val Accuracy 0.8000\n",
      "Epoch 00044 | Time(s) 0.0129 | Train Loss 0.6922 | Val Accuracy 0.8000\n",
      "Epoch 00045 | Time(s) 0.0128 | Train Loss 0.6925 | Val Accuracy 0.8000\n",
      "Epoch 00046 | Time(s) 0.0128 | Train Loss 0.6921 | Val Accuracy 0.8000\n",
      "Epoch 00047 | Time(s) 0.0128 | Train Loss 0.6914 | Val Accuracy 0.8000\n",
      "Epoch 00048 | Time(s) 0.0128 | Train Loss 0.6909 | Val Accuracy 0.8000\n",
      "Epoch 00049 | Time(s) 0.0127 | Train Loss 0.6911 | Val Accuracy 0.8000\n",
      "Epoch 00050 | Time(s) 0.0127 | Train Loss 0.6915 | Val Accuracy 0.8000\n",
      "Epoch 00051 | Time(s) 0.0126 | Train Loss 0.6917 | Val Accuracy 0.8000\n",
      "Epoch 00052 | Time(s) 0.0127 | Train Loss 0.6916 | Val Accuracy 0.8000\n",
      "Epoch 00053 | Time(s) 0.0127 | Train Loss 0.6913 | Val Accuracy 0.8000\n",
      "Epoch 00054 | Time(s) 0.0126 | Train Loss 0.6910 | Val Accuracy 0.8000\n",
      "Epoch 00055 | Time(s) 0.0126 | Train Loss 0.6910 | Val Accuracy 0.8000\n",
      "Epoch 00056 | Time(s) 0.0127 | Train Loss 0.6912 | Val Accuracy 0.8000\n",
      "Epoch 00057 | Time(s) 0.0127 | Train Loss 0.6914 | Val Accuracy 0.8000\n",
      "Epoch 00058 | Time(s) 0.0127 | Train Loss 0.6913 | Val Accuracy 0.8000\n",
      "Epoch 00059 | Time(s) 0.0127 | Train Loss 0.6911 | Val Accuracy 0.8000\n",
      "Epoch 00060 | Time(s) 0.0128 | Train Loss 0.6910 | Val Accuracy 0.8000\n",
      "Epoch 00061 | Time(s) 0.0128 | Train Loss 0.6909 | Val Accuracy 0.8000\n",
      "Epoch 00062 | Time(s) 0.0129 | Train Loss 0.6910 | Val Accuracy 0.8000\n",
      "Epoch 00063 | Time(s) 0.0129 | Train Loss 0.6912 | Val Accuracy 0.8000\n",
      "Epoch 00064 | Time(s) 0.0130 | Train Loss 0.6911 | Val Accuracy 0.8000\n",
      "Epoch 00065 | Time(s) 0.0131 | Train Loss 0.6910 | Val Accuracy 0.8000\n",
      "Epoch 00066 | Time(s) 0.0131 | Train Loss 0.6909 | Val Accuracy 0.8000\n",
      "Epoch 00067 | Time(s) 0.0131 | Train Loss 0.6909 | Val Accuracy 0.8000\n",
      "Epoch 00068 | Time(s) 0.0131 | Train Loss 0.6910 | Val Accuracy 0.8000\n",
      "Epoch 00069 | Time(s) 0.0131 | Train Loss 0.6911 | Val Accuracy 0.8000\n",
      "Epoch 00070 | Time(s) 0.0131 | Train Loss 0.6910 | Val Accuracy 0.8000\n",
      "Epoch 00071 | Time(s) 0.0131 | Train Loss 0.6910 | Val Accuracy 0.8000\n",
      "Epoch 00072 | Time(s) 0.0131 | Train Loss 0.6909 | Val Accuracy 0.8000\n",
      "Epoch 00073 | Time(s) 0.0131 | Train Loss 0.6909 | Val Accuracy 0.8000\n",
      "Epoch 00074 | Time(s) 0.0131 | Train Loss 0.6910 | Val Accuracy 0.8000\n",
      "Epoch 00075 | Time(s) 0.0131 | Train Loss 0.6910 | Val Accuracy 0.8000\n",
      "Epoch 00076 | Time(s) 0.0131 | Train Loss 0.6910 | Val Accuracy 0.8000\n",
      "Epoch 00077 | Time(s) 0.0131 | Train Loss 0.6909 | Val Accuracy 0.8000\n",
      "Epoch 00078 | Time(s) 0.0132 | Train Loss 0.6909 | Val Accuracy 0.8000\n",
      "Epoch 00079 | Time(s) 0.0132 | Train Loss 0.6909 | Val Accuracy 0.8000\n",
      "Epoch 00080 | Time(s) 0.0132 | Train Loss 0.6910 | Val Accuracy 0.8000\n",
      "Epoch 00081 | Time(s) 0.0133 | Train Loss 0.6910 | Val Accuracy 0.8000\n",
      "Epoch 00082 | Time(s) 0.0133 | Train Loss 0.6909 | Val Accuracy 0.8000\n",
      "Epoch 00083 | Time(s) 0.0132 | Train Loss 0.6909 | Val Accuracy 0.8000\n",
      "Epoch 00084 | Time(s) 0.0132 | Train Loss 0.6909 | Val Accuracy 0.8000\n",
      "Epoch 00085 | Time(s) 0.0132 | Train Loss 0.6909 | Val Accuracy 0.8000\n",
      "Epoch 00086 | Time(s) 0.0132 | Train Loss 0.6909 | Val Accuracy 0.8000\n",
      "Epoch 00087 | Time(s) 0.0132 | Train Loss 0.6909 | Val Accuracy 0.8000\n",
      "Epoch 00088 | Time(s) 0.0132 | Train Loss 0.6909 | Val Accuracy 0.8000\n",
      "Epoch 00089 | Time(s) 0.0132 | Train Loss 0.6909 | Val Accuracy 0.8000\n",
      "Epoch 00090 | Time(s) 0.0132 | Train Loss 0.6909 | Val Accuracy 0.8000\n",
      "Epoch 00091 | Time(s) 0.0132 | Train Loss 0.6909 | Val Accuracy 0.8000\n",
      "Epoch 00092 | Time(s) 0.0132 | Train Loss 0.6909 | Val Accuracy 0.8000\n",
      "Epoch 00093 | Time(s) 0.0132 | Train Loss 0.6909 | Val Accuracy 0.8000\n",
      "Epoch 00094 | Time(s) 0.0132 | Train Loss 0.6909 | Val Accuracy 0.8000\n",
      "Epoch 00095 | Time(s) 0.0133 | Train Loss 0.6909 | Val Accuracy 0.8000\n",
      "Epoch 00096 | Time(s) 0.0133 | Train Loss 0.6909 | Val Accuracy 0.8000\n",
      "Epoch 00097 | Time(s) 0.0133 | Train Loss 0.6909 | Val Accuracy 0.8000\n",
      "Epoch 00098 | Time(s) 0.0134 | Train Loss 0.6909 | Val Accuracy 0.8000\n",
      "Epoch 00099 | Time(s) 0.0134 | Train Loss 0.6909 | Val Accuracy 0.8000\n",
      "\n",
      "Test Accuracy 0.4615\n",
      "              precision    recall  f1-score   support\n",
      "\n",
      "           0       0.46      1.00      0.63         6\n",
      "           1       0.00      0.00      0.00         7\n",
      "\n",
      "    accuracy                           0.46        13\n",
      "   macro avg       0.23      0.50      0.32        13\n",
      "weighted avg       0.21      0.46      0.29        13\n",
      "\n"
     ]
    },
    {
     "name": "stderr",
     "output_type": "stream",
     "text": [
      "/Users/Raphael/anaconda3/envs/ntds_2019/lib/python3.7/site-packages/sklearn/metrics/classification.py:1437: UndefinedMetricWarning: Precision and F-score are ill-defined and being set to 0.0 in labels with no predicted samples.\n",
      "  'precision', 'predicted', average, warn_for)\n"
     ]
    }
   ],
   "source": [
    "loss_fcn = th.nn.CrossEntropyLoss()\n",
    "optimizer = th.optim.Adam(model.parameters(),\\\n",
    "                          lr=lr, weight_decay=weight_decay)\n",
    "\n",
    "dur = []\n",
    "for epoch in range(n_epochs):\n",
    "    if epoch >= 3:\n",
    "        t0 = time.time()\n",
    "    loss = train(model, graph, features, labels, loss_fcn, train_mask, optimizer)\n",
    "    if epoch >= 3:\n",
    "        dur.append(time.time() - t0)\n",
    "\n",
    "    acc = evaluate(model, graph, features, labels, val_mask)\n",
    "    print(\"Epoch {:05d} | Time(s) {:.4f} | Train Loss {:.4f} | Val Accuracy {:.4f}\". format(\n",
    "            epoch, np.mean(dur), loss.item(), acc))\n",
    "\n",
    "print()\n",
    "acc, report = evaluate(model, graph, features, labels, test_mask, report=True)\n",
    "print(\"Test Accuracy {:.4f}\".format(acc))\n",
    "print(report)"
   ]
  },
  {
   "cell_type": "code",
   "execution_count": 131,
   "metadata": {},
   "outputs": [
    {
     "data": {
      "text/plain": [
       "tensor([0, 1, 1, 1, 1, 0, 1, 1, 1, 0, 0, 0, 0])"
      ]
     },
     "execution_count": 131,
     "metadata": {},
     "output_type": "execute_result"
    }
   ],
   "source": [
    "labels[test_mask]"
   ]
  },
  {
   "cell_type": "markdown",
   "metadata": {},
   "source": [
    "Eventhough the result seems to be good, the data is unbalanced so the prediction is highly biased towards the 0 class"
   ]
  },
  {
   "cell_type": "markdown",
   "metadata": {},
   "source": [
    "# Four classes evaluation"
   ]
  },
  {
   "cell_type": "code",
   "execution_count": 422,
   "metadata": {},
   "outputs": [],
   "source": [
    "# Select all classes of mouse\n",
    "y_fourC = y.copy(deep=True)"
   ]
  },
  {
   "cell_type": "code",
   "execution_count": 431,
   "metadata": {},
   "outputs": [
    {
     "data": {
      "text/html": [
       "<div>\n",
       "<style scoped>\n",
       "    .dataframe tbody tr th:only-of-type {\n",
       "        vertical-align: middle;\n",
       "    }\n",
       "\n",
       "    .dataframe tbody tr th {\n",
       "        vertical-align: top;\n",
       "    }\n",
       "\n",
       "    .dataframe thead th {\n",
       "        text-align: right;\n",
       "    }\n",
       "</style>\n",
       "<table border=\"1\" class=\"dataframe\">\n",
       "  <thead>\n",
       "    <tr style=\"text-align: right;\">\n",
       "      <th>gene</th>\n",
       "      <th>AI594671_1449603_at</th>\n",
       "      <th>AI594671_1449603_at</th>\n",
       "      <th>Pnliprp2_10464328</th>\n",
       "      <th>Pnliprp2_10464328</th>\n",
       "      <th>Mtmr7_1447831_s_at</th>\n",
       "      <th>Mtmr7_1447831_s_at</th>\n",
       "      <th>Serpina1b_10402390</th>\n",
       "      <th>Serpina1b_10402390</th>\n",
       "      <th>LOC674190_10403011</th>\n",
       "      <th>LOC674190_10403011</th>\n",
       "      <th>...</th>\n",
       "      <th>Amy2a1_10501500</th>\n",
       "      <th>Amy2a1_10501500</th>\n",
       "      <th>Amy2a1_10501511</th>\n",
       "      <th>Amy2a1_10501511</th>\n",
       "      <th>Amy2a1_10501522</th>\n",
       "      <th>Amy2a1_10501522</th>\n",
       "      <th>Amy2a1_10501533</th>\n",
       "      <th>Amy2a1_10501533</th>\n",
       "      <th>Amy2a1_10501494</th>\n",
       "      <th>Amy2a1_10501494</th>\n",
       "    </tr>\n",
       "  </thead>\n",
       "  <tbody>\n",
       "    <tr>\n",
       "      <td>BXD1</td>\n",
       "      <td>4.408</td>\n",
       "      <td>5.234</td>\n",
       "      <td>7.103</td>\n",
       "      <td>6.914</td>\n",
       "      <td>9.538</td>\n",
       "      <td>9.321</td>\n",
       "      <td>8.322</td>\n",
       "      <td>8.911</td>\n",
       "      <td>8.736</td>\n",
       "      <td>9.960</td>\n",
       "      <td>...</td>\n",
       "      <td>6.595</td>\n",
       "      <td>5.936</td>\n",
       "      <td>6.595</td>\n",
       "      <td>5.936</td>\n",
       "      <td>6.595</td>\n",
       "      <td>5.936</td>\n",
       "      <td>6.595</td>\n",
       "      <td>5.936</td>\n",
       "      <td>5.257</td>\n",
       "      <td>4.923</td>\n",
       "    </tr>\n",
       "    <tr>\n",
       "      <td>BXD2</td>\n",
       "      <td>4.553</td>\n",
       "      <td>5.239</td>\n",
       "      <td>9.903</td>\n",
       "      <td>11.682</td>\n",
       "      <td>9.837</td>\n",
       "      <td>9.728</td>\n",
       "      <td>7.187</td>\n",
       "      <td>8.051</td>\n",
       "      <td>8.807</td>\n",
       "      <td>8.889</td>\n",
       "      <td>...</td>\n",
       "      <td>14.114</td>\n",
       "      <td>14.767</td>\n",
       "      <td>14.114</td>\n",
       "      <td>14.767</td>\n",
       "      <td>14.114</td>\n",
       "      <td>14.767</td>\n",
       "      <td>14.114</td>\n",
       "      <td>14.767</td>\n",
       "      <td>13.344</td>\n",
       "      <td>14.127</td>\n",
       "    </tr>\n",
       "    <tr>\n",
       "      <td>BXD5</td>\n",
       "      <td>5.538</td>\n",
       "      <td>8.939</td>\n",
       "      <td>6.879</td>\n",
       "      <td>8.151</td>\n",
       "      <td>9.450</td>\n",
       "      <td>9.734</td>\n",
       "      <td>7.687</td>\n",
       "      <td>8.383</td>\n",
       "      <td>8.498</td>\n",
       "      <td>9.250</td>\n",
       "      <td>...</td>\n",
       "      <td>6.187</td>\n",
       "      <td>12.048</td>\n",
       "      <td>6.187</td>\n",
       "      <td>12.048</td>\n",
       "      <td>6.187</td>\n",
       "      <td>12.048</td>\n",
       "      <td>6.187</td>\n",
       "      <td>12.048</td>\n",
       "      <td>5.588</td>\n",
       "      <td>11.428</td>\n",
       "    </tr>\n",
       "    <tr>\n",
       "      <td>BXD6</td>\n",
       "      <td>4.462</td>\n",
       "      <td>4.962</td>\n",
       "      <td>11.683</td>\n",
       "      <td>6.877</td>\n",
       "      <td>9.597</td>\n",
       "      <td>9.992</td>\n",
       "      <td>11.620</td>\n",
       "      <td>12.108</td>\n",
       "      <td>5.446</td>\n",
       "      <td>5.536</td>\n",
       "      <td>...</td>\n",
       "      <td>14.480</td>\n",
       "      <td>10.024</td>\n",
       "      <td>14.480</td>\n",
       "      <td>10.024</td>\n",
       "      <td>14.480</td>\n",
       "      <td>10.024</td>\n",
       "      <td>14.480</td>\n",
       "      <td>10.024</td>\n",
       "      <td>13.723</td>\n",
       "      <td>9.327</td>\n",
       "    </tr>\n",
       "    <tr>\n",
       "      <td>BXD8</td>\n",
       "      <td>4.485</td>\n",
       "      <td>4.984</td>\n",
       "      <td>9.242</td>\n",
       "      <td>6.940</td>\n",
       "      <td>9.902</td>\n",
       "      <td>9.603</td>\n",
       "      <td>10.191</td>\n",
       "      <td>12.085</td>\n",
       "      <td>7.288</td>\n",
       "      <td>8.445</td>\n",
       "      <td>...</td>\n",
       "      <td>10.070</td>\n",
       "      <td>6.524</td>\n",
       "      <td>10.070</td>\n",
       "      <td>6.524</td>\n",
       "      <td>10.070</td>\n",
       "      <td>6.524</td>\n",
       "      <td>10.070</td>\n",
       "      <td>6.524</td>\n",
       "      <td>9.358</td>\n",
       "      <td>6.054</td>\n",
       "    </tr>\n",
       "    <tr>\n",
       "      <td>...</td>\n",
       "      <td>...</td>\n",
       "      <td>...</td>\n",
       "      <td>...</td>\n",
       "      <td>...</td>\n",
       "      <td>...</td>\n",
       "      <td>...</td>\n",
       "      <td>...</td>\n",
       "      <td>...</td>\n",
       "      <td>...</td>\n",
       "      <td>...</td>\n",
       "      <td>...</td>\n",
       "      <td>...</td>\n",
       "      <td>...</td>\n",
       "      <td>...</td>\n",
       "      <td>...</td>\n",
       "      <td>...</td>\n",
       "      <td>...</td>\n",
       "      <td>...</td>\n",
       "      <td>...</td>\n",
       "      <td>...</td>\n",
       "      <td>...</td>\n",
       "    </tr>\n",
       "    <tr>\n",
       "      <td>BXD98</td>\n",
       "      <td>4.483</td>\n",
       "      <td>6.230</td>\n",
       "      <td>7.271</td>\n",
       "      <td>11.310</td>\n",
       "      <td>9.545</td>\n",
       "      <td>9.956</td>\n",
       "      <td>8.238</td>\n",
       "      <td>7.993</td>\n",
       "      <td>10.566</td>\n",
       "      <td>9.011</td>\n",
       "      <td>...</td>\n",
       "      <td>11.044</td>\n",
       "      <td>14.501</td>\n",
       "      <td>11.044</td>\n",
       "      <td>14.501</td>\n",
       "      <td>11.044</td>\n",
       "      <td>14.501</td>\n",
       "      <td>11.044</td>\n",
       "      <td>14.501</td>\n",
       "      <td>10.554</td>\n",
       "      <td>13.799</td>\n",
       "    </tr>\n",
       "    <tr>\n",
       "      <td>BXD99</td>\n",
       "      <td>6.673</td>\n",
       "      <td>8.522</td>\n",
       "      <td>11.487</td>\n",
       "      <td>11.399</td>\n",
       "      <td>6.469</td>\n",
       "      <td>6.216</td>\n",
       "      <td>8.607</td>\n",
       "      <td>8.569</td>\n",
       "      <td>9.240</td>\n",
       "      <td>9.627</td>\n",
       "      <td>...</td>\n",
       "      <td>14.408</td>\n",
       "      <td>14.369</td>\n",
       "      <td>14.408</td>\n",
       "      <td>14.369</td>\n",
       "      <td>14.408</td>\n",
       "      <td>14.369</td>\n",
       "      <td>14.408</td>\n",
       "      <td>14.369</td>\n",
       "      <td>13.863</td>\n",
       "      <td>13.951</td>\n",
       "    </tr>\n",
       "    <tr>\n",
       "      <td>BXD100</td>\n",
       "      <td>NaN</td>\n",
       "      <td>NaN</td>\n",
       "      <td>NaN</td>\n",
       "      <td>NaN</td>\n",
       "      <td>NaN</td>\n",
       "      <td>NaN</td>\n",
       "      <td>NaN</td>\n",
       "      <td>NaN</td>\n",
       "      <td>NaN</td>\n",
       "      <td>NaN</td>\n",
       "      <td>...</td>\n",
       "      <td>NaN</td>\n",
       "      <td>NaN</td>\n",
       "      <td>NaN</td>\n",
       "      <td>NaN</td>\n",
       "      <td>NaN</td>\n",
       "      <td>NaN</td>\n",
       "      <td>NaN</td>\n",
       "      <td>NaN</td>\n",
       "      <td>NaN</td>\n",
       "      <td>NaN</td>\n",
       "    </tr>\n",
       "    <tr>\n",
       "      <td>BXD101</td>\n",
       "      <td>NaN</td>\n",
       "      <td>NaN</td>\n",
       "      <td>11.293</td>\n",
       "      <td>7.397</td>\n",
       "      <td>NaN</td>\n",
       "      <td>NaN</td>\n",
       "      <td>11.966</td>\n",
       "      <td>11.656</td>\n",
       "      <td>8.196</td>\n",
       "      <td>7.816</td>\n",
       "      <td>...</td>\n",
       "      <td>14.428</td>\n",
       "      <td>7.872</td>\n",
       "      <td>14.428</td>\n",
       "      <td>7.872</td>\n",
       "      <td>14.428</td>\n",
       "      <td>7.872</td>\n",
       "      <td>14.428</td>\n",
       "      <td>7.872</td>\n",
       "      <td>13.680</td>\n",
       "      <td>7.018</td>\n",
       "    </tr>\n",
       "    <tr>\n",
       "      <td>BXD102</td>\n",
       "      <td>NaN</td>\n",
       "      <td>NaN</td>\n",
       "      <td>6.655</td>\n",
       "      <td>6.848</td>\n",
       "      <td>NaN</td>\n",
       "      <td>NaN</td>\n",
       "      <td>11.804</td>\n",
       "      <td>12.095</td>\n",
       "      <td>9.851</td>\n",
       "      <td>9.412</td>\n",
       "      <td>...</td>\n",
       "      <td>5.631</td>\n",
       "      <td>7.747</td>\n",
       "      <td>5.631</td>\n",
       "      <td>7.747</td>\n",
       "      <td>5.631</td>\n",
       "      <td>7.747</td>\n",
       "      <td>5.631</td>\n",
       "      <td>7.747</td>\n",
       "      <td>5.111</td>\n",
       "      <td>6.683</td>\n",
       "    </tr>\n",
       "  </tbody>\n",
       "</table>\n",
       "<p>90 rows × 199 columns</p>\n",
       "</div>"
      ],
      "text/plain": [
       "gene    AI594671_1449603_at  AI594671_1449603_at  Pnliprp2_10464328  \\\n",
       "BXD1                  4.408                5.234              7.103   \n",
       "BXD2                  4.553                5.239              9.903   \n",
       "BXD5                  5.538                8.939              6.879   \n",
       "BXD6                  4.462                4.962             11.683   \n",
       "BXD8                  4.485                4.984              9.242   \n",
       "...                     ...                  ...                ...   \n",
       "BXD98                 4.483                6.230              7.271   \n",
       "BXD99                 6.673                8.522             11.487   \n",
       "BXD100                  NaN                  NaN                NaN   \n",
       "BXD101                  NaN                  NaN             11.293   \n",
       "BXD102                  NaN                  NaN              6.655   \n",
       "\n",
       "gene    Pnliprp2_10464328  Mtmr7_1447831_s_at  Mtmr7_1447831_s_at  \\\n",
       "BXD1                6.914               9.538               9.321   \n",
       "BXD2               11.682               9.837               9.728   \n",
       "BXD5                8.151               9.450               9.734   \n",
       "BXD6                6.877               9.597               9.992   \n",
       "BXD8                6.940               9.902               9.603   \n",
       "...                   ...                 ...                 ...   \n",
       "BXD98              11.310               9.545               9.956   \n",
       "BXD99              11.399               6.469               6.216   \n",
       "BXD100                NaN                 NaN                 NaN   \n",
       "BXD101              7.397                 NaN                 NaN   \n",
       "BXD102              6.848                 NaN                 NaN   \n",
       "\n",
       "gene    Serpina1b_10402390  Serpina1b_10402390  LOC674190_10403011  \\\n",
       "BXD1                 8.322               8.911               8.736   \n",
       "BXD2                 7.187               8.051               8.807   \n",
       "BXD5                 7.687               8.383               8.498   \n",
       "BXD6                11.620              12.108               5.446   \n",
       "BXD8                10.191              12.085               7.288   \n",
       "...                    ...                 ...                 ...   \n",
       "BXD98                8.238               7.993              10.566   \n",
       "BXD99                8.607               8.569               9.240   \n",
       "BXD100                 NaN                 NaN                 NaN   \n",
       "BXD101              11.966              11.656               8.196   \n",
       "BXD102              11.804              12.095               9.851   \n",
       "\n",
       "gene    LOC674190_10403011  ...  Amy2a1_10501500  Amy2a1_10501500  \\\n",
       "BXD1                 9.960  ...            6.595            5.936   \n",
       "BXD2                 8.889  ...           14.114           14.767   \n",
       "BXD5                 9.250  ...            6.187           12.048   \n",
       "BXD6                 5.536  ...           14.480           10.024   \n",
       "BXD8                 8.445  ...           10.070            6.524   \n",
       "...                    ...  ...              ...              ...   \n",
       "BXD98                9.011  ...           11.044           14.501   \n",
       "BXD99                9.627  ...           14.408           14.369   \n",
       "BXD100                 NaN  ...              NaN              NaN   \n",
       "BXD101               7.816  ...           14.428            7.872   \n",
       "BXD102               9.412  ...            5.631            7.747   \n",
       "\n",
       "gene    Amy2a1_10501511  Amy2a1_10501511  Amy2a1_10501522  Amy2a1_10501522  \\\n",
       "BXD1              6.595            5.936            6.595            5.936   \n",
       "BXD2             14.114           14.767           14.114           14.767   \n",
       "BXD5              6.187           12.048            6.187           12.048   \n",
       "BXD6             14.480           10.024           14.480           10.024   \n",
       "BXD8             10.070            6.524           10.070            6.524   \n",
       "...                 ...              ...              ...              ...   \n",
       "BXD98            11.044           14.501           11.044           14.501   \n",
       "BXD99            14.408           14.369           14.408           14.369   \n",
       "BXD100              NaN              NaN              NaN              NaN   \n",
       "BXD101           14.428            7.872           14.428            7.872   \n",
       "BXD102            5.631            7.747            5.631            7.747   \n",
       "\n",
       "gene    Amy2a1_10501533  Amy2a1_10501533  Amy2a1_10501494  Amy2a1_10501494  \n",
       "BXD1              6.595            5.936            5.257            4.923  \n",
       "BXD2             14.114           14.767           13.344           14.127  \n",
       "BXD5              6.187           12.048            5.588           11.428  \n",
       "BXD6             14.480           10.024           13.723            9.327  \n",
       "BXD8             10.070            6.524            9.358            6.054  \n",
       "...                 ...              ...              ...              ...  \n",
       "BXD98            11.044           14.501           10.554           13.799  \n",
       "BXD99            14.408           14.369           13.863           13.951  \n",
       "BXD100              NaN              NaN              NaN              NaN  \n",
       "BXD101           14.428            7.872           13.680            7.018  \n",
       "BXD102            5.631            7.747            5.111            6.683  \n",
       "\n",
       "[90 rows x 199 columns]"
      ]
     },
     "execution_count": 431,
     "metadata": {},
     "output_type": "execute_result"
    }
   ],
   "source": [
    "signal"
   ]
  },
  {
   "cell_type": "code",
   "execution_count": 433,
   "metadata": {},
   "outputs": [],
   "source": [
    "# Drop the rows with only nan values\n",
    "sign = signal.loc[y_fourC.index].copy(deep=True)"
   ]
  },
  {
   "cell_type": "code",
   "execution_count": 434,
   "metadata": {},
   "outputs": [
    {
     "data": {
      "text/plain": [
       "(90, 199)"
      ]
     },
     "execution_count": 434,
     "metadata": {},
     "output_type": "execute_result"
    }
   ],
   "source": [
    "sign.shape"
   ]
  },
  {
   "cell_type": "code",
   "execution_count": 314,
   "metadata": {},
   "outputs": [],
   "source": [
    "shape = []\n",
    "for i in range(1000):\n",
    "    shape.append(sign.dropna(thresh=i).shape[0])"
   ]
  },
  {
   "cell_type": "code",
   "execution_count": 315,
   "metadata": {},
   "outputs": [
    {
     "data": {
      "text/plain": [
       "[<matplotlib.lines.Line2D at 0x12ebbad68>]"
      ]
     },
     "execution_count": 315,
     "metadata": {},
     "output_type": "execute_result"
    },
    {
     "data": {
      "image/png": "[encoded data removed]",
      "text/plain": [
       "<Figure size 432x288 with 1 Axes>"
      ]
     },
     "metadata": {
      "needs_background": "light"
     },
     "output_type": "display_data"
    }
   ],
   "source": [
    "plt.plot(shape)"
   ]
  },
  {
   "cell_type": "code",
   "execution_count": 289,
   "metadata": {},
   "outputs": [],
   "source": [
    "# Filter y_binary to take into account nan filtering\n",
    "y_fourC = y_fourC[y_fourC.index.isin(sign.index)]"
   ]
  },
  {
   "cell_type": "code",
   "execution_count": 290,
   "metadata": {},
   "outputs": [
    {
     "data": {
      "text/plain": [
       "True"
      ]
     },
     "execution_count": 290,
     "metadata": {},
     "output_type": "execute_result"
    }
   ],
   "source": [
    "# Are both index the same ?\n",
    "(y_fourC.index == sign.index).all()"
   ]
  },
  {
   "cell_type": "code",
   "execution_count": 291,
   "metadata": {},
   "outputs": [],
   "source": [
    "# Transfrom to np.array\n",
    "sign_np = sign.values"
   ]
  },
  {
   "cell_type": "code",
   "execution_count": 292,
   "metadata": {},
   "outputs": [],
   "source": [
    "# Transfrom to np.array\n",
    "sign_np = sign.values\n",
    "y_f = y_fourC.values"
   ]
  },
  {
   "cell_type": "code",
   "execution_count": 293,
   "metadata": {},
   "outputs": [
    {
     "data": {
      "text/plain": [
       "(40, 10000)"
      ]
     },
     "execution_count": 293,
     "metadata": {},
     "output_type": "execute_result"
    }
   ],
   "source": [
    "sign_np.shape"
   ]
  },
  {
   "cell_type": "code",
   "execution_count": 202,
   "metadata": {},
   "outputs": [],
   "source": [
    "# Build the training/testing data\n",
    "features = th.tensor(sign_np)\n",
    "labels = th.tensor(y_b)"
   ]
  },
  {
   "cell_type": "code",
   "execution_count": null,
   "metadata": {},
   "outputs": [],
   "source": []
  }
 ],
 "metadata": {
  "kernelspec": {
   "display_name": "Python 3",
   "language": "python",
   "name": "python3"
  },
  "language_info": {
   "codemirror_mode": {
    "name": "ipython",
    "version": 3
   },
   "file_extension": ".py",
   "mimetype": "text/x-python",
   "name": "python",
   "nbconvert_exporter": "python",
   "pygments_lexer": "ipython3",
   "version": "3.7.3"
  }
 },
 "nbformat": 4,
 "nbformat_minor": 2
}
