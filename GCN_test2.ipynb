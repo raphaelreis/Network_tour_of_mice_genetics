{
 "cells": [
  {
   "cell_type": "code",
   "execution_count": 281,
   "metadata": {},
   "outputs": [],
   "source": [
    "import pandas as pd\n",
    "import numpy as np\n",
    "import matplotlib.pyplot as plt\n",
    "import networkx as nx\n",
    "from tabulate import tabulate\n",
    "\n",
    "\n",
    "from pygsp import graphs, filters, plotting\n",
    "from scipy.spatial.distance import pdist, squareform\n",
    "from scipy.stats import norm\n",
    "import scipy\n",
    "import matplotlib\n",
    "import utils\n",
    "\n",
    "\n",
    "\n",
    "import dgl\n",
    "import dgl.function as fn\n",
    "import torch as th\n",
    "import torch.nn as nn\n",
    "import torch.nn.functional as F\n",
    "from dgl import DGLGraph\n",
    "\n",
    "import time\n",
    "\n",
    "from sklearn.metrics import classification_report"
   ]
  },
  {
   "cell_type": "code",
   "execution_count": 320,
   "metadata": {},
   "outputs": [],
   "source": [
    "gcn_message = fn.copy_src(src='h', out='m')\n",
    "gcn_reduce = fn.sum(msg='m', out='h')"
   ]
  },
  {
   "cell_type": "code",
   "execution_count": 321,
   "metadata": {},
   "outputs": [],
   "source": [
    "# Define the GCNLayer module\n",
    "class GCNLayer(nn.Module):\n",
    "    def __init__(self, in_feats, out_feats):\n",
    "        super(GCNLayer, self).__init__()\n",
    "        self.linear = nn.Linear(in_feats, out_feats)\n",
    "\n",
    "    def forward(self, g, inputs):\n",
    "        # g is the graph and the inputs is the input node features\n",
    "        # first set the node features\n",
    "        g.ndata['h'] = inputs\n",
    "        # trigger message passing on all edges\n",
    "        g.send(g.edges(), gcn_message)\n",
    "        # trigger aggregation at all nodes\n",
    "        g.recv(g.nodes(), gcn_reduce)\n",
    "        # get the result node features\n",
    "        h = g.ndata.pop('h')\n",
    "        # perform linear transformation\n",
    "        return self.linear(h)"
   ]
  },
  {
   "cell_type": "code",
   "execution_count": 414,
   "metadata": {},
   "outputs": [],
   "source": [
    "# Define a 2-layer GCN model\n",
    "class GCN(nn.Module):\n",
    "    def __init__(self, in_feats, hidden_size, num_classes):\n",
    "        super(GCN, self).__init__()\n",
    "        self.gcn1 = GCNLayer(in_feats, hidden_size)\n",
    "        self.gcn2 = GCNLayer(hidden_size, num_classes)\n",
    "\n",
    "    def forward(self, g, inputs):\n",
    "        h = self.gcn1(g, inputs.float())\n",
    "        h = th.relu(h)\n",
    "#         m = nn.Dropout(p=0.2)\n",
    "        h = m(h)\n",
    "        h = self.gcn2(g, h)\n",
    "        return h\n",
    "# The first layer transforms input features of size of 30 to a hidden size of 5.\n",
    "# The second layer transforms the hidden layer and produces output features of\n",
    "# size 2, corresponding to the two groups of the karate club."
   ]
  },
  {
   "cell_type": "code",
   "execution_count": 323,
   "metadata": {},
   "outputs": [],
   "source": [
    "# TRAINING / evaluating\n",
    "\n",
    "def train(model, g, features, labels, loss_fcn, train_mask, optimizer):\n",
    "    model.train()  # Activate dropout\n",
    "    \n",
    "    logits = model(g, features).float()\n",
    "    loss = loss_fcn(logits[train_mask], labels[train_mask])\n",
    "\n",
    "    optimizer.zero_grad()\n",
    "    loss.backward()\n",
    "    optimizer.step()\n",
    "    return loss\n",
    "\n",
    "def evaluate(model, g, features, labels, mask, report=False):\n",
    "    model.eval()  # Deactivate dropout\n",
    "    with th.no_grad():\n",
    "        logits = model(g, features)[mask]  # only compute the evaluation set\n",
    "        labels = labels[mask]\n",
    "        _, indices = th.max(logits, dim=1)\n",
    "#         print(indices, labels)\n",
    "        correct = th.sum(indices == labels)\n",
    "        if report == True:\n",
    "            return correct.item() * 1.0 / len(labels), classification_report(labels, indices)\n",
    "        return correct.item() * 1.0 / len(labels)\n",
    "    "
   ]
  },
  {
   "cell_type": "code",
   "execution_count": 324,
   "metadata": {},
   "outputs": [],
   "source": [
    "# Build the target\n",
    "# genotype_gene_expression_present_df = pd.read_pickle(\"data/pickle/genotype_gene_expression_present_df.pkl\")\n",
    "phenotype_df = pd.read_pickle(\"data/pickle/phenotype.pkl\")\n",
    "y = phenotype_df.loc['X62'].dropna().astype('int64')"
   ]
  },
  {
   "cell_type": "code",
   "execution_count": 325,
   "metadata": {},
   "outputs": [],
   "source": [
    "# Build the relevant high variance signals\n",
    "gene_expression_df = pd.read_pickle(\"data/pickle/concat_gene_expression.pkl\")"
   ]
  },
  {
   "cell_type": "code",
   "execution_count": 326,
   "metadata": {},
   "outputs": [],
   "source": [
    "gene_expr = gene_expression_df.copy(deep=True)\n",
    "frame_nan_count = gene_expr.isna().sum(axis=0)"
   ]
  },
  {
   "cell_type": "code",
   "execution_count": 327,
   "metadata": {},
   "outputs": [],
   "source": [
    "gene_expr = gene_expr.loc[:, frame_nan_count < 30]"
   ]
  },
  {
   "cell_type": "code",
   "execution_count": 328,
   "metadata": {},
   "outputs": [],
   "source": [
    "gene_expr = gene_expr.loc[y.index]"
   ]
  },
  {
   "cell_type": "code",
   "execution_count": 329,
   "metadata": {},
   "outputs": [],
   "source": [
    "top_var = 100\n",
    "# top_var_gene = gene_expr.std().sort_values()\n",
    "top_var_gene = gene_expr.std().sort_values().tail(top_var)"
   ]
  },
  {
   "cell_type": "code",
   "execution_count": 330,
   "metadata": {},
   "outputs": [
    {
     "data": {
      "text/plain": [
       "gene\n",
       "AI594671_1449603_at    1.836940\n",
       "Pnliprp2_10464328      1.851778\n",
       "Mtmr7_1447831_s_at     1.857344\n",
       "Serpina1b_10402390     1.858340\n",
       "LOC674190_10403011     1.858610\n",
       "                         ...   \n",
       "Amy2a1_10501500        3.613998\n",
       "Amy2a1_10501511        3.613998\n",
       "Amy2a1_10501522        3.613998\n",
       "Amy2a1_10501533        3.613998\n",
       "Amy2a1_10501494        3.690222\n",
       "Length: 100, dtype: float64"
      ]
     },
     "execution_count": 330,
     "metadata": {},
     "output_type": "execute_result"
    }
   ],
   "source": [
    "top_var_gene"
   ]
  },
  {
   "cell_type": "code",
   "execution_count": 331,
   "metadata": {},
   "outputs": [
    {
     "data": {
      "text/plain": [
       "Cela3b_10517573          4\n",
       "Trim12a_10566326         4\n",
       "Prune2_1432198_at        4\n",
       "Phgdh_1454714_x_at       4\n",
       "Tra2a_1436240_at         4\n",
       "                        ..\n",
       "Dmbt1_10558159           2\n",
       "AI594671_1449603_at      2\n",
       "Mup2_10513472            2\n",
       "St6galnac1_1421517_at    2\n",
       "Gm17535_10582916         1\n",
       "Name: gene, Length: 65, dtype: int64"
      ]
     },
     "execution_count": 331,
     "metadata": {},
     "output_type": "execute_result"
    }
   ],
   "source": [
    "gene_expr.loc[:, top_var_gene.index].columns.value_counts()"
   ]
  },
  {
   "cell_type": "code",
   "execution_count": 332,
   "metadata": {},
   "outputs": [],
   "source": [
    "signal = gene_expr.loc[:, top_var_gene.index]"
   ]
  },
  {
   "cell_type": "code",
   "execution_count": 333,
   "metadata": {},
   "outputs": [
    {
     "data": {
      "text/plain": [
       "(90, 199)"
      ]
     },
     "execution_count": 333,
     "metadata": {},
     "output_type": "execute_result"
    }
   ],
   "source": [
    "signal.shape"
   ]
  },
  {
   "cell_type": "code",
   "execution_count": 334,
   "metadata": {},
   "outputs": [
    {
     "data": {
      "text/plain": [
       "1    30\n",
       "2    23\n",
       "4    19\n",
       "3    18\n",
       "Name: X62, dtype: int64"
      ]
     },
     "execution_count": 334,
     "metadata": {},
     "output_type": "execute_result"
    }
   ],
   "source": [
    "# What are the most present labels ?\n",
    "y.value_counts()"
   ]
  },
  {
   "cell_type": "markdown",
   "metadata": {},
   "source": [
    "# Two classes evaluation"
   ]
  },
  {
   "cell_type": "code",
   "execution_count": 359,
   "metadata": {},
   "outputs": [],
   "source": [
    "# Select only the mice that have label 1 or 2. We chose it because they are the most present\n",
    "y_binary = y.loc[(y.values == 1) | (y.values == 2)].copy(deep=True)"
   ]
  },
  {
   "cell_type": "code",
   "execution_count": 362,
   "metadata": {},
   "outputs": [],
   "source": [
    "# Drop the rows with only nan values\n",
    "sign = signal.loc[y_binary.index].copy(deep=True)\n",
    "sign = sign.fillna(method='pad')"
   ]
  },
  {
   "cell_type": "code",
   "execution_count": 364,
   "metadata": {},
   "outputs": [],
   "source": [
    "# Filter y_binary to take into account nan filtering\n",
    "y_binary = y_binary.loc[sign.index]"
   ]
  },
  {
   "cell_type": "code",
   "execution_count": 365,
   "metadata": {},
   "outputs": [
    {
     "data": {
      "text/plain": [
       "True"
      ]
     },
     "execution_count": 365,
     "metadata": {},
     "output_type": "execute_result"
    }
   ],
   "source": [
    "# Are both index the same ?\n",
    "(y_binary.index == sign.index).all()"
   ]
  },
  {
   "cell_type": "code",
   "execution_count": 366,
   "metadata": {},
   "outputs": [],
   "source": [
    "# Transfrom to np.array\n",
    "sign_np = sign.values\n",
    "y_b = y_binary.values"
   ]
  },
  {
   "cell_type": "code",
   "execution_count": 367,
   "metadata": {},
   "outputs": [],
   "source": [
    "# Build the training/testing data\n",
    "features = th.tensor(sign_np)\n",
    "labels = th.tensor(y_b)"
   ]
  },
  {
   "cell_type": "code",
   "execution_count": 368,
   "metadata": {},
   "outputs": [
    {
     "data": {
      "text/plain": [
       "torch.Size([53, 199])"
      ]
     },
     "execution_count": 368,
     "metadata": {},
     "output_type": "execute_result"
    }
   ],
   "source": [
    "features.shape"
   ]
  },
  {
   "cell_type": "code",
   "execution_count": 369,
   "metadata": {},
   "outputs": [],
   "source": [
    "labels[labels == 1] = 0\n",
    "labels[labels == 2] = 1"
   ]
  },
  {
   "cell_type": "code",
   "execution_count": 370,
   "metadata": {},
   "outputs": [],
   "source": [
    "logits = model(graph, features).float()\n",
    "loss = loss_fcn(logits[train_mask], labels[train_mask])"
   ]
  },
  {
   "cell_type": "code",
   "execution_count": 384,
   "metadata": {},
   "outputs": [
    {
     "name": "stdout",
     "output_type": "stream",
     "text": [
      "train_size: 30 | test_size: 13 | val_size: 10\n"
     ]
    }
   ],
   "source": [
    "# Split the data into train / test / validation\n",
    "test_p = 0.25\n",
    "val_p = 0.25\n",
    "test_size = int(len(labels)*test_p)\n",
    "val_size = int((len(labels) - test_size) * val_p)\n",
    "test_split, train_split, val_split  = th.utils.data.random_split(labels, [test_size, len(labels) - test_size - val_size, val_size])\n",
    "print(\"train_size: %i | test_size: %i | val_size: %i\" % (len(labels) - test_size - val_size, test_size, val_size))"
   ]
  },
  {
   "cell_type": "code",
   "execution_count": 385,
   "metadata": {},
   "outputs": [
    {
     "name": "stdout",
     "output_type": "stream",
     "text": [
      "train_mask: [46, 48, 47, 38, 3, 13, 45, 0, 42, 30, 23, 20, 37, 9, 28, 35, 49, 16, 25, 29, 44, 40, 27, 39, 12, 32, 21, 6, 26, 34]\n",
      "test_mask: [24, 19, 36, 31, 14, 4, 43, 5, 52, 1, 22, 41, 51]\n",
      "val_mask: [18, 8, 10, 17, 15, 11, 2, 7, 33, 50]\n"
     ]
    }
   ],
   "source": [
    "train_mask = train_split.indices\n",
    "test_mask = test_split.indices\n",
    "val_mask = val_split.indices\n",
    "print(\"train_mask: {}\\ntest_mask: {}\\nval_mask: {}\".format(train_mask, test_mask, val_mask))"
   ]
  },
  {
   "cell_type": "code",
   "execution_count": 386,
   "metadata": {},
   "outputs": [],
   "source": [
    "# Build a graph adjacency for the subsample and mice labeled as 1 and 4\n",
    "genotype_df = pd.read_pickle('data/pickle/genotype_df.pkl')\n",
    "adj = utils.build_adj_from_strain(genotype_df, sign.index, 'cosine', 70, 0.266)"
   ]
  },
  {
   "cell_type": "code",
   "execution_count": 387,
   "metadata": {},
   "outputs": [
    {
     "name": "stderr",
     "output_type": "stream",
     "text": [
      "/Users/Raphael/anaconda3/envs/ntds_2019/lib/python3.7/site-packages/networkx/drawing/nx_pylab.py:579: MatplotlibDeprecationWarning: \n",
      "The iterable function was deprecated in Matplotlib 3.1 and will be removed in 3.3. Use np.iterable instead.\n",
      "  if not cb.iterable(width):\n"
     ]
    },
    {
     "data": {
      "image/png": "[encoded data removed]",
      "text/plain": [
       "<Figure size 432x288 with 1 Axes>"
      ]
     },
     "metadata": {},
     "output_type": "display_data"
    }
   ],
   "source": [
    "nx.draw(nx.from_numpy_array(adj))"
   ]
  },
  {
   "cell_type": "code",
   "execution_count": 388,
   "metadata": {},
   "outputs": [
    {
     "name": "stdout",
     "output_type": "stream",
     "text": [
      "╒═════════════════════════════════════════════════╤════════╕\n",
      "│ Number of nodes                                 │  53    │\n",
      "├─────────────────────────────────────────────────┼────────┤\n",
      "│ Number of edges                                 │ 311    │\n",
      "├─────────────────────────────────────────────────┼────────┤\n",
      "│ Graph density                                   │  22.57 │\n",
      "├─────────────────────────────────────────────────┼────────┤\n",
      "│ Average degree                                  │  11.74 │\n",
      "├─────────────────────────────────────────────────┼────────┤\n",
      "│ Number of connected components                  │   1    │\n",
      "├─────────────────────────────────────────────────┼────────┤\n",
      "│ Average clustering coefficient                  │   0.39 │\n",
      "├─────────────────────────────────────────────────┼────────┤\n",
      "│ Diameter of the network (longest shortest path) │   4    │\n",
      "╘═════════════════════════════════════════════════╧════════╛\n"
     ]
    }
   ],
   "source": [
    "utils.graph_basic_stats(nx.from_numpy_array(adj))"
   ]
  },
  {
   "cell_type": "code",
   "execution_count": 397,
   "metadata": {},
   "outputs": [],
   "source": [
    "graph = DGLGraph(adj)"
   ]
  },
  {
   "cell_type": "code",
   "execution_count": 407,
   "metadata": {},
   "outputs": [],
   "source": [
    "model = GCN(sign_np.shape[1], 5, 2)"
   ]
  },
  {
   "cell_type": "code",
   "execution_count": 412,
   "metadata": {
    "scrolled": true
   },
   "outputs": [
    {
     "data": {
      "text/plain": [
       "tensor([[-0.0836, -0.6223],\n",
       "        [-0.0836, -0.6223],\n",
       "        [-0.0836, -0.6223],\n",
       "        [-0.0836, -0.6223],\n",
       "        [-0.0836, -0.6223],\n",
       "        [-0.0836, -0.6223],\n",
       "        [-0.0836, -0.6223],\n",
       "        [-0.0836, -0.6223],\n",
       "        [-0.0836, -0.6223],\n",
       "        [-0.0836, -0.6223]], grad_fn=<IndexBackward>)"
      ]
     },
     "execution_count": 412,
     "metadata": {},
     "output_type": "execute_result"
    }
   ],
   "source": [
    "model(graph, features)[val_mask]"
   ]
  },
  {
   "cell_type": "code",
   "execution_count": 419,
   "metadata": {},
   "outputs": [],
   "source": [
    "pol_order = 3\n",
    "lr = 0.5\n",
    "weight_decay = 5e-6\n",
    "n_epochs = 100\n",
    "p_dropout = 0.2"
   ]
  },
  {
   "cell_type": "code",
   "execution_count": 421,
   "metadata": {},
   "outputs": [
    {
     "name": "stdout",
     "output_type": "stream",
     "text": [
      "Epoch 00000 | Time(s) nan | Train Loss 0.6572 | Val Accuracy 0.3000\n",
      "Epoch 00001 | Time(s) nan | Train Loss 0.7588 | Val Accuracy 0.3000\n",
      "Epoch 00002 | Time(s) nan | Train Loss 0.6645 | Val Accuracy 0.3000\n",
      "Epoch 00003 | Time(s) 0.0126 | Train Loss 0.6843 | Val Accuracy 0.7000\n",
      "Epoch 00004 | Time(s) 0.0114 | Train Loss 0.7165 | Val Accuracy 0.3000\n",
      "Epoch 00005 | Time(s) 0.0111 | Train Loss 0.6903 | Val Accuracy 0.3000\n",
      "Epoch 00006 | Time(s) 0.0109 | Train Loss 0.6607 | Val Accuracy 0.3000\n",
      "Epoch 00007 | Time(s) 0.0109 | Train Loss 0.6615 | Val Accuracy 0.3000\n",
      "Epoch 00008 | Time(s) 0.0111 | Train Loss 0.6796 | Val Accuracy 0.3000\n",
      "Epoch 00009 | Time(s) 0.0115 | Train Loss 0.6872 | Val Accuracy 0.3000\n",
      "Epoch 00010 | Time(s) 0.0117 | Train Loss 0.6779 | Val Accuracy 0.3000\n",
      "Epoch 00011 | Time(s) 0.0117 | Train Loss 0.6631 | Val Accuracy 0.3000\n",
      "Epoch 00012 | Time(s) 0.0121 | Train Loss 0.6572 | Val Accuracy 0.3000\n",
      "Epoch 00013 | Time(s) 0.0119 | Train Loss 0.6638 | Val Accuracy 0.3000\n",
      "Epoch 00014 | Time(s) 0.0119 | Train Loss 0.6724 | Val Accuracy 0.3000\n",
      "Epoch 00015 | Time(s) 0.0119 | Train Loss 0.6721 | Val Accuracy 0.3000\n",
      "Epoch 00016 | Time(s) 0.0117 | Train Loss 0.6642 | Val Accuracy 0.3000\n",
      "Epoch 00017 | Time(s) 0.0117 | Train Loss 0.6578 | Val Accuracy 0.3000\n",
      "Epoch 00018 | Time(s) 0.0116 | Train Loss 0.6584 | Val Accuracy 0.3000\n",
      "Epoch 00019 | Time(s) 0.0119 | Train Loss 0.6635 | Val Accuracy 0.3000\n",
      "Epoch 00020 | Time(s) 0.0120 | Train Loss 0.6664 | Val Accuracy 0.3000\n",
      "Epoch 00021 | Time(s) 0.0119 | Train Loss 0.6642 | Val Accuracy 0.3000\n",
      "Epoch 00022 | Time(s) 0.0118 | Train Loss 0.6596 | Val Accuracy 0.3000\n",
      "Epoch 00023 | Time(s) 0.0118 | Train Loss 0.6572 | Val Accuracy 0.3000\n",
      "Epoch 00024 | Time(s) 0.0117 | Train Loss 0.6588 | Val Accuracy 0.3000\n",
      "Epoch 00025 | Time(s) 0.0117 | Train Loss 0.6617 | Val Accuracy 0.3000\n",
      "Epoch 00026 | Time(s) 0.0117 | Train Loss 0.6622 | Val Accuracy 0.3000\n",
      "Epoch 00027 | Time(s) 0.0117 | Train Loss 0.6598 | Val Accuracy 0.3000\n",
      "Epoch 00028 | Time(s) 0.0118 | Train Loss 0.6575 | Val Accuracy 0.3000\n",
      "Epoch 00029 | Time(s) 0.0120 | Train Loss 0.6575 | Val Accuracy 0.3000\n",
      "Epoch 00030 | Time(s) 0.0122 | Train Loss 0.6592 | Val Accuracy 0.3000\n",
      "Epoch 00031 | Time(s) 0.0121 | Train Loss 0.6602 | Val Accuracy 0.3000\n",
      "Epoch 00032 | Time(s) 0.0122 | Train Loss 0.6594 | Val Accuracy 0.3000\n",
      "Epoch 00033 | Time(s) 0.0122 | Train Loss 0.6578 | Val Accuracy 0.3000\n",
      "Epoch 00034 | Time(s) 0.0122 | Train Loss 0.6572 | Val Accuracy 0.3000\n",
      "Epoch 00035 | Time(s) 0.0122 | Train Loss 0.6580 | Val Accuracy 0.3000\n",
      "Epoch 00036 | Time(s) 0.0121 | Train Loss 0.6589 | Val Accuracy 0.3000\n",
      "Epoch 00037 | Time(s) 0.0121 | Train Loss 0.6587 | Val Accuracy 0.3000\n",
      "Epoch 00038 | Time(s) 0.0121 | Train Loss 0.6577 | Val Accuracy 0.3000\n",
      "Epoch 00039 | Time(s) 0.0122 | Train Loss 0.6572 | Val Accuracy 0.3000\n",
      "Epoch 00040 | Time(s) 0.0121 | Train Loss 0.6576 | Val Accuracy 0.3000\n",
      "Epoch 00041 | Time(s) 0.0121 | Train Loss 0.6582 | Val Accuracy 0.3000\n",
      "Epoch 00042 | Time(s) 0.0120 | Train Loss 0.6581 | Val Accuracy 0.3000\n",
      "Epoch 00043 | Time(s) 0.0120 | Train Loss 0.6575 | Val Accuracy 0.3000\n",
      "Epoch 00044 | Time(s) 0.0120 | Train Loss 0.6572 | Val Accuracy 0.3000\n",
      "Epoch 00045 | Time(s) 0.0119 | Train Loss 0.6574 | Val Accuracy 0.3000\n",
      "Epoch 00046 | Time(s) 0.0120 | Train Loss 0.6578 | Val Accuracy 0.3000\n",
      "Epoch 00047 | Time(s) 0.0120 | Train Loss 0.6577 | Val Accuracy 0.3000\n",
      "Epoch 00048 | Time(s) 0.0120 | Train Loss 0.6574 | Val Accuracy 0.3000\n",
      "Epoch 00049 | Time(s) 0.0121 | Train Loss 0.6572 | Val Accuracy 0.3000\n",
      "Epoch 00050 | Time(s) 0.0120 | Train Loss 0.6573 | Val Accuracy 0.3000\n",
      "Epoch 00051 | Time(s) 0.0120 | Train Loss 0.6576 | Val Accuracy 0.3000\n",
      "Epoch 00052 | Time(s) 0.0120 | Train Loss 0.6575 | Val Accuracy 0.3000\n",
      "Epoch 00053 | Time(s) 0.0120 | Train Loss 0.6572 | Val Accuracy 0.3000\n",
      "Epoch 00054 | Time(s) 0.0120 | Train Loss 0.6572 | Val Accuracy 0.3000\n",
      "Epoch 00055 | Time(s) 0.0120 | Train Loss 0.6573 | Val Accuracy 0.3000\n",
      "Epoch 00056 | Time(s) 0.0120 | Train Loss 0.6574 | Val Accuracy 0.3000\n",
      "Epoch 00057 | Time(s) 0.0119 | Train Loss 0.6573 | Val Accuracy 0.3000\n",
      "Epoch 00058 | Time(s) 0.0120 | Train Loss 0.6572 | Val Accuracy 0.3000\n",
      "Epoch 00059 | Time(s) 0.0120 | Train Loss 0.6572 | Val Accuracy 0.3000\n",
      "Epoch 00060 | Time(s) 0.0120 | Train Loss 0.6573 | Val Accuracy 0.3000\n",
      "Epoch 00061 | Time(s) 0.0120 | Train Loss 0.6573 | Val Accuracy 0.3000\n",
      "Epoch 00062 | Time(s) 0.0120 | Train Loss 0.6572 | Val Accuracy 0.3000\n",
      "Epoch 00063 | Time(s) 0.0120 | Train Loss 0.6572 | Val Accuracy 0.3000\n",
      "Epoch 00064 | Time(s) 0.0120 | Train Loss 0.6572 | Val Accuracy 0.3000\n",
      "Epoch 00065 | Time(s) 0.0120 | Train Loss 0.6573 | Val Accuracy 0.3000\n",
      "Epoch 00066 | Time(s) 0.0120 | Train Loss 0.6572 | Val Accuracy 0.3000\n",
      "Epoch 00067 | Time(s) 0.0120 | Train Loss 0.6572 | Val Accuracy 0.3000\n",
      "Epoch 00068 | Time(s) 0.0120 | Train Loss 0.6572 | Val Accuracy 0.3000\n",
      "Epoch 00069 | Time(s) 0.0121 | Train Loss 0.6572 | Val Accuracy 0.3000\n",
      "Epoch 00070 | Time(s) 0.0121 | Train Loss 0.6572 | Val Accuracy 0.3000\n",
      "Epoch 00071 | Time(s) 0.0121 | Train Loss 0.6572 | Val Accuracy 0.3000\n",
      "Epoch 00072 | Time(s) 0.0121 | Train Loss 0.6572 | Val Accuracy 0.3000\n",
      "Epoch 00073 | Time(s) 0.0121 | Train Loss 0.6572 | Val Accuracy 0.3000\n",
      "Epoch 00074 | Time(s) 0.0120 | Train Loss 0.6572 | Val Accuracy 0.3000\n",
      "Epoch 00075 | Time(s) 0.0120 | Train Loss 0.6572 | Val Accuracy 0.3000\n",
      "Epoch 00076 | Time(s) 0.0120 | Train Loss 0.6572 | Val Accuracy 0.3000\n",
      "Epoch 00077 | Time(s) 0.0120 | Train Loss 0.6572 | Val Accuracy 0.3000\n",
      "Epoch 00078 | Time(s) 0.0121 | Train Loss 0.6572 | Val Accuracy 0.3000\n",
      "Epoch 00079 | Time(s) 0.0122 | Train Loss 0.6572 | Val Accuracy 0.3000\n",
      "Epoch 00080 | Time(s) 0.0123 | Train Loss 0.6572 | Val Accuracy 0.3000\n",
      "Epoch 00081 | Time(s) 0.0123 | Train Loss 0.6572 | Val Accuracy 0.3000\n",
      "Epoch 00082 | Time(s) 0.0124 | Train Loss 0.6572 | Val Accuracy 0.3000\n",
      "Epoch 00083 | Time(s) 0.0125 | Train Loss 0.6572 | Val Accuracy 0.3000\n",
      "Epoch 00084 | Time(s) 0.0125 | Train Loss 0.6572 | Val Accuracy 0.3000\n",
      "Epoch 00085 | Time(s) 0.0126 | Train Loss 0.6572 | Val Accuracy 0.3000\n",
      "Epoch 00086 | Time(s) 0.0127 | Train Loss 0.6572 | Val Accuracy 0.3000\n",
      "Epoch 00087 | Time(s) 0.0128 | Train Loss 0.6572 | Val Accuracy 0.3000\n",
      "Epoch 00088 | Time(s) 0.0127 | Train Loss 0.6572 | Val Accuracy 0.3000\n",
      "Epoch 00089 | Time(s) 0.0127 | Train Loss 0.6572 | Val Accuracy 0.3000\n",
      "Epoch 00090 | Time(s) 0.0127 | Train Loss 0.6572 | Val Accuracy 0.3000\n",
      "Epoch 00091 | Time(s) 0.0128 | Train Loss 0.6572 | Val Accuracy 0.3000\n",
      "Epoch 00092 | Time(s) 0.0128 | Train Loss 0.6572 | Val Accuracy 0.3000\n",
      "Epoch 00093 | Time(s) 0.0128 | Train Loss 0.6572 | Val Accuracy 0.3000\n",
      "Epoch 00094 | Time(s) 0.0128 | Train Loss 0.6572 | Val Accuracy 0.3000\n",
      "Epoch 00095 | Time(s) 0.0128 | Train Loss 0.6572 | Val Accuracy 0.3000\n",
      "Epoch 00096 | Time(s) 0.0129 | Train Loss 0.6572 | Val Accuracy 0.3000\n",
      "Epoch 00097 | Time(s) 0.0130 | Train Loss 0.6572 | Val Accuracy 0.3000\n",
      "Epoch 00098 | Time(s) 0.0131 | Train Loss 0.6572 | Val Accuracy 0.3000\n",
      "Epoch 00099 | Time(s) 0.0131 | Train Loss 0.6572 | Val Accuracy 0.3000\n",
      "\n",
      "Test Accuracy 0.6154\n",
      "              precision    recall  f1-score   support\n",
      "\n",
      "           0       0.62      1.00      0.76         8\n",
      "           1       0.00      0.00      0.00         5\n",
      "\n",
      "    accuracy                           0.62        13\n",
      "   macro avg       0.31      0.50      0.38        13\n",
      "weighted avg       0.38      0.62      0.47        13\n",
      "\n"
     ]
    }
   ],
   "source": [
    "loss_fcn = th.nn.CrossEntropyLoss()\n",
    "optimizer = th.optim.Adam(model.parameters(),\\\n",
    "                          lr=lr, weight_decay=weight_decay)\n",
    "\n",
    "dur = []\n",
    "for epoch in range(n_epochs):\n",
    "    if epoch >= 3:\n",
    "        t0 = time.time()\n",
    "    loss = train(model, graph, features, labels, loss_fcn, train_mask, optimizer)\n",
    "    if epoch >= 3:\n",
    "        dur.append(time.time() - t0)\n",
    "\n",
    "    acc = evaluate(model, graph, features, labels, val_mask)\n",
    "    print(\"Epoch {:05d} | Time(s) {:.4f} | Train Loss {:.4f} | Val Accuracy {:.4f}\". format(\n",
    "            epoch, np.mean(dur), loss.item(), acc))\n",
    "\n",
    "print()\n",
    "acc, report = evaluate(model, graph, features, labels, test_mask, report=True)\n",
    "print(\"Test Accuracy {:.4f}\".format(acc))\n",
    "print(report)"
   ]
  },
  {
   "cell_type": "markdown",
   "metadata": {},
   "source": [
    "Eventhough the result seems to be good, the data is unbalanced so the prediction is highly biased towards the 0 class"
   ]
  },
  {
   "cell_type": "code",
   "execution_count": null,
   "metadata": {},
   "outputs": [],
   "source": [
    "model()"
   ]
  },
  {
   "cell_type": "markdown",
   "metadata": {},
   "source": [
    "# Four classes evaluation"
   ]
  },
  {
   "cell_type": "code",
   "execution_count": 312,
   "metadata": {},
   "outputs": [],
   "source": [
    "# Select all classes of mouse\n",
    "y_fourC = y.copy()"
   ]
  },
  {
   "cell_type": "code",
   "execution_count": 313,
   "metadata": {},
   "outputs": [],
   "source": [
    "# Drop the rows with only nan values\n",
    "sign = signal[signal.index.isin(y_fourC.index)]"
   ]
  },
  {
   "cell_type": "code",
   "execution_count": 314,
   "metadata": {},
   "outputs": [],
   "source": [
    "shape = []\n",
    "for i in range(1000):\n",
    "    shape.append(sign.dropna(thresh=i).shape[0])"
   ]
  },
  {
   "cell_type": "code",
   "execution_count": 315,
   "metadata": {},
   "outputs": [
    {
     "data": {
      "text/plain": [
       "[<matplotlib.lines.Line2D at 0x12ebbad68>]"
      ]
     },
     "execution_count": 315,
     "metadata": {},
     "output_type": "execute_result"
    },
    {
     "data": {
      "image/png": "[encoded data removed]",
      "text/plain": [
       "<Figure size 432x288 with 1 Axes>"
      ]
     },
     "metadata": {
      "needs_background": "light"
     },
     "output_type": "display_data"
    }
   ],
   "source": [
    "plt.plot(shape)"
   ]
  },
  {
   "cell_type": "code",
   "execution_count": 289,
   "metadata": {},
   "outputs": [],
   "source": [
    "# Filter y_binary to take into account nan filtering\n",
    "y_fourC = y_fourC[y_fourC.index.isin(sign.index)]"
   ]
  },
  {
   "cell_type": "code",
   "execution_count": 290,
   "metadata": {},
   "outputs": [
    {
     "data": {
      "text/plain": [
       "True"
      ]
     },
     "execution_count": 290,
     "metadata": {},
     "output_type": "execute_result"
    }
   ],
   "source": [
    "# Are both index the same ?\n",
    "(y_fourC.index == sign.index).all()"
   ]
  },
  {
   "cell_type": "code",
   "execution_count": 291,
   "metadata": {},
   "outputs": [],
   "source": [
    "# Transfrom to np.array\n",
    "sign_np = sign.values"
   ]
  },
  {
   "cell_type": "code",
   "execution_count": 292,
   "metadata": {},
   "outputs": [],
   "source": [
    "# Transfrom to np.array\n",
    "sign_np = sign.values\n",
    "y_f = y_fourC.values"
   ]
  },
  {
   "cell_type": "code",
   "execution_count": 293,
   "metadata": {},
   "outputs": [
    {
     "data": {
      "text/plain": [
       "(40, 10000)"
      ]
     },
     "execution_count": 293,
     "metadata": {},
     "output_type": "execute_result"
    }
   ],
   "source": [
    "sign_np.shape"
   ]
  },
  {
   "cell_type": "code",
   "execution_count": 202,
   "metadata": {},
   "outputs": [],
   "source": [
    "# Build the training/testing data\n",
    "features = th.tensor(sign_np)\n",
    "labels = th.tensor(y_b)"
   ]
  },
  {
   "cell_type": "code",
   "execution_count": null,
   "metadata": {},
   "outputs": [],
   "source": []
  }
 ],
 "metadata": {
  "kernelspec": {
   "display_name": "Python 3",
   "language": "python",
   "name": "python3"
  }
 },
 "nbformat": 4,
 "nbformat_minor": 2
}
