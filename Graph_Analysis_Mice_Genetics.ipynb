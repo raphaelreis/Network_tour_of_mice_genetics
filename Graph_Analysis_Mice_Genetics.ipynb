{
 "cells": [
  {
   "cell_type": "markdown",
   "metadata": {},
   "source": [
    "___"
   ]
  },
  {
   "cell_type": "markdown",
   "metadata": {},
   "source": [
    "# GridSearch: PyGSP for Mouse Phenotype prediction"
   ]
  },
  {
   "cell_type": "code",
   "execution_count": 28,
   "metadata": {},
   "outputs": [],
   "source": [
    "from sklearn.metrics import mean_squared_error,r2_score,mean_absolute_error,accuracy_score\n",
    "from pygsp import graphs, filters, plotting, learning\n",
    "from scipy.spatial.distance import pdist, squareform\n",
    "import matplotlib.pyplot as plt\n",
    "from tabulate import tabulate\n",
    "from scipy.stats import norm\n",
    "import networkx as nx\n",
    "import pandas as pd\n",
    "import numpy as np\n",
    "import scipy\n",
    "import os\n",
    "import re"
   ]
  },
  {
   "cell_type": "markdown",
   "metadata": {},
   "source": [
    "## Import Data"
   ]
  },
  {
   "cell_type": "markdown",
   "metadata": {},
   "source": [
    "<div class=\"alert alert-block alert-info\">\n",
    "    \n",
    "* genotype_df: contains the genotype of each strain for each allele\n",
    "* phenotype_df : contains the phenotypes of each strain, lots of Nan\n",
    "\n",
    "NB: on this branch of the project, we don't use the expression of the genes, and try instead to predict straight the phenotype from the genotype: therefore, we don't import any file from expression data.\n",
    "</div>"
   ]
  },
  {
   "cell_type": "code",
   "execution_count": 34,
   "metadata": {},
   "outputs": [
    {
     "name": "stdout",
     "output_type": "stream",
     "text": [
      "There is NaN values: False\n",
      "Number of Nan values: 291981\n",
      "Percentage of nan in the phenotype file: 61.66%\n"
     ]
    }
   ],
   "source": [
    "genotype_df = pd.read_csv(\"data/genotype_BXD.txt\", sep='\\t', index_col='SNP')\n",
    "\n",
    "# Remove F0 and F1 generation (parental)\n",
    "genotype_df.drop(['B6D2F1', 'D2B6F1', 'C57BL.6J', 'DBA.2J'], axis=1, inplace=True)\n",
    "\n",
    "genotype_df = genotype_df.transpose()\n",
    "genotype_df.index.name = 'BXD_strain'\n",
    "\n",
    "print(\"There is NaN values: %s\" % genotype_df.isna().any().any())\n",
    "\n",
    "phenotype_df = pd.read_csv(\"data/Phenotype.txt\", sep='\\t', index_col='PhenoID')\n",
    "\n",
    "# Remove F0 and F1 generation (parental)\n",
    "phenotype_df.drop(['B6D2F1', 'D2B6F1', 'C57BL.6J', 'DBA.2J'], axis=1, inplace=True)\n",
    "\n",
    "nan_count = phenotype_df.isna().sum().sum()\n",
    "entries_count = phenotype_df.shape[0] * phenotype_df.shape[1]\n",
    "\n",
    "print(\"Number of Nan values: %s\" % nan_count)\n",
    "print(\"Percentage of nan in the phenotype file: {:0.2f}%\".format(nan_count / entries_count * 100))"
   ]
  },
  {
   "cell_type": "markdown",
   "metadata": {},
   "source": [
    "### Phenotype_id_aligner"
   ]
  },
  {
   "cell_type": "code",
   "execution_count": 35,
   "metadata": {},
   "outputs": [],
   "source": [
    "# Phenotype id aligne is an in-depth description of each phenotype\n",
    "phenotype_id_aligner = pd.read_csv('data/phenotypes_id_aligner.txt', sep='\\t', encoding='latin1')\n",
    "phenotype_id_aligner.rename({'Quantitive.trait': 'quantitative_trait'}, axis=1, inplace=True)\n",
    "quant_pheno_best = phenotype_id_aligner[(phenotype_id_aligner.Strains > 70) & (phenotype_id_aligner.quantitative_trait == 'No')]\n",
    "quant_pheno_best = quant_pheno_best.sort_values(by='Strains', ascending=False)"
   ]
  },
  {
   "cell_type": "markdown",
   "metadata": {},
   "source": [
    "#### Weighted edges"
   ]
  },
  {
   "cell_type": "code",
   "execution_count": 38,
   "metadata": {},
   "outputs": [],
   "source": [
    "def epsilon_similarity_graph(X: np.ndarray, metric='euclidean', sigma=1, epsilon=0):\n",
    "    \"\"\" X (n x d): coordinates of the n data points in R^d.\n",
    "        sigma (float): width of the kernel\n",
    "        epsilon (float): threshold\n",
    "        Return:\n",
    "        adjacency (n x n ndarray): adjacency matrix of the graph.\n",
    "    \"\"\"\n",
    "    Dists = squareform(pdist(X,metric = \"euclidean\"))\n",
    "    Dists = np.exp(-Dists**2/(2 * sigma**2))\n",
    "    Dists[Dists <= epsilon] = 0\n",
    "    np.fill_diagonal(Dists,0)\n",
    "    return Dists"
   ]
  },
  {
   "cell_type": "markdown",
   "metadata": {},
   "source": [
    "# Exploitation"
   ]
  },
  {
   "cell_type": "markdown",
   "metadata": {},
   "source": [
    "TODO:\n",
    "* Throw a big gridsearch on many parameters\n",
    "* adapt the grid_search_graphs function s.t. it can compute the adjacency matrix with the gene expression data."
   ]
  },
  {
   "cell_type": "markdown",
   "metadata": {},
   "source": [
    "<div class=\"alert alert-block alert-info\">\n",
    "At that point, all we need is a pygsp graph describing the different strains: the way it is linked is therefore critical for the success of the algorithm.\n",
    "</div>"
   ]
  },
  {
   "cell_type": "code",
   "execution_count": 224,
   "metadata": {},
   "outputs": [],
   "source": [
    "#small parameters for tests\n",
    "METRICS = ['cosine']\n",
    "SIGMAS = [60,70]\n",
    "EPSILONS = [0.28]\n",
    "TAUS = [0.1]"
   ]
  },
  {
   "cell_type": "code",
   "execution_count": 242,
   "metadata": {},
   "outputs": [],
   "source": [
    "#real parameters\n",
    "METRICS = ['cosine','jaccard','hamming','euclidian']\n",
    "SIGMAS = np.arange(60,76,4)\n",
    "EPSILONS = np.arange(0.2,0.4,0.02)\n",
    "TAUS = [0,0.1,1,10]"
   ]
  },
  {
   "cell_type": "code",
   "execution_count": 237,
   "metadata": {},
   "outputs": [],
   "source": [
    "def get_min_max(params_scores):\n",
    "    ind_max = np.nanargmax([i[0] for i in params_scores])\n",
    "    ind_min = np.nanargmin([i[0] for i in params_scores])\n",
    "    maxo = params_scores[ind_max][0]\n",
    "    mino = params_scores[ind_min][0]\n",
    "    return mino,maxo"
   ]
  },
  {
   "cell_type": "code",
   "execution_count": 238,
   "metadata": {},
   "outputs": [],
   "source": [
    "def grid_search_graphs(CV_meth,metrics,sigmas,epsilons,taus,gene):\n",
    "    \"\"\"\n",
    "    CV_meth: a method performing cross validation (on discrete or continuous variable)\n",
    "    metrics: list of metrics usable in a pdist matrix\n",
    "    sigmas,epsilons: parameter for the adjacency matrix we do the grid search on\n",
    "    \"\"\"\n",
    "    params_scores = []\n",
    "    tot_comb = len(metrics) * len(sigmas) * len(epsilons) * len(taus)\n",
    "    for i,met in enumerate(metrics):\n",
    "        for j,sig in enumerate(sigmas):\n",
    "            for k,eps in enumerate(epsilons):\n",
    "                for l,tau in enumerate(taus):\n",
    "                    print(\" %i / %i combination\" % (l + len(taus) * (k + len(epsilons) * (j + len(sigmas) * (i))),tot_comb))\n",
    "                    try:\n",
    "                        weighted_adjacency = epsilon_similarity_graph(genotype_df.values, metric=met, sigma=sig, epsilon=eps)\n",
    "                        pygsp_weighted_graph = graphs.Graph(weighted_adjacency,lap_type='normalized') \n",
    "                        res = CV_meth(pygsp_weighted_graph,phenotype_df,genotype_df,tau,gene)\n",
    "                        params_scores.append([res,(met,sig,eps,tau)])\n",
    "                    except nx.NetworkXError:\n",
    "                        print('non connected graph with %.2f sigma and %.2f epsilon' % (sig,eps))\n",
    "                        continue\n",
    "    mino,maxo = get_min_max(params_scores)\n",
    "    print('#' * 32)\n",
    "    print('Biggest result for gene %s : %.2f' % (gene,maxo))\n",
    "    print('Smallest result for gene %s : %.2f' % (gene,mino))\n",
    "    print('#' * 32)\n",
    "    return params_scores\n",
    "    "
   ]
  },
  {
   "cell_type": "markdown",
   "metadata": {},
   "source": [
    "### Labels (hait coat color)"
   ]
  },
  {
   "cell_type": "code",
   "execution_count": 190,
   "metadata": {},
   "outputs": [],
   "source": [
    "def CV_hair_label(pygsp_weighted_graph,phenotype_df,genotype_df,tau,gene = 'X62',NUM_REPET = 50,plot = False):\n",
    "    y_true = phenotype_df.loc[gene][genotype_df.index].fillna(0)\n",
    "    acc = 0\n",
    "    for i in range(NUM_REPET):\n",
    "        rs = np.random.RandomState()\n",
    "        mask = rs.uniform(0,1,pygsp_weighted_graph.N) > 0.2\n",
    "        labels_true = y_true[~mask]\n",
    "        y_sparse = y_true.copy()\n",
    "        y_sparse[~mask] = np.nan\n",
    "\n",
    "        recovery = learning.classification_tikhonov(pygsp_weighted_graph,y_sparse,mask,tau=tau)\n",
    "        #we get rid of the 0 value: we don't accept no label\n",
    "\n",
    "        #recovery[:,0] = -1\n",
    "        prediction = np.argmax(recovery, axis=1)\n",
    "\n",
    "        labels_pred = prediction[~mask]\n",
    "        acc += accuracy_score(labels_true,labels_pred)\n",
    "    acc_final = acc/NUM_REPET\n",
    "    if plot:\n",
    "        print('Accuracy:',acc_final)\n",
    "        fig, ax = plt.subplots(1, 3, sharey=True, figsize=(20, 6))\n",
    "        #ground truth\n",
    "        pygsp_weighted_graph.plot_signal(y_true, ax=ax[0], title='Ground truth')\n",
    "        #measurements\n",
    "        pygsp_weighted_graph.plot_signal(y_sparse, ax=ax[1], title='Measurements')\n",
    "        #recover\n",
    "        pygsp_weighted_graph.plot_signal(prediction, ax=ax[2], title='Recovered class')\n",
    "    return acc_final"
   ]
  },
  {
   "cell_type": "code",
   "execution_count": 249,
   "metadata": {
    "collapsed": true,
    "jupyter": {
     "outputs_hidden": true
    }
   },
   "outputs": [
    {
     "name": "stdout",
     "output_type": "stream",
     "text": [
      " 0 / 640 combination\n"
     ]
    },
    {
     "name": "stderr",
     "output_type": "stream",
     "text": [
      "/home/ymentha/anaconda3/envs/ntds_2019/lib/python3.7/site-packages/scipy/sparse/linalg/dsolve/linsolve.py:193: MatrixRankWarning: Matrix is exactly singular\n",
      "  warn(\"Matrix is exactly singular\", MatrixRankWarning)\n"
     ]
    },
    {
     "name": "stdout",
     "output_type": "stream",
     "text": [
      " 1 / 640 combination\n",
      " 2 / 640 combination\n",
      " 3 / 640 combination\n",
      " 4 / 640 combination\n",
      " 5 / 640 combination\n"
     ]
    },
    {
     "name": "stderr",
     "output_type": "stream",
     "text": [
      "/home/ymentha/anaconda3/envs/ntds_2019/lib/python3.7/site-packages/scipy/sparse/linalg/dsolve/linsolve.py:193: MatrixRankWarning: Matrix is exactly singular\n",
      "  warn(\"Matrix is exactly singular\", MatrixRankWarning)\n"
     ]
    },
    {
     "name": "stdout",
     "output_type": "stream",
     "text": [
      " 6 / 640 combination\n",
      " 7 / 640 combination\n",
      " 8 / 640 combination\n",
      " 9 / 640 combination\n"
     ]
    },
    {
     "name": "stderr",
     "output_type": "stream",
     "text": [
      "/home/ymentha/anaconda3/envs/ntds_2019/lib/python3.7/site-packages/scipy/sparse/linalg/dsolve/linsolve.py:193: MatrixRankWarning: Matrix is exactly singular\n",
      "  warn(\"Matrix is exactly singular\", MatrixRankWarning)\n"
     ]
    },
    {
     "name": "stdout",
     "output_type": "stream",
     "text": [
      " 10 / 640 combination\n",
      " 11 / 640 combination\n",
      " 12 / 640 combination\n",
      " 13 / 640 combination\n"
     ]
    },
    {
     "name": "stderr",
     "output_type": "stream",
     "text": [
      "/home/ymentha/anaconda3/envs/ntds_2019/lib/python3.7/site-packages/scipy/sparse/linalg/dsolve/linsolve.py:193: MatrixRankWarning: Matrix is exactly singular\n",
      "  warn(\"Matrix is exactly singular\", MatrixRankWarning)\n"
     ]
    },
    {
     "name": "stdout",
     "output_type": "stream",
     "text": [
      " 14 / 640 combination\n",
      " 15 / 640 combination\n",
      " 16 / 640 combination\n",
      " 17 / 640 combination\n"
     ]
    },
    {
     "name": "stderr",
     "output_type": "stream",
     "text": [
      "/home/ymentha/anaconda3/envs/ntds_2019/lib/python3.7/site-packages/scipy/sparse/linalg/dsolve/linsolve.py:193: MatrixRankWarning: Matrix is exactly singular\n",
      "  warn(\"Matrix is exactly singular\", MatrixRankWarning)\n"
     ]
    },
    {
     "name": "stdout",
     "output_type": "stream",
     "text": [
      " 18 / 640 combination\n",
      " 19 / 640 combination\n",
      " 20 / 640 combination\n",
      " 21 / 640 combination\n"
     ]
    },
    {
     "name": "stderr",
     "output_type": "stream",
     "text": [
      "/home/ymentha/anaconda3/envs/ntds_2019/lib/python3.7/site-packages/scipy/sparse/linalg/dsolve/linsolve.py:193: MatrixRankWarning: Matrix is exactly singular\n",
      "  warn(\"Matrix is exactly singular\", MatrixRankWarning)\n"
     ]
    },
    {
     "name": "stdout",
     "output_type": "stream",
     "text": [
      " 22 / 640 combination\n",
      " 23 / 640 combination\n",
      " 24 / 640 combination\n",
      " 25 / 640 combination\n"
     ]
    },
    {
     "name": "stderr",
     "output_type": "stream",
     "text": [
      "/home/ymentha/anaconda3/envs/ntds_2019/lib/python3.7/site-packages/scipy/sparse/linalg/dsolve/linsolve.py:193: MatrixRankWarning: Matrix is exactly singular\n",
      "  warn(\"Matrix is exactly singular\", MatrixRankWarning)\n"
     ]
    },
    {
     "name": "stdout",
     "output_type": "stream",
     "text": [
      " 26 / 640 combination\n",
      " 27 / 640 combination\n",
      " 28 / 640 combination\n",
      " 29 / 640 combination\n"
     ]
    },
    {
     "name": "stderr",
     "output_type": "stream",
     "text": [
      "/home/ymentha/anaconda3/envs/ntds_2019/lib/python3.7/site-packages/scipy/sparse/linalg/dsolve/linsolve.py:193: MatrixRankWarning: Matrix is exactly singular\n",
      "  warn(\"Matrix is exactly singular\", MatrixRankWarning)\n"
     ]
    },
    {
     "name": "stdout",
     "output_type": "stream",
     "text": [
      " 30 / 640 combination\n",
      " 31 / 640 combination\n",
      " 32 / 640 combination\n"
     ]
    },
    {
     "name": "stderr",
     "output_type": "stream",
     "text": [
      "/home/ymentha/anaconda3/envs/ntds_2019/lib/python3.7/site-packages/scipy/sparse/linalg/dsolve/linsolve.py:193: MatrixRankWarning: Matrix is exactly singular\n",
      "  warn(\"Matrix is exactly singular\", MatrixRankWarning)\n"
     ]
    },
    {
     "name": "stdout",
     "output_type": "stream",
     "text": [
      " 33 / 640 combination\n",
      " 34 / 640 combination\n",
      " 35 / 640 combination\n",
      " 36 / 640 combination\n"
     ]
    },
    {
     "name": "stderr",
     "output_type": "stream",
     "text": [
      "/home/ymentha/anaconda3/envs/ntds_2019/lib/python3.7/site-packages/scipy/sparse/linalg/dsolve/linsolve.py:193: MatrixRankWarning: Matrix is exactly singular\n",
      "  warn(\"Matrix is exactly singular\", MatrixRankWarning)\n"
     ]
    },
    {
     "name": "stdout",
     "output_type": "stream",
     "text": [
      " 37 / 640 combination\n",
      " 38 / 640 combination\n",
      " 39 / 640 combination\n",
      " 40 / 640 combination\n",
      " 41 / 640 combination\n",
      " 42 / 640 combination\n",
      " 43 / 640 combination\n",
      " 44 / 640 combination\n",
      " 45 / 640 combination\n",
      " 46 / 640 combination\n",
      " 47 / 640 combination\n",
      " 48 / 640 combination\n",
      " 49 / 640 combination\n"
     ]
    },
    {
     "name": "stderr",
     "output_type": "stream",
     "text": [
      "/home/ymentha/anaconda3/envs/ntds_2019/lib/python3.7/site-packages/scipy/sparse/linalg/dsolve/linsolve.py:193: MatrixRankWarning: Matrix is exactly singular\n",
      "  warn(\"Matrix is exactly singular\", MatrixRankWarning)\n"
     ]
    },
    {
     "name": "stdout",
     "output_type": "stream",
     "text": [
      " 50 / 640 combination\n",
      " 51 / 640 combination\n",
      " 52 / 640 combination\n"
     ]
    },
    {
     "name": "stderr",
     "output_type": "stream",
     "text": [
      "/home/ymentha/anaconda3/envs/ntds_2019/lib/python3.7/site-packages/scipy/sparse/linalg/dsolve/linsolve.py:193: MatrixRankWarning: Matrix is exactly singular\n",
      "  warn(\"Matrix is exactly singular\", MatrixRankWarning)\n"
     ]
    },
    {
     "name": "stdout",
     "output_type": "stream",
     "text": [
      " 53 / 640 combination\n",
      " 54 / 640 combination\n",
      " 55 / 640 combination\n",
      " 56 / 640 combination\n"
     ]
    },
    {
     "name": "stderr",
     "output_type": "stream",
     "text": [
      "/home/ymentha/anaconda3/envs/ntds_2019/lib/python3.7/site-packages/scipy/sparse/linalg/dsolve/linsolve.py:193: MatrixRankWarning: Matrix is exactly singular\n",
      "  warn(\"Matrix is exactly singular\", MatrixRankWarning)\n"
     ]
    },
    {
     "name": "stdout",
     "output_type": "stream",
     "text": [
      " 57 / 640 combination\n",
      " 58 / 640 combination\n",
      " 59 / 640 combination\n",
      " 60 / 640 combination\n",
      " 61 / 640 combination\n"
     ]
    },
    {
     "name": "stderr",
     "output_type": "stream",
     "text": [
      "/home/ymentha/anaconda3/envs/ntds_2019/lib/python3.7/site-packages/scipy/sparse/linalg/dsolve/linsolve.py:193: MatrixRankWarning: Matrix is exactly singular\n",
      "  warn(\"Matrix is exactly singular\", MatrixRankWarning)\n"
     ]
    },
    {
     "name": "stdout",
     "output_type": "stream",
     "text": [
      " 62 / 640 combination\n",
      " 63 / 640 combination\n",
      " 64 / 640 combination\n",
      " 65 / 640 combination\n"
     ]
    },
    {
     "name": "stderr",
     "output_type": "stream",
     "text": [
      "/home/ymentha/anaconda3/envs/ntds_2019/lib/python3.7/site-packages/scipy/sparse/linalg/dsolve/linsolve.py:193: MatrixRankWarning: Matrix is exactly singular\n",
      "  warn(\"Matrix is exactly singular\", MatrixRankWarning)\n"
     ]
    },
    {
     "name": "stdout",
     "output_type": "stream",
     "text": [
      " 66 / 640 combination\n",
      " 67 / 640 combination\n",
      " 68 / 640 combination\n",
      " 69 / 640 combination\n"
     ]
    },
    {
     "name": "stderr",
     "output_type": "stream",
     "text": [
      "/home/ymentha/anaconda3/envs/ntds_2019/lib/python3.7/site-packages/scipy/sparse/linalg/dsolve/linsolve.py:193: MatrixRankWarning: Matrix is exactly singular\n",
      "  warn(\"Matrix is exactly singular\", MatrixRankWarning)\n"
     ]
    },
    {
     "name": "stdout",
     "output_type": "stream",
     "text": [
      " 70 / 640 combination\n",
      " 71 / 640 combination\n",
      " 72 / 640 combination\n",
      " 73 / 640 combination\n"
     ]
    },
    {
     "name": "stderr",
     "output_type": "stream",
     "text": [
      "/home/ymentha/anaconda3/envs/ntds_2019/lib/python3.7/site-packages/scipy/sparse/linalg/dsolve/linsolve.py:193: MatrixRankWarning: Matrix is exactly singular\n",
      "  warn(\"Matrix is exactly singular\", MatrixRankWarning)\n"
     ]
    },
    {
     "name": "stdout",
     "output_type": "stream",
     "text": [
      " 74 / 640 combination\n",
      " 75 / 640 combination\n",
      " 76 / 640 combination\n",
      " 77 / 640 combination\n"
     ]
    },
    {
     "name": "stderr",
     "output_type": "stream",
     "text": [
      "/home/ymentha/anaconda3/envs/ntds_2019/lib/python3.7/site-packages/scipy/sparse/linalg/dsolve/linsolve.py:193: MatrixRankWarning: Matrix is exactly singular\n",
      "  warn(\"Matrix is exactly singular\", MatrixRankWarning)\n"
     ]
    },
    {
     "name": "stdout",
     "output_type": "stream",
     "text": [
      " 78 / 640 combination\n",
      " 79 / 640 combination\n",
      " 80 / 640 combination\n",
      " 81 / 640 combination\n",
      " 82 / 640 combination\n",
      " 83 / 640 combination\n",
      " 84 / 640 combination\n",
      " 85 / 640 combination\n",
      " 86 / 640 combination\n",
      " 87 / 640 combination\n",
      " 88 / 640 combination\n",
      " 89 / 640 combination\n",
      " 90 / 640 combination\n",
      " 91 / 640 combination\n",
      " 92 / 640 combination\n",
      " 93 / 640 combination\n",
      " 94 / 640 combination\n",
      " 95 / 640 combination\n",
      " 96 / 640 combination\n",
      " 97 / 640 combination\n"
     ]
    },
    {
     "name": "stderr",
     "output_type": "stream",
     "text": [
      "/home/ymentha/anaconda3/envs/ntds_2019/lib/python3.7/site-packages/scipy/sparse/linalg/dsolve/linsolve.py:193: MatrixRankWarning: Matrix is exactly singular\n",
      "  warn(\"Matrix is exactly singular\", MatrixRankWarning)\n"
     ]
    },
    {
     "name": "stdout",
     "output_type": "stream",
     "text": [
      " 98 / 640 combination\n",
      " 99 / 640 combination\n",
      " 100 / 640 combination\n"
     ]
    },
    {
     "name": "stderr",
     "output_type": "stream",
     "text": [
      "/home/ymentha/anaconda3/envs/ntds_2019/lib/python3.7/site-packages/scipy/sparse/linalg/dsolve/linsolve.py:193: MatrixRankWarning: Matrix is exactly singular\n",
      "  warn(\"Matrix is exactly singular\", MatrixRankWarning)\n"
     ]
    },
    {
     "name": "stdout",
     "output_type": "stream",
     "text": [
      " 101 / 640 combination\n",
      " 102 / 640 combination\n",
      " 103 / 640 combination\n",
      " 104 / 640 combination\n",
      " 105 / 640 combination\n"
     ]
    },
    {
     "name": "stderr",
     "output_type": "stream",
     "text": [
      "/home/ymentha/anaconda3/envs/ntds_2019/lib/python3.7/site-packages/scipy/sparse/linalg/dsolve/linsolve.py:193: MatrixRankWarning: Matrix is exactly singular\n",
      "  warn(\"Matrix is exactly singular\", MatrixRankWarning)\n"
     ]
    },
    {
     "name": "stdout",
     "output_type": "stream",
     "text": [
      " 106 / 640 combination\n",
      " 107 / 640 combination\n",
      " 108 / 640 combination\n"
     ]
    },
    {
     "name": "stderr",
     "output_type": "stream",
     "text": [
      "/home/ymentha/anaconda3/envs/ntds_2019/lib/python3.7/site-packages/scipy/sparse/linalg/dsolve/linsolve.py:193: MatrixRankWarning: Matrix is exactly singular\n",
      "  warn(\"Matrix is exactly singular\", MatrixRankWarning)\n"
     ]
    },
    {
     "name": "stdout",
     "output_type": "stream",
     "text": [
      " 109 / 640 combination\n",
      " 110 / 640 combination\n",
      " 111 / 640 combination\n",
      " 112 / 640 combination\n",
      " 113 / 640 combination\n"
     ]
    },
    {
     "name": "stderr",
     "output_type": "stream",
     "text": [
      "/home/ymentha/anaconda3/envs/ntds_2019/lib/python3.7/site-packages/scipy/sparse/linalg/dsolve/linsolve.py:193: MatrixRankWarning: Matrix is exactly singular\n",
      "  warn(\"Matrix is exactly singular\", MatrixRankWarning)\n"
     ]
    },
    {
     "name": "stdout",
     "output_type": "stream",
     "text": [
      " 114 / 640 combination\n",
      " 115 / 640 combination\n",
      " 116 / 640 combination\n"
     ]
    },
    {
     "name": "stderr",
     "output_type": "stream",
     "text": [
      "/home/ymentha/anaconda3/envs/ntds_2019/lib/python3.7/site-packages/scipy/sparse/linalg/dsolve/linsolve.py:193: MatrixRankWarning: Matrix is exactly singular\n",
      "  warn(\"Matrix is exactly singular\", MatrixRankWarning)\n"
     ]
    },
    {
     "name": "stdout",
     "output_type": "stream",
     "text": [
      " 117 / 640 combination\n",
      " 118 / 640 combination\n",
      " 119 / 640 combination\n",
      " 120 / 640 combination\n",
      " 121 / 640 combination\n",
      " 122 / 640 combination\n",
      " 123 / 640 combination\n",
      " 124 / 640 combination\n",
      " 125 / 640 combination\n",
      " 126 / 640 combination\n",
      " 127 / 640 combination\n",
      " 128 / 640 combination\n",
      " 129 / 640 combination\n",
      " 130 / 640 combination\n",
      " 131 / 640 combination\n",
      " 132 / 640 combination\n",
      " 133 / 640 combination\n",
      " 134 / 640 combination\n",
      " 135 / 640 combination\n",
      " 136 / 640 combination\n",
      " 137 / 640 combination\n",
      " 138 / 640 combination\n",
      " 139 / 640 combination\n",
      " 140 / 640 combination\n",
      " 141 / 640 combination\n",
      " 142 / 640 combination\n",
      " 143 / 640 combination\n",
      " 144 / 640 combination\n"
     ]
    },
    {
     "name": "stderr",
     "output_type": "stream",
     "text": [
      "/home/ymentha/anaconda3/envs/ntds_2019/lib/python3.7/site-packages/scipy/sparse/linalg/dsolve/linsolve.py:193: MatrixRankWarning: Matrix is exactly singular\n",
      "  warn(\"Matrix is exactly singular\", MatrixRankWarning)\n"
     ]
    },
    {
     "name": "stdout",
     "output_type": "stream",
     "text": [
      " 145 / 640 combination\n",
      " 146 / 640 combination\n",
      " 147 / 640 combination\n",
      " 148 / 640 combination\n",
      " 149 / 640 combination\n"
     ]
    },
    {
     "name": "stderr",
     "output_type": "stream",
     "text": [
      "/home/ymentha/anaconda3/envs/ntds_2019/lib/python3.7/site-packages/scipy/sparse/linalg/dsolve/linsolve.py:193: MatrixRankWarning: Matrix is exactly singular\n",
      "  warn(\"Matrix is exactly singular\", MatrixRankWarning)\n"
     ]
    },
    {
     "name": "stdout",
     "output_type": "stream",
     "text": [
      " 150 / 640 combination\n",
      " 151 / 640 combination\n",
      " 152 / 640 combination\n"
     ]
    },
    {
     "name": "stderr",
     "output_type": "stream",
     "text": [
      "/home/ymentha/anaconda3/envs/ntds_2019/lib/python3.7/site-packages/scipy/sparse/linalg/dsolve/linsolve.py:193: MatrixRankWarning: Matrix is exactly singular\n",
      "  warn(\"Matrix is exactly singular\", MatrixRankWarning)\n"
     ]
    },
    {
     "name": "stdout",
     "output_type": "stream",
     "text": [
      " 153 / 640 combination\n",
      " 154 / 640 combination\n",
      " 155 / 640 combination\n",
      " 156 / 640 combination\n",
      " 157 / 640 combination\n"
     ]
    },
    {
     "name": "stderr",
     "output_type": "stream",
     "text": [
      "/home/ymentha/anaconda3/envs/ntds_2019/lib/python3.7/site-packages/scipy/sparse/linalg/dsolve/linsolve.py:193: MatrixRankWarning: Matrix is exactly singular\n",
      "  warn(\"Matrix is exactly singular\", MatrixRankWarning)\n"
     ]
    },
    {
     "name": "stdout",
     "output_type": "stream",
     "text": [
      " 158 / 640 combination\n",
      " 159 / 640 combination\n",
      " 160 / 640 combination\n",
      " 161 / 640 combination\n"
     ]
    },
    {
     "name": "stderr",
     "output_type": "stream",
     "text": [
      "/home/ymentha/anaconda3/envs/ntds_2019/lib/python3.7/site-packages/scipy/sparse/linalg/dsolve/linsolve.py:193: MatrixRankWarning: Matrix is exactly singular\n",
      "  warn(\"Matrix is exactly singular\", MatrixRankWarning)\n"
     ]
    },
    {
     "name": "stdout",
     "output_type": "stream",
     "text": [
      " 162 / 640 combination\n",
      " 163 / 640 combination\n",
      " 164 / 640 combination\n",
      " 165 / 640 combination\n"
     ]
    },
    {
     "name": "stderr",
     "output_type": "stream",
     "text": [
      "/home/ymentha/anaconda3/envs/ntds_2019/lib/python3.7/site-packages/scipy/sparse/linalg/dsolve/linsolve.py:193: MatrixRankWarning: Matrix is exactly singular\n",
      "  warn(\"Matrix is exactly singular\", MatrixRankWarning)\n"
     ]
    },
    {
     "name": "stdout",
     "output_type": "stream",
     "text": [
      " 166 / 640 combination\n",
      " 167 / 640 combination\n",
      " 168 / 640 combination\n",
      " 169 / 640 combination\n"
     ]
    },
    {
     "name": "stderr",
     "output_type": "stream",
     "text": [
      "/home/ymentha/anaconda3/envs/ntds_2019/lib/python3.7/site-packages/scipy/sparse/linalg/dsolve/linsolve.py:193: MatrixRankWarning: Matrix is exactly singular\n",
      "  warn(\"Matrix is exactly singular\", MatrixRankWarning)\n"
     ]
    },
    {
     "name": "stdout",
     "output_type": "stream",
     "text": [
      " 170 / 640 combination\n",
      " 171 / 640 combination\n",
      " 172 / 640 combination\n",
      " 173 / 640 combination\n"
     ]
    },
    {
     "name": "stderr",
     "output_type": "stream",
     "text": [
      "/home/ymentha/anaconda3/envs/ntds_2019/lib/python3.7/site-packages/scipy/sparse/linalg/dsolve/linsolve.py:193: MatrixRankWarning: Matrix is exactly singular\n",
      "  warn(\"Matrix is exactly singular\", MatrixRankWarning)\n"
     ]
    },
    {
     "name": "stdout",
     "output_type": "stream",
     "text": [
      " 174 / 640 combination\n",
      " 175 / 640 combination\n",
      " 176 / 640 combination\n",
      " 177 / 640 combination\n"
     ]
    },
    {
     "name": "stderr",
     "output_type": "stream",
     "text": [
      "/home/ymentha/anaconda3/envs/ntds_2019/lib/python3.7/site-packages/scipy/sparse/linalg/dsolve/linsolve.py:193: MatrixRankWarning: Matrix is exactly singular\n",
      "  warn(\"Matrix is exactly singular\", MatrixRankWarning)\n"
     ]
    },
    {
     "name": "stdout",
     "output_type": "stream",
     "text": [
      " 178 / 640 combination\n",
      " 179 / 640 combination\n",
      " 180 / 640 combination\n",
      " 181 / 640 combination\n"
     ]
    },
    {
     "name": "stderr",
     "output_type": "stream",
     "text": [
      "/home/ymentha/anaconda3/envs/ntds_2019/lib/python3.7/site-packages/scipy/sparse/linalg/dsolve/linsolve.py:193: MatrixRankWarning: Matrix is exactly singular\n",
      "  warn(\"Matrix is exactly singular\", MatrixRankWarning)\n"
     ]
    },
    {
     "name": "stdout",
     "output_type": "stream",
     "text": [
      " 182 / 640 combination\n",
      " 183 / 640 combination\n",
      " 184 / 640 combination\n",
      " 185 / 640 combination\n"
     ]
    },
    {
     "name": "stderr",
     "output_type": "stream",
     "text": [
      "/home/ymentha/anaconda3/envs/ntds_2019/lib/python3.7/site-packages/scipy/sparse/linalg/dsolve/linsolve.py:193: MatrixRankWarning: Matrix is exactly singular\n",
      "  warn(\"Matrix is exactly singular\", MatrixRankWarning)\n"
     ]
    },
    {
     "name": "stdout",
     "output_type": "stream",
     "text": [
      " 186 / 640 combination\n",
      " 187 / 640 combination\n",
      " 188 / 640 combination\n",
      " 189 / 640 combination\n"
     ]
    },
    {
     "name": "stderr",
     "output_type": "stream",
     "text": [
      "/home/ymentha/anaconda3/envs/ntds_2019/lib/python3.7/site-packages/scipy/sparse/linalg/dsolve/linsolve.py:193: MatrixRankWarning: Matrix is exactly singular\n",
      "  warn(\"Matrix is exactly singular\", MatrixRankWarning)\n"
     ]
    },
    {
     "name": "stdout",
     "output_type": "stream",
     "text": [
      " 190 / 640 combination\n",
      " 191 / 640 combination\n",
      " 192 / 640 combination\n",
      " 193 / 640 combination\n"
     ]
    },
    {
     "name": "stderr",
     "output_type": "stream",
     "text": [
      "/home/ymentha/anaconda3/envs/ntds_2019/lib/python3.7/site-packages/scipy/sparse/linalg/dsolve/linsolve.py:193: MatrixRankWarning: Matrix is exactly singular\n",
      "  warn(\"Matrix is exactly singular\", MatrixRankWarning)\n"
     ]
    },
    {
     "name": "stdout",
     "output_type": "stream",
     "text": [
      " 194 / 640 combination\n",
      " 195 / 640 combination\n",
      " 196 / 640 combination\n"
     ]
    },
    {
     "name": "stderr",
     "output_type": "stream",
     "text": [
      "/home/ymentha/anaconda3/envs/ntds_2019/lib/python3.7/site-packages/scipy/sparse/linalg/dsolve/linsolve.py:193: MatrixRankWarning: Matrix is exactly singular\n",
      "  warn(\"Matrix is exactly singular\", MatrixRankWarning)\n"
     ]
    },
    {
     "name": "stdout",
     "output_type": "stream",
     "text": [
      " 197 / 640 combination\n",
      " 198 / 640 combination\n",
      " 199 / 640 combination\n",
      " 200 / 640 combination\n",
      " 201 / 640 combination\n",
      " 202 / 640 combination\n",
      " 203 / 640 combination\n",
      " 204 / 640 combination\n",
      " 205 / 640 combination\n",
      " 206 / 640 combination\n",
      " 207 / 640 combination\n",
      " 208 / 640 combination\n"
     ]
    },
    {
     "name": "stderr",
     "output_type": "stream",
     "text": [
      "/home/ymentha/anaconda3/envs/ntds_2019/lib/python3.7/site-packages/scipy/sparse/linalg/dsolve/linsolve.py:193: MatrixRankWarning: Matrix is exactly singular\n",
      "  warn(\"Matrix is exactly singular\", MatrixRankWarning)\n"
     ]
    },
    {
     "name": "stdout",
     "output_type": "stream",
     "text": [
      " 209 / 640 combination\n",
      " 210 / 640 combination\n",
      " 211 / 640 combination\n",
      " 212 / 640 combination\n",
      " 213 / 640 combination\n"
     ]
    },
    {
     "name": "stderr",
     "output_type": "stream",
     "text": [
      "/home/ymentha/anaconda3/envs/ntds_2019/lib/python3.7/site-packages/scipy/sparse/linalg/dsolve/linsolve.py:193: MatrixRankWarning: Matrix is exactly singular\n",
      "  warn(\"Matrix is exactly singular\", MatrixRankWarning)\n"
     ]
    },
    {
     "name": "stdout",
     "output_type": "stream",
     "text": [
      " 214 / 640 combination\n",
      " 215 / 640 combination\n",
      " 216 / 640 combination\n"
     ]
    },
    {
     "name": "stderr",
     "output_type": "stream",
     "text": [
      "/home/ymentha/anaconda3/envs/ntds_2019/lib/python3.7/site-packages/scipy/sparse/linalg/dsolve/linsolve.py:193: MatrixRankWarning: Matrix is exactly singular\n",
      "  warn(\"Matrix is exactly singular\", MatrixRankWarning)\n"
     ]
    },
    {
     "name": "stdout",
     "output_type": "stream",
     "text": [
      " 217 / 640 combination\n",
      " 218 / 640 combination\n",
      " 219 / 640 combination\n",
      " 220 / 640 combination\n",
      " 221 / 640 combination\n"
     ]
    },
    {
     "name": "stderr",
     "output_type": "stream",
     "text": [
      "/home/ymentha/anaconda3/envs/ntds_2019/lib/python3.7/site-packages/scipy/sparse/linalg/dsolve/linsolve.py:193: MatrixRankWarning: Matrix is exactly singular\n",
      "  warn(\"Matrix is exactly singular\", MatrixRankWarning)\n"
     ]
    },
    {
     "name": "stdout",
     "output_type": "stream",
     "text": [
      " 222 / 640 combination\n",
      " 223 / 640 combination\n",
      " 224 / 640 combination\n"
     ]
    },
    {
     "name": "stderr",
     "output_type": "stream",
     "text": [
      "/home/ymentha/anaconda3/envs/ntds_2019/lib/python3.7/site-packages/scipy/sparse/linalg/dsolve/linsolve.py:193: MatrixRankWarning: Matrix is exactly singular\n",
      "  warn(\"Matrix is exactly singular\", MatrixRankWarning)\n"
     ]
    },
    {
     "name": "stdout",
     "output_type": "stream",
     "text": [
      " 225 / 640 combination\n",
      " 226 / 640 combination\n",
      " 227 / 640 combination\n",
      " 228 / 640 combination\n",
      " 229 / 640 combination\n"
     ]
    },
    {
     "name": "stderr",
     "output_type": "stream",
     "text": [
      "/home/ymentha/anaconda3/envs/ntds_2019/lib/python3.7/site-packages/scipy/sparse/linalg/dsolve/linsolve.py:193: MatrixRankWarning: Matrix is exactly singular\n",
      "  warn(\"Matrix is exactly singular\", MatrixRankWarning)\n"
     ]
    },
    {
     "name": "stdout",
     "output_type": "stream",
     "text": [
      " 230 / 640 combination\n",
      " 231 / 640 combination\n",
      " 232 / 640 combination\n",
      " 233 / 640 combination\n"
     ]
    },
    {
     "name": "stderr",
     "output_type": "stream",
     "text": [
      "/home/ymentha/anaconda3/envs/ntds_2019/lib/python3.7/site-packages/scipy/sparse/linalg/dsolve/linsolve.py:193: MatrixRankWarning: Matrix is exactly singular\n",
      "  warn(\"Matrix is exactly singular\", MatrixRankWarning)\n"
     ]
    },
    {
     "name": "stdout",
     "output_type": "stream",
     "text": [
      " 234 / 640 combination\n",
      " 235 / 640 combination\n",
      " 236 / 640 combination\n",
      " 237 / 640 combination\n"
     ]
    },
    {
     "name": "stderr",
     "output_type": "stream",
     "text": [
      "/home/ymentha/anaconda3/envs/ntds_2019/lib/python3.7/site-packages/scipy/sparse/linalg/dsolve/linsolve.py:193: MatrixRankWarning: Matrix is exactly singular\n",
      "  warn(\"Matrix is exactly singular\", MatrixRankWarning)\n"
     ]
    },
    {
     "name": "stdout",
     "output_type": "stream",
     "text": [
      " 238 / 640 combination\n",
      " 239 / 640 combination\n",
      " 240 / 640 combination\n",
      " 241 / 640 combination\n",
      " 242 / 640 combination\n",
      " 243 / 640 combination\n",
      " 244 / 640 combination\n",
      " 245 / 640 combination\n",
      " 246 / 640 combination\n",
      " 247 / 640 combination\n",
      " 248 / 640 combination\n",
      " 249 / 640 combination\n",
      " 250 / 640 combination\n",
      " 251 / 640 combination\n",
      " 252 / 640 combination\n",
      " 253 / 640 combination\n",
      " 254 / 640 combination\n",
      " 255 / 640 combination\n",
      " 256 / 640 combination\n",
      " 257 / 640 combination\n"
     ]
    },
    {
     "name": "stderr",
     "output_type": "stream",
     "text": [
      "/home/ymentha/anaconda3/envs/ntds_2019/lib/python3.7/site-packages/scipy/sparse/linalg/dsolve/linsolve.py:193: MatrixRankWarning: Matrix is exactly singular\n",
      "  warn(\"Matrix is exactly singular\", MatrixRankWarning)\n"
     ]
    },
    {
     "name": "stdout",
     "output_type": "stream",
     "text": [
      " 258 / 640 combination\n",
      " 259 / 640 combination\n",
      " 260 / 640 combination\n"
     ]
    },
    {
     "name": "stderr",
     "output_type": "stream",
     "text": [
      "/home/ymentha/anaconda3/envs/ntds_2019/lib/python3.7/site-packages/scipy/sparse/linalg/dsolve/linsolve.py:193: MatrixRankWarning: Matrix is exactly singular\n",
      "  warn(\"Matrix is exactly singular\", MatrixRankWarning)\n"
     ]
    },
    {
     "name": "stdout",
     "output_type": "stream",
     "text": [
      " 261 / 640 combination\n",
      " 262 / 640 combination\n",
      " 263 / 640 combination\n",
      " 264 / 640 combination\n",
      " 265 / 640 combination\n"
     ]
    },
    {
     "name": "stderr",
     "output_type": "stream",
     "text": [
      "/home/ymentha/anaconda3/envs/ntds_2019/lib/python3.7/site-packages/scipy/sparse/linalg/dsolve/linsolve.py:193: MatrixRankWarning: Matrix is exactly singular\n",
      "  warn(\"Matrix is exactly singular\", MatrixRankWarning)\n"
     ]
    },
    {
     "name": "stdout",
     "output_type": "stream",
     "text": [
      " 266 / 640 combination\n",
      " 267 / 640 combination\n",
      " 268 / 640 combination\n"
     ]
    },
    {
     "name": "stderr",
     "output_type": "stream",
     "text": [
      "/home/ymentha/anaconda3/envs/ntds_2019/lib/python3.7/site-packages/scipy/sparse/linalg/dsolve/linsolve.py:193: MatrixRankWarning: Matrix is exactly singular\n",
      "  warn(\"Matrix is exactly singular\", MatrixRankWarning)\n"
     ]
    },
    {
     "name": "stdout",
     "output_type": "stream",
     "text": [
      " 269 / 640 combination\n",
      " 270 / 640 combination\n",
      " 271 / 640 combination\n",
      " 272 / 640 combination\n",
      " 273 / 640 combination\n"
     ]
    },
    {
     "name": "stderr",
     "output_type": "stream",
     "text": [
      "/home/ymentha/anaconda3/envs/ntds_2019/lib/python3.7/site-packages/scipy/sparse/linalg/dsolve/linsolve.py:193: MatrixRankWarning: Matrix is exactly singular\n",
      "  warn(\"Matrix is exactly singular\", MatrixRankWarning)\n"
     ]
    },
    {
     "name": "stdout",
     "output_type": "stream",
     "text": [
      " 274 / 640 combination\n",
      " 275 / 640 combination\n",
      " 276 / 640 combination\n",
      " 277 / 640 combination\n"
     ]
    },
    {
     "name": "stderr",
     "output_type": "stream",
     "text": [
      "/home/ymentha/anaconda3/envs/ntds_2019/lib/python3.7/site-packages/scipy/sparse/linalg/dsolve/linsolve.py:193: MatrixRankWarning: Matrix is exactly singular\n",
      "  warn(\"Matrix is exactly singular\", MatrixRankWarning)\n"
     ]
    },
    {
     "name": "stdout",
     "output_type": "stream",
     "text": [
      " 278 / 640 combination\n",
      " 279 / 640 combination\n",
      " 280 / 640 combination\n",
      " 281 / 640 combination\n",
      " 282 / 640 combination\n",
      " 283 / 640 combination\n",
      " 284 / 640 combination\n",
      " 285 / 640 combination\n",
      " 286 / 640 combination\n",
      " 287 / 640 combination\n",
      " 288 / 640 combination\n",
      " 289 / 640 combination\n",
      " 290 / 640 combination\n",
      " 291 / 640 combination\n",
      " 292 / 640 combination\n",
      " 293 / 640 combination\n",
      " 294 / 640 combination\n",
      " 295 / 640 combination\n",
      " 296 / 640 combination\n",
      " 297 / 640 combination\n",
      " 298 / 640 combination\n",
      " 299 / 640 combination\n",
      " 300 / 640 combination\n",
      " 301 / 640 combination\n",
      " 302 / 640 combination\n",
      " 303 / 640 combination\n",
      " 304 / 640 combination\n"
     ]
    },
    {
     "name": "stderr",
     "output_type": "stream",
     "text": [
      "/home/ymentha/anaconda3/envs/ntds_2019/lib/python3.7/site-packages/scipy/sparse/linalg/dsolve/linsolve.py:193: MatrixRankWarning: Matrix is exactly singular\n",
      "  warn(\"Matrix is exactly singular\", MatrixRankWarning)\n"
     ]
    },
    {
     "name": "stdout",
     "output_type": "stream",
     "text": [
      " 305 / 640 combination\n",
      " 306 / 640 combination\n",
      " 307 / 640 combination\n",
      " 308 / 640 combination\n",
      " 309 / 640 combination\n"
     ]
    },
    {
     "name": "stderr",
     "output_type": "stream",
     "text": [
      "/home/ymentha/anaconda3/envs/ntds_2019/lib/python3.7/site-packages/scipy/sparse/linalg/dsolve/linsolve.py:193: MatrixRankWarning: Matrix is exactly singular\n",
      "  warn(\"Matrix is exactly singular\", MatrixRankWarning)\n"
     ]
    },
    {
     "name": "stdout",
     "output_type": "stream",
     "text": [
      " 310 / 640 combination\n",
      " 311 / 640 combination\n",
      " 312 / 640 combination\n"
     ]
    },
    {
     "name": "stderr",
     "output_type": "stream",
     "text": [
      "/home/ymentha/anaconda3/envs/ntds_2019/lib/python3.7/site-packages/scipy/sparse/linalg/dsolve/linsolve.py:193: MatrixRankWarning: Matrix is exactly singular\n",
      "  warn(\"Matrix is exactly singular\", MatrixRankWarning)\n"
     ]
    },
    {
     "name": "stdout",
     "output_type": "stream",
     "text": [
      " 313 / 640 combination\n",
      " 314 / 640 combination\n",
      " 315 / 640 combination\n",
      " 316 / 640 combination\n",
      " 317 / 640 combination\n"
     ]
    },
    {
     "name": "stderr",
     "output_type": "stream",
     "text": [
      "/home/ymentha/anaconda3/envs/ntds_2019/lib/python3.7/site-packages/scipy/sparse/linalg/dsolve/linsolve.py:193: MatrixRankWarning: Matrix is exactly singular\n",
      "  warn(\"Matrix is exactly singular\", MatrixRankWarning)\n"
     ]
    },
    {
     "name": "stdout",
     "output_type": "stream",
     "text": [
      " 318 / 640 combination\n",
      " 319 / 640 combination\n",
      " 320 / 640 combination\n",
      " 321 / 640 combination\n"
     ]
    },
    {
     "name": "stderr",
     "output_type": "stream",
     "text": [
      "/home/ymentha/anaconda3/envs/ntds_2019/lib/python3.7/site-packages/scipy/sparse/linalg/dsolve/linsolve.py:193: MatrixRankWarning: Matrix is exactly singular\n",
      "  warn(\"Matrix is exactly singular\", MatrixRankWarning)\n"
     ]
    },
    {
     "name": "stdout",
     "output_type": "stream",
     "text": [
      " 322 / 640 combination\n",
      " 323 / 640 combination\n",
      " 324 / 640 combination\n"
     ]
    },
    {
     "name": "stderr",
     "output_type": "stream",
     "text": [
      "/home/ymentha/anaconda3/envs/ntds_2019/lib/python3.7/site-packages/scipy/sparse/linalg/dsolve/linsolve.py:193: MatrixRankWarning: Matrix is exactly singular\n",
      "  warn(\"Matrix is exactly singular\", MatrixRankWarning)\n"
     ]
    },
    {
     "name": "stdout",
     "output_type": "stream",
     "text": [
      " 325 / 640 combination\n",
      " 326 / 640 combination\n",
      " 327 / 640 combination\n",
      " 328 / 640 combination\n",
      " 329 / 640 combination\n"
     ]
    },
    {
     "name": "stderr",
     "output_type": "stream",
     "text": [
      "/home/ymentha/anaconda3/envs/ntds_2019/lib/python3.7/site-packages/scipy/sparse/linalg/dsolve/linsolve.py:193: MatrixRankWarning: Matrix is exactly singular\n",
      "  warn(\"Matrix is exactly singular\", MatrixRankWarning)\n"
     ]
    },
    {
     "name": "stdout",
     "output_type": "stream",
     "text": [
      " 330 / 640 combination\n",
      " 331 / 640 combination\n",
      " 332 / 640 combination\n"
     ]
    },
    {
     "name": "stderr",
     "output_type": "stream",
     "text": [
      "/home/ymentha/anaconda3/envs/ntds_2019/lib/python3.7/site-packages/scipy/sparse/linalg/dsolve/linsolve.py:193: MatrixRankWarning: Matrix is exactly singular\n",
      "  warn(\"Matrix is exactly singular\", MatrixRankWarning)\n"
     ]
    },
    {
     "name": "stdout",
     "output_type": "stream",
     "text": [
      " 333 / 640 combination\n",
      " 334 / 640 combination\n",
      " 335 / 640 combination\n",
      " 336 / 640 combination\n"
     ]
    },
    {
     "name": "stderr",
     "output_type": "stream",
     "text": [
      "/home/ymentha/anaconda3/envs/ntds_2019/lib/python3.7/site-packages/scipy/sparse/linalg/dsolve/linsolve.py:193: MatrixRankWarning: Matrix is exactly singular\n",
      "  warn(\"Matrix is exactly singular\", MatrixRankWarning)\n"
     ]
    },
    {
     "name": "stdout",
     "output_type": "stream",
     "text": [
      " 337 / 640 combination\n",
      " 338 / 640 combination\n",
      " 339 / 640 combination\n",
      " 340 / 640 combination\n",
      " 341 / 640 combination\n"
     ]
    },
    {
     "name": "stderr",
     "output_type": "stream",
     "text": [
      "/home/ymentha/anaconda3/envs/ntds_2019/lib/python3.7/site-packages/scipy/sparse/linalg/dsolve/linsolve.py:193: MatrixRankWarning: Matrix is exactly singular\n",
      "  warn(\"Matrix is exactly singular\", MatrixRankWarning)\n"
     ]
    },
    {
     "name": "stdout",
     "output_type": "stream",
     "text": [
      " 342 / 640 combination\n",
      " 343 / 640 combination\n",
      " 344 / 640 combination\n",
      " 345 / 640 combination\n"
     ]
    },
    {
     "name": "stderr",
     "output_type": "stream",
     "text": [
      "/home/ymentha/anaconda3/envs/ntds_2019/lib/python3.7/site-packages/scipy/sparse/linalg/dsolve/linsolve.py:193: MatrixRankWarning: Matrix is exactly singular\n",
      "  warn(\"Matrix is exactly singular\", MatrixRankWarning)\n"
     ]
    },
    {
     "name": "stdout",
     "output_type": "stream",
     "text": [
      " 346 / 640 combination\n",
      " 347 / 640 combination\n",
      " 348 / 640 combination\n"
     ]
    },
    {
     "name": "stderr",
     "output_type": "stream",
     "text": [
      "/home/ymentha/anaconda3/envs/ntds_2019/lib/python3.7/site-packages/scipy/sparse/linalg/dsolve/linsolve.py:193: MatrixRankWarning: Matrix is exactly singular\n",
      "  warn(\"Matrix is exactly singular\", MatrixRankWarning)\n"
     ]
    },
    {
     "name": "stdout",
     "output_type": "stream",
     "text": [
      " 349 / 640 combination\n",
      " 350 / 640 combination\n",
      " 351 / 640 combination\n",
      " 352 / 640 combination\n"
     ]
    },
    {
     "name": "stderr",
     "output_type": "stream",
     "text": [
      "/home/ymentha/anaconda3/envs/ntds_2019/lib/python3.7/site-packages/scipy/sparse/linalg/dsolve/linsolve.py:193: MatrixRankWarning: Matrix is exactly singular\n",
      "  warn(\"Matrix is exactly singular\", MatrixRankWarning)\n"
     ]
    },
    {
     "name": "stdout",
     "output_type": "stream",
     "text": [
      " 353 / 640 combination\n",
      " 354 / 640 combination\n",
      " 355 / 640 combination\n",
      " 356 / 640 combination\n"
     ]
    },
    {
     "name": "stderr",
     "output_type": "stream",
     "text": [
      "/home/ymentha/anaconda3/envs/ntds_2019/lib/python3.7/site-packages/scipy/sparse/linalg/dsolve/linsolve.py:193: MatrixRankWarning: Matrix is exactly singular\n",
      "  warn(\"Matrix is exactly singular\", MatrixRankWarning)\n"
     ]
    },
    {
     "name": "stdout",
     "output_type": "stream",
     "text": [
      " 357 / 640 combination\n",
      " 358 / 640 combination\n",
      " 359 / 640 combination\n",
      " 360 / 640 combination\n",
      " 361 / 640 combination\n",
      " 362 / 640 combination\n",
      " 363 / 640 combination\n",
      " 364 / 640 combination\n",
      " 365 / 640 combination\n",
      " 366 / 640 combination\n",
      " 367 / 640 combination\n",
      " 368 / 640 combination\n",
      " 369 / 640 combination\n"
     ]
    },
    {
     "name": "stderr",
     "output_type": "stream",
     "text": [
      "/home/ymentha/anaconda3/envs/ntds_2019/lib/python3.7/site-packages/scipy/sparse/linalg/dsolve/linsolve.py:193: MatrixRankWarning: Matrix is exactly singular\n",
      "  warn(\"Matrix is exactly singular\", MatrixRankWarning)\n"
     ]
    },
    {
     "name": "stdout",
     "output_type": "stream",
     "text": [
      " 370 / 640 combination\n",
      " 371 / 640 combination\n",
      " 372 / 640 combination\n"
     ]
    },
    {
     "name": "stderr",
     "output_type": "stream",
     "text": [
      "/home/ymentha/anaconda3/envs/ntds_2019/lib/python3.7/site-packages/scipy/sparse/linalg/dsolve/linsolve.py:193: MatrixRankWarning: Matrix is exactly singular\n",
      "  warn(\"Matrix is exactly singular\", MatrixRankWarning)\n"
     ]
    },
    {
     "name": "stdout",
     "output_type": "stream",
     "text": [
      " 373 / 640 combination\n",
      " 374 / 640 combination\n",
      " 375 / 640 combination\n",
      " 376 / 640 combination\n",
      " 377 / 640 combination\n"
     ]
    },
    {
     "name": "stderr",
     "output_type": "stream",
     "text": [
      "/home/ymentha/anaconda3/envs/ntds_2019/lib/python3.7/site-packages/scipy/sparse/linalg/dsolve/linsolve.py:193: MatrixRankWarning: Matrix is exactly singular\n",
      "  warn(\"Matrix is exactly singular\", MatrixRankWarning)\n"
     ]
    },
    {
     "name": "stdout",
     "output_type": "stream",
     "text": [
      " 378 / 640 combination\n",
      " 379 / 640 combination\n",
      " 380 / 640 combination\n",
      " 381 / 640 combination\n"
     ]
    },
    {
     "name": "stderr",
     "output_type": "stream",
     "text": [
      "/home/ymentha/anaconda3/envs/ntds_2019/lib/python3.7/site-packages/scipy/sparse/linalg/dsolve/linsolve.py:193: MatrixRankWarning: Matrix is exactly singular\n",
      "  warn(\"Matrix is exactly singular\", MatrixRankWarning)\n"
     ]
    },
    {
     "name": "stdout",
     "output_type": "stream",
     "text": [
      " 382 / 640 combination\n",
      " 383 / 640 combination\n",
      " 384 / 640 combination\n",
      " 385 / 640 combination\n"
     ]
    },
    {
     "name": "stderr",
     "output_type": "stream",
     "text": [
      "/home/ymentha/anaconda3/envs/ntds_2019/lib/python3.7/site-packages/scipy/sparse/linalg/dsolve/linsolve.py:193: MatrixRankWarning: Matrix is exactly singular\n",
      "  warn(\"Matrix is exactly singular\", MatrixRankWarning)\n"
     ]
    },
    {
     "name": "stdout",
     "output_type": "stream",
     "text": [
      " 386 / 640 combination\n",
      " 387 / 640 combination\n",
      " 388 / 640 combination\n",
      " 389 / 640 combination\n"
     ]
    },
    {
     "name": "stderr",
     "output_type": "stream",
     "text": [
      "/home/ymentha/anaconda3/envs/ntds_2019/lib/python3.7/site-packages/scipy/sparse/linalg/dsolve/linsolve.py:193: MatrixRankWarning: Matrix is exactly singular\n",
      "  warn(\"Matrix is exactly singular\", MatrixRankWarning)\n"
     ]
    },
    {
     "name": "stdout",
     "output_type": "stream",
     "text": [
      " 390 / 640 combination\n",
      " 391 / 640 combination\n",
      " 392 / 640 combination\n"
     ]
    },
    {
     "name": "stderr",
     "output_type": "stream",
     "text": [
      "/home/ymentha/anaconda3/envs/ntds_2019/lib/python3.7/site-packages/scipy/sparse/linalg/dsolve/linsolve.py:193: MatrixRankWarning: Matrix is exactly singular\n",
      "  warn(\"Matrix is exactly singular\", MatrixRankWarning)\n"
     ]
    },
    {
     "name": "stdout",
     "output_type": "stream",
     "text": [
      " 393 / 640 combination\n",
      " 394 / 640 combination\n",
      " 395 / 640 combination\n",
      " 396 / 640 combination\n",
      " 397 / 640 combination\n"
     ]
    },
    {
     "name": "stderr",
     "output_type": "stream",
     "text": [
      "/home/ymentha/anaconda3/envs/ntds_2019/lib/python3.7/site-packages/scipy/sparse/linalg/dsolve/linsolve.py:193: MatrixRankWarning: Matrix is exactly singular\n",
      "  warn(\"Matrix is exactly singular\", MatrixRankWarning)\n"
     ]
    },
    {
     "name": "stdout",
     "output_type": "stream",
     "text": [
      " 398 / 640 combination\n",
      " 399 / 640 combination\n",
      " 400 / 640 combination\n",
      " 401 / 640 combination\n",
      " 402 / 640 combination\n",
      " 403 / 640 combination\n",
      " 404 / 640 combination\n",
      " 405 / 640 combination\n",
      " 406 / 640 combination\n",
      " 407 / 640 combination\n",
      " 408 / 640 combination\n",
      " 409 / 640 combination\n",
      " 410 / 640 combination\n",
      " 411 / 640 combination\n",
      " 412 / 640 combination\n",
      " 413 / 640 combination\n",
      " 414 / 640 combination\n",
      " 415 / 640 combination\n",
      " 416 / 640 combination\n",
      " 417 / 640 combination\n"
     ]
    },
    {
     "name": "stderr",
     "output_type": "stream",
     "text": [
      "/home/ymentha/anaconda3/envs/ntds_2019/lib/python3.7/site-packages/scipy/sparse/linalg/dsolve/linsolve.py:193: MatrixRankWarning: Matrix is exactly singular\n",
      "  warn(\"Matrix is exactly singular\", MatrixRankWarning)\n"
     ]
    },
    {
     "name": "stdout",
     "output_type": "stream",
     "text": [
      " 418 / 640 combination\n",
      " 419 / 640 combination\n",
      " 420 / 640 combination\n",
      " 421 / 640 combination\n"
     ]
    },
    {
     "name": "stderr",
     "output_type": "stream",
     "text": [
      "/home/ymentha/anaconda3/envs/ntds_2019/lib/python3.7/site-packages/scipy/sparse/linalg/dsolve/linsolve.py:193: MatrixRankWarning: Matrix is exactly singular\n",
      "  warn(\"Matrix is exactly singular\", MatrixRankWarning)\n"
     ]
    },
    {
     "name": "stdout",
     "output_type": "stream",
     "text": [
      " 422 / 640 combination\n",
      " 423 / 640 combination\n",
      " 424 / 640 combination\n"
     ]
    },
    {
     "name": "stderr",
     "output_type": "stream",
     "text": [
      "/home/ymentha/anaconda3/envs/ntds_2019/lib/python3.7/site-packages/scipy/sparse/linalg/dsolve/linsolve.py:193: MatrixRankWarning: Matrix is exactly singular\n",
      "  warn(\"Matrix is exactly singular\", MatrixRankWarning)\n"
     ]
    },
    {
     "name": "stdout",
     "output_type": "stream",
     "text": [
      " 425 / 640 combination\n",
      " 426 / 640 combination\n",
      " 427 / 640 combination\n",
      " 428 / 640 combination\n",
      " 429 / 640 combination\n"
     ]
    },
    {
     "name": "stderr",
     "output_type": "stream",
     "text": [
      "/home/ymentha/anaconda3/envs/ntds_2019/lib/python3.7/site-packages/scipy/sparse/linalg/dsolve/linsolve.py:193: MatrixRankWarning: Matrix is exactly singular\n",
      "  warn(\"Matrix is exactly singular\", MatrixRankWarning)\n"
     ]
    },
    {
     "name": "stdout",
     "output_type": "stream",
     "text": [
      " 430 / 640 combination\n",
      " 431 / 640 combination\n",
      " 432 / 640 combination\n"
     ]
    },
    {
     "name": "stderr",
     "output_type": "stream",
     "text": [
      "/home/ymentha/anaconda3/envs/ntds_2019/lib/python3.7/site-packages/scipy/sparse/linalg/dsolve/linsolve.py:193: MatrixRankWarning: Matrix is exactly singular\n",
      "  warn(\"Matrix is exactly singular\", MatrixRankWarning)\n"
     ]
    },
    {
     "name": "stdout",
     "output_type": "stream",
     "text": [
      " 433 / 640 combination\n",
      " 434 / 640 combination\n",
      " 435 / 640 combination\n",
      " 436 / 640 combination\n",
      " 437 / 640 combination\n"
     ]
    },
    {
     "name": "stderr",
     "output_type": "stream",
     "text": [
      "/home/ymentha/anaconda3/envs/ntds_2019/lib/python3.7/site-packages/scipy/sparse/linalg/dsolve/linsolve.py:193: MatrixRankWarning: Matrix is exactly singular\n",
      "  warn(\"Matrix is exactly singular\", MatrixRankWarning)\n"
     ]
    },
    {
     "name": "stdout",
     "output_type": "stream",
     "text": [
      " 438 / 640 combination\n",
      " 439 / 640 combination\n",
      " 440 / 640 combination\n",
      " 441 / 640 combination\n",
      " 442 / 640 combination\n",
      " 443 / 640 combination\n",
      " 444 / 640 combination\n",
      " 445 / 640 combination\n",
      " 446 / 640 combination\n",
      " 447 / 640 combination\n",
      " 448 / 640 combination\n",
      " 449 / 640 combination\n",
      " 450 / 640 combination\n",
      " 451 / 640 combination\n",
      " 452 / 640 combination\n",
      " 453 / 640 combination\n",
      " 454 / 640 combination\n",
      " 455 / 640 combination\n",
      " 456 / 640 combination\n",
      " 457 / 640 combination\n",
      " 458 / 640 combination\n",
      " 459 / 640 combination\n",
      " 460 / 640 combination\n",
      " 461 / 640 combination\n",
      " 462 / 640 combination\n",
      " 463 / 640 combination\n",
      " 464 / 640 combination\n",
      " 465 / 640 combination\n"
     ]
    },
    {
     "name": "stderr",
     "output_type": "stream",
     "text": [
      "/home/ymentha/anaconda3/envs/ntds_2019/lib/python3.7/site-packages/scipy/sparse/linalg/dsolve/linsolve.py:193: MatrixRankWarning: Matrix is exactly singular\n",
      "  warn(\"Matrix is exactly singular\", MatrixRankWarning)\n"
     ]
    },
    {
     "name": "stdout",
     "output_type": "stream",
     "text": [
      " 466 / 640 combination\n",
      " 467 / 640 combination\n",
      " 468 / 640 combination\n"
     ]
    },
    {
     "name": "stderr",
     "output_type": "stream",
     "text": [
      "/home/ymentha/anaconda3/envs/ntds_2019/lib/python3.7/site-packages/scipy/sparse/linalg/dsolve/linsolve.py:193: MatrixRankWarning: Matrix is exactly singular\n",
      "  warn(\"Matrix is exactly singular\", MatrixRankWarning)\n"
     ]
    },
    {
     "name": "stdout",
     "output_type": "stream",
     "text": [
      " 469 / 640 combination\n",
      " 470 / 640 combination\n",
      " 471 / 640 combination\n",
      " 472 / 640 combination\n"
     ]
    },
    {
     "name": "stderr",
     "output_type": "stream",
     "text": [
      "/home/ymentha/anaconda3/envs/ntds_2019/lib/python3.7/site-packages/scipy/sparse/linalg/dsolve/linsolve.py:193: MatrixRankWarning: Matrix is exactly singular\n",
      "  warn(\"Matrix is exactly singular\", MatrixRankWarning)\n"
     ]
    },
    {
     "name": "stdout",
     "output_type": "stream",
     "text": [
      " 473 / 640 combination\n",
      " 474 / 640 combination\n",
      " 475 / 640 combination\n",
      " 476 / 640 combination\n",
      " 477 / 640 combination\n"
     ]
    },
    {
     "name": "stderr",
     "output_type": "stream",
     "text": [
      "/home/ymentha/anaconda3/envs/ntds_2019/lib/python3.7/site-packages/scipy/sparse/linalg/dsolve/linsolve.py:193: MatrixRankWarning: Matrix is exactly singular\n",
      "  warn(\"Matrix is exactly singular\", MatrixRankWarning)\n"
     ]
    },
    {
     "name": "stdout",
     "output_type": "stream",
     "text": [
      " 478 / 640 combination\n",
      " 479 / 640 combination\n",
      " 480 / 640 combination\n",
      " 481 / 640 combination\n"
     ]
    },
    {
     "name": "stderr",
     "output_type": "stream",
     "text": [
      "/home/ymentha/anaconda3/envs/ntds_2019/lib/python3.7/site-packages/scipy/sparse/linalg/dsolve/linsolve.py:193: MatrixRankWarning: Matrix is exactly singular\n",
      "  warn(\"Matrix is exactly singular\", MatrixRankWarning)\n"
     ]
    },
    {
     "name": "stdout",
     "output_type": "stream",
     "text": [
      " 482 / 640 combination\n",
      " 483 / 640 combination\n",
      " 484 / 640 combination\n",
      " 485 / 640 combination\n"
     ]
    },
    {
     "name": "stderr",
     "output_type": "stream",
     "text": [
      "/home/ymentha/anaconda3/envs/ntds_2019/lib/python3.7/site-packages/scipy/sparse/linalg/dsolve/linsolve.py:193: MatrixRankWarning: Matrix is exactly singular\n",
      "  warn(\"Matrix is exactly singular\", MatrixRankWarning)\n"
     ]
    },
    {
     "name": "stdout",
     "output_type": "stream",
     "text": [
      " 486 / 640 combination\n",
      " 487 / 640 combination\n",
      " 488 / 640 combination\n",
      " 489 / 640 combination\n"
     ]
    },
    {
     "name": "stderr",
     "output_type": "stream",
     "text": [
      "/home/ymentha/anaconda3/envs/ntds_2019/lib/python3.7/site-packages/scipy/sparse/linalg/dsolve/linsolve.py:193: MatrixRankWarning: Matrix is exactly singular\n",
      "  warn(\"Matrix is exactly singular\", MatrixRankWarning)\n"
     ]
    },
    {
     "name": "stdout",
     "output_type": "stream",
     "text": [
      " 490 / 640 combination\n",
      " 491 / 640 combination\n",
      " 492 / 640 combination\n",
      " 493 / 640 combination\n"
     ]
    },
    {
     "name": "stderr",
     "output_type": "stream",
     "text": [
      "/home/ymentha/anaconda3/envs/ntds_2019/lib/python3.7/site-packages/scipy/sparse/linalg/dsolve/linsolve.py:193: MatrixRankWarning: Matrix is exactly singular\n",
      "  warn(\"Matrix is exactly singular\", MatrixRankWarning)\n"
     ]
    },
    {
     "name": "stdout",
     "output_type": "stream",
     "text": [
      " 494 / 640 combination\n",
      " 495 / 640 combination\n",
      " 496 / 640 combination\n",
      " 497 / 640 combination\n"
     ]
    },
    {
     "name": "stderr",
     "output_type": "stream",
     "text": [
      "/home/ymentha/anaconda3/envs/ntds_2019/lib/python3.7/site-packages/scipy/sparse/linalg/dsolve/linsolve.py:193: MatrixRankWarning: Matrix is exactly singular\n",
      "  warn(\"Matrix is exactly singular\", MatrixRankWarning)\n"
     ]
    },
    {
     "name": "stdout",
     "output_type": "stream",
     "text": [
      " 498 / 640 combination\n",
      " 499 / 640 combination\n",
      " 500 / 640 combination\n",
      " 501 / 640 combination\n"
     ]
    },
    {
     "name": "stderr",
     "output_type": "stream",
     "text": [
      "/home/ymentha/anaconda3/envs/ntds_2019/lib/python3.7/site-packages/scipy/sparse/linalg/dsolve/linsolve.py:193: MatrixRankWarning: Matrix is exactly singular\n",
      "  warn(\"Matrix is exactly singular\", MatrixRankWarning)\n"
     ]
    },
    {
     "name": "stdout",
     "output_type": "stream",
     "text": [
      " 502 / 640 combination\n",
      " 503 / 640 combination\n",
      " 504 / 640 combination\n",
      " 505 / 640 combination\n"
     ]
    },
    {
     "name": "stderr",
     "output_type": "stream",
     "text": [
      "/home/ymentha/anaconda3/envs/ntds_2019/lib/python3.7/site-packages/scipy/sparse/linalg/dsolve/linsolve.py:193: MatrixRankWarning: Matrix is exactly singular\n",
      "  warn(\"Matrix is exactly singular\", MatrixRankWarning)\n"
     ]
    },
    {
     "name": "stdout",
     "output_type": "stream",
     "text": [
      " 506 / 640 combination\n",
      " 507 / 640 combination\n",
      " 508 / 640 combination\n",
      " 509 / 640 combination\n"
     ]
    },
    {
     "name": "stderr",
     "output_type": "stream",
     "text": [
      "/home/ymentha/anaconda3/envs/ntds_2019/lib/python3.7/site-packages/scipy/sparse/linalg/dsolve/linsolve.py:193: MatrixRankWarning: Matrix is exactly singular\n",
      "  warn(\"Matrix is exactly singular\", MatrixRankWarning)\n"
     ]
    },
    {
     "name": "stdout",
     "output_type": "stream",
     "text": [
      " 510 / 640 combination\n",
      " 511 / 640 combination\n",
      " 512 / 640 combination\n"
     ]
    },
    {
     "name": "stderr",
     "output_type": "stream",
     "text": [
      "/home/ymentha/anaconda3/envs/ntds_2019/lib/python3.7/site-packages/scipy/sparse/linalg/dsolve/linsolve.py:193: MatrixRankWarning: Matrix is exactly singular\n",
      "  warn(\"Matrix is exactly singular\", MatrixRankWarning)\n"
     ]
    },
    {
     "name": "stdout",
     "output_type": "stream",
     "text": [
      " 513 / 640 combination\n",
      " 514 / 640 combination\n",
      " 515 / 640 combination\n",
      " 516 / 640 combination\n",
      " 517 / 640 combination\n"
     ]
    },
    {
     "name": "stderr",
     "output_type": "stream",
     "text": [
      "/home/ymentha/anaconda3/envs/ntds_2019/lib/python3.7/site-packages/scipy/sparse/linalg/dsolve/linsolve.py:193: MatrixRankWarning: Matrix is exactly singular\n",
      "  warn(\"Matrix is exactly singular\", MatrixRankWarning)\n"
     ]
    },
    {
     "name": "stdout",
     "output_type": "stream",
     "text": [
      " 518 / 640 combination\n",
      " 519 / 640 combination\n",
      " 520 / 640 combination\n",
      " 521 / 640 combination\n",
      " 522 / 640 combination\n",
      " 523 / 640 combination\n",
      " 524 / 640 combination\n",
      " 525 / 640 combination\n",
      " 526 / 640 combination\n",
      " 527 / 640 combination\n",
      " 528 / 640 combination\n",
      " 529 / 640 combination\n"
     ]
    },
    {
     "name": "stderr",
     "output_type": "stream",
     "text": [
      "/home/ymentha/anaconda3/envs/ntds_2019/lib/python3.7/site-packages/scipy/sparse/linalg/dsolve/linsolve.py:193: MatrixRankWarning: Matrix is exactly singular\n",
      "  warn(\"Matrix is exactly singular\", MatrixRankWarning)\n"
     ]
    },
    {
     "name": "stdout",
     "output_type": "stream",
     "text": [
      " 530 / 640 combination\n",
      " 531 / 640 combination\n",
      " 532 / 640 combination\n"
     ]
    },
    {
     "name": "stderr",
     "output_type": "stream",
     "text": [
      "/home/ymentha/anaconda3/envs/ntds_2019/lib/python3.7/site-packages/scipy/sparse/linalg/dsolve/linsolve.py:193: MatrixRankWarning: Matrix is exactly singular\n",
      "  warn(\"Matrix is exactly singular\", MatrixRankWarning)\n"
     ]
    },
    {
     "name": "stdout",
     "output_type": "stream",
     "text": [
      " 533 / 640 combination\n",
      " 534 / 640 combination\n",
      " 535 / 640 combination\n",
      " 536 / 640 combination\n",
      " 537 / 640 combination\n"
     ]
    },
    {
     "name": "stderr",
     "output_type": "stream",
     "text": [
      "/home/ymentha/anaconda3/envs/ntds_2019/lib/python3.7/site-packages/scipy/sparse/linalg/dsolve/linsolve.py:193: MatrixRankWarning: Matrix is exactly singular\n",
      "  warn(\"Matrix is exactly singular\", MatrixRankWarning)\n"
     ]
    },
    {
     "name": "stdout",
     "output_type": "stream",
     "text": [
      " 538 / 640 combination\n",
      " 539 / 640 combination\n",
      " 540 / 640 combination\n"
     ]
    },
    {
     "name": "stderr",
     "output_type": "stream",
     "text": [
      "/home/ymentha/anaconda3/envs/ntds_2019/lib/python3.7/site-packages/scipy/sparse/linalg/dsolve/linsolve.py:193: MatrixRankWarning: Matrix is exactly singular\n",
      "  warn(\"Matrix is exactly singular\", MatrixRankWarning)\n"
     ]
    },
    {
     "name": "stdout",
     "output_type": "stream",
     "text": [
      " 541 / 640 combination\n",
      " 542 / 640 combination\n",
      " 543 / 640 combination\n",
      " 544 / 640 combination\n",
      " 545 / 640 combination\n"
     ]
    },
    {
     "name": "stderr",
     "output_type": "stream",
     "text": [
      "/home/ymentha/anaconda3/envs/ntds_2019/lib/python3.7/site-packages/scipy/sparse/linalg/dsolve/linsolve.py:193: MatrixRankWarning: Matrix is exactly singular\n",
      "  warn(\"Matrix is exactly singular\", MatrixRankWarning)\n"
     ]
    },
    {
     "name": "stdout",
     "output_type": "stream",
     "text": [
      " 546 / 640 combination\n",
      " 547 / 640 combination\n",
      " 548 / 640 combination\n",
      " 549 / 640 combination\n"
     ]
    },
    {
     "name": "stderr",
     "output_type": "stream",
     "text": [
      "/home/ymentha/anaconda3/envs/ntds_2019/lib/python3.7/site-packages/scipy/sparse/linalg/dsolve/linsolve.py:193: MatrixRankWarning: Matrix is exactly singular\n",
      "  warn(\"Matrix is exactly singular\", MatrixRankWarning)\n"
     ]
    },
    {
     "name": "stdout",
     "output_type": "stream",
     "text": [
      " 550 / 640 combination\n",
      " 551 / 640 combination\n",
      " 552 / 640 combination\n",
      " 553 / 640 combination\n"
     ]
    },
    {
     "name": "stderr",
     "output_type": "stream",
     "text": [
      "/home/ymentha/anaconda3/envs/ntds_2019/lib/python3.7/site-packages/scipy/sparse/linalg/dsolve/linsolve.py:193: MatrixRankWarning: Matrix is exactly singular\n",
      "  warn(\"Matrix is exactly singular\", MatrixRankWarning)\n"
     ]
    },
    {
     "name": "stdout",
     "output_type": "stream",
     "text": [
      " 554 / 640 combination\n",
      " 555 / 640 combination\n",
      " 556 / 640 combination\n",
      " 557 / 640 combination\n"
     ]
    },
    {
     "name": "stderr",
     "output_type": "stream",
     "text": [
      "/home/ymentha/anaconda3/envs/ntds_2019/lib/python3.7/site-packages/scipy/sparse/linalg/dsolve/linsolve.py:193: MatrixRankWarning: Matrix is exactly singular\n",
      "  warn(\"Matrix is exactly singular\", MatrixRankWarning)\n"
     ]
    },
    {
     "name": "stdout",
     "output_type": "stream",
     "text": [
      " 558 / 640 combination\n",
      " 559 / 640 combination\n",
      " 560 / 640 combination\n",
      " 561 / 640 combination\n",
      " 562 / 640 combination\n",
      " 563 / 640 combination\n",
      " 564 / 640 combination\n",
      " 565 / 640 combination\n",
      " 566 / 640 combination\n",
      " 567 / 640 combination\n",
      " 568 / 640 combination\n",
      " 569 / 640 combination\n",
      " 570 / 640 combination\n",
      " 571 / 640 combination\n",
      " 572 / 640 combination\n",
      " 573 / 640 combination\n",
      " 574 / 640 combination\n",
      " 575 / 640 combination\n",
      " 576 / 640 combination\n",
      " 577 / 640 combination\n"
     ]
    },
    {
     "name": "stderr",
     "output_type": "stream",
     "text": [
      "/home/ymentha/anaconda3/envs/ntds_2019/lib/python3.7/site-packages/scipy/sparse/linalg/dsolve/linsolve.py:193: MatrixRankWarning: Matrix is exactly singular\n",
      "  warn(\"Matrix is exactly singular\", MatrixRankWarning)\n"
     ]
    },
    {
     "name": "stdout",
     "output_type": "stream",
     "text": [
      " 578 / 640 combination\n",
      " 579 / 640 combination\n",
      " 580 / 640 combination\n",
      " 581 / 640 combination\n"
     ]
    },
    {
     "name": "stderr",
     "output_type": "stream",
     "text": [
      "/home/ymentha/anaconda3/envs/ntds_2019/lib/python3.7/site-packages/scipy/sparse/linalg/dsolve/linsolve.py:193: MatrixRankWarning: Matrix is exactly singular\n",
      "  warn(\"Matrix is exactly singular\", MatrixRankWarning)\n"
     ]
    },
    {
     "name": "stdout",
     "output_type": "stream",
     "text": [
      " 582 / 640 combination\n",
      " 583 / 640 combination\n",
      " 584 / 640 combination\n"
     ]
    },
    {
     "name": "stderr",
     "output_type": "stream",
     "text": [
      "/home/ymentha/anaconda3/envs/ntds_2019/lib/python3.7/site-packages/scipy/sparse/linalg/dsolve/linsolve.py:193: MatrixRankWarning: Matrix is exactly singular\n",
      "  warn(\"Matrix is exactly singular\", MatrixRankWarning)\n"
     ]
    },
    {
     "name": "stdout",
     "output_type": "stream",
     "text": [
      " 585 / 640 combination\n",
      " 586 / 640 combination\n",
      " 587 / 640 combination\n",
      " 588 / 640 combination\n"
     ]
    },
    {
     "name": "stderr",
     "output_type": "stream",
     "text": [
      "/home/ymentha/anaconda3/envs/ntds_2019/lib/python3.7/site-packages/scipy/sparse/linalg/dsolve/linsolve.py:193: MatrixRankWarning: Matrix is exactly singular\n",
      "  warn(\"Matrix is exactly singular\", MatrixRankWarning)\n"
     ]
    },
    {
     "name": "stdout",
     "output_type": "stream",
     "text": [
      " 589 / 640 combination\n",
      " 590 / 640 combination\n",
      " 591 / 640 combination\n",
      " 592 / 640 combination\n"
     ]
    },
    {
     "name": "stderr",
     "output_type": "stream",
     "text": [
      "/home/ymentha/anaconda3/envs/ntds_2019/lib/python3.7/site-packages/scipy/sparse/linalg/dsolve/linsolve.py:193: MatrixRankWarning: Matrix is exactly singular\n",
      "  warn(\"Matrix is exactly singular\", MatrixRankWarning)\n"
     ]
    },
    {
     "name": "stdout",
     "output_type": "stream",
     "text": [
      " 593 / 640 combination\n",
      " 594 / 640 combination\n",
      " 595 / 640 combination\n",
      " 596 / 640 combination\n"
     ]
    },
    {
     "name": "stderr",
     "output_type": "stream",
     "text": [
      "/home/ymentha/anaconda3/envs/ntds_2019/lib/python3.7/site-packages/scipy/sparse/linalg/dsolve/linsolve.py:193: MatrixRankWarning: Matrix is exactly singular\n",
      "  warn(\"Matrix is exactly singular\", MatrixRankWarning)\n"
     ]
    },
    {
     "name": "stdout",
     "output_type": "stream",
     "text": [
      " 597 / 640 combination\n",
      " 598 / 640 combination\n",
      " 599 / 640 combination\n",
      " 600 / 640 combination\n",
      " 601 / 640 combination\n",
      " 602 / 640 combination\n",
      " 603 / 640 combination\n",
      " 604 / 640 combination\n",
      " 605 / 640 combination\n",
      " 606 / 640 combination\n",
      " 607 / 640 combination\n",
      " 608 / 640 combination\n",
      " 609 / 640 combination\n",
      " 610 / 640 combination\n",
      " 611 / 640 combination\n",
      " 612 / 640 combination\n",
      " 613 / 640 combination\n",
      " 614 / 640 combination\n",
      " 615 / 640 combination\n",
      " 616 / 640 combination\n",
      " 617 / 640 combination\n",
      " 618 / 640 combination\n",
      " 619 / 640 combination\n",
      " 620 / 640 combination\n",
      " 621 / 640 combination\n",
      " 622 / 640 combination\n",
      " 623 / 640 combination\n",
      " 624 / 640 combination\n",
      " 625 / 640 combination\n"
     ]
    },
    {
     "name": "stderr",
     "output_type": "stream",
     "text": [
      "/home/ymentha/anaconda3/envs/ntds_2019/lib/python3.7/site-packages/scipy/sparse/linalg/dsolve/linsolve.py:193: MatrixRankWarning: Matrix is exactly singular\n",
      "  warn(\"Matrix is exactly singular\", MatrixRankWarning)\n"
     ]
    },
    {
     "name": "stdout",
     "output_type": "stream",
     "text": [
      " 626 / 640 combination\n",
      " 627 / 640 combination\n",
      " 628 / 640 combination\n",
      " 629 / 640 combination\n"
     ]
    },
    {
     "name": "stderr",
     "output_type": "stream",
     "text": [
      "/home/ymentha/anaconda3/envs/ntds_2019/lib/python3.7/site-packages/scipy/sparse/linalg/dsolve/linsolve.py:193: MatrixRankWarning: Matrix is exactly singular\n",
      "  warn(\"Matrix is exactly singular\", MatrixRankWarning)\n"
     ]
    },
    {
     "name": "stdout",
     "output_type": "stream",
     "text": [
      " 630 / 640 combination\n",
      " 631 / 640 combination\n",
      " 632 / 640 combination\n",
      " 633 / 640 combination\n"
     ]
    },
    {
     "name": "stderr",
     "output_type": "stream",
     "text": [
      "/home/ymentha/anaconda3/envs/ntds_2019/lib/python3.7/site-packages/scipy/sparse/linalg/dsolve/linsolve.py:193: MatrixRankWarning: Matrix is exactly singular\n",
      "  warn(\"Matrix is exactly singular\", MatrixRankWarning)\n"
     ]
    },
    {
     "name": "stdout",
     "output_type": "stream",
     "text": [
      " 634 / 640 combination\n",
      " 635 / 640 combination\n",
      " 636 / 640 combination\n"
     ]
    },
    {
     "name": "stderr",
     "output_type": "stream",
     "text": [
      "/home/ymentha/anaconda3/envs/ntds_2019/lib/python3.7/site-packages/scipy/sparse/linalg/dsolve/linsolve.py:193: MatrixRankWarning: Matrix is exactly singular\n",
      "  warn(\"Matrix is exactly singular\", MatrixRankWarning)\n"
     ]
    },
    {
     "name": "stdout",
     "output_type": "stream",
     "text": [
      " 637 / 640 combination\n",
      " 638 / 640 combination\n",
      " 639 / 640 combination\n",
      "################################\n",
      "Biggest result for gene X62 : 0.53\n",
      "Smallest result for gene X62 : 0.02\n",
      "################################\n"
     ]
    }
   ],
   "source": [
    "list_genes = ['X62']\n",
    "dic_disc = {}\n",
    "for gene in list_genes:\n",
    "    result = grid_search_graphs(CV_hair_label,METRICS,SIGMAS,EPSILONS,TAUS,gene)\n",
    "    dic_disc[gene] = result"
   ]
  },
  {
   "cell_type": "markdown",
   "metadata": {},
   "source": [
    "### Continuous variable"
   ]
  },
  {
   "cell_type": "markdown",
   "metadata": {},
   "source": [
    "As we can see, there are more than 10 continuous phenotype who have interesting charateristics as continuous features."
   ]
  },
  {
   "cell_type": "code",
   "execution_count": 200,
   "metadata": {},
   "outputs": [],
   "source": [
    "def CV_cont_phen(pygsp_weighted_graph,phenotype_df,genotype_df,tau,gene,NUM_REPET = 50,metric_meth = r2_score,plot = False):\n",
    "    ycont_true = phenotype_df.loc[gene][genotype_df.index]\n",
    "    ycont_true.fillna(ycont_true.mean(),inplace = True)\n",
    "    #mae or mse\n",
    "    mxe = 0\n",
    "    for i in range(NUM_REPET):\n",
    "        mask = np.random.RandomState().uniform(0,1,pygsp_weighted_graph.N) > 0.2\n",
    "        vals_true = ycont_true[~mask]\n",
    "        ycont_sparse = ycont_true.copy()\n",
    "        ycont_sparse[~mask] = np.nan\n",
    "\n",
    "        recovery = learning.regression_tikhonov(pygsp_weighted_graph,ycont_sparse,mask,tau=tau)\n",
    "        if any(np.isnan(recovery)):\n",
    "            return np.nan\n",
    "        vals_pred = recovery[~mask]\n",
    "        mxe += metric_meth(vals_true,vals_pred)\n",
    "\n",
    "    mxe_avg = mxe / NUM_REPET\n",
    "    if plot:\n",
    "        print(str(metric_meth),mxe_avg)\n",
    "        fig, ax = plt.subplots(1, 3, sharey=True, figsize=(20, 6))\n",
    "        limits = [ycont_true.min(),ycont_true.max()]\n",
    "\n",
    "        #ground truth\n",
    "        pygsp_weighted_graph.plot(ycont_true, ax=ax[0],limits = limits, title='Ground truth')\n",
    "        #measurements\n",
    "        pygsp_weighted_graph.plot_signal(ycont_sparse, ax=ax[1],limits = limits, title='Measurements')\n",
    "        #recover\n",
    "        pygsp_weighted_graph.plot_signal(recovery, ax=ax[2],limits = limits, title='Recovered class')\n",
    "    return mxe_avg"
   ]
  },
  {
   "cell_type": "code",
   "execution_count": 151,
   "metadata": {},
   "outputs": [
    {
     "name": "stdout",
     "output_type": "stream",
     "text": [
      "The best continuous variable are : X3820 X2397 X1002 X328 X218\n"
     ]
    }
   ],
   "source": [
    "phenotype_df['nan_count'] = phenotype_df.isnull().sum(axis = 1)\n",
    "top_continuous = phenotype_df.join(phenotype_id_aligner.set_index('PhenoID')[['quantitative_trait']],how = 'inner')\n",
    "top_continuous = top_continuous[top_continuous.quantitative_trait == 'Yes'].sort_values('nan_count').head(5)\n",
    "print('The best continuous variable are : {}'.format(' '.join(top_continuous.index.values)))"
   ]
  },
  {
   "cell_type": "code",
   "execution_count": 243,
   "metadata": {
    "collapsed": true,
    "jupyter": {
     "outputs_hidden": true
    }
   },
   "outputs": [
    {
     "name": "stdout",
     "output_type": "stream",
     "text": [
      " 0 / 640 combination\n",
      " 1 / 640 combination\n"
     ]
    },
    {
     "name": "stderr",
     "output_type": "stream",
     "text": [
      "/home/ymentha/anaconda3/envs/ntds_2019/lib/python3.7/site-packages/scipy/sparse/linalg/dsolve/linsolve.py:193: MatrixRankWarning: Matrix is exactly singular\n",
      "  warn(\"Matrix is exactly singular\", MatrixRankWarning)\n"
     ]
    },
    {
     "name": "stdout",
     "output_type": "stream",
     "text": [
      " 2 / 640 combination\n",
      " 3 / 640 combination\n",
      " 4 / 640 combination\n",
      " 5 / 640 combination\n"
     ]
    },
    {
     "name": "stderr",
     "output_type": "stream",
     "text": [
      "/home/ymentha/anaconda3/envs/ntds_2019/lib/python3.7/site-packages/scipy/sparse/linalg/dsolve/linsolve.py:193: MatrixRankWarning: Matrix is exactly singular\n",
      "  warn(\"Matrix is exactly singular\", MatrixRankWarning)\n"
     ]
    },
    {
     "name": "stdout",
     "output_type": "stream",
     "text": [
      " 6 / 640 combination\n",
      " 7 / 640 combination\n",
      " 8 / 640 combination\n",
      " 9 / 640 combination\n",
      " 10 / 640 combination\n"
     ]
    },
    {
     "name": "stderr",
     "output_type": "stream",
     "text": [
      "/home/ymentha/anaconda3/envs/ntds_2019/lib/python3.7/site-packages/scipy/sparse/linalg/dsolve/linsolve.py:193: MatrixRankWarning: Matrix is exactly singular\n",
      "  warn(\"Matrix is exactly singular\", MatrixRankWarning)\n"
     ]
    },
    {
     "name": "stdout",
     "output_type": "stream",
     "text": [
      " 11 / 640 combination\n",
      " 12 / 640 combination\n"
     ]
    },
    {
     "name": "stderr",
     "output_type": "stream",
     "text": [
      "/home/ymentha/anaconda3/envs/ntds_2019/lib/python3.7/site-packages/scipy/sparse/linalg/dsolve/linsolve.py:193: MatrixRankWarning: Matrix is exactly singular\n",
      "  warn(\"Matrix is exactly singular\", MatrixRankWarning)\n"
     ]
    },
    {
     "name": "stdout",
     "output_type": "stream",
     "text": [
      " 13 / 640 combination\n",
      " 14 / 640 combination\n",
      " 15 / 640 combination\n",
      " 16 / 640 combination\n"
     ]
    },
    {
     "name": "stderr",
     "output_type": "stream",
     "text": [
      "/home/ymentha/anaconda3/envs/ntds_2019/lib/python3.7/site-packages/scipy/sparse/linalg/dsolve/linsolve.py:193: MatrixRankWarning: Matrix is exactly singular\n",
      "  warn(\"Matrix is exactly singular\", MatrixRankWarning)\n"
     ]
    },
    {
     "name": "stdout",
     "output_type": "stream",
     "text": [
      " 17 / 640 combination\n",
      " 18 / 640 combination\n",
      " 19 / 640 combination\n",
      " 20 / 640 combination\n",
      " 21 / 640 combination\n"
     ]
    },
    {
     "name": "stderr",
     "output_type": "stream",
     "text": [
      "/home/ymentha/anaconda3/envs/ntds_2019/lib/python3.7/site-packages/scipy/sparse/linalg/dsolve/linsolve.py:193: MatrixRankWarning: Matrix is exactly singular\n",
      "  warn(\"Matrix is exactly singular\", MatrixRankWarning)\n"
     ]
    },
    {
     "name": "stdout",
     "output_type": "stream",
     "text": [
      " 22 / 640 combination\n",
      " 23 / 640 combination\n",
      " 24 / 640 combination\n",
      " 25 / 640 combination\n"
     ]
    },
    {
     "name": "stderr",
     "output_type": "stream",
     "text": [
      "/home/ymentha/anaconda3/envs/ntds_2019/lib/python3.7/site-packages/scipy/sparse/linalg/dsolve/linsolve.py:193: MatrixRankWarning: Matrix is exactly singular\n",
      "  warn(\"Matrix is exactly singular\", MatrixRankWarning)\n"
     ]
    },
    {
     "name": "stdout",
     "output_type": "stream",
     "text": [
      " 26 / 640 combination\n",
      " 27 / 640 combination\n",
      " 28 / 640 combination\n",
      " 29 / 640 combination\n",
      " 30 / 640 combination\n"
     ]
    },
    {
     "name": "stderr",
     "output_type": "stream",
     "text": [
      "/home/ymentha/anaconda3/envs/ntds_2019/lib/python3.7/site-packages/scipy/sparse/linalg/dsolve/linsolve.py:193: MatrixRankWarning: Matrix is exactly singular\n",
      "  warn(\"Matrix is exactly singular\", MatrixRankWarning)\n"
     ]
    },
    {
     "name": "stdout",
     "output_type": "stream",
     "text": [
      " 31 / 640 combination\n",
      " 32 / 640 combination\n",
      " 33 / 640 combination\n"
     ]
    },
    {
     "name": "stderr",
     "output_type": "stream",
     "text": [
      "/home/ymentha/anaconda3/envs/ntds_2019/lib/python3.7/site-packages/scipy/sparse/linalg/dsolve/linsolve.py:193: MatrixRankWarning: Matrix is exactly singular\n",
      "  warn(\"Matrix is exactly singular\", MatrixRankWarning)\n"
     ]
    },
    {
     "name": "stdout",
     "output_type": "stream",
     "text": [
      " 34 / 640 combination\n",
      " 35 / 640 combination\n",
      " 36 / 640 combination\n",
      " 37 / 640 combination\n",
      " 38 / 640 combination\n"
     ]
    },
    {
     "name": "stderr",
     "output_type": "stream",
     "text": [
      "/home/ymentha/anaconda3/envs/ntds_2019/lib/python3.7/site-packages/scipy/sparse/linalg/dsolve/linsolve.py:193: MatrixRankWarning: Matrix is exactly singular\n",
      "  warn(\"Matrix is exactly singular\", MatrixRankWarning)\n"
     ]
    },
    {
     "name": "stdout",
     "output_type": "stream",
     "text": [
      " 39 / 640 combination\n",
      " 40 / 640 combination\n",
      " 41 / 640 combination\n",
      " 42 / 640 combination\n",
      " 43 / 640 combination\n",
      " 44 / 640 combination\n",
      " 45 / 640 combination\n",
      " 46 / 640 combination\n",
      " 47 / 640 combination\n",
      " 48 / 640 combination\n"
     ]
    },
    {
     "name": "stderr",
     "output_type": "stream",
     "text": [
      "/home/ymentha/anaconda3/envs/ntds_2019/lib/python3.7/site-packages/scipy/sparse/linalg/dsolve/linsolve.py:193: MatrixRankWarning: Matrix is exactly singular\n",
      "  warn(\"Matrix is exactly singular\", MatrixRankWarning)\n"
     ]
    },
    {
     "name": "stdout",
     "output_type": "stream",
     "text": [
      " 49 / 640 combination\n",
      " 50 / 640 combination\n",
      " 51 / 640 combination\n",
      " 52 / 640 combination\n",
      " 53 / 640 combination\n",
      " 54 / 640 combination\n"
     ]
    },
    {
     "name": "stderr",
     "output_type": "stream",
     "text": [
      "/home/ymentha/anaconda3/envs/ntds_2019/lib/python3.7/site-packages/scipy/sparse/linalg/dsolve/linsolve.py:193: MatrixRankWarning: Matrix is exactly singular\n",
      "  warn(\"Matrix is exactly singular\", MatrixRankWarning)\n"
     ]
    },
    {
     "name": "stdout",
     "output_type": "stream",
     "text": [
      " 55 / 640 combination\n",
      " 56 / 640 combination\n",
      " 57 / 640 combination\n"
     ]
    },
    {
     "name": "stderr",
     "output_type": "stream",
     "text": [
      "/home/ymentha/anaconda3/envs/ntds_2019/lib/python3.7/site-packages/scipy/sparse/linalg/dsolve/linsolve.py:193: MatrixRankWarning: Matrix is exactly singular\n",
      "  warn(\"Matrix is exactly singular\", MatrixRankWarning)\n"
     ]
    },
    {
     "name": "stdout",
     "output_type": "stream",
     "text": [
      " 58 / 640 combination\n",
      " 59 / 640 combination\n",
      " 60 / 640 combination\n",
      " 61 / 640 combination\n",
      " 62 / 640 combination\n"
     ]
    },
    {
     "name": "stderr",
     "output_type": "stream",
     "text": [
      "/home/ymentha/anaconda3/envs/ntds_2019/lib/python3.7/site-packages/scipy/sparse/linalg/dsolve/linsolve.py:193: MatrixRankWarning: Matrix is exactly singular\n",
      "  warn(\"Matrix is exactly singular\", MatrixRankWarning)\n"
     ]
    },
    {
     "name": "stdout",
     "output_type": "stream",
     "text": [
      " 63 / 640 combination\n",
      " 64 / 640 combination\n"
     ]
    },
    {
     "name": "stderr",
     "output_type": "stream",
     "text": [
      "/home/ymentha/anaconda3/envs/ntds_2019/lib/python3.7/site-packages/scipy/sparse/linalg/dsolve/linsolve.py:193: MatrixRankWarning: Matrix is exactly singular\n",
      "  warn(\"Matrix is exactly singular\", MatrixRankWarning)\n"
     ]
    },
    {
     "name": "stdout",
     "output_type": "stream",
     "text": [
      " 65 / 640 combination\n",
      " 66 / 640 combination\n",
      " 67 / 640 combination\n",
      " 68 / 640 combination\n"
     ]
    },
    {
     "name": "stderr",
     "output_type": "stream",
     "text": [
      "/home/ymentha/anaconda3/envs/ntds_2019/lib/python3.7/site-packages/scipy/sparse/linalg/dsolve/linsolve.py:193: MatrixRankWarning: Matrix is exactly singular\n",
      "  warn(\"Matrix is exactly singular\", MatrixRankWarning)\n"
     ]
    },
    {
     "name": "stdout",
     "output_type": "stream",
     "text": [
      " 69 / 640 combination\n",
      " 70 / 640 combination\n",
      " 71 / 640 combination\n",
      " 72 / 640 combination\n",
      " 73 / 640 combination\n"
     ]
    },
    {
     "name": "stderr",
     "output_type": "stream",
     "text": [
      "/home/ymentha/anaconda3/envs/ntds_2019/lib/python3.7/site-packages/scipy/sparse/linalg/dsolve/linsolve.py:193: MatrixRankWarning: Matrix is exactly singular\n",
      "  warn(\"Matrix is exactly singular\", MatrixRankWarning)\n"
     ]
    },
    {
     "name": "stdout",
     "output_type": "stream",
     "text": [
      " 74 / 640 combination\n",
      " 75 / 640 combination\n",
      " 76 / 640 combination\n",
      " 77 / 640 combination\n",
      " 78 / 640 combination\n"
     ]
    },
    {
     "name": "stderr",
     "output_type": "stream",
     "text": [
      "/home/ymentha/anaconda3/envs/ntds_2019/lib/python3.7/site-packages/scipy/sparse/linalg/dsolve/linsolve.py:193: MatrixRankWarning: Matrix is exactly singular\n",
      "  warn(\"Matrix is exactly singular\", MatrixRankWarning)\n"
     ]
    },
    {
     "name": "stdout",
     "output_type": "stream",
     "text": [
      " 79 / 640 combination\n",
      " 80 / 640 combination\n",
      " 81 / 640 combination\n",
      " 82 / 640 combination\n",
      " 83 / 640 combination\n",
      " 84 / 640 combination\n",
      " 85 / 640 combination\n",
      " 86 / 640 combination\n",
      " 87 / 640 combination\n",
      " 88 / 640 combination\n",
      " 89 / 640 combination\n",
      " 90 / 640 combination\n",
      " 91 / 640 combination\n",
      " 92 / 640 combination\n",
      " 93 / 640 combination\n",
      " 94 / 640 combination\n",
      " 95 / 640 combination\n",
      " 96 / 640 combination\n",
      " 97 / 640 combination\n"
     ]
    },
    {
     "name": "stderr",
     "output_type": "stream",
     "text": [
      "/home/ymentha/anaconda3/envs/ntds_2019/lib/python3.7/site-packages/scipy/sparse/linalg/dsolve/linsolve.py:193: MatrixRankWarning: Matrix is exactly singular\n",
      "  warn(\"Matrix is exactly singular\", MatrixRankWarning)\n"
     ]
    },
    {
     "name": "stdout",
     "output_type": "stream",
     "text": [
      " 98 / 640 combination\n",
      " 99 / 640 combination\n",
      " 100 / 640 combination\n",
      " 101 / 640 combination\n",
      " 102 / 640 combination\n"
     ]
    },
    {
     "name": "stderr",
     "output_type": "stream",
     "text": [
      "/home/ymentha/anaconda3/envs/ntds_2019/lib/python3.7/site-packages/scipy/sparse/linalg/dsolve/linsolve.py:193: MatrixRankWarning: Matrix is exactly singular\n",
      "  warn(\"Matrix is exactly singular\", MatrixRankWarning)\n"
     ]
    },
    {
     "name": "stdout",
     "output_type": "stream",
     "text": [
      " 103 / 640 combination\n",
      " 104 / 640 combination\n",
      " 105 / 640 combination\n",
      " 106 / 640 combination\n"
     ]
    },
    {
     "name": "stderr",
     "output_type": "stream",
     "text": [
      "/home/ymentha/anaconda3/envs/ntds_2019/lib/python3.7/site-packages/scipy/sparse/linalg/dsolve/linsolve.py:193: MatrixRankWarning: Matrix is exactly singular\n",
      "  warn(\"Matrix is exactly singular\", MatrixRankWarning)\n"
     ]
    },
    {
     "name": "stdout",
     "output_type": "stream",
     "text": [
      " 107 / 640 combination\n",
      " 108 / 640 combination\n"
     ]
    },
    {
     "name": "stderr",
     "output_type": "stream",
     "text": [
      "/home/ymentha/anaconda3/envs/ntds_2019/lib/python3.7/site-packages/scipy/sparse/linalg/dsolve/linsolve.py:193: MatrixRankWarning: Matrix is exactly singular\n",
      "  warn(\"Matrix is exactly singular\", MatrixRankWarning)\n"
     ]
    },
    {
     "name": "stdout",
     "output_type": "stream",
     "text": [
      " 109 / 640 combination\n",
      " 110 / 640 combination\n",
      " 111 / 640 combination\n",
      " 112 / 640 combination\n",
      " 113 / 640 combination\n"
     ]
    },
    {
     "name": "stderr",
     "output_type": "stream",
     "text": [
      "/home/ymentha/anaconda3/envs/ntds_2019/lib/python3.7/site-packages/scipy/sparse/linalg/dsolve/linsolve.py:193: MatrixRankWarning: Matrix is exactly singular\n",
      "  warn(\"Matrix is exactly singular\", MatrixRankWarning)\n"
     ]
    },
    {
     "name": "stdout",
     "output_type": "stream",
     "text": [
      " 114 / 640 combination\n",
      " 115 / 640 combination\n",
      " 116 / 640 combination\n",
      " 117 / 640 combination\n",
      " 118 / 640 combination\n"
     ]
    },
    {
     "name": "stderr",
     "output_type": "stream",
     "text": [
      "/home/ymentha/anaconda3/envs/ntds_2019/lib/python3.7/site-packages/scipy/sparse/linalg/dsolve/linsolve.py:193: MatrixRankWarning: Matrix is exactly singular\n",
      "  warn(\"Matrix is exactly singular\", MatrixRankWarning)\n"
     ]
    },
    {
     "name": "stdout",
     "output_type": "stream",
     "text": [
      " 119 / 640 combination\n",
      " 120 / 640 combination\n",
      " 121 / 640 combination\n",
      " 122 / 640 combination\n",
      " 123 / 640 combination\n",
      " 124 / 640 combination\n",
      " 125 / 640 combination\n",
      " 126 / 640 combination\n",
      " 127 / 640 combination\n",
      " 128 / 640 combination\n",
      " 129 / 640 combination\n",
      " 130 / 640 combination\n",
      " 131 / 640 combination\n",
      " 132 / 640 combination\n",
      " 133 / 640 combination\n",
      " 134 / 640 combination\n",
      " 135 / 640 combination\n",
      " 136 / 640 combination\n",
      " 137 / 640 combination\n",
      " 138 / 640 combination\n",
      " 139 / 640 combination\n",
      " 140 / 640 combination\n",
      " 141 / 640 combination\n",
      " 142 / 640 combination\n",
      " 143 / 640 combination\n",
      " 144 / 640 combination\n",
      " 145 / 640 combination\n"
     ]
    },
    {
     "name": "stderr",
     "output_type": "stream",
     "text": [
      "/home/ymentha/anaconda3/envs/ntds_2019/lib/python3.7/site-packages/scipy/sparse/linalg/dsolve/linsolve.py:193: MatrixRankWarning: Matrix is exactly singular\n",
      "  warn(\"Matrix is exactly singular\", MatrixRankWarning)\n"
     ]
    },
    {
     "name": "stdout",
     "output_type": "stream",
     "text": [
      " 146 / 640 combination\n",
      " 147 / 640 combination\n",
      " 148 / 640 combination\n",
      " 149 / 640 combination\n",
      " 150 / 640 combination\n"
     ]
    },
    {
     "name": "stderr",
     "output_type": "stream",
     "text": [
      "/home/ymentha/anaconda3/envs/ntds_2019/lib/python3.7/site-packages/scipy/sparse/linalg/dsolve/linsolve.py:193: MatrixRankWarning: Matrix is exactly singular\n",
      "  warn(\"Matrix is exactly singular\", MatrixRankWarning)\n"
     ]
    },
    {
     "name": "stdout",
     "output_type": "stream",
     "text": [
      " 151 / 640 combination\n",
      " 152 / 640 combination\n",
      " 153 / 640 combination\n",
      " 154 / 640 combination\n"
     ]
    },
    {
     "name": "stderr",
     "output_type": "stream",
     "text": [
      "/home/ymentha/anaconda3/envs/ntds_2019/lib/python3.7/site-packages/scipy/sparse/linalg/dsolve/linsolve.py:193: MatrixRankWarning: Matrix is exactly singular\n",
      "  warn(\"Matrix is exactly singular\", MatrixRankWarning)\n"
     ]
    },
    {
     "name": "stdout",
     "output_type": "stream",
     "text": [
      " 155 / 640 combination\n",
      " 156 / 640 combination\n"
     ]
    },
    {
     "name": "stderr",
     "output_type": "stream",
     "text": [
      "/home/ymentha/anaconda3/envs/ntds_2019/lib/python3.7/site-packages/scipy/sparse/linalg/dsolve/linsolve.py:193: MatrixRankWarning: Matrix is exactly singular\n",
      "  warn(\"Matrix is exactly singular\", MatrixRankWarning)\n"
     ]
    },
    {
     "name": "stdout",
     "output_type": "stream",
     "text": [
      " 157 / 640 combination\n",
      " 158 / 640 combination\n",
      " 159 / 640 combination\n",
      " 160 / 640 combination\n"
     ]
    },
    {
     "name": "stderr",
     "output_type": "stream",
     "text": [
      "/home/ymentha/anaconda3/envs/ntds_2019/lib/python3.7/site-packages/scipy/sparse/linalg/dsolve/linsolve.py:193: MatrixRankWarning: Matrix is exactly singular\n",
      "  warn(\"Matrix is exactly singular\", MatrixRankWarning)\n"
     ]
    },
    {
     "name": "stdout",
     "output_type": "stream",
     "text": [
      " 161 / 640 combination\n",
      " 162 / 640 combination\n",
      " 163 / 640 combination\n",
      " 164 / 640 combination\n",
      " 165 / 640 combination\n",
      " 166 / 640 combination\n"
     ]
    },
    {
     "name": "stderr",
     "output_type": "stream",
     "text": [
      "/home/ymentha/anaconda3/envs/ntds_2019/lib/python3.7/site-packages/scipy/sparse/linalg/dsolve/linsolve.py:193: MatrixRankWarning: Matrix is exactly singular\n",
      "  warn(\"Matrix is exactly singular\", MatrixRankWarning)\n"
     ]
    },
    {
     "name": "stdout",
     "output_type": "stream",
     "text": [
      " 167 / 640 combination\n",
      " 168 / 640 combination\n"
     ]
    },
    {
     "name": "stderr",
     "output_type": "stream",
     "text": [
      "/home/ymentha/anaconda3/envs/ntds_2019/lib/python3.7/site-packages/scipy/sparse/linalg/dsolve/linsolve.py:193: MatrixRankWarning: Matrix is exactly singular\n",
      "  warn(\"Matrix is exactly singular\", MatrixRankWarning)\n"
     ]
    },
    {
     "name": "stdout",
     "output_type": "stream",
     "text": [
      " 169 / 640 combination\n",
      " 170 / 640 combination\n",
      " 171 / 640 combination\n",
      " 172 / 640 combination\n"
     ]
    },
    {
     "name": "stderr",
     "output_type": "stream",
     "text": [
      "/home/ymentha/anaconda3/envs/ntds_2019/lib/python3.7/site-packages/scipy/sparse/linalg/dsolve/linsolve.py:193: MatrixRankWarning: Matrix is exactly singular\n",
      "  warn(\"Matrix is exactly singular\", MatrixRankWarning)\n"
     ]
    },
    {
     "name": "stdout",
     "output_type": "stream",
     "text": [
      " 173 / 640 combination\n",
      " 174 / 640 combination\n",
      " 175 / 640 combination\n",
      " 176 / 640 combination\n"
     ]
    },
    {
     "name": "stderr",
     "output_type": "stream",
     "text": [
      "/home/ymentha/anaconda3/envs/ntds_2019/lib/python3.7/site-packages/scipy/sparse/linalg/dsolve/linsolve.py:193: MatrixRankWarning: Matrix is exactly singular\n",
      "  warn(\"Matrix is exactly singular\", MatrixRankWarning)\n"
     ]
    },
    {
     "name": "stdout",
     "output_type": "stream",
     "text": [
      " 177 / 640 combination\n",
      " 178 / 640 combination\n",
      " 179 / 640 combination\n",
      " 180 / 640 combination\n",
      " 181 / 640 combination\n"
     ]
    },
    {
     "name": "stderr",
     "output_type": "stream",
     "text": [
      "/home/ymentha/anaconda3/envs/ntds_2019/lib/python3.7/site-packages/scipy/sparse/linalg/dsolve/linsolve.py:193: MatrixRankWarning: Matrix is exactly singular\n",
      "  warn(\"Matrix is exactly singular\", MatrixRankWarning)\n"
     ]
    },
    {
     "name": "stdout",
     "output_type": "stream",
     "text": [
      " 182 / 640 combination\n",
      " 183 / 640 combination\n",
      " 184 / 640 combination\n",
      " 185 / 640 combination\n",
      " 186 / 640 combination\n"
     ]
    },
    {
     "name": "stderr",
     "output_type": "stream",
     "text": [
      "/home/ymentha/anaconda3/envs/ntds_2019/lib/python3.7/site-packages/scipy/sparse/linalg/dsolve/linsolve.py:193: MatrixRankWarning: Matrix is exactly singular\n",
      "  warn(\"Matrix is exactly singular\", MatrixRankWarning)\n"
     ]
    },
    {
     "name": "stdout",
     "output_type": "stream",
     "text": [
      " 187 / 640 combination\n",
      " 188 / 640 combination\n",
      " 189 / 640 combination\n"
     ]
    },
    {
     "name": "stderr",
     "output_type": "stream",
     "text": [
      "/home/ymentha/anaconda3/envs/ntds_2019/lib/python3.7/site-packages/scipy/sparse/linalg/dsolve/linsolve.py:193: MatrixRankWarning: Matrix is exactly singular\n",
      "  warn(\"Matrix is exactly singular\", MatrixRankWarning)\n"
     ]
    },
    {
     "name": "stdout",
     "output_type": "stream",
     "text": [
      " 190 / 640 combination\n",
      " 191 / 640 combination\n",
      " 192 / 640 combination\n",
      " 193 / 640 combination\n",
      " 194 / 640 combination\n"
     ]
    },
    {
     "name": "stderr",
     "output_type": "stream",
     "text": [
      "/home/ymentha/anaconda3/envs/ntds_2019/lib/python3.7/site-packages/scipy/sparse/linalg/dsolve/linsolve.py:193: MatrixRankWarning: Matrix is exactly singular\n",
      "  warn(\"Matrix is exactly singular\", MatrixRankWarning)\n"
     ]
    },
    {
     "name": "stdout",
     "output_type": "stream",
     "text": [
      " 195 / 640 combination\n",
      " 196 / 640 combination\n",
      " 197 / 640 combination\n"
     ]
    },
    {
     "name": "stderr",
     "output_type": "stream",
     "text": [
      "/home/ymentha/anaconda3/envs/ntds_2019/lib/python3.7/site-packages/scipy/sparse/linalg/dsolve/linsolve.py:193: MatrixRankWarning: Matrix is exactly singular\n",
      "  warn(\"Matrix is exactly singular\", MatrixRankWarning)\n"
     ]
    },
    {
     "name": "stdout",
     "output_type": "stream",
     "text": [
      " 198 / 640 combination\n",
      " 199 / 640 combination\n",
      " 200 / 640 combination\n",
      " 201 / 640 combination\n",
      " 202 / 640 combination\n",
      " 203 / 640 combination\n",
      " 204 / 640 combination\n",
      " 205 / 640 combination\n",
      " 206 / 640 combination\n",
      " 207 / 640 combination\n",
      " 208 / 640 combination\n",
      " 209 / 640 combination\n"
     ]
    },
    {
     "name": "stderr",
     "output_type": "stream",
     "text": [
      "/home/ymentha/anaconda3/envs/ntds_2019/lib/python3.7/site-packages/scipy/sparse/linalg/dsolve/linsolve.py:193: MatrixRankWarning: Matrix is exactly singular\n",
      "  warn(\"Matrix is exactly singular\", MatrixRankWarning)\n"
     ]
    },
    {
     "name": "stdout",
     "output_type": "stream",
     "text": [
      " 210 / 640 combination\n",
      " 211 / 640 combination\n",
      " 212 / 640 combination\n",
      " 213 / 640 combination\n",
      " 214 / 640 combination\n"
     ]
    },
    {
     "name": "stderr",
     "output_type": "stream",
     "text": [
      "/home/ymentha/anaconda3/envs/ntds_2019/lib/python3.7/site-packages/scipy/sparse/linalg/dsolve/linsolve.py:193: MatrixRankWarning: Matrix is exactly singular\n",
      "  warn(\"Matrix is exactly singular\", MatrixRankWarning)\n"
     ]
    },
    {
     "name": "stdout",
     "output_type": "stream",
     "text": [
      " 215 / 640 combination\n",
      " 216 / 640 combination\n"
     ]
    },
    {
     "name": "stderr",
     "output_type": "stream",
     "text": [
      "/home/ymentha/anaconda3/envs/ntds_2019/lib/python3.7/site-packages/scipy/sparse/linalg/dsolve/linsolve.py:193: MatrixRankWarning: Matrix is exactly singular\n",
      "  warn(\"Matrix is exactly singular\", MatrixRankWarning)\n"
     ]
    },
    {
     "name": "stdout",
     "output_type": "stream",
     "text": [
      " 217 / 640 combination\n",
      " 218 / 640 combination\n",
      " 219 / 640 combination\n",
      " 220 / 640 combination\n"
     ]
    },
    {
     "name": "stderr",
     "output_type": "stream",
     "text": [
      "/home/ymentha/anaconda3/envs/ntds_2019/lib/python3.7/site-packages/scipy/sparse/linalg/dsolve/linsolve.py:193: MatrixRankWarning: Matrix is exactly singular\n",
      "  warn(\"Matrix is exactly singular\", MatrixRankWarning)\n"
     ]
    },
    {
     "name": "stdout",
     "output_type": "stream",
     "text": [
      " 221 / 640 combination\n",
      " 222 / 640 combination\n",
      " 223 / 640 combination\n",
      " 224 / 640 combination\n"
     ]
    },
    {
     "name": "stderr",
     "output_type": "stream",
     "text": [
      "/home/ymentha/anaconda3/envs/ntds_2019/lib/python3.7/site-packages/scipy/sparse/linalg/dsolve/linsolve.py:193: MatrixRankWarning: Matrix is exactly singular\n",
      "  warn(\"Matrix is exactly singular\", MatrixRankWarning)\n"
     ]
    },
    {
     "name": "stdout",
     "output_type": "stream",
     "text": [
      " 225 / 640 combination\n",
      " 226 / 640 combination\n",
      " 227 / 640 combination\n",
      " 228 / 640 combination\n",
      " 229 / 640 combination\n"
     ]
    },
    {
     "name": "stderr",
     "output_type": "stream",
     "text": [
      "/home/ymentha/anaconda3/envs/ntds_2019/lib/python3.7/site-packages/scipy/sparse/linalg/dsolve/linsolve.py:193: MatrixRankWarning: Matrix is exactly singular\n",
      "  warn(\"Matrix is exactly singular\", MatrixRankWarning)\n"
     ]
    },
    {
     "name": "stdout",
     "output_type": "stream",
     "text": [
      " 230 / 640 combination\n",
      " 231 / 640 combination\n",
      " 232 / 640 combination\n",
      " 233 / 640 combination\n",
      " 234 / 640 combination\n"
     ]
    },
    {
     "name": "stderr",
     "output_type": "stream",
     "text": [
      "/home/ymentha/anaconda3/envs/ntds_2019/lib/python3.7/site-packages/scipy/sparse/linalg/dsolve/linsolve.py:193: MatrixRankWarning: Matrix is exactly singular\n",
      "  warn(\"Matrix is exactly singular\", MatrixRankWarning)\n"
     ]
    },
    {
     "name": "stdout",
     "output_type": "stream",
     "text": [
      " 235 / 640 combination\n",
      " 236 / 640 combination\n",
      " 237 / 640 combination\n"
     ]
    },
    {
     "name": "stderr",
     "output_type": "stream",
     "text": [
      "/home/ymentha/anaconda3/envs/ntds_2019/lib/python3.7/site-packages/scipy/sparse/linalg/dsolve/linsolve.py:193: MatrixRankWarning: Matrix is exactly singular\n",
      "  warn(\"Matrix is exactly singular\", MatrixRankWarning)\n"
     ]
    },
    {
     "name": "stdout",
     "output_type": "stream",
     "text": [
      " 238 / 640 combination\n",
      " 239 / 640 combination\n",
      " 240 / 640 combination\n",
      " 241 / 640 combination\n",
      " 242 / 640 combination\n",
      " 243 / 640 combination\n",
      " 244 / 640 combination\n",
      " 245 / 640 combination\n",
      " 246 / 640 combination\n",
      " 247 / 640 combination\n",
      " 248 / 640 combination\n",
      " 249 / 640 combination\n",
      " 250 / 640 combination\n",
      " 251 / 640 combination\n",
      " 252 / 640 combination\n",
      " 253 / 640 combination\n",
      " 254 / 640 combination\n",
      " 255 / 640 combination\n",
      " 256 / 640 combination\n",
      " 257 / 640 combination\n"
     ]
    },
    {
     "name": "stderr",
     "output_type": "stream",
     "text": [
      "/home/ymentha/anaconda3/envs/ntds_2019/lib/python3.7/site-packages/scipy/sparse/linalg/dsolve/linsolve.py:193: MatrixRankWarning: Matrix is exactly singular\n",
      "  warn(\"Matrix is exactly singular\", MatrixRankWarning)\n"
     ]
    },
    {
     "name": "stdout",
     "output_type": "stream",
     "text": [
      " 258 / 640 combination\n",
      " 259 / 640 combination\n",
      " 260 / 640 combination\n"
     ]
    },
    {
     "name": "stderr",
     "output_type": "stream",
     "text": [
      "/home/ymentha/anaconda3/envs/ntds_2019/lib/python3.7/site-packages/scipy/sparse/linalg/dsolve/linsolve.py:193: MatrixRankWarning: Matrix is exactly singular\n",
      "  warn(\"Matrix is exactly singular\", MatrixRankWarning)\n"
     ]
    },
    {
     "name": "stdout",
     "output_type": "stream",
     "text": [
      " 261 / 640 combination\n",
      " 262 / 640 combination\n",
      " 263 / 640 combination\n",
      " 264 / 640 combination\n",
      " 265 / 640 combination\n",
      " 266 / 640 combination\n"
     ]
    },
    {
     "name": "stderr",
     "output_type": "stream",
     "text": [
      "/home/ymentha/anaconda3/envs/ntds_2019/lib/python3.7/site-packages/scipy/sparse/linalg/dsolve/linsolve.py:193: MatrixRankWarning: Matrix is exactly singular\n",
      "  warn(\"Matrix is exactly singular\", MatrixRankWarning)\n"
     ]
    },
    {
     "name": "stdout",
     "output_type": "stream",
     "text": [
      " 267 / 640 combination\n",
      " 268 / 640 combination\n"
     ]
    },
    {
     "name": "stderr",
     "output_type": "stream",
     "text": [
      "/home/ymentha/anaconda3/envs/ntds_2019/lib/python3.7/site-packages/scipy/sparse/linalg/dsolve/linsolve.py:193: MatrixRankWarning: Matrix is exactly singular\n",
      "  warn(\"Matrix is exactly singular\", MatrixRankWarning)\n"
     ]
    },
    {
     "name": "stdout",
     "output_type": "stream",
     "text": [
      " 269 / 640 combination\n",
      " 270 / 640 combination\n",
      " 271 / 640 combination\n",
      " 272 / 640 combination\n"
     ]
    },
    {
     "name": "stderr",
     "output_type": "stream",
     "text": [
      "/home/ymentha/anaconda3/envs/ntds_2019/lib/python3.7/site-packages/scipy/sparse/linalg/dsolve/linsolve.py:193: MatrixRankWarning: Matrix is exactly singular\n",
      "  warn(\"Matrix is exactly singular\", MatrixRankWarning)\n"
     ]
    },
    {
     "name": "stdout",
     "output_type": "stream",
     "text": [
      " 273 / 640 combination\n",
      " 274 / 640 combination\n",
      " 275 / 640 combination\n",
      " 276 / 640 combination\n",
      " 277 / 640 combination\n"
     ]
    },
    {
     "name": "stderr",
     "output_type": "stream",
     "text": [
      "/home/ymentha/anaconda3/envs/ntds_2019/lib/python3.7/site-packages/scipy/sparse/linalg/dsolve/linsolve.py:193: MatrixRankWarning: Matrix is exactly singular\n",
      "  warn(\"Matrix is exactly singular\", MatrixRankWarning)\n"
     ]
    },
    {
     "name": "stdout",
     "output_type": "stream",
     "text": [
      " 278 / 640 combination\n",
      " 279 / 640 combination\n",
      " 280 / 640 combination\n",
      " 281 / 640 combination\n",
      " 282 / 640 combination\n",
      " 283 / 640 combination\n",
      " 284 / 640 combination\n",
      " 285 / 640 combination\n",
      " 286 / 640 combination\n",
      " 287 / 640 combination\n",
      " 288 / 640 combination\n",
      " 289 / 640 combination\n",
      " 290 / 640 combination\n",
      " 291 / 640 combination\n",
      " 292 / 640 combination\n",
      " 293 / 640 combination\n",
      " 294 / 640 combination\n",
      " 295 / 640 combination\n",
      " 296 / 640 combination\n",
      " 297 / 640 combination\n",
      " 298 / 640 combination\n",
      " 299 / 640 combination\n",
      " 300 / 640 combination\n",
      " 301 / 640 combination\n",
      " 302 / 640 combination\n",
      " 303 / 640 combination\n",
      " 304 / 640 combination\n",
      " 305 / 640 combination\n"
     ]
    },
    {
     "name": "stderr",
     "output_type": "stream",
     "text": [
      "/home/ymentha/anaconda3/envs/ntds_2019/lib/python3.7/site-packages/scipy/sparse/linalg/dsolve/linsolve.py:193: MatrixRankWarning: Matrix is exactly singular\n",
      "  warn(\"Matrix is exactly singular\", MatrixRankWarning)\n"
     ]
    },
    {
     "name": "stdout",
     "output_type": "stream",
     "text": [
      " 306 / 640 combination\n",
      " 307 / 640 combination\n",
      " 308 / 640 combination\n",
      " 309 / 640 combination\n",
      " 310 / 640 combination\n"
     ]
    },
    {
     "name": "stderr",
     "output_type": "stream",
     "text": [
      "/home/ymentha/anaconda3/envs/ntds_2019/lib/python3.7/site-packages/scipy/sparse/linalg/dsolve/linsolve.py:193: MatrixRankWarning: Matrix is exactly singular\n",
      "  warn(\"Matrix is exactly singular\", MatrixRankWarning)\n"
     ]
    },
    {
     "name": "stdout",
     "output_type": "stream",
     "text": [
      " 311 / 640 combination\n",
      " 312 / 640 combination\n",
      " 313 / 640 combination\n",
      " 314 / 640 combination\n"
     ]
    },
    {
     "name": "stderr",
     "output_type": "stream",
     "text": [
      "/home/ymentha/anaconda3/envs/ntds_2019/lib/python3.7/site-packages/scipy/sparse/linalg/dsolve/linsolve.py:193: MatrixRankWarning: Matrix is exactly singular\n",
      "  warn(\"Matrix is exactly singular\", MatrixRankWarning)\n"
     ]
    },
    {
     "name": "stdout",
     "output_type": "stream",
     "text": [
      " 315 / 640 combination\n",
      " 316 / 640 combination\n"
     ]
    },
    {
     "name": "stderr",
     "output_type": "stream",
     "text": [
      "/home/ymentha/anaconda3/envs/ntds_2019/lib/python3.7/site-packages/scipy/sparse/linalg/dsolve/linsolve.py:193: MatrixRankWarning: Matrix is exactly singular\n",
      "  warn(\"Matrix is exactly singular\", MatrixRankWarning)\n"
     ]
    },
    {
     "name": "stdout",
     "output_type": "stream",
     "text": [
      " 317 / 640 combination\n",
      " 318 / 640 combination\n",
      " 319 / 640 combination\n",
      " 320 / 640 combination\n"
     ]
    },
    {
     "name": "stderr",
     "output_type": "stream",
     "text": [
      "/home/ymentha/anaconda3/envs/ntds_2019/lib/python3.7/site-packages/scipy/sparse/linalg/dsolve/linsolve.py:193: MatrixRankWarning: Matrix is exactly singular\n",
      "  warn(\"Matrix is exactly singular\", MatrixRankWarning)\n"
     ]
    },
    {
     "name": "stdout",
     "output_type": "stream",
     "text": [
      " 321 / 640 combination\n",
      " 322 / 640 combination\n",
      " 323 / 640 combination\n",
      " 324 / 640 combination\n",
      " 325 / 640 combination\n",
      " 326 / 640 combination\n"
     ]
    },
    {
     "name": "stderr",
     "output_type": "stream",
     "text": [
      "/home/ymentha/anaconda3/envs/ntds_2019/lib/python3.7/site-packages/scipy/sparse/linalg/dsolve/linsolve.py:193: MatrixRankWarning: Matrix is exactly singular\n",
      "  warn(\"Matrix is exactly singular\", MatrixRankWarning)\n"
     ]
    },
    {
     "name": "stdout",
     "output_type": "stream",
     "text": [
      " 327 / 640 combination\n",
      " 328 / 640 combination\n"
     ]
    },
    {
     "name": "stderr",
     "output_type": "stream",
     "text": [
      "/home/ymentha/anaconda3/envs/ntds_2019/lib/python3.7/site-packages/scipy/sparse/linalg/dsolve/linsolve.py:193: MatrixRankWarning: Matrix is exactly singular\n",
      "  warn(\"Matrix is exactly singular\", MatrixRankWarning)\n"
     ]
    },
    {
     "name": "stdout",
     "output_type": "stream",
     "text": [
      " 329 / 640 combination\n",
      " 330 / 640 combination\n",
      " 331 / 640 combination\n",
      " 332 / 640 combination\n"
     ]
    },
    {
     "name": "stderr",
     "output_type": "stream",
     "text": [
      "/home/ymentha/anaconda3/envs/ntds_2019/lib/python3.7/site-packages/scipy/sparse/linalg/dsolve/linsolve.py:193: MatrixRankWarning: Matrix is exactly singular\n",
      "  warn(\"Matrix is exactly singular\", MatrixRankWarning)\n"
     ]
    },
    {
     "name": "stdout",
     "output_type": "stream",
     "text": [
      " 333 / 640 combination\n",
      " 334 / 640 combination\n",
      " 335 / 640 combination\n",
      " 336 / 640 combination\n",
      " 337 / 640 combination\n"
     ]
    },
    {
     "name": "stderr",
     "output_type": "stream",
     "text": [
      "/home/ymentha/anaconda3/envs/ntds_2019/lib/python3.7/site-packages/scipy/sparse/linalg/dsolve/linsolve.py:193: MatrixRankWarning: Matrix is exactly singular\n",
      "  warn(\"Matrix is exactly singular\", MatrixRankWarning)\n"
     ]
    },
    {
     "name": "stdout",
     "output_type": "stream",
     "text": [
      " 338 / 640 combination\n",
      " 339 / 640 combination\n",
      " 340 / 640 combination\n",
      " 341 / 640 combination\n",
      " 342 / 640 combination\n"
     ]
    },
    {
     "name": "stderr",
     "output_type": "stream",
     "text": [
      "/home/ymentha/anaconda3/envs/ntds_2019/lib/python3.7/site-packages/scipy/sparse/linalg/dsolve/linsolve.py:193: MatrixRankWarning: Matrix is exactly singular\n",
      "  warn(\"Matrix is exactly singular\", MatrixRankWarning)\n"
     ]
    },
    {
     "name": "stdout",
     "output_type": "stream",
     "text": [
      " 343 / 640 combination\n",
      " 344 / 640 combination\n",
      " 345 / 640 combination\n"
     ]
    },
    {
     "name": "stderr",
     "output_type": "stream",
     "text": [
      "/home/ymentha/anaconda3/envs/ntds_2019/lib/python3.7/site-packages/scipy/sparse/linalg/dsolve/linsolve.py:193: MatrixRankWarning: Matrix is exactly singular\n",
      "  warn(\"Matrix is exactly singular\", MatrixRankWarning)\n"
     ]
    },
    {
     "name": "stdout",
     "output_type": "stream",
     "text": [
      " 346 / 640 combination\n",
      " 347 / 640 combination\n",
      " 348 / 640 combination\n",
      " 349 / 640 combination\n",
      " 350 / 640 combination\n"
     ]
    },
    {
     "name": "stderr",
     "output_type": "stream",
     "text": [
      "/home/ymentha/anaconda3/envs/ntds_2019/lib/python3.7/site-packages/scipy/sparse/linalg/dsolve/linsolve.py:193: MatrixRankWarning: Matrix is exactly singular\n",
      "  warn(\"Matrix is exactly singular\", MatrixRankWarning)\n"
     ]
    },
    {
     "name": "stdout",
     "output_type": "stream",
     "text": [
      " 351 / 640 combination\n",
      " 352 / 640 combination\n",
      " 353 / 640 combination\n"
     ]
    },
    {
     "name": "stderr",
     "output_type": "stream",
     "text": [
      "/home/ymentha/anaconda3/envs/ntds_2019/lib/python3.7/site-packages/scipy/sparse/linalg/dsolve/linsolve.py:193: MatrixRankWarning: Matrix is exactly singular\n",
      "  warn(\"Matrix is exactly singular\", MatrixRankWarning)\n"
     ]
    },
    {
     "name": "stdout",
     "output_type": "stream",
     "text": [
      " 354 / 640 combination\n",
      " 355 / 640 combination\n",
      " 356 / 640 combination\n",
      " 357 / 640 combination\n",
      " 358 / 640 combination\n"
     ]
    },
    {
     "name": "stderr",
     "output_type": "stream",
     "text": [
      "/home/ymentha/anaconda3/envs/ntds_2019/lib/python3.7/site-packages/scipy/sparse/linalg/dsolve/linsolve.py:193: MatrixRankWarning: Matrix is exactly singular\n",
      "  warn(\"Matrix is exactly singular\", MatrixRankWarning)\n"
     ]
    },
    {
     "name": "stdout",
     "output_type": "stream",
     "text": [
      " 359 / 640 combination\n",
      " 360 / 640 combination\n",
      " 361 / 640 combination\n",
      " 362 / 640 combination\n",
      " 363 / 640 combination\n",
      " 364 / 640 combination\n",
      " 365 / 640 combination\n",
      " 366 / 640 combination\n",
      " 367 / 640 combination\n",
      " 368 / 640 combination\n",
      " 369 / 640 combination\n"
     ]
    },
    {
     "name": "stderr",
     "output_type": "stream",
     "text": [
      "/home/ymentha/anaconda3/envs/ntds_2019/lib/python3.7/site-packages/scipy/sparse/linalg/dsolve/linsolve.py:193: MatrixRankWarning: Matrix is exactly singular\n",
      "  warn(\"Matrix is exactly singular\", MatrixRankWarning)\n"
     ]
    },
    {
     "name": "stdout",
     "output_type": "stream",
     "text": [
      " 370 / 640 combination\n",
      " 371 / 640 combination\n",
      " 372 / 640 combination\n",
      " 373 / 640 combination\n",
      " 374 / 640 combination\n"
     ]
    },
    {
     "name": "stderr",
     "output_type": "stream",
     "text": [
      "/home/ymentha/anaconda3/envs/ntds_2019/lib/python3.7/site-packages/scipy/sparse/linalg/dsolve/linsolve.py:193: MatrixRankWarning: Matrix is exactly singular\n",
      "  warn(\"Matrix is exactly singular\", MatrixRankWarning)\n"
     ]
    },
    {
     "name": "stdout",
     "output_type": "stream",
     "text": [
      " 375 / 640 combination\n",
      " 376 / 640 combination\n"
     ]
    },
    {
     "name": "stderr",
     "output_type": "stream",
     "text": [
      "/home/ymentha/anaconda3/envs/ntds_2019/lib/python3.7/site-packages/scipy/sparse/linalg/dsolve/linsolve.py:193: MatrixRankWarning: Matrix is exactly singular\n",
      "  warn(\"Matrix is exactly singular\", MatrixRankWarning)\n"
     ]
    },
    {
     "name": "stdout",
     "output_type": "stream",
     "text": [
      " 377 / 640 combination\n",
      " 378 / 640 combination\n",
      " 379 / 640 combination\n",
      " 380 / 640 combination\n"
     ]
    },
    {
     "name": "stderr",
     "output_type": "stream",
     "text": [
      "/home/ymentha/anaconda3/envs/ntds_2019/lib/python3.7/site-packages/scipy/sparse/linalg/dsolve/linsolve.py:193: MatrixRankWarning: Matrix is exactly singular\n",
      "  warn(\"Matrix is exactly singular\", MatrixRankWarning)\n"
     ]
    },
    {
     "name": "stdout",
     "output_type": "stream",
     "text": [
      " 381 / 640 combination\n",
      " 382 / 640 combination\n",
      " 383 / 640 combination\n",
      " 384 / 640 combination\n"
     ]
    },
    {
     "name": "stderr",
     "output_type": "stream",
     "text": [
      "/home/ymentha/anaconda3/envs/ntds_2019/lib/python3.7/site-packages/scipy/sparse/linalg/dsolve/linsolve.py:193: MatrixRankWarning: Matrix is exactly singular\n",
      "  warn(\"Matrix is exactly singular\", MatrixRankWarning)\n"
     ]
    },
    {
     "name": "stdout",
     "output_type": "stream",
     "text": [
      " 385 / 640 combination\n",
      " 386 / 640 combination\n",
      " 387 / 640 combination\n",
      " 388 / 640 combination\n",
      " 389 / 640 combination\n"
     ]
    },
    {
     "name": "stderr",
     "output_type": "stream",
     "text": [
      "/home/ymentha/anaconda3/envs/ntds_2019/lib/python3.7/site-packages/scipy/sparse/linalg/dsolve/linsolve.py:193: MatrixRankWarning: Matrix is exactly singular\n",
      "  warn(\"Matrix is exactly singular\", MatrixRankWarning)\n"
     ]
    },
    {
     "name": "stdout",
     "output_type": "stream",
     "text": [
      " 390 / 640 combination\n",
      " 391 / 640 combination\n",
      " 392 / 640 combination\n",
      " 393 / 640 combination\n",
      " 394 / 640 combination\n"
     ]
    },
    {
     "name": "stderr",
     "output_type": "stream",
     "text": [
      "/home/ymentha/anaconda3/envs/ntds_2019/lib/python3.7/site-packages/scipy/sparse/linalg/dsolve/linsolve.py:193: MatrixRankWarning: Matrix is exactly singular\n",
      "  warn(\"Matrix is exactly singular\", MatrixRankWarning)\n"
     ]
    },
    {
     "name": "stdout",
     "output_type": "stream",
     "text": [
      " 395 / 640 combination\n",
      " 396 / 640 combination\n",
      " 397 / 640 combination\n"
     ]
    },
    {
     "name": "stderr",
     "output_type": "stream",
     "text": [
      "/home/ymentha/anaconda3/envs/ntds_2019/lib/python3.7/site-packages/scipy/sparse/linalg/dsolve/linsolve.py:193: MatrixRankWarning: Matrix is exactly singular\n",
      "  warn(\"Matrix is exactly singular\", MatrixRankWarning)\n"
     ]
    },
    {
     "name": "stdout",
     "output_type": "stream",
     "text": [
      " 398 / 640 combination\n",
      " 399 / 640 combination\n",
      " 400 / 640 combination\n",
      " 401 / 640 combination\n",
      " 402 / 640 combination\n",
      " 403 / 640 combination\n",
      " 404 / 640 combination\n",
      " 405 / 640 combination\n",
      " 406 / 640 combination\n",
      " 407 / 640 combination\n",
      " 408 / 640 combination\n",
      " 409 / 640 combination\n",
      " 410 / 640 combination\n",
      " 411 / 640 combination\n",
      " 412 / 640 combination\n",
      " 413 / 640 combination\n",
      " 414 / 640 combination\n",
      " 415 / 640 combination\n",
      " 416 / 640 combination\n"
     ]
    },
    {
     "name": "stderr",
     "output_type": "stream",
     "text": [
      "/home/ymentha/anaconda3/envs/ntds_2019/lib/python3.7/site-packages/scipy/sparse/linalg/dsolve/linsolve.py:193: MatrixRankWarning: Matrix is exactly singular\n",
      "  warn(\"Matrix is exactly singular\", MatrixRankWarning)\n"
     ]
    },
    {
     "name": "stdout",
     "output_type": "stream",
     "text": [
      " 417 / 640 combination\n",
      " 418 / 640 combination\n",
      " 419 / 640 combination\n",
      " 420 / 640 combination\n"
     ]
    },
    {
     "name": "stderr",
     "output_type": "stream",
     "text": [
      "/home/ymentha/anaconda3/envs/ntds_2019/lib/python3.7/site-packages/scipy/sparse/linalg/dsolve/linsolve.py:193: MatrixRankWarning: Matrix is exactly singular\n",
      "  warn(\"Matrix is exactly singular\", MatrixRankWarning)\n"
     ]
    },
    {
     "name": "stdout",
     "output_type": "stream",
     "text": [
      " 421 / 640 combination\n",
      " 422 / 640 combination\n",
      " 423 / 640 combination\n",
      " 424 / 640 combination\n",
      " 425 / 640 combination\n",
      " 426 / 640 combination\n"
     ]
    },
    {
     "name": "stderr",
     "output_type": "stream",
     "text": [
      "/home/ymentha/anaconda3/envs/ntds_2019/lib/python3.7/site-packages/scipy/sparse/linalg/dsolve/linsolve.py:193: MatrixRankWarning: Matrix is exactly singular\n",
      "  warn(\"Matrix is exactly singular\", MatrixRankWarning)\n"
     ]
    },
    {
     "name": "stdout",
     "output_type": "stream",
     "text": [
      " 427 / 640 combination\n",
      " 428 / 640 combination\n"
     ]
    },
    {
     "name": "stderr",
     "output_type": "stream",
     "text": [
      "/home/ymentha/anaconda3/envs/ntds_2019/lib/python3.7/site-packages/scipy/sparse/linalg/dsolve/linsolve.py:193: MatrixRankWarning: Matrix is exactly singular\n",
      "  warn(\"Matrix is exactly singular\", MatrixRankWarning)\n"
     ]
    },
    {
     "name": "stdout",
     "output_type": "stream",
     "text": [
      " 429 / 640 combination\n",
      " 430 / 640 combination\n",
      " 431 / 640 combination\n",
      " 432 / 640 combination\n"
     ]
    },
    {
     "name": "stderr",
     "output_type": "stream",
     "text": [
      "/home/ymentha/anaconda3/envs/ntds_2019/lib/python3.7/site-packages/scipy/sparse/linalg/dsolve/linsolve.py:193: MatrixRankWarning: Matrix is exactly singular\n",
      "  warn(\"Matrix is exactly singular\", MatrixRankWarning)\n"
     ]
    },
    {
     "name": "stdout",
     "output_type": "stream",
     "text": [
      " 433 / 640 combination\n",
      " 434 / 640 combination\n",
      " 435 / 640 combination\n",
      " 436 / 640 combination\n",
      " 437 / 640 combination\n"
     ]
    },
    {
     "name": "stderr",
     "output_type": "stream",
     "text": [
      "/home/ymentha/anaconda3/envs/ntds_2019/lib/python3.7/site-packages/scipy/sparse/linalg/dsolve/linsolve.py:193: MatrixRankWarning: Matrix is exactly singular\n",
      "  warn(\"Matrix is exactly singular\", MatrixRankWarning)\n"
     ]
    },
    {
     "name": "stdout",
     "output_type": "stream",
     "text": [
      " 438 / 640 combination\n",
      " 439 / 640 combination\n",
      " 440 / 640 combination\n",
      " 441 / 640 combination\n",
      " 442 / 640 combination\n",
      " 443 / 640 combination\n",
      " 444 / 640 combination\n",
      " 445 / 640 combination\n",
      " 446 / 640 combination\n",
      " 447 / 640 combination\n",
      " 448 / 640 combination\n",
      " 449 / 640 combination\n",
      " 450 / 640 combination\n",
      " 451 / 640 combination\n",
      " 452 / 640 combination\n",
      " 453 / 640 combination\n",
      " 454 / 640 combination\n",
      " 455 / 640 combination\n",
      " 456 / 640 combination\n",
      " 457 / 640 combination\n",
      " 458 / 640 combination\n",
      " 459 / 640 combination\n",
      " 460 / 640 combination\n",
      " 461 / 640 combination\n",
      " 462 / 640 combination\n",
      " 463 / 640 combination\n",
      " 464 / 640 combination\n",
      " 465 / 640 combination\n"
     ]
    },
    {
     "name": "stderr",
     "output_type": "stream",
     "text": [
      "/home/ymentha/anaconda3/envs/ntds_2019/lib/python3.7/site-packages/scipy/sparse/linalg/dsolve/linsolve.py:193: MatrixRankWarning: Matrix is exactly singular\n",
      "  warn(\"Matrix is exactly singular\", MatrixRankWarning)\n"
     ]
    },
    {
     "name": "stdout",
     "output_type": "stream",
     "text": [
      " 466 / 640 combination\n",
      " 467 / 640 combination\n",
      " 468 / 640 combination\n"
     ]
    },
    {
     "name": "stderr",
     "output_type": "stream",
     "text": [
      "/home/ymentha/anaconda3/envs/ntds_2019/lib/python3.7/site-packages/scipy/sparse/linalg/dsolve/linsolve.py:193: MatrixRankWarning: Matrix is exactly singular\n",
      "  warn(\"Matrix is exactly singular\", MatrixRankWarning)\n"
     ]
    },
    {
     "name": "stdout",
     "output_type": "stream",
     "text": [
      " 469 / 640 combination\n",
      " 470 / 640 combination\n",
      " 471 / 640 combination\n",
      " 472 / 640 combination\n",
      " 473 / 640 combination\n",
      " 474 / 640 combination\n"
     ]
    },
    {
     "name": "stderr",
     "output_type": "stream",
     "text": [
      "/home/ymentha/anaconda3/envs/ntds_2019/lib/python3.7/site-packages/scipy/sparse/linalg/dsolve/linsolve.py:193: MatrixRankWarning: Matrix is exactly singular\n",
      "  warn(\"Matrix is exactly singular\", MatrixRankWarning)\n"
     ]
    },
    {
     "name": "stdout",
     "output_type": "stream",
     "text": [
      " 475 / 640 combination\n",
      " 476 / 640 combination\n"
     ]
    },
    {
     "name": "stderr",
     "output_type": "stream",
     "text": [
      "/home/ymentha/anaconda3/envs/ntds_2019/lib/python3.7/site-packages/scipy/sparse/linalg/dsolve/linsolve.py:193: MatrixRankWarning: Matrix is exactly singular\n",
      "  warn(\"Matrix is exactly singular\", MatrixRankWarning)\n"
     ]
    },
    {
     "name": "stdout",
     "output_type": "stream",
     "text": [
      " 477 / 640 combination\n",
      " 478 / 640 combination\n",
      " 479 / 640 combination\n",
      " 480 / 640 combination\n"
     ]
    },
    {
     "name": "stderr",
     "output_type": "stream",
     "text": [
      "/home/ymentha/anaconda3/envs/ntds_2019/lib/python3.7/site-packages/scipy/sparse/linalg/dsolve/linsolve.py:193: MatrixRankWarning: Matrix is exactly singular\n",
      "  warn(\"Matrix is exactly singular\", MatrixRankWarning)\n"
     ]
    },
    {
     "name": "stdout",
     "output_type": "stream",
     "text": [
      " 481 / 640 combination\n",
      " 482 / 640 combination\n",
      " 483 / 640 combination\n",
      " 484 / 640 combination\n",
      " 485 / 640 combination\n",
      " 486 / 640 combination\n"
     ]
    },
    {
     "name": "stderr",
     "output_type": "stream",
     "text": [
      "/home/ymentha/anaconda3/envs/ntds_2019/lib/python3.7/site-packages/scipy/sparse/linalg/dsolve/linsolve.py:193: MatrixRankWarning: Matrix is exactly singular\n",
      "  warn(\"Matrix is exactly singular\", MatrixRankWarning)\n"
     ]
    },
    {
     "name": "stdout",
     "output_type": "stream",
     "text": [
      " 487 / 640 combination\n",
      " 488 / 640 combination\n"
     ]
    },
    {
     "name": "stderr",
     "output_type": "stream",
     "text": [
      "/home/ymentha/anaconda3/envs/ntds_2019/lib/python3.7/site-packages/scipy/sparse/linalg/dsolve/linsolve.py:193: MatrixRankWarning: Matrix is exactly singular\n",
      "  warn(\"Matrix is exactly singular\", MatrixRankWarning)\n"
     ]
    },
    {
     "name": "stdout",
     "output_type": "stream",
     "text": [
      " 489 / 640 combination\n",
      " 490 / 640 combination\n",
      " 491 / 640 combination\n",
      " 492 / 640 combination\n"
     ]
    },
    {
     "name": "stderr",
     "output_type": "stream",
     "text": [
      "/home/ymentha/anaconda3/envs/ntds_2019/lib/python3.7/site-packages/scipy/sparse/linalg/dsolve/linsolve.py:193: MatrixRankWarning: Matrix is exactly singular\n",
      "  warn(\"Matrix is exactly singular\", MatrixRankWarning)\n"
     ]
    },
    {
     "name": "stdout",
     "output_type": "stream",
     "text": [
      " 493 / 640 combination\n",
      " 494 / 640 combination\n",
      " 495 / 640 combination\n",
      " 496 / 640 combination\n"
     ]
    },
    {
     "name": "stderr",
     "output_type": "stream",
     "text": [
      "/home/ymentha/anaconda3/envs/ntds_2019/lib/python3.7/site-packages/scipy/sparse/linalg/dsolve/linsolve.py:193: MatrixRankWarning: Matrix is exactly singular\n",
      "  warn(\"Matrix is exactly singular\", MatrixRankWarning)\n"
     ]
    },
    {
     "name": "stdout",
     "output_type": "stream",
     "text": [
      " 497 / 640 combination\n",
      " 498 / 640 combination\n",
      " 499 / 640 combination\n",
      " 500 / 640 combination\n",
      " 501 / 640 combination\n"
     ]
    },
    {
     "name": "stderr",
     "output_type": "stream",
     "text": [
      "/home/ymentha/anaconda3/envs/ntds_2019/lib/python3.7/site-packages/scipy/sparse/linalg/dsolve/linsolve.py:193: MatrixRankWarning: Matrix is exactly singular\n",
      "  warn(\"Matrix is exactly singular\", MatrixRankWarning)\n"
     ]
    },
    {
     "name": "stdout",
     "output_type": "stream",
     "text": [
      " 502 / 640 combination\n",
      " 503 / 640 combination\n",
      " 504 / 640 combination\n",
      " 505 / 640 combination\n",
      " 506 / 640 combination\n"
     ]
    },
    {
     "name": "stderr",
     "output_type": "stream",
     "text": [
      "/home/ymentha/anaconda3/envs/ntds_2019/lib/python3.7/site-packages/scipy/sparse/linalg/dsolve/linsolve.py:193: MatrixRankWarning: Matrix is exactly singular\n",
      "  warn(\"Matrix is exactly singular\", MatrixRankWarning)\n"
     ]
    },
    {
     "name": "stdout",
     "output_type": "stream",
     "text": [
      " 507 / 640 combination\n",
      " 508 / 640 combination\n",
      " 509 / 640 combination\n"
     ]
    },
    {
     "name": "stderr",
     "output_type": "stream",
     "text": [
      "/home/ymentha/anaconda3/envs/ntds_2019/lib/python3.7/site-packages/scipy/sparse/linalg/dsolve/linsolve.py:193: MatrixRankWarning: Matrix is exactly singular\n",
      "  warn(\"Matrix is exactly singular\", MatrixRankWarning)\n"
     ]
    },
    {
     "name": "stdout",
     "output_type": "stream",
     "text": [
      " 510 / 640 combination\n",
      " 511 / 640 combination\n",
      " 512 / 640 combination\n",
      " 513 / 640 combination\n",
      " 514 / 640 combination\n"
     ]
    },
    {
     "name": "stderr",
     "output_type": "stream",
     "text": [
      "/home/ymentha/anaconda3/envs/ntds_2019/lib/python3.7/site-packages/scipy/sparse/linalg/dsolve/linsolve.py:193: MatrixRankWarning: Matrix is exactly singular\n",
      "  warn(\"Matrix is exactly singular\", MatrixRankWarning)\n"
     ]
    },
    {
     "name": "stdout",
     "output_type": "stream",
     "text": [
      " 515 / 640 combination\n",
      " 516 / 640 combination\n",
      " 517 / 640 combination\n"
     ]
    },
    {
     "name": "stderr",
     "output_type": "stream",
     "text": [
      "/home/ymentha/anaconda3/envs/ntds_2019/lib/python3.7/site-packages/scipy/sparse/linalg/dsolve/linsolve.py:193: MatrixRankWarning: Matrix is exactly singular\n",
      "  warn(\"Matrix is exactly singular\", MatrixRankWarning)\n"
     ]
    },
    {
     "name": "stdout",
     "output_type": "stream",
     "text": [
      " 518 / 640 combination\n",
      " 519 / 640 combination\n",
      " 520 / 640 combination\n",
      " 521 / 640 combination\n",
      " 522 / 640 combination\n",
      " 523 / 640 combination\n",
      " 524 / 640 combination\n",
      " 525 / 640 combination\n",
      " 526 / 640 combination\n",
      " 527 / 640 combination\n",
      " 528 / 640 combination\n",
      " 529 / 640 combination\n"
     ]
    },
    {
     "name": "stderr",
     "output_type": "stream",
     "text": [
      "/home/ymentha/anaconda3/envs/ntds_2019/lib/python3.7/site-packages/scipy/sparse/linalg/dsolve/linsolve.py:193: MatrixRankWarning: Matrix is exactly singular\n",
      "  warn(\"Matrix is exactly singular\", MatrixRankWarning)\n"
     ]
    },
    {
     "name": "stdout",
     "output_type": "stream",
     "text": [
      " 530 / 640 combination\n",
      " 531 / 640 combination\n",
      " 532 / 640 combination\n",
      " 533 / 640 combination\n",
      " 534 / 640 combination\n"
     ]
    },
    {
     "name": "stderr",
     "output_type": "stream",
     "text": [
      "/home/ymentha/anaconda3/envs/ntds_2019/lib/python3.7/site-packages/scipy/sparse/linalg/dsolve/linsolve.py:193: MatrixRankWarning: Matrix is exactly singular\n",
      "  warn(\"Matrix is exactly singular\", MatrixRankWarning)\n"
     ]
    },
    {
     "name": "stdout",
     "output_type": "stream",
     "text": [
      " 535 / 640 combination\n",
      " 536 / 640 combination\n"
     ]
    },
    {
     "name": "stderr",
     "output_type": "stream",
     "text": [
      "/home/ymentha/anaconda3/envs/ntds_2019/lib/python3.7/site-packages/scipy/sparse/linalg/dsolve/linsolve.py:193: MatrixRankWarning: Matrix is exactly singular\n",
      "  warn(\"Matrix is exactly singular\", MatrixRankWarning)\n"
     ]
    },
    {
     "name": "stdout",
     "output_type": "stream",
     "text": [
      " 537 / 640 combination\n",
      " 538 / 640 combination\n",
      " 539 / 640 combination\n",
      " 540 / 640 combination\n"
     ]
    },
    {
     "name": "stderr",
     "output_type": "stream",
     "text": [
      "/home/ymentha/anaconda3/envs/ntds_2019/lib/python3.7/site-packages/scipy/sparse/linalg/dsolve/linsolve.py:193: MatrixRankWarning: Matrix is exactly singular\n",
      "  warn(\"Matrix is exactly singular\", MatrixRankWarning)\n"
     ]
    },
    {
     "name": "stdout",
     "output_type": "stream",
     "text": [
      " 541 / 640 combination\n",
      " 542 / 640 combination\n",
      " 543 / 640 combination\n",
      " 544 / 640 combination\n"
     ]
    },
    {
     "name": "stderr",
     "output_type": "stream",
     "text": [
      "/home/ymentha/anaconda3/envs/ntds_2019/lib/python3.7/site-packages/scipy/sparse/linalg/dsolve/linsolve.py:193: MatrixRankWarning: Matrix is exactly singular\n",
      "  warn(\"Matrix is exactly singular\", MatrixRankWarning)\n"
     ]
    },
    {
     "name": "stdout",
     "output_type": "stream",
     "text": [
      " 545 / 640 combination\n",
      " 546 / 640 combination\n",
      " 547 / 640 combination\n",
      " 548 / 640 combination\n",
      " 549 / 640 combination\n"
     ]
    },
    {
     "name": "stderr",
     "output_type": "stream",
     "text": [
      "/home/ymentha/anaconda3/envs/ntds_2019/lib/python3.7/site-packages/scipy/sparse/linalg/dsolve/linsolve.py:193: MatrixRankWarning: Matrix is exactly singular\n",
      "  warn(\"Matrix is exactly singular\", MatrixRankWarning)\n"
     ]
    },
    {
     "name": "stdout",
     "output_type": "stream",
     "text": [
      " 550 / 640 combination\n",
      " 551 / 640 combination\n",
      " 552 / 640 combination\n",
      " 553 / 640 combination\n",
      " 554 / 640 combination\n"
     ]
    },
    {
     "name": "stderr",
     "output_type": "stream",
     "text": [
      "/home/ymentha/anaconda3/envs/ntds_2019/lib/python3.7/site-packages/scipy/sparse/linalg/dsolve/linsolve.py:193: MatrixRankWarning: Matrix is exactly singular\n",
      "  warn(\"Matrix is exactly singular\", MatrixRankWarning)\n"
     ]
    },
    {
     "name": "stdout",
     "output_type": "stream",
     "text": [
      " 555 / 640 combination\n",
      " 556 / 640 combination\n",
      " 557 / 640 combination\n"
     ]
    },
    {
     "name": "stderr",
     "output_type": "stream",
     "text": [
      "/home/ymentha/anaconda3/envs/ntds_2019/lib/python3.7/site-packages/scipy/sparse/linalg/dsolve/linsolve.py:193: MatrixRankWarning: Matrix is exactly singular\n",
      "  warn(\"Matrix is exactly singular\", MatrixRankWarning)\n"
     ]
    },
    {
     "name": "stdout",
     "output_type": "stream",
     "text": [
      " 558 / 640 combination\n",
      " 559 / 640 combination\n",
      " 560 / 640 combination\n",
      " 561 / 640 combination\n",
      " 562 / 640 combination\n",
      " 563 / 640 combination\n",
      " 564 / 640 combination\n",
      " 565 / 640 combination\n",
      " 566 / 640 combination\n",
      " 567 / 640 combination\n",
      " 568 / 640 combination\n",
      " 569 / 640 combination\n",
      " 570 / 640 combination\n",
      " 571 / 640 combination\n",
      " 572 / 640 combination\n",
      " 573 / 640 combination\n",
      " 574 / 640 combination\n",
      " 575 / 640 combination\n",
      " 576 / 640 combination\n",
      " 577 / 640 combination\n"
     ]
    },
    {
     "name": "stderr",
     "output_type": "stream",
     "text": [
      "/home/ymentha/anaconda3/envs/ntds_2019/lib/python3.7/site-packages/scipy/sparse/linalg/dsolve/linsolve.py:193: MatrixRankWarning: Matrix is exactly singular\n",
      "  warn(\"Matrix is exactly singular\", MatrixRankWarning)\n"
     ]
    },
    {
     "name": "stdout",
     "output_type": "stream",
     "text": [
      " 578 / 640 combination\n",
      " 579 / 640 combination\n",
      " 580 / 640 combination\n",
      " 581 / 640 combination\n",
      " 582 / 640 combination\n"
     ]
    },
    {
     "name": "stderr",
     "output_type": "stream",
     "text": [
      "/home/ymentha/anaconda3/envs/ntds_2019/lib/python3.7/site-packages/scipy/sparse/linalg/dsolve/linsolve.py:193: MatrixRankWarning: Matrix is exactly singular\n",
      "  warn(\"Matrix is exactly singular\", MatrixRankWarning)\n"
     ]
    },
    {
     "name": "stdout",
     "output_type": "stream",
     "text": [
      " 583 / 640 combination\n",
      " 584 / 640 combination\n",
      " 585 / 640 combination\n",
      " 586 / 640 combination\n"
     ]
    },
    {
     "name": "stderr",
     "output_type": "stream",
     "text": [
      "/home/ymentha/anaconda3/envs/ntds_2019/lib/python3.7/site-packages/scipy/sparse/linalg/dsolve/linsolve.py:193: MatrixRankWarning: Matrix is exactly singular\n",
      "  warn(\"Matrix is exactly singular\", MatrixRankWarning)\n"
     ]
    },
    {
     "name": "stdout",
     "output_type": "stream",
     "text": [
      " 587 / 640 combination\n",
      " 588 / 640 combination\n"
     ]
    },
    {
     "name": "stderr",
     "output_type": "stream",
     "text": [
      "/home/ymentha/anaconda3/envs/ntds_2019/lib/python3.7/site-packages/scipy/sparse/linalg/dsolve/linsolve.py:193: MatrixRankWarning: Matrix is exactly singular\n",
      "  warn(\"Matrix is exactly singular\", MatrixRankWarning)\n"
     ]
    },
    {
     "name": "stdout",
     "output_type": "stream",
     "text": [
      " 589 / 640 combination\n",
      " 590 / 640 combination\n",
      " 591 / 640 combination\n",
      " 592 / 640 combination\n"
     ]
    },
    {
     "name": "stderr",
     "output_type": "stream",
     "text": [
      "/home/ymentha/anaconda3/envs/ntds_2019/lib/python3.7/site-packages/scipy/sparse/linalg/dsolve/linsolve.py:193: MatrixRankWarning: Matrix is exactly singular\n",
      "  warn(\"Matrix is exactly singular\", MatrixRankWarning)\n"
     ]
    },
    {
     "name": "stdout",
     "output_type": "stream",
     "text": [
      " 593 / 640 combination\n",
      " 594 / 640 combination\n",
      " 595 / 640 combination\n",
      " 596 / 640 combination\n",
      " 597 / 640 combination\n"
     ]
    },
    {
     "name": "stderr",
     "output_type": "stream",
     "text": [
      "/home/ymentha/anaconda3/envs/ntds_2019/lib/python3.7/site-packages/scipy/sparse/linalg/dsolve/linsolve.py:193: MatrixRankWarning: Matrix is exactly singular\n",
      "  warn(\"Matrix is exactly singular\", MatrixRankWarning)\n"
     ]
    },
    {
     "name": "stdout",
     "output_type": "stream",
     "text": [
      " 598 / 640 combination\n",
      " 599 / 640 combination\n",
      " 600 / 640 combination\n",
      " 601 / 640 combination\n",
      " 602 / 640 combination\n",
      " 603 / 640 combination\n",
      " 604 / 640 combination\n",
      " 605 / 640 combination\n",
      " 606 / 640 combination\n",
      " 607 / 640 combination\n",
      " 608 / 640 combination\n",
      " 609 / 640 combination\n",
      " 610 / 640 combination\n",
      " 611 / 640 combination\n",
      " 612 / 640 combination\n",
      " 613 / 640 combination\n",
      " 614 / 640 combination\n",
      " 615 / 640 combination\n",
      " 616 / 640 combination\n",
      " 617 / 640 combination\n",
      " 618 / 640 combination\n",
      " 619 / 640 combination\n",
      " 620 / 640 combination\n",
      " 621 / 640 combination\n",
      " 622 / 640 combination\n",
      " 623 / 640 combination\n",
      " 624 / 640 combination\n"
     ]
    },
    {
     "name": "stderr",
     "output_type": "stream",
     "text": [
      "/home/ymentha/anaconda3/envs/ntds_2019/lib/python3.7/site-packages/scipy/sparse/linalg/dsolve/linsolve.py:193: MatrixRankWarning: Matrix is exactly singular\n",
      "  warn(\"Matrix is exactly singular\", MatrixRankWarning)\n"
     ]
    },
    {
     "name": "stdout",
     "output_type": "stream",
     "text": [
      " 625 / 640 combination\n",
      " 626 / 640 combination\n",
      " 627 / 640 combination\n",
      " 628 / 640 combination\n"
     ]
    },
    {
     "name": "stderr",
     "output_type": "stream",
     "text": [
      "/home/ymentha/anaconda3/envs/ntds_2019/lib/python3.7/site-packages/scipy/sparse/linalg/dsolve/linsolve.py:193: MatrixRankWarning: Matrix is exactly singular\n",
      "  warn(\"Matrix is exactly singular\", MatrixRankWarning)\n"
     ]
    },
    {
     "name": "stdout",
     "output_type": "stream",
     "text": [
      " 629 / 640 combination\n",
      " 630 / 640 combination\n",
      " 631 / 640 combination\n",
      " 632 / 640 combination\n",
      " 633 / 640 combination\n",
      " 634 / 640 combination\n"
     ]
    },
    {
     "name": "stderr",
     "output_type": "stream",
     "text": [
      "/home/ymentha/anaconda3/envs/ntds_2019/lib/python3.7/site-packages/scipy/sparse/linalg/dsolve/linsolve.py:193: MatrixRankWarning: Matrix is exactly singular\n",
      "  warn(\"Matrix is exactly singular\", MatrixRankWarning)\n"
     ]
    },
    {
     "name": "stdout",
     "output_type": "stream",
     "text": [
      " 635 / 640 combination\n",
      " 636 / 640 combination\n"
     ]
    },
    {
     "name": "stderr",
     "output_type": "stream",
     "text": [
      "/home/ymentha/anaconda3/envs/ntds_2019/lib/python3.7/site-packages/scipy/sparse/linalg/dsolve/linsolve.py:193: MatrixRankWarning: Matrix is exactly singular\n",
      "  warn(\"Matrix is exactly singular\", MatrixRankWarning)\n"
     ]
    },
    {
     "name": "stdout",
     "output_type": "stream",
     "text": [
      " 637 / 640 combination\n",
      " 638 / 640 combination\n",
      " 639 / 640 combination\n",
      "################################\n",
      "Biggest result for gene X3820 : -0.06\n",
      "Smallest result for gene X3820 : -5.36\n",
      "################################\n",
      " 0 / 640 combination\n"
     ]
    },
    {
     "name": "stderr",
     "output_type": "stream",
     "text": [
      "/home/ymentha/anaconda3/envs/ntds_2019/lib/python3.7/site-packages/scipy/sparse/linalg/dsolve/linsolve.py:193: MatrixRankWarning: Matrix is exactly singular\n",
      "  warn(\"Matrix is exactly singular\", MatrixRankWarning)\n"
     ]
    },
    {
     "name": "stdout",
     "output_type": "stream",
     "text": [
      " 1 / 640 combination\n",
      " 2 / 640 combination\n",
      " 3 / 640 combination\n",
      " 4 / 640 combination\n",
      " 5 / 640 combination\n",
      " 6 / 640 combination\n"
     ]
    },
    {
     "name": "stderr",
     "output_type": "stream",
     "text": [
      "/home/ymentha/anaconda3/envs/ntds_2019/lib/python3.7/site-packages/scipy/sparse/linalg/dsolve/linsolve.py:193: MatrixRankWarning: Matrix is exactly singular\n",
      "  warn(\"Matrix is exactly singular\", MatrixRankWarning)\n"
     ]
    },
    {
     "name": "stdout",
     "output_type": "stream",
     "text": [
      " 7 / 640 combination\n",
      " 8 / 640 combination\n"
     ]
    },
    {
     "name": "stderr",
     "output_type": "stream",
     "text": [
      "/home/ymentha/anaconda3/envs/ntds_2019/lib/python3.7/site-packages/scipy/sparse/linalg/dsolve/linsolve.py:193: MatrixRankWarning: Matrix is exactly singular\n",
      "  warn(\"Matrix is exactly singular\", MatrixRankWarning)\n"
     ]
    },
    {
     "name": "stdout",
     "output_type": "stream",
     "text": [
      " 9 / 640 combination\n",
      " 10 / 640 combination\n",
      " 11 / 640 combination\n",
      " 12 / 640 combination\n"
     ]
    },
    {
     "name": "stderr",
     "output_type": "stream",
     "text": [
      "/home/ymentha/anaconda3/envs/ntds_2019/lib/python3.7/site-packages/scipy/sparse/linalg/dsolve/linsolve.py:193: MatrixRankWarning: Matrix is exactly singular\n",
      "  warn(\"Matrix is exactly singular\", MatrixRankWarning)\n"
     ]
    },
    {
     "name": "stdout",
     "output_type": "stream",
     "text": [
      " 13 / 640 combination\n",
      " 14 / 640 combination\n",
      " 15 / 640 combination\n",
      " 16 / 640 combination\n"
     ]
    },
    {
     "name": "stderr",
     "output_type": "stream",
     "text": [
      "/home/ymentha/anaconda3/envs/ntds_2019/lib/python3.7/site-packages/scipy/sparse/linalg/dsolve/linsolve.py:193: MatrixRankWarning: Matrix is exactly singular\n",
      "  warn(\"Matrix is exactly singular\", MatrixRankWarning)\n"
     ]
    },
    {
     "name": "stdout",
     "output_type": "stream",
     "text": [
      " 17 / 640 combination\n",
      " 18 / 640 combination\n",
      " 19 / 640 combination\n",
      " 20 / 640 combination\n",
      " 21 / 640 combination\n"
     ]
    },
    {
     "name": "stderr",
     "output_type": "stream",
     "text": [
      "/home/ymentha/anaconda3/envs/ntds_2019/lib/python3.7/site-packages/scipy/sparse/linalg/dsolve/linsolve.py:193: MatrixRankWarning: Matrix is exactly singular\n",
      "  warn(\"Matrix is exactly singular\", MatrixRankWarning)\n"
     ]
    },
    {
     "name": "stdout",
     "output_type": "stream",
     "text": [
      " 22 / 640 combination\n",
      " 23 / 640 combination\n",
      " 24 / 640 combination\n",
      " 25 / 640 combination\n",
      " 26 / 640 combination\n"
     ]
    },
    {
     "name": "stderr",
     "output_type": "stream",
     "text": [
      "/home/ymentha/anaconda3/envs/ntds_2019/lib/python3.7/site-packages/scipy/sparse/linalg/dsolve/linsolve.py:193: MatrixRankWarning: Matrix is exactly singular\n",
      "  warn(\"Matrix is exactly singular\", MatrixRankWarning)\n"
     ]
    },
    {
     "name": "stdout",
     "output_type": "stream",
     "text": [
      " 27 / 640 combination\n",
      " 28 / 640 combination\n",
      " 29 / 640 combination\n"
     ]
    },
    {
     "name": "stderr",
     "output_type": "stream",
     "text": [
      "/home/ymentha/anaconda3/envs/ntds_2019/lib/python3.7/site-packages/scipy/sparse/linalg/dsolve/linsolve.py:193: MatrixRankWarning: Matrix is exactly singular\n",
      "  warn(\"Matrix is exactly singular\", MatrixRankWarning)\n"
     ]
    },
    {
     "name": "stdout",
     "output_type": "stream",
     "text": [
      " 30 / 640 combination\n",
      " 31 / 640 combination\n",
      " 32 / 640 combination\n",
      " 33 / 640 combination\n",
      " 34 / 640 combination\n"
     ]
    },
    {
     "name": "stderr",
     "output_type": "stream",
     "text": [
      "/home/ymentha/anaconda3/envs/ntds_2019/lib/python3.7/site-packages/scipy/sparse/linalg/dsolve/linsolve.py:193: MatrixRankWarning: Matrix is exactly singular\n",
      "  warn(\"Matrix is exactly singular\", MatrixRankWarning)\n"
     ]
    },
    {
     "name": "stdout",
     "output_type": "stream",
     "text": [
      " 35 / 640 combination\n",
      " 36 / 640 combination\n",
      " 37 / 640 combination\n"
     ]
    },
    {
     "name": "stderr",
     "output_type": "stream",
     "text": [
      "/home/ymentha/anaconda3/envs/ntds_2019/lib/python3.7/site-packages/scipy/sparse/linalg/dsolve/linsolve.py:193: MatrixRankWarning: Matrix is exactly singular\n",
      "  warn(\"Matrix is exactly singular\", MatrixRankWarning)\n"
     ]
    },
    {
     "name": "stdout",
     "output_type": "stream",
     "text": [
      " 38 / 640 combination\n",
      " 39 / 640 combination\n",
      " 40 / 640 combination\n",
      " 41 / 640 combination\n",
      " 42 / 640 combination\n",
      " 43 / 640 combination\n",
      " 44 / 640 combination\n",
      " 45 / 640 combination\n",
      " 46 / 640 combination\n",
      " 47 / 640 combination\n",
      " 48 / 640 combination\n"
     ]
    },
    {
     "name": "stderr",
     "output_type": "stream",
     "text": [
      "/home/ymentha/anaconda3/envs/ntds_2019/lib/python3.7/site-packages/scipy/sparse/linalg/dsolve/linsolve.py:193: MatrixRankWarning: Matrix is exactly singular\n",
      "  warn(\"Matrix is exactly singular\", MatrixRankWarning)\n"
     ]
    },
    {
     "name": "stdout",
     "output_type": "stream",
     "text": [
      " 49 / 640 combination\n",
      " 50 / 640 combination\n",
      " 51 / 640 combination\n",
      " 52 / 640 combination\n",
      " 53 / 640 combination\n",
      " 54 / 640 combination\n"
     ]
    },
    {
     "name": "stderr",
     "output_type": "stream",
     "text": [
      "/home/ymentha/anaconda3/envs/ntds_2019/lib/python3.7/site-packages/scipy/sparse/linalg/dsolve/linsolve.py:193: MatrixRankWarning: Matrix is exactly singular\n",
      "  warn(\"Matrix is exactly singular\", MatrixRankWarning)\n"
     ]
    },
    {
     "name": "stdout",
     "output_type": "stream",
     "text": [
      " 55 / 640 combination\n",
      " 56 / 640 combination\n",
      " 57 / 640 combination\n",
      " 58 / 640 combination\n"
     ]
    },
    {
     "name": "stderr",
     "output_type": "stream",
     "text": [
      "/home/ymentha/anaconda3/envs/ntds_2019/lib/python3.7/site-packages/scipy/sparse/linalg/dsolve/linsolve.py:193: MatrixRankWarning: Matrix is exactly singular\n",
      "  warn(\"Matrix is exactly singular\", MatrixRankWarning)\n"
     ]
    },
    {
     "name": "stdout",
     "output_type": "stream",
     "text": [
      " 59 / 640 combination\n",
      " 60 / 640 combination\n"
     ]
    },
    {
     "name": "stderr",
     "output_type": "stream",
     "text": [
      "/home/ymentha/anaconda3/envs/ntds_2019/lib/python3.7/site-packages/scipy/sparse/linalg/dsolve/linsolve.py:193: MatrixRankWarning: Matrix is exactly singular\n",
      "  warn(\"Matrix is exactly singular\", MatrixRankWarning)\n"
     ]
    },
    {
     "name": "stdout",
     "output_type": "stream",
     "text": [
      " 61 / 640 combination\n",
      " 62 / 640 combination\n",
      " 63 / 640 combination\n",
      " 64 / 640 combination\n"
     ]
    },
    {
     "name": "stderr",
     "output_type": "stream",
     "text": [
      "/home/ymentha/anaconda3/envs/ntds_2019/lib/python3.7/site-packages/scipy/sparse/linalg/dsolve/linsolve.py:193: MatrixRankWarning: Matrix is exactly singular\n",
      "  warn(\"Matrix is exactly singular\", MatrixRankWarning)\n"
     ]
    },
    {
     "name": "stdout",
     "output_type": "stream",
     "text": [
      " 65 / 640 combination\n",
      " 66 / 640 combination\n",
      " 67 / 640 combination\n",
      " 68 / 640 combination\n",
      " 69 / 640 combination\n"
     ]
    },
    {
     "name": "stderr",
     "output_type": "stream",
     "text": [
      "/home/ymentha/anaconda3/envs/ntds_2019/lib/python3.7/site-packages/scipy/sparse/linalg/dsolve/linsolve.py:193: MatrixRankWarning: Matrix is exactly singular\n",
      "  warn(\"Matrix is exactly singular\", MatrixRankWarning)\n"
     ]
    },
    {
     "name": "stdout",
     "output_type": "stream",
     "text": [
      " 70 / 640 combination\n",
      " 71 / 640 combination\n",
      " 72 / 640 combination\n",
      " 73 / 640 combination\n",
      " 74 / 640 combination\n"
     ]
    },
    {
     "name": "stderr",
     "output_type": "stream",
     "text": [
      "/home/ymentha/anaconda3/envs/ntds_2019/lib/python3.7/site-packages/scipy/sparse/linalg/dsolve/linsolve.py:193: MatrixRankWarning: Matrix is exactly singular\n",
      "  warn(\"Matrix is exactly singular\", MatrixRankWarning)\n"
     ]
    },
    {
     "name": "stdout",
     "output_type": "stream",
     "text": [
      " 75 / 640 combination\n",
      " 76 / 640 combination\n",
      " 77 / 640 combination\n"
     ]
    },
    {
     "name": "stderr",
     "output_type": "stream",
     "text": [
      "/home/ymentha/anaconda3/envs/ntds_2019/lib/python3.7/site-packages/scipy/sparse/linalg/dsolve/linsolve.py:193: MatrixRankWarning: Matrix is exactly singular\n",
      "  warn(\"Matrix is exactly singular\", MatrixRankWarning)\n"
     ]
    },
    {
     "name": "stdout",
     "output_type": "stream",
     "text": [
      " 78 / 640 combination\n",
      " 79 / 640 combination\n",
      " 80 / 640 combination\n",
      " 81 / 640 combination\n",
      " 82 / 640 combination\n",
      " 83 / 640 combination\n",
      " 84 / 640 combination\n",
      " 85 / 640 combination\n",
      " 86 / 640 combination\n",
      " 87 / 640 combination\n",
      " 88 / 640 combination\n",
      " 89 / 640 combination\n",
      " 90 / 640 combination\n",
      " 91 / 640 combination\n",
      " 92 / 640 combination\n",
      " 93 / 640 combination\n",
      " 94 / 640 combination\n",
      " 95 / 640 combination\n",
      " 96 / 640 combination\n"
     ]
    },
    {
     "name": "stderr",
     "output_type": "stream",
     "text": [
      "/home/ymentha/anaconda3/envs/ntds_2019/lib/python3.7/site-packages/scipy/sparse/linalg/dsolve/linsolve.py:193: MatrixRankWarning: Matrix is exactly singular\n",
      "  warn(\"Matrix is exactly singular\", MatrixRankWarning)\n"
     ]
    },
    {
     "name": "stdout",
     "output_type": "stream",
     "text": [
      " 97 / 640 combination\n",
      " 98 / 640 combination\n",
      " 99 / 640 combination\n",
      " 100 / 640 combination\n"
     ]
    },
    {
     "name": "stderr",
     "output_type": "stream",
     "text": [
      "/home/ymentha/anaconda3/envs/ntds_2019/lib/python3.7/site-packages/scipy/sparse/linalg/dsolve/linsolve.py:193: MatrixRankWarning: Matrix is exactly singular\n",
      "  warn(\"Matrix is exactly singular\", MatrixRankWarning)\n"
     ]
    },
    {
     "name": "stdout",
     "output_type": "stream",
     "text": [
      " 101 / 640 combination\n",
      " 102 / 640 combination\n",
      " 103 / 640 combination\n",
      " 104 / 640 combination\n",
      " 105 / 640 combination\n",
      " 106 / 640 combination\n"
     ]
    },
    {
     "name": "stderr",
     "output_type": "stream",
     "text": [
      "/home/ymentha/anaconda3/envs/ntds_2019/lib/python3.7/site-packages/scipy/sparse/linalg/dsolve/linsolve.py:193: MatrixRankWarning: Matrix is exactly singular\n",
      "  warn(\"Matrix is exactly singular\", MatrixRankWarning)\n"
     ]
    },
    {
     "name": "stdout",
     "output_type": "stream",
     "text": [
      " 107 / 640 combination\n",
      " 108 / 640 combination\n"
     ]
    },
    {
     "name": "stderr",
     "output_type": "stream",
     "text": [
      "/home/ymentha/anaconda3/envs/ntds_2019/lib/python3.7/site-packages/scipy/sparse/linalg/dsolve/linsolve.py:193: MatrixRankWarning: Matrix is exactly singular\n",
      "  warn(\"Matrix is exactly singular\", MatrixRankWarning)\n"
     ]
    },
    {
     "name": "stdout",
     "output_type": "stream",
     "text": [
      " 109 / 640 combination\n",
      " 110 / 640 combination\n",
      " 111 / 640 combination\n",
      " 112 / 640 combination\n"
     ]
    },
    {
     "name": "stderr",
     "output_type": "stream",
     "text": [
      "/home/ymentha/anaconda3/envs/ntds_2019/lib/python3.7/site-packages/scipy/sparse/linalg/dsolve/linsolve.py:193: MatrixRankWarning: Matrix is exactly singular\n",
      "  warn(\"Matrix is exactly singular\", MatrixRankWarning)\n"
     ]
    },
    {
     "name": "stdout",
     "output_type": "stream",
     "text": [
      " 113 / 640 combination\n",
      " 114 / 640 combination\n",
      " 115 / 640 combination\n",
      " 116 / 640 combination\n",
      " 117 / 640 combination\n"
     ]
    },
    {
     "name": "stderr",
     "output_type": "stream",
     "text": [
      "/home/ymentha/anaconda3/envs/ntds_2019/lib/python3.7/site-packages/scipy/sparse/linalg/dsolve/linsolve.py:193: MatrixRankWarning: Matrix is exactly singular\n",
      "  warn(\"Matrix is exactly singular\", MatrixRankWarning)\n"
     ]
    },
    {
     "name": "stdout",
     "output_type": "stream",
     "text": [
      " 118 / 640 combination\n",
      " 119 / 640 combination\n",
      " 120 / 640 combination\n",
      " 121 / 640 combination\n",
      " 122 / 640 combination\n",
      " 123 / 640 combination\n",
      " 124 / 640 combination\n",
      " 125 / 640 combination\n",
      " 126 / 640 combination\n",
      " 127 / 640 combination\n",
      " 128 / 640 combination\n",
      " 129 / 640 combination\n",
      " 130 / 640 combination\n",
      " 131 / 640 combination\n",
      " 132 / 640 combination\n",
      " 133 / 640 combination\n",
      " 134 / 640 combination\n",
      " 135 / 640 combination\n",
      " 136 / 640 combination\n",
      " 137 / 640 combination\n",
      " 138 / 640 combination\n",
      " 139 / 640 combination\n",
      " 140 / 640 combination\n",
      " 141 / 640 combination\n",
      " 142 / 640 combination\n",
      " 143 / 640 combination\n",
      " 144 / 640 combination\n",
      " 145 / 640 combination\n"
     ]
    },
    {
     "name": "stderr",
     "output_type": "stream",
     "text": [
      "/home/ymentha/anaconda3/envs/ntds_2019/lib/python3.7/site-packages/scipy/sparse/linalg/dsolve/linsolve.py:193: MatrixRankWarning: Matrix is exactly singular\n",
      "  warn(\"Matrix is exactly singular\", MatrixRankWarning)\n"
     ]
    },
    {
     "name": "stdout",
     "output_type": "stream",
     "text": [
      " 146 / 640 combination\n",
      " 147 / 640 combination\n",
      " 148 / 640 combination\n",
      " 149 / 640 combination\n",
      " 150 / 640 combination\n"
     ]
    },
    {
     "name": "stderr",
     "output_type": "stream",
     "text": [
      "/home/ymentha/anaconda3/envs/ntds_2019/lib/python3.7/site-packages/scipy/sparse/linalg/dsolve/linsolve.py:193: MatrixRankWarning: Matrix is exactly singular\n",
      "  warn(\"Matrix is exactly singular\", MatrixRankWarning)\n"
     ]
    },
    {
     "name": "stdout",
     "output_type": "stream",
     "text": [
      " 151 / 640 combination\n",
      " 152 / 640 combination\n",
      " 153 / 640 combination\n",
      " 154 / 640 combination\n"
     ]
    },
    {
     "name": "stderr",
     "output_type": "stream",
     "text": [
      "/home/ymentha/anaconda3/envs/ntds_2019/lib/python3.7/site-packages/scipy/sparse/linalg/dsolve/linsolve.py:193: MatrixRankWarning: Matrix is exactly singular\n",
      "  warn(\"Matrix is exactly singular\", MatrixRankWarning)\n"
     ]
    },
    {
     "name": "stdout",
     "output_type": "stream",
     "text": [
      " 155 / 640 combination\n",
      " 156 / 640 combination\n"
     ]
    },
    {
     "name": "stderr",
     "output_type": "stream",
     "text": [
      "/home/ymentha/anaconda3/envs/ntds_2019/lib/python3.7/site-packages/scipy/sparse/linalg/dsolve/linsolve.py:193: MatrixRankWarning: Matrix is exactly singular\n",
      "  warn(\"Matrix is exactly singular\", MatrixRankWarning)\n"
     ]
    },
    {
     "name": "stdout",
     "output_type": "stream",
     "text": [
      " 157 / 640 combination\n",
      " 158 / 640 combination\n",
      " 159 / 640 combination\n",
      " 160 / 640 combination\n"
     ]
    },
    {
     "name": "stderr",
     "output_type": "stream",
     "text": [
      "/home/ymentha/anaconda3/envs/ntds_2019/lib/python3.7/site-packages/scipy/sparse/linalg/dsolve/linsolve.py:193: MatrixRankWarning: Matrix is exactly singular\n",
      "  warn(\"Matrix is exactly singular\", MatrixRankWarning)\n"
     ]
    },
    {
     "name": "stdout",
     "output_type": "stream",
     "text": [
      " 161 / 640 combination\n",
      " 162 / 640 combination\n",
      " 163 / 640 combination\n",
      " 164 / 640 combination\n",
      " 165 / 640 combination\n",
      " 166 / 640 combination\n"
     ]
    },
    {
     "name": "stderr",
     "output_type": "stream",
     "text": [
      "/home/ymentha/anaconda3/envs/ntds_2019/lib/python3.7/site-packages/scipy/sparse/linalg/dsolve/linsolve.py:193: MatrixRankWarning: Matrix is exactly singular\n",
      "  warn(\"Matrix is exactly singular\", MatrixRankWarning)\n"
     ]
    },
    {
     "name": "stdout",
     "output_type": "stream",
     "text": [
      " 167 / 640 combination\n",
      " 168 / 640 combination\n"
     ]
    },
    {
     "name": "stderr",
     "output_type": "stream",
     "text": [
      "/home/ymentha/anaconda3/envs/ntds_2019/lib/python3.7/site-packages/scipy/sparse/linalg/dsolve/linsolve.py:193: MatrixRankWarning: Matrix is exactly singular\n",
      "  warn(\"Matrix is exactly singular\", MatrixRankWarning)\n"
     ]
    },
    {
     "name": "stdout",
     "output_type": "stream",
     "text": [
      " 169 / 640 combination\n",
      " 170 / 640 combination\n",
      " 171 / 640 combination\n",
      " 172 / 640 combination\n"
     ]
    },
    {
     "name": "stderr",
     "output_type": "stream",
     "text": [
      "/home/ymentha/anaconda3/envs/ntds_2019/lib/python3.7/site-packages/scipy/sparse/linalg/dsolve/linsolve.py:193: MatrixRankWarning: Matrix is exactly singular\n",
      "  warn(\"Matrix is exactly singular\", MatrixRankWarning)\n"
     ]
    },
    {
     "name": "stdout",
     "output_type": "stream",
     "text": [
      " 173 / 640 combination\n",
      " 174 / 640 combination\n",
      " 175 / 640 combination\n",
      " 176 / 640 combination\n"
     ]
    },
    {
     "name": "stderr",
     "output_type": "stream",
     "text": [
      "/home/ymentha/anaconda3/envs/ntds_2019/lib/python3.7/site-packages/scipy/sparse/linalg/dsolve/linsolve.py:193: MatrixRankWarning: Matrix is exactly singular\n",
      "  warn(\"Matrix is exactly singular\", MatrixRankWarning)\n"
     ]
    },
    {
     "name": "stdout",
     "output_type": "stream",
     "text": [
      " 177 / 640 combination\n",
      " 178 / 640 combination\n",
      " 179 / 640 combination\n",
      " 180 / 640 combination\n",
      " 181 / 640 combination\n"
     ]
    },
    {
     "name": "stderr",
     "output_type": "stream",
     "text": [
      "/home/ymentha/anaconda3/envs/ntds_2019/lib/python3.7/site-packages/scipy/sparse/linalg/dsolve/linsolve.py:193: MatrixRankWarning: Matrix is exactly singular\n",
      "  warn(\"Matrix is exactly singular\", MatrixRankWarning)\n"
     ]
    },
    {
     "name": "stdout",
     "output_type": "stream",
     "text": [
      " 182 / 640 combination\n",
      " 183 / 640 combination\n",
      " 184 / 640 combination\n",
      " 185 / 640 combination\n",
      " 186 / 640 combination\n"
     ]
    },
    {
     "name": "stderr",
     "output_type": "stream",
     "text": [
      "/home/ymentha/anaconda3/envs/ntds_2019/lib/python3.7/site-packages/scipy/sparse/linalg/dsolve/linsolve.py:193: MatrixRankWarning: Matrix is exactly singular\n",
      "  warn(\"Matrix is exactly singular\", MatrixRankWarning)\n"
     ]
    },
    {
     "name": "stdout",
     "output_type": "stream",
     "text": [
      " 187 / 640 combination\n",
      " 188 / 640 combination\n",
      " 189 / 640 combination\n"
     ]
    },
    {
     "name": "stderr",
     "output_type": "stream",
     "text": [
      "/home/ymentha/anaconda3/envs/ntds_2019/lib/python3.7/site-packages/scipy/sparse/linalg/dsolve/linsolve.py:193: MatrixRankWarning: Matrix is exactly singular\n",
      "  warn(\"Matrix is exactly singular\", MatrixRankWarning)\n"
     ]
    },
    {
     "name": "stdout",
     "output_type": "stream",
     "text": [
      " 190 / 640 combination\n",
      " 191 / 640 combination\n",
      " 192 / 640 combination\n",
      " 193 / 640 combination\n",
      " 194 / 640 combination\n"
     ]
    },
    {
     "name": "stderr",
     "output_type": "stream",
     "text": [
      "/home/ymentha/anaconda3/envs/ntds_2019/lib/python3.7/site-packages/scipy/sparse/linalg/dsolve/linsolve.py:193: MatrixRankWarning: Matrix is exactly singular\n",
      "  warn(\"Matrix is exactly singular\", MatrixRankWarning)\n"
     ]
    },
    {
     "name": "stdout",
     "output_type": "stream",
     "text": [
      " 195 / 640 combination\n",
      " 196 / 640 combination\n",
      " 197 / 640 combination\n"
     ]
    },
    {
     "name": "stderr",
     "output_type": "stream",
     "text": [
      "/home/ymentha/anaconda3/envs/ntds_2019/lib/python3.7/site-packages/scipy/sparse/linalg/dsolve/linsolve.py:193: MatrixRankWarning: Matrix is exactly singular\n",
      "  warn(\"Matrix is exactly singular\", MatrixRankWarning)\n"
     ]
    },
    {
     "name": "stdout",
     "output_type": "stream",
     "text": [
      " 198 / 640 combination\n",
      " 199 / 640 combination\n",
      " 200 / 640 combination\n",
      " 201 / 640 combination\n",
      " 202 / 640 combination\n",
      " 203 / 640 combination\n",
      " 204 / 640 combination\n",
      " 205 / 640 combination\n",
      " 206 / 640 combination\n",
      " 207 / 640 combination\n",
      " 208 / 640 combination\n",
      " 209 / 640 combination\n"
     ]
    },
    {
     "name": "stderr",
     "output_type": "stream",
     "text": [
      "/home/ymentha/anaconda3/envs/ntds_2019/lib/python3.7/site-packages/scipy/sparse/linalg/dsolve/linsolve.py:193: MatrixRankWarning: Matrix is exactly singular\n",
      "  warn(\"Matrix is exactly singular\", MatrixRankWarning)\n"
     ]
    },
    {
     "name": "stdout",
     "output_type": "stream",
     "text": [
      " 210 / 640 combination\n",
      " 211 / 640 combination\n",
      " 212 / 640 combination\n",
      " 213 / 640 combination\n",
      " 214 / 640 combination\n"
     ]
    },
    {
     "name": "stderr",
     "output_type": "stream",
     "text": [
      "/home/ymentha/anaconda3/envs/ntds_2019/lib/python3.7/site-packages/scipy/sparse/linalg/dsolve/linsolve.py:193: MatrixRankWarning: Matrix is exactly singular\n",
      "  warn(\"Matrix is exactly singular\", MatrixRankWarning)\n"
     ]
    },
    {
     "name": "stdout",
     "output_type": "stream",
     "text": [
      " 215 / 640 combination\n",
      " 216 / 640 combination\n"
     ]
    },
    {
     "name": "stderr",
     "output_type": "stream",
     "text": [
      "/home/ymentha/anaconda3/envs/ntds_2019/lib/python3.7/site-packages/scipy/sparse/linalg/dsolve/linsolve.py:193: MatrixRankWarning: Matrix is exactly singular\n",
      "  warn(\"Matrix is exactly singular\", MatrixRankWarning)\n"
     ]
    },
    {
     "name": "stdout",
     "output_type": "stream",
     "text": [
      " 217 / 640 combination\n",
      " 218 / 640 combination\n",
      " 219 / 640 combination\n",
      " 220 / 640 combination\n"
     ]
    },
    {
     "name": "stderr",
     "output_type": "stream",
     "text": [
      "/home/ymentha/anaconda3/envs/ntds_2019/lib/python3.7/site-packages/scipy/sparse/linalg/dsolve/linsolve.py:193: MatrixRankWarning: Matrix is exactly singular\n",
      "  warn(\"Matrix is exactly singular\", MatrixRankWarning)\n"
     ]
    },
    {
     "name": "stdout",
     "output_type": "stream",
     "text": [
      " 221 / 640 combination\n",
      " 222 / 640 combination\n",
      " 223 / 640 combination\n",
      " 224 / 640 combination\n"
     ]
    },
    {
     "name": "stderr",
     "output_type": "stream",
     "text": [
      "/home/ymentha/anaconda3/envs/ntds_2019/lib/python3.7/site-packages/scipy/sparse/linalg/dsolve/linsolve.py:193: MatrixRankWarning: Matrix is exactly singular\n",
      "  warn(\"Matrix is exactly singular\", MatrixRankWarning)\n"
     ]
    },
    {
     "name": "stdout",
     "output_type": "stream",
     "text": [
      " 225 / 640 combination\n",
      " 226 / 640 combination\n",
      " 227 / 640 combination\n",
      " 228 / 640 combination\n",
      " 229 / 640 combination\n"
     ]
    },
    {
     "name": "stderr",
     "output_type": "stream",
     "text": [
      "/home/ymentha/anaconda3/envs/ntds_2019/lib/python3.7/site-packages/scipy/sparse/linalg/dsolve/linsolve.py:193: MatrixRankWarning: Matrix is exactly singular\n",
      "  warn(\"Matrix is exactly singular\", MatrixRankWarning)\n"
     ]
    },
    {
     "name": "stdout",
     "output_type": "stream",
     "text": [
      " 230 / 640 combination\n",
      " 231 / 640 combination\n",
      " 232 / 640 combination\n",
      " 233 / 640 combination\n",
      " 234 / 640 combination\n"
     ]
    },
    {
     "name": "stderr",
     "output_type": "stream",
     "text": [
      "/home/ymentha/anaconda3/envs/ntds_2019/lib/python3.7/site-packages/scipy/sparse/linalg/dsolve/linsolve.py:193: MatrixRankWarning: Matrix is exactly singular\n",
      "  warn(\"Matrix is exactly singular\", MatrixRankWarning)\n"
     ]
    },
    {
     "name": "stdout",
     "output_type": "stream",
     "text": [
      " 235 / 640 combination\n",
      " 236 / 640 combination\n",
      " 237 / 640 combination\n"
     ]
    },
    {
     "name": "stderr",
     "output_type": "stream",
     "text": [
      "/home/ymentha/anaconda3/envs/ntds_2019/lib/python3.7/site-packages/scipy/sparse/linalg/dsolve/linsolve.py:193: MatrixRankWarning: Matrix is exactly singular\n",
      "  warn(\"Matrix is exactly singular\", MatrixRankWarning)\n"
     ]
    },
    {
     "name": "stdout",
     "output_type": "stream",
     "text": [
      " 238 / 640 combination\n",
      " 239 / 640 combination\n",
      " 240 / 640 combination\n",
      " 241 / 640 combination\n",
      " 242 / 640 combination\n",
      " 243 / 640 combination\n",
      " 244 / 640 combination\n",
      " 245 / 640 combination\n",
      " 246 / 640 combination\n",
      " 247 / 640 combination\n",
      " 248 / 640 combination\n",
      " 249 / 640 combination\n",
      " 250 / 640 combination\n",
      " 251 / 640 combination\n",
      " 252 / 640 combination\n",
      " 253 / 640 combination\n",
      " 254 / 640 combination\n",
      " 255 / 640 combination\n",
      " 256 / 640 combination\n",
      " 257 / 640 combination\n"
     ]
    },
    {
     "name": "stderr",
     "output_type": "stream",
     "text": [
      "/home/ymentha/anaconda3/envs/ntds_2019/lib/python3.7/site-packages/scipy/sparse/linalg/dsolve/linsolve.py:193: MatrixRankWarning: Matrix is exactly singular\n",
      "  warn(\"Matrix is exactly singular\", MatrixRankWarning)\n"
     ]
    },
    {
     "name": "stdout",
     "output_type": "stream",
     "text": [
      " 258 / 640 combination\n",
      " 259 / 640 combination\n",
      " 260 / 640 combination\n",
      " 261 / 640 combination\n",
      " 262 / 640 combination\n"
     ]
    },
    {
     "name": "stderr",
     "output_type": "stream",
     "text": [
      "/home/ymentha/anaconda3/envs/ntds_2019/lib/python3.7/site-packages/scipy/sparse/linalg/dsolve/linsolve.py:193: MatrixRankWarning: Matrix is exactly singular\n",
      "  warn(\"Matrix is exactly singular\", MatrixRankWarning)\n"
     ]
    },
    {
     "name": "stdout",
     "output_type": "stream",
     "text": [
      " 263 / 640 combination\n",
      " 264 / 640 combination\n",
      " 265 / 640 combination\n",
      " 266 / 640 combination\n"
     ]
    },
    {
     "name": "stderr",
     "output_type": "stream",
     "text": [
      "/home/ymentha/anaconda3/envs/ntds_2019/lib/python3.7/site-packages/scipy/sparse/linalg/dsolve/linsolve.py:193: MatrixRankWarning: Matrix is exactly singular\n",
      "  warn(\"Matrix is exactly singular\", MatrixRankWarning)\n"
     ]
    },
    {
     "name": "stdout",
     "output_type": "stream",
     "text": [
      " 267 / 640 combination\n",
      " 268 / 640 combination\n"
     ]
    },
    {
     "name": "stderr",
     "output_type": "stream",
     "text": [
      "/home/ymentha/anaconda3/envs/ntds_2019/lib/python3.7/site-packages/scipy/sparse/linalg/dsolve/linsolve.py:193: MatrixRankWarning: Matrix is exactly singular\n",
      "  warn(\"Matrix is exactly singular\", MatrixRankWarning)\n"
     ]
    },
    {
     "name": "stdout",
     "output_type": "stream",
     "text": [
      " 269 / 640 combination\n",
      " 270 / 640 combination\n",
      " 271 / 640 combination\n",
      " 272 / 640 combination\n"
     ]
    },
    {
     "name": "stderr",
     "output_type": "stream",
     "text": [
      "/home/ymentha/anaconda3/envs/ntds_2019/lib/python3.7/site-packages/scipy/sparse/linalg/dsolve/linsolve.py:193: MatrixRankWarning: Matrix is exactly singular\n",
      "  warn(\"Matrix is exactly singular\", MatrixRankWarning)\n"
     ]
    },
    {
     "name": "stdout",
     "output_type": "stream",
     "text": [
      " 273 / 640 combination\n",
      " 274 / 640 combination\n",
      " 275 / 640 combination\n",
      " 276 / 640 combination\n",
      " 277 / 640 combination\n"
     ]
    },
    {
     "name": "stderr",
     "output_type": "stream",
     "text": [
      "/home/ymentha/anaconda3/envs/ntds_2019/lib/python3.7/site-packages/scipy/sparse/linalg/dsolve/linsolve.py:193: MatrixRankWarning: Matrix is exactly singular\n",
      "  warn(\"Matrix is exactly singular\", MatrixRankWarning)\n"
     ]
    },
    {
     "name": "stdout",
     "output_type": "stream",
     "text": [
      " 278 / 640 combination\n",
      " 279 / 640 combination\n",
      " 280 / 640 combination\n",
      " 281 / 640 combination\n",
      " 282 / 640 combination\n",
      " 283 / 640 combination\n",
      " 284 / 640 combination\n",
      " 285 / 640 combination\n",
      " 286 / 640 combination\n",
      " 287 / 640 combination\n",
      " 288 / 640 combination\n",
      " 289 / 640 combination\n",
      " 290 / 640 combination\n",
      " 291 / 640 combination\n",
      " 292 / 640 combination\n",
      " 293 / 640 combination\n",
      " 294 / 640 combination\n",
      " 295 / 640 combination\n",
      " 296 / 640 combination\n",
      " 297 / 640 combination\n",
      " 298 / 640 combination\n",
      " 299 / 640 combination\n",
      " 300 / 640 combination\n",
      " 301 / 640 combination\n",
      " 302 / 640 combination\n",
      " 303 / 640 combination\n",
      " 304 / 640 combination\n",
      " 305 / 640 combination\n"
     ]
    },
    {
     "name": "stderr",
     "output_type": "stream",
     "text": [
      "/home/ymentha/anaconda3/envs/ntds_2019/lib/python3.7/site-packages/scipy/sparse/linalg/dsolve/linsolve.py:193: MatrixRankWarning: Matrix is exactly singular\n",
      "  warn(\"Matrix is exactly singular\", MatrixRankWarning)\n"
     ]
    },
    {
     "name": "stdout",
     "output_type": "stream",
     "text": [
      " 306 / 640 combination\n",
      " 307 / 640 combination\n",
      " 308 / 640 combination\n"
     ]
    },
    {
     "name": "stderr",
     "output_type": "stream",
     "text": [
      "/home/ymentha/anaconda3/envs/ntds_2019/lib/python3.7/site-packages/scipy/sparse/linalg/dsolve/linsolve.py:193: MatrixRankWarning: Matrix is exactly singular\n",
      "  warn(\"Matrix is exactly singular\", MatrixRankWarning)\n"
     ]
    },
    {
     "name": "stdout",
     "output_type": "stream",
     "text": [
      " 309 / 640 combination\n",
      " 310 / 640 combination\n",
      " 311 / 640 combination\n",
      " 312 / 640 combination\n",
      " 313 / 640 combination\n",
      " 314 / 640 combination\n"
     ]
    },
    {
     "name": "stderr",
     "output_type": "stream",
     "text": [
      "/home/ymentha/anaconda3/envs/ntds_2019/lib/python3.7/site-packages/scipy/sparse/linalg/dsolve/linsolve.py:193: MatrixRankWarning: Matrix is exactly singular\n",
      "  warn(\"Matrix is exactly singular\", MatrixRankWarning)\n"
     ]
    },
    {
     "name": "stdout",
     "output_type": "stream",
     "text": [
      " 315 / 640 combination\n",
      " 316 / 640 combination\n"
     ]
    },
    {
     "name": "stderr",
     "output_type": "stream",
     "text": [
      "/home/ymentha/anaconda3/envs/ntds_2019/lib/python3.7/site-packages/scipy/sparse/linalg/dsolve/linsolve.py:193: MatrixRankWarning: Matrix is exactly singular\n",
      "  warn(\"Matrix is exactly singular\", MatrixRankWarning)\n"
     ]
    },
    {
     "name": "stdout",
     "output_type": "stream",
     "text": [
      " 317 / 640 combination\n",
      " 318 / 640 combination\n",
      " 319 / 640 combination\n",
      " 320 / 640 combination\n"
     ]
    },
    {
     "name": "stderr",
     "output_type": "stream",
     "text": [
      "/home/ymentha/anaconda3/envs/ntds_2019/lib/python3.7/site-packages/scipy/sparse/linalg/dsolve/linsolve.py:193: MatrixRankWarning: Matrix is exactly singular\n",
      "  warn(\"Matrix is exactly singular\", MatrixRankWarning)\n"
     ]
    },
    {
     "name": "stdout",
     "output_type": "stream",
     "text": [
      " 321 / 640 combination\n",
      " 322 / 640 combination\n",
      " 323 / 640 combination\n",
      " 324 / 640 combination\n",
      " 325 / 640 combination\n",
      " 326 / 640 combination\n"
     ]
    },
    {
     "name": "stderr",
     "output_type": "stream",
     "text": [
      "/home/ymentha/anaconda3/envs/ntds_2019/lib/python3.7/site-packages/scipy/sparse/linalg/dsolve/linsolve.py:193: MatrixRankWarning: Matrix is exactly singular\n",
      "  warn(\"Matrix is exactly singular\", MatrixRankWarning)\n"
     ]
    },
    {
     "name": "stdout",
     "output_type": "stream",
     "text": [
      " 327 / 640 combination\n",
      " 328 / 640 combination\n"
     ]
    },
    {
     "name": "stderr",
     "output_type": "stream",
     "text": [
      "/home/ymentha/anaconda3/envs/ntds_2019/lib/python3.7/site-packages/scipy/sparse/linalg/dsolve/linsolve.py:193: MatrixRankWarning: Matrix is exactly singular\n",
      "  warn(\"Matrix is exactly singular\", MatrixRankWarning)\n"
     ]
    },
    {
     "name": "stdout",
     "output_type": "stream",
     "text": [
      " 329 / 640 combination\n",
      " 330 / 640 combination\n",
      " 331 / 640 combination\n",
      " 332 / 640 combination\n"
     ]
    },
    {
     "name": "stderr",
     "output_type": "stream",
     "text": [
      "/home/ymentha/anaconda3/envs/ntds_2019/lib/python3.7/site-packages/scipy/sparse/linalg/dsolve/linsolve.py:193: MatrixRankWarning: Matrix is exactly singular\n",
      "  warn(\"Matrix is exactly singular\", MatrixRankWarning)\n"
     ]
    },
    {
     "name": "stdout",
     "output_type": "stream",
     "text": [
      " 333 / 640 combination\n",
      " 334 / 640 combination\n",
      " 335 / 640 combination\n",
      " 336 / 640 combination\n"
     ]
    },
    {
     "name": "stderr",
     "output_type": "stream",
     "text": [
      "/home/ymentha/anaconda3/envs/ntds_2019/lib/python3.7/site-packages/scipy/sparse/linalg/dsolve/linsolve.py:193: MatrixRankWarning: Matrix is exactly singular\n",
      "  warn(\"Matrix is exactly singular\", MatrixRankWarning)\n"
     ]
    },
    {
     "name": "stdout",
     "output_type": "stream",
     "text": [
      " 337 / 640 combination\n",
      " 338 / 640 combination\n",
      " 339 / 640 combination\n",
      " 340 / 640 combination\n",
      " 341 / 640 combination\n"
     ]
    },
    {
     "name": "stderr",
     "output_type": "stream",
     "text": [
      "/home/ymentha/anaconda3/envs/ntds_2019/lib/python3.7/site-packages/scipy/sparse/linalg/dsolve/linsolve.py:193: MatrixRankWarning: Matrix is exactly singular\n",
      "  warn(\"Matrix is exactly singular\", MatrixRankWarning)\n"
     ]
    },
    {
     "name": "stdout",
     "output_type": "stream",
     "text": [
      " 342 / 640 combination\n",
      " 343 / 640 combination\n",
      " 344 / 640 combination\n",
      " 345 / 640 combination\n",
      " 346 / 640 combination\n"
     ]
    },
    {
     "name": "stderr",
     "output_type": "stream",
     "text": [
      "/home/ymentha/anaconda3/envs/ntds_2019/lib/python3.7/site-packages/scipy/sparse/linalg/dsolve/linsolve.py:193: MatrixRankWarning: Matrix is exactly singular\n",
      "  warn(\"Matrix is exactly singular\", MatrixRankWarning)\n"
     ]
    },
    {
     "name": "stdout",
     "output_type": "stream",
     "text": [
      " 347 / 640 combination\n",
      " 348 / 640 combination\n",
      " 349 / 640 combination\n"
     ]
    },
    {
     "name": "stderr",
     "output_type": "stream",
     "text": [
      "/home/ymentha/anaconda3/envs/ntds_2019/lib/python3.7/site-packages/scipy/sparse/linalg/dsolve/linsolve.py:193: MatrixRankWarning: Matrix is exactly singular\n",
      "  warn(\"Matrix is exactly singular\", MatrixRankWarning)\n"
     ]
    },
    {
     "name": "stdout",
     "output_type": "stream",
     "text": [
      " 350 / 640 combination\n",
      " 351 / 640 combination\n",
      " 352 / 640 combination\n",
      " 353 / 640 combination\n",
      " 354 / 640 combination\n"
     ]
    },
    {
     "name": "stderr",
     "output_type": "stream",
     "text": [
      "/home/ymentha/anaconda3/envs/ntds_2019/lib/python3.7/site-packages/scipy/sparse/linalg/dsolve/linsolve.py:193: MatrixRankWarning: Matrix is exactly singular\n",
      "  warn(\"Matrix is exactly singular\", MatrixRankWarning)\n"
     ]
    },
    {
     "name": "stdout",
     "output_type": "stream",
     "text": [
      " 355 / 640 combination\n",
      " 356 / 640 combination\n",
      " 357 / 640 combination\n"
     ]
    },
    {
     "name": "stderr",
     "output_type": "stream",
     "text": [
      "/home/ymentha/anaconda3/envs/ntds_2019/lib/python3.7/site-packages/scipy/sparse/linalg/dsolve/linsolve.py:193: MatrixRankWarning: Matrix is exactly singular\n",
      "  warn(\"Matrix is exactly singular\", MatrixRankWarning)\n"
     ]
    },
    {
     "name": "stdout",
     "output_type": "stream",
     "text": [
      " 358 / 640 combination\n",
      " 359 / 640 combination\n",
      " 360 / 640 combination\n",
      " 361 / 640 combination\n",
      " 362 / 640 combination\n",
      " 363 / 640 combination\n",
      " 364 / 640 combination\n",
      " 365 / 640 combination\n",
      " 366 / 640 combination\n",
      " 367 / 640 combination\n",
      " 368 / 640 combination\n"
     ]
    },
    {
     "name": "stderr",
     "output_type": "stream",
     "text": [
      "/home/ymentha/anaconda3/envs/ntds_2019/lib/python3.7/site-packages/scipy/sparse/linalg/dsolve/linsolve.py:193: MatrixRankWarning: Matrix is exactly singular\n",
      "  warn(\"Matrix is exactly singular\", MatrixRankWarning)\n"
     ]
    },
    {
     "name": "stdout",
     "output_type": "stream",
     "text": [
      " 369 / 640 combination\n",
      " 370 / 640 combination\n",
      " 371 / 640 combination\n",
      " 372 / 640 combination\n",
      " 373 / 640 combination\n",
      " 374 / 640 combination\n"
     ]
    },
    {
     "name": "stderr",
     "output_type": "stream",
     "text": [
      "/home/ymentha/anaconda3/envs/ntds_2019/lib/python3.7/site-packages/scipy/sparse/linalg/dsolve/linsolve.py:193: MatrixRankWarning: Matrix is exactly singular\n",
      "  warn(\"Matrix is exactly singular\", MatrixRankWarning)\n"
     ]
    },
    {
     "name": "stdout",
     "output_type": "stream",
     "text": [
      " 375 / 640 combination\n",
      " 376 / 640 combination\n",
      " 377 / 640 combination\n"
     ]
    },
    {
     "name": "stderr",
     "output_type": "stream",
     "text": [
      "/home/ymentha/anaconda3/envs/ntds_2019/lib/python3.7/site-packages/scipy/sparse/linalg/dsolve/linsolve.py:193: MatrixRankWarning: Matrix is exactly singular\n",
      "  warn(\"Matrix is exactly singular\", MatrixRankWarning)\n"
     ]
    },
    {
     "name": "stdout",
     "output_type": "stream",
     "text": [
      " 378 / 640 combination\n",
      " 379 / 640 combination\n",
      " 380 / 640 combination\n",
      " 381 / 640 combination\n",
      " 382 / 640 combination\n"
     ]
    },
    {
     "name": "stderr",
     "output_type": "stream",
     "text": [
      "/home/ymentha/anaconda3/envs/ntds_2019/lib/python3.7/site-packages/scipy/sparse/linalg/dsolve/linsolve.py:193: MatrixRankWarning: Matrix is exactly singular\n",
      "  warn(\"Matrix is exactly singular\", MatrixRankWarning)\n"
     ]
    },
    {
     "name": "stdout",
     "output_type": "stream",
     "text": [
      " 383 / 640 combination\n",
      " 384 / 640 combination\n"
     ]
    },
    {
     "name": "stderr",
     "output_type": "stream",
     "text": [
      "/home/ymentha/anaconda3/envs/ntds_2019/lib/python3.7/site-packages/scipy/sparse/linalg/dsolve/linsolve.py:193: MatrixRankWarning: Matrix is exactly singular\n",
      "  warn(\"Matrix is exactly singular\", MatrixRankWarning)\n"
     ]
    },
    {
     "name": "stdout",
     "output_type": "stream",
     "text": [
      " 385 / 640 combination\n",
      " 386 / 640 combination\n",
      " 387 / 640 combination\n",
      " 388 / 640 combination\n",
      " 389 / 640 combination\n"
     ]
    },
    {
     "name": "stderr",
     "output_type": "stream",
     "text": [
      "/home/ymentha/anaconda3/envs/ntds_2019/lib/python3.7/site-packages/scipy/sparse/linalg/dsolve/linsolve.py:193: MatrixRankWarning: Matrix is exactly singular\n",
      "  warn(\"Matrix is exactly singular\", MatrixRankWarning)\n"
     ]
    },
    {
     "name": "stdout",
     "output_type": "stream",
     "text": [
      " 390 / 640 combination\n",
      " 391 / 640 combination\n",
      " 392 / 640 combination\n",
      " 393 / 640 combination\n",
      " 394 / 640 combination\n"
     ]
    },
    {
     "name": "stderr",
     "output_type": "stream",
     "text": [
      "/home/ymentha/anaconda3/envs/ntds_2019/lib/python3.7/site-packages/scipy/sparse/linalg/dsolve/linsolve.py:193: MatrixRankWarning: Matrix is exactly singular\n",
      "  warn(\"Matrix is exactly singular\", MatrixRankWarning)\n"
     ]
    },
    {
     "name": "stdout",
     "output_type": "stream",
     "text": [
      " 395 / 640 combination\n",
      " 396 / 640 combination\n",
      " 397 / 640 combination\n"
     ]
    },
    {
     "name": "stderr",
     "output_type": "stream",
     "text": [
      "/home/ymentha/anaconda3/envs/ntds_2019/lib/python3.7/site-packages/scipy/sparse/linalg/dsolve/linsolve.py:193: MatrixRankWarning: Matrix is exactly singular\n",
      "  warn(\"Matrix is exactly singular\", MatrixRankWarning)\n"
     ]
    },
    {
     "name": "stdout",
     "output_type": "stream",
     "text": [
      " 398 / 640 combination\n",
      " 399 / 640 combination\n",
      " 400 / 640 combination\n",
      " 401 / 640 combination\n",
      " 402 / 640 combination\n",
      " 403 / 640 combination\n",
      " 404 / 640 combination\n",
      " 405 / 640 combination\n",
      " 406 / 640 combination\n",
      " 407 / 640 combination\n",
      " 408 / 640 combination\n",
      " 409 / 640 combination\n",
      " 410 / 640 combination\n",
      " 411 / 640 combination\n",
      " 412 / 640 combination\n",
      " 413 / 640 combination\n",
      " 414 / 640 combination\n",
      " 415 / 640 combination\n",
      " 416 / 640 combination\n",
      " 417 / 640 combination\n"
     ]
    },
    {
     "name": "stderr",
     "output_type": "stream",
     "text": [
      "/home/ymentha/anaconda3/envs/ntds_2019/lib/python3.7/site-packages/scipy/sparse/linalg/dsolve/linsolve.py:193: MatrixRankWarning: Matrix is exactly singular\n",
      "  warn(\"Matrix is exactly singular\", MatrixRankWarning)\n"
     ]
    },
    {
     "name": "stdout",
     "output_type": "stream",
     "text": [
      " 418 / 640 combination\n",
      " 419 / 640 combination\n",
      " 420 / 640 combination\n",
      " 421 / 640 combination\n",
      " 422 / 640 combination\n"
     ]
    },
    {
     "name": "stderr",
     "output_type": "stream",
     "text": [
      "/home/ymentha/anaconda3/envs/ntds_2019/lib/python3.7/site-packages/scipy/sparse/linalg/dsolve/linsolve.py:193: MatrixRankWarning: Matrix is exactly singular\n",
      "  warn(\"Matrix is exactly singular\", MatrixRankWarning)\n"
     ]
    },
    {
     "name": "stdout",
     "output_type": "stream",
     "text": [
      " 423 / 640 combination\n",
      " 424 / 640 combination\n",
      " 425 / 640 combination\n",
      " 426 / 640 combination\n"
     ]
    },
    {
     "name": "stderr",
     "output_type": "stream",
     "text": [
      "/home/ymentha/anaconda3/envs/ntds_2019/lib/python3.7/site-packages/scipy/sparse/linalg/dsolve/linsolve.py:193: MatrixRankWarning: Matrix is exactly singular\n",
      "  warn(\"Matrix is exactly singular\", MatrixRankWarning)\n"
     ]
    },
    {
     "name": "stdout",
     "output_type": "stream",
     "text": [
      " 427 / 640 combination\n",
      " 428 / 640 combination\n"
     ]
    },
    {
     "name": "stderr",
     "output_type": "stream",
     "text": [
      "/home/ymentha/anaconda3/envs/ntds_2019/lib/python3.7/site-packages/scipy/sparse/linalg/dsolve/linsolve.py:193: MatrixRankWarning: Matrix is exactly singular\n",
      "  warn(\"Matrix is exactly singular\", MatrixRankWarning)\n"
     ]
    },
    {
     "name": "stdout",
     "output_type": "stream",
     "text": [
      " 429 / 640 combination\n",
      " 430 / 640 combination\n",
      " 431 / 640 combination\n",
      " 432 / 640 combination\n"
     ]
    },
    {
     "name": "stderr",
     "output_type": "stream",
     "text": [
      "/home/ymentha/anaconda3/envs/ntds_2019/lib/python3.7/site-packages/scipy/sparse/linalg/dsolve/linsolve.py:193: MatrixRankWarning: Matrix is exactly singular\n",
      "  warn(\"Matrix is exactly singular\", MatrixRankWarning)\n"
     ]
    },
    {
     "name": "stdout",
     "output_type": "stream",
     "text": [
      " 433 / 640 combination\n",
      " 434 / 640 combination\n",
      " 435 / 640 combination\n",
      " 436 / 640 combination\n",
      " 437 / 640 combination\n"
     ]
    },
    {
     "name": "stderr",
     "output_type": "stream",
     "text": [
      "/home/ymentha/anaconda3/envs/ntds_2019/lib/python3.7/site-packages/scipy/sparse/linalg/dsolve/linsolve.py:193: MatrixRankWarning: Matrix is exactly singular\n",
      "  warn(\"Matrix is exactly singular\", MatrixRankWarning)\n"
     ]
    },
    {
     "name": "stdout",
     "output_type": "stream",
     "text": [
      " 438 / 640 combination\n",
      " 439 / 640 combination\n",
      " 440 / 640 combination\n",
      " 441 / 640 combination\n",
      " 442 / 640 combination\n",
      " 443 / 640 combination\n",
      " 444 / 640 combination\n",
      " 445 / 640 combination\n",
      " 446 / 640 combination\n",
      " 447 / 640 combination\n",
      " 448 / 640 combination\n",
      " 449 / 640 combination\n",
      " 450 / 640 combination\n",
      " 451 / 640 combination\n",
      " 452 / 640 combination\n",
      " 453 / 640 combination\n",
      " 454 / 640 combination\n",
      " 455 / 640 combination\n",
      " 456 / 640 combination\n",
      " 457 / 640 combination\n",
      " 458 / 640 combination\n",
      " 459 / 640 combination\n",
      " 460 / 640 combination\n",
      " 461 / 640 combination\n",
      " 462 / 640 combination\n",
      " 463 / 640 combination\n",
      " 464 / 640 combination\n",
      " 465 / 640 combination\n"
     ]
    },
    {
     "name": "stderr",
     "output_type": "stream",
     "text": [
      "/home/ymentha/anaconda3/envs/ntds_2019/lib/python3.7/site-packages/scipy/sparse/linalg/dsolve/linsolve.py:193: MatrixRankWarning: Matrix is exactly singular\n",
      "  warn(\"Matrix is exactly singular\", MatrixRankWarning)\n"
     ]
    },
    {
     "name": "stdout",
     "output_type": "stream",
     "text": [
      " 466 / 640 combination\n",
      " 467 / 640 combination\n",
      " 468 / 640 combination\n",
      " 469 / 640 combination\n",
      " 470 / 640 combination\n"
     ]
    },
    {
     "name": "stderr",
     "output_type": "stream",
     "text": [
      "/home/ymentha/anaconda3/envs/ntds_2019/lib/python3.7/site-packages/scipy/sparse/linalg/dsolve/linsolve.py:193: MatrixRankWarning: Matrix is exactly singular\n",
      "  warn(\"Matrix is exactly singular\", MatrixRankWarning)\n"
     ]
    },
    {
     "name": "stdout",
     "output_type": "stream",
     "text": [
      " 471 / 640 combination\n",
      " 472 / 640 combination\n",
      " 473 / 640 combination\n",
      " 474 / 640 combination\n"
     ]
    },
    {
     "name": "stderr",
     "output_type": "stream",
     "text": [
      "/home/ymentha/anaconda3/envs/ntds_2019/lib/python3.7/site-packages/scipy/sparse/linalg/dsolve/linsolve.py:193: MatrixRankWarning: Matrix is exactly singular\n",
      "  warn(\"Matrix is exactly singular\", MatrixRankWarning)\n"
     ]
    },
    {
     "name": "stdout",
     "output_type": "stream",
     "text": [
      " 475 / 640 combination\n",
      " 476 / 640 combination\n"
     ]
    },
    {
     "name": "stderr",
     "output_type": "stream",
     "text": [
      "/home/ymentha/anaconda3/envs/ntds_2019/lib/python3.7/site-packages/scipy/sparse/linalg/dsolve/linsolve.py:193: MatrixRankWarning: Matrix is exactly singular\n",
      "  warn(\"Matrix is exactly singular\", MatrixRankWarning)\n"
     ]
    },
    {
     "name": "stdout",
     "output_type": "stream",
     "text": [
      " 477 / 640 combination\n",
      " 478 / 640 combination\n",
      " 479 / 640 combination\n",
      " 480 / 640 combination\n"
     ]
    },
    {
     "name": "stderr",
     "output_type": "stream",
     "text": [
      "/home/ymentha/anaconda3/envs/ntds_2019/lib/python3.7/site-packages/scipy/sparse/linalg/dsolve/linsolve.py:193: MatrixRankWarning: Matrix is exactly singular\n",
      "  warn(\"Matrix is exactly singular\", MatrixRankWarning)\n"
     ]
    },
    {
     "name": "stdout",
     "output_type": "stream",
     "text": [
      " 481 / 640 combination\n",
      " 482 / 640 combination\n",
      " 483 / 640 combination\n",
      " 484 / 640 combination\n",
      " 485 / 640 combination\n",
      " 486 / 640 combination\n"
     ]
    },
    {
     "name": "stderr",
     "output_type": "stream",
     "text": [
      "/home/ymentha/anaconda3/envs/ntds_2019/lib/python3.7/site-packages/scipy/sparse/linalg/dsolve/linsolve.py:193: MatrixRankWarning: Matrix is exactly singular\n",
      "  warn(\"Matrix is exactly singular\", MatrixRankWarning)\n"
     ]
    },
    {
     "name": "stdout",
     "output_type": "stream",
     "text": [
      " 487 / 640 combination\n",
      " 488 / 640 combination\n"
     ]
    },
    {
     "name": "stderr",
     "output_type": "stream",
     "text": [
      "/home/ymentha/anaconda3/envs/ntds_2019/lib/python3.7/site-packages/scipy/sparse/linalg/dsolve/linsolve.py:193: MatrixRankWarning: Matrix is exactly singular\n",
      "  warn(\"Matrix is exactly singular\", MatrixRankWarning)\n"
     ]
    },
    {
     "name": "stdout",
     "output_type": "stream",
     "text": [
      " 489 / 640 combination\n",
      " 490 / 640 combination\n",
      " 491 / 640 combination\n",
      " 492 / 640 combination\n"
     ]
    },
    {
     "name": "stderr",
     "output_type": "stream",
     "text": [
      "/home/ymentha/anaconda3/envs/ntds_2019/lib/python3.7/site-packages/scipy/sparse/linalg/dsolve/linsolve.py:193: MatrixRankWarning: Matrix is exactly singular\n",
      "  warn(\"Matrix is exactly singular\", MatrixRankWarning)\n"
     ]
    },
    {
     "name": "stdout",
     "output_type": "stream",
     "text": [
      " 493 / 640 combination\n",
      " 494 / 640 combination\n",
      " 495 / 640 combination\n",
      " 496 / 640 combination\n"
     ]
    },
    {
     "name": "stderr",
     "output_type": "stream",
     "text": [
      "/home/ymentha/anaconda3/envs/ntds_2019/lib/python3.7/site-packages/scipy/sparse/linalg/dsolve/linsolve.py:193: MatrixRankWarning: Matrix is exactly singular\n",
      "  warn(\"Matrix is exactly singular\", MatrixRankWarning)\n"
     ]
    },
    {
     "name": "stdout",
     "output_type": "stream",
     "text": [
      " 497 / 640 combination\n",
      " 498 / 640 combination\n",
      " 499 / 640 combination\n",
      " 500 / 640 combination\n",
      " 501 / 640 combination\n"
     ]
    },
    {
     "name": "stderr",
     "output_type": "stream",
     "text": [
      "/home/ymentha/anaconda3/envs/ntds_2019/lib/python3.7/site-packages/scipy/sparse/linalg/dsolve/linsolve.py:193: MatrixRankWarning: Matrix is exactly singular\n",
      "  warn(\"Matrix is exactly singular\", MatrixRankWarning)\n"
     ]
    },
    {
     "name": "stdout",
     "output_type": "stream",
     "text": [
      " 502 / 640 combination\n",
      " 503 / 640 combination\n",
      " 504 / 640 combination\n",
      " 505 / 640 combination\n",
      " 506 / 640 combination\n"
     ]
    },
    {
     "name": "stderr",
     "output_type": "stream",
     "text": [
      "/home/ymentha/anaconda3/envs/ntds_2019/lib/python3.7/site-packages/scipy/sparse/linalg/dsolve/linsolve.py:193: MatrixRankWarning: Matrix is exactly singular\n",
      "  warn(\"Matrix is exactly singular\", MatrixRankWarning)\n"
     ]
    },
    {
     "name": "stdout",
     "output_type": "stream",
     "text": [
      " 507 / 640 combination\n",
      " 508 / 640 combination\n",
      " 509 / 640 combination\n"
     ]
    },
    {
     "name": "stderr",
     "output_type": "stream",
     "text": [
      "/home/ymentha/anaconda3/envs/ntds_2019/lib/python3.7/site-packages/scipy/sparse/linalg/dsolve/linsolve.py:193: MatrixRankWarning: Matrix is exactly singular\n",
      "  warn(\"Matrix is exactly singular\", MatrixRankWarning)\n"
     ]
    },
    {
     "name": "stdout",
     "output_type": "stream",
     "text": [
      " 510 / 640 combination\n",
      " 511 / 640 combination\n",
      " 512 / 640 combination\n",
      " 513 / 640 combination\n",
      " 514 / 640 combination\n"
     ]
    },
    {
     "name": "stderr",
     "output_type": "stream",
     "text": [
      "/home/ymentha/anaconda3/envs/ntds_2019/lib/python3.7/site-packages/scipy/sparse/linalg/dsolve/linsolve.py:193: MatrixRankWarning: Matrix is exactly singular\n",
      "  warn(\"Matrix is exactly singular\", MatrixRankWarning)\n"
     ]
    },
    {
     "name": "stdout",
     "output_type": "stream",
     "text": [
      " 515 / 640 combination\n",
      " 516 / 640 combination\n",
      " 517 / 640 combination\n"
     ]
    },
    {
     "name": "stderr",
     "output_type": "stream",
     "text": [
      "/home/ymentha/anaconda3/envs/ntds_2019/lib/python3.7/site-packages/scipy/sparse/linalg/dsolve/linsolve.py:193: MatrixRankWarning: Matrix is exactly singular\n",
      "  warn(\"Matrix is exactly singular\", MatrixRankWarning)\n"
     ]
    },
    {
     "name": "stdout",
     "output_type": "stream",
     "text": [
      " 518 / 640 combination\n",
      " 519 / 640 combination\n",
      " 520 / 640 combination\n",
      " 521 / 640 combination\n",
      " 522 / 640 combination\n",
      " 523 / 640 combination\n",
      " 524 / 640 combination\n",
      " 525 / 640 combination\n",
      " 526 / 640 combination\n",
      " 527 / 640 combination\n",
      " 528 / 640 combination\n"
     ]
    },
    {
     "name": "stderr",
     "output_type": "stream",
     "text": [
      "/home/ymentha/anaconda3/envs/ntds_2019/lib/python3.7/site-packages/scipy/sparse/linalg/dsolve/linsolve.py:193: MatrixRankWarning: Matrix is exactly singular\n",
      "  warn(\"Matrix is exactly singular\", MatrixRankWarning)\n"
     ]
    },
    {
     "name": "stdout",
     "output_type": "stream",
     "text": [
      " 529 / 640 combination\n",
      " 530 / 640 combination\n",
      " 531 / 640 combination\n",
      " 532 / 640 combination\n",
      " 533 / 640 combination\n",
      " 534 / 640 combination\n"
     ]
    },
    {
     "name": "stderr",
     "output_type": "stream",
     "text": [
      "/home/ymentha/anaconda3/envs/ntds_2019/lib/python3.7/site-packages/scipy/sparse/linalg/dsolve/linsolve.py:193: MatrixRankWarning: Matrix is exactly singular\n",
      "  warn(\"Matrix is exactly singular\", MatrixRankWarning)\n"
     ]
    },
    {
     "name": "stdout",
     "output_type": "stream",
     "text": [
      " 535 / 640 combination\n",
      " 536 / 640 combination\n",
      " 537 / 640 combination\n",
      " 538 / 640 combination\n"
     ]
    },
    {
     "name": "stderr",
     "output_type": "stream",
     "text": [
      "/home/ymentha/anaconda3/envs/ntds_2019/lib/python3.7/site-packages/scipy/sparse/linalg/dsolve/linsolve.py:193: MatrixRankWarning: Matrix is exactly singular\n",
      "  warn(\"Matrix is exactly singular\", MatrixRankWarning)\n"
     ]
    },
    {
     "name": "stdout",
     "output_type": "stream",
     "text": [
      " 539 / 640 combination\n",
      " 540 / 640 combination\n"
     ]
    },
    {
     "name": "stderr",
     "output_type": "stream",
     "text": [
      "/home/ymentha/anaconda3/envs/ntds_2019/lib/python3.7/site-packages/scipy/sparse/linalg/dsolve/linsolve.py:193: MatrixRankWarning: Matrix is exactly singular\n",
      "  warn(\"Matrix is exactly singular\", MatrixRankWarning)\n"
     ]
    },
    {
     "name": "stdout",
     "output_type": "stream",
     "text": [
      " 541 / 640 combination\n",
      " 542 / 640 combination\n",
      " 543 / 640 combination\n",
      " 544 / 640 combination\n"
     ]
    },
    {
     "name": "stderr",
     "output_type": "stream",
     "text": [
      "/home/ymentha/anaconda3/envs/ntds_2019/lib/python3.7/site-packages/scipy/sparse/linalg/dsolve/linsolve.py:193: MatrixRankWarning: Matrix is exactly singular\n",
      "  warn(\"Matrix is exactly singular\", MatrixRankWarning)\n"
     ]
    },
    {
     "name": "stdout",
     "output_type": "stream",
     "text": [
      " 545 / 640 combination\n",
      " 546 / 640 combination\n",
      " 547 / 640 combination\n",
      " 548 / 640 combination\n",
      " 549 / 640 combination\n"
     ]
    },
    {
     "name": "stderr",
     "output_type": "stream",
     "text": [
      "/home/ymentha/anaconda3/envs/ntds_2019/lib/python3.7/site-packages/scipy/sparse/linalg/dsolve/linsolve.py:193: MatrixRankWarning: Matrix is exactly singular\n",
      "  warn(\"Matrix is exactly singular\", MatrixRankWarning)\n"
     ]
    },
    {
     "name": "stdout",
     "output_type": "stream",
     "text": [
      " 550 / 640 combination\n",
      " 551 / 640 combination\n",
      " 552 / 640 combination\n",
      " 553 / 640 combination\n",
      " 554 / 640 combination\n"
     ]
    },
    {
     "name": "stderr",
     "output_type": "stream",
     "text": [
      "/home/ymentha/anaconda3/envs/ntds_2019/lib/python3.7/site-packages/scipy/sparse/linalg/dsolve/linsolve.py:193: MatrixRankWarning: Matrix is exactly singular\n",
      "  warn(\"Matrix is exactly singular\", MatrixRankWarning)\n"
     ]
    },
    {
     "name": "stdout",
     "output_type": "stream",
     "text": [
      " 555 / 640 combination\n",
      " 556 / 640 combination\n",
      " 557 / 640 combination\n"
     ]
    },
    {
     "name": "stderr",
     "output_type": "stream",
     "text": [
      "/home/ymentha/anaconda3/envs/ntds_2019/lib/python3.7/site-packages/scipy/sparse/linalg/dsolve/linsolve.py:193: MatrixRankWarning: Matrix is exactly singular\n",
      "  warn(\"Matrix is exactly singular\", MatrixRankWarning)\n"
     ]
    },
    {
     "name": "stdout",
     "output_type": "stream",
     "text": [
      " 558 / 640 combination\n",
      " 559 / 640 combination\n",
      " 560 / 640 combination\n",
      " 561 / 640 combination\n",
      " 562 / 640 combination\n",
      " 563 / 640 combination\n",
      " 564 / 640 combination\n",
      " 565 / 640 combination\n",
      " 566 / 640 combination\n",
      " 567 / 640 combination\n",
      " 568 / 640 combination\n",
      " 569 / 640 combination\n",
      " 570 / 640 combination\n",
      " 571 / 640 combination\n",
      " 572 / 640 combination\n",
      " 573 / 640 combination\n",
      " 574 / 640 combination\n",
      " 575 / 640 combination\n",
      " 576 / 640 combination\n"
     ]
    },
    {
     "name": "stderr",
     "output_type": "stream",
     "text": [
      "/home/ymentha/anaconda3/envs/ntds_2019/lib/python3.7/site-packages/scipy/sparse/linalg/dsolve/linsolve.py:193: MatrixRankWarning: Matrix is exactly singular\n",
      "  warn(\"Matrix is exactly singular\", MatrixRankWarning)\n"
     ]
    },
    {
     "name": "stdout",
     "output_type": "stream",
     "text": [
      " 577 / 640 combination\n",
      " 578 / 640 combination\n",
      " 579 / 640 combination\n",
      " 580 / 640 combination\n"
     ]
    },
    {
     "name": "stderr",
     "output_type": "stream",
     "text": [
      "/home/ymentha/anaconda3/envs/ntds_2019/lib/python3.7/site-packages/scipy/sparse/linalg/dsolve/linsolve.py:193: MatrixRankWarning: Matrix is exactly singular\n",
      "  warn(\"Matrix is exactly singular\", MatrixRankWarning)\n"
     ]
    },
    {
     "name": "stdout",
     "output_type": "stream",
     "text": [
      " 581 / 640 combination\n",
      " 582 / 640 combination\n",
      " 583 / 640 combination\n",
      " 584 / 640 combination\n",
      " 585 / 640 combination\n",
      " 586 / 640 combination\n"
     ]
    },
    {
     "name": "stderr",
     "output_type": "stream",
     "text": [
      "/home/ymentha/anaconda3/envs/ntds_2019/lib/python3.7/site-packages/scipy/sparse/linalg/dsolve/linsolve.py:193: MatrixRankWarning: Matrix is exactly singular\n",
      "  warn(\"Matrix is exactly singular\", MatrixRankWarning)\n"
     ]
    },
    {
     "name": "stdout",
     "output_type": "stream",
     "text": [
      " 587 / 640 combination\n",
      " 588 / 640 combination\n"
     ]
    },
    {
     "name": "stderr",
     "output_type": "stream",
     "text": [
      "/home/ymentha/anaconda3/envs/ntds_2019/lib/python3.7/site-packages/scipy/sparse/linalg/dsolve/linsolve.py:193: MatrixRankWarning: Matrix is exactly singular\n",
      "  warn(\"Matrix is exactly singular\", MatrixRankWarning)\n"
     ]
    },
    {
     "name": "stdout",
     "output_type": "stream",
     "text": [
      " 589 / 640 combination\n",
      " 590 / 640 combination\n",
      " 591 / 640 combination\n",
      " 592 / 640 combination\n"
     ]
    },
    {
     "name": "stderr",
     "output_type": "stream",
     "text": [
      "/home/ymentha/anaconda3/envs/ntds_2019/lib/python3.7/site-packages/scipy/sparse/linalg/dsolve/linsolve.py:193: MatrixRankWarning: Matrix is exactly singular\n",
      "  warn(\"Matrix is exactly singular\", MatrixRankWarning)\n"
     ]
    },
    {
     "name": "stdout",
     "output_type": "stream",
     "text": [
      " 593 / 640 combination\n",
      " 594 / 640 combination\n",
      " 595 / 640 combination\n",
      " 596 / 640 combination\n"
     ]
    },
    {
     "name": "stderr",
     "output_type": "stream",
     "text": [
      "/home/ymentha/anaconda3/envs/ntds_2019/lib/python3.7/site-packages/scipy/sparse/linalg/dsolve/linsolve.py:193: MatrixRankWarning: Matrix is exactly singular\n",
      "  warn(\"Matrix is exactly singular\", MatrixRankWarning)\n"
     ]
    },
    {
     "name": "stdout",
     "output_type": "stream",
     "text": [
      " 597 / 640 combination\n",
      " 598 / 640 combination\n",
      " 599 / 640 combination\n",
      " 600 / 640 combination\n",
      " 601 / 640 combination\n",
      " 602 / 640 combination\n",
      " 603 / 640 combination\n",
      " 604 / 640 combination\n",
      " 605 / 640 combination\n",
      " 606 / 640 combination\n",
      " 607 / 640 combination\n",
      " 608 / 640 combination\n",
      " 609 / 640 combination\n",
      " 610 / 640 combination\n",
      " 611 / 640 combination\n",
      " 612 / 640 combination\n",
      " 613 / 640 combination\n",
      " 614 / 640 combination\n",
      " 615 / 640 combination\n",
      " 616 / 640 combination\n",
      " 617 / 640 combination\n",
      " 618 / 640 combination\n",
      " 619 / 640 combination\n",
      " 620 / 640 combination\n",
      " 621 / 640 combination\n",
      " 622 / 640 combination\n",
      " 623 / 640 combination\n",
      " 624 / 640 combination\n",
      " 625 / 640 combination\n"
     ]
    },
    {
     "name": "stderr",
     "output_type": "stream",
     "text": [
      "/home/ymentha/anaconda3/envs/ntds_2019/lib/python3.7/site-packages/scipy/sparse/linalg/dsolve/linsolve.py:193: MatrixRankWarning: Matrix is exactly singular\n",
      "  warn(\"Matrix is exactly singular\", MatrixRankWarning)\n"
     ]
    },
    {
     "name": "stdout",
     "output_type": "stream",
     "text": [
      " 626 / 640 combination\n",
      " 627 / 640 combination\n",
      " 628 / 640 combination\n",
      " 629 / 640 combination\n"
     ]
    },
    {
     "name": "stderr",
     "output_type": "stream",
     "text": [
      "/home/ymentha/anaconda3/envs/ntds_2019/lib/python3.7/site-packages/scipy/sparse/linalg/dsolve/linsolve.py:193: MatrixRankWarning: Matrix is exactly singular\n",
      "  warn(\"Matrix is exactly singular\", MatrixRankWarning)\n"
     ]
    },
    {
     "name": "stdout",
     "output_type": "stream",
     "text": [
      " 630 / 640 combination\n",
      " 631 / 640 combination\n",
      " 632 / 640 combination\n",
      " 633 / 640 combination\n",
      " 634 / 640 combination\n"
     ]
    },
    {
     "name": "stderr",
     "output_type": "stream",
     "text": [
      "/home/ymentha/anaconda3/envs/ntds_2019/lib/python3.7/site-packages/scipy/sparse/linalg/dsolve/linsolve.py:193: MatrixRankWarning: Matrix is exactly singular\n",
      "  warn(\"Matrix is exactly singular\", MatrixRankWarning)\n"
     ]
    },
    {
     "name": "stdout",
     "output_type": "stream",
     "text": [
      " 635 / 640 combination\n",
      " 636 / 640 combination\n"
     ]
    },
    {
     "name": "stderr",
     "output_type": "stream",
     "text": [
      "/home/ymentha/anaconda3/envs/ntds_2019/lib/python3.7/site-packages/scipy/sparse/linalg/dsolve/linsolve.py:193: MatrixRankWarning: Matrix is exactly singular\n",
      "  warn(\"Matrix is exactly singular\", MatrixRankWarning)\n"
     ]
    },
    {
     "name": "stdout",
     "output_type": "stream",
     "text": [
      " 637 / 640 combination\n",
      " 638 / 640 combination\n",
      " 639 / 640 combination\n",
      "################################\n",
      "Biggest result for gene X2397 : -0.05\n",
      "Smallest result for gene X2397 : -40.41\n",
      "################################\n",
      " 0 / 640 combination\n"
     ]
    },
    {
     "name": "stderr",
     "output_type": "stream",
     "text": [
      "/home/ymentha/anaconda3/envs/ntds_2019/lib/python3.7/site-packages/scipy/sparse/linalg/dsolve/linsolve.py:193: MatrixRankWarning: Matrix is exactly singular\n",
      "  warn(\"Matrix is exactly singular\", MatrixRankWarning)\n"
     ]
    },
    {
     "name": "stdout",
     "output_type": "stream",
     "text": [
      " 1 / 640 combination\n",
      " 2 / 640 combination\n",
      " 3 / 640 combination\n",
      " 4 / 640 combination\n",
      " 5 / 640 combination\n",
      " 6 / 640 combination\n"
     ]
    },
    {
     "name": "stderr",
     "output_type": "stream",
     "text": [
      "/home/ymentha/anaconda3/envs/ntds_2019/lib/python3.7/site-packages/scipy/sparse/linalg/dsolve/linsolve.py:193: MatrixRankWarning: Matrix is exactly singular\n",
      "  warn(\"Matrix is exactly singular\", MatrixRankWarning)\n"
     ]
    },
    {
     "name": "stdout",
     "output_type": "stream",
     "text": [
      " 7 / 640 combination\n",
      " 8 / 640 combination\n"
     ]
    },
    {
     "name": "stderr",
     "output_type": "stream",
     "text": [
      "/home/ymentha/anaconda3/envs/ntds_2019/lib/python3.7/site-packages/scipy/sparse/linalg/dsolve/linsolve.py:193: MatrixRankWarning: Matrix is exactly singular\n",
      "  warn(\"Matrix is exactly singular\", MatrixRankWarning)\n"
     ]
    },
    {
     "name": "stdout",
     "output_type": "stream",
     "text": [
      " 9 / 640 combination\n",
      " 10 / 640 combination\n",
      " 11 / 640 combination\n",
      " 12 / 640 combination\n"
     ]
    },
    {
     "name": "stderr",
     "output_type": "stream",
     "text": [
      "/home/ymentha/anaconda3/envs/ntds_2019/lib/python3.7/site-packages/scipy/sparse/linalg/dsolve/linsolve.py:193: MatrixRankWarning: Matrix is exactly singular\n",
      "  warn(\"Matrix is exactly singular\", MatrixRankWarning)\n"
     ]
    },
    {
     "name": "stdout",
     "output_type": "stream",
     "text": [
      " 13 / 640 combination\n",
      " 14 / 640 combination\n",
      " 15 / 640 combination\n",
      " 16 / 640 combination\n"
     ]
    },
    {
     "name": "stderr",
     "output_type": "stream",
     "text": [
      "/home/ymentha/anaconda3/envs/ntds_2019/lib/python3.7/site-packages/scipy/sparse/linalg/dsolve/linsolve.py:193: MatrixRankWarning: Matrix is exactly singular\n",
      "  warn(\"Matrix is exactly singular\", MatrixRankWarning)\n"
     ]
    },
    {
     "name": "stdout",
     "output_type": "stream",
     "text": [
      " 17 / 640 combination\n",
      " 18 / 640 combination\n",
      " 19 / 640 combination\n",
      " 20 / 640 combination\n",
      " 21 / 640 combination\n"
     ]
    },
    {
     "name": "stderr",
     "output_type": "stream",
     "text": [
      "/home/ymentha/anaconda3/envs/ntds_2019/lib/python3.7/site-packages/scipy/sparse/linalg/dsolve/linsolve.py:193: MatrixRankWarning: Matrix is exactly singular\n",
      "  warn(\"Matrix is exactly singular\", MatrixRankWarning)\n"
     ]
    },
    {
     "name": "stdout",
     "output_type": "stream",
     "text": [
      " 22 / 640 combination\n",
      " 23 / 640 combination\n",
      " 24 / 640 combination\n",
      " 25 / 640 combination\n",
      " 26 / 640 combination\n"
     ]
    },
    {
     "name": "stderr",
     "output_type": "stream",
     "text": [
      "/home/ymentha/anaconda3/envs/ntds_2019/lib/python3.7/site-packages/scipy/sparse/linalg/dsolve/linsolve.py:193: MatrixRankWarning: Matrix is exactly singular\n",
      "  warn(\"Matrix is exactly singular\", MatrixRankWarning)\n"
     ]
    },
    {
     "name": "stdout",
     "output_type": "stream",
     "text": [
      " 27 / 640 combination\n",
      " 28 / 640 combination\n",
      " 29 / 640 combination\n"
     ]
    },
    {
     "name": "stderr",
     "output_type": "stream",
     "text": [
      "/home/ymentha/anaconda3/envs/ntds_2019/lib/python3.7/site-packages/scipy/sparse/linalg/dsolve/linsolve.py:193: MatrixRankWarning: Matrix is exactly singular\n",
      "  warn(\"Matrix is exactly singular\", MatrixRankWarning)\n"
     ]
    },
    {
     "name": "stdout",
     "output_type": "stream",
     "text": [
      " 30 / 640 combination\n",
      " 31 / 640 combination\n",
      " 32 / 640 combination\n",
      " 33 / 640 combination\n",
      " 34 / 640 combination\n"
     ]
    },
    {
     "name": "stderr",
     "output_type": "stream",
     "text": [
      "/home/ymentha/anaconda3/envs/ntds_2019/lib/python3.7/site-packages/scipy/sparse/linalg/dsolve/linsolve.py:193: MatrixRankWarning: Matrix is exactly singular\n",
      "  warn(\"Matrix is exactly singular\", MatrixRankWarning)\n"
     ]
    },
    {
     "name": "stdout",
     "output_type": "stream",
     "text": [
      " 35 / 640 combination\n",
      " 36 / 640 combination\n",
      " 37 / 640 combination\n"
     ]
    },
    {
     "name": "stderr",
     "output_type": "stream",
     "text": [
      "/home/ymentha/anaconda3/envs/ntds_2019/lib/python3.7/site-packages/scipy/sparse/linalg/dsolve/linsolve.py:193: MatrixRankWarning: Matrix is exactly singular\n",
      "  warn(\"Matrix is exactly singular\", MatrixRankWarning)\n"
     ]
    },
    {
     "name": "stdout",
     "output_type": "stream",
     "text": [
      " 38 / 640 combination\n",
      " 39 / 640 combination\n",
      " 40 / 640 combination\n",
      " 41 / 640 combination\n",
      " 42 / 640 combination\n",
      " 43 / 640 combination\n",
      " 44 / 640 combination\n",
      " 45 / 640 combination\n",
      " 46 / 640 combination\n",
      " 47 / 640 combination\n",
      " 48 / 640 combination\n"
     ]
    },
    {
     "name": "stderr",
     "output_type": "stream",
     "text": [
      "/home/ymentha/anaconda3/envs/ntds_2019/lib/python3.7/site-packages/scipy/sparse/linalg/dsolve/linsolve.py:193: MatrixRankWarning: Matrix is exactly singular\n",
      "  warn(\"Matrix is exactly singular\", MatrixRankWarning)\n"
     ]
    },
    {
     "name": "stdout",
     "output_type": "stream",
     "text": [
      " 49 / 640 combination\n",
      " 50 / 640 combination\n",
      " 51 / 640 combination\n",
      " 52 / 640 combination\n",
      " 53 / 640 combination\n",
      " 54 / 640 combination\n"
     ]
    },
    {
     "name": "stderr",
     "output_type": "stream",
     "text": [
      "/home/ymentha/anaconda3/envs/ntds_2019/lib/python3.7/site-packages/scipy/sparse/linalg/dsolve/linsolve.py:193: MatrixRankWarning: Matrix is exactly singular\n",
      "  warn(\"Matrix is exactly singular\", MatrixRankWarning)\n"
     ]
    },
    {
     "name": "stdout",
     "output_type": "stream",
     "text": [
      " 55 / 640 combination\n",
      " 56 / 640 combination\n",
      " 57 / 640 combination\n",
      " 58 / 640 combination\n"
     ]
    },
    {
     "name": "stderr",
     "output_type": "stream",
     "text": [
      "/home/ymentha/anaconda3/envs/ntds_2019/lib/python3.7/site-packages/scipy/sparse/linalg/dsolve/linsolve.py:193: MatrixRankWarning: Matrix is exactly singular\n",
      "  warn(\"Matrix is exactly singular\", MatrixRankWarning)\n"
     ]
    },
    {
     "name": "stdout",
     "output_type": "stream",
     "text": [
      " 59 / 640 combination\n",
      " 60 / 640 combination\n"
     ]
    },
    {
     "name": "stderr",
     "output_type": "stream",
     "text": [
      "/home/ymentha/anaconda3/envs/ntds_2019/lib/python3.7/site-packages/scipy/sparse/linalg/dsolve/linsolve.py:193: MatrixRankWarning: Matrix is exactly singular\n",
      "  warn(\"Matrix is exactly singular\", MatrixRankWarning)\n"
     ]
    },
    {
     "name": "stdout",
     "output_type": "stream",
     "text": [
      " 61 / 640 combination\n",
      " 62 / 640 combination\n",
      " 63 / 640 combination\n",
      " 64 / 640 combination\n"
     ]
    },
    {
     "name": "stderr",
     "output_type": "stream",
     "text": [
      "/home/ymentha/anaconda3/envs/ntds_2019/lib/python3.7/site-packages/scipy/sparse/linalg/dsolve/linsolve.py:193: MatrixRankWarning: Matrix is exactly singular\n",
      "  warn(\"Matrix is exactly singular\", MatrixRankWarning)\n"
     ]
    },
    {
     "name": "stdout",
     "output_type": "stream",
     "text": [
      " 65 / 640 combination\n",
      " 66 / 640 combination\n",
      " 67 / 640 combination\n",
      " 68 / 640 combination\n",
      " 69 / 640 combination\n"
     ]
    },
    {
     "name": "stderr",
     "output_type": "stream",
     "text": [
      "/home/ymentha/anaconda3/envs/ntds_2019/lib/python3.7/site-packages/scipy/sparse/linalg/dsolve/linsolve.py:193: MatrixRankWarning: Matrix is exactly singular\n",
      "  warn(\"Matrix is exactly singular\", MatrixRankWarning)\n"
     ]
    },
    {
     "name": "stdout",
     "output_type": "stream",
     "text": [
      " 70 / 640 combination\n",
      " 71 / 640 combination\n",
      " 72 / 640 combination\n",
      " 73 / 640 combination\n",
      " 74 / 640 combination\n"
     ]
    },
    {
     "name": "stderr",
     "output_type": "stream",
     "text": [
      "/home/ymentha/anaconda3/envs/ntds_2019/lib/python3.7/site-packages/scipy/sparse/linalg/dsolve/linsolve.py:193: MatrixRankWarning: Matrix is exactly singular\n",
      "  warn(\"Matrix is exactly singular\", MatrixRankWarning)\n"
     ]
    },
    {
     "name": "stdout",
     "output_type": "stream",
     "text": [
      " 75 / 640 combination\n",
      " 76 / 640 combination\n",
      " 77 / 640 combination\n"
     ]
    },
    {
     "name": "stderr",
     "output_type": "stream",
     "text": [
      "/home/ymentha/anaconda3/envs/ntds_2019/lib/python3.7/site-packages/scipy/sparse/linalg/dsolve/linsolve.py:193: MatrixRankWarning: Matrix is exactly singular\n",
      "  warn(\"Matrix is exactly singular\", MatrixRankWarning)\n"
     ]
    },
    {
     "name": "stdout",
     "output_type": "stream",
     "text": [
      " 78 / 640 combination\n",
      " 79 / 640 combination\n",
      " 80 / 640 combination\n",
      " 81 / 640 combination\n",
      " 82 / 640 combination\n",
      " 83 / 640 combination\n",
      " 84 / 640 combination\n",
      " 85 / 640 combination\n",
      " 86 / 640 combination\n",
      " 87 / 640 combination\n",
      " 88 / 640 combination\n",
      " 89 / 640 combination\n",
      " 90 / 640 combination\n",
      " 91 / 640 combination\n",
      " 92 / 640 combination\n",
      " 93 / 640 combination\n",
      " 94 / 640 combination\n",
      " 95 / 640 combination\n",
      " 96 / 640 combination\n"
     ]
    },
    {
     "name": "stderr",
     "output_type": "stream",
     "text": [
      "/home/ymentha/anaconda3/envs/ntds_2019/lib/python3.7/site-packages/scipy/sparse/linalg/dsolve/linsolve.py:193: MatrixRankWarning: Matrix is exactly singular\n",
      "  warn(\"Matrix is exactly singular\", MatrixRankWarning)\n"
     ]
    },
    {
     "name": "stdout",
     "output_type": "stream",
     "text": [
      " 97 / 640 combination\n",
      " 98 / 640 combination\n",
      " 99 / 640 combination\n",
      " 100 / 640 combination\n",
      " 101 / 640 combination\n",
      " 102 / 640 combination\n"
     ]
    },
    {
     "name": "stderr",
     "output_type": "stream",
     "text": [
      "/home/ymentha/anaconda3/envs/ntds_2019/lib/python3.7/site-packages/scipy/sparse/linalg/dsolve/linsolve.py:193: MatrixRankWarning: Matrix is exactly singular\n",
      "  warn(\"Matrix is exactly singular\", MatrixRankWarning)\n"
     ]
    },
    {
     "name": "stdout",
     "output_type": "stream",
     "text": [
      " 103 / 640 combination\n",
      " 104 / 640 combination\n",
      " 105 / 640 combination\n",
      " 106 / 640 combination\n"
     ]
    },
    {
     "name": "stderr",
     "output_type": "stream",
     "text": [
      "/home/ymentha/anaconda3/envs/ntds_2019/lib/python3.7/site-packages/scipy/sparse/linalg/dsolve/linsolve.py:193: MatrixRankWarning: Matrix is exactly singular\n",
      "  warn(\"Matrix is exactly singular\", MatrixRankWarning)\n"
     ]
    },
    {
     "name": "stdout",
     "output_type": "stream",
     "text": [
      " 107 / 640 combination\n",
      " 108 / 640 combination\n"
     ]
    },
    {
     "name": "stderr",
     "output_type": "stream",
     "text": [
      "/home/ymentha/anaconda3/envs/ntds_2019/lib/python3.7/site-packages/scipy/sparse/linalg/dsolve/linsolve.py:193: MatrixRankWarning: Matrix is exactly singular\n",
      "  warn(\"Matrix is exactly singular\", MatrixRankWarning)\n"
     ]
    },
    {
     "name": "stdout",
     "output_type": "stream",
     "text": [
      " 109 / 640 combination\n",
      " 110 / 640 combination\n",
      " 111 / 640 combination\n",
      " 112 / 640 combination\n"
     ]
    },
    {
     "name": "stderr",
     "output_type": "stream",
     "text": [
      "/home/ymentha/anaconda3/envs/ntds_2019/lib/python3.7/site-packages/scipy/sparse/linalg/dsolve/linsolve.py:193: MatrixRankWarning: Matrix is exactly singular\n",
      "  warn(\"Matrix is exactly singular\", MatrixRankWarning)\n"
     ]
    },
    {
     "name": "stdout",
     "output_type": "stream",
     "text": [
      " 113 / 640 combination\n",
      " 114 / 640 combination\n",
      " 115 / 640 combination\n",
      " 116 / 640 combination\n",
      " 117 / 640 combination\n"
     ]
    },
    {
     "name": "stderr",
     "output_type": "stream",
     "text": [
      "/home/ymentha/anaconda3/envs/ntds_2019/lib/python3.7/site-packages/scipy/sparse/linalg/dsolve/linsolve.py:193: MatrixRankWarning: Matrix is exactly singular\n",
      "  warn(\"Matrix is exactly singular\", MatrixRankWarning)\n"
     ]
    },
    {
     "name": "stdout",
     "output_type": "stream",
     "text": [
      " 118 / 640 combination\n",
      " 119 / 640 combination\n",
      " 120 / 640 combination\n",
      " 121 / 640 combination\n",
      " 122 / 640 combination\n",
      " 123 / 640 combination\n",
      " 124 / 640 combination\n",
      " 125 / 640 combination\n",
      " 126 / 640 combination\n",
      " 127 / 640 combination\n",
      " 128 / 640 combination\n",
      " 129 / 640 combination\n",
      " 130 / 640 combination\n",
      " 131 / 640 combination\n",
      " 132 / 640 combination\n",
      " 133 / 640 combination\n",
      " 134 / 640 combination\n",
      " 135 / 640 combination\n",
      " 136 / 640 combination\n",
      " 137 / 640 combination\n",
      " 138 / 640 combination\n",
      " 139 / 640 combination\n",
      " 140 / 640 combination\n",
      " 141 / 640 combination\n",
      " 142 / 640 combination\n",
      " 143 / 640 combination\n",
      " 144 / 640 combination\n",
      " 145 / 640 combination\n"
     ]
    },
    {
     "name": "stderr",
     "output_type": "stream",
     "text": [
      "/home/ymentha/anaconda3/envs/ntds_2019/lib/python3.7/site-packages/scipy/sparse/linalg/dsolve/linsolve.py:193: MatrixRankWarning: Matrix is exactly singular\n",
      "  warn(\"Matrix is exactly singular\", MatrixRankWarning)\n"
     ]
    },
    {
     "name": "stdout",
     "output_type": "stream",
     "text": [
      " 146 / 640 combination\n",
      " 147 / 640 combination\n",
      " 148 / 640 combination\n",
      " 149 / 640 combination\n",
      " 150 / 640 combination\n"
     ]
    },
    {
     "name": "stderr",
     "output_type": "stream",
     "text": [
      "/home/ymentha/anaconda3/envs/ntds_2019/lib/python3.7/site-packages/scipy/sparse/linalg/dsolve/linsolve.py:193: MatrixRankWarning: Matrix is exactly singular\n",
      "  warn(\"Matrix is exactly singular\", MatrixRankWarning)\n"
     ]
    },
    {
     "name": "stdout",
     "output_type": "stream",
     "text": [
      " 151 / 640 combination\n",
      " 152 / 640 combination\n",
      " 153 / 640 combination\n",
      " 154 / 640 combination\n"
     ]
    },
    {
     "name": "stderr",
     "output_type": "stream",
     "text": [
      "/home/ymentha/anaconda3/envs/ntds_2019/lib/python3.7/site-packages/scipy/sparse/linalg/dsolve/linsolve.py:193: MatrixRankWarning: Matrix is exactly singular\n",
      "  warn(\"Matrix is exactly singular\", MatrixRankWarning)\n"
     ]
    },
    {
     "name": "stdout",
     "output_type": "stream",
     "text": [
      " 155 / 640 combination\n",
      " 156 / 640 combination\n"
     ]
    },
    {
     "name": "stderr",
     "output_type": "stream",
     "text": [
      "/home/ymentha/anaconda3/envs/ntds_2019/lib/python3.7/site-packages/scipy/sparse/linalg/dsolve/linsolve.py:193: MatrixRankWarning: Matrix is exactly singular\n",
      "  warn(\"Matrix is exactly singular\", MatrixRankWarning)\n"
     ]
    },
    {
     "name": "stdout",
     "output_type": "stream",
     "text": [
      " 157 / 640 combination\n",
      " 158 / 640 combination\n",
      " 159 / 640 combination\n",
      " 160 / 640 combination\n"
     ]
    },
    {
     "name": "stderr",
     "output_type": "stream",
     "text": [
      "/home/ymentha/anaconda3/envs/ntds_2019/lib/python3.7/site-packages/scipy/sparse/linalg/dsolve/linsolve.py:193: MatrixRankWarning: Matrix is exactly singular\n",
      "  warn(\"Matrix is exactly singular\", MatrixRankWarning)\n"
     ]
    },
    {
     "name": "stdout",
     "output_type": "stream",
     "text": [
      " 161 / 640 combination\n",
      " 162 / 640 combination\n",
      " 163 / 640 combination\n",
      " 164 / 640 combination\n",
      " 165 / 640 combination\n",
      " 166 / 640 combination\n"
     ]
    },
    {
     "name": "stderr",
     "output_type": "stream",
     "text": [
      "/home/ymentha/anaconda3/envs/ntds_2019/lib/python3.7/site-packages/scipy/sparse/linalg/dsolve/linsolve.py:193: MatrixRankWarning: Matrix is exactly singular\n",
      "  warn(\"Matrix is exactly singular\", MatrixRankWarning)\n"
     ]
    },
    {
     "name": "stdout",
     "output_type": "stream",
     "text": [
      " 167 / 640 combination\n",
      " 168 / 640 combination\n"
     ]
    },
    {
     "name": "stderr",
     "output_type": "stream",
     "text": [
      "/home/ymentha/anaconda3/envs/ntds_2019/lib/python3.7/site-packages/scipy/sparse/linalg/dsolve/linsolve.py:193: MatrixRankWarning: Matrix is exactly singular\n",
      "  warn(\"Matrix is exactly singular\", MatrixRankWarning)\n"
     ]
    },
    {
     "name": "stdout",
     "output_type": "stream",
     "text": [
      " 169 / 640 combination\n",
      " 170 / 640 combination\n",
      " 171 / 640 combination\n",
      " 172 / 640 combination\n"
     ]
    },
    {
     "name": "stderr",
     "output_type": "stream",
     "text": [
      "/home/ymentha/anaconda3/envs/ntds_2019/lib/python3.7/site-packages/scipy/sparse/linalg/dsolve/linsolve.py:193: MatrixRankWarning: Matrix is exactly singular\n",
      "  warn(\"Matrix is exactly singular\", MatrixRankWarning)\n"
     ]
    },
    {
     "name": "stdout",
     "output_type": "stream",
     "text": [
      " 173 / 640 combination\n",
      " 174 / 640 combination\n",
      " 175 / 640 combination\n",
      " 176 / 640 combination\n",
      " 177 / 640 combination\n"
     ]
    },
    {
     "name": "stderr",
     "output_type": "stream",
     "text": [
      "/home/ymentha/anaconda3/envs/ntds_2019/lib/python3.7/site-packages/scipy/sparse/linalg/dsolve/linsolve.py:193: MatrixRankWarning: Matrix is exactly singular\n",
      "  warn(\"Matrix is exactly singular\", MatrixRankWarning)\n"
     ]
    },
    {
     "name": "stdout",
     "output_type": "stream",
     "text": [
      " 178 / 640 combination\n",
      " 179 / 640 combination\n",
      " 180 / 640 combination\n",
      " 181 / 640 combination\n",
      " 182 / 640 combination\n"
     ]
    },
    {
     "name": "stderr",
     "output_type": "stream",
     "text": [
      "/home/ymentha/anaconda3/envs/ntds_2019/lib/python3.7/site-packages/scipy/sparse/linalg/dsolve/linsolve.py:193: MatrixRankWarning: Matrix is exactly singular\n",
      "  warn(\"Matrix is exactly singular\", MatrixRankWarning)\n"
     ]
    },
    {
     "name": "stdout",
     "output_type": "stream",
     "text": [
      " 183 / 640 combination\n",
      " 184 / 640 combination\n",
      " 185 / 640 combination\n"
     ]
    },
    {
     "name": "stderr",
     "output_type": "stream",
     "text": [
      "/home/ymentha/anaconda3/envs/ntds_2019/lib/python3.7/site-packages/scipy/sparse/linalg/dsolve/linsolve.py:193: MatrixRankWarning: Matrix is exactly singular\n",
      "  warn(\"Matrix is exactly singular\", MatrixRankWarning)\n"
     ]
    },
    {
     "name": "stdout",
     "output_type": "stream",
     "text": [
      " 186 / 640 combination\n",
      " 187 / 640 combination\n",
      " 188 / 640 combination\n",
      " 189 / 640 combination\n",
      " 190 / 640 combination\n"
     ]
    },
    {
     "name": "stderr",
     "output_type": "stream",
     "text": [
      "/home/ymentha/anaconda3/envs/ntds_2019/lib/python3.7/site-packages/scipy/sparse/linalg/dsolve/linsolve.py:193: MatrixRankWarning: Matrix is exactly singular\n",
      "  warn(\"Matrix is exactly singular\", MatrixRankWarning)\n"
     ]
    },
    {
     "name": "stdout",
     "output_type": "stream",
     "text": [
      " 191 / 640 combination\n",
      " 192 / 640 combination\n",
      " 193 / 640 combination\n"
     ]
    },
    {
     "name": "stderr",
     "output_type": "stream",
     "text": [
      "/home/ymentha/anaconda3/envs/ntds_2019/lib/python3.7/site-packages/scipy/sparse/linalg/dsolve/linsolve.py:193: MatrixRankWarning: Matrix is exactly singular\n",
      "  warn(\"Matrix is exactly singular\", MatrixRankWarning)\n"
     ]
    },
    {
     "name": "stdout",
     "output_type": "stream",
     "text": [
      " 194 / 640 combination\n",
      " 195 / 640 combination\n",
      " 196 / 640 combination\n",
      " 197 / 640 combination\n",
      " 198 / 640 combination\n"
     ]
    },
    {
     "name": "stderr",
     "output_type": "stream",
     "text": [
      "/home/ymentha/anaconda3/envs/ntds_2019/lib/python3.7/site-packages/scipy/sparse/linalg/dsolve/linsolve.py:193: MatrixRankWarning: Matrix is exactly singular\n",
      "  warn(\"Matrix is exactly singular\", MatrixRankWarning)\n"
     ]
    },
    {
     "name": "stdout",
     "output_type": "stream",
     "text": [
      " 199 / 640 combination\n",
      " 200 / 640 combination\n",
      " 201 / 640 combination\n",
      " 202 / 640 combination\n",
      " 203 / 640 combination\n",
      " 204 / 640 combination\n",
      " 205 / 640 combination\n",
      " 206 / 640 combination\n",
      " 207 / 640 combination\n",
      " 208 / 640 combination\n"
     ]
    },
    {
     "name": "stderr",
     "output_type": "stream",
     "text": [
      "/home/ymentha/anaconda3/envs/ntds_2019/lib/python3.7/site-packages/scipy/sparse/linalg/dsolve/linsolve.py:193: MatrixRankWarning: Matrix is exactly singular\n",
      "  warn(\"Matrix is exactly singular\", MatrixRankWarning)\n"
     ]
    },
    {
     "name": "stdout",
     "output_type": "stream",
     "text": [
      " 209 / 640 combination\n",
      " 210 / 640 combination\n",
      " 211 / 640 combination\n",
      " 212 / 640 combination\n",
      " 213 / 640 combination\n",
      " 214 / 640 combination\n"
     ]
    },
    {
     "name": "stderr",
     "output_type": "stream",
     "text": [
      "/home/ymentha/anaconda3/envs/ntds_2019/lib/python3.7/site-packages/scipy/sparse/linalg/dsolve/linsolve.py:193: MatrixRankWarning: Matrix is exactly singular\n",
      "  warn(\"Matrix is exactly singular\", MatrixRankWarning)\n"
     ]
    },
    {
     "name": "stdout",
     "output_type": "stream",
     "text": [
      " 215 / 640 combination\n",
      " 216 / 640 combination\n",
      " 217 / 640 combination\n",
      " 218 / 640 combination\n"
     ]
    },
    {
     "name": "stderr",
     "output_type": "stream",
     "text": [
      "/home/ymentha/anaconda3/envs/ntds_2019/lib/python3.7/site-packages/scipy/sparse/linalg/dsolve/linsolve.py:193: MatrixRankWarning: Matrix is exactly singular\n",
      "  warn(\"Matrix is exactly singular\", MatrixRankWarning)\n"
     ]
    },
    {
     "name": "stdout",
     "output_type": "stream",
     "text": [
      " 219 / 640 combination\n",
      " 220 / 640 combination\n"
     ]
    },
    {
     "name": "stderr",
     "output_type": "stream",
     "text": [
      "/home/ymentha/anaconda3/envs/ntds_2019/lib/python3.7/site-packages/scipy/sparse/linalg/dsolve/linsolve.py:193: MatrixRankWarning: Matrix is exactly singular\n",
      "  warn(\"Matrix is exactly singular\", MatrixRankWarning)\n"
     ]
    },
    {
     "name": "stdout",
     "output_type": "stream",
     "text": [
      " 221 / 640 combination\n",
      " 222 / 640 combination\n",
      " 223 / 640 combination\n",
      " 224 / 640 combination\n"
     ]
    },
    {
     "name": "stderr",
     "output_type": "stream",
     "text": [
      "/home/ymentha/anaconda3/envs/ntds_2019/lib/python3.7/site-packages/scipy/sparse/linalg/dsolve/linsolve.py:193: MatrixRankWarning: Matrix is exactly singular\n",
      "  warn(\"Matrix is exactly singular\", MatrixRankWarning)\n"
     ]
    },
    {
     "name": "stdout",
     "output_type": "stream",
     "text": [
      " 225 / 640 combination\n",
      " 226 / 640 combination\n",
      " 227 / 640 combination\n",
      " 228 / 640 combination\n",
      " 229 / 640 combination\n"
     ]
    },
    {
     "name": "stderr",
     "output_type": "stream",
     "text": [
      "/home/ymentha/anaconda3/envs/ntds_2019/lib/python3.7/site-packages/scipy/sparse/linalg/dsolve/linsolve.py:193: MatrixRankWarning: Matrix is exactly singular\n",
      "  warn(\"Matrix is exactly singular\", MatrixRankWarning)\n"
     ]
    },
    {
     "name": "stdout",
     "output_type": "stream",
     "text": [
      " 230 / 640 combination\n",
      " 231 / 640 combination\n",
      " 232 / 640 combination\n",
      " 233 / 640 combination\n",
      " 234 / 640 combination\n"
     ]
    },
    {
     "name": "stderr",
     "output_type": "stream",
     "text": [
      "/home/ymentha/anaconda3/envs/ntds_2019/lib/python3.7/site-packages/scipy/sparse/linalg/dsolve/linsolve.py:193: MatrixRankWarning: Matrix is exactly singular\n",
      "  warn(\"Matrix is exactly singular\", MatrixRankWarning)\n"
     ]
    },
    {
     "name": "stdout",
     "output_type": "stream",
     "text": [
      " 235 / 640 combination\n",
      " 236 / 640 combination\n",
      " 237 / 640 combination\n"
     ]
    },
    {
     "name": "stderr",
     "output_type": "stream",
     "text": [
      "/home/ymentha/anaconda3/envs/ntds_2019/lib/python3.7/site-packages/scipy/sparse/linalg/dsolve/linsolve.py:193: MatrixRankWarning: Matrix is exactly singular\n",
      "  warn(\"Matrix is exactly singular\", MatrixRankWarning)\n"
     ]
    },
    {
     "name": "stdout",
     "output_type": "stream",
     "text": [
      " 238 / 640 combination\n",
      " 239 / 640 combination\n",
      " 240 / 640 combination\n",
      " 241 / 640 combination\n",
      " 242 / 640 combination\n",
      " 243 / 640 combination\n",
      " 244 / 640 combination\n",
      " 245 / 640 combination\n",
      " 246 / 640 combination\n",
      " 247 / 640 combination\n",
      " 248 / 640 combination\n",
      " 249 / 640 combination\n",
      " 250 / 640 combination\n",
      " 251 / 640 combination\n",
      " 252 / 640 combination\n",
      " 253 / 640 combination\n",
      " 254 / 640 combination\n",
      " 255 / 640 combination\n",
      " 256 / 640 combination\n",
      " 257 / 640 combination\n"
     ]
    },
    {
     "name": "stderr",
     "output_type": "stream",
     "text": [
      "/home/ymentha/anaconda3/envs/ntds_2019/lib/python3.7/site-packages/scipy/sparse/linalg/dsolve/linsolve.py:193: MatrixRankWarning: Matrix is exactly singular\n",
      "  warn(\"Matrix is exactly singular\", MatrixRankWarning)\n"
     ]
    },
    {
     "name": "stdout",
     "output_type": "stream",
     "text": [
      " 258 / 640 combination\n",
      " 259 / 640 combination\n",
      " 260 / 640 combination\n",
      " 261 / 640 combination\n",
      " 262 / 640 combination\n"
     ]
    },
    {
     "name": "stderr",
     "output_type": "stream",
     "text": [
      "/home/ymentha/anaconda3/envs/ntds_2019/lib/python3.7/site-packages/scipy/sparse/linalg/dsolve/linsolve.py:193: MatrixRankWarning: Matrix is exactly singular\n",
      "  warn(\"Matrix is exactly singular\", MatrixRankWarning)\n"
     ]
    },
    {
     "name": "stdout",
     "output_type": "stream",
     "text": [
      " 263 / 640 combination\n",
      " 264 / 640 combination\n",
      " 265 / 640 combination\n",
      " 266 / 640 combination\n"
     ]
    },
    {
     "name": "stderr",
     "output_type": "stream",
     "text": [
      "/home/ymentha/anaconda3/envs/ntds_2019/lib/python3.7/site-packages/scipy/sparse/linalg/dsolve/linsolve.py:193: MatrixRankWarning: Matrix is exactly singular\n",
      "  warn(\"Matrix is exactly singular\", MatrixRankWarning)\n"
     ]
    },
    {
     "name": "stdout",
     "output_type": "stream",
     "text": [
      " 267 / 640 combination\n",
      " 268 / 640 combination\n"
     ]
    },
    {
     "name": "stderr",
     "output_type": "stream",
     "text": [
      "/home/ymentha/anaconda3/envs/ntds_2019/lib/python3.7/site-packages/scipy/sparse/linalg/dsolve/linsolve.py:193: MatrixRankWarning: Matrix is exactly singular\n",
      "  warn(\"Matrix is exactly singular\", MatrixRankWarning)\n"
     ]
    },
    {
     "name": "stdout",
     "output_type": "stream",
     "text": [
      " 269 / 640 combination\n",
      " 270 / 640 combination\n",
      " 271 / 640 combination\n",
      " 272 / 640 combination\n"
     ]
    },
    {
     "name": "stderr",
     "output_type": "stream",
     "text": [
      "/home/ymentha/anaconda3/envs/ntds_2019/lib/python3.7/site-packages/scipy/sparse/linalg/dsolve/linsolve.py:193: MatrixRankWarning: Matrix is exactly singular\n",
      "  warn(\"Matrix is exactly singular\", MatrixRankWarning)\n"
     ]
    },
    {
     "name": "stdout",
     "output_type": "stream",
     "text": [
      " 273 / 640 combination\n",
      " 274 / 640 combination\n",
      " 275 / 640 combination\n",
      " 276 / 640 combination\n",
      " 277 / 640 combination\n"
     ]
    },
    {
     "name": "stderr",
     "output_type": "stream",
     "text": [
      "/home/ymentha/anaconda3/envs/ntds_2019/lib/python3.7/site-packages/scipy/sparse/linalg/dsolve/linsolve.py:193: MatrixRankWarning: Matrix is exactly singular\n",
      "  warn(\"Matrix is exactly singular\", MatrixRankWarning)\n"
     ]
    },
    {
     "name": "stdout",
     "output_type": "stream",
     "text": [
      " 278 / 640 combination\n",
      " 279 / 640 combination\n",
      " 280 / 640 combination\n",
      " 281 / 640 combination\n",
      " 282 / 640 combination\n",
      " 283 / 640 combination\n",
      " 284 / 640 combination\n",
      " 285 / 640 combination\n",
      " 286 / 640 combination\n",
      " 287 / 640 combination\n",
      " 288 / 640 combination\n",
      " 289 / 640 combination\n",
      " 290 / 640 combination\n",
      " 291 / 640 combination\n",
      " 292 / 640 combination\n",
      " 293 / 640 combination\n",
      " 294 / 640 combination\n",
      " 295 / 640 combination\n",
      " 296 / 640 combination\n",
      " 297 / 640 combination\n",
      " 298 / 640 combination\n",
      " 299 / 640 combination\n",
      " 300 / 640 combination\n",
      " 301 / 640 combination\n",
      " 302 / 640 combination\n",
      " 303 / 640 combination\n",
      " 304 / 640 combination\n",
      " 305 / 640 combination\n"
     ]
    },
    {
     "name": "stderr",
     "output_type": "stream",
     "text": [
      "/home/ymentha/anaconda3/envs/ntds_2019/lib/python3.7/site-packages/scipy/sparse/linalg/dsolve/linsolve.py:193: MatrixRankWarning: Matrix is exactly singular\n",
      "  warn(\"Matrix is exactly singular\", MatrixRankWarning)\n"
     ]
    },
    {
     "name": "stdout",
     "output_type": "stream",
     "text": [
      " 306 / 640 combination\n",
      " 307 / 640 combination\n",
      " 308 / 640 combination\n",
      " 309 / 640 combination\n",
      " 310 / 640 combination\n"
     ]
    },
    {
     "name": "stderr",
     "output_type": "stream",
     "text": [
      "/home/ymentha/anaconda3/envs/ntds_2019/lib/python3.7/site-packages/scipy/sparse/linalg/dsolve/linsolve.py:193: MatrixRankWarning: Matrix is exactly singular\n",
      "  warn(\"Matrix is exactly singular\", MatrixRankWarning)\n"
     ]
    },
    {
     "name": "stdout",
     "output_type": "stream",
     "text": [
      " 311 / 640 combination\n",
      " 312 / 640 combination\n",
      " 313 / 640 combination\n",
      " 314 / 640 combination\n"
     ]
    },
    {
     "name": "stderr",
     "output_type": "stream",
     "text": [
      "/home/ymentha/anaconda3/envs/ntds_2019/lib/python3.7/site-packages/scipy/sparse/linalg/dsolve/linsolve.py:193: MatrixRankWarning: Matrix is exactly singular\n",
      "  warn(\"Matrix is exactly singular\", MatrixRankWarning)\n"
     ]
    },
    {
     "name": "stdout",
     "output_type": "stream",
     "text": [
      " 315 / 640 combination\n",
      " 316 / 640 combination\n"
     ]
    },
    {
     "name": "stderr",
     "output_type": "stream",
     "text": [
      "/home/ymentha/anaconda3/envs/ntds_2019/lib/python3.7/site-packages/scipy/sparse/linalg/dsolve/linsolve.py:193: MatrixRankWarning: Matrix is exactly singular\n",
      "  warn(\"Matrix is exactly singular\", MatrixRankWarning)\n"
     ]
    },
    {
     "name": "stdout",
     "output_type": "stream",
     "text": [
      " 317 / 640 combination\n",
      " 318 / 640 combination\n",
      " 319 / 640 combination\n",
      " 320 / 640 combination\n"
     ]
    },
    {
     "name": "stderr",
     "output_type": "stream",
     "text": [
      "/home/ymentha/anaconda3/envs/ntds_2019/lib/python3.7/site-packages/scipy/sparse/linalg/dsolve/linsolve.py:193: MatrixRankWarning: Matrix is exactly singular\n",
      "  warn(\"Matrix is exactly singular\", MatrixRankWarning)\n"
     ]
    },
    {
     "name": "stdout",
     "output_type": "stream",
     "text": [
      " 321 / 640 combination\n",
      " 322 / 640 combination\n",
      " 323 / 640 combination\n",
      " 324 / 640 combination\n",
      " 325 / 640 combination\n",
      " 326 / 640 combination\n"
     ]
    },
    {
     "name": "stderr",
     "output_type": "stream",
     "text": [
      "/home/ymentha/anaconda3/envs/ntds_2019/lib/python3.7/site-packages/scipy/sparse/linalg/dsolve/linsolve.py:193: MatrixRankWarning: Matrix is exactly singular\n",
      "  warn(\"Matrix is exactly singular\", MatrixRankWarning)\n"
     ]
    },
    {
     "name": "stdout",
     "output_type": "stream",
     "text": [
      " 327 / 640 combination\n",
      " 328 / 640 combination\n"
     ]
    },
    {
     "name": "stderr",
     "output_type": "stream",
     "text": [
      "/home/ymentha/anaconda3/envs/ntds_2019/lib/python3.7/site-packages/scipy/sparse/linalg/dsolve/linsolve.py:193: MatrixRankWarning: Matrix is exactly singular\n",
      "  warn(\"Matrix is exactly singular\", MatrixRankWarning)\n"
     ]
    },
    {
     "name": "stdout",
     "output_type": "stream",
     "text": [
      " 329 / 640 combination\n",
      " 330 / 640 combination\n",
      " 331 / 640 combination\n",
      " 332 / 640 combination\n"
     ]
    },
    {
     "name": "stderr",
     "output_type": "stream",
     "text": [
      "/home/ymentha/anaconda3/envs/ntds_2019/lib/python3.7/site-packages/scipy/sparse/linalg/dsolve/linsolve.py:193: MatrixRankWarning: Matrix is exactly singular\n",
      "  warn(\"Matrix is exactly singular\", MatrixRankWarning)\n"
     ]
    },
    {
     "name": "stdout",
     "output_type": "stream",
     "text": [
      " 333 / 640 combination\n",
      " 334 / 640 combination\n",
      " 335 / 640 combination\n",
      " 336 / 640 combination\n"
     ]
    },
    {
     "name": "stderr",
     "output_type": "stream",
     "text": [
      "/home/ymentha/anaconda3/envs/ntds_2019/lib/python3.7/site-packages/scipy/sparse/linalg/dsolve/linsolve.py:193: MatrixRankWarning: Matrix is exactly singular\n",
      "  warn(\"Matrix is exactly singular\", MatrixRankWarning)\n"
     ]
    },
    {
     "name": "stdout",
     "output_type": "stream",
     "text": [
      " 337 / 640 combination\n",
      " 338 / 640 combination\n",
      " 339 / 640 combination\n",
      " 340 / 640 combination\n",
      " 341 / 640 combination\n"
     ]
    },
    {
     "name": "stderr",
     "output_type": "stream",
     "text": [
      "/home/ymentha/anaconda3/envs/ntds_2019/lib/python3.7/site-packages/scipy/sparse/linalg/dsolve/linsolve.py:193: MatrixRankWarning: Matrix is exactly singular\n",
      "  warn(\"Matrix is exactly singular\", MatrixRankWarning)\n"
     ]
    },
    {
     "name": "stdout",
     "output_type": "stream",
     "text": [
      " 342 / 640 combination\n",
      " 343 / 640 combination\n",
      " 344 / 640 combination\n",
      " 345 / 640 combination\n",
      " 346 / 640 combination\n"
     ]
    },
    {
     "name": "stderr",
     "output_type": "stream",
     "text": [
      "/home/ymentha/anaconda3/envs/ntds_2019/lib/python3.7/site-packages/scipy/sparse/linalg/dsolve/linsolve.py:193: MatrixRankWarning: Matrix is exactly singular\n",
      "  warn(\"Matrix is exactly singular\", MatrixRankWarning)\n"
     ]
    },
    {
     "name": "stdout",
     "output_type": "stream",
     "text": [
      " 347 / 640 combination\n",
      " 348 / 640 combination\n",
      " 349 / 640 combination\n"
     ]
    },
    {
     "name": "stderr",
     "output_type": "stream",
     "text": [
      "/home/ymentha/anaconda3/envs/ntds_2019/lib/python3.7/site-packages/scipy/sparse/linalg/dsolve/linsolve.py:193: MatrixRankWarning: Matrix is exactly singular\n",
      "  warn(\"Matrix is exactly singular\", MatrixRankWarning)\n"
     ]
    },
    {
     "name": "stdout",
     "output_type": "stream",
     "text": [
      " 350 / 640 combination\n",
      " 351 / 640 combination\n",
      " 352 / 640 combination\n",
      " 353 / 640 combination\n",
      " 354 / 640 combination\n"
     ]
    },
    {
     "name": "stderr",
     "output_type": "stream",
     "text": [
      "/home/ymentha/anaconda3/envs/ntds_2019/lib/python3.7/site-packages/scipy/sparse/linalg/dsolve/linsolve.py:193: MatrixRankWarning: Matrix is exactly singular\n",
      "  warn(\"Matrix is exactly singular\", MatrixRankWarning)\n"
     ]
    },
    {
     "name": "stdout",
     "output_type": "stream",
     "text": [
      " 355 / 640 combination\n",
      " 356 / 640 combination\n",
      " 357 / 640 combination\n"
     ]
    },
    {
     "name": "stderr",
     "output_type": "stream",
     "text": [
      "/home/ymentha/anaconda3/envs/ntds_2019/lib/python3.7/site-packages/scipy/sparse/linalg/dsolve/linsolve.py:193: MatrixRankWarning: Matrix is exactly singular\n",
      "  warn(\"Matrix is exactly singular\", MatrixRankWarning)\n"
     ]
    },
    {
     "name": "stdout",
     "output_type": "stream",
     "text": [
      " 358 / 640 combination\n",
      " 359 / 640 combination\n",
      " 360 / 640 combination\n",
      " 361 / 640 combination\n",
      " 362 / 640 combination\n",
      " 363 / 640 combination\n",
      " 364 / 640 combination\n",
      " 365 / 640 combination\n",
      " 366 / 640 combination\n",
      " 367 / 640 combination\n",
      " 368 / 640 combination\n",
      " 369 / 640 combination\n"
     ]
    },
    {
     "name": "stderr",
     "output_type": "stream",
     "text": [
      "/home/ymentha/anaconda3/envs/ntds_2019/lib/python3.7/site-packages/scipy/sparse/linalg/dsolve/linsolve.py:193: MatrixRankWarning: Matrix is exactly singular\n",
      "  warn(\"Matrix is exactly singular\", MatrixRankWarning)\n"
     ]
    },
    {
     "name": "stdout",
     "output_type": "stream",
     "text": [
      " 370 / 640 combination\n",
      " 371 / 640 combination\n",
      " 372 / 640 combination\n",
      " 373 / 640 combination\n",
      " 374 / 640 combination\n"
     ]
    },
    {
     "name": "stderr",
     "output_type": "stream",
     "text": [
      "/home/ymentha/anaconda3/envs/ntds_2019/lib/python3.7/site-packages/scipy/sparse/linalg/dsolve/linsolve.py:193: MatrixRankWarning: Matrix is exactly singular\n",
      "  warn(\"Matrix is exactly singular\", MatrixRankWarning)\n"
     ]
    },
    {
     "name": "stdout",
     "output_type": "stream",
     "text": [
      " 375 / 640 combination\n",
      " 376 / 640 combination\n"
     ]
    },
    {
     "name": "stderr",
     "output_type": "stream",
     "text": [
      "/home/ymentha/anaconda3/envs/ntds_2019/lib/python3.7/site-packages/scipy/sparse/linalg/dsolve/linsolve.py:193: MatrixRankWarning: Matrix is exactly singular\n",
      "  warn(\"Matrix is exactly singular\", MatrixRankWarning)\n"
     ]
    },
    {
     "name": "stdout",
     "output_type": "stream",
     "text": [
      " 377 / 640 combination\n",
      " 378 / 640 combination\n",
      " 379 / 640 combination\n",
      " 380 / 640 combination\n"
     ]
    },
    {
     "name": "stderr",
     "output_type": "stream",
     "text": [
      "/home/ymentha/anaconda3/envs/ntds_2019/lib/python3.7/site-packages/scipy/sparse/linalg/dsolve/linsolve.py:193: MatrixRankWarning: Matrix is exactly singular\n",
      "  warn(\"Matrix is exactly singular\", MatrixRankWarning)\n"
     ]
    },
    {
     "name": "stdout",
     "output_type": "stream",
     "text": [
      " 381 / 640 combination\n",
      " 382 / 640 combination\n",
      " 383 / 640 combination\n",
      " 384 / 640 combination\n"
     ]
    },
    {
     "name": "stderr",
     "output_type": "stream",
     "text": [
      "/home/ymentha/anaconda3/envs/ntds_2019/lib/python3.7/site-packages/scipy/sparse/linalg/dsolve/linsolve.py:193: MatrixRankWarning: Matrix is exactly singular\n",
      "  warn(\"Matrix is exactly singular\", MatrixRankWarning)\n"
     ]
    },
    {
     "name": "stdout",
     "output_type": "stream",
     "text": [
      " 385 / 640 combination\n",
      " 386 / 640 combination\n",
      " 387 / 640 combination\n",
      " 388 / 640 combination\n",
      " 389 / 640 combination\n"
     ]
    },
    {
     "name": "stderr",
     "output_type": "stream",
     "text": [
      "/home/ymentha/anaconda3/envs/ntds_2019/lib/python3.7/site-packages/scipy/sparse/linalg/dsolve/linsolve.py:193: MatrixRankWarning: Matrix is exactly singular\n",
      "  warn(\"Matrix is exactly singular\", MatrixRankWarning)\n"
     ]
    },
    {
     "name": "stdout",
     "output_type": "stream",
     "text": [
      " 390 / 640 combination\n",
      " 391 / 640 combination\n",
      " 392 / 640 combination\n",
      " 393 / 640 combination\n",
      " 394 / 640 combination\n"
     ]
    },
    {
     "name": "stderr",
     "output_type": "stream",
     "text": [
      "/home/ymentha/anaconda3/envs/ntds_2019/lib/python3.7/site-packages/scipy/sparse/linalg/dsolve/linsolve.py:193: MatrixRankWarning: Matrix is exactly singular\n",
      "  warn(\"Matrix is exactly singular\", MatrixRankWarning)\n"
     ]
    },
    {
     "name": "stdout",
     "output_type": "stream",
     "text": [
      " 395 / 640 combination\n",
      " 396 / 640 combination\n",
      " 397 / 640 combination\n"
     ]
    },
    {
     "name": "stderr",
     "output_type": "stream",
     "text": [
      "/home/ymentha/anaconda3/envs/ntds_2019/lib/python3.7/site-packages/scipy/sparse/linalg/dsolve/linsolve.py:193: MatrixRankWarning: Matrix is exactly singular\n",
      "  warn(\"Matrix is exactly singular\", MatrixRankWarning)\n"
     ]
    },
    {
     "name": "stdout",
     "output_type": "stream",
     "text": [
      " 398 / 640 combination\n",
      " 399 / 640 combination\n",
      " 400 / 640 combination\n",
      " 401 / 640 combination\n",
      " 402 / 640 combination\n",
      " 403 / 640 combination\n",
      " 404 / 640 combination\n",
      " 405 / 640 combination\n",
      " 406 / 640 combination\n",
      " 407 / 640 combination\n",
      " 408 / 640 combination\n",
      " 409 / 640 combination\n",
      " 410 / 640 combination\n",
      " 411 / 640 combination\n",
      " 412 / 640 combination\n",
      " 413 / 640 combination\n",
      " 414 / 640 combination\n",
      " 415 / 640 combination\n",
      " 416 / 640 combination\n",
      " 417 / 640 combination\n"
     ]
    },
    {
     "name": "stderr",
     "output_type": "stream",
     "text": [
      "/home/ymentha/anaconda3/envs/ntds_2019/lib/python3.7/site-packages/scipy/sparse/linalg/dsolve/linsolve.py:193: MatrixRankWarning: Matrix is exactly singular\n",
      "  warn(\"Matrix is exactly singular\", MatrixRankWarning)\n"
     ]
    },
    {
     "name": "stdout",
     "output_type": "stream",
     "text": [
      " 418 / 640 combination\n",
      " 419 / 640 combination\n",
      " 420 / 640 combination\n",
      " 421 / 640 combination\n",
      " 422 / 640 combination\n"
     ]
    },
    {
     "name": "stderr",
     "output_type": "stream",
     "text": [
      "/home/ymentha/anaconda3/envs/ntds_2019/lib/python3.7/site-packages/scipy/sparse/linalg/dsolve/linsolve.py:193: MatrixRankWarning: Matrix is exactly singular\n",
      "  warn(\"Matrix is exactly singular\", MatrixRankWarning)\n"
     ]
    },
    {
     "name": "stdout",
     "output_type": "stream",
     "text": [
      " 423 / 640 combination\n",
      " 424 / 640 combination\n",
      " 425 / 640 combination\n",
      " 426 / 640 combination\n"
     ]
    },
    {
     "name": "stderr",
     "output_type": "stream",
     "text": [
      "/home/ymentha/anaconda3/envs/ntds_2019/lib/python3.7/site-packages/scipy/sparse/linalg/dsolve/linsolve.py:193: MatrixRankWarning: Matrix is exactly singular\n",
      "  warn(\"Matrix is exactly singular\", MatrixRankWarning)\n"
     ]
    },
    {
     "name": "stdout",
     "output_type": "stream",
     "text": [
      " 427 / 640 combination\n",
      " 428 / 640 combination\n"
     ]
    },
    {
     "name": "stderr",
     "output_type": "stream",
     "text": [
      "/home/ymentha/anaconda3/envs/ntds_2019/lib/python3.7/site-packages/scipy/sparse/linalg/dsolve/linsolve.py:193: MatrixRankWarning: Matrix is exactly singular\n",
      "  warn(\"Matrix is exactly singular\", MatrixRankWarning)\n"
     ]
    },
    {
     "name": "stdout",
     "output_type": "stream",
     "text": [
      " 429 / 640 combination\n",
      " 430 / 640 combination\n",
      " 431 / 640 combination\n",
      " 432 / 640 combination\n"
     ]
    },
    {
     "name": "stderr",
     "output_type": "stream",
     "text": [
      "/home/ymentha/anaconda3/envs/ntds_2019/lib/python3.7/site-packages/scipy/sparse/linalg/dsolve/linsolve.py:193: MatrixRankWarning: Matrix is exactly singular\n",
      "  warn(\"Matrix is exactly singular\", MatrixRankWarning)\n"
     ]
    },
    {
     "name": "stdout",
     "output_type": "stream",
     "text": [
      " 433 / 640 combination\n",
      " 434 / 640 combination\n",
      " 435 / 640 combination\n",
      " 436 / 640 combination\n",
      " 437 / 640 combination\n"
     ]
    },
    {
     "name": "stderr",
     "output_type": "stream",
     "text": [
      "/home/ymentha/anaconda3/envs/ntds_2019/lib/python3.7/site-packages/scipy/sparse/linalg/dsolve/linsolve.py:193: MatrixRankWarning: Matrix is exactly singular\n",
      "  warn(\"Matrix is exactly singular\", MatrixRankWarning)\n"
     ]
    },
    {
     "name": "stdout",
     "output_type": "stream",
     "text": [
      " 438 / 640 combination\n",
      " 439 / 640 combination\n",
      " 440 / 640 combination\n",
      " 441 / 640 combination\n",
      " 442 / 640 combination\n",
      " 443 / 640 combination\n",
      " 444 / 640 combination\n",
      " 445 / 640 combination\n",
      " 446 / 640 combination\n",
      " 447 / 640 combination\n",
      " 448 / 640 combination\n",
      " 449 / 640 combination\n",
      " 450 / 640 combination\n",
      " 451 / 640 combination\n",
      " 452 / 640 combination\n",
      " 453 / 640 combination\n",
      " 454 / 640 combination\n",
      " 455 / 640 combination\n",
      " 456 / 640 combination\n",
      " 457 / 640 combination\n",
      " 458 / 640 combination\n",
      " 459 / 640 combination\n",
      " 460 / 640 combination\n",
      " 461 / 640 combination\n",
      " 462 / 640 combination\n",
      " 463 / 640 combination\n",
      " 464 / 640 combination\n"
     ]
    },
    {
     "name": "stderr",
     "output_type": "stream",
     "text": [
      "/home/ymentha/anaconda3/envs/ntds_2019/lib/python3.7/site-packages/scipy/sparse/linalg/dsolve/linsolve.py:193: MatrixRankWarning: Matrix is exactly singular\n",
      "  warn(\"Matrix is exactly singular\", MatrixRankWarning)\n"
     ]
    },
    {
     "name": "stdout",
     "output_type": "stream",
     "text": [
      " 465 / 640 combination\n",
      " 466 / 640 combination\n",
      " 467 / 640 combination\n",
      " 468 / 640 combination\n"
     ]
    },
    {
     "name": "stderr",
     "output_type": "stream",
     "text": [
      "/home/ymentha/anaconda3/envs/ntds_2019/lib/python3.7/site-packages/scipy/sparse/linalg/dsolve/linsolve.py:193: MatrixRankWarning: Matrix is exactly singular\n",
      "  warn(\"Matrix is exactly singular\", MatrixRankWarning)\n"
     ]
    },
    {
     "name": "stdout",
     "output_type": "stream",
     "text": [
      " 469 / 640 combination\n",
      " 470 / 640 combination\n",
      " 471 / 640 combination\n",
      " 472 / 640 combination\n",
      " 473 / 640 combination\n",
      " 474 / 640 combination\n"
     ]
    },
    {
     "name": "stderr",
     "output_type": "stream",
     "text": [
      "/home/ymentha/anaconda3/envs/ntds_2019/lib/python3.7/site-packages/scipy/sparse/linalg/dsolve/linsolve.py:193: MatrixRankWarning: Matrix is exactly singular\n",
      "  warn(\"Matrix is exactly singular\", MatrixRankWarning)\n"
     ]
    },
    {
     "name": "stdout",
     "output_type": "stream",
     "text": [
      " 475 / 640 combination\n",
      " 476 / 640 combination\n"
     ]
    },
    {
     "name": "stderr",
     "output_type": "stream",
     "text": [
      "/home/ymentha/anaconda3/envs/ntds_2019/lib/python3.7/site-packages/scipy/sparse/linalg/dsolve/linsolve.py:193: MatrixRankWarning: Matrix is exactly singular\n",
      "  warn(\"Matrix is exactly singular\", MatrixRankWarning)\n"
     ]
    },
    {
     "name": "stdout",
     "output_type": "stream",
     "text": [
      " 477 / 640 combination\n",
      " 478 / 640 combination\n",
      " 479 / 640 combination\n",
      " 480 / 640 combination\n"
     ]
    },
    {
     "name": "stderr",
     "output_type": "stream",
     "text": [
      "/home/ymentha/anaconda3/envs/ntds_2019/lib/python3.7/site-packages/scipy/sparse/linalg/dsolve/linsolve.py:193: MatrixRankWarning: Matrix is exactly singular\n",
      "  warn(\"Matrix is exactly singular\", MatrixRankWarning)\n"
     ]
    },
    {
     "name": "stdout",
     "output_type": "stream",
     "text": [
      " 481 / 640 combination\n",
      " 482 / 640 combination\n",
      " 483 / 640 combination\n",
      " 484 / 640 combination\n",
      " 485 / 640 combination\n",
      " 486 / 640 combination\n"
     ]
    },
    {
     "name": "stderr",
     "output_type": "stream",
     "text": [
      "/home/ymentha/anaconda3/envs/ntds_2019/lib/python3.7/site-packages/scipy/sparse/linalg/dsolve/linsolve.py:193: MatrixRankWarning: Matrix is exactly singular\n",
      "  warn(\"Matrix is exactly singular\", MatrixRankWarning)\n"
     ]
    },
    {
     "name": "stdout",
     "output_type": "stream",
     "text": [
      " 487 / 640 combination\n",
      " 488 / 640 combination\n"
     ]
    },
    {
     "name": "stderr",
     "output_type": "stream",
     "text": [
      "/home/ymentha/anaconda3/envs/ntds_2019/lib/python3.7/site-packages/scipy/sparse/linalg/dsolve/linsolve.py:193: MatrixRankWarning: Matrix is exactly singular\n",
      "  warn(\"Matrix is exactly singular\", MatrixRankWarning)\n"
     ]
    },
    {
     "name": "stdout",
     "output_type": "stream",
     "text": [
      " 489 / 640 combination\n",
      " 490 / 640 combination\n",
      " 491 / 640 combination\n",
      " 492 / 640 combination\n"
     ]
    },
    {
     "name": "stderr",
     "output_type": "stream",
     "text": [
      "/home/ymentha/anaconda3/envs/ntds_2019/lib/python3.7/site-packages/scipy/sparse/linalg/dsolve/linsolve.py:193: MatrixRankWarning: Matrix is exactly singular\n",
      "  warn(\"Matrix is exactly singular\", MatrixRankWarning)\n"
     ]
    },
    {
     "name": "stdout",
     "output_type": "stream",
     "text": [
      " 493 / 640 combination\n",
      " 494 / 640 combination\n",
      " 495 / 640 combination\n",
      " 496 / 640 combination\n"
     ]
    },
    {
     "name": "stderr",
     "output_type": "stream",
     "text": [
      "/home/ymentha/anaconda3/envs/ntds_2019/lib/python3.7/site-packages/scipy/sparse/linalg/dsolve/linsolve.py:193: MatrixRankWarning: Matrix is exactly singular\n",
      "  warn(\"Matrix is exactly singular\", MatrixRankWarning)\n"
     ]
    },
    {
     "name": "stdout",
     "output_type": "stream",
     "text": [
      " 497 / 640 combination\n",
      " 498 / 640 combination\n",
      " 499 / 640 combination\n",
      " 500 / 640 combination\n",
      " 501 / 640 combination\n"
     ]
    },
    {
     "name": "stderr",
     "output_type": "stream",
     "text": [
      "/home/ymentha/anaconda3/envs/ntds_2019/lib/python3.7/site-packages/scipy/sparse/linalg/dsolve/linsolve.py:193: MatrixRankWarning: Matrix is exactly singular\n",
      "  warn(\"Matrix is exactly singular\", MatrixRankWarning)\n"
     ]
    },
    {
     "name": "stdout",
     "output_type": "stream",
     "text": [
      " 502 / 640 combination\n",
      " 503 / 640 combination\n",
      " 504 / 640 combination\n",
      " 505 / 640 combination\n",
      " 506 / 640 combination\n"
     ]
    },
    {
     "name": "stderr",
     "output_type": "stream",
     "text": [
      "/home/ymentha/anaconda3/envs/ntds_2019/lib/python3.7/site-packages/scipy/sparse/linalg/dsolve/linsolve.py:193: MatrixRankWarning: Matrix is exactly singular\n",
      "  warn(\"Matrix is exactly singular\", MatrixRankWarning)\n"
     ]
    },
    {
     "name": "stdout",
     "output_type": "stream",
     "text": [
      " 507 / 640 combination\n",
      " 508 / 640 combination\n",
      " 509 / 640 combination\n"
     ]
    },
    {
     "name": "stderr",
     "output_type": "stream",
     "text": [
      "/home/ymentha/anaconda3/envs/ntds_2019/lib/python3.7/site-packages/scipy/sparse/linalg/dsolve/linsolve.py:193: MatrixRankWarning: Matrix is exactly singular\n",
      "  warn(\"Matrix is exactly singular\", MatrixRankWarning)\n"
     ]
    },
    {
     "name": "stdout",
     "output_type": "stream",
     "text": [
      " 510 / 640 combination\n",
      " 511 / 640 combination\n",
      " 512 / 640 combination\n",
      " 513 / 640 combination\n",
      " 514 / 640 combination\n"
     ]
    },
    {
     "name": "stderr",
     "output_type": "stream",
     "text": [
      "/home/ymentha/anaconda3/envs/ntds_2019/lib/python3.7/site-packages/scipy/sparse/linalg/dsolve/linsolve.py:193: MatrixRankWarning: Matrix is exactly singular\n",
      "  warn(\"Matrix is exactly singular\", MatrixRankWarning)\n"
     ]
    },
    {
     "name": "stdout",
     "output_type": "stream",
     "text": [
      " 515 / 640 combination\n",
      " 516 / 640 combination\n",
      " 517 / 640 combination\n"
     ]
    },
    {
     "name": "stderr",
     "output_type": "stream",
     "text": [
      "/home/ymentha/anaconda3/envs/ntds_2019/lib/python3.7/site-packages/scipy/sparse/linalg/dsolve/linsolve.py:193: MatrixRankWarning: Matrix is exactly singular\n",
      "  warn(\"Matrix is exactly singular\", MatrixRankWarning)\n"
     ]
    },
    {
     "name": "stdout",
     "output_type": "stream",
     "text": [
      " 518 / 640 combination\n",
      " 519 / 640 combination\n",
      " 520 / 640 combination\n",
      " 521 / 640 combination\n",
      " 522 / 640 combination\n",
      " 523 / 640 combination\n",
      " 524 / 640 combination\n",
      " 525 / 640 combination\n",
      " 526 / 640 combination\n",
      " 527 / 640 combination\n",
      " 528 / 640 combination\n",
      " 529 / 640 combination\n"
     ]
    },
    {
     "name": "stderr",
     "output_type": "stream",
     "text": [
      "/home/ymentha/anaconda3/envs/ntds_2019/lib/python3.7/site-packages/scipy/sparse/linalg/dsolve/linsolve.py:193: MatrixRankWarning: Matrix is exactly singular\n",
      "  warn(\"Matrix is exactly singular\", MatrixRankWarning)\n"
     ]
    },
    {
     "name": "stdout",
     "output_type": "stream",
     "text": [
      " 530 / 640 combination\n",
      " 531 / 640 combination\n",
      " 532 / 640 combination\n",
      " 533 / 640 combination\n",
      " 534 / 640 combination\n"
     ]
    },
    {
     "name": "stderr",
     "output_type": "stream",
     "text": [
      "/home/ymentha/anaconda3/envs/ntds_2019/lib/python3.7/site-packages/scipy/sparse/linalg/dsolve/linsolve.py:193: MatrixRankWarning: Matrix is exactly singular\n",
      "  warn(\"Matrix is exactly singular\", MatrixRankWarning)\n"
     ]
    },
    {
     "name": "stdout",
     "output_type": "stream",
     "text": [
      " 535 / 640 combination\n",
      " 536 / 640 combination\n"
     ]
    },
    {
     "name": "stderr",
     "output_type": "stream",
     "text": [
      "/home/ymentha/anaconda3/envs/ntds_2019/lib/python3.7/site-packages/scipy/sparse/linalg/dsolve/linsolve.py:193: MatrixRankWarning: Matrix is exactly singular\n",
      "  warn(\"Matrix is exactly singular\", MatrixRankWarning)\n"
     ]
    },
    {
     "name": "stdout",
     "output_type": "stream",
     "text": [
      " 537 / 640 combination\n",
      " 538 / 640 combination\n",
      " 539 / 640 combination\n",
      " 540 / 640 combination\n"
     ]
    },
    {
     "name": "stderr",
     "output_type": "stream",
     "text": [
      "/home/ymentha/anaconda3/envs/ntds_2019/lib/python3.7/site-packages/scipy/sparse/linalg/dsolve/linsolve.py:193: MatrixRankWarning: Matrix is exactly singular\n",
      "  warn(\"Matrix is exactly singular\", MatrixRankWarning)\n"
     ]
    },
    {
     "name": "stdout",
     "output_type": "stream",
     "text": [
      " 541 / 640 combination\n",
      " 542 / 640 combination\n",
      " 543 / 640 combination\n",
      " 544 / 640 combination\n"
     ]
    },
    {
     "name": "stderr",
     "output_type": "stream",
     "text": [
      "/home/ymentha/anaconda3/envs/ntds_2019/lib/python3.7/site-packages/scipy/sparse/linalg/dsolve/linsolve.py:193: MatrixRankWarning: Matrix is exactly singular\n",
      "  warn(\"Matrix is exactly singular\", MatrixRankWarning)\n"
     ]
    },
    {
     "name": "stdout",
     "output_type": "stream",
     "text": [
      " 545 / 640 combination\n",
      " 546 / 640 combination\n",
      " 547 / 640 combination\n",
      " 548 / 640 combination\n"
     ]
    },
    {
     "name": "stderr",
     "output_type": "stream",
     "text": [
      "/home/ymentha/anaconda3/envs/ntds_2019/lib/python3.7/site-packages/scipy/sparse/linalg/dsolve/linsolve.py:193: MatrixRankWarning: Matrix is exactly singular\n",
      "  warn(\"Matrix is exactly singular\", MatrixRankWarning)\n"
     ]
    },
    {
     "name": "stdout",
     "output_type": "stream",
     "text": [
      " 549 / 640 combination\n",
      " 550 / 640 combination\n",
      " 551 / 640 combination\n",
      " 552 / 640 combination\n",
      " 553 / 640 combination\n"
     ]
    },
    {
     "name": "stderr",
     "output_type": "stream",
     "text": [
      "/home/ymentha/anaconda3/envs/ntds_2019/lib/python3.7/site-packages/scipy/sparse/linalg/dsolve/linsolve.py:193: MatrixRankWarning: Matrix is exactly singular\n",
      "  warn(\"Matrix is exactly singular\", MatrixRankWarning)\n"
     ]
    },
    {
     "name": "stdout",
     "output_type": "stream",
     "text": [
      " 554 / 640 combination\n",
      " 555 / 640 combination\n",
      " 556 / 640 combination\n",
      " 557 / 640 combination\n",
      " 558 / 640 combination\n"
     ]
    },
    {
     "name": "stderr",
     "output_type": "stream",
     "text": [
      "/home/ymentha/anaconda3/envs/ntds_2019/lib/python3.7/site-packages/scipy/sparse/linalg/dsolve/linsolve.py:193: MatrixRankWarning: Matrix is exactly singular\n",
      "  warn(\"Matrix is exactly singular\", MatrixRankWarning)\n"
     ]
    },
    {
     "name": "stdout",
     "output_type": "stream",
     "text": [
      " 559 / 640 combination\n",
      " 560 / 640 combination\n",
      " 561 / 640 combination\n",
      " 562 / 640 combination\n",
      " 563 / 640 combination\n",
      " 564 / 640 combination\n",
      " 565 / 640 combination\n",
      " 566 / 640 combination\n",
      " 567 / 640 combination\n",
      " 568 / 640 combination\n",
      " 569 / 640 combination\n",
      " 570 / 640 combination\n",
      " 571 / 640 combination\n",
      " 572 / 640 combination\n",
      " 573 / 640 combination\n",
      " 574 / 640 combination\n",
      " 575 / 640 combination\n",
      " 576 / 640 combination\n",
      " 577 / 640 combination\n"
     ]
    },
    {
     "name": "stderr",
     "output_type": "stream",
     "text": [
      "/home/ymentha/anaconda3/envs/ntds_2019/lib/python3.7/site-packages/scipy/sparse/linalg/dsolve/linsolve.py:193: MatrixRankWarning: Matrix is exactly singular\n",
      "  warn(\"Matrix is exactly singular\", MatrixRankWarning)\n"
     ]
    },
    {
     "name": "stdout",
     "output_type": "stream",
     "text": [
      " 578 / 640 combination\n",
      " 579 / 640 combination\n",
      " 580 / 640 combination\n",
      " 581 / 640 combination\n",
      " 582 / 640 combination\n"
     ]
    },
    {
     "name": "stderr",
     "output_type": "stream",
     "text": [
      "/home/ymentha/anaconda3/envs/ntds_2019/lib/python3.7/site-packages/scipy/sparse/linalg/dsolve/linsolve.py:193: MatrixRankWarning: Matrix is exactly singular\n",
      "  warn(\"Matrix is exactly singular\", MatrixRankWarning)\n"
     ]
    },
    {
     "name": "stdout",
     "output_type": "stream",
     "text": [
      " 583 / 640 combination\n",
      " 584 / 640 combination\n",
      " 585 / 640 combination\n",
      " 586 / 640 combination\n"
     ]
    },
    {
     "name": "stderr",
     "output_type": "stream",
     "text": [
      "/home/ymentha/anaconda3/envs/ntds_2019/lib/python3.7/site-packages/scipy/sparse/linalg/dsolve/linsolve.py:193: MatrixRankWarning: Matrix is exactly singular\n",
      "  warn(\"Matrix is exactly singular\", MatrixRankWarning)\n"
     ]
    },
    {
     "name": "stdout",
     "output_type": "stream",
     "text": [
      " 587 / 640 combination\n",
      " 588 / 640 combination\n"
     ]
    },
    {
     "name": "stderr",
     "output_type": "stream",
     "text": [
      "/home/ymentha/anaconda3/envs/ntds_2019/lib/python3.7/site-packages/scipy/sparse/linalg/dsolve/linsolve.py:193: MatrixRankWarning: Matrix is exactly singular\n",
      "  warn(\"Matrix is exactly singular\", MatrixRankWarning)\n"
     ]
    },
    {
     "name": "stdout",
     "output_type": "stream",
     "text": [
      " 589 / 640 combination\n",
      " 590 / 640 combination\n",
      " 591 / 640 combination\n",
      " 592 / 640 combination\n"
     ]
    },
    {
     "name": "stderr",
     "output_type": "stream",
     "text": [
      "/home/ymentha/anaconda3/envs/ntds_2019/lib/python3.7/site-packages/scipy/sparse/linalg/dsolve/linsolve.py:193: MatrixRankWarning: Matrix is exactly singular\n",
      "  warn(\"Matrix is exactly singular\", MatrixRankWarning)\n"
     ]
    },
    {
     "name": "stdout",
     "output_type": "stream",
     "text": [
      " 593 / 640 combination\n",
      " 594 / 640 combination\n",
      " 595 / 640 combination\n",
      " 596 / 640 combination\n",
      " 597 / 640 combination\n"
     ]
    },
    {
     "name": "stderr",
     "output_type": "stream",
     "text": [
      "/home/ymentha/anaconda3/envs/ntds_2019/lib/python3.7/site-packages/scipy/sparse/linalg/dsolve/linsolve.py:193: MatrixRankWarning: Matrix is exactly singular\n",
      "  warn(\"Matrix is exactly singular\", MatrixRankWarning)\n"
     ]
    },
    {
     "name": "stdout",
     "output_type": "stream",
     "text": [
      " 598 / 640 combination\n",
      " 599 / 640 combination\n",
      " 600 / 640 combination\n",
      " 601 / 640 combination\n",
      " 602 / 640 combination\n",
      " 603 / 640 combination\n",
      " 604 / 640 combination\n",
      " 605 / 640 combination\n",
      " 606 / 640 combination\n",
      " 607 / 640 combination\n",
      " 608 / 640 combination\n",
      " 609 / 640 combination\n",
      " 610 / 640 combination\n",
      " 611 / 640 combination\n",
      " 612 / 640 combination\n",
      " 613 / 640 combination\n",
      " 614 / 640 combination\n",
      " 615 / 640 combination\n",
      " 616 / 640 combination\n",
      " 617 / 640 combination\n",
      " 618 / 640 combination\n",
      " 619 / 640 combination\n",
      " 620 / 640 combination\n",
      " 621 / 640 combination\n",
      " 622 / 640 combination\n",
      " 623 / 640 combination\n",
      " 624 / 640 combination\n",
      " 625 / 640 combination\n"
     ]
    },
    {
     "name": "stderr",
     "output_type": "stream",
     "text": [
      "/home/ymentha/anaconda3/envs/ntds_2019/lib/python3.7/site-packages/scipy/sparse/linalg/dsolve/linsolve.py:193: MatrixRankWarning: Matrix is exactly singular\n",
      "  warn(\"Matrix is exactly singular\", MatrixRankWarning)\n"
     ]
    },
    {
     "name": "stdout",
     "output_type": "stream",
     "text": [
      " 626 / 640 combination\n",
      " 627 / 640 combination\n",
      " 628 / 640 combination\n",
      " 629 / 640 combination\n",
      " 630 / 640 combination\n"
     ]
    },
    {
     "name": "stderr",
     "output_type": "stream",
     "text": [
      "/home/ymentha/anaconda3/envs/ntds_2019/lib/python3.7/site-packages/scipy/sparse/linalg/dsolve/linsolve.py:193: MatrixRankWarning: Matrix is exactly singular\n",
      "  warn(\"Matrix is exactly singular\", MatrixRankWarning)\n"
     ]
    },
    {
     "name": "stdout",
     "output_type": "stream",
     "text": [
      " 631 / 640 combination\n",
      " 632 / 640 combination\n",
      " 633 / 640 combination\n",
      " 634 / 640 combination\n"
     ]
    },
    {
     "name": "stderr",
     "output_type": "stream",
     "text": [
      "/home/ymentha/anaconda3/envs/ntds_2019/lib/python3.7/site-packages/scipy/sparse/linalg/dsolve/linsolve.py:193: MatrixRankWarning: Matrix is exactly singular\n",
      "  warn(\"Matrix is exactly singular\", MatrixRankWarning)\n"
     ]
    },
    {
     "name": "stdout",
     "output_type": "stream",
     "text": [
      " 635 / 640 combination\n",
      " 636 / 640 combination\n"
     ]
    },
    {
     "name": "stderr",
     "output_type": "stream",
     "text": [
      "/home/ymentha/anaconda3/envs/ntds_2019/lib/python3.7/site-packages/scipy/sparse/linalg/dsolve/linsolve.py:193: MatrixRankWarning: Matrix is exactly singular\n",
      "  warn(\"Matrix is exactly singular\", MatrixRankWarning)\n"
     ]
    },
    {
     "name": "stdout",
     "output_type": "stream",
     "text": [
      " 637 / 640 combination\n",
      " 638 / 640 combination\n",
      " 639 / 640 combination\n",
      "################################\n",
      "Biggest result for gene X1002 : -0.12\n",
      "Smallest result for gene X1002 : -458.83\n",
      "################################\n",
      " 0 / 640 combination\n"
     ]
    },
    {
     "name": "stderr",
     "output_type": "stream",
     "text": [
      "/home/ymentha/anaconda3/envs/ntds_2019/lib/python3.7/site-packages/scipy/sparse/linalg/dsolve/linsolve.py:193: MatrixRankWarning: Matrix is exactly singular\n",
      "  warn(\"Matrix is exactly singular\", MatrixRankWarning)\n"
     ]
    },
    {
     "name": "stdout",
     "output_type": "stream",
     "text": [
      " 1 / 640 combination\n",
      " 2 / 640 combination\n",
      " 3 / 640 combination\n",
      " 4 / 640 combination\n",
      " 5 / 640 combination\n",
      " 6 / 640 combination\n"
     ]
    },
    {
     "name": "stderr",
     "output_type": "stream",
     "text": [
      "/home/ymentha/anaconda3/envs/ntds_2019/lib/python3.7/site-packages/scipy/sparse/linalg/dsolve/linsolve.py:193: MatrixRankWarning: Matrix is exactly singular\n",
      "  warn(\"Matrix is exactly singular\", MatrixRankWarning)\n"
     ]
    },
    {
     "name": "stdout",
     "output_type": "stream",
     "text": [
      " 7 / 640 combination\n",
      " 8 / 640 combination\n"
     ]
    },
    {
     "name": "stderr",
     "output_type": "stream",
     "text": [
      "/home/ymentha/anaconda3/envs/ntds_2019/lib/python3.7/site-packages/scipy/sparse/linalg/dsolve/linsolve.py:193: MatrixRankWarning: Matrix is exactly singular\n",
      "  warn(\"Matrix is exactly singular\", MatrixRankWarning)\n"
     ]
    },
    {
     "name": "stdout",
     "output_type": "stream",
     "text": [
      " 9 / 640 combination\n",
      " 10 / 640 combination\n",
      " 11 / 640 combination\n",
      " 12 / 640 combination\n"
     ]
    },
    {
     "name": "stderr",
     "output_type": "stream",
     "text": [
      "/home/ymentha/anaconda3/envs/ntds_2019/lib/python3.7/site-packages/scipy/sparse/linalg/dsolve/linsolve.py:193: MatrixRankWarning: Matrix is exactly singular\n",
      "  warn(\"Matrix is exactly singular\", MatrixRankWarning)\n"
     ]
    },
    {
     "name": "stdout",
     "output_type": "stream",
     "text": [
      " 13 / 640 combination\n",
      " 14 / 640 combination\n",
      " 15 / 640 combination\n",
      " 16 / 640 combination\n",
      " 17 / 640 combination\n"
     ]
    },
    {
     "name": "stderr",
     "output_type": "stream",
     "text": [
      "/home/ymentha/anaconda3/envs/ntds_2019/lib/python3.7/site-packages/scipy/sparse/linalg/dsolve/linsolve.py:193: MatrixRankWarning: Matrix is exactly singular\n",
      "  warn(\"Matrix is exactly singular\", MatrixRankWarning)\n"
     ]
    },
    {
     "name": "stdout",
     "output_type": "stream",
     "text": [
      " 18 / 640 combination\n",
      " 19 / 640 combination\n",
      " 20 / 640 combination\n",
      " 21 / 640 combination\n",
      " 22 / 640 combination\n"
     ]
    },
    {
     "name": "stderr",
     "output_type": "stream",
     "text": [
      "/home/ymentha/anaconda3/envs/ntds_2019/lib/python3.7/site-packages/scipy/sparse/linalg/dsolve/linsolve.py:193: MatrixRankWarning: Matrix is exactly singular\n",
      "  warn(\"Matrix is exactly singular\", MatrixRankWarning)\n"
     ]
    },
    {
     "name": "stdout",
     "output_type": "stream",
     "text": [
      " 23 / 640 combination\n",
      " 24 / 640 combination\n",
      " 25 / 640 combination\n"
     ]
    },
    {
     "name": "stderr",
     "output_type": "stream",
     "text": [
      "/home/ymentha/anaconda3/envs/ntds_2019/lib/python3.7/site-packages/scipy/sparse/linalg/dsolve/linsolve.py:193: MatrixRankWarning: Matrix is exactly singular\n",
      "  warn(\"Matrix is exactly singular\", MatrixRankWarning)\n"
     ]
    },
    {
     "name": "stdout",
     "output_type": "stream",
     "text": [
      " 26 / 640 combination\n",
      " 27 / 640 combination\n",
      " 28 / 640 combination\n",
      " 29 / 640 combination\n",
      " 30 / 640 combination\n"
     ]
    },
    {
     "name": "stderr",
     "output_type": "stream",
     "text": [
      "/home/ymentha/anaconda3/envs/ntds_2019/lib/python3.7/site-packages/scipy/sparse/linalg/dsolve/linsolve.py:193: MatrixRankWarning: Matrix is exactly singular\n",
      "  warn(\"Matrix is exactly singular\", MatrixRankWarning)\n"
     ]
    },
    {
     "name": "stdout",
     "output_type": "stream",
     "text": [
      " 31 / 640 combination\n",
      " 32 / 640 combination\n",
      " 33 / 640 combination\n"
     ]
    },
    {
     "name": "stderr",
     "output_type": "stream",
     "text": [
      "/home/ymentha/anaconda3/envs/ntds_2019/lib/python3.7/site-packages/scipy/sparse/linalg/dsolve/linsolve.py:193: MatrixRankWarning: Matrix is exactly singular\n",
      "  warn(\"Matrix is exactly singular\", MatrixRankWarning)\n"
     ]
    },
    {
     "name": "stdout",
     "output_type": "stream",
     "text": [
      " 34 / 640 combination\n",
      " 35 / 640 combination\n",
      " 36 / 640 combination\n",
      " 37 / 640 combination\n",
      " 38 / 640 combination\n"
     ]
    },
    {
     "name": "stderr",
     "output_type": "stream",
     "text": [
      "/home/ymentha/anaconda3/envs/ntds_2019/lib/python3.7/site-packages/scipy/sparse/linalg/dsolve/linsolve.py:193: MatrixRankWarning: Matrix is exactly singular\n",
      "  warn(\"Matrix is exactly singular\", MatrixRankWarning)\n"
     ]
    },
    {
     "name": "stdout",
     "output_type": "stream",
     "text": [
      " 39 / 640 combination\n",
      " 40 / 640 combination\n",
      " 41 / 640 combination\n",
      " 42 / 640 combination\n",
      " 43 / 640 combination\n",
      " 44 / 640 combination\n",
      " 45 / 640 combination\n",
      " 46 / 640 combination\n",
      " 47 / 640 combination\n",
      " 48 / 640 combination\n",
      " 49 / 640 combination\n"
     ]
    },
    {
     "name": "stderr",
     "output_type": "stream",
     "text": [
      "/home/ymentha/anaconda3/envs/ntds_2019/lib/python3.7/site-packages/scipy/sparse/linalg/dsolve/linsolve.py:193: MatrixRankWarning: Matrix is exactly singular\n",
      "  warn(\"Matrix is exactly singular\", MatrixRankWarning)\n"
     ]
    },
    {
     "name": "stdout",
     "output_type": "stream",
     "text": [
      " 50 / 640 combination\n",
      " 51 / 640 combination\n",
      " 52 / 640 combination\n",
      " 53 / 640 combination\n",
      " 54 / 640 combination\n"
     ]
    },
    {
     "name": "stderr",
     "output_type": "stream",
     "text": [
      "/home/ymentha/anaconda3/envs/ntds_2019/lib/python3.7/site-packages/scipy/sparse/linalg/dsolve/linsolve.py:193: MatrixRankWarning: Matrix is exactly singular\n",
      "  warn(\"Matrix is exactly singular\", MatrixRankWarning)\n"
     ]
    },
    {
     "name": "stdout",
     "output_type": "stream",
     "text": [
      " 55 / 640 combination\n",
      " 56 / 640 combination\n",
      " 57 / 640 combination\n",
      " 58 / 640 combination\n"
     ]
    },
    {
     "name": "stderr",
     "output_type": "stream",
     "text": [
      "/home/ymentha/anaconda3/envs/ntds_2019/lib/python3.7/site-packages/scipy/sparse/linalg/dsolve/linsolve.py:193: MatrixRankWarning: Matrix is exactly singular\n",
      "  warn(\"Matrix is exactly singular\", MatrixRankWarning)\n"
     ]
    },
    {
     "name": "stdout",
     "output_type": "stream",
     "text": [
      " 59 / 640 combination\n",
      " 60 / 640 combination\n"
     ]
    },
    {
     "name": "stderr",
     "output_type": "stream",
     "text": [
      "/home/ymentha/anaconda3/envs/ntds_2019/lib/python3.7/site-packages/scipy/sparse/linalg/dsolve/linsolve.py:193: MatrixRankWarning: Matrix is exactly singular\n",
      "  warn(\"Matrix is exactly singular\", MatrixRankWarning)\n"
     ]
    },
    {
     "name": "stdout",
     "output_type": "stream",
     "text": [
      " 61 / 640 combination\n",
      " 62 / 640 combination\n",
      " 63 / 640 combination\n",
      " 64 / 640 combination\n"
     ]
    },
    {
     "name": "stderr",
     "output_type": "stream",
     "text": [
      "/home/ymentha/anaconda3/envs/ntds_2019/lib/python3.7/site-packages/scipy/sparse/linalg/dsolve/linsolve.py:193: MatrixRankWarning: Matrix is exactly singular\n",
      "  warn(\"Matrix is exactly singular\", MatrixRankWarning)\n"
     ]
    },
    {
     "name": "stdout",
     "output_type": "stream",
     "text": [
      " 65 / 640 combination\n",
      " 66 / 640 combination\n",
      " 67 / 640 combination\n",
      " 68 / 640 combination\n",
      " 69 / 640 combination\n"
     ]
    },
    {
     "name": "stderr",
     "output_type": "stream",
     "text": [
      "/home/ymentha/anaconda3/envs/ntds_2019/lib/python3.7/site-packages/scipy/sparse/linalg/dsolve/linsolve.py:193: MatrixRankWarning: Matrix is exactly singular\n",
      "  warn(\"Matrix is exactly singular\", MatrixRankWarning)\n"
     ]
    },
    {
     "name": "stdout",
     "output_type": "stream",
     "text": [
      " 70 / 640 combination\n",
      " 71 / 640 combination\n",
      " 72 / 640 combination\n",
      " 73 / 640 combination\n",
      " 74 / 640 combination\n"
     ]
    },
    {
     "name": "stderr",
     "output_type": "stream",
     "text": [
      "/home/ymentha/anaconda3/envs/ntds_2019/lib/python3.7/site-packages/scipy/sparse/linalg/dsolve/linsolve.py:193: MatrixRankWarning: Matrix is exactly singular\n",
      "  warn(\"Matrix is exactly singular\", MatrixRankWarning)\n"
     ]
    },
    {
     "name": "stdout",
     "output_type": "stream",
     "text": [
      " 75 / 640 combination\n",
      " 76 / 640 combination\n",
      " 77 / 640 combination\n"
     ]
    },
    {
     "name": "stderr",
     "output_type": "stream",
     "text": [
      "/home/ymentha/anaconda3/envs/ntds_2019/lib/python3.7/site-packages/scipy/sparse/linalg/dsolve/linsolve.py:193: MatrixRankWarning: Matrix is exactly singular\n",
      "  warn(\"Matrix is exactly singular\", MatrixRankWarning)\n"
     ]
    },
    {
     "name": "stdout",
     "output_type": "stream",
     "text": [
      " 78 / 640 combination\n",
      " 79 / 640 combination\n",
      " 80 / 640 combination\n",
      " 81 / 640 combination\n",
      " 82 / 640 combination\n",
      " 83 / 640 combination\n",
      " 84 / 640 combination\n",
      " 85 / 640 combination\n",
      " 86 / 640 combination\n",
      " 87 / 640 combination\n",
      " 88 / 640 combination\n",
      " 89 / 640 combination\n",
      " 90 / 640 combination\n",
      " 91 / 640 combination\n",
      " 92 / 640 combination\n",
      " 93 / 640 combination\n",
      " 94 / 640 combination\n",
      " 95 / 640 combination\n",
      " 96 / 640 combination\n"
     ]
    },
    {
     "name": "stderr",
     "output_type": "stream",
     "text": [
      "/home/ymentha/anaconda3/envs/ntds_2019/lib/python3.7/site-packages/scipy/sparse/linalg/dsolve/linsolve.py:193: MatrixRankWarning: Matrix is exactly singular\n",
      "  warn(\"Matrix is exactly singular\", MatrixRankWarning)\n"
     ]
    },
    {
     "name": "stdout",
     "output_type": "stream",
     "text": [
      " 97 / 640 combination\n",
      " 98 / 640 combination\n",
      " 99 / 640 combination\n",
      " 100 / 640 combination\n",
      " 101 / 640 combination\n",
      " 102 / 640 combination\n"
     ]
    },
    {
     "name": "stderr",
     "output_type": "stream",
     "text": [
      "/home/ymentha/anaconda3/envs/ntds_2019/lib/python3.7/site-packages/scipy/sparse/linalg/dsolve/linsolve.py:193: MatrixRankWarning: Matrix is exactly singular\n",
      "  warn(\"Matrix is exactly singular\", MatrixRankWarning)\n"
     ]
    },
    {
     "name": "stdout",
     "output_type": "stream",
     "text": [
      " 103 / 640 combination\n",
      " 104 / 640 combination\n",
      " 105 / 640 combination\n"
     ]
    },
    {
     "name": "stderr",
     "output_type": "stream",
     "text": [
      "/home/ymentha/anaconda3/envs/ntds_2019/lib/python3.7/site-packages/scipy/sparse/linalg/dsolve/linsolve.py:193: MatrixRankWarning: Matrix is exactly singular\n",
      "  warn(\"Matrix is exactly singular\", MatrixRankWarning)\n"
     ]
    },
    {
     "name": "stdout",
     "output_type": "stream",
     "text": [
      " 106 / 640 combination\n",
      " 107 / 640 combination\n",
      " 108 / 640 combination\n",
      " 109 / 640 combination\n",
      " 110 / 640 combination\n"
     ]
    },
    {
     "name": "stderr",
     "output_type": "stream",
     "text": [
      "/home/ymentha/anaconda3/envs/ntds_2019/lib/python3.7/site-packages/scipy/sparse/linalg/dsolve/linsolve.py:193: MatrixRankWarning: Matrix is exactly singular\n",
      "  warn(\"Matrix is exactly singular\", MatrixRankWarning)\n"
     ]
    },
    {
     "name": "stdout",
     "output_type": "stream",
     "text": [
      " 111 / 640 combination\n",
      " 112 / 640 combination\n"
     ]
    },
    {
     "name": "stderr",
     "output_type": "stream",
     "text": [
      "/home/ymentha/anaconda3/envs/ntds_2019/lib/python3.7/site-packages/scipy/sparse/linalg/dsolve/linsolve.py:193: MatrixRankWarning: Matrix is exactly singular\n",
      "  warn(\"Matrix is exactly singular\", MatrixRankWarning)\n"
     ]
    },
    {
     "name": "stdout",
     "output_type": "stream",
     "text": [
      " 113 / 640 combination\n",
      " 114 / 640 combination\n",
      " 115 / 640 combination\n",
      " 116 / 640 combination\n",
      " 117 / 640 combination\n"
     ]
    },
    {
     "name": "stderr",
     "output_type": "stream",
     "text": [
      "/home/ymentha/anaconda3/envs/ntds_2019/lib/python3.7/site-packages/scipy/sparse/linalg/dsolve/linsolve.py:193: MatrixRankWarning: Matrix is exactly singular\n",
      "  warn(\"Matrix is exactly singular\", MatrixRankWarning)\n"
     ]
    },
    {
     "name": "stdout",
     "output_type": "stream",
     "text": [
      " 118 / 640 combination\n",
      " 119 / 640 combination\n",
      " 120 / 640 combination\n",
      " 121 / 640 combination\n",
      " 122 / 640 combination\n",
      " 123 / 640 combination\n",
      " 124 / 640 combination\n",
      " 125 / 640 combination\n",
      " 126 / 640 combination\n",
      " 127 / 640 combination\n",
      " 128 / 640 combination\n",
      " 129 / 640 combination\n",
      " 130 / 640 combination\n",
      " 131 / 640 combination\n",
      " 132 / 640 combination\n",
      " 133 / 640 combination\n",
      " 134 / 640 combination\n",
      " 135 / 640 combination\n",
      " 136 / 640 combination\n",
      " 137 / 640 combination\n",
      " 138 / 640 combination\n",
      " 139 / 640 combination\n",
      " 140 / 640 combination\n",
      " 141 / 640 combination\n",
      " 142 / 640 combination\n",
      " 143 / 640 combination\n",
      " 144 / 640 combination\n",
      " 145 / 640 combination\n"
     ]
    },
    {
     "name": "stderr",
     "output_type": "stream",
     "text": [
      "/home/ymentha/anaconda3/envs/ntds_2019/lib/python3.7/site-packages/scipy/sparse/linalg/dsolve/linsolve.py:193: MatrixRankWarning: Matrix is exactly singular\n",
      "  warn(\"Matrix is exactly singular\", MatrixRankWarning)\n"
     ]
    },
    {
     "name": "stdout",
     "output_type": "stream",
     "text": [
      " 146 / 640 combination\n",
      " 147 / 640 combination\n",
      " 148 / 640 combination\n",
      " 149 / 640 combination\n"
     ]
    },
    {
     "name": "stderr",
     "output_type": "stream",
     "text": [
      "/home/ymentha/anaconda3/envs/ntds_2019/lib/python3.7/site-packages/scipy/sparse/linalg/dsolve/linsolve.py:193: MatrixRankWarning: Matrix is exactly singular\n",
      "  warn(\"Matrix is exactly singular\", MatrixRankWarning)\n"
     ]
    },
    {
     "name": "stdout",
     "output_type": "stream",
     "text": [
      " 150 / 640 combination\n",
      " 151 / 640 combination\n",
      " 152 / 640 combination\n",
      " 153 / 640 combination\n",
      " 154 / 640 combination\n"
     ]
    },
    {
     "name": "stderr",
     "output_type": "stream",
     "text": [
      "/home/ymentha/anaconda3/envs/ntds_2019/lib/python3.7/site-packages/scipy/sparse/linalg/dsolve/linsolve.py:193: MatrixRankWarning: Matrix is exactly singular\n",
      "  warn(\"Matrix is exactly singular\", MatrixRankWarning)\n"
     ]
    },
    {
     "name": "stdout",
     "output_type": "stream",
     "text": [
      " 155 / 640 combination\n",
      " 156 / 640 combination\n"
     ]
    },
    {
     "name": "stderr",
     "output_type": "stream",
     "text": [
      "/home/ymentha/anaconda3/envs/ntds_2019/lib/python3.7/site-packages/scipy/sparse/linalg/dsolve/linsolve.py:193: MatrixRankWarning: Matrix is exactly singular\n",
      "  warn(\"Matrix is exactly singular\", MatrixRankWarning)\n"
     ]
    },
    {
     "name": "stdout",
     "output_type": "stream",
     "text": [
      " 157 / 640 combination\n",
      " 158 / 640 combination\n",
      " 159 / 640 combination\n",
      " 160 / 640 combination\n"
     ]
    },
    {
     "name": "stderr",
     "output_type": "stream",
     "text": [
      "/home/ymentha/anaconda3/envs/ntds_2019/lib/python3.7/site-packages/scipy/sparse/linalg/dsolve/linsolve.py:193: MatrixRankWarning: Matrix is exactly singular\n",
      "  warn(\"Matrix is exactly singular\", MatrixRankWarning)\n"
     ]
    },
    {
     "name": "stdout",
     "output_type": "stream",
     "text": [
      " 161 / 640 combination\n",
      " 162 / 640 combination\n",
      " 163 / 640 combination\n",
      " 164 / 640 combination\n",
      " 165 / 640 combination\n",
      " 166 / 640 combination\n"
     ]
    },
    {
     "name": "stderr",
     "output_type": "stream",
     "text": [
      "/home/ymentha/anaconda3/envs/ntds_2019/lib/python3.7/site-packages/scipy/sparse/linalg/dsolve/linsolve.py:193: MatrixRankWarning: Matrix is exactly singular\n",
      "  warn(\"Matrix is exactly singular\", MatrixRankWarning)\n"
     ]
    },
    {
     "name": "stdout",
     "output_type": "stream",
     "text": [
      " 167 / 640 combination\n",
      " 168 / 640 combination\n"
     ]
    },
    {
     "name": "stderr",
     "output_type": "stream",
     "text": [
      "/home/ymentha/anaconda3/envs/ntds_2019/lib/python3.7/site-packages/scipy/sparse/linalg/dsolve/linsolve.py:193: MatrixRankWarning: Matrix is exactly singular\n",
      "  warn(\"Matrix is exactly singular\", MatrixRankWarning)\n"
     ]
    },
    {
     "name": "stdout",
     "output_type": "stream",
     "text": [
      " 169 / 640 combination\n",
      " 170 / 640 combination\n",
      " 171 / 640 combination\n",
      " 172 / 640 combination\n"
     ]
    },
    {
     "name": "stderr",
     "output_type": "stream",
     "text": [
      "/home/ymentha/anaconda3/envs/ntds_2019/lib/python3.7/site-packages/scipy/sparse/linalg/dsolve/linsolve.py:193: MatrixRankWarning: Matrix is exactly singular\n",
      "  warn(\"Matrix is exactly singular\", MatrixRankWarning)\n"
     ]
    },
    {
     "name": "stdout",
     "output_type": "stream",
     "text": [
      " 173 / 640 combination\n",
      " 174 / 640 combination\n",
      " 175 / 640 combination\n",
      " 176 / 640 combination\n"
     ]
    },
    {
     "name": "stderr",
     "output_type": "stream",
     "text": [
      "/home/ymentha/anaconda3/envs/ntds_2019/lib/python3.7/site-packages/scipy/sparse/linalg/dsolve/linsolve.py:193: MatrixRankWarning: Matrix is exactly singular\n",
      "  warn(\"Matrix is exactly singular\", MatrixRankWarning)\n"
     ]
    },
    {
     "name": "stdout",
     "output_type": "stream",
     "text": [
      " 177 / 640 combination\n",
      " 178 / 640 combination\n",
      " 179 / 640 combination\n",
      " 180 / 640 combination\n",
      " 181 / 640 combination\n"
     ]
    },
    {
     "name": "stderr",
     "output_type": "stream",
     "text": [
      "/home/ymentha/anaconda3/envs/ntds_2019/lib/python3.7/site-packages/scipy/sparse/linalg/dsolve/linsolve.py:193: MatrixRankWarning: Matrix is exactly singular\n",
      "  warn(\"Matrix is exactly singular\", MatrixRankWarning)\n"
     ]
    },
    {
     "name": "stdout",
     "output_type": "stream",
     "text": [
      " 182 / 640 combination\n",
      " 183 / 640 combination\n",
      " 184 / 640 combination\n",
      " 185 / 640 combination\n",
      " 186 / 640 combination\n"
     ]
    },
    {
     "name": "stderr",
     "output_type": "stream",
     "text": [
      "/home/ymentha/anaconda3/envs/ntds_2019/lib/python3.7/site-packages/scipy/sparse/linalg/dsolve/linsolve.py:193: MatrixRankWarning: Matrix is exactly singular\n",
      "  warn(\"Matrix is exactly singular\", MatrixRankWarning)\n"
     ]
    },
    {
     "name": "stdout",
     "output_type": "stream",
     "text": [
      " 187 / 640 combination\n",
      " 188 / 640 combination\n",
      " 189 / 640 combination\n"
     ]
    },
    {
     "name": "stderr",
     "output_type": "stream",
     "text": [
      "/home/ymentha/anaconda3/envs/ntds_2019/lib/python3.7/site-packages/scipy/sparse/linalg/dsolve/linsolve.py:193: MatrixRankWarning: Matrix is exactly singular\n",
      "  warn(\"Matrix is exactly singular\", MatrixRankWarning)\n"
     ]
    },
    {
     "name": "stdout",
     "output_type": "stream",
     "text": [
      " 190 / 640 combination\n",
      " 191 / 640 combination\n",
      " 192 / 640 combination\n",
      " 193 / 640 combination\n",
      " 194 / 640 combination\n"
     ]
    },
    {
     "name": "stderr",
     "output_type": "stream",
     "text": [
      "/home/ymentha/anaconda3/envs/ntds_2019/lib/python3.7/site-packages/scipy/sparse/linalg/dsolve/linsolve.py:193: MatrixRankWarning: Matrix is exactly singular\n",
      "  warn(\"Matrix is exactly singular\", MatrixRankWarning)\n"
     ]
    },
    {
     "name": "stdout",
     "output_type": "stream",
     "text": [
      " 195 / 640 combination\n",
      " 196 / 640 combination\n",
      " 197 / 640 combination\n"
     ]
    },
    {
     "name": "stderr",
     "output_type": "stream",
     "text": [
      "/home/ymentha/anaconda3/envs/ntds_2019/lib/python3.7/site-packages/scipy/sparse/linalg/dsolve/linsolve.py:193: MatrixRankWarning: Matrix is exactly singular\n",
      "  warn(\"Matrix is exactly singular\", MatrixRankWarning)\n"
     ]
    },
    {
     "name": "stdout",
     "output_type": "stream",
     "text": [
      " 198 / 640 combination\n",
      " 199 / 640 combination\n",
      " 200 / 640 combination\n",
      " 201 / 640 combination\n",
      " 202 / 640 combination\n",
      " 203 / 640 combination\n",
      " 204 / 640 combination\n",
      " 205 / 640 combination\n",
      " 206 / 640 combination\n",
      " 207 / 640 combination\n",
      " 208 / 640 combination\n",
      " 209 / 640 combination\n"
     ]
    },
    {
     "name": "stderr",
     "output_type": "stream",
     "text": [
      "/home/ymentha/anaconda3/envs/ntds_2019/lib/python3.7/site-packages/scipy/sparse/linalg/dsolve/linsolve.py:193: MatrixRankWarning: Matrix is exactly singular\n",
      "  warn(\"Matrix is exactly singular\", MatrixRankWarning)\n"
     ]
    },
    {
     "name": "stdout",
     "output_type": "stream",
     "text": [
      " 210 / 640 combination\n",
      " 211 / 640 combination\n",
      " 212 / 640 combination\n",
      " 213 / 640 combination\n",
      " 214 / 640 combination\n"
     ]
    },
    {
     "name": "stderr",
     "output_type": "stream",
     "text": [
      "/home/ymentha/anaconda3/envs/ntds_2019/lib/python3.7/site-packages/scipy/sparse/linalg/dsolve/linsolve.py:193: MatrixRankWarning: Matrix is exactly singular\n",
      "  warn(\"Matrix is exactly singular\", MatrixRankWarning)\n"
     ]
    },
    {
     "name": "stdout",
     "output_type": "stream",
     "text": [
      " 215 / 640 combination\n",
      " 216 / 640 combination\n"
     ]
    },
    {
     "name": "stderr",
     "output_type": "stream",
     "text": [
      "/home/ymentha/anaconda3/envs/ntds_2019/lib/python3.7/site-packages/scipy/sparse/linalg/dsolve/linsolve.py:193: MatrixRankWarning: Matrix is exactly singular\n",
      "  warn(\"Matrix is exactly singular\", MatrixRankWarning)\n"
     ]
    },
    {
     "name": "stdout",
     "output_type": "stream",
     "text": [
      " 217 / 640 combination\n",
      " 218 / 640 combination\n",
      " 219 / 640 combination\n",
      " 220 / 640 combination\n"
     ]
    },
    {
     "name": "stderr",
     "output_type": "stream",
     "text": [
      "/home/ymentha/anaconda3/envs/ntds_2019/lib/python3.7/site-packages/scipy/sparse/linalg/dsolve/linsolve.py:193: MatrixRankWarning: Matrix is exactly singular\n",
      "  warn(\"Matrix is exactly singular\", MatrixRankWarning)\n"
     ]
    },
    {
     "name": "stdout",
     "output_type": "stream",
     "text": [
      " 221 / 640 combination\n",
      " 222 / 640 combination\n",
      " 223 / 640 combination\n",
      " 224 / 640 combination\n"
     ]
    },
    {
     "name": "stderr",
     "output_type": "stream",
     "text": [
      "/home/ymentha/anaconda3/envs/ntds_2019/lib/python3.7/site-packages/scipy/sparse/linalg/dsolve/linsolve.py:193: MatrixRankWarning: Matrix is exactly singular\n",
      "  warn(\"Matrix is exactly singular\", MatrixRankWarning)\n"
     ]
    },
    {
     "name": "stdout",
     "output_type": "stream",
     "text": [
      " 225 / 640 combination\n",
      " 226 / 640 combination\n",
      " 227 / 640 combination\n",
      " 228 / 640 combination\n",
      " 229 / 640 combination\n"
     ]
    },
    {
     "name": "stderr",
     "output_type": "stream",
     "text": [
      "/home/ymentha/anaconda3/envs/ntds_2019/lib/python3.7/site-packages/scipy/sparse/linalg/dsolve/linsolve.py:193: MatrixRankWarning: Matrix is exactly singular\n",
      "  warn(\"Matrix is exactly singular\", MatrixRankWarning)\n"
     ]
    },
    {
     "name": "stdout",
     "output_type": "stream",
     "text": [
      " 230 / 640 combination\n",
      " 231 / 640 combination\n",
      " 232 / 640 combination\n",
      " 233 / 640 combination\n",
      " 234 / 640 combination\n"
     ]
    },
    {
     "name": "stderr",
     "output_type": "stream",
     "text": [
      "/home/ymentha/anaconda3/envs/ntds_2019/lib/python3.7/site-packages/scipy/sparse/linalg/dsolve/linsolve.py:193: MatrixRankWarning: Matrix is exactly singular\n",
      "  warn(\"Matrix is exactly singular\", MatrixRankWarning)\n"
     ]
    },
    {
     "name": "stdout",
     "output_type": "stream",
     "text": [
      " 235 / 640 combination\n",
      " 236 / 640 combination\n",
      " 237 / 640 combination\n"
     ]
    },
    {
     "name": "stderr",
     "output_type": "stream",
     "text": [
      "/home/ymentha/anaconda3/envs/ntds_2019/lib/python3.7/site-packages/scipy/sparse/linalg/dsolve/linsolve.py:193: MatrixRankWarning: Matrix is exactly singular\n",
      "  warn(\"Matrix is exactly singular\", MatrixRankWarning)\n"
     ]
    },
    {
     "name": "stdout",
     "output_type": "stream",
     "text": [
      " 238 / 640 combination\n",
      " 239 / 640 combination\n",
      " 240 / 640 combination\n",
      " 241 / 640 combination\n",
      " 242 / 640 combination\n",
      " 243 / 640 combination\n",
      " 244 / 640 combination\n",
      " 245 / 640 combination\n",
      " 246 / 640 combination\n",
      " 247 / 640 combination\n",
      " 248 / 640 combination\n",
      " 249 / 640 combination\n",
      " 250 / 640 combination\n",
      " 251 / 640 combination\n",
      " 252 / 640 combination\n",
      " 253 / 640 combination\n",
      " 254 / 640 combination\n",
      " 255 / 640 combination\n",
      " 256 / 640 combination\n"
     ]
    },
    {
     "name": "stderr",
     "output_type": "stream",
     "text": [
      "/home/ymentha/anaconda3/envs/ntds_2019/lib/python3.7/site-packages/scipy/sparse/linalg/dsolve/linsolve.py:193: MatrixRankWarning: Matrix is exactly singular\n",
      "  warn(\"Matrix is exactly singular\", MatrixRankWarning)\n"
     ]
    },
    {
     "name": "stdout",
     "output_type": "stream",
     "text": [
      " 257 / 640 combination\n",
      " 258 / 640 combination\n",
      " 259 / 640 combination\n",
      " 260 / 640 combination\n"
     ]
    },
    {
     "name": "stderr",
     "output_type": "stream",
     "text": [
      "/home/ymentha/anaconda3/envs/ntds_2019/lib/python3.7/site-packages/scipy/sparse/linalg/dsolve/linsolve.py:193: MatrixRankWarning: Matrix is exactly singular\n",
      "  warn(\"Matrix is exactly singular\", MatrixRankWarning)\n"
     ]
    },
    {
     "name": "stdout",
     "output_type": "stream",
     "text": [
      " 261 / 640 combination\n",
      " 262 / 640 combination\n",
      " 263 / 640 combination\n",
      " 264 / 640 combination\n",
      " 265 / 640 combination\n",
      " 266 / 640 combination\n"
     ]
    },
    {
     "name": "stderr",
     "output_type": "stream",
     "text": [
      "/home/ymentha/anaconda3/envs/ntds_2019/lib/python3.7/site-packages/scipy/sparse/linalg/dsolve/linsolve.py:193: MatrixRankWarning: Matrix is exactly singular\n",
      "  warn(\"Matrix is exactly singular\", MatrixRankWarning)\n"
     ]
    },
    {
     "name": "stdout",
     "output_type": "stream",
     "text": [
      " 267 / 640 combination\n",
      " 268 / 640 combination\n"
     ]
    },
    {
     "name": "stderr",
     "output_type": "stream",
     "text": [
      "/home/ymentha/anaconda3/envs/ntds_2019/lib/python3.7/site-packages/scipy/sparse/linalg/dsolve/linsolve.py:193: MatrixRankWarning: Matrix is exactly singular\n",
      "  warn(\"Matrix is exactly singular\", MatrixRankWarning)\n"
     ]
    },
    {
     "name": "stdout",
     "output_type": "stream",
     "text": [
      " 269 / 640 combination\n",
      " 270 / 640 combination\n",
      " 271 / 640 combination\n",
      " 272 / 640 combination\n"
     ]
    },
    {
     "name": "stderr",
     "output_type": "stream",
     "text": [
      "/home/ymentha/anaconda3/envs/ntds_2019/lib/python3.7/site-packages/scipy/sparse/linalg/dsolve/linsolve.py:193: MatrixRankWarning: Matrix is exactly singular\n",
      "  warn(\"Matrix is exactly singular\", MatrixRankWarning)\n"
     ]
    },
    {
     "name": "stdout",
     "output_type": "stream",
     "text": [
      " 273 / 640 combination\n",
      " 274 / 640 combination\n",
      " 275 / 640 combination\n",
      " 276 / 640 combination\n",
      " 277 / 640 combination\n"
     ]
    },
    {
     "name": "stderr",
     "output_type": "stream",
     "text": [
      "/home/ymentha/anaconda3/envs/ntds_2019/lib/python3.7/site-packages/scipy/sparse/linalg/dsolve/linsolve.py:193: MatrixRankWarning: Matrix is exactly singular\n",
      "  warn(\"Matrix is exactly singular\", MatrixRankWarning)\n"
     ]
    },
    {
     "name": "stdout",
     "output_type": "stream",
     "text": [
      " 278 / 640 combination\n",
      " 279 / 640 combination\n",
      " 280 / 640 combination\n",
      " 281 / 640 combination\n",
      " 282 / 640 combination\n",
      " 283 / 640 combination\n",
      " 284 / 640 combination\n",
      " 285 / 640 combination\n",
      " 286 / 640 combination\n",
      " 287 / 640 combination\n",
      " 288 / 640 combination\n",
      " 289 / 640 combination\n",
      " 290 / 640 combination\n",
      " 291 / 640 combination\n",
      " 292 / 640 combination\n",
      " 293 / 640 combination\n",
      " 294 / 640 combination\n",
      " 295 / 640 combination\n",
      " 296 / 640 combination\n",
      " 297 / 640 combination\n",
      " 298 / 640 combination\n",
      " 299 / 640 combination\n",
      " 300 / 640 combination\n",
      " 301 / 640 combination\n",
      " 302 / 640 combination\n",
      " 303 / 640 combination\n",
      " 304 / 640 combination\n",
      " 305 / 640 combination\n"
     ]
    },
    {
     "name": "stderr",
     "output_type": "stream",
     "text": [
      "/home/ymentha/anaconda3/envs/ntds_2019/lib/python3.7/site-packages/scipy/sparse/linalg/dsolve/linsolve.py:193: MatrixRankWarning: Matrix is exactly singular\n",
      "  warn(\"Matrix is exactly singular\", MatrixRankWarning)\n"
     ]
    },
    {
     "name": "stdout",
     "output_type": "stream",
     "text": [
      " 306 / 640 combination\n",
      " 307 / 640 combination\n",
      " 308 / 640 combination\n",
      " 309 / 640 combination\n",
      " 310 / 640 combination\n"
     ]
    },
    {
     "name": "stderr",
     "output_type": "stream",
     "text": [
      "/home/ymentha/anaconda3/envs/ntds_2019/lib/python3.7/site-packages/scipy/sparse/linalg/dsolve/linsolve.py:193: MatrixRankWarning: Matrix is exactly singular\n",
      "  warn(\"Matrix is exactly singular\", MatrixRankWarning)\n"
     ]
    },
    {
     "name": "stdout",
     "output_type": "stream",
     "text": [
      " 311 / 640 combination\n",
      " 312 / 640 combination\n",
      " 313 / 640 combination\n",
      " 314 / 640 combination\n"
     ]
    },
    {
     "name": "stderr",
     "output_type": "stream",
     "text": [
      "/home/ymentha/anaconda3/envs/ntds_2019/lib/python3.7/site-packages/scipy/sparse/linalg/dsolve/linsolve.py:193: MatrixRankWarning: Matrix is exactly singular\n",
      "  warn(\"Matrix is exactly singular\", MatrixRankWarning)\n"
     ]
    },
    {
     "name": "stdout",
     "output_type": "stream",
     "text": [
      " 315 / 640 combination\n",
      " 316 / 640 combination\n"
     ]
    },
    {
     "name": "stderr",
     "output_type": "stream",
     "text": [
      "/home/ymentha/anaconda3/envs/ntds_2019/lib/python3.7/site-packages/scipy/sparse/linalg/dsolve/linsolve.py:193: MatrixRankWarning: Matrix is exactly singular\n",
      "  warn(\"Matrix is exactly singular\", MatrixRankWarning)\n"
     ]
    },
    {
     "name": "stdout",
     "output_type": "stream",
     "text": [
      " 317 / 640 combination\n",
      " 318 / 640 combination\n",
      " 319 / 640 combination\n",
      " 320 / 640 combination\n"
     ]
    },
    {
     "name": "stderr",
     "output_type": "stream",
     "text": [
      "/home/ymentha/anaconda3/envs/ntds_2019/lib/python3.7/site-packages/scipy/sparse/linalg/dsolve/linsolve.py:193: MatrixRankWarning: Matrix is exactly singular\n",
      "  warn(\"Matrix is exactly singular\", MatrixRankWarning)\n"
     ]
    },
    {
     "name": "stdout",
     "output_type": "stream",
     "text": [
      " 321 / 640 combination\n",
      " 322 / 640 combination\n",
      " 323 / 640 combination\n",
      " 324 / 640 combination\n",
      " 325 / 640 combination\n",
      " 326 / 640 combination\n"
     ]
    },
    {
     "name": "stderr",
     "output_type": "stream",
     "text": [
      "/home/ymentha/anaconda3/envs/ntds_2019/lib/python3.7/site-packages/scipy/sparse/linalg/dsolve/linsolve.py:193: MatrixRankWarning: Matrix is exactly singular\n",
      "  warn(\"Matrix is exactly singular\", MatrixRankWarning)\n"
     ]
    },
    {
     "name": "stdout",
     "output_type": "stream",
     "text": [
      " 327 / 640 combination\n",
      " 328 / 640 combination\n"
     ]
    },
    {
     "name": "stderr",
     "output_type": "stream",
     "text": [
      "/home/ymentha/anaconda3/envs/ntds_2019/lib/python3.7/site-packages/scipy/sparse/linalg/dsolve/linsolve.py:193: MatrixRankWarning: Matrix is exactly singular\n",
      "  warn(\"Matrix is exactly singular\", MatrixRankWarning)\n"
     ]
    },
    {
     "name": "stdout",
     "output_type": "stream",
     "text": [
      " 329 / 640 combination\n",
      " 330 / 640 combination\n",
      " 331 / 640 combination\n",
      " 332 / 640 combination\n"
     ]
    },
    {
     "name": "stderr",
     "output_type": "stream",
     "text": [
      "/home/ymentha/anaconda3/envs/ntds_2019/lib/python3.7/site-packages/scipy/sparse/linalg/dsolve/linsolve.py:193: MatrixRankWarning: Matrix is exactly singular\n",
      "  warn(\"Matrix is exactly singular\", MatrixRankWarning)\n"
     ]
    },
    {
     "name": "stdout",
     "output_type": "stream",
     "text": [
      " 333 / 640 combination\n",
      " 334 / 640 combination\n",
      " 335 / 640 combination\n",
      " 336 / 640 combination\n"
     ]
    },
    {
     "name": "stderr",
     "output_type": "stream",
     "text": [
      "/home/ymentha/anaconda3/envs/ntds_2019/lib/python3.7/site-packages/scipy/sparse/linalg/dsolve/linsolve.py:193: MatrixRankWarning: Matrix is exactly singular\n",
      "  warn(\"Matrix is exactly singular\", MatrixRankWarning)\n"
     ]
    },
    {
     "name": "stdout",
     "output_type": "stream",
     "text": [
      " 337 / 640 combination\n",
      " 338 / 640 combination\n",
      " 339 / 640 combination\n",
      " 340 / 640 combination\n",
      " 341 / 640 combination\n"
     ]
    },
    {
     "name": "stderr",
     "output_type": "stream",
     "text": [
      "/home/ymentha/anaconda3/envs/ntds_2019/lib/python3.7/site-packages/scipy/sparse/linalg/dsolve/linsolve.py:193: MatrixRankWarning: Matrix is exactly singular\n",
      "  warn(\"Matrix is exactly singular\", MatrixRankWarning)\n"
     ]
    },
    {
     "name": "stdout",
     "output_type": "stream",
     "text": [
      " 342 / 640 combination\n",
      " 343 / 640 combination\n",
      " 344 / 640 combination\n",
      " 345 / 640 combination\n",
      " 346 / 640 combination\n"
     ]
    },
    {
     "name": "stderr",
     "output_type": "stream",
     "text": [
      "/home/ymentha/anaconda3/envs/ntds_2019/lib/python3.7/site-packages/scipy/sparse/linalg/dsolve/linsolve.py:193: MatrixRankWarning: Matrix is exactly singular\n",
      "  warn(\"Matrix is exactly singular\", MatrixRankWarning)\n"
     ]
    },
    {
     "name": "stdout",
     "output_type": "stream",
     "text": [
      " 347 / 640 combination\n",
      " 348 / 640 combination\n",
      " 349 / 640 combination\n"
     ]
    },
    {
     "name": "stderr",
     "output_type": "stream",
     "text": [
      "/home/ymentha/anaconda3/envs/ntds_2019/lib/python3.7/site-packages/scipy/sparse/linalg/dsolve/linsolve.py:193: MatrixRankWarning: Matrix is exactly singular\n",
      "  warn(\"Matrix is exactly singular\", MatrixRankWarning)\n"
     ]
    },
    {
     "name": "stdout",
     "output_type": "stream",
     "text": [
      " 350 / 640 combination\n",
      " 351 / 640 combination\n",
      " 352 / 640 combination\n",
      " 353 / 640 combination\n",
      " 354 / 640 combination\n"
     ]
    },
    {
     "name": "stderr",
     "output_type": "stream",
     "text": [
      "/home/ymentha/anaconda3/envs/ntds_2019/lib/python3.7/site-packages/scipy/sparse/linalg/dsolve/linsolve.py:193: MatrixRankWarning: Matrix is exactly singular\n",
      "  warn(\"Matrix is exactly singular\", MatrixRankWarning)\n"
     ]
    },
    {
     "name": "stdout",
     "output_type": "stream",
     "text": [
      " 355 / 640 combination\n",
      " 356 / 640 combination\n",
      " 357 / 640 combination\n"
     ]
    },
    {
     "name": "stderr",
     "output_type": "stream",
     "text": [
      "/home/ymentha/anaconda3/envs/ntds_2019/lib/python3.7/site-packages/scipy/sparse/linalg/dsolve/linsolve.py:193: MatrixRankWarning: Matrix is exactly singular\n",
      "  warn(\"Matrix is exactly singular\", MatrixRankWarning)\n"
     ]
    },
    {
     "name": "stdout",
     "output_type": "stream",
     "text": [
      " 358 / 640 combination\n",
      " 359 / 640 combination\n",
      " 360 / 640 combination\n",
      " 361 / 640 combination\n",
      " 362 / 640 combination\n",
      " 363 / 640 combination\n",
      " 364 / 640 combination\n",
      " 365 / 640 combination\n",
      " 366 / 640 combination\n",
      " 367 / 640 combination\n",
      " 368 / 640 combination\n"
     ]
    },
    {
     "name": "stderr",
     "output_type": "stream",
     "text": [
      "/home/ymentha/anaconda3/envs/ntds_2019/lib/python3.7/site-packages/scipy/sparse/linalg/dsolve/linsolve.py:193: MatrixRankWarning: Matrix is exactly singular\n",
      "  warn(\"Matrix is exactly singular\", MatrixRankWarning)\n"
     ]
    },
    {
     "name": "stdout",
     "output_type": "stream",
     "text": [
      " 369 / 640 combination\n",
      " 370 / 640 combination\n",
      " 371 / 640 combination\n",
      " 372 / 640 combination\n",
      " 373 / 640 combination\n",
      " 374 / 640 combination\n"
     ]
    },
    {
     "name": "stderr",
     "output_type": "stream",
     "text": [
      "/home/ymentha/anaconda3/envs/ntds_2019/lib/python3.7/site-packages/scipy/sparse/linalg/dsolve/linsolve.py:193: MatrixRankWarning: Matrix is exactly singular\n",
      "  warn(\"Matrix is exactly singular\", MatrixRankWarning)\n"
     ]
    },
    {
     "name": "stdout",
     "output_type": "stream",
     "text": [
      " 375 / 640 combination\n",
      " 376 / 640 combination\n",
      " 377 / 640 combination\n",
      " 378 / 640 combination\n"
     ]
    },
    {
     "name": "stderr",
     "output_type": "stream",
     "text": [
      "/home/ymentha/anaconda3/envs/ntds_2019/lib/python3.7/site-packages/scipy/sparse/linalg/dsolve/linsolve.py:193: MatrixRankWarning: Matrix is exactly singular\n",
      "  warn(\"Matrix is exactly singular\", MatrixRankWarning)\n"
     ]
    },
    {
     "name": "stdout",
     "output_type": "stream",
     "text": [
      " 379 / 640 combination\n",
      " 380 / 640 combination\n"
     ]
    },
    {
     "name": "stderr",
     "output_type": "stream",
     "text": [
      "/home/ymentha/anaconda3/envs/ntds_2019/lib/python3.7/site-packages/scipy/sparse/linalg/dsolve/linsolve.py:193: MatrixRankWarning: Matrix is exactly singular\n",
      "  warn(\"Matrix is exactly singular\", MatrixRankWarning)\n"
     ]
    },
    {
     "name": "stdout",
     "output_type": "stream",
     "text": [
      " 381 / 640 combination\n",
      " 382 / 640 combination\n",
      " 383 / 640 combination\n",
      " 384 / 640 combination\n"
     ]
    },
    {
     "name": "stderr",
     "output_type": "stream",
     "text": [
      "/home/ymentha/anaconda3/envs/ntds_2019/lib/python3.7/site-packages/scipy/sparse/linalg/dsolve/linsolve.py:193: MatrixRankWarning: Matrix is exactly singular\n",
      "  warn(\"Matrix is exactly singular\", MatrixRankWarning)\n"
     ]
    },
    {
     "name": "stdout",
     "output_type": "stream",
     "text": [
      " 385 / 640 combination\n",
      " 386 / 640 combination\n",
      " 387 / 640 combination\n",
      " 388 / 640 combination\n",
      " 389 / 640 combination\n"
     ]
    },
    {
     "name": "stderr",
     "output_type": "stream",
     "text": [
      "/home/ymentha/anaconda3/envs/ntds_2019/lib/python3.7/site-packages/scipy/sparse/linalg/dsolve/linsolve.py:193: MatrixRankWarning: Matrix is exactly singular\n",
      "  warn(\"Matrix is exactly singular\", MatrixRankWarning)\n"
     ]
    },
    {
     "name": "stdout",
     "output_type": "stream",
     "text": [
      " 390 / 640 combination\n",
      " 391 / 640 combination\n",
      " 392 / 640 combination\n",
      " 393 / 640 combination\n",
      " 394 / 640 combination\n"
     ]
    },
    {
     "name": "stderr",
     "output_type": "stream",
     "text": [
      "/home/ymentha/anaconda3/envs/ntds_2019/lib/python3.7/site-packages/scipy/sparse/linalg/dsolve/linsolve.py:193: MatrixRankWarning: Matrix is exactly singular\n",
      "  warn(\"Matrix is exactly singular\", MatrixRankWarning)\n"
     ]
    },
    {
     "name": "stdout",
     "output_type": "stream",
     "text": [
      " 395 / 640 combination\n",
      " 396 / 640 combination\n",
      " 397 / 640 combination\n"
     ]
    },
    {
     "name": "stderr",
     "output_type": "stream",
     "text": [
      "/home/ymentha/anaconda3/envs/ntds_2019/lib/python3.7/site-packages/scipy/sparse/linalg/dsolve/linsolve.py:193: MatrixRankWarning: Matrix is exactly singular\n",
      "  warn(\"Matrix is exactly singular\", MatrixRankWarning)\n"
     ]
    },
    {
     "name": "stdout",
     "output_type": "stream",
     "text": [
      " 398 / 640 combination\n",
      " 399 / 640 combination\n",
      " 400 / 640 combination\n",
      " 401 / 640 combination\n",
      " 402 / 640 combination\n",
      " 403 / 640 combination\n",
      " 404 / 640 combination\n",
      " 405 / 640 combination\n",
      " 406 / 640 combination\n",
      " 407 / 640 combination\n",
      " 408 / 640 combination\n",
      " 409 / 640 combination\n",
      " 410 / 640 combination\n",
      " 411 / 640 combination\n",
      " 412 / 640 combination\n",
      " 413 / 640 combination\n",
      " 414 / 640 combination\n",
      " 415 / 640 combination\n",
      " 416 / 640 combination\n",
      " 417 / 640 combination\n"
     ]
    },
    {
     "name": "stderr",
     "output_type": "stream",
     "text": [
      "/home/ymentha/anaconda3/envs/ntds_2019/lib/python3.7/site-packages/scipy/sparse/linalg/dsolve/linsolve.py:193: MatrixRankWarning: Matrix is exactly singular\n",
      "  warn(\"Matrix is exactly singular\", MatrixRankWarning)\n"
     ]
    },
    {
     "name": "stdout",
     "output_type": "stream",
     "text": [
      " 418 / 640 combination\n",
      " 419 / 640 combination\n",
      " 420 / 640 combination\n",
      " 421 / 640 combination\n",
      " 422 / 640 combination\n"
     ]
    },
    {
     "name": "stderr",
     "output_type": "stream",
     "text": [
      "/home/ymentha/anaconda3/envs/ntds_2019/lib/python3.7/site-packages/scipy/sparse/linalg/dsolve/linsolve.py:193: MatrixRankWarning: Matrix is exactly singular\n",
      "  warn(\"Matrix is exactly singular\", MatrixRankWarning)\n"
     ]
    },
    {
     "name": "stdout",
     "output_type": "stream",
     "text": [
      " 423 / 640 combination\n",
      " 424 / 640 combination\n",
      " 425 / 640 combination\n",
      " 426 / 640 combination\n"
     ]
    },
    {
     "name": "stderr",
     "output_type": "stream",
     "text": [
      "/home/ymentha/anaconda3/envs/ntds_2019/lib/python3.7/site-packages/scipy/sparse/linalg/dsolve/linsolve.py:193: MatrixRankWarning: Matrix is exactly singular\n",
      "  warn(\"Matrix is exactly singular\", MatrixRankWarning)\n"
     ]
    },
    {
     "name": "stdout",
     "output_type": "stream",
     "text": [
      " 427 / 640 combination\n",
      " 428 / 640 combination\n"
     ]
    },
    {
     "name": "stderr",
     "output_type": "stream",
     "text": [
      "/home/ymentha/anaconda3/envs/ntds_2019/lib/python3.7/site-packages/scipy/sparse/linalg/dsolve/linsolve.py:193: MatrixRankWarning: Matrix is exactly singular\n",
      "  warn(\"Matrix is exactly singular\", MatrixRankWarning)\n"
     ]
    },
    {
     "name": "stdout",
     "output_type": "stream",
     "text": [
      " 429 / 640 combination\n",
      " 430 / 640 combination\n",
      " 431 / 640 combination\n",
      " 432 / 640 combination\n"
     ]
    },
    {
     "name": "stderr",
     "output_type": "stream",
     "text": [
      "/home/ymentha/anaconda3/envs/ntds_2019/lib/python3.7/site-packages/scipy/sparse/linalg/dsolve/linsolve.py:193: MatrixRankWarning: Matrix is exactly singular\n",
      "  warn(\"Matrix is exactly singular\", MatrixRankWarning)\n"
     ]
    },
    {
     "name": "stdout",
     "output_type": "stream",
     "text": [
      " 433 / 640 combination\n",
      " 434 / 640 combination\n",
      " 435 / 640 combination\n",
      " 436 / 640 combination\n",
      " 437 / 640 combination\n"
     ]
    },
    {
     "name": "stderr",
     "output_type": "stream",
     "text": [
      "/home/ymentha/anaconda3/envs/ntds_2019/lib/python3.7/site-packages/scipy/sparse/linalg/dsolve/linsolve.py:193: MatrixRankWarning: Matrix is exactly singular\n",
      "  warn(\"Matrix is exactly singular\", MatrixRankWarning)\n"
     ]
    },
    {
     "name": "stdout",
     "output_type": "stream",
     "text": [
      " 438 / 640 combination\n",
      " 439 / 640 combination\n",
      " 440 / 640 combination\n",
      " 441 / 640 combination\n",
      " 442 / 640 combination\n",
      " 443 / 640 combination\n",
      " 444 / 640 combination\n",
      " 445 / 640 combination\n",
      " 446 / 640 combination\n",
      " 447 / 640 combination\n",
      " 448 / 640 combination\n",
      " 449 / 640 combination\n",
      " 450 / 640 combination\n",
      " 451 / 640 combination\n",
      " 452 / 640 combination\n",
      " 453 / 640 combination\n",
      " 454 / 640 combination\n",
      " 455 / 640 combination\n",
      " 456 / 640 combination\n",
      " 457 / 640 combination\n",
      " 458 / 640 combination\n",
      " 459 / 640 combination\n",
      " 460 / 640 combination\n",
      " 461 / 640 combination\n",
      " 462 / 640 combination\n",
      " 463 / 640 combination\n",
      " 464 / 640 combination\n",
      " 465 / 640 combination\n"
     ]
    },
    {
     "name": "stderr",
     "output_type": "stream",
     "text": [
      "/home/ymentha/anaconda3/envs/ntds_2019/lib/python3.7/site-packages/scipy/sparse/linalg/dsolve/linsolve.py:193: MatrixRankWarning: Matrix is exactly singular\n",
      "  warn(\"Matrix is exactly singular\", MatrixRankWarning)\n"
     ]
    },
    {
     "name": "stdout",
     "output_type": "stream",
     "text": [
      " 466 / 640 combination\n",
      " 467 / 640 combination\n",
      " 468 / 640 combination\n",
      " 469 / 640 combination\n",
      " 470 / 640 combination\n"
     ]
    },
    {
     "name": "stderr",
     "output_type": "stream",
     "text": [
      "/home/ymentha/anaconda3/envs/ntds_2019/lib/python3.7/site-packages/scipy/sparse/linalg/dsolve/linsolve.py:193: MatrixRankWarning: Matrix is exactly singular\n",
      "  warn(\"Matrix is exactly singular\", MatrixRankWarning)\n"
     ]
    },
    {
     "name": "stdout",
     "output_type": "stream",
     "text": [
      " 471 / 640 combination\n",
      " 472 / 640 combination\n",
      " 473 / 640 combination\n",
      " 474 / 640 combination\n"
     ]
    },
    {
     "name": "stderr",
     "output_type": "stream",
     "text": [
      "/home/ymentha/anaconda3/envs/ntds_2019/lib/python3.7/site-packages/scipy/sparse/linalg/dsolve/linsolve.py:193: MatrixRankWarning: Matrix is exactly singular\n",
      "  warn(\"Matrix is exactly singular\", MatrixRankWarning)\n"
     ]
    },
    {
     "name": "stdout",
     "output_type": "stream",
     "text": [
      " 475 / 640 combination\n",
      " 476 / 640 combination\n"
     ]
    },
    {
     "name": "stderr",
     "output_type": "stream",
     "text": [
      "/home/ymentha/anaconda3/envs/ntds_2019/lib/python3.7/site-packages/scipy/sparse/linalg/dsolve/linsolve.py:193: MatrixRankWarning: Matrix is exactly singular\n",
      "  warn(\"Matrix is exactly singular\", MatrixRankWarning)\n"
     ]
    },
    {
     "name": "stdout",
     "output_type": "stream",
     "text": [
      " 477 / 640 combination\n",
      " 478 / 640 combination\n",
      " 479 / 640 combination\n",
      " 480 / 640 combination\n"
     ]
    },
    {
     "name": "stderr",
     "output_type": "stream",
     "text": [
      "/home/ymentha/anaconda3/envs/ntds_2019/lib/python3.7/site-packages/scipy/sparse/linalg/dsolve/linsolve.py:193: MatrixRankWarning: Matrix is exactly singular\n",
      "  warn(\"Matrix is exactly singular\", MatrixRankWarning)\n"
     ]
    },
    {
     "name": "stdout",
     "output_type": "stream",
     "text": [
      " 481 / 640 combination\n",
      " 482 / 640 combination\n",
      " 483 / 640 combination\n",
      " 484 / 640 combination\n",
      " 485 / 640 combination\n",
      " 486 / 640 combination\n"
     ]
    },
    {
     "name": "stderr",
     "output_type": "stream",
     "text": [
      "/home/ymentha/anaconda3/envs/ntds_2019/lib/python3.7/site-packages/scipy/sparse/linalg/dsolve/linsolve.py:193: MatrixRankWarning: Matrix is exactly singular\n",
      "  warn(\"Matrix is exactly singular\", MatrixRankWarning)\n"
     ]
    },
    {
     "name": "stdout",
     "output_type": "stream",
     "text": [
      " 487 / 640 combination\n",
      " 488 / 640 combination\n"
     ]
    },
    {
     "name": "stderr",
     "output_type": "stream",
     "text": [
      "/home/ymentha/anaconda3/envs/ntds_2019/lib/python3.7/site-packages/scipy/sparse/linalg/dsolve/linsolve.py:193: MatrixRankWarning: Matrix is exactly singular\n",
      "  warn(\"Matrix is exactly singular\", MatrixRankWarning)\n"
     ]
    },
    {
     "name": "stdout",
     "output_type": "stream",
     "text": [
      " 489 / 640 combination\n",
      " 490 / 640 combination\n",
      " 491 / 640 combination\n",
      " 492 / 640 combination\n"
     ]
    },
    {
     "name": "stderr",
     "output_type": "stream",
     "text": [
      "/home/ymentha/anaconda3/envs/ntds_2019/lib/python3.7/site-packages/scipy/sparse/linalg/dsolve/linsolve.py:193: MatrixRankWarning: Matrix is exactly singular\n",
      "  warn(\"Matrix is exactly singular\", MatrixRankWarning)\n"
     ]
    },
    {
     "name": "stdout",
     "output_type": "stream",
     "text": [
      " 493 / 640 combination\n",
      " 494 / 640 combination\n",
      " 495 / 640 combination\n",
      " 496 / 640 combination\n",
      " 497 / 640 combination\n"
     ]
    },
    {
     "name": "stderr",
     "output_type": "stream",
     "text": [
      "/home/ymentha/anaconda3/envs/ntds_2019/lib/python3.7/site-packages/scipy/sparse/linalg/dsolve/linsolve.py:193: MatrixRankWarning: Matrix is exactly singular\n",
      "  warn(\"Matrix is exactly singular\", MatrixRankWarning)\n"
     ]
    },
    {
     "name": "stdout",
     "output_type": "stream",
     "text": [
      " 498 / 640 combination\n",
      " 499 / 640 combination\n",
      " 500 / 640 combination\n",
      " 501 / 640 combination\n",
      " 502 / 640 combination\n"
     ]
    },
    {
     "name": "stderr",
     "output_type": "stream",
     "text": [
      "/home/ymentha/anaconda3/envs/ntds_2019/lib/python3.7/site-packages/scipy/sparse/linalg/dsolve/linsolve.py:193: MatrixRankWarning: Matrix is exactly singular\n",
      "  warn(\"Matrix is exactly singular\", MatrixRankWarning)\n"
     ]
    },
    {
     "name": "stdout",
     "output_type": "stream",
     "text": [
      " 503 / 640 combination\n",
      " 504 / 640 combination\n"
     ]
    },
    {
     "name": "stderr",
     "output_type": "stream",
     "text": [
      "/home/ymentha/anaconda3/envs/ntds_2019/lib/python3.7/site-packages/scipy/sparse/linalg/dsolve/linsolve.py:193: MatrixRankWarning: Matrix is exactly singular\n",
      "  warn(\"Matrix is exactly singular\", MatrixRankWarning)\n"
     ]
    },
    {
     "name": "stdout",
     "output_type": "stream",
     "text": [
      " 505 / 640 combination\n",
      " 506 / 640 combination\n",
      " 507 / 640 combination\n",
      " 508 / 640 combination\n",
      " 509 / 640 combination\n"
     ]
    },
    {
     "name": "stderr",
     "output_type": "stream",
     "text": [
      "/home/ymentha/anaconda3/envs/ntds_2019/lib/python3.7/site-packages/scipy/sparse/linalg/dsolve/linsolve.py:193: MatrixRankWarning: Matrix is exactly singular\n",
      "  warn(\"Matrix is exactly singular\", MatrixRankWarning)\n"
     ]
    },
    {
     "name": "stdout",
     "output_type": "stream",
     "text": [
      " 510 / 640 combination\n",
      " 511 / 640 combination\n",
      " 512 / 640 combination\n",
      " 513 / 640 combination\n",
      " 514 / 640 combination\n"
     ]
    },
    {
     "name": "stderr",
     "output_type": "stream",
     "text": [
      "/home/ymentha/anaconda3/envs/ntds_2019/lib/python3.7/site-packages/scipy/sparse/linalg/dsolve/linsolve.py:193: MatrixRankWarning: Matrix is exactly singular\n",
      "  warn(\"Matrix is exactly singular\", MatrixRankWarning)\n"
     ]
    },
    {
     "name": "stdout",
     "output_type": "stream",
     "text": [
      " 515 / 640 combination\n",
      " 516 / 640 combination\n",
      " 517 / 640 combination\n"
     ]
    },
    {
     "name": "stderr",
     "output_type": "stream",
     "text": [
      "/home/ymentha/anaconda3/envs/ntds_2019/lib/python3.7/site-packages/scipy/sparse/linalg/dsolve/linsolve.py:193: MatrixRankWarning: Matrix is exactly singular\n",
      "  warn(\"Matrix is exactly singular\", MatrixRankWarning)\n"
     ]
    },
    {
     "name": "stdout",
     "output_type": "stream",
     "text": [
      " 518 / 640 combination\n",
      " 519 / 640 combination\n",
      " 520 / 640 combination\n",
      " 521 / 640 combination\n",
      " 522 / 640 combination\n",
      " 523 / 640 combination\n",
      " 524 / 640 combination\n",
      " 525 / 640 combination\n",
      " 526 / 640 combination\n",
      " 527 / 640 combination\n",
      " 528 / 640 combination\n",
      " 529 / 640 combination\n"
     ]
    },
    {
     "name": "stderr",
     "output_type": "stream",
     "text": [
      "/home/ymentha/anaconda3/envs/ntds_2019/lib/python3.7/site-packages/scipy/sparse/linalg/dsolve/linsolve.py:193: MatrixRankWarning: Matrix is exactly singular\n",
      "  warn(\"Matrix is exactly singular\", MatrixRankWarning)\n"
     ]
    },
    {
     "name": "stdout",
     "output_type": "stream",
     "text": [
      " 530 / 640 combination\n",
      " 531 / 640 combination\n",
      " 532 / 640 combination\n",
      " 533 / 640 combination\n",
      " 534 / 640 combination\n"
     ]
    },
    {
     "name": "stderr",
     "output_type": "stream",
     "text": [
      "/home/ymentha/anaconda3/envs/ntds_2019/lib/python3.7/site-packages/scipy/sparse/linalg/dsolve/linsolve.py:193: MatrixRankWarning: Matrix is exactly singular\n",
      "  warn(\"Matrix is exactly singular\", MatrixRankWarning)\n"
     ]
    },
    {
     "name": "stdout",
     "output_type": "stream",
     "text": [
      " 535 / 640 combination\n",
      " 536 / 640 combination\n",
      " 537 / 640 combination\n",
      " 538 / 640 combination\n"
     ]
    },
    {
     "name": "stderr",
     "output_type": "stream",
     "text": [
      "/home/ymentha/anaconda3/envs/ntds_2019/lib/python3.7/site-packages/scipy/sparse/linalg/dsolve/linsolve.py:193: MatrixRankWarning: Matrix is exactly singular\n",
      "  warn(\"Matrix is exactly singular\", MatrixRankWarning)\n"
     ]
    },
    {
     "name": "stdout",
     "output_type": "stream",
     "text": [
      " 539 / 640 combination\n",
      " 540 / 640 combination\n"
     ]
    },
    {
     "name": "stderr",
     "output_type": "stream",
     "text": [
      "/home/ymentha/anaconda3/envs/ntds_2019/lib/python3.7/site-packages/scipy/sparse/linalg/dsolve/linsolve.py:193: MatrixRankWarning: Matrix is exactly singular\n",
      "  warn(\"Matrix is exactly singular\", MatrixRankWarning)\n"
     ]
    },
    {
     "name": "stdout",
     "output_type": "stream",
     "text": [
      " 541 / 640 combination\n",
      " 542 / 640 combination\n",
      " 543 / 640 combination\n",
      " 544 / 640 combination\n",
      " 545 / 640 combination\n"
     ]
    },
    {
     "name": "stderr",
     "output_type": "stream",
     "text": [
      "/home/ymentha/anaconda3/envs/ntds_2019/lib/python3.7/site-packages/scipy/sparse/linalg/dsolve/linsolve.py:193: MatrixRankWarning: Matrix is exactly singular\n",
      "  warn(\"Matrix is exactly singular\", MatrixRankWarning)\n"
     ]
    },
    {
     "name": "stdout",
     "output_type": "stream",
     "text": [
      " 546 / 640 combination\n",
      " 547 / 640 combination\n",
      " 548 / 640 combination\n",
      " 549 / 640 combination\n"
     ]
    },
    {
     "name": "stderr",
     "output_type": "stream",
     "text": [
      "/home/ymentha/anaconda3/envs/ntds_2019/lib/python3.7/site-packages/scipy/sparse/linalg/dsolve/linsolve.py:193: MatrixRankWarning: Matrix is exactly singular\n",
      "  warn(\"Matrix is exactly singular\", MatrixRankWarning)\n"
     ]
    },
    {
     "name": "stdout",
     "output_type": "stream",
     "text": [
      " 550 / 640 combination\n",
      " 551 / 640 combination\n",
      " 552 / 640 combination\n",
      " 553 / 640 combination\n"
     ]
    },
    {
     "name": "stderr",
     "output_type": "stream",
     "text": [
      "/home/ymentha/anaconda3/envs/ntds_2019/lib/python3.7/site-packages/scipy/sparse/linalg/dsolve/linsolve.py:193: MatrixRankWarning: Matrix is exactly singular\n",
      "  warn(\"Matrix is exactly singular\", MatrixRankWarning)\n"
     ]
    },
    {
     "name": "stdout",
     "output_type": "stream",
     "text": [
      " 554 / 640 combination\n",
      " 555 / 640 combination\n",
      " 556 / 640 combination\n",
      " 557 / 640 combination\n"
     ]
    },
    {
     "name": "stderr",
     "output_type": "stream",
     "text": [
      "/home/ymentha/anaconda3/envs/ntds_2019/lib/python3.7/site-packages/scipy/sparse/linalg/dsolve/linsolve.py:193: MatrixRankWarning: Matrix is exactly singular\n",
      "  warn(\"Matrix is exactly singular\", MatrixRankWarning)\n"
     ]
    },
    {
     "name": "stdout",
     "output_type": "stream",
     "text": [
      " 558 / 640 combination\n",
      " 559 / 640 combination\n",
      " 560 / 640 combination\n",
      " 561 / 640 combination\n",
      " 562 / 640 combination\n",
      " 563 / 640 combination\n",
      " 564 / 640 combination\n",
      " 565 / 640 combination\n",
      " 566 / 640 combination\n",
      " 567 / 640 combination\n",
      " 568 / 640 combination\n",
      " 569 / 640 combination\n",
      " 570 / 640 combination\n",
      " 571 / 640 combination\n",
      " 572 / 640 combination\n",
      " 573 / 640 combination\n",
      " 574 / 640 combination\n",
      " 575 / 640 combination\n",
      " 576 / 640 combination\n",
      " 577 / 640 combination\n"
     ]
    },
    {
     "name": "stderr",
     "output_type": "stream",
     "text": [
      "/home/ymentha/anaconda3/envs/ntds_2019/lib/python3.7/site-packages/scipy/sparse/linalg/dsolve/linsolve.py:193: MatrixRankWarning: Matrix is exactly singular\n",
      "  warn(\"Matrix is exactly singular\", MatrixRankWarning)\n"
     ]
    },
    {
     "name": "stdout",
     "output_type": "stream",
     "text": [
      " 578 / 640 combination\n",
      " 579 / 640 combination\n",
      " 580 / 640 combination\n",
      " 581 / 640 combination\n"
     ]
    },
    {
     "name": "stderr",
     "output_type": "stream",
     "text": [
      "/home/ymentha/anaconda3/envs/ntds_2019/lib/python3.7/site-packages/scipy/sparse/linalg/dsolve/linsolve.py:193: MatrixRankWarning: Matrix is exactly singular\n",
      "  warn(\"Matrix is exactly singular\", MatrixRankWarning)\n"
     ]
    },
    {
     "name": "stdout",
     "output_type": "stream",
     "text": [
      " 582 / 640 combination\n",
      " 583 / 640 combination\n",
      " 584 / 640 combination\n",
      " 585 / 640 combination\n"
     ]
    },
    {
     "name": "stderr",
     "output_type": "stream",
     "text": [
      "/home/ymentha/anaconda3/envs/ntds_2019/lib/python3.7/site-packages/scipy/sparse/linalg/dsolve/linsolve.py:193: MatrixRankWarning: Matrix is exactly singular\n",
      "  warn(\"Matrix is exactly singular\", MatrixRankWarning)\n"
     ]
    },
    {
     "name": "stdout",
     "output_type": "stream",
     "text": [
      " 586 / 640 combination\n",
      " 587 / 640 combination\n",
      " 588 / 640 combination\n",
      " 589 / 640 combination\n"
     ]
    },
    {
     "name": "stderr",
     "output_type": "stream",
     "text": [
      "/home/ymentha/anaconda3/envs/ntds_2019/lib/python3.7/site-packages/scipy/sparse/linalg/dsolve/linsolve.py:193: MatrixRankWarning: Matrix is exactly singular\n",
      "  warn(\"Matrix is exactly singular\", MatrixRankWarning)\n"
     ]
    },
    {
     "name": "stdout",
     "output_type": "stream",
     "text": [
      " 590 / 640 combination\n",
      " 591 / 640 combination\n",
      " 592 / 640 combination\n",
      " 593 / 640 combination\n"
     ]
    },
    {
     "name": "stderr",
     "output_type": "stream",
     "text": [
      "/home/ymentha/anaconda3/envs/ntds_2019/lib/python3.7/site-packages/scipy/sparse/linalg/dsolve/linsolve.py:193: MatrixRankWarning: Matrix is exactly singular\n",
      "  warn(\"Matrix is exactly singular\", MatrixRankWarning)\n"
     ]
    },
    {
     "name": "stdout",
     "output_type": "stream",
     "text": [
      " 594 / 640 combination\n",
      " 595 / 640 combination\n",
      " 596 / 640 combination\n",
      " 597 / 640 combination\n"
     ]
    },
    {
     "name": "stderr",
     "output_type": "stream",
     "text": [
      "/home/ymentha/anaconda3/envs/ntds_2019/lib/python3.7/site-packages/scipy/sparse/linalg/dsolve/linsolve.py:193: MatrixRankWarning: Matrix is exactly singular\n",
      "  warn(\"Matrix is exactly singular\", MatrixRankWarning)\n"
     ]
    },
    {
     "name": "stdout",
     "output_type": "stream",
     "text": [
      " 598 / 640 combination\n",
      " 599 / 640 combination\n",
      " 600 / 640 combination\n",
      " 601 / 640 combination\n",
      " 602 / 640 combination\n",
      " 603 / 640 combination\n",
      " 604 / 640 combination\n",
      " 605 / 640 combination\n",
      " 606 / 640 combination\n",
      " 607 / 640 combination\n",
      " 608 / 640 combination\n",
      " 609 / 640 combination\n",
      " 610 / 640 combination\n",
      " 611 / 640 combination\n",
      " 612 / 640 combination\n",
      " 613 / 640 combination\n",
      " 614 / 640 combination\n",
      " 615 / 640 combination\n",
      " 616 / 640 combination\n",
      " 617 / 640 combination\n",
      " 618 / 640 combination\n",
      " 619 / 640 combination\n",
      " 620 / 640 combination\n",
      " 621 / 640 combination\n",
      " 622 / 640 combination\n",
      " 623 / 640 combination\n",
      " 624 / 640 combination\n"
     ]
    },
    {
     "name": "stderr",
     "output_type": "stream",
     "text": [
      "/home/ymentha/anaconda3/envs/ntds_2019/lib/python3.7/site-packages/scipy/sparse/linalg/dsolve/linsolve.py:193: MatrixRankWarning: Matrix is exactly singular\n",
      "  warn(\"Matrix is exactly singular\", MatrixRankWarning)\n"
     ]
    },
    {
     "name": "stdout",
     "output_type": "stream",
     "text": [
      " 625 / 640 combination\n",
      " 626 / 640 combination\n",
      " 627 / 640 combination\n",
      " 628 / 640 combination\n",
      " 629 / 640 combination\n"
     ]
    },
    {
     "name": "stderr",
     "output_type": "stream",
     "text": [
      "/home/ymentha/anaconda3/envs/ntds_2019/lib/python3.7/site-packages/scipy/sparse/linalg/dsolve/linsolve.py:193: MatrixRankWarning: Matrix is exactly singular\n",
      "  warn(\"Matrix is exactly singular\", MatrixRankWarning)\n"
     ]
    },
    {
     "name": "stdout",
     "output_type": "stream",
     "text": [
      " 630 / 640 combination\n",
      " 631 / 640 combination\n",
      " 632 / 640 combination\n",
      " 633 / 640 combination\n",
      " 634 / 640 combination\n"
     ]
    },
    {
     "name": "stderr",
     "output_type": "stream",
     "text": [
      "/home/ymentha/anaconda3/envs/ntds_2019/lib/python3.7/site-packages/scipy/sparse/linalg/dsolve/linsolve.py:193: MatrixRankWarning: Matrix is exactly singular\n",
      "  warn(\"Matrix is exactly singular\", MatrixRankWarning)\n"
     ]
    },
    {
     "name": "stdout",
     "output_type": "stream",
     "text": [
      " 635 / 640 combination\n",
      " 636 / 640 combination\n"
     ]
    },
    {
     "name": "stderr",
     "output_type": "stream",
     "text": [
      "/home/ymentha/anaconda3/envs/ntds_2019/lib/python3.7/site-packages/scipy/sparse/linalg/dsolve/linsolve.py:193: MatrixRankWarning: Matrix is exactly singular\n",
      "  warn(\"Matrix is exactly singular\", MatrixRankWarning)\n"
     ]
    },
    {
     "name": "stdout",
     "output_type": "stream",
     "text": [
      " 637 / 640 combination\n",
      " 638 / 640 combination\n",
      " 639 / 640 combination\n",
      "################################\n",
      "Biggest result for gene X328 : -0.20\n",
      "Smallest result for gene X328 : -434.04\n",
      "################################\n",
      " 0 / 640 combination\n"
     ]
    },
    {
     "name": "stderr",
     "output_type": "stream",
     "text": [
      "/home/ymentha/anaconda3/envs/ntds_2019/lib/python3.7/site-packages/scipy/sparse/linalg/dsolve/linsolve.py:193: MatrixRankWarning: Matrix is exactly singular\n",
      "  warn(\"Matrix is exactly singular\", MatrixRankWarning)\n"
     ]
    },
    {
     "name": "stdout",
     "output_type": "stream",
     "text": [
      " 1 / 640 combination\n",
      " 2 / 640 combination\n",
      " 3 / 640 combination\n",
      " 4 / 640 combination\n",
      " 5 / 640 combination\n",
      " 6 / 640 combination\n"
     ]
    },
    {
     "name": "stderr",
     "output_type": "stream",
     "text": [
      "/home/ymentha/anaconda3/envs/ntds_2019/lib/python3.7/site-packages/scipy/sparse/linalg/dsolve/linsolve.py:193: MatrixRankWarning: Matrix is exactly singular\n",
      "  warn(\"Matrix is exactly singular\", MatrixRankWarning)\n"
     ]
    },
    {
     "name": "stdout",
     "output_type": "stream",
     "text": [
      " 7 / 640 combination\n",
      " 8 / 640 combination\n",
      " 9 / 640 combination\n"
     ]
    },
    {
     "name": "stderr",
     "output_type": "stream",
     "text": [
      "/home/ymentha/anaconda3/envs/ntds_2019/lib/python3.7/site-packages/scipy/sparse/linalg/dsolve/linsolve.py:193: MatrixRankWarning: Matrix is exactly singular\n",
      "  warn(\"Matrix is exactly singular\", MatrixRankWarning)\n"
     ]
    },
    {
     "name": "stdout",
     "output_type": "stream",
     "text": [
      " 10 / 640 combination\n",
      " 11 / 640 combination\n",
      " 12 / 640 combination\n",
      " 13 / 640 combination\n",
      " 14 / 640 combination\n"
     ]
    },
    {
     "name": "stderr",
     "output_type": "stream",
     "text": [
      "/home/ymentha/anaconda3/envs/ntds_2019/lib/python3.7/site-packages/scipy/sparse/linalg/dsolve/linsolve.py:193: MatrixRankWarning: Matrix is exactly singular\n",
      "  warn(\"Matrix is exactly singular\", MatrixRankWarning)\n"
     ]
    },
    {
     "name": "stdout",
     "output_type": "stream",
     "text": [
      " 15 / 640 combination\n",
      " 16 / 640 combination\n"
     ]
    },
    {
     "name": "stderr",
     "output_type": "stream",
     "text": [
      "/home/ymentha/anaconda3/envs/ntds_2019/lib/python3.7/site-packages/scipy/sparse/linalg/dsolve/linsolve.py:193: MatrixRankWarning: Matrix is exactly singular\n",
      "  warn(\"Matrix is exactly singular\", MatrixRankWarning)\n"
     ]
    },
    {
     "name": "stdout",
     "output_type": "stream",
     "text": [
      " 17 / 640 combination\n",
      " 18 / 640 combination\n",
      " 19 / 640 combination\n",
      " 20 / 640 combination\n",
      " 21 / 640 combination\n"
     ]
    },
    {
     "name": "stderr",
     "output_type": "stream",
     "text": [
      "/home/ymentha/anaconda3/envs/ntds_2019/lib/python3.7/site-packages/scipy/sparse/linalg/dsolve/linsolve.py:193: MatrixRankWarning: Matrix is exactly singular\n",
      "  warn(\"Matrix is exactly singular\", MatrixRankWarning)\n"
     ]
    },
    {
     "name": "stdout",
     "output_type": "stream",
     "text": [
      " 22 / 640 combination\n",
      " 23 / 640 combination\n",
      " 24 / 640 combination\n",
      " 25 / 640 combination\n",
      " 26 / 640 combination\n"
     ]
    },
    {
     "name": "stderr",
     "output_type": "stream",
     "text": [
      "/home/ymentha/anaconda3/envs/ntds_2019/lib/python3.7/site-packages/scipy/sparse/linalg/dsolve/linsolve.py:193: MatrixRankWarning: Matrix is exactly singular\n",
      "  warn(\"Matrix is exactly singular\", MatrixRankWarning)\n"
     ]
    },
    {
     "name": "stdout",
     "output_type": "stream",
     "text": [
      " 27 / 640 combination\n",
      " 28 / 640 combination\n",
      " 29 / 640 combination\n"
     ]
    },
    {
     "name": "stderr",
     "output_type": "stream",
     "text": [
      "/home/ymentha/anaconda3/envs/ntds_2019/lib/python3.7/site-packages/scipy/sparse/linalg/dsolve/linsolve.py:193: MatrixRankWarning: Matrix is exactly singular\n",
      "  warn(\"Matrix is exactly singular\", MatrixRankWarning)\n"
     ]
    },
    {
     "name": "stdout",
     "output_type": "stream",
     "text": [
      " 30 / 640 combination\n",
      " 31 / 640 combination\n",
      " 32 / 640 combination\n",
      " 33 / 640 combination\n",
      " 34 / 640 combination\n"
     ]
    },
    {
     "name": "stderr",
     "output_type": "stream",
     "text": [
      "/home/ymentha/anaconda3/envs/ntds_2019/lib/python3.7/site-packages/scipy/sparse/linalg/dsolve/linsolve.py:193: MatrixRankWarning: Matrix is exactly singular\n",
      "  warn(\"Matrix is exactly singular\", MatrixRankWarning)\n"
     ]
    },
    {
     "name": "stdout",
     "output_type": "stream",
     "text": [
      " 35 / 640 combination\n",
      " 36 / 640 combination\n",
      " 37 / 640 combination\n"
     ]
    },
    {
     "name": "stderr",
     "output_type": "stream",
     "text": [
      "/home/ymentha/anaconda3/envs/ntds_2019/lib/python3.7/site-packages/scipy/sparse/linalg/dsolve/linsolve.py:193: MatrixRankWarning: Matrix is exactly singular\n",
      "  warn(\"Matrix is exactly singular\", MatrixRankWarning)\n"
     ]
    },
    {
     "name": "stdout",
     "output_type": "stream",
     "text": [
      " 38 / 640 combination\n",
      " 39 / 640 combination\n",
      " 40 / 640 combination\n",
      " 41 / 640 combination\n",
      " 42 / 640 combination\n",
      " 43 / 640 combination\n",
      " 44 / 640 combination\n",
      " 45 / 640 combination\n",
      " 46 / 640 combination\n",
      " 47 / 640 combination\n",
      " 48 / 640 combination\n",
      " 49 / 640 combination\n"
     ]
    },
    {
     "name": "stderr",
     "output_type": "stream",
     "text": [
      "/home/ymentha/anaconda3/envs/ntds_2019/lib/python3.7/site-packages/scipy/sparse/linalg/dsolve/linsolve.py:193: MatrixRankWarning: Matrix is exactly singular\n",
      "  warn(\"Matrix is exactly singular\", MatrixRankWarning)\n"
     ]
    },
    {
     "name": "stdout",
     "output_type": "stream",
     "text": [
      " 50 / 640 combination\n",
      " 51 / 640 combination\n",
      " 52 / 640 combination\n",
      " 53 / 640 combination\n"
     ]
    },
    {
     "name": "stderr",
     "output_type": "stream",
     "text": [
      "/home/ymentha/anaconda3/envs/ntds_2019/lib/python3.7/site-packages/scipy/sparse/linalg/dsolve/linsolve.py:193: MatrixRankWarning: Matrix is exactly singular\n",
      "  warn(\"Matrix is exactly singular\", MatrixRankWarning)\n"
     ]
    },
    {
     "name": "stdout",
     "output_type": "stream",
     "text": [
      " 54 / 640 combination\n",
      " 55 / 640 combination\n",
      " 56 / 640 combination\n",
      " 57 / 640 combination\n"
     ]
    },
    {
     "name": "stderr",
     "output_type": "stream",
     "text": [
      "/home/ymentha/anaconda3/envs/ntds_2019/lib/python3.7/site-packages/scipy/sparse/linalg/dsolve/linsolve.py:193: MatrixRankWarning: Matrix is exactly singular\n",
      "  warn(\"Matrix is exactly singular\", MatrixRankWarning)\n"
     ]
    },
    {
     "name": "stdout",
     "output_type": "stream",
     "text": [
      " 58 / 640 combination\n",
      " 59 / 640 combination\n",
      " 60 / 640 combination\n",
      " 61 / 640 combination\n"
     ]
    },
    {
     "name": "stderr",
     "output_type": "stream",
     "text": [
      "/home/ymentha/anaconda3/envs/ntds_2019/lib/python3.7/site-packages/scipy/sparse/linalg/dsolve/linsolve.py:193: MatrixRankWarning: Matrix is exactly singular\n",
      "  warn(\"Matrix is exactly singular\", MatrixRankWarning)\n"
     ]
    },
    {
     "name": "stdout",
     "output_type": "stream",
     "text": [
      " 62 / 640 combination\n",
      " 63 / 640 combination\n",
      " 64 / 640 combination\n"
     ]
    },
    {
     "name": "stderr",
     "output_type": "stream",
     "text": [
      "/home/ymentha/anaconda3/envs/ntds_2019/lib/python3.7/site-packages/scipy/sparse/linalg/dsolve/linsolve.py:193: MatrixRankWarning: Matrix is exactly singular\n",
      "  warn(\"Matrix is exactly singular\", MatrixRankWarning)\n"
     ]
    },
    {
     "name": "stdout",
     "output_type": "stream",
     "text": [
      " 65 / 640 combination\n",
      " 66 / 640 combination\n",
      " 67 / 640 combination\n",
      " 68 / 640 combination\n",
      " 69 / 640 combination\n"
     ]
    },
    {
     "name": "stderr",
     "output_type": "stream",
     "text": [
      "/home/ymentha/anaconda3/envs/ntds_2019/lib/python3.7/site-packages/scipy/sparse/linalg/dsolve/linsolve.py:193: MatrixRankWarning: Matrix is exactly singular\n",
      "  warn(\"Matrix is exactly singular\", MatrixRankWarning)\n"
     ]
    },
    {
     "name": "stdout",
     "output_type": "stream",
     "text": [
      " 70 / 640 combination\n",
      " 71 / 640 combination\n",
      " 72 / 640 combination\n",
      " 73 / 640 combination\n"
     ]
    },
    {
     "name": "stderr",
     "output_type": "stream",
     "text": [
      "/home/ymentha/anaconda3/envs/ntds_2019/lib/python3.7/site-packages/scipy/sparse/linalg/dsolve/linsolve.py:193: MatrixRankWarning: Matrix is exactly singular\n",
      "  warn(\"Matrix is exactly singular\", MatrixRankWarning)\n"
     ]
    },
    {
     "name": "stdout",
     "output_type": "stream",
     "text": [
      " 74 / 640 combination\n",
      " 75 / 640 combination\n",
      " 76 / 640 combination\n",
      " 77 / 640 combination\n"
     ]
    },
    {
     "name": "stderr",
     "output_type": "stream",
     "text": [
      "/home/ymentha/anaconda3/envs/ntds_2019/lib/python3.7/site-packages/scipy/sparse/linalg/dsolve/linsolve.py:193: MatrixRankWarning: Matrix is exactly singular\n",
      "  warn(\"Matrix is exactly singular\", MatrixRankWarning)\n"
     ]
    },
    {
     "name": "stdout",
     "output_type": "stream",
     "text": [
      " 78 / 640 combination\n",
      " 79 / 640 combination\n",
      " 80 / 640 combination\n",
      " 81 / 640 combination\n",
      " 82 / 640 combination\n",
      " 83 / 640 combination\n",
      " 84 / 640 combination\n",
      " 85 / 640 combination\n",
      " 86 / 640 combination\n",
      " 87 / 640 combination\n",
      " 88 / 640 combination\n",
      " 89 / 640 combination\n",
      " 90 / 640 combination\n",
      " 91 / 640 combination\n",
      " 92 / 640 combination\n",
      " 93 / 640 combination\n",
      " 94 / 640 combination\n",
      " 95 / 640 combination\n",
      " 96 / 640 combination\n",
      " 97 / 640 combination\n"
     ]
    },
    {
     "name": "stderr",
     "output_type": "stream",
     "text": [
      "/home/ymentha/anaconda3/envs/ntds_2019/lib/python3.7/site-packages/scipy/sparse/linalg/dsolve/linsolve.py:193: MatrixRankWarning: Matrix is exactly singular\n",
      "  warn(\"Matrix is exactly singular\", MatrixRankWarning)\n"
     ]
    },
    {
     "name": "stdout",
     "output_type": "stream",
     "text": [
      " 98 / 640 combination\n",
      " 99 / 640 combination\n",
      " 100 / 640 combination\n",
      " 101 / 640 combination\n"
     ]
    },
    {
     "name": "stderr",
     "output_type": "stream",
     "text": [
      "/home/ymentha/anaconda3/envs/ntds_2019/lib/python3.7/site-packages/scipy/sparse/linalg/dsolve/linsolve.py:193: MatrixRankWarning: Matrix is exactly singular\n",
      "  warn(\"Matrix is exactly singular\", MatrixRankWarning)\n"
     ]
    },
    {
     "name": "stdout",
     "output_type": "stream",
     "text": [
      " 102 / 640 combination\n",
      " 103 / 640 combination\n",
      " 104 / 640 combination\n",
      " 105 / 640 combination\n"
     ]
    },
    {
     "name": "stderr",
     "output_type": "stream",
     "text": [
      "/home/ymentha/anaconda3/envs/ntds_2019/lib/python3.7/site-packages/scipy/sparse/linalg/dsolve/linsolve.py:193: MatrixRankWarning: Matrix is exactly singular\n",
      "  warn(\"Matrix is exactly singular\", MatrixRankWarning)\n"
     ]
    },
    {
     "name": "stdout",
     "output_type": "stream",
     "text": [
      " 106 / 640 combination\n",
      " 107 / 640 combination\n",
      " 108 / 640 combination\n",
      " 109 / 640 combination\n"
     ]
    },
    {
     "name": "stderr",
     "output_type": "stream",
     "text": [
      "/home/ymentha/anaconda3/envs/ntds_2019/lib/python3.7/site-packages/scipy/sparse/linalg/dsolve/linsolve.py:193: MatrixRankWarning: Matrix is exactly singular\n",
      "  warn(\"Matrix is exactly singular\", MatrixRankWarning)\n"
     ]
    },
    {
     "name": "stdout",
     "output_type": "stream",
     "text": [
      " 110 / 640 combination\n",
      " 111 / 640 combination\n",
      " 112 / 640 combination\n"
     ]
    },
    {
     "name": "stderr",
     "output_type": "stream",
     "text": [
      "/home/ymentha/anaconda3/envs/ntds_2019/lib/python3.7/site-packages/scipy/sparse/linalg/dsolve/linsolve.py:193: MatrixRankWarning: Matrix is exactly singular\n",
      "  warn(\"Matrix is exactly singular\", MatrixRankWarning)\n"
     ]
    },
    {
     "name": "stdout",
     "output_type": "stream",
     "text": [
      " 113 / 640 combination\n",
      " 114 / 640 combination\n",
      " 115 / 640 combination\n",
      " 116 / 640 combination\n",
      " 117 / 640 combination\n"
     ]
    },
    {
     "name": "stderr",
     "output_type": "stream",
     "text": [
      "/home/ymentha/anaconda3/envs/ntds_2019/lib/python3.7/site-packages/scipy/sparse/linalg/dsolve/linsolve.py:193: MatrixRankWarning: Matrix is exactly singular\n",
      "  warn(\"Matrix is exactly singular\", MatrixRankWarning)\n"
     ]
    },
    {
     "name": "stdout",
     "output_type": "stream",
     "text": [
      " 118 / 640 combination\n",
      " 119 / 640 combination\n",
      " 120 / 640 combination\n",
      " 121 / 640 combination\n",
      " 122 / 640 combination\n",
      " 123 / 640 combination\n",
      " 124 / 640 combination\n",
      " 125 / 640 combination\n",
      " 126 / 640 combination\n",
      " 127 / 640 combination\n",
      " 128 / 640 combination\n",
      " 129 / 640 combination\n",
      " 130 / 640 combination\n",
      " 131 / 640 combination\n",
      " 132 / 640 combination\n",
      " 133 / 640 combination\n",
      " 134 / 640 combination\n",
      " 135 / 640 combination\n",
      " 136 / 640 combination\n",
      " 137 / 640 combination\n",
      " 138 / 640 combination\n",
      " 139 / 640 combination\n",
      " 140 / 640 combination\n",
      " 141 / 640 combination\n",
      " 142 / 640 combination\n",
      " 143 / 640 combination\n",
      " 144 / 640 combination\n",
      " 145 / 640 combination\n"
     ]
    },
    {
     "name": "stderr",
     "output_type": "stream",
     "text": [
      "/home/ymentha/anaconda3/envs/ntds_2019/lib/python3.7/site-packages/scipy/sparse/linalg/dsolve/linsolve.py:193: MatrixRankWarning: Matrix is exactly singular\n",
      "  warn(\"Matrix is exactly singular\", MatrixRankWarning)\n"
     ]
    },
    {
     "name": "stdout",
     "output_type": "stream",
     "text": [
      " 146 / 640 combination\n",
      " 147 / 640 combination\n",
      " 148 / 640 combination\n",
      " 149 / 640 combination\n",
      " 150 / 640 combination\n"
     ]
    },
    {
     "name": "stderr",
     "output_type": "stream",
     "text": [
      "/home/ymentha/anaconda3/envs/ntds_2019/lib/python3.7/site-packages/scipy/sparse/linalg/dsolve/linsolve.py:193: MatrixRankWarning: Matrix is exactly singular\n",
      "  warn(\"Matrix is exactly singular\", MatrixRankWarning)\n"
     ]
    },
    {
     "name": "stdout",
     "output_type": "stream",
     "text": [
      " 151 / 640 combination\n",
      " 152 / 640 combination\n",
      " 153 / 640 combination\n"
     ]
    },
    {
     "name": "stderr",
     "output_type": "stream",
     "text": [
      "/home/ymentha/anaconda3/envs/ntds_2019/lib/python3.7/site-packages/scipy/sparse/linalg/dsolve/linsolve.py:193: MatrixRankWarning: Matrix is exactly singular\n",
      "  warn(\"Matrix is exactly singular\", MatrixRankWarning)\n"
     ]
    },
    {
     "name": "stdout",
     "output_type": "stream",
     "text": [
      " 154 / 640 combination\n",
      " 155 / 640 combination\n",
      " 156 / 640 combination\n",
      " 157 / 640 combination\n",
      " 158 / 640 combination\n"
     ]
    },
    {
     "name": "stderr",
     "output_type": "stream",
     "text": [
      "/home/ymentha/anaconda3/envs/ntds_2019/lib/python3.7/site-packages/scipy/sparse/linalg/dsolve/linsolve.py:193: MatrixRankWarning: Matrix is exactly singular\n",
      "  warn(\"Matrix is exactly singular\", MatrixRankWarning)\n"
     ]
    },
    {
     "name": "stdout",
     "output_type": "stream",
     "text": [
      " 159 / 640 combination\n",
      " 160 / 640 combination\n",
      " 161 / 640 combination\n"
     ]
    },
    {
     "name": "stderr",
     "output_type": "stream",
     "text": [
      "/home/ymentha/anaconda3/envs/ntds_2019/lib/python3.7/site-packages/scipy/sparse/linalg/dsolve/linsolve.py:193: MatrixRankWarning: Matrix is exactly singular\n",
      "  warn(\"Matrix is exactly singular\", MatrixRankWarning)\n"
     ]
    },
    {
     "name": "stdout",
     "output_type": "stream",
     "text": [
      " 162 / 640 combination\n",
      " 163 / 640 combination\n",
      " 164 / 640 combination\n",
      " 165 / 640 combination\n"
     ]
    },
    {
     "name": "stderr",
     "output_type": "stream",
     "text": [
      "/home/ymentha/anaconda3/envs/ntds_2019/lib/python3.7/site-packages/scipy/sparse/linalg/dsolve/linsolve.py:193: MatrixRankWarning: Matrix is exactly singular\n",
      "  warn(\"Matrix is exactly singular\", MatrixRankWarning)\n"
     ]
    },
    {
     "name": "stdout",
     "output_type": "stream",
     "text": [
      " 166 / 640 combination\n",
      " 167 / 640 combination\n",
      " 168 / 640 combination\n",
      " 169 / 640 combination\n"
     ]
    },
    {
     "name": "stderr",
     "output_type": "stream",
     "text": [
      "/home/ymentha/anaconda3/envs/ntds_2019/lib/python3.7/site-packages/scipy/sparse/linalg/dsolve/linsolve.py:193: MatrixRankWarning: Matrix is exactly singular\n",
      "  warn(\"Matrix is exactly singular\", MatrixRankWarning)\n"
     ]
    },
    {
     "name": "stdout",
     "output_type": "stream",
     "text": [
      " 170 / 640 combination\n",
      " 171 / 640 combination\n",
      " 172 / 640 combination\n",
      " 173 / 640 combination\n"
     ]
    },
    {
     "name": "stderr",
     "output_type": "stream",
     "text": [
      "/home/ymentha/anaconda3/envs/ntds_2019/lib/python3.7/site-packages/scipy/sparse/linalg/dsolve/linsolve.py:193: MatrixRankWarning: Matrix is exactly singular\n",
      "  warn(\"Matrix is exactly singular\", MatrixRankWarning)\n"
     ]
    },
    {
     "name": "stdout",
     "output_type": "stream",
     "text": [
      " 174 / 640 combination\n",
      " 175 / 640 combination\n",
      " 176 / 640 combination\n",
      " 177 / 640 combination\n"
     ]
    },
    {
     "name": "stderr",
     "output_type": "stream",
     "text": [
      "/home/ymentha/anaconda3/envs/ntds_2019/lib/python3.7/site-packages/scipy/sparse/linalg/dsolve/linsolve.py:193: MatrixRankWarning: Matrix is exactly singular\n",
      "  warn(\"Matrix is exactly singular\", MatrixRankWarning)\n"
     ]
    },
    {
     "name": "stdout",
     "output_type": "stream",
     "text": [
      " 178 / 640 combination\n",
      " 179 / 640 combination\n",
      " 180 / 640 combination\n",
      " 181 / 640 combination\n"
     ]
    },
    {
     "name": "stderr",
     "output_type": "stream",
     "text": [
      "/home/ymentha/anaconda3/envs/ntds_2019/lib/python3.7/site-packages/scipy/sparse/linalg/dsolve/linsolve.py:193: MatrixRankWarning: Matrix is exactly singular\n",
      "  warn(\"Matrix is exactly singular\", MatrixRankWarning)\n"
     ]
    },
    {
     "name": "stdout",
     "output_type": "stream",
     "text": [
      " 182 / 640 combination\n",
      " 183 / 640 combination\n",
      " 184 / 640 combination\n",
      " 185 / 640 combination\n"
     ]
    },
    {
     "name": "stderr",
     "output_type": "stream",
     "text": [
      "/home/ymentha/anaconda3/envs/ntds_2019/lib/python3.7/site-packages/scipy/sparse/linalg/dsolve/linsolve.py:193: MatrixRankWarning: Matrix is exactly singular\n",
      "  warn(\"Matrix is exactly singular\", MatrixRankWarning)\n"
     ]
    },
    {
     "name": "stdout",
     "output_type": "stream",
     "text": [
      " 186 / 640 combination\n",
      " 187 / 640 combination\n",
      " 188 / 640 combination\n",
      " 189 / 640 combination\n"
     ]
    },
    {
     "name": "stderr",
     "output_type": "stream",
     "text": [
      "/home/ymentha/anaconda3/envs/ntds_2019/lib/python3.7/site-packages/scipy/sparse/linalg/dsolve/linsolve.py:193: MatrixRankWarning: Matrix is exactly singular\n",
      "  warn(\"Matrix is exactly singular\", MatrixRankWarning)\n"
     ]
    },
    {
     "name": "stdout",
     "output_type": "stream",
     "text": [
      " 190 / 640 combination\n",
      " 191 / 640 combination\n",
      " 192 / 640 combination\n",
      " 193 / 640 combination\n",
      " 194 / 640 combination\n"
     ]
    },
    {
     "name": "stderr",
     "output_type": "stream",
     "text": [
      "/home/ymentha/anaconda3/envs/ntds_2019/lib/python3.7/site-packages/scipy/sparse/linalg/dsolve/linsolve.py:193: MatrixRankWarning: Matrix is exactly singular\n",
      "  warn(\"Matrix is exactly singular\", MatrixRankWarning)\n"
     ]
    },
    {
     "name": "stdout",
     "output_type": "stream",
     "text": [
      " 195 / 640 combination\n",
      " 196 / 640 combination\n"
     ]
    },
    {
     "name": "stderr",
     "output_type": "stream",
     "text": [
      "/home/ymentha/anaconda3/envs/ntds_2019/lib/python3.7/site-packages/scipy/sparse/linalg/dsolve/linsolve.py:193: MatrixRankWarning: Matrix is exactly singular\n",
      "  warn(\"Matrix is exactly singular\", MatrixRankWarning)\n"
     ]
    },
    {
     "name": "stdout",
     "output_type": "stream",
     "text": [
      " 197 / 640 combination\n",
      " 198 / 640 combination\n",
      " 199 / 640 combination\n",
      " 200 / 640 combination\n",
      " 201 / 640 combination\n",
      " 202 / 640 combination\n",
      " 203 / 640 combination\n",
      " 204 / 640 combination\n",
      " 205 / 640 combination\n",
      " 206 / 640 combination\n",
      " 207 / 640 combination\n",
      " 208 / 640 combination\n",
      " 209 / 640 combination\n"
     ]
    },
    {
     "name": "stderr",
     "output_type": "stream",
     "text": [
      "/home/ymentha/anaconda3/envs/ntds_2019/lib/python3.7/site-packages/scipy/sparse/linalg/dsolve/linsolve.py:193: MatrixRankWarning: Matrix is exactly singular\n",
      "  warn(\"Matrix is exactly singular\", MatrixRankWarning)\n"
     ]
    },
    {
     "name": "stdout",
     "output_type": "stream",
     "text": [
      " 210 / 640 combination\n",
      " 211 / 640 combination\n",
      " 212 / 640 combination\n",
      " 213 / 640 combination\n"
     ]
    },
    {
     "name": "stderr",
     "output_type": "stream",
     "text": [
      "/home/ymentha/anaconda3/envs/ntds_2019/lib/python3.7/site-packages/scipy/sparse/linalg/dsolve/linsolve.py:193: MatrixRankWarning: Matrix is exactly singular\n",
      "  warn(\"Matrix is exactly singular\", MatrixRankWarning)\n"
     ]
    },
    {
     "name": "stdout",
     "output_type": "stream",
     "text": [
      " 214 / 640 combination\n",
      " 215 / 640 combination\n",
      " 216 / 640 combination\n",
      " 217 / 640 combination\n",
      " 218 / 640 combination\n"
     ]
    },
    {
     "name": "stderr",
     "output_type": "stream",
     "text": [
      "/home/ymentha/anaconda3/envs/ntds_2019/lib/python3.7/site-packages/scipy/sparse/linalg/dsolve/linsolve.py:193: MatrixRankWarning: Matrix is exactly singular\n",
      "  warn(\"Matrix is exactly singular\", MatrixRankWarning)\n"
     ]
    },
    {
     "name": "stdout",
     "output_type": "stream",
     "text": [
      " 219 / 640 combination\n",
      " 220 / 640 combination\n",
      " 221 / 640 combination\n",
      " 222 / 640 combination\n"
     ]
    },
    {
     "name": "stderr",
     "output_type": "stream",
     "text": [
      "/home/ymentha/anaconda3/envs/ntds_2019/lib/python3.7/site-packages/scipy/sparse/linalg/dsolve/linsolve.py:193: MatrixRankWarning: Matrix is exactly singular\n",
      "  warn(\"Matrix is exactly singular\", MatrixRankWarning)\n"
     ]
    },
    {
     "name": "stdout",
     "output_type": "stream",
     "text": [
      " 223 / 640 combination\n",
      " 224 / 640 combination\n",
      " 225 / 640 combination\n"
     ]
    },
    {
     "name": "stderr",
     "output_type": "stream",
     "text": [
      "/home/ymentha/anaconda3/envs/ntds_2019/lib/python3.7/site-packages/scipy/sparse/linalg/dsolve/linsolve.py:193: MatrixRankWarning: Matrix is exactly singular\n",
      "  warn(\"Matrix is exactly singular\", MatrixRankWarning)\n"
     ]
    },
    {
     "name": "stdout",
     "output_type": "stream",
     "text": [
      " 226 / 640 combination\n",
      " 227 / 640 combination\n",
      " 228 / 640 combination\n",
      " 229 / 640 combination\n",
      " 230 / 640 combination\n"
     ]
    },
    {
     "name": "stderr",
     "output_type": "stream",
     "text": [
      "/home/ymentha/anaconda3/envs/ntds_2019/lib/python3.7/site-packages/scipy/sparse/linalg/dsolve/linsolve.py:193: MatrixRankWarning: Matrix is exactly singular\n",
      "  warn(\"Matrix is exactly singular\", MatrixRankWarning)\n"
     ]
    },
    {
     "name": "stdout",
     "output_type": "stream",
     "text": [
      " 231 / 640 combination\n",
      " 232 / 640 combination\n",
      " 233 / 640 combination\n"
     ]
    },
    {
     "name": "stderr",
     "output_type": "stream",
     "text": [
      "/home/ymentha/anaconda3/envs/ntds_2019/lib/python3.7/site-packages/scipy/sparse/linalg/dsolve/linsolve.py:193: MatrixRankWarning: Matrix is exactly singular\n",
      "  warn(\"Matrix is exactly singular\", MatrixRankWarning)\n"
     ]
    },
    {
     "name": "stdout",
     "output_type": "stream",
     "text": [
      " 234 / 640 combination\n",
      " 235 / 640 combination\n",
      " 236 / 640 combination\n",
      " 237 / 640 combination\n",
      " 238 / 640 combination\n"
     ]
    },
    {
     "name": "stderr",
     "output_type": "stream",
     "text": [
      "/home/ymentha/anaconda3/envs/ntds_2019/lib/python3.7/site-packages/scipy/sparse/linalg/dsolve/linsolve.py:193: MatrixRankWarning: Matrix is exactly singular\n",
      "  warn(\"Matrix is exactly singular\", MatrixRankWarning)\n"
     ]
    },
    {
     "name": "stdout",
     "output_type": "stream",
     "text": [
      " 239 / 640 combination\n",
      " 240 / 640 combination\n",
      " 241 / 640 combination\n",
      " 242 / 640 combination\n",
      " 243 / 640 combination\n",
      " 244 / 640 combination\n",
      " 245 / 640 combination\n",
      " 246 / 640 combination\n",
      " 247 / 640 combination\n",
      " 248 / 640 combination\n",
      " 249 / 640 combination\n",
      " 250 / 640 combination\n",
      " 251 / 640 combination\n",
      " 252 / 640 combination\n",
      " 253 / 640 combination\n",
      " 254 / 640 combination\n",
      " 255 / 640 combination\n",
      " 256 / 640 combination\n"
     ]
    },
    {
     "name": "stderr",
     "output_type": "stream",
     "text": [
      "/home/ymentha/anaconda3/envs/ntds_2019/lib/python3.7/site-packages/scipy/sparse/linalg/dsolve/linsolve.py:193: MatrixRankWarning: Matrix is exactly singular\n",
      "  warn(\"Matrix is exactly singular\", MatrixRankWarning)\n"
     ]
    },
    {
     "name": "stdout",
     "output_type": "stream",
     "text": [
      " 257 / 640 combination\n",
      " 258 / 640 combination\n",
      " 259 / 640 combination\n",
      " 260 / 640 combination\n",
      " 261 / 640 combination\n"
     ]
    },
    {
     "name": "stderr",
     "output_type": "stream",
     "text": [
      "/home/ymentha/anaconda3/envs/ntds_2019/lib/python3.7/site-packages/scipy/sparse/linalg/dsolve/linsolve.py:193: MatrixRankWarning: Matrix is exactly singular\n",
      "  warn(\"Matrix is exactly singular\", MatrixRankWarning)\n"
     ]
    },
    {
     "name": "stdout",
     "output_type": "stream",
     "text": [
      " 262 / 640 combination\n",
      " 263 / 640 combination\n",
      " 264 / 640 combination\n",
      " 265 / 640 combination\n"
     ]
    },
    {
     "name": "stderr",
     "output_type": "stream",
     "text": [
      "/home/ymentha/anaconda3/envs/ntds_2019/lib/python3.7/site-packages/scipy/sparse/linalg/dsolve/linsolve.py:193: MatrixRankWarning: Matrix is exactly singular\n",
      "  warn(\"Matrix is exactly singular\", MatrixRankWarning)\n"
     ]
    },
    {
     "name": "stdout",
     "output_type": "stream",
     "text": [
      " 266 / 640 combination\n",
      " 267 / 640 combination\n",
      " 268 / 640 combination\n",
      " 269 / 640 combination\n"
     ]
    },
    {
     "name": "stderr",
     "output_type": "stream",
     "text": [
      "/home/ymentha/anaconda3/envs/ntds_2019/lib/python3.7/site-packages/scipy/sparse/linalg/dsolve/linsolve.py:193: MatrixRankWarning: Matrix is exactly singular\n",
      "  warn(\"Matrix is exactly singular\", MatrixRankWarning)\n"
     ]
    },
    {
     "name": "stdout",
     "output_type": "stream",
     "text": [
      " 270 / 640 combination\n",
      " 271 / 640 combination\n",
      " 272 / 640 combination\n",
      " 273 / 640 combination\n",
      " 274 / 640 combination\n"
     ]
    },
    {
     "name": "stderr",
     "output_type": "stream",
     "text": [
      "/home/ymentha/anaconda3/envs/ntds_2019/lib/python3.7/site-packages/scipy/sparse/linalg/dsolve/linsolve.py:193: MatrixRankWarning: Matrix is exactly singular\n",
      "  warn(\"Matrix is exactly singular\", MatrixRankWarning)\n"
     ]
    },
    {
     "name": "stdout",
     "output_type": "stream",
     "text": [
      " 275 / 640 combination\n",
      " 276 / 640 combination\n",
      " 277 / 640 combination\n",
      " 278 / 640 combination\n"
     ]
    },
    {
     "name": "stderr",
     "output_type": "stream",
     "text": [
      "/home/ymentha/anaconda3/envs/ntds_2019/lib/python3.7/site-packages/scipy/sparse/linalg/dsolve/linsolve.py:193: MatrixRankWarning: Matrix is exactly singular\n",
      "  warn(\"Matrix is exactly singular\", MatrixRankWarning)\n"
     ]
    },
    {
     "name": "stdout",
     "output_type": "stream",
     "text": [
      " 279 / 640 combination\n",
      " 280 / 640 combination\n",
      " 281 / 640 combination\n",
      " 282 / 640 combination\n",
      " 283 / 640 combination\n",
      " 284 / 640 combination\n",
      " 285 / 640 combination\n",
      " 286 / 640 combination\n",
      " 287 / 640 combination\n",
      " 288 / 640 combination\n",
      " 289 / 640 combination\n",
      " 290 / 640 combination\n",
      " 291 / 640 combination\n",
      " 292 / 640 combination\n",
      " 293 / 640 combination\n",
      " 294 / 640 combination\n",
      " 295 / 640 combination\n",
      " 296 / 640 combination\n",
      " 297 / 640 combination\n",
      " 298 / 640 combination\n",
      " 299 / 640 combination\n",
      " 300 / 640 combination\n",
      " 301 / 640 combination\n",
      " 302 / 640 combination\n",
      " 303 / 640 combination\n",
      " 304 / 640 combination\n"
     ]
    },
    {
     "name": "stderr",
     "output_type": "stream",
     "text": [
      "/home/ymentha/anaconda3/envs/ntds_2019/lib/python3.7/site-packages/scipy/sparse/linalg/dsolve/linsolve.py:193: MatrixRankWarning: Matrix is exactly singular\n",
      "  warn(\"Matrix is exactly singular\", MatrixRankWarning)\n"
     ]
    },
    {
     "name": "stdout",
     "output_type": "stream",
     "text": [
      " 305 / 640 combination\n",
      " 306 / 640 combination\n",
      " 307 / 640 combination\n",
      " 308 / 640 combination\n",
      " 309 / 640 combination\n"
     ]
    },
    {
     "name": "stderr",
     "output_type": "stream",
     "text": [
      "/home/ymentha/anaconda3/envs/ntds_2019/lib/python3.7/site-packages/scipy/sparse/linalg/dsolve/linsolve.py:193: MatrixRankWarning: Matrix is exactly singular\n",
      "  warn(\"Matrix is exactly singular\", MatrixRankWarning)\n"
     ]
    },
    {
     "name": "stdout",
     "output_type": "stream",
     "text": [
      " 310 / 640 combination\n",
      " 311 / 640 combination\n",
      " 312 / 640 combination\n",
      " 313 / 640 combination\n",
      " 314 / 640 combination\n"
     ]
    },
    {
     "name": "stderr",
     "output_type": "stream",
     "text": [
      "/home/ymentha/anaconda3/envs/ntds_2019/lib/python3.7/site-packages/scipy/sparse/linalg/dsolve/linsolve.py:193: MatrixRankWarning: Matrix is exactly singular\n",
      "  warn(\"Matrix is exactly singular\", MatrixRankWarning)\n"
     ]
    },
    {
     "name": "stdout",
     "output_type": "stream",
     "text": [
      " 315 / 640 combination\n",
      " 316 / 640 combination\n",
      " 317 / 640 combination\n"
     ]
    },
    {
     "name": "stderr",
     "output_type": "stream",
     "text": [
      "/home/ymentha/anaconda3/envs/ntds_2019/lib/python3.7/site-packages/scipy/sparse/linalg/dsolve/linsolve.py:193: MatrixRankWarning: Matrix is exactly singular\n",
      "  warn(\"Matrix is exactly singular\", MatrixRankWarning)\n"
     ]
    },
    {
     "name": "stdout",
     "output_type": "stream",
     "text": [
      " 318 / 640 combination\n",
      " 319 / 640 combination\n",
      " 320 / 640 combination\n"
     ]
    },
    {
     "name": "stderr",
     "output_type": "stream",
     "text": [
      "/home/ymentha/anaconda3/envs/ntds_2019/lib/python3.7/site-packages/scipy/sparse/linalg/dsolve/linsolve.py:193: MatrixRankWarning: Matrix is exactly singular\n",
      "  warn(\"Matrix is exactly singular\", MatrixRankWarning)\n"
     ]
    },
    {
     "name": "stdout",
     "output_type": "stream",
     "text": [
      " 321 / 640 combination\n",
      " 322 / 640 combination\n",
      " 323 / 640 combination\n",
      " 324 / 640 combination\n",
      " 325 / 640 combination\n"
     ]
    },
    {
     "name": "stderr",
     "output_type": "stream",
     "text": [
      "/home/ymentha/anaconda3/envs/ntds_2019/lib/python3.7/site-packages/scipy/sparse/linalg/dsolve/linsolve.py:193: MatrixRankWarning: Matrix is exactly singular\n",
      "  warn(\"Matrix is exactly singular\", MatrixRankWarning)\n"
     ]
    },
    {
     "name": "stdout",
     "output_type": "stream",
     "text": [
      " 326 / 640 combination\n",
      " 327 / 640 combination\n",
      " 328 / 640 combination\n",
      " 329 / 640 combination\n"
     ]
    },
    {
     "name": "stderr",
     "output_type": "stream",
     "text": [
      "/home/ymentha/anaconda3/envs/ntds_2019/lib/python3.7/site-packages/scipy/sparse/linalg/dsolve/linsolve.py:193: MatrixRankWarning: Matrix is exactly singular\n",
      "  warn(\"Matrix is exactly singular\", MatrixRankWarning)\n"
     ]
    },
    {
     "name": "stdout",
     "output_type": "stream",
     "text": [
      " 330 / 640 combination\n",
      " 331 / 640 combination\n",
      " 332 / 640 combination\n",
      " 333 / 640 combination\n"
     ]
    },
    {
     "name": "stderr",
     "output_type": "stream",
     "text": [
      "/home/ymentha/anaconda3/envs/ntds_2019/lib/python3.7/site-packages/scipy/sparse/linalg/dsolve/linsolve.py:193: MatrixRankWarning: Matrix is exactly singular\n",
      "  warn(\"Matrix is exactly singular\", MatrixRankWarning)\n"
     ]
    },
    {
     "name": "stdout",
     "output_type": "stream",
     "text": [
      " 334 / 640 combination\n",
      " 335 / 640 combination\n",
      " 336 / 640 combination\n",
      " 337 / 640 combination\n"
     ]
    },
    {
     "name": "stderr",
     "output_type": "stream",
     "text": [
      "/home/ymentha/anaconda3/envs/ntds_2019/lib/python3.7/site-packages/scipy/sparse/linalg/dsolve/linsolve.py:193: MatrixRankWarning: Matrix is exactly singular\n",
      "  warn(\"Matrix is exactly singular\", MatrixRankWarning)\n"
     ]
    },
    {
     "name": "stdout",
     "output_type": "stream",
     "text": [
      " 338 / 640 combination\n",
      " 339 / 640 combination\n",
      " 340 / 640 combination\n",
      " 341 / 640 combination\n"
     ]
    },
    {
     "name": "stderr",
     "output_type": "stream",
     "text": [
      "/home/ymentha/anaconda3/envs/ntds_2019/lib/python3.7/site-packages/scipy/sparse/linalg/dsolve/linsolve.py:193: MatrixRankWarning: Matrix is exactly singular\n",
      "  warn(\"Matrix is exactly singular\", MatrixRankWarning)\n"
     ]
    },
    {
     "name": "stdout",
     "output_type": "stream",
     "text": [
      " 342 / 640 combination\n",
      " 343 / 640 combination\n",
      " 344 / 640 combination\n",
      " 345 / 640 combination\n",
      " 346 / 640 combination\n"
     ]
    },
    {
     "name": "stderr",
     "output_type": "stream",
     "text": [
      "/home/ymentha/anaconda3/envs/ntds_2019/lib/python3.7/site-packages/scipy/sparse/linalg/dsolve/linsolve.py:193: MatrixRankWarning: Matrix is exactly singular\n",
      "  warn(\"Matrix is exactly singular\", MatrixRankWarning)\n"
     ]
    },
    {
     "name": "stdout",
     "output_type": "stream",
     "text": [
      " 347 / 640 combination\n",
      " 348 / 640 combination\n",
      " 349 / 640 combination\n"
     ]
    },
    {
     "name": "stderr",
     "output_type": "stream",
     "text": [
      "/home/ymentha/anaconda3/envs/ntds_2019/lib/python3.7/site-packages/scipy/sparse/linalg/dsolve/linsolve.py:193: MatrixRankWarning: Matrix is exactly singular\n",
      "  warn(\"Matrix is exactly singular\", MatrixRankWarning)\n"
     ]
    },
    {
     "name": "stdout",
     "output_type": "stream",
     "text": [
      " 350 / 640 combination\n",
      " 351 / 640 combination\n",
      " 352 / 640 combination\n",
      " 353 / 640 combination\n"
     ]
    },
    {
     "name": "stderr",
     "output_type": "stream",
     "text": [
      "/home/ymentha/anaconda3/envs/ntds_2019/lib/python3.7/site-packages/scipy/sparse/linalg/dsolve/linsolve.py:193: MatrixRankWarning: Matrix is exactly singular\n",
      "  warn(\"Matrix is exactly singular\", MatrixRankWarning)\n"
     ]
    },
    {
     "name": "stdout",
     "output_type": "stream",
     "text": [
      " 354 / 640 combination\n",
      " 355 / 640 combination\n",
      " 356 / 640 combination\n",
      " 357 / 640 combination\n"
     ]
    },
    {
     "name": "stderr",
     "output_type": "stream",
     "text": [
      "/home/ymentha/anaconda3/envs/ntds_2019/lib/python3.7/site-packages/scipy/sparse/linalg/dsolve/linsolve.py:193: MatrixRankWarning: Matrix is exactly singular\n",
      "  warn(\"Matrix is exactly singular\", MatrixRankWarning)\n"
     ]
    },
    {
     "name": "stdout",
     "output_type": "stream",
     "text": [
      " 358 / 640 combination\n",
      " 359 / 640 combination\n",
      " 360 / 640 combination\n",
      " 361 / 640 combination\n",
      " 362 / 640 combination\n",
      " 363 / 640 combination\n",
      " 364 / 640 combination\n",
      " 365 / 640 combination\n",
      " 366 / 640 combination\n",
      " 367 / 640 combination\n",
      " 368 / 640 combination\n",
      " 369 / 640 combination\n",
      " 370 / 640 combination\n"
     ]
    },
    {
     "name": "stderr",
     "output_type": "stream",
     "text": [
      "/home/ymentha/anaconda3/envs/ntds_2019/lib/python3.7/site-packages/scipy/sparse/linalg/dsolve/linsolve.py:193: MatrixRankWarning: Matrix is exactly singular\n",
      "  warn(\"Matrix is exactly singular\", MatrixRankWarning)\n"
     ]
    },
    {
     "name": "stdout",
     "output_type": "stream",
     "text": [
      " 371 / 640 combination\n",
      " 372 / 640 combination\n",
      " 373 / 640 combination\n"
     ]
    },
    {
     "name": "stderr",
     "output_type": "stream",
     "text": [
      "/home/ymentha/anaconda3/envs/ntds_2019/lib/python3.7/site-packages/scipy/sparse/linalg/dsolve/linsolve.py:193: MatrixRankWarning: Matrix is exactly singular\n",
      "  warn(\"Matrix is exactly singular\", MatrixRankWarning)\n"
     ]
    },
    {
     "name": "stdout",
     "output_type": "stream",
     "text": [
      " 374 / 640 combination\n",
      " 375 / 640 combination\n",
      " 376 / 640 combination\n",
      " 377 / 640 combination\n",
      " 378 / 640 combination\n"
     ]
    },
    {
     "name": "stderr",
     "output_type": "stream",
     "text": [
      "/home/ymentha/anaconda3/envs/ntds_2019/lib/python3.7/site-packages/scipy/sparse/linalg/dsolve/linsolve.py:193: MatrixRankWarning: Matrix is exactly singular\n",
      "  warn(\"Matrix is exactly singular\", MatrixRankWarning)\n"
     ]
    },
    {
     "name": "stdout",
     "output_type": "stream",
     "text": [
      " 379 / 640 combination\n",
      " 380 / 640 combination\n"
     ]
    },
    {
     "name": "stderr",
     "output_type": "stream",
     "text": [
      "/home/ymentha/anaconda3/envs/ntds_2019/lib/python3.7/site-packages/scipy/sparse/linalg/dsolve/linsolve.py:193: MatrixRankWarning: Matrix is exactly singular\n",
      "  warn(\"Matrix is exactly singular\", MatrixRankWarning)\n"
     ]
    },
    {
     "name": "stdout",
     "output_type": "stream",
     "text": [
      " 381 / 640 combination\n",
      " 382 / 640 combination\n",
      " 383 / 640 combination\n",
      " 384 / 640 combination\n"
     ]
    },
    {
     "name": "stderr",
     "output_type": "stream",
     "text": [
      "/home/ymentha/anaconda3/envs/ntds_2019/lib/python3.7/site-packages/scipy/sparse/linalg/dsolve/linsolve.py:193: MatrixRankWarning: Matrix is exactly singular\n",
      "  warn(\"Matrix is exactly singular\", MatrixRankWarning)\n"
     ]
    },
    {
     "name": "stdout",
     "output_type": "stream",
     "text": [
      " 385 / 640 combination\n",
      " 386 / 640 combination\n",
      " 387 / 640 combination\n",
      " 388 / 640 combination\n",
      " 389 / 640 combination\n"
     ]
    },
    {
     "name": "stderr",
     "output_type": "stream",
     "text": [
      "/home/ymentha/anaconda3/envs/ntds_2019/lib/python3.7/site-packages/scipy/sparse/linalg/dsolve/linsolve.py:193: MatrixRankWarning: Matrix is exactly singular\n",
      "  warn(\"Matrix is exactly singular\", MatrixRankWarning)\n"
     ]
    },
    {
     "name": "stdout",
     "output_type": "stream",
     "text": [
      " 390 / 640 combination\n",
      " 391 / 640 combination\n",
      " 392 / 640 combination\n",
      " 393 / 640 combination\n",
      " 394 / 640 combination\n"
     ]
    },
    {
     "name": "stderr",
     "output_type": "stream",
     "text": [
      "/home/ymentha/anaconda3/envs/ntds_2019/lib/python3.7/site-packages/scipy/sparse/linalg/dsolve/linsolve.py:193: MatrixRankWarning: Matrix is exactly singular\n",
      "  warn(\"Matrix is exactly singular\", MatrixRankWarning)\n"
     ]
    },
    {
     "name": "stdout",
     "output_type": "stream",
     "text": [
      " 395 / 640 combination\n",
      " 396 / 640 combination\n",
      " 397 / 640 combination\n"
     ]
    },
    {
     "name": "stderr",
     "output_type": "stream",
     "text": [
      "/home/ymentha/anaconda3/envs/ntds_2019/lib/python3.7/site-packages/scipy/sparse/linalg/dsolve/linsolve.py:193: MatrixRankWarning: Matrix is exactly singular\n",
      "  warn(\"Matrix is exactly singular\", MatrixRankWarning)\n"
     ]
    },
    {
     "name": "stdout",
     "output_type": "stream",
     "text": [
      " 398 / 640 combination\n",
      " 399 / 640 combination\n",
      " 400 / 640 combination\n",
      " 401 / 640 combination\n",
      " 402 / 640 combination\n",
      " 403 / 640 combination\n",
      " 404 / 640 combination\n",
      " 405 / 640 combination\n",
      " 406 / 640 combination\n",
      " 407 / 640 combination\n",
      " 408 / 640 combination\n",
      " 409 / 640 combination\n",
      " 410 / 640 combination\n",
      " 411 / 640 combination\n",
      " 412 / 640 combination\n",
      " 413 / 640 combination\n",
      " 414 / 640 combination\n",
      " 415 / 640 combination\n",
      " 416 / 640 combination\n"
     ]
    },
    {
     "name": "stderr",
     "output_type": "stream",
     "text": [
      "/home/ymentha/anaconda3/envs/ntds_2019/lib/python3.7/site-packages/scipy/sparse/linalg/dsolve/linsolve.py:193: MatrixRankWarning: Matrix is exactly singular\n",
      "  warn(\"Matrix is exactly singular\", MatrixRankWarning)\n"
     ]
    },
    {
     "name": "stdout",
     "output_type": "stream",
     "text": [
      " 417 / 640 combination\n",
      " 418 / 640 combination\n",
      " 419 / 640 combination\n",
      " 420 / 640 combination\n",
      " 421 / 640 combination\n"
     ]
    },
    {
     "name": "stderr",
     "output_type": "stream",
     "text": [
      "/home/ymentha/anaconda3/envs/ntds_2019/lib/python3.7/site-packages/scipy/sparse/linalg/dsolve/linsolve.py:193: MatrixRankWarning: Matrix is exactly singular\n",
      "  warn(\"Matrix is exactly singular\", MatrixRankWarning)\n"
     ]
    },
    {
     "name": "stdout",
     "output_type": "stream",
     "text": [
      " 422 / 640 combination\n",
      " 423 / 640 combination\n",
      " 424 / 640 combination\n",
      " 425 / 640 combination\n"
     ]
    },
    {
     "name": "stderr",
     "output_type": "stream",
     "text": [
      "/home/ymentha/anaconda3/envs/ntds_2019/lib/python3.7/site-packages/scipy/sparse/linalg/dsolve/linsolve.py:193: MatrixRankWarning: Matrix is exactly singular\n",
      "  warn(\"Matrix is exactly singular\", MatrixRankWarning)\n"
     ]
    },
    {
     "name": "stdout",
     "output_type": "stream",
     "text": [
      " 426 / 640 combination\n",
      " 427 / 640 combination\n",
      " 428 / 640 combination\n",
      " 429 / 640 combination\n"
     ]
    },
    {
     "name": "stderr",
     "output_type": "stream",
     "text": [
      "/home/ymentha/anaconda3/envs/ntds_2019/lib/python3.7/site-packages/scipy/sparse/linalg/dsolve/linsolve.py:193: MatrixRankWarning: Matrix is exactly singular\n",
      "  warn(\"Matrix is exactly singular\", MatrixRankWarning)\n"
     ]
    },
    {
     "name": "stdout",
     "output_type": "stream",
     "text": [
      " 430 / 640 combination\n",
      " 431 / 640 combination\n",
      " 432 / 640 combination\n"
     ]
    },
    {
     "name": "stderr",
     "output_type": "stream",
     "text": [
      "/home/ymentha/anaconda3/envs/ntds_2019/lib/python3.7/site-packages/scipy/sparse/linalg/dsolve/linsolve.py:193: MatrixRankWarning: Matrix is exactly singular\n",
      "  warn(\"Matrix is exactly singular\", MatrixRankWarning)\n"
     ]
    },
    {
     "name": "stdout",
     "output_type": "stream",
     "text": [
      " 433 / 640 combination\n",
      " 434 / 640 combination\n",
      " 435 / 640 combination\n",
      " 436 / 640 combination\n",
      " 437 / 640 combination\n"
     ]
    },
    {
     "name": "stderr",
     "output_type": "stream",
     "text": [
      "/home/ymentha/anaconda3/envs/ntds_2019/lib/python3.7/site-packages/scipy/sparse/linalg/dsolve/linsolve.py:193: MatrixRankWarning: Matrix is exactly singular\n",
      "  warn(\"Matrix is exactly singular\", MatrixRankWarning)\n"
     ]
    },
    {
     "name": "stdout",
     "output_type": "stream",
     "text": [
      " 438 / 640 combination\n",
      " 439 / 640 combination\n",
      " 440 / 640 combination\n",
      " 441 / 640 combination\n",
      " 442 / 640 combination\n",
      " 443 / 640 combination\n",
      " 444 / 640 combination\n",
      " 445 / 640 combination\n",
      " 446 / 640 combination\n",
      " 447 / 640 combination\n",
      " 448 / 640 combination\n",
      " 449 / 640 combination\n",
      " 450 / 640 combination\n",
      " 451 / 640 combination\n",
      " 452 / 640 combination\n",
      " 453 / 640 combination\n",
      " 454 / 640 combination\n",
      " 455 / 640 combination\n",
      " 456 / 640 combination\n",
      " 457 / 640 combination\n",
      " 458 / 640 combination\n",
      " 459 / 640 combination\n",
      " 460 / 640 combination\n",
      " 461 / 640 combination\n",
      " 462 / 640 combination\n",
      " 463 / 640 combination\n",
      " 464 / 640 combination\n"
     ]
    },
    {
     "name": "stderr",
     "output_type": "stream",
     "text": [
      "/home/ymentha/anaconda3/envs/ntds_2019/lib/python3.7/site-packages/scipy/sparse/linalg/dsolve/linsolve.py:193: MatrixRankWarning: Matrix is exactly singular\n",
      "  warn(\"Matrix is exactly singular\", MatrixRankWarning)\n"
     ]
    },
    {
     "name": "stdout",
     "output_type": "stream",
     "text": [
      " 465 / 640 combination\n",
      " 466 / 640 combination\n",
      " 467 / 640 combination\n",
      " 468 / 640 combination\n",
      " 469 / 640 combination\n"
     ]
    },
    {
     "name": "stderr",
     "output_type": "stream",
     "text": [
      "/home/ymentha/anaconda3/envs/ntds_2019/lib/python3.7/site-packages/scipy/sparse/linalg/dsolve/linsolve.py:193: MatrixRankWarning: Matrix is exactly singular\n",
      "  warn(\"Matrix is exactly singular\", MatrixRankWarning)\n"
     ]
    },
    {
     "name": "stdout",
     "output_type": "stream",
     "text": [
      " 470 / 640 combination\n",
      " 471 / 640 combination\n",
      " 472 / 640 combination\n",
      " 473 / 640 combination\n"
     ]
    },
    {
     "name": "stderr",
     "output_type": "stream",
     "text": [
      "/home/ymentha/anaconda3/envs/ntds_2019/lib/python3.7/site-packages/scipy/sparse/linalg/dsolve/linsolve.py:193: MatrixRankWarning: Matrix is exactly singular\n",
      "  warn(\"Matrix is exactly singular\", MatrixRankWarning)\n"
     ]
    },
    {
     "name": "stdout",
     "output_type": "stream",
     "text": [
      " 474 / 640 combination\n",
      " 475 / 640 combination\n",
      " 476 / 640 combination\n",
      " 477 / 640 combination\n"
     ]
    },
    {
     "name": "stderr",
     "output_type": "stream",
     "text": [
      "/home/ymentha/anaconda3/envs/ntds_2019/lib/python3.7/site-packages/scipy/sparse/linalg/dsolve/linsolve.py:193: MatrixRankWarning: Matrix is exactly singular\n",
      "  warn(\"Matrix is exactly singular\", MatrixRankWarning)\n"
     ]
    },
    {
     "name": "stdout",
     "output_type": "stream",
     "text": [
      " 478 / 640 combination\n",
      " 479 / 640 combination\n",
      " 480 / 640 combination\n",
      " 481 / 640 combination\n"
     ]
    },
    {
     "name": "stderr",
     "output_type": "stream",
     "text": [
      "/home/ymentha/anaconda3/envs/ntds_2019/lib/python3.7/site-packages/scipy/sparse/linalg/dsolve/linsolve.py:193: MatrixRankWarning: Matrix is exactly singular\n",
      "  warn(\"Matrix is exactly singular\", MatrixRankWarning)\n"
     ]
    },
    {
     "name": "stdout",
     "output_type": "stream",
     "text": [
      " 482 / 640 combination\n",
      " 483 / 640 combination\n",
      " 484 / 640 combination\n",
      " 485 / 640 combination\n",
      " 486 / 640 combination\n"
     ]
    },
    {
     "name": "stderr",
     "output_type": "stream",
     "text": [
      "/home/ymentha/anaconda3/envs/ntds_2019/lib/python3.7/site-packages/scipy/sparse/linalg/dsolve/linsolve.py:193: MatrixRankWarning: Matrix is exactly singular\n",
      "  warn(\"Matrix is exactly singular\", MatrixRankWarning)\n"
     ]
    },
    {
     "name": "stdout",
     "output_type": "stream",
     "text": [
      " 487 / 640 combination\n",
      " 488 / 640 combination\n",
      " 489 / 640 combination\n",
      " 490 / 640 combination\n"
     ]
    },
    {
     "name": "stderr",
     "output_type": "stream",
     "text": [
      "/home/ymentha/anaconda3/envs/ntds_2019/lib/python3.7/site-packages/scipy/sparse/linalg/dsolve/linsolve.py:193: MatrixRankWarning: Matrix is exactly singular\n",
      "  warn(\"Matrix is exactly singular\", MatrixRankWarning)\n"
     ]
    },
    {
     "name": "stdout",
     "output_type": "stream",
     "text": [
      " 491 / 640 combination\n",
      " 492 / 640 combination\n"
     ]
    },
    {
     "name": "stderr",
     "output_type": "stream",
     "text": [
      "/home/ymentha/anaconda3/envs/ntds_2019/lib/python3.7/site-packages/scipy/sparse/linalg/dsolve/linsolve.py:193: MatrixRankWarning: Matrix is exactly singular\n",
      "  warn(\"Matrix is exactly singular\", MatrixRankWarning)\n"
     ]
    },
    {
     "name": "stdout",
     "output_type": "stream",
     "text": [
      " 493 / 640 combination\n",
      " 494 / 640 combination\n",
      " 495 / 640 combination\n",
      " 496 / 640 combination\n"
     ]
    },
    {
     "name": "stderr",
     "output_type": "stream",
     "text": [
      "/home/ymentha/anaconda3/envs/ntds_2019/lib/python3.7/site-packages/scipy/sparse/linalg/dsolve/linsolve.py:193: MatrixRankWarning: Matrix is exactly singular\n",
      "  warn(\"Matrix is exactly singular\", MatrixRankWarning)\n"
     ]
    },
    {
     "name": "stdout",
     "output_type": "stream",
     "text": [
      " 497 / 640 combination\n",
      " 498 / 640 combination\n",
      " 499 / 640 combination\n",
      " 500 / 640 combination\n"
     ]
    },
    {
     "name": "stderr",
     "output_type": "stream",
     "text": [
      "/home/ymentha/anaconda3/envs/ntds_2019/lib/python3.7/site-packages/scipy/sparse/linalg/dsolve/linsolve.py:193: MatrixRankWarning: Matrix is exactly singular\n",
      "  warn(\"Matrix is exactly singular\", MatrixRankWarning)\n"
     ]
    },
    {
     "name": "stdout",
     "output_type": "stream",
     "text": [
      " 501 / 640 combination\n",
      " 502 / 640 combination\n",
      " 503 / 640 combination\n",
      " 504 / 640 combination\n"
     ]
    },
    {
     "name": "stderr",
     "output_type": "stream",
     "text": [
      "/home/ymentha/anaconda3/envs/ntds_2019/lib/python3.7/site-packages/scipy/sparse/linalg/dsolve/linsolve.py:193: MatrixRankWarning: Matrix is exactly singular\n",
      "  warn(\"Matrix is exactly singular\", MatrixRankWarning)\n"
     ]
    },
    {
     "name": "stdout",
     "output_type": "stream",
     "text": [
      " 505 / 640 combination\n",
      " 506 / 640 combination\n",
      " 507 / 640 combination\n",
      " 508 / 640 combination\n"
     ]
    },
    {
     "name": "stderr",
     "output_type": "stream",
     "text": [
      "/home/ymentha/anaconda3/envs/ntds_2019/lib/python3.7/site-packages/scipy/sparse/linalg/dsolve/linsolve.py:193: MatrixRankWarning: Matrix is exactly singular\n",
      "  warn(\"Matrix is exactly singular\", MatrixRankWarning)\n"
     ]
    },
    {
     "name": "stdout",
     "output_type": "stream",
     "text": [
      " 509 / 640 combination\n",
      " 510 / 640 combination\n",
      " 511 / 640 combination\n",
      " 512 / 640 combination\n"
     ]
    },
    {
     "name": "stderr",
     "output_type": "stream",
     "text": [
      "/home/ymentha/anaconda3/envs/ntds_2019/lib/python3.7/site-packages/scipy/sparse/linalg/dsolve/linsolve.py:193: MatrixRankWarning: Matrix is exactly singular\n",
      "  warn(\"Matrix is exactly singular\", MatrixRankWarning)\n"
     ]
    },
    {
     "name": "stdout",
     "output_type": "stream",
     "text": [
      " 513 / 640 combination\n",
      " 514 / 640 combination\n",
      " 515 / 640 combination\n",
      " 516 / 640 combination\n"
     ]
    },
    {
     "name": "stderr",
     "output_type": "stream",
     "text": [
      "/home/ymentha/anaconda3/envs/ntds_2019/lib/python3.7/site-packages/scipy/sparse/linalg/dsolve/linsolve.py:193: MatrixRankWarning: Matrix is exactly singular\n",
      "  warn(\"Matrix is exactly singular\", MatrixRankWarning)\n"
     ]
    },
    {
     "name": "stdout",
     "output_type": "stream",
     "text": [
      " 517 / 640 combination\n",
      " 518 / 640 combination\n",
      " 519 / 640 combination\n",
      " 520 / 640 combination\n",
      " 521 / 640 combination\n",
      " 522 / 640 combination\n",
      " 523 / 640 combination\n",
      " 524 / 640 combination\n",
      " 525 / 640 combination\n",
      " 526 / 640 combination\n",
      " 527 / 640 combination\n",
      " 528 / 640 combination\n",
      " 529 / 640 combination\n"
     ]
    },
    {
     "name": "stderr",
     "output_type": "stream",
     "text": [
      "/home/ymentha/anaconda3/envs/ntds_2019/lib/python3.7/site-packages/scipy/sparse/linalg/dsolve/linsolve.py:193: MatrixRankWarning: Matrix is exactly singular\n",
      "  warn(\"Matrix is exactly singular\", MatrixRankWarning)\n"
     ]
    },
    {
     "name": "stdout",
     "output_type": "stream",
     "text": [
      " 530 / 640 combination\n",
      " 531 / 640 combination\n",
      " 532 / 640 combination\n",
      " 533 / 640 combination\n"
     ]
    },
    {
     "name": "stderr",
     "output_type": "stream",
     "text": [
      "/home/ymentha/anaconda3/envs/ntds_2019/lib/python3.7/site-packages/scipy/sparse/linalg/dsolve/linsolve.py:193: MatrixRankWarning: Matrix is exactly singular\n",
      "  warn(\"Matrix is exactly singular\", MatrixRankWarning)\n"
     ]
    },
    {
     "name": "stdout",
     "output_type": "stream",
     "text": [
      " 534 / 640 combination\n",
      " 535 / 640 combination\n",
      " 536 / 640 combination\n",
      " 537 / 640 combination\n"
     ]
    },
    {
     "name": "stderr",
     "output_type": "stream",
     "text": [
      "/home/ymentha/anaconda3/envs/ntds_2019/lib/python3.7/site-packages/scipy/sparse/linalg/dsolve/linsolve.py:193: MatrixRankWarning: Matrix is exactly singular\n",
      "  warn(\"Matrix is exactly singular\", MatrixRankWarning)\n"
     ]
    },
    {
     "name": "stdout",
     "output_type": "stream",
     "text": [
      " 538 / 640 combination\n",
      " 539 / 640 combination\n",
      " 540 / 640 combination\n",
      " 541 / 640 combination\n",
      " 542 / 640 combination\n"
     ]
    },
    {
     "name": "stderr",
     "output_type": "stream",
     "text": [
      "/home/ymentha/anaconda3/envs/ntds_2019/lib/python3.7/site-packages/scipy/sparse/linalg/dsolve/linsolve.py:193: MatrixRankWarning: Matrix is exactly singular\n",
      "  warn(\"Matrix is exactly singular\", MatrixRankWarning)\n"
     ]
    },
    {
     "name": "stdout",
     "output_type": "stream",
     "text": [
      " 543 / 640 combination\n",
      " 544 / 640 combination\n"
     ]
    },
    {
     "name": "stderr",
     "output_type": "stream",
     "text": [
      "/home/ymentha/anaconda3/envs/ntds_2019/lib/python3.7/site-packages/scipy/sparse/linalg/dsolve/linsolve.py:193: MatrixRankWarning: Matrix is exactly singular\n",
      "  warn(\"Matrix is exactly singular\", MatrixRankWarning)\n"
     ]
    },
    {
     "name": "stdout",
     "output_type": "stream",
     "text": [
      " 545 / 640 combination\n",
      " 546 / 640 combination\n",
      " 547 / 640 combination\n",
      " 548 / 640 combination\n",
      " 549 / 640 combination\n"
     ]
    },
    {
     "name": "stderr",
     "output_type": "stream",
     "text": [
      "/home/ymentha/anaconda3/envs/ntds_2019/lib/python3.7/site-packages/scipy/sparse/linalg/dsolve/linsolve.py:193: MatrixRankWarning: Matrix is exactly singular\n",
      "  warn(\"Matrix is exactly singular\", MatrixRankWarning)\n"
     ]
    },
    {
     "name": "stdout",
     "output_type": "stream",
     "text": [
      " 550 / 640 combination\n",
      " 551 / 640 combination\n",
      " 552 / 640 combination\n",
      " 553 / 640 combination\n",
      " 554 / 640 combination\n"
     ]
    },
    {
     "name": "stderr",
     "output_type": "stream",
     "text": [
      "/home/ymentha/anaconda3/envs/ntds_2019/lib/python3.7/site-packages/scipy/sparse/linalg/dsolve/linsolve.py:193: MatrixRankWarning: Matrix is exactly singular\n",
      "  warn(\"Matrix is exactly singular\", MatrixRankWarning)\n"
     ]
    },
    {
     "name": "stdout",
     "output_type": "stream",
     "text": [
      " 555 / 640 combination\n",
      " 556 / 640 combination\n",
      " 557 / 640 combination\n"
     ]
    },
    {
     "name": "stderr",
     "output_type": "stream",
     "text": [
      "/home/ymentha/anaconda3/envs/ntds_2019/lib/python3.7/site-packages/scipy/sparse/linalg/dsolve/linsolve.py:193: MatrixRankWarning: Matrix is exactly singular\n",
      "  warn(\"Matrix is exactly singular\", MatrixRankWarning)\n"
     ]
    },
    {
     "name": "stdout",
     "output_type": "stream",
     "text": [
      " 558 / 640 combination\n",
      " 559 / 640 combination\n",
      " 560 / 640 combination\n",
      " 561 / 640 combination\n",
      " 562 / 640 combination\n",
      " 563 / 640 combination\n",
      " 564 / 640 combination\n",
      " 565 / 640 combination\n",
      " 566 / 640 combination\n",
      " 567 / 640 combination\n",
      " 568 / 640 combination\n",
      " 569 / 640 combination\n",
      " 570 / 640 combination\n",
      " 571 / 640 combination\n",
      " 572 / 640 combination\n",
      " 573 / 640 combination\n",
      " 574 / 640 combination\n",
      " 575 / 640 combination\n",
      " 576 / 640 combination\n"
     ]
    },
    {
     "name": "stderr",
     "output_type": "stream",
     "text": [
      "/home/ymentha/anaconda3/envs/ntds_2019/lib/python3.7/site-packages/scipy/sparse/linalg/dsolve/linsolve.py:193: MatrixRankWarning: Matrix is exactly singular\n",
      "  warn(\"Matrix is exactly singular\", MatrixRankWarning)\n"
     ]
    },
    {
     "name": "stdout",
     "output_type": "stream",
     "text": [
      " 577 / 640 combination\n",
      " 578 / 640 combination\n",
      " 579 / 640 combination\n",
      " 580 / 640 combination\n",
      " 581 / 640 combination\n"
     ]
    },
    {
     "name": "stderr",
     "output_type": "stream",
     "text": [
      "/home/ymentha/anaconda3/envs/ntds_2019/lib/python3.7/site-packages/scipy/sparse/linalg/dsolve/linsolve.py:193: MatrixRankWarning: Matrix is exactly singular\n",
      "  warn(\"Matrix is exactly singular\", MatrixRankWarning)\n"
     ]
    },
    {
     "name": "stdout",
     "output_type": "stream",
     "text": [
      " 582 / 640 combination\n",
      " 583 / 640 combination\n",
      " 584 / 640 combination\n",
      " 585 / 640 combination\n",
      " 586 / 640 combination\n"
     ]
    },
    {
     "name": "stderr",
     "output_type": "stream",
     "text": [
      "/home/ymentha/anaconda3/envs/ntds_2019/lib/python3.7/site-packages/scipy/sparse/linalg/dsolve/linsolve.py:193: MatrixRankWarning: Matrix is exactly singular\n",
      "  warn(\"Matrix is exactly singular\", MatrixRankWarning)\n"
     ]
    },
    {
     "name": "stdout",
     "output_type": "stream",
     "text": [
      " 587 / 640 combination\n",
      " 588 / 640 combination\n"
     ]
    },
    {
     "name": "stderr",
     "output_type": "stream",
     "text": [
      "/home/ymentha/anaconda3/envs/ntds_2019/lib/python3.7/site-packages/scipy/sparse/linalg/dsolve/linsolve.py:193: MatrixRankWarning: Matrix is exactly singular\n",
      "  warn(\"Matrix is exactly singular\", MatrixRankWarning)\n"
     ]
    },
    {
     "name": "stdout",
     "output_type": "stream",
     "text": [
      " 589 / 640 combination\n",
      " 590 / 640 combination\n",
      " 591 / 640 combination\n",
      " 592 / 640 combination\n"
     ]
    },
    {
     "name": "stderr",
     "output_type": "stream",
     "text": [
      "/home/ymentha/anaconda3/envs/ntds_2019/lib/python3.7/site-packages/scipy/sparse/linalg/dsolve/linsolve.py:193: MatrixRankWarning: Matrix is exactly singular\n",
      "  warn(\"Matrix is exactly singular\", MatrixRankWarning)\n"
     ]
    },
    {
     "name": "stdout",
     "output_type": "stream",
     "text": [
      " 593 / 640 combination\n",
      " 594 / 640 combination\n",
      " 595 / 640 combination\n",
      " 596 / 640 combination\n",
      " 597 / 640 combination\n"
     ]
    },
    {
     "name": "stderr",
     "output_type": "stream",
     "text": [
      "/home/ymentha/anaconda3/envs/ntds_2019/lib/python3.7/site-packages/scipy/sparse/linalg/dsolve/linsolve.py:193: MatrixRankWarning: Matrix is exactly singular\n",
      "  warn(\"Matrix is exactly singular\", MatrixRankWarning)\n"
     ]
    },
    {
     "name": "stdout",
     "output_type": "stream",
     "text": [
      " 598 / 640 combination\n",
      " 599 / 640 combination\n",
      " 600 / 640 combination\n",
      " 601 / 640 combination\n",
      " 602 / 640 combination\n",
      " 603 / 640 combination\n",
      " 604 / 640 combination\n",
      " 605 / 640 combination\n",
      " 606 / 640 combination\n",
      " 607 / 640 combination\n",
      " 608 / 640 combination\n",
      " 609 / 640 combination\n",
      " 610 / 640 combination\n",
      " 611 / 640 combination\n",
      " 612 / 640 combination\n",
      " 613 / 640 combination\n",
      " 614 / 640 combination\n",
      " 615 / 640 combination\n",
      " 616 / 640 combination\n",
      " 617 / 640 combination\n",
      " 618 / 640 combination\n",
      " 619 / 640 combination\n",
      " 620 / 640 combination\n",
      " 621 / 640 combination\n",
      " 622 / 640 combination\n",
      " 623 / 640 combination\n",
      " 624 / 640 combination\n"
     ]
    },
    {
     "name": "stderr",
     "output_type": "stream",
     "text": [
      "/home/ymentha/anaconda3/envs/ntds_2019/lib/python3.7/site-packages/scipy/sparse/linalg/dsolve/linsolve.py:193: MatrixRankWarning: Matrix is exactly singular\n",
      "  warn(\"Matrix is exactly singular\", MatrixRankWarning)\n"
     ]
    },
    {
     "name": "stdout",
     "output_type": "stream",
     "text": [
      " 625 / 640 combination\n",
      " 626 / 640 combination\n",
      " 627 / 640 combination\n",
      " 628 / 640 combination\n",
      " 629 / 640 combination\n"
     ]
    },
    {
     "name": "stderr",
     "output_type": "stream",
     "text": [
      "/home/ymentha/anaconda3/envs/ntds_2019/lib/python3.7/site-packages/scipy/sparse/linalg/dsolve/linsolve.py:193: MatrixRankWarning: Matrix is exactly singular\n",
      "  warn(\"Matrix is exactly singular\", MatrixRankWarning)\n"
     ]
    },
    {
     "name": "stdout",
     "output_type": "stream",
     "text": [
      " 630 / 640 combination\n",
      " 631 / 640 combination\n",
      " 632 / 640 combination\n",
      " 633 / 640 combination\n",
      " 634 / 640 combination\n"
     ]
    },
    {
     "name": "stderr",
     "output_type": "stream",
     "text": [
      "/home/ymentha/anaconda3/envs/ntds_2019/lib/python3.7/site-packages/scipy/sparse/linalg/dsolve/linsolve.py:193: MatrixRankWarning: Matrix is exactly singular\n",
      "  warn(\"Matrix is exactly singular\", MatrixRankWarning)\n"
     ]
    },
    {
     "name": "stdout",
     "output_type": "stream",
     "text": [
      " 635 / 640 combination\n",
      " 636 / 640 combination\n",
      " 637 / 640 combination\n"
     ]
    },
    {
     "name": "stderr",
     "output_type": "stream",
     "text": [
      "/home/ymentha/anaconda3/envs/ntds_2019/lib/python3.7/site-packages/scipy/sparse/linalg/dsolve/linsolve.py:193: MatrixRankWarning: Matrix is exactly singular\n",
      "  warn(\"Matrix is exactly singular\", MatrixRankWarning)\n"
     ]
    },
    {
     "name": "stdout",
     "output_type": "stream",
     "text": [
      " 638 / 640 combination\n",
      " 639 / 640 combination\n",
      "################################\n",
      "Biggest result for gene X218 : -0.29\n",
      "Smallest result for gene X218 : -564.41\n",
      "################################\n"
     ]
    }
   ],
   "source": [
    "list_cont_genes = ['X3820','X2397','X1002','X328','X218']\n",
    "dic_cont = {}\n",
    "for gene in list_cont_genes:\n",
    "    results_cont = grid_search_graphs(CV_cont_phen,METRICS,SIGMAS,EPSILONS,TAUS,gene)\n",
    "    ind_max = np.nanargmax([i[0] for i in results])\n",
    "    r2 = results[ind_max]\n",
    "    dic_cont[gene] = results_cont"
   ]
  },
  {
   "cell_type": "code",
   "execution_count": 248,
   "metadata": {},
   "outputs": [
    {
     "data": {
      "text/plain": [
       "(-564.4125417244661, -0.2909246803554421)"
      ]
     },
     "execution_count": 248,
     "metadata": {},
     "output_type": "execute_result"
    }
   ],
   "source": [
    "get_min_max(dic_cont['X218'])"
   ]
  }
 ],
 "metadata": {
  "kernelspec": {
   "display_name": "Python 3",
   "language": "python",
   "name": "python3"
  },
  "language_info": {
   "codemirror_mode": {
    "name": "ipython",
    "version": 3
   },
   "file_extension": ".py",
   "mimetype": "text/x-python",
   "name": "python",
   "nbconvert_exporter": "python",
   "pygments_lexer": "ipython3",
   "version": "3.7.3"
  },
  "toc-autonumbering": true,
  "toc-showcode": false,
  "toc-showmarkdowntxt": false,
  "toc-showtags": false
 },
 "nbformat": 4,
 "nbformat_minor": 4
}
