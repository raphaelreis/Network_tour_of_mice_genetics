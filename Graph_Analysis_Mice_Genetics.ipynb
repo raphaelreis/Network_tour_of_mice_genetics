{
 "cells": [
  {
   "cell_type": "markdown",
   "metadata": {},
   "source": [
    "___"
   ]
  },
  {
   "cell_type": "markdown",
   "metadata": {},
   "source": [
    "# GridSearch: PyGSP for Mouse Phenotype prediction"
   ]
  },
  {
   "cell_type": "code",
   "execution_count": 1,
   "metadata": {},
   "outputs": [],
   "source": [
    "from sklearn.metrics import mean_squared_error,r2_score,mean_absolute_error,accuracy_score\n",
    "from pygsp import graphs, filters, plotting, learning\n",
    "from scipy.spatial.distance import pdist, squareform\n",
    "import matplotlib.pyplot as plt\n",
    "from tabulate import tabulate\n",
    "from scipy.stats import norm\n",
    "import networkx as nx\n",
    "import pandas as pd\n",
    "import numpy as np\n",
    "import scipy\n",
    "import os\n",
    "import re\n",
    "import pickle"
   ]
  },
  {
   "cell_type": "markdown",
   "metadata": {},
   "source": [
    "## Import Data"
   ]
  },
  {
   "cell_type": "markdown",
   "metadata": {},
   "source": [
    "<div class=\"alert alert-block alert-info\">\n",
    "    \n",
    "* genotype_df: contains the genotype of each strain for each allele\n",
    "* phenotype_df : contains the phenotypes of each strain, lots of Nan\n",
    "\n",
    "NB: on this branch of the project, we don't use the expression of the genes, and try instead to predict straight the phenotype from the genotype: therefore, we don't import any file from expression data.\n",
    "</div>"
   ]
  },
  {
   "cell_type": "code",
   "execution_count": 2,
   "metadata": {},
   "outputs": [
    {
     "name": "stdout",
     "output_type": "stream",
     "text": [
      "There is NaN values: False\n",
      "Number of Nan values: 291981\n",
      "Percentage of nan in the phenotype file: 61.66%\n"
     ]
    }
   ],
   "source": [
    "genotype_df = pd.read_csv(\"data/genotype_BXD.txt\", sep='\\t', index_col='SNP')\n",
    "\n",
    "# Remove F0 and F1 generation (parental)\n",
    "genotype_df.drop(['B6D2F1', 'D2B6F1', 'C57BL.6J', 'DBA.2J'], axis=1, inplace=True)\n",
    "\n",
    "genotype_df = genotype_df.transpose()\n",
    "genotype_df.index.name = 'BXD_strain'\n",
    "\n",
    "print(\"There is NaN values: %s\" % genotype_df.isna().any().any())\n",
    "\n",
    "phenotype_df = pd.read_csv(\"data/Phenotype.txt\", sep='\\t', index_col='PhenoID')\n",
    "\n",
    "# Remove F0 and F1 generation (parental)\n",
    "phenotype_df.drop(['B6D2F1', 'D2B6F1', 'C57BL.6J', 'DBA.2J'], axis=1, inplace=True)\n",
    "\n",
    "nan_count = phenotype_df.isna().sum().sum()\n",
    "entries_count = phenotype_df.shape[0] * phenotype_df.shape[1]\n",
    "\n",
    "print(\"Number of Nan values: %s\" % nan_count)\n",
    "print(\"Percentage of nan in the phenotype file: {:0.2f}%\".format(nan_count / entries_count * 100))"
   ]
  },
  {
   "cell_type": "markdown",
   "metadata": {},
   "source": [
    "### Phenotype_id_aligner"
   ]
  },
  {
   "cell_type": "code",
   "execution_count": 3,
   "metadata": {},
   "outputs": [],
   "source": [
    "# Phenotype id aligne is an in-depth description of each phenotype\n",
    "phenotype_id_aligner = pd.read_csv('data/phenotypes_id_aligner.txt', sep='\\t', encoding='latin1')\n",
    "phenotype_id_aligner.rename({'Quantitive.trait': 'quantitative_trait'}, axis=1, inplace=True)\n",
    "quant_pheno_best = phenotype_id_aligner[(phenotype_id_aligner.Strains > 70) & (phenotype_id_aligner.quantitative_trait == 'No')]\n",
    "quant_pheno_best = quant_pheno_best.sort_values(by='Strains', ascending=False)"
   ]
  },
  {
   "cell_type": "markdown",
   "metadata": {},
   "source": [
    "#### Weighted edges"
   ]
  },
  {
   "cell_type": "code",
   "execution_count": 4,
   "metadata": {},
   "outputs": [],
   "source": [
    "def epsilon_similarity_graph(X: np.ndarray, metric='euclidean', sigma=1, epsilon=0):\n",
    "    \"\"\" X (n x d): coordinates of the n data points in R^d.\n",
    "        sigma (float): width of the kernel\n",
    "        epsilon (float): threshold\n",
    "        Return:\n",
    "        adjacency (n x n ndarray): adjacency matrix of the graph.\n",
    "    \"\"\"\n",
    "    Dists = squareform(pdist(X,metric = \"euclidean\"))\n",
    "    Dists = np.exp(-Dists**2/(2 * sigma**2))\n",
    "    Dists[Dists <= epsilon] = 0\n",
    "    np.fill_diagonal(Dists,0)\n",
    "    return Dists"
   ]
  },
  {
   "cell_type": "markdown",
   "metadata": {},
   "source": [
    "# Exploitation"
   ]
  },
  {
   "cell_type": "markdown",
   "metadata": {},
   "source": [
    "TODO:\n",
    "* Throw a big gridsearch on many parameters\n",
    "* adapt the grid_search_graphs function s.t. it can compute the adjacency matrix with the gene expression data."
   ]
  },
  {
   "cell_type": "markdown",
   "metadata": {},
   "source": [
    "<div class=\"alert alert-block alert-info\">\n",
    "At that point, all we need is a pygsp graph describing the different strains: the way it is linked is therefore critical for the success of the algorithm.\n",
    "</div>"
   ]
  },
  {
   "cell_type": "code",
   "execution_count": 5,
   "metadata": {},
   "outputs": [],
   "source": [
    "#small parameters for tests\n",
    "METRICS = ['cosine']\n",
    "SIGMAS = [60,70]\n",
    "EPSILONS = [0.28]\n",
    "TAUS = [0.1]"
   ]
  },
  {
   "cell_type": "code",
   "execution_count": 6,
   "metadata": {},
   "outputs": [],
   "source": [
    "#real parameters\n",
    "METRICS = ['cosine','jaccard','hamming','euclidian']\n",
    "SIGMAS = np.arange(60,76,15)\n",
    "EPSILONS = np.arange(0.2,0.4,0.01)\n",
    "TAUS = np.logspace(0,10,10)"
   ]
  },
  {
   "cell_type": "code",
   "execution_count": 7,
   "metadata": {},
   "outputs": [],
   "source": [
    "def get_min_max(params_scores):\n",
    "    ind_max = np.nanargmax([i[0] for i in params_scores])\n",
    "    ind_min = np.nanargmin([i[0] for i in params_scores])\n",
    "    maxo = params_scores[ind_max][0]\n",
    "    mino = params_scores[ind_min][0]\n",
    "    return mino,maxo"
   ]
  },
  {
   "cell_type": "code",
   "execution_count": 8,
   "metadata": {},
   "outputs": [
    {
     "name": "stdout",
     "output_type": "stream",
     "text": [
      "The best continuous variables are : X3820 X2397 X1002 X328 X218 X416 X699 X1302 X2147 X2164 X885 X1206 X2334 X2230 X1646 X1977 X424 X2041 X4482 X332 X228 X3903 X4556 X4256 X4849 X5029 X2490 X457 X2645 X2689\n",
      "The best discrete variables are : X546 X152 X111 X1012 X4473 X64 X62 X63 X76 X65 X545 X66 X69 X88 X70 X67 X553 X461 X646 X343 X4472 X215 X414 X61 X1011 X110 X57\n"
     ]
    }
   ],
   "source": [
    "phenotype_df['nan_count'] = phenotype_df.isnull().sum(axis = 1)\n",
    "top_variables = phenotype_df.join(phenotype_id_aligner.set_index('PhenoID')[['quantitative_trait']],how = 'inner')\n",
    "top_continuous = top_variables[top_variables.quantitative_trait == 'Yes'].sort_values('nan_count').head(30).copy()\n",
    "top_discrete = top_variables[top_variables.quantitative_trait == 'No'].sort_values('nan_count').head(30).copy()\n",
    "print('The best continuous variables are : {}'.format(' '.join(top_continuous.index.values)))\n",
    "print('The best discrete variables are : {}'.format(' '.join(top_discrete.index.values)))"
   ]
  },
  {
   "cell_type": "code",
   "execution_count": 9,
   "metadata": {},
   "outputs": [],
   "source": [
    "def grid_search_graphs(CV_meth,metrics,sigmas,epsilons,taus,gene):\n",
    "    \"\"\"\n",
    "    CV_meth: a method performing cross validation (on discrete or continuous variable)\n",
    "    metrics: list of metrics usable in a pdist matrix\n",
    "    sigmas,epsilons: parameter for the adjacency matrix we do the grid search on\n",
    "    \"\"\"\n",
    "    params_scores = []\n",
    "    tot_comb = len(metrics) * len(sigmas) * len(epsilons) * len(taus)\n",
    "    for i,met in enumerate(metrics):\n",
    "        for j,sig in enumerate(sigmas):\n",
    "            for k,eps in enumerate(epsilons):\n",
    "                for l,tau in enumerate(taus):\n",
    "                    ind = l + len(taus) * (k + len(epsilons) * (j + len(sigmas) * (i)))\n",
    "                    if (ind % 10 == 0):\n",
    "                        print(\" %i / %i combinations\" % (ind,tot_comb))\n",
    "                    try:\n",
    "                        weighted_adjacency = epsilon_similarity_graph(genotype_df.values, metric=met, sigma=sig, epsilon=eps)\n",
    "                        pygsp_weighted_graph = graphs.Graph(weighted_adjacency,lap_type='normalized') \n",
    "                        res = CV_meth(pygsp_weighted_graph,phenotype_df,genotype_df,tau,gene)\n",
    "                        params_scores.append([res,(met,sig,eps,tau)])\n",
    "                    except nx.NetworkXError:\n",
    "                        print('non connected graph with %.2f sigma and %.2f epsilon' % (sig,eps))\n",
    "                        continue\n",
    "    mino,maxo = get_min_max(params_scores)\n",
    "    print('#' * 32)\n",
    "    print('Biggest result for gene %s : %.2f' % (gene,maxo))\n",
    "    print('Smallest result for gene %s : %.2f' % (gene,mino))\n",
    "    print('#' * 32)\n",
    "    return params_scores\n",
    "    "
   ]
  },
  {
   "cell_type": "markdown",
   "metadata": {},
   "source": [
    "### Labels (hait coat color)"
   ]
  },
  {
   "cell_type": "code",
   "execution_count": 10,
   "metadata": {},
   "outputs": [],
   "source": [
    "def CV_hair_label(pygsp_weighted_graph,phenotype_df,genotype_df,tau,gene = 'X62',NUM_REPET = 50,plot = False):\n",
    "    y_true = phenotype_df.loc[gene][genotype_df.index].fillna(0)\n",
    "    acc = 0\n",
    "    for i in range(NUM_REPET):\n",
    "        rs = np.random.RandomState()\n",
    "        mask = rs.uniform(0,1,pygsp_weighted_graph.N) > 0.2\n",
    "        labels_true = y_true[~mask]\n",
    "        y_sparse = y_true.copy()\n",
    "        y_sparse[~mask] = np.nan\n",
    "\n",
    "        recovery = learning.classification_tikhonov(pygsp_weighted_graph,y_sparse,mask,tau=tau)\n",
    "        #we get rid of the 0 value: we don't accept no label\n",
    "\n",
    "        #recovery[:,0] = -1\n",
    "        prediction = np.argmax(recovery, axis=1)\n",
    "\n",
    "        labels_pred = prediction[~mask]\n",
    "        acc += accuracy_score(labels_true,labels_pred)\n",
    "    acc_final = acc/NUM_REPET\n",
    "    if plot:\n",
    "        print('Accuracy:',acc_final)\n",
    "        fig, ax = plt.subplots(1, 3, sharey=True, figsize=(20, 6))\n",
    "        #ground truth\n",
    "        pygsp_weighted_graph.plot_signal(y_true, ax=ax[0], title='Ground truth')\n",
    "        #measurements\n",
    "        pygsp_weighted_graph.plot_signal(y_sparse, ax=ax[1], title='Measurements')\n",
    "        #recover\n",
    "        pygsp_weighted_graph.plot_signal(prediction, ax=ax[2], title='Recovered class')\n",
    "    return acc_final"
   ]
  },
  {
   "cell_type": "code",
   "execution_count": null,
   "metadata": {},
   "outputs": [
    {
     "name": "stdout",
     "output_type": "stream",
     "text": [
      " 0 / 1600 combinations\n",
      " 10 / 1600 combinations\n",
      " 20 / 1600 combinations\n",
      " 30 / 1600 combinations\n",
      " 40 / 1600 combinations\n",
      " 50 / 1600 combinations\n",
      " 60 / 1600 combinations\n",
      " 70 / 1600 combinations\n",
      " 80 / 1600 combinations\n",
      " 90 / 1600 combinations\n",
      " 100 / 1600 combinations\n",
      " 110 / 1600 combinations\n",
      " 120 / 1600 combinations\n",
      " 130 / 1600 combinations\n",
      " 140 / 1600 combinations\n",
      " 150 / 1600 combinations\n",
      " 160 / 1600 combinations\n",
      " 170 / 1600 combinations\n",
      " 180 / 1600 combinations\n",
      " 190 / 1600 combinations\n",
      " 200 / 1600 combinations\n",
      " 210 / 1600 combinations\n",
      " 220 / 1600 combinations\n",
      " 230 / 1600 combinations\n",
      " 240 / 1600 combinations\n",
      " 250 / 1600 combinations\n",
      " 260 / 1600 combinations\n",
      " 270 / 1600 combinations\n",
      " 280 / 1600 combinations\n"
     ]
    }
   ],
   "source": [
    "list_genes = top_discrete.index.values\n",
    "dic_disc = {}\n",
    "for gene in list_genes:\n",
    "    result = np.nan\n",
    "    try:\n",
    "        result = grid_search_graphs(CV_hair_label,METRICS,SIGMAS,EPSILONS,TAUS,gene)\n",
    "        dic_disc[gene] = result\n",
    "        with open('results/dic_disc.pickle','wb') as f:\n",
    "            pickle.dump(dic_disc,f)\n",
    "    except:\n",
    "        continue"
   ]
  },
  {
   "cell_type": "markdown",
   "metadata": {},
   "source": [
    "### Continuous variable"
   ]
  },
  {
   "cell_type": "markdown",
   "metadata": {},
   "source": [
    "As we can see, there are more than 10 continuous phenotype who have interesting charateristics as continuous features."
   ]
  },
  {
   "cell_type": "code",
   "execution_count": 11,
   "metadata": {},
   "outputs": [],
   "source": [
    "def CV_cont_phen(pygsp_weighted_graph,phenotype_df,genotype_df,tau,gene,NUM_REPET = 50,metric_meth = r2_score,plot = False):\n",
    "    ycont_true = phenotype_df.loc[gene][genotype_df.index]\n",
    "    ycont_true.fillna(ycont_true.mean(),inplace = True)\n",
    "    #mae or mse\n",
    "    mxe = 0\n",
    "    for i in range(NUM_REPET):\n",
    "        mask = np.random.RandomState().uniform(0,1,pygsp_weighted_graph.N) > 0.2\n",
    "        vals_true = ycont_true[~mask]\n",
    "        ycont_sparse = ycont_true.copy()\n",
    "        ycont_sparse[~mask] = np.nan\n",
    "\n",
    "        recovery = learning.regression_tikhonov(pygsp_weighted_graph,ycont_sparse,mask,tau=tau)\n",
    "        if any(np.isnan(recovery)):\n",
    "            return np.nan\n",
    "        vals_pred = recovery[~mask]\n",
    "        mxe += metric_meth(vals_true,vals_pred)\n",
    "\n",
    "    mxe_avg = mxe / NUM_REPET\n",
    "    if plot:\n",
    "        print(str(metric_meth),mxe_avg)\n",
    "        fig, ax = plt.subplots(1, 3, sharey=True, figsize=(20, 6))\n",
    "        limits = [ycont_true.min(),ycont_true.max()]\n",
    "\n",
    "        #ground truth\n",
    "        pygsp_weighted_graph.plot(ycont_true, ax=ax[0],limits = limits, title='Ground truth')\n",
    "        #measurements\n",
    "        pygsp_weighted_graph.plot_signal(ycont_sparse, ax=ax[1],limits = limits, title='Measurements')\n",
    "        #recover\n",
    "        pygsp_weighted_graph.plot_signal(recovery, ax=ax[2],limits = limits, title='Recovered class')\n",
    "    return mxe_avg"
   ]
  },
  {
   "cell_type": "code",
   "execution_count": 12,
   "metadata": {},
   "outputs": [
    {
     "name": "stdout",
     "output_type": "stream",
     "text": [
      "The best continuous variable are : X3820 X2397 X1002 X328 X218 X416 X699 X1302 X2147 X2164 X885 X1206 X2334 X2230 X1646 X1977 X424 X2041 X4482 X332 X228 X3903 X4556 X4256 X4849 X5029 X2490 X457 X2645 X2689\n"
     ]
    }
   ],
   "source": [
    "phenotype_df['nan_count'] = phenotype_df.isnull().sum(axis = 1)\n",
    "top_continuous = phenotype_df.join(phenotype_id_aligner.set_index('PhenoID')[['quantitative_trait']],how = 'inner')\n",
    "top_continuous = top_continuous[top_continuous.quantitative_trait == 'Yes'].sort_values('nan_count').head(30)\n",
    "print('The best continuous variable are : {}'.format(' '.join(top_continuous.index.values)))"
   ]
  },
  {
   "cell_type": "code",
   "execution_count": 13,
   "metadata": {},
   "outputs": [
    {
     "name": "stdout",
     "output_type": "stream",
     "text": [
      " 0 / 2 combinations\n",
      "################################\n",
      "Biggest result for gene X3820 : -0.69\n",
      "Smallest result for gene X3820 : -3.75\n",
      "################################\n",
      " 0 / 2 combinations\n",
      "################################\n",
      "Biggest result for gene X2397 : -2.44\n",
      "Smallest result for gene X2397 : -29.83\n",
      "################################\n",
      " 0 / 2 combinations\n",
      "################################\n",
      "Biggest result for gene X1002 : -25.86\n",
      "Smallest result for gene X1002 : -365.72\n",
      "################################\n",
      " 0 / 2 combinations\n",
      "################################\n",
      "Biggest result for gene X328 : -26.17\n",
      "Smallest result for gene X328 : -275.55\n",
      "################################\n",
      " 0 / 2 combinations\n",
      "################################\n",
      "Biggest result for gene X218 : -25.22\n",
      "Smallest result for gene X218 : -374.02\n",
      "################################\n",
      " 0 / 2 combinations\n",
      "################################\n",
      "Biggest result for gene X416 : -24.81\n",
      "Smallest result for gene X416 : -378.99\n",
      "################################\n",
      " 0 / 2 combinations\n",
      "################################\n",
      "Biggest result for gene X699 : -4.19\n",
      "Smallest result for gene X699 : -65.27\n",
      "################################\n",
      " 0 / 2 combinations\n",
      "################################\n",
      "Biggest result for gene X1302 : -5.54\n",
      "Smallest result for gene X1302 : -96.21\n",
      "################################\n",
      " 0 / 2 combinations\n",
      "################################\n",
      "Biggest result for gene X2147 : -10.78\n",
      "Smallest result for gene X2147 : -148.21\n",
      "################################\n",
      " 0 / 2 combinations\n",
      "################################\n",
      "Biggest result for gene X2164 : -32.25\n",
      "Smallest result for gene X2164 : -398.75\n",
      "################################\n",
      " 0 / 2 combinations\n",
      "################################\n",
      "Biggest result for gene X885 : -0.75\n",
      "Smallest result for gene X885 : -7.82\n",
      "################################\n",
      " 0 / 2 combinations\n",
      "################################\n",
      "Biggest result for gene X1206 : -0.49\n",
      "Smallest result for gene X1206 : -3.38\n",
      "################################\n",
      " 0 / 2 combinations\n",
      "################################\n",
      "Biggest result for gene X2334 : -0.22\n",
      "Smallest result for gene X2334 : -1.21\n",
      "################################\n",
      " 0 / 2 combinations\n",
      "################################\n",
      "Biggest result for gene X2230 : -3.54\n",
      "Smallest result for gene X2230 : -59.05\n",
      "################################\n",
      " 0 / 2 combinations\n",
      "################################\n",
      "Biggest result for gene X1646 : -0.18\n",
      "Smallest result for gene X1646 : -1.56\n",
      "################################\n",
      " 0 / 2 combinations\n",
      "################################\n",
      "Biggest result for gene X1977 : -1.98\n",
      "Smallest result for gene X1977 : -33.63\n",
      "################################\n",
      " 0 / 2 combinations\n",
      "################################\n",
      "Biggest result for gene X424 : -0.05\n",
      "Smallest result for gene X424 : -0.47\n",
      "################################\n",
      " 0 / 2 combinations\n",
      "################################\n",
      "Biggest result for gene X2041 : -7.08\n",
      "Smallest result for gene X2041 : -107.80\n",
      "################################\n",
      " 0 / 2 combinations\n",
      "################################\n",
      "Biggest result for gene X4482 : -2.61\n",
      "Smallest result for gene X4482 : -32.70\n",
      "################################\n",
      " 0 / 2 combinations\n",
      "################################\n",
      "Biggest result for gene X332 : -3.01\n",
      "Smallest result for gene X332 : -42.81\n",
      "################################\n",
      " 0 / 2 combinations\n",
      "################################\n",
      "Biggest result for gene X228 : -4.40\n",
      "Smallest result for gene X228 : -58.50\n",
      "################################\n",
      " 0 / 2 combinations\n",
      "################################\n",
      "Biggest result for gene X3903 : -0.59\n",
      "Smallest result for gene X3903 : -6.83\n",
      "################################\n",
      " 0 / 2 combinations\n",
      "################################\n",
      "Biggest result for gene X4556 : -3.66\n",
      "Smallest result for gene X4556 : -54.24\n",
      "################################\n",
      " 0 / 2 combinations\n",
      "################################\n",
      "Biggest result for gene X4256 : -0.44\n",
      "Smallest result for gene X4256 : -4.64\n",
      "################################\n",
      " 0 / 2 combinations\n",
      "################################\n",
      "Biggest result for gene X4849 : -0.53\n",
      "Smallest result for gene X4849 : -5.94\n",
      "################################\n",
      " 0 / 2 combinations\n",
      "################################\n",
      "Biggest result for gene X5029 : -0.83\n",
      "Smallest result for gene X5029 : -3.00\n",
      "################################\n",
      " 0 / 2 combinations\n",
      "################################\n",
      "Biggest result for gene X2490 : -1.97\n",
      "Smallest result for gene X2490 : -27.60\n",
      "################################\n",
      " 0 / 2 combinations\n",
      "################################\n",
      "Biggest result for gene X457 : -4.66\n",
      "Smallest result for gene X457 : -80.19\n",
      "################################\n",
      " 0 / 2 combinations\n",
      "################################\n",
      "Biggest result for gene X2645 : -1.55\n",
      "Smallest result for gene X2645 : -20.51\n",
      "################################\n",
      " 0 / 2 combinations\n",
      "################################\n",
      "Biggest result for gene X2689 : -2.57\n",
      "Smallest result for gene X2689 : -31.26\n",
      "################################\n"
     ]
    }
   ],
   "source": [
    "list_cont_genes = top_continuous.index.values\n",
    "dic_cont = {}\n",
    "for gene in list_cont_genes:\n",
    "    results_cont = grid_search_graphs(CV_cont_phen,METRICS,SIGMAS,EPSILONS,TAUS,gene)\n",
    "    ind_max = np.nanargmax([i[0] for i in results_cont])\n",
    "    r2 = results_cont[ind_max]\n",
    "    dic_cont[gene] = results_cont\n",
    "    with open('results/dic_cont.pickle','wb') as f:\n",
    "        pickle.dump(dic_cont,f)"
   ]
  },
  {
   "cell_type": "code",
   "execution_count": 14,
   "metadata": {},
   "outputs": [
    {
     "data": {
      "text/plain": [
       "(-374.02218183788466, -25.21792517447068)"
      ]
     },
     "execution_count": 14,
     "metadata": {},
     "output_type": "execute_result"
    }
   ],
   "source": [
    "get_min_max(dic_cont['X218'])"
   ]
  },
  {
   "cell_type": "code",
   "execution_count": null,
   "metadata": {},
   "outputs": [],
   "source": []
  },
  {
   "cell_type": "code",
   "execution_count": null,
   "metadata": {},
   "outputs": [],
   "source": []
  }
 ],
 "metadata": {
  "kernelspec": {
   "display_name": "Python 3",
   "language": "python",
   "name": "python3"
  },
  "language_info": {
   "codemirror_mode": {
    "name": "ipython",
    "version": 3
   },
   "file_extension": ".py",
   "mimetype": "text/x-python",
   "name": "python",
   "nbconvert_exporter": "python",
   "pygments_lexer": "ipython3",
   "version": "3.7.4"
  },
  "toc-autonumbering": true,
  "toc-showcode": false,
  "toc-showmarkdowntxt": false,
  "toc-showtags": false
 },
 "nbformat": 4,
 "nbformat_minor": 4
}
