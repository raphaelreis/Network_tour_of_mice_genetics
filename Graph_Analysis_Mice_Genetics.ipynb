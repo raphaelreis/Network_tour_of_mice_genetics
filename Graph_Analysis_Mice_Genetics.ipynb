{
 "cells": [
  {
   "cell_type": "code",
   "execution_count": null,
   "metadata": {},
   "outputs": [],
   "source": [
    "import pandas as pd\n",
    "import numpy as np\n",
    "import matplotlib.pyplot as plt\n",
    "import networkx as nx"
   ]
  },
  {
   "cell_type": "markdown",
   "metadata": {},
   "source": [
    "# A. Acquisition"
   ]
  },
  {
   "cell_type": "markdown",
   "metadata": {},
   "source": [
    "|          | Description                                                  |         Amount |\n",
    "| -------- | ------------------------------------------------------------ | -------------: |\n",
    "| nodes    | mice                                                         |      100 - 200 |\n",
    "| edges    | similar genes, protein expressions, or phenotypes            | O(10) per node |\n",
    "| features | genes, protein expressions in tissues, or phenotypes         |          1000s |\n",
    "| labels   | depends: a particular gene, phenotype, or protein expression |            N/A |"
   ]
  },
  {
   "cell_type": "markdown",
   "metadata": {},
   "source": [
    "## A.0 Loading"
   ]
  },
  {
   "cell_type": "markdown",
   "metadata": {},
   "source": [
    "### genotype_BXD"
   ]
  },
  {
   "cell_type": "code",
   "execution_count": null,
   "metadata": {},
   "outputs": [],
   "source": [
    "genotype_df = pd.read_csv(\"data/genotype_BXD.txt\", sep='\\t', index_col='SNP')"
   ]
  },
  {
   "cell_type": "code",
   "execution_count": null,
   "metadata": {},
   "outputs": [],
   "source": [
    "genotype_df.shape"
   ]
  },
  {
   "cell_type": "code",
   "execution_count": null,
   "metadata": {},
   "outputs": [],
   "source": [
    "genotype_df = genotype_df.transpose()\n",
    "\n",
    "genotype_df.index.name = 'BXD_strain'"
   ]
  },
  {
   "cell_type": "code",
   "execution_count": null,
   "metadata": {},
   "outputs": [],
   "source": [
    "print(\"There is NaN values: %s\" % genotype_df.isna().any().any())"
   ]
  },
  {
   "cell_type": "code",
   "execution_count": null,
   "metadata": {},
   "outputs": [],
   "source": [
    "np.unique(genotype_df.values, return_counts=True)"
   ]
  },
  {
   "cell_type": "code",
   "execution_count": null,
   "metadata": {},
   "outputs": [],
   "source": [
    "genotype_df.head()"
   ]
  },
  {
   "cell_type": "markdown",
   "metadata": {},
   "source": [
    "<div class=\"alert alert-block alert-info\">\n",
    "    elements are set to -1, 0, and 1 for the homozygote, heterozygote, and other homozygote (AA, (Aa, aA), aa)\n",
    "</div>"
   ]
  },
  {
   "cell_type": "markdown",
   "metadata": {},
   "source": [
    "### Phenotype"
   ]
  },
  {
   "cell_type": "code",
   "execution_count": null,
   "metadata": {},
   "outputs": [],
   "source": [
    "phenotype_df = pd.read_csv(\"data/Phenotype.txt\", sep='\\t', index_col='PhenoID')\n",
    "phenotype_df.head()"
   ]
  },
  {
   "cell_type": "code",
   "execution_count": null,
   "metadata": {},
   "outputs": [],
   "source": [
    "phenotype_df.shape"
   ]
  },
  {
   "cell_type": "code",
   "execution_count": null,
   "metadata": {},
   "outputs": [],
   "source": [
    "nan_count = phenotype_df.isna().sum().sum()\n",
    "entries_count = phenotype_df.shape[0] * phenotype_df.shape[1]\n",
    "\n",
    "print(\"Number of Nan values: %s\" % nan_count)\n",
    "print(\"Percentage of nan in the phenotype file: {:0.2f}%\".format(nan_count / entries_count * 100))"
   ]
  },
  {
   "cell_type": "markdown",
   "metadata": {},
   "source": [
    "### Protein Expression"
   ]
  },
  {
   "cell_type": "code",
   "execution_count": null,
   "metadata": {},
   "outputs": [],
   "source": []
  },
  {
   "cell_type": "code",
   "execution_count": null,
   "metadata": {},
   "outputs": [],
   "source": []
  },
  {
   "cell_type": "code",
   "execution_count": null,
   "metadata": {},
   "outputs": [],
   "source": []
  },
  {
   "cell_type": "code",
   "execution_count": null,
   "metadata": {},
   "outputs": [],
   "source": []
  },
  {
   "cell_type": "code",
   "execution_count": null,
   "metadata": {},
   "outputs": [],
   "source": []
  },
  {
   "cell_type": "markdown",
   "metadata": {},
   "source": [
    "## A.1 Cleaning"
   ]
  },
  {
   "cell_type": "markdown",
   "metadata": {},
   "source": [
    "### Genotype"
   ]
  },
  {
   "cell_type": "markdown",
   "metadata": {},
   "source": [
    "genotype_df is already clean\n"
   ]
  },
  {
   "cell_type": "code",
   "execution_count": null,
   "metadata": {},
   "outputs": [],
   "source": [
    "genotype_df.to_pickle(\"data/pickle/genotype.pkl\")"
   ]
  },
  {
   "cell_type": "markdown",
   "metadata": {},
   "source": [
    "## A.2 Building graph from features (Preprocessing)"
   ]
  },
  {
   "cell_type": "code",
   "execution_count": null,
   "metadata": {},
   "outputs": [],
   "source": [
    "from scipy.spatial.distance import pdist, squareform"
   ]
  },
  {
   "cell_type": "markdown",
   "metadata": {},
   "source": [
    "### Genotype graph (gene based similarity)"
   ]
  },
  {
   "cell_type": "markdown",
   "metadata": {},
   "source": [
    "To build our first graph, we chose as nodes the mice and as edges a gene based similarity"
   ]
  },
  {
   "cell_type": "code",
   "execution_count": null,
   "metadata": {},
   "outputs": [],
   "source": [
    "genotype_df = pd.read_pickle(\"data/pickle/genotype.pkl\")"
   ]
  },
  {
   "cell_type": "code",
   "execution_count": null,
   "metadata": {},
   "outputs": [],
   "source": [
    "strain_genetic_dist = pdist(genotype_df.values, metric='euclidean')"
   ]
  },
  {
   "cell_type": "markdown",
   "metadata": {},
   "source": [
    "Check the mean pairwise distance  𝔼[𝐷]"
   ]
  },
  {
   "cell_type": "code",
   "execution_count": null,
   "metadata": {},
   "outputs": [],
   "source": [
    "from scipy.stats import norm\n",
    "import scipy\n",
    "import matplotlib\n",
    "def hist_norm_fit(serie: pd.Series, ax: matplotlib.axes.Axes, meth: scipy.stats, bins=30):\n",
    "    \"\"\"\n",
    "    performs a histogram of a given series and fits a normal pdf to it\n",
    "    parameters:\n",
    "        serie: the data series to plot\n",
    "        ax: the axis to plot on\n",
    "        bins: the number of bins for the histograms\n",
    "        meth: name of the pdf to fit to the data (from scipy)\n",
    "    \"\"\"\n",
    "    # Fit a normal distribution to the data:\n",
    "    if serie.isnull().values.any():\n",
    "        mu = np.nanmean(serie.values)\n",
    "        std = np.nanstd(serie.values)\n",
    "    else:\n",
    "        mu, std = meth.fit(serie.values)\n",
    "    \n",
    "\n",
    "    # Plot the histogram.\n",
    "    #dataset.Overall.hist(ax = ax,bins = 30)\n",
    "    ax.hist(serie, bins=bins, density=True, alpha=0.6, color='m')\n",
    "\n",
    "    # Plot the PDF.\n",
    "    xt = ax.get_xticks()\n",
    "    xmin, xmax = np.min(xt),np.max(xt)\n",
    "\n",
    "    x = np.linspace(xmin, xmax, 100)\n",
    "    if meth is norm:\n",
    "        p = meth.pdf(x, mu, std)\n",
    "    else:\n",
    "        p = meth.pdf(x)\n",
    "    ax.plot(x, p, 'k', linewidth=2)\n",
    "    title = \"Fit results to normal: $\\mu$ = %.2f,  $\\sigma$ = %.2f\" % (mu, std)\n",
    "    ax.set_title(title)"
   ]
  },
  {
   "cell_type": "code",
   "execution_count": null,
   "metadata": {},
   "outputs": [],
   "source": [
    "\n",
    "ax = plt.subplot()\n",
    "plt.suptitle(\"Histogram of Euclidean distances between mice strains\", fontweight='bold')\n",
    "strain_gen_dist_series = pd.Series(strain_genetic_dist.flatten())\n",
    "hist_norm_fit(strain_gen_dist_series, ax, meth=norm, bins=100)\n",
    "ax.set_xlabel(\"genetic distance\")\n",
    "plt.show()"
   ]
  },
  {
   "cell_type": "code",
   "execution_count": null,
   "metadata": {},
   "outputs": [],
   "source": [
    "ax = plt.subplot()\n",
    "plt.suptitle(\"Histogram of Euclidean distances between mice strains\", fontweight='bold')\n",
    "\n",
    "over90_mask = (strain_gen_dist_series > 90)\n",
    "hist_norm_fit(strain_gen_dist_series[over90_mask], ax, meth=norm, bins=100)\n",
    "\n",
    "ax.set_xlabel(\"genetic distance\")\n",
    "plt.show()"
   ]
  },
  {
   "cell_type": "markdown",
   "metadata": {},
   "source": [
    "<div class=\"alert alert-block alert-info\">\n",
    "    Once we mask the peak below 90, the distances genetic distance between strains looks like a gaussian distribution. Still need to investigate where does this ~90 pick comes from.\n",
    "</div>"
   ]
  },
  {
   "cell_type": "code",
   "execution_count": null,
   "metadata": {},
   "outputs": [],
   "source": [
    "# Here we take mean distance value when we don't mask over 90\n",
    "mean_dist = strain_genetic_dist.mean()\n",
    "std_dist = strain_genetic_dist.std()\n",
    "print(\"Mean pairwise distance: %0.2f (+/- %0.2f)\" % (strain_genetic_dist.mean(), strain_genetic_dist.std()))"
   ]
  },
  {
   "cell_type": "markdown",
   "metadata": {},
   "source": [
    "Let's create adjacency matrix for the strains by thresholding the Euclidean distance matrix.\n",
    "The resulting **unweighted** adjacency matrix should have entries\n",
    "\n",
    "\n",
    "$$ A_{ij} = \\begin{cases} 1, \\; \\text{if} \\; d(i,j)< \\mathbb{E}[D], \\; i \\neq j, \\\\ 0, \\; \\text{otherwise.} \\end{cases} $$\n"
   ]
  },
  {
   "cell_type": "code",
   "execution_count": null,
   "metadata": {},
   "outputs": [],
   "source": [
    "gen_related_strain_A.shape"
   ]
  },
  {
   "cell_type": "code",
   "execution_count": null,
   "metadata": {},
   "outputs": [],
   "source": [
    "#Algorithm to create the edges\n",
    "threshold = mean_dist\n",
    "gen_related_strain_A = squareform(strain_genetic_dist).copy()\n",
    "gen_related_strain_A[gen_related_strain_A < threshold] = 1\n",
    "gen_related_strain_A[gen_related_strain_A >= threshold] = 0\n",
    "gen_related_strain_A -= np.identity(gen_related_strain_A.shape[0])\n",
    "gen_related_strain_A.shape"
   ]
  },
  {
   "cell_type": "code",
   "execution_count": null,
   "metadata": {},
   "outputs": [],
   "source": [
    "plt.figure(figsize=(6, 6))\n",
    "plt.spy(gen_related_strain_A)\n",
    "plt.suptitle(\"Adj. matrix for genetic relation between strains\", fontweight='bold')\n",
    "plt.show()"
   ]
  },
  {
   "cell_type": "code",
   "execution_count": null,
   "metadata": {},
   "outputs": [],
   "source": [
    "np.save(\"data/numpy/gen_related_strain_A.npy\", gen_related_strain_A)"
   ]
  },
  {
   "cell_type": "markdown",
   "metadata": {},
   "source": [
    "# B. Exploration"
   ]
  },
  {
   "cell_type": "markdown",
   "metadata": {},
   "source": [
    "# C. Exploitation"
   ]
  },
  {
   "cell_type": "markdown",
   "metadata": {},
   "source": []
  }
 ],
 "metadata": {
  "kernelspec": {
   "display_name": "Python 3",
   "language": "python",
   "name": "python3"
  },
  "language_info": {
   "codemirror_mode": {
    "name": "ipython",
    "version": 3
   },
   "file_extension": ".py",
   "mimetype": "text/x-python",
   "name": "python",
   "nbconvert_exporter": "python",
   "pygments_lexer": "ipython3",
   "version": "3.7.3"
  }
 },
 "nbformat": 4,
 "nbformat_minor": 4
}
