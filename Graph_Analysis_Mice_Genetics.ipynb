{
 "cells": [
  {
   "cell_type": "code",
   "execution_count": 2,
   "metadata": {},
   "outputs": [],
   "source": [
    "import pandas as pd\n",
    "import numpy as np\n",
    "import matplotlib.pyplot as plt\n",
    "import networkx as nx\n",
    "from tabulate import tabulate"
   ]
  },
  {
   "cell_type": "markdown",
   "metadata": {
    "toc-hr-collapsed": false
   },
   "source": [
    "# Acquisition"
   ]
  },
  {
   "cell_type": "markdown",
   "metadata": {},
   "source": [
    "|          | Description                                                  |         Amount |\n",
    "| -------- | ------------------------------------------------------------ | -------------: |\n",
    "| nodes    | mice                                                         |      100 - 200 |\n",
    "| edges    | similar genes, protein expressions, or phenotypes            | O(10) per node |\n",
    "| features | genes, protein expressions in tissues, or phenotypes         |          1000s |\n",
    "| labels   | depends: a particular gene, phenotype, or protein expression |            N/A |"
   ]
  },
  {
   "cell_type": "markdown",
   "metadata": {
    "toc-hr-collapsed": false
   },
   "source": [
    "## Loading"
   ]
  },
  {
   "cell_type": "markdown",
   "metadata": {
    "toc-hr-collapsed": false
   },
   "source": [
    "### genotype_BXD"
   ]
  },
  {
   "cell_type": "code",
   "execution_count": 5,
   "metadata": {},
   "outputs": [],
   "source": [
    "genotype_df = pd.read_csv(\"data/genotype_BXD.txt\", sep='\\t', index_col='SNP')"
   ]
  },
  {
   "cell_type": "code",
   "execution_count": 6,
   "metadata": {},
   "outputs": [],
   "source": [
    "genotype_df = genotype_df.transpose()\n",
    "genotype_df.index.name = 'BXD_strain'"
   ]
  },
  {
   "cell_type": "code",
   "execution_count": 7,
   "metadata": {},
   "outputs": [
    {
     "name": "stdout",
     "output_type": "stream",
     "text": [
      "There is NaN values: False\n"
     ]
    }
   ],
   "source": [
    "print(\"There is NaN values: %s\" % genotype_df.isna().any().any())"
   ]
  },
  {
   "cell_type": "code",
   "execution_count": 8,
   "metadata": {},
   "outputs": [
    {
     "data": {
      "text/plain": [
       "(array([-1,  0,  1]), array([349682,  21153, 339593]))"
      ]
     },
     "execution_count": 8,
     "metadata": {},
     "output_type": "execute_result"
    }
   ],
   "source": [
    "np.unique(genotype_df.values, return_counts=True)"
   ]
  },
  {
   "cell_type": "code",
   "execution_count": 9,
   "metadata": {},
   "outputs": [
    {
     "data": {
      "text/html": [
       "<div>\n",
       "<style scoped>\n",
       "    .dataframe tbody tr th:only-of-type {\n",
       "        vertical-align: middle;\n",
       "    }\n",
       "\n",
       "    .dataframe tbody tr th {\n",
       "        vertical-align: top;\n",
       "    }\n",
       "\n",
       "    .dataframe thead th {\n",
       "        text-align: right;\n",
       "    }\n",
       "</style>\n",
       "<table border=\"1\" class=\"dataframe\">\n",
       "  <thead>\n",
       "    <tr style=\"text-align: right;\">\n",
       "      <th>SNP</th>\n",
       "      <th>rs31443144</th>\n",
       "      <th>rs6269442</th>\n",
       "      <th>rs32285189</th>\n",
       "      <th>rs258367496</th>\n",
       "      <th>rs32430919</th>\n",
       "      <th>rs36251697</th>\n",
       "      <th>rs30658298</th>\n",
       "      <th>rs51852623</th>\n",
       "      <th>rs31879829</th>\n",
       "      <th>rs36742481</th>\n",
       "      <th>...</th>\n",
       "      <th>rs47382998</th>\n",
       "      <th>rs13484107</th>\n",
       "      <th>rs3693969</th>\n",
       "      <th>DXMit223</th>\n",
       "      <th>rs31638776</th>\n",
       "      <th>rs31639754</th>\n",
       "      <th>rs46326766</th>\n",
       "      <th>rs31412493</th>\n",
       "      <th>rs31417520</th>\n",
       "      <th>UT-M-9461</th>\n",
       "    </tr>\n",
       "    <tr>\n",
       "      <th>BXD_strain</th>\n",
       "      <th></th>\n",
       "      <th></th>\n",
       "      <th></th>\n",
       "      <th></th>\n",
       "      <th></th>\n",
       "      <th></th>\n",
       "      <th></th>\n",
       "      <th></th>\n",
       "      <th></th>\n",
       "      <th></th>\n",
       "      <th></th>\n",
       "      <th></th>\n",
       "      <th></th>\n",
       "      <th></th>\n",
       "      <th></th>\n",
       "      <th></th>\n",
       "      <th></th>\n",
       "      <th></th>\n",
       "      <th></th>\n",
       "      <th></th>\n",
       "      <th></th>\n",
       "    </tr>\n",
       "  </thead>\n",
       "  <tbody>\n",
       "    <tr>\n",
       "      <td>B6D2F1</td>\n",
       "      <td>0</td>\n",
       "      <td>0</td>\n",
       "      <td>0</td>\n",
       "      <td>0</td>\n",
       "      <td>0</td>\n",
       "      <td>0</td>\n",
       "      <td>0</td>\n",
       "      <td>0</td>\n",
       "      <td>0</td>\n",
       "      <td>0</td>\n",
       "      <td>...</td>\n",
       "      <td>0</td>\n",
       "      <td>0</td>\n",
       "      <td>0</td>\n",
       "      <td>0</td>\n",
       "      <td>0</td>\n",
       "      <td>0</td>\n",
       "      <td>1</td>\n",
       "      <td>1</td>\n",
       "      <td>1</td>\n",
       "      <td>-1</td>\n",
       "    </tr>\n",
       "    <tr>\n",
       "      <td>D2B6F1</td>\n",
       "      <td>0</td>\n",
       "      <td>0</td>\n",
       "      <td>0</td>\n",
       "      <td>0</td>\n",
       "      <td>0</td>\n",
       "      <td>0</td>\n",
       "      <td>0</td>\n",
       "      <td>0</td>\n",
       "      <td>0</td>\n",
       "      <td>0</td>\n",
       "      <td>...</td>\n",
       "      <td>0</td>\n",
       "      <td>0</td>\n",
       "      <td>0</td>\n",
       "      <td>0</td>\n",
       "      <td>0</td>\n",
       "      <td>0</td>\n",
       "      <td>-1</td>\n",
       "      <td>-1</td>\n",
       "      <td>-1</td>\n",
       "      <td>1</td>\n",
       "    </tr>\n",
       "    <tr>\n",
       "      <td>C57BL.6J</td>\n",
       "      <td>-1</td>\n",
       "      <td>-1</td>\n",
       "      <td>-1</td>\n",
       "      <td>-1</td>\n",
       "      <td>-1</td>\n",
       "      <td>-1</td>\n",
       "      <td>-1</td>\n",
       "      <td>-1</td>\n",
       "      <td>-1</td>\n",
       "      <td>-1</td>\n",
       "      <td>...</td>\n",
       "      <td>-1</td>\n",
       "      <td>-1</td>\n",
       "      <td>-1</td>\n",
       "      <td>-1</td>\n",
       "      <td>-1</td>\n",
       "      <td>-1</td>\n",
       "      <td>-1</td>\n",
       "      <td>-1</td>\n",
       "      <td>-1</td>\n",
       "      <td>-1</td>\n",
       "    </tr>\n",
       "    <tr>\n",
       "      <td>DBA.2J</td>\n",
       "      <td>1</td>\n",
       "      <td>1</td>\n",
       "      <td>1</td>\n",
       "      <td>1</td>\n",
       "      <td>1</td>\n",
       "      <td>1</td>\n",
       "      <td>1</td>\n",
       "      <td>1</td>\n",
       "      <td>1</td>\n",
       "      <td>1</td>\n",
       "      <td>...</td>\n",
       "      <td>1</td>\n",
       "      <td>1</td>\n",
       "      <td>1</td>\n",
       "      <td>1</td>\n",
       "      <td>1</td>\n",
       "      <td>1</td>\n",
       "      <td>1</td>\n",
       "      <td>1</td>\n",
       "      <td>1</td>\n",
       "      <td>1</td>\n",
       "    </tr>\n",
       "    <tr>\n",
       "      <td>BXD1</td>\n",
       "      <td>-1</td>\n",
       "      <td>-1</td>\n",
       "      <td>-1</td>\n",
       "      <td>-1</td>\n",
       "      <td>-1</td>\n",
       "      <td>-1</td>\n",
       "      <td>-1</td>\n",
       "      <td>-1</td>\n",
       "      <td>-1</td>\n",
       "      <td>-1</td>\n",
       "      <td>...</td>\n",
       "      <td>-1</td>\n",
       "      <td>-1</td>\n",
       "      <td>-1</td>\n",
       "      <td>-1</td>\n",
       "      <td>-1</td>\n",
       "      <td>-1</td>\n",
       "      <td>1</td>\n",
       "      <td>1</td>\n",
       "      <td>1</td>\n",
       "      <td>-1</td>\n",
       "    </tr>\n",
       "  </tbody>\n",
       "</table>\n",
       "<p>5 rows × 7324 columns</p>\n",
       "</div>"
      ],
      "text/plain": [
       "SNP         rs31443144  rs6269442  rs32285189  rs258367496  rs32430919  \\\n",
       "BXD_strain                                                               \n",
       "B6D2F1               0          0           0            0           0   \n",
       "D2B6F1               0          0           0            0           0   \n",
       "C57BL.6J            -1         -1          -1           -1          -1   \n",
       "DBA.2J               1          1           1            1           1   \n",
       "BXD1                -1         -1          -1           -1          -1   \n",
       "\n",
       "SNP         rs36251697  rs30658298  rs51852623  rs31879829  rs36742481  ...  \\\n",
       "BXD_strain                                                              ...   \n",
       "B6D2F1               0           0           0           0           0  ...   \n",
       "D2B6F1               0           0           0           0           0  ...   \n",
       "C57BL.6J            -1          -1          -1          -1          -1  ...   \n",
       "DBA.2J               1           1           1           1           1  ...   \n",
       "BXD1                -1          -1          -1          -1          -1  ...   \n",
       "\n",
       "SNP         rs47382998  rs13484107  rs3693969  DXMit223  rs31638776  \\\n",
       "BXD_strain                                                            \n",
       "B6D2F1               0           0          0         0           0   \n",
       "D2B6F1               0           0          0         0           0   \n",
       "C57BL.6J            -1          -1         -1        -1          -1   \n",
       "DBA.2J               1           1          1         1           1   \n",
       "BXD1                -1          -1         -1        -1          -1   \n",
       "\n",
       "SNP         rs31639754  rs46326766  rs31412493  rs31417520  UT-M-9461  \n",
       "BXD_strain                                                             \n",
       "B6D2F1               0           1           1           1         -1  \n",
       "D2B6F1               0          -1          -1          -1          1  \n",
       "C57BL.6J            -1          -1          -1          -1         -1  \n",
       "DBA.2J               1           1           1           1          1  \n",
       "BXD1                -1           1           1           1         -1  \n",
       "\n",
       "[5 rows x 7324 columns]"
      ]
     },
     "execution_count": 9,
     "metadata": {},
     "output_type": "execute_result"
    }
   ],
   "source": [
    "genotype_df.head()"
   ]
  },
  {
   "cell_type": "markdown",
   "metadata": {},
   "source": [
    "<div class=\"alert alert-block alert-info\">\n",
    "    elements are set to -1, 0, and 1 for the homozygote, heterozygote, and other homozygote (AA, (Aa, aA), aa)\n",
    "</div>"
   ]
  },
  {
   "cell_type": "markdown",
   "metadata": {},
   "source": [
    "### Phenotype"
   ]
  },
  {
   "cell_type": "code",
   "execution_count": 7,
   "metadata": {},
   "outputs": [
    {
     "data": {
      "text/html": [
       "<div>\n",
       "<style scoped>\n",
       "    .dataframe tbody tr th:only-of-type {\n",
       "        vertical-align: middle;\n",
       "    }\n",
       "\n",
       "    .dataframe tbody tr th {\n",
       "        vertical-align: top;\n",
       "    }\n",
       "\n",
       "    .dataframe thead th {\n",
       "        text-align: right;\n",
       "    }\n",
       "</style>\n",
       "<table border=\"1\" class=\"dataframe\">\n",
       "  <thead>\n",
       "    <tr style=\"text-align: right;\">\n",
       "      <th></th>\n",
       "      <th>B6D2F1</th>\n",
       "      <th>D2B6F1</th>\n",
       "      <th>C57BL.6J</th>\n",
       "      <th>DBA.2J</th>\n",
       "      <th>BXD1</th>\n",
       "      <th>BXD2</th>\n",
       "      <th>BXD5</th>\n",
       "      <th>BXD6</th>\n",
       "      <th>BXD8</th>\n",
       "      <th>BXD9</th>\n",
       "      <th>...</th>\n",
       "      <th>BXD90</th>\n",
       "      <th>BXD91</th>\n",
       "      <th>BXD93</th>\n",
       "      <th>BXD94</th>\n",
       "      <th>BXD95</th>\n",
       "      <th>BXD98</th>\n",
       "      <th>BXD99</th>\n",
       "      <th>BXD100</th>\n",
       "      <th>BXD101</th>\n",
       "      <th>BXD102</th>\n",
       "    </tr>\n",
       "    <tr>\n",
       "      <th>PhenoID</th>\n",
       "      <th></th>\n",
       "      <th></th>\n",
       "      <th></th>\n",
       "      <th></th>\n",
       "      <th></th>\n",
       "      <th></th>\n",
       "      <th></th>\n",
       "      <th></th>\n",
       "      <th></th>\n",
       "      <th></th>\n",
       "      <th></th>\n",
       "      <th></th>\n",
       "      <th></th>\n",
       "      <th></th>\n",
       "      <th></th>\n",
       "      <th></th>\n",
       "      <th></th>\n",
       "      <th></th>\n",
       "      <th></th>\n",
       "      <th></th>\n",
       "      <th></th>\n",
       "    </tr>\n",
       "  </thead>\n",
       "  <tbody>\n",
       "    <tr>\n",
       "      <td>X3063</td>\n",
       "      <td>NaN</td>\n",
       "      <td>NaN</td>\n",
       "      <td>1254.090</td>\n",
       "      <td>NaN</td>\n",
       "      <td>NaN</td>\n",
       "      <td>NaN</td>\n",
       "      <td>NaN</td>\n",
       "      <td>NaN</td>\n",
       "      <td>NaN</td>\n",
       "      <td>NaN</td>\n",
       "      <td>...</td>\n",
       "      <td>NaN</td>\n",
       "      <td>NaN</td>\n",
       "      <td>NaN</td>\n",
       "      <td>NaN</td>\n",
       "      <td>707.929</td>\n",
       "      <td>1481.930</td>\n",
       "      <td>NaN</td>\n",
       "      <td>577.571</td>\n",
       "      <td>1971.000</td>\n",
       "      <td>NaN</td>\n",
       "    </tr>\n",
       "    <tr>\n",
       "      <td>X3352</td>\n",
       "      <td>NaN</td>\n",
       "      <td>NaN</td>\n",
       "      <td>724.205</td>\n",
       "      <td>NaN</td>\n",
       "      <td>NaN</td>\n",
       "      <td>NaN</td>\n",
       "      <td>NaN</td>\n",
       "      <td>700.643</td>\n",
       "      <td>1304.79</td>\n",
       "      <td>NaN</td>\n",
       "      <td>...</td>\n",
       "      <td>NaN</td>\n",
       "      <td>NaN</td>\n",
       "      <td>NaN</td>\n",
       "      <td>NaN</td>\n",
       "      <td>525.393</td>\n",
       "      <td>765.048</td>\n",
       "      <td>NaN</td>\n",
       "      <td>579.286</td>\n",
       "      <td>691.286</td>\n",
       "      <td>NaN</td>\n",
       "    </tr>\n",
       "    <tr>\n",
       "      <td>X1093</td>\n",
       "      <td>NaN</td>\n",
       "      <td>NaN</td>\n",
       "      <td>887.500</td>\n",
       "      <td>507.40</td>\n",
       "      <td>NaN</td>\n",
       "      <td>NaN</td>\n",
       "      <td>NaN</td>\n",
       "      <td>NaN</td>\n",
       "      <td>NaN</td>\n",
       "      <td>NaN</td>\n",
       "      <td>...</td>\n",
       "      <td>366.5</td>\n",
       "      <td>NaN</td>\n",
       "      <td>NaN</td>\n",
       "      <td>NaN</td>\n",
       "      <td>472.640</td>\n",
       "      <td>1060.340</td>\n",
       "      <td>1032.26</td>\n",
       "      <td>646.000</td>\n",
       "      <td>978.000</td>\n",
       "      <td>NaN</td>\n",
       "    </tr>\n",
       "    <tr>\n",
       "      <td>X2256</td>\n",
       "      <td>NaN</td>\n",
       "      <td>NaN</td>\n",
       "      <td>607.708</td>\n",
       "      <td>460.07</td>\n",
       "      <td>NaN</td>\n",
       "      <td>NaN</td>\n",
       "      <td>NaN</td>\n",
       "      <td>NaN</td>\n",
       "      <td>NaN</td>\n",
       "      <td>NaN</td>\n",
       "      <td>...</td>\n",
       "      <td>236.4</td>\n",
       "      <td>NaN</td>\n",
       "      <td>NaN</td>\n",
       "      <td>NaN</td>\n",
       "      <td>426.500</td>\n",
       "      <td>788.400</td>\n",
       "      <td>965.60</td>\n",
       "      <td>563.900</td>\n",
       "      <td>1272.400</td>\n",
       "      <td>NaN</td>\n",
       "    </tr>\n",
       "    <tr>\n",
       "      <td>X830</td>\n",
       "      <td>NaN</td>\n",
       "      <td>NaN</td>\n",
       "      <td>35444.000</td>\n",
       "      <td>25325.00</td>\n",
       "      <td>NaN</td>\n",
       "      <td>NaN</td>\n",
       "      <td>NaN</td>\n",
       "      <td>NaN</td>\n",
       "      <td>NaN</td>\n",
       "      <td>NaN</td>\n",
       "      <td>...</td>\n",
       "      <td>21515.0</td>\n",
       "      <td>NaN</td>\n",
       "      <td>NaN</td>\n",
       "      <td>NaN</td>\n",
       "      <td>21898.000</td>\n",
       "      <td>38538.000</td>\n",
       "      <td>36348.00</td>\n",
       "      <td>26982.000</td>\n",
       "      <td>39328.000</td>\n",
       "      <td>NaN</td>\n",
       "    </tr>\n",
       "  </tbody>\n",
       "</table>\n",
       "<p>5 rows × 97 columns</p>\n",
       "</div>"
      ],
      "text/plain": [
       "         B6D2F1  D2B6F1   C57BL.6J    DBA.2J  BXD1  BXD2  BXD5     BXD6  \\\n",
       "PhenoID                                                                   \n",
       "X3063       NaN     NaN   1254.090       NaN   NaN   NaN   NaN      NaN   \n",
       "X3352       NaN     NaN    724.205       NaN   NaN   NaN   NaN  700.643   \n",
       "X1093       NaN     NaN    887.500    507.40   NaN   NaN   NaN      NaN   \n",
       "X2256       NaN     NaN    607.708    460.07   NaN   NaN   NaN      NaN   \n",
       "X830        NaN     NaN  35444.000  25325.00   NaN   NaN   NaN      NaN   \n",
       "\n",
       "            BXD8  BXD9  ...    BXD90  BXD91  BXD93  BXD94      BXD95  \\\n",
       "PhenoID                 ...                                            \n",
       "X3063        NaN   NaN  ...      NaN    NaN    NaN    NaN    707.929   \n",
       "X3352    1304.79   NaN  ...      NaN    NaN    NaN    NaN    525.393   \n",
       "X1093        NaN   NaN  ...    366.5    NaN    NaN    NaN    472.640   \n",
       "X2256        NaN   NaN  ...    236.4    NaN    NaN    NaN    426.500   \n",
       "X830         NaN   NaN  ...  21515.0    NaN    NaN    NaN  21898.000   \n",
       "\n",
       "             BXD98     BXD99     BXD100     BXD101  BXD102  \n",
       "PhenoID                                                     \n",
       "X3063     1481.930       NaN    577.571   1971.000     NaN  \n",
       "X3352      765.048       NaN    579.286    691.286     NaN  \n",
       "X1093     1060.340   1032.26    646.000    978.000     NaN  \n",
       "X2256      788.400    965.60    563.900   1272.400     NaN  \n",
       "X830     38538.000  36348.00  26982.000  39328.000     NaN  \n",
       "\n",
       "[5 rows x 97 columns]"
      ]
     },
     "execution_count": 7,
     "metadata": {},
     "output_type": "execute_result"
    }
   ],
   "source": [
    "phenotype_df = pd.read_csv(\"data/Phenotype.txt\", sep='\\t', index_col='PhenoID')\n",
    "phenotype_df.head()"
   ]
  },
  {
   "cell_type": "code",
   "execution_count": 8,
   "metadata": {},
   "outputs": [
    {
     "data": {
      "text/plain": [
       "(5092, 97)"
      ]
     },
     "execution_count": 8,
     "metadata": {},
     "output_type": "execute_result"
    }
   ],
   "source": [
    "phenotype_df.shape"
   ]
  },
  {
   "cell_type": "code",
   "execution_count": 9,
   "metadata": {},
   "outputs": [
    {
     "name": "stdout",
     "output_type": "stream",
     "text": [
      "Number of Nan values: 303459\n",
      "Percentage of nan in the phenotype file: 61.44%\n"
     ]
    }
   ],
   "source": [
    "nan_count = phenotype_df.isna().sum().sum()\n",
    "entries_count = phenotype_df.shape[0] * phenotype_df.shape[1]\n",
    "\n",
    "print(\"Number of Nan values: %s\" % nan_count)\n",
    "print(\"Percentage of nan in the phenotype file: {:0.2f}%\".format(nan_count / entries_count * 100))"
   ]
  },
  {
   "cell_type": "code",
   "execution_count": 10,
   "metadata": {},
   "outputs": [
    {
     "data": {
      "text/plain": [
       "<matplotlib.image.AxesImage at 0x116582860>"
      ]
     },
     "execution_count": 10,
     "metadata": {},
     "output_type": "execute_result"
    },
    {
     "data": {
      "image/png": "[encoded data removed]",
      "text/plain": [
       "<Figure size 1152x144 with 1 Axes>"
      ]
     },
     "metadata": {
      "needs_background": "light"
     },
     "output_type": "display_data"
    }
   ],
   "source": [
    "plt.matshow(phenotype_df.T)"
   ]
  },
  {
   "cell_type": "code",
   "execution_count": 11,
   "metadata": {},
   "outputs": [
    {
     "data": {
      "text/plain": [
       "<matplotlib.axes._subplots.AxesSubplot at 0x116689198>"
      ]
     },
     "execution_count": 11,
     "metadata": {},
     "output_type": "execute_result"
    },
    {
     "data": {
      "image/png": "[encoded data removed]",
      "text/plain": [
       "<Figure size 432x288 with 1 Axes>"
      ]
     },
     "metadata": {
      "needs_background": "light"
     },
     "output_type": "display_data"
    }
   ],
   "source": [
    "# Let's try finding phenotypes for which the maximum of mice have an entry\n",
    "\n",
    "phenotype_df.isnull().sum(axis=1).hist(bins=20)"
   ]
  },
  {
   "cell_type": "markdown",
   "metadata": {},
   "source": [
    "### Protein Expression"
   ]
  },
  {
   "cell_type": "markdown",
   "metadata": {},
   "source": [
    "EYE.txt seems to be the gene expression with the most "
   ]
  },
  {
   "cell_type": "code",
   "execution_count": null,
   "metadata": {},
   "outputs": [],
   "source": []
  },
  {
   "cell_type": "code",
   "execution_count": null,
   "metadata": {},
   "outputs": [],
   "source": []
  },
  {
   "cell_type": "code",
   "execution_count": null,
   "metadata": {},
   "outputs": [],
   "source": []
  },
  {
   "cell_type": "code",
   "execution_count": null,
   "metadata": {},
   "outputs": [],
   "source": []
  },
  {
   "cell_type": "markdown",
   "metadata": {},
   "source": [
    "### Phenotype_id_aligner"
   ]
  },
  {
   "cell_type": "code",
   "execution_count": 13,
   "metadata": {},
   "outputs": [],
   "source": [
    "phenotype_id_aligner = pd.read_csv('data/phenotypes_id_aligner.txt', sep='\\t', encoding='latin1')"
   ]
  },
  {
   "cell_type": "code",
   "execution_count": 14,
   "metadata": {},
   "outputs": [
    {
     "data": {
      "text/plain": [
       "(5092, 17)"
      ]
     },
     "execution_count": 14,
     "metadata": {},
     "output_type": "execute_result"
    }
   ],
   "source": [
    "phenotype_id_aligner.shape"
   ]
  },
  {
   "cell_type": "code",
   "execution_count": 17,
   "metadata": {},
   "outputs": [
    {
     "data": {
      "text/plain": [
       "['PhenoID',\n",
       " 'PhenoID.1',\n",
       " 'RecordID',\n",
       " 'Phenotype',\n",
       " 'Shown_pheno',\n",
       " 'Category',\n",
       " 'Category_ID',\n",
       " 'color',\n",
       " 'Phenotype_post',\n",
       " 'Phenotype_pre',\n",
       " 'Authors',\n",
       " 'Senior.Author',\n",
       " 'Abbreviation',\n",
       " 'Quantitive.trait',\n",
       " 'Tissues',\n",
       " 'Diet',\n",
       " 'Strains']"
      ]
     },
     "execution_count": 17,
     "metadata": {},
     "output_type": "execute_result"
    }
   ],
   "source": [
    "phenotype_id_aligner.columns.tolist()"
   ]
  },
  {
   "cell_type": "code",
   "execution_count": 31,
   "metadata": {},
   "outputs": [
    {
     "data": {
      "text/html": [
       "<div>\n",
       "<style scoped>\n",
       "    .dataframe tbody tr th:only-of-type {\n",
       "        vertical-align: middle;\n",
       "    }\n",
       "\n",
       "    .dataframe tbody tr th {\n",
       "        vertical-align: top;\n",
       "    }\n",
       "\n",
       "    .dataframe thead th {\n",
       "        text-align: right;\n",
       "    }\n",
       "</style>\n",
       "<table border=\"1\" class=\"dataframe\">\n",
       "  <thead>\n",
       "    <tr style=\"text-align: right;\">\n",
       "      <th></th>\n",
       "      <th>PhenoID</th>\n",
       "      <th>PhenoID.1</th>\n",
       "      <th>RecordID</th>\n",
       "      <th>Phenotype</th>\n",
       "      <th>Shown_pheno</th>\n",
       "      <th>Category</th>\n",
       "      <th>Category_ID</th>\n",
       "      <th>color</th>\n",
       "      <th>Phenotype_post</th>\n",
       "      <th>Phenotype_pre</th>\n",
       "      <th>Authors</th>\n",
       "      <th>Senior.Author</th>\n",
       "      <th>Abbreviation</th>\n",
       "      <th>Quantitive.trait</th>\n",
       "      <th>Tissues</th>\n",
       "      <th>Diet</th>\n",
       "      <th>Strains</th>\n",
       "    </tr>\n",
       "  </thead>\n",
       "  <tbody>\n",
       "    <tr>\n",
       "      <td>0</td>\n",
       "      <td>X3063</td>\n",
       "      <td>3063</td>\n",
       "      <td>12890</td>\n",
       "      <td>Central nervous system, metabolism, behavior: ...</td>\n",
       "      <td>Activity of 13-week old females, total counts ...</td>\n",
       "      <td>Activity</td>\n",
       "      <td>1.0</td>\n",
       "      <td>1.0</td>\n",
       "      <td>Central nervous system, metabolism, behavior: ...</td>\n",
       "      <td>Central nervous system, metabolism, behavior: ...</td>\n",
       "      <td>Andreux P, Williams EG, Koutnikova H, Houtkoop...</td>\n",
       "      <td>Auwerx_1</td>\n",
       "      <td>Activity of 13-week old females</td>\n",
       "      <td>Yes</td>\n",
       "      <td>muscle</td>\n",
       "      <td>NaN</td>\n",
       "      <td>19</td>\n",
       "    </tr>\n",
       "    <tr>\n",
       "      <td>1</td>\n",
       "      <td>X3352</td>\n",
       "      <td>3352</td>\n",
       "      <td>12960</td>\n",
       "      <td>Central nervous system, metabolism, behavior: ...</td>\n",
       "      <td>Activity of 13-week old males, total counts of...</td>\n",
       "      <td>Activity</td>\n",
       "      <td>2.0</td>\n",
       "      <td>1.0</td>\n",
       "      <td>Central nervous system, metabolism, behavior: ...</td>\n",
       "      <td>Central nervous system, metabolism, behavior: ...</td>\n",
       "      <td>Andreux P, Williams EG, Koutnikova H, Houtkoop...</td>\n",
       "      <td>Auwerx_1</td>\n",
       "      <td>Activity of 13-week old males</td>\n",
       "      <td>Yes</td>\n",
       "      <td>muscle</td>\n",
       "      <td>NaN</td>\n",
       "      <td>30</td>\n",
       "    </tr>\n",
       "  </tbody>\n",
       "</table>\n",
       "</div>"
      ],
      "text/plain": [
       "  PhenoID  PhenoID.1  RecordID  \\\n",
       "0   X3063       3063     12890   \n",
       "1   X3352       3352     12960   \n",
       "\n",
       "                                           Phenotype  \\\n",
       "0  Central nervous system, metabolism, behavior: ...   \n",
       "1  Central nervous system, metabolism, behavior: ...   \n",
       "\n",
       "                                         Shown_pheno  Category  Category_ID  \\\n",
       "0  Activity of 13-week old females, total counts ...  Activity          1.0   \n",
       "1  Activity of 13-week old males, total counts of...  Activity          2.0   \n",
       "\n",
       "   color                                     Phenotype_post  \\\n",
       "0    1.0  Central nervous system, metabolism, behavior: ...   \n",
       "1    1.0  Central nervous system, metabolism, behavior: ...   \n",
       "\n",
       "                                       Phenotype_pre  \\\n",
       "0  Central nervous system, metabolism, behavior: ...   \n",
       "1  Central nervous system, metabolism, behavior: ...   \n",
       "\n",
       "                                             Authors Senior.Author  \\\n",
       "0  Andreux P, Williams EG, Koutnikova H, Houtkoop...      Auwerx_1   \n",
       "1  Andreux P, Williams EG, Koutnikova H, Houtkoop...      Auwerx_1   \n",
       "\n",
       "                      Abbreviation Quantitive.trait Tissues Diet  Strains  \n",
       "0  Activity of 13-week old females              Yes  muscle  NaN       19  \n",
       "1    Activity of 13-week old males              Yes  muscle  NaN       30  "
      ]
     },
     "execution_count": 31,
     "metadata": {},
     "output_type": "execute_result"
    }
   ],
   "source": [
    "phenotype_id_aligner.iloc[0:2]"
   ]
  },
  {
   "cell_type": "markdown",
   "metadata": {
    "toc-hr-collapsed": false
   },
   "source": [
    "## Cleaning"
   ]
  },
  {
   "cell_type": "markdown",
   "metadata": {},
   "source": [
    "### Genotype"
   ]
  },
  {
   "cell_type": "markdown",
   "metadata": {},
   "source": [
    "genotype_df is already clean\n"
   ]
  },
  {
   "cell_type": "code",
   "execution_count": 10,
   "metadata": {},
   "outputs": [],
   "source": [
    "genotype_df.to_pickle(\"data/pickle/genotype.pkl\")"
   ]
  },
  {
   "cell_type": "markdown",
   "metadata": {
    "toc-hr-collapsed": true
   },
   "source": [
    "## Building graph from features (Preprocessing)"
   ]
  },
  {
   "cell_type": "code",
   "execution_count": 13,
   "metadata": {},
   "outputs": [],
   "source": [
    "from scipy.spatial.distance import pdist, squareform"
   ]
  },
  {
   "cell_type": "markdown",
   "metadata": {},
   "source": [
    "### Genotype graph (gene based similarity)"
   ]
  },
  {
   "cell_type": "markdown",
   "metadata": {},
   "source": [
    "To build our first graph, we chose as nodes the mice and as edges a gene based similarity"
   ]
  },
  {
   "cell_type": "code",
   "execution_count": 11,
   "metadata": {},
   "outputs": [],
   "source": [
    "genotype_df = pd.read_pickle(\"data/pickle/genotype.pkl\")"
   ]
  },
  {
   "cell_type": "code",
   "execution_count": 14,
   "metadata": {},
   "outputs": [],
   "source": [
    "strain_genetic_dist = pdist(genotype_df.values, metric='euclidean')"
   ]
  },
  {
   "cell_type": "markdown",
   "metadata": {},
   "source": [
    "Check the mean pairwise distance  𝔼[𝐷]"
   ]
  },
  {
   "cell_type": "code",
   "execution_count": 15,
   "metadata": {},
   "outputs": [],
   "source": [
    "from scipy.stats import norm\n",
    "import scipy\n",
    "import matplotlib\n",
    "\n",
    "def hist_norm_fit(serie: pd.Series, ax: matplotlib.axes.Axes, meth: scipy.stats, bins=30):\n",
    "    \"\"\"Print a histogram of a given series and fits a normal pdf to it\n",
    "    \n",
    "    Args:\n",
    "        serie: the data series to plot\n",
    "        ax: the axis to plot on\n",
    "        bins: the number of bins for the histograms\n",
    "        meth: name of the pdf to fit to the data (from scipy)\n",
    "    \"\"\"\n",
    "    # Fit a normal distribution to the data:\n",
    "    if serie.isnull().values.any():\n",
    "        mu = np.nanmean(serie.values)\n",
    "        std = np.nanstd(serie.values)\n",
    "    else:\n",
    "        mu, std = meth.fit(serie.values)\n",
    "    \n",
    "\n",
    "    # Plot the histogram.\n",
    "    #dataset.Overall.hist(ax = ax,bins = 30)\n",
    "    ax.hist(serie, bins=bins, density=True, alpha=0.6, color='m')\n",
    "\n",
    "    # Plot the PDF.\n",
    "    xt = ax.get_xticks()\n",
    "    xmin, xmax = np.min(xt),np.max(xt)\n",
    "\n",
    "    x = np.linspace(xmin, xmax, 100)\n",
    "    if meth is norm:\n",
    "        p = meth.pdf(x, mu, std)\n",
    "    else:\n",
    "        p = meth.pdf(x)\n",
    "    ax.plot(x, p, 'k', linewidth=2)\n",
    "    title = \"Fit results to normal: $\\mu$ = %.2f,  $\\sigma$ = %.2f\" % (mu, std)\n",
    "    ax.set_title(title)\n",
    "    \n",
    "    "
   ]
  },
  {
   "cell_type": "code",
   "execution_count": 16,
   "metadata": {},
   "outputs": [
    {
     "data": {
      "image/png": "[encoded data removed]",
      "text/plain": [
       "<Figure size 432x288 with 1 Axes>"
      ]
     },
     "metadata": {
      "needs_background": "light"
     },
     "output_type": "display_data"
    }
   ],
   "source": [
    "\n",
    "ax = plt.subplot()\n",
    "plt.suptitle(\"Histogram of Euclidean distances between mice strains\", fontweight='bold')\n",
    "strain_gen_dist_series = pd.Series(strain_genetic_dist.flatten())\n",
    "hist_norm_fit(strain_gen_dist_series, ax, meth=norm, bins=100)\n",
    "ax.set_xlabel(\"genetic distance\")\n",
    "plt.show()"
   ]
  },
  {
   "cell_type": "code",
   "execution_count": 17,
   "metadata": {},
   "outputs": [
    {
     "data": {
      "image/png": "[encoded data removed]",
      "text/plain": [
       "<Figure size 432x288 with 1 Axes>"
      ]
     },
     "metadata": {
      "needs_background": "light"
     },
     "output_type": "display_data"
    }
   ],
   "source": [
    "ax = plt.subplot()\n",
    "plt.suptitle(\"Histogram of Euclidean distances between mice strains\", fontweight='bold')\n",
    "\n",
    "over90_mask = (strain_gen_dist_series > 90)\n",
    "hist_norm_fit(strain_gen_dist_series[over90_mask], ax, meth=norm, bins=100)\n",
    "\n",
    "ax.set_xlabel(\"genetic distance\")\n",
    "plt.show()"
   ]
  },
  {
   "cell_type": "markdown",
   "metadata": {},
   "source": [
    "<div class=\"alert alert-block alert-info\">\n",
    "    Once we mask the peak below 90, the distances genetic distance between strains looks like a gaussian distribution. Still need to investigate where does this ~90 pick comes from.\n",
    "</div>"
   ]
  },
  {
   "cell_type": "code",
   "execution_count": 18,
   "metadata": {},
   "outputs": [
    {
     "name": "stdout",
     "output_type": "stream",
     "text": [
      "Mean pairwise distance: 117.99 (+/- 9.76)\n"
     ]
    }
   ],
   "source": [
    "# Here we take mean distance value when we don't mask over 90\n",
    "mean_dist = strain_genetic_dist.mean()\n",
    "std_dist = strain_genetic_dist.std()\n",
    "print(\"Mean pairwise distance: %0.2f (+/- %0.2f)\" % (strain_genetic_dist.mean(), strain_genetic_dist.std()))"
   ]
  },
  {
   "cell_type": "markdown",
   "metadata": {},
   "source": [
    "Let's create adjacency matrix for the strains by thresholding the Euclidean distance matrix.\n",
    "The resulting **unweighted** adjacency matrix should have entries\n",
    "\n",
    "\n",
    "$$ A_{ij} = \\begin{cases} 1, \\; \\text{if} \\; d(i,j)< \\mathbb{E}[D], \\; i \\neq j, \\\\ 0, \\; \\text{otherwise.} \\end{cases} $$\n"
   ]
  },
  {
   "cell_type": "code",
   "execution_count": 20,
   "metadata": {},
   "outputs": [
    {
     "data": {
      "text/plain": [
       "(97, 97)"
      ]
     },
     "execution_count": 20,
     "metadata": {},
     "output_type": "execute_result"
    }
   ],
   "source": [
    "#Algorithm to create the edges\n",
    "threshold = mean_dist\n",
    "gen_related_strain_A = squareform(strain_genetic_dist).copy()\n",
    "gen_related_strain_A[gen_related_strain_A < threshold] = 1\n",
    "gen_related_strain_A[gen_related_strain_A >= threshold] = 0\n",
    "gen_related_strain_A -= np.identity(gen_related_strain_A.shape[0])\n",
    "gen_related_strain_A.shape"
   ]
  },
  {
   "cell_type": "code",
   "execution_count": 21,
   "metadata": {},
   "outputs": [
    {
     "data": {
      "image/png": "[encoded data removed]",
      "text/plain": [
       "<Figure size 432x432 with 1 Axes>"
      ]
     },
     "metadata": {
      "needs_background": "light"
     },
     "output_type": "display_data"
    }
   ],
   "source": [
    "plt.figure(figsize=(6, 6))\n",
    "plt.spy(gen_related_strain_A)\n",
    "plt.suptitle(\"Adj. matrix for genetic relation between strains\", fontweight='bold')\n",
    "plt.show()"
   ]
  },
  {
   "cell_type": "code",
   "execution_count": null,
   "metadata": {},
   "outputs": [],
   "source": [
    "np.save(\"data/numpy/gen_related_strain_A.npy\", gen_related_strain_A)"
   ]
  },
  {
   "cell_type": "markdown",
   "metadata": {},
   "source": [
    "# Exploration"
   ]
  },
  {
   "cell_type": "markdown",
   "metadata": {
    "toc-hr-collapsed": false
   },
   "source": [
    "## Gene graph"
   ]
  },
  {
   "cell_type": "markdown",
   "metadata": {},
   "source": [
    "### Distribution"
   ]
  },
  {
   "cell_type": "code",
   "execution_count": 23,
   "metadata": {},
   "outputs": [],
   "source": [
    "A_genes = np.load(\"data/numpy/gen_related_strain_A.npy\")"
   ]
  },
  {
   "cell_type": "code",
   "execution_count": 24,
   "metadata": {},
   "outputs": [],
   "source": [
    "gene_graph = nx.from_numpy_array(A_genes)"
   ]
  },
  {
   "cell_type": "code",
   "execution_count": 48,
   "metadata": {},
   "outputs": [
    {
     "data": {
      "image/png": "[encoded data removed]",
      "text/plain": [
       "<Figure size 432x288 with 1 Axes>"
      ]
     },
     "metadata": {
      "needs_background": "light"
     },
     "output_type": "display_data"
    }
   ],
   "source": [
    "def plot_hist(G, bins=30):\n",
    "    d = G.degree()\n",
    "    plt.hist(list(dict(d).values()), bins=bins)\n",
    "    plt.show()\n",
    "    \n",
    "plot_hist(gene_graph)"
   ]
  },
  {
   "cell_type": "markdown",
   "metadata": {},
   "source": [
    "### Connected components"
   ]
  },
  {
   "cell_type": "code",
   "execution_count": 50,
   "metadata": {},
   "outputs": [
    {
     "name": "stdout",
     "output_type": "stream",
     "text": [
      "Number of connected components: 1\n"
     ]
    }
   ],
   "source": [
    "print(\"Number of connected components: %i\" %nx.number_connected_components(gene_graph))"
   ]
  },
  {
   "cell_type": "markdown",
   "metadata": {},
   "source": [
    "### Diameter"
   ]
  },
  {
   "cell_type": "code",
   "execution_count": 52,
   "metadata": {},
   "outputs": [
    {
     "name": "stdout",
     "output_type": "stream",
     "text": [
      "The diameter of the network (longest shortest path) is: 2\n"
     ]
    }
   ],
   "source": [
    "print(\"The diameter of the network (longest shortest path) is: %i\" % nx.diameter(gene_graph))"
   ]
  },
  {
   "cell_type": "markdown",
   "metadata": {},
   "source": [
    "# Exploitation"
   ]
  },
  {
   "cell_type": "markdown",
   "metadata": {},
   "source": []
  }
 ],
 "metadata": {
  "kernelspec": {
   "display_name": "Python 3",
   "language": "python",
   "name": "python3"
  },
  "language_info": {
   "codemirror_mode": {
    "name": "ipython",
    "version": 3
   },
   "file_extension": ".py",
   "mimetype": "text/x-python",
   "name": "python",
   "nbconvert_exporter": "python",
   "pygments_lexer": "ipython3",
   "version": "3.7.3"
  },
  "toc-autonumbering": true,
  "toc-showcode": false,
  "toc-showmarkdowntxt": false,
  "toc-showtags": false
 },
 "nbformat": 4,
 "nbformat_minor": 4
}
