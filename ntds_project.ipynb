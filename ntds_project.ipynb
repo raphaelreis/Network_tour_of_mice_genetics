{
 "cells": [
  {
   "cell_type": "markdown",
   "metadata": {},
   "source": [
    "# NTDS - Project "
   ]
  },
  {
   "cell_type": "code",
   "execution_count": 121,
   "metadata": {},
   "outputs": [],
   "source": [
    "#General\n",
    "import glob\n",
    "import os.path\n",
    "import numpy as np\n",
    "import pandas as pd\n",
    "from utils import *\n",
    "from os import listdir \n",
    "import matplotlib.pyplot as plt \n",
    "%matplotlib inline\n",
    "from ipywidgets import IntSlider, interact\n",
    "\n",
    "#Graph\n",
    "import networkx as nx\n",
    "from pygsp import graphs, learning\n",
    "\n",
    "#Scipy\n",
    "from scipy import stats\n",
    "from scipy.stats import zscore\n",
    "from scipy.spatial.distance import pdist, squareform\n",
    "\n",
    "#Sklearn\n",
    "from sklearn.utils import shuffle\n",
    "from sklearn.preprocessing import normalize\n",
    "from sklearn.metrics import matthews_corrcoef as mc\n",
    "from sklearn.ensemble import RandomForestClassifier\n",
    "from sklearn.feature_selection import mutual_info_classif, chi2\n",
    "\n",
    "#Keras\n",
    "from keras.models import Sequential\n",
    "from keras.layers import Dense, Dropout\n",
    "from keras.callbacks import EarlyStopping\n",
    "\n",
    "#Torch\n",
    "import torch as th\n",
    "import torch.nn as nn\n",
    "import torch.optim as optim\n",
    "import torch.nn.functional as F\n"
   ]
  },
  {
   "cell_type": "markdown",
   "metadata": {},
   "source": [
    "## Table of content"
   ]
  },
  {
   "cell_type": "markdown",
   "metadata": {},
   "source": [
    "1. [Introduction](#intro)\n",
    "2. [Data acquisition](#acquisition) <br>\n",
    "    2.1 [Genotype](#genotype) <br>\n",
    "    2.2 [Phenotype](#phenotype) <br>\n",
    "    2.3 [Expression data](#expression) <br>\n",
    "    2.4 [Others](#others) <br>\n",
    "3. [Data exploration](#exploration) <br>\n",
    "    3.1 [Genotype network](#genotype_net) <br>\n",
    "    3.2 [Phenotype network](#phenotype_net) <br>\n",
    "    3.3 [Expression data network](#expression_net) <br>\n",
    "4. [Exploitation](#exploitation) <br>\n",
    "    4.3 [Expression data network](#expression_network) <br>"
   ]
  },
  {
   "cell_type": "markdown",
   "metadata": {},
   "source": [
    "## 1. Introduction\n",
    "<a id='intro'></a>"
   ]
  },
  {
   "cell_type": "markdown",
   "metadata": {},
   "source": [
    "|          | Description                                                  |         Amount |\n",
    "| -------- | ------------------------------------------------------------ | -------------: |\n",
    "| nodes    | mice                                                         |      100 - 200 |\n",
    "| edges    | similar genes, protein expressions, or phenotypes            | O(10) per node |\n",
    "| features | genes, protein expressions in tissues, or phenotypes         |          1000s |\n",
    "| labels   | depends: a particular gene, phenotype, or protein expression |            N/A |"
   ]
  },
  {
   "cell_type": "markdown",
   "metadata": {},
   "source": [
    "## 2. Data acquisition\n",
    "<a id='acquisition'></a>"
   ]
  },
  {
   "cell_type": "markdown",
   "metadata": {},
   "source": [
    ">Each column is a single BXD strain (a mouse) whose genome is a unique combination of the C57BL/6J and DBA/2J parental strains."
   ]
  },
  {
   "cell_type": "code",
   "execution_count": 2,
   "metadata": {},
   "outputs": [],
   "source": [
    "data_folder = './data/BXD data-3/'\n",
    "expression_data_folder = data_folder + '/expression data/'"
   ]
  },
  {
   "cell_type": "markdown",
   "metadata": {},
   "source": [
    "### 2.1 Genotype\n",
    "<a id='genotype'></a>"
   ]
  },
  {
   "cell_type": "markdown",
   "metadata": {},
   "source": [
    ">The ``genotype_BXD.txt`` file is a binary matrix that describes the contribution of each of the parental strains for a list of selected genes (rows). Each row of the genotype data indicates whether a certain position in the genome is inherited from the C57BL/6J or DBA/2J parent."
   ]
  },
  {
   "cell_type": "code",
   "execution_count": 3,
   "metadata": {},
   "outputs": [
    {
     "name": "stdout",
     "output_type": "stream",
     "text": [
      "(97, 7324)\n"
     ]
    },
    {
     "data": {
      "text/html": [
       "<div>\n",
       "<style scoped>\n",
       "    .dataframe tbody tr th:only-of-type {\n",
       "        vertical-align: middle;\n",
       "    }\n",
       "\n",
       "    .dataframe tbody tr th {\n",
       "        vertical-align: top;\n",
       "    }\n",
       "\n",
       "    .dataframe thead th {\n",
       "        text-align: right;\n",
       "    }\n",
       "</style>\n",
       "<table border=\"1\" class=\"dataframe\">\n",
       "  <thead>\n",
       "    <tr style=\"text-align: right;\">\n",
       "      <th>SNP</th>\n",
       "      <th>rs31443144</th>\n",
       "      <th>rs6269442</th>\n",
       "      <th>rs32285189</th>\n",
       "      <th>rs258367496</th>\n",
       "      <th>rs32430919</th>\n",
       "      <th>rs36251697</th>\n",
       "      <th>rs30658298</th>\n",
       "      <th>rs51852623</th>\n",
       "      <th>rs31879829</th>\n",
       "      <th>rs36742481</th>\n",
       "      <th>...</th>\n",
       "      <th>rs47382998</th>\n",
       "      <th>rs13484107</th>\n",
       "      <th>rs3693969</th>\n",
       "      <th>DXMit223</th>\n",
       "      <th>rs31638776</th>\n",
       "      <th>rs31639754</th>\n",
       "      <th>rs46326766</th>\n",
       "      <th>rs31412493</th>\n",
       "      <th>rs31417520</th>\n",
       "      <th>UT-M-9461</th>\n",
       "    </tr>\n",
       "    <tr>\n",
       "      <th>BDX_strain</th>\n",
       "      <th></th>\n",
       "      <th></th>\n",
       "      <th></th>\n",
       "      <th></th>\n",
       "      <th></th>\n",
       "      <th></th>\n",
       "      <th></th>\n",
       "      <th></th>\n",
       "      <th></th>\n",
       "      <th></th>\n",
       "      <th></th>\n",
       "      <th></th>\n",
       "      <th></th>\n",
       "      <th></th>\n",
       "      <th></th>\n",
       "      <th></th>\n",
       "      <th></th>\n",
       "      <th></th>\n",
       "      <th></th>\n",
       "      <th></th>\n",
       "      <th></th>\n",
       "    </tr>\n",
       "  </thead>\n",
       "  <tbody>\n",
       "    <tr>\n",
       "      <td>B6D2F1</td>\n",
       "      <td>0</td>\n",
       "      <td>0</td>\n",
       "      <td>0</td>\n",
       "      <td>0</td>\n",
       "      <td>0</td>\n",
       "      <td>0</td>\n",
       "      <td>0</td>\n",
       "      <td>0</td>\n",
       "      <td>0</td>\n",
       "      <td>0</td>\n",
       "      <td>...</td>\n",
       "      <td>0</td>\n",
       "      <td>0</td>\n",
       "      <td>0</td>\n",
       "      <td>0</td>\n",
       "      <td>0</td>\n",
       "      <td>0</td>\n",
       "      <td>1</td>\n",
       "      <td>1</td>\n",
       "      <td>1</td>\n",
       "      <td>-1</td>\n",
       "    </tr>\n",
       "    <tr>\n",
       "      <td>D2B6F1</td>\n",
       "      <td>0</td>\n",
       "      <td>0</td>\n",
       "      <td>0</td>\n",
       "      <td>0</td>\n",
       "      <td>0</td>\n",
       "      <td>0</td>\n",
       "      <td>0</td>\n",
       "      <td>0</td>\n",
       "      <td>0</td>\n",
       "      <td>0</td>\n",
       "      <td>...</td>\n",
       "      <td>0</td>\n",
       "      <td>0</td>\n",
       "      <td>0</td>\n",
       "      <td>0</td>\n",
       "      <td>0</td>\n",
       "      <td>0</td>\n",
       "      <td>-1</td>\n",
       "      <td>-1</td>\n",
       "      <td>-1</td>\n",
       "      <td>1</td>\n",
       "    </tr>\n",
       "    <tr>\n",
       "      <td>C57BL.6J</td>\n",
       "      <td>-1</td>\n",
       "      <td>-1</td>\n",
       "      <td>-1</td>\n",
       "      <td>-1</td>\n",
       "      <td>-1</td>\n",
       "      <td>-1</td>\n",
       "      <td>-1</td>\n",
       "      <td>-1</td>\n",
       "      <td>-1</td>\n",
       "      <td>-1</td>\n",
       "      <td>...</td>\n",
       "      <td>-1</td>\n",
       "      <td>-1</td>\n",
       "      <td>-1</td>\n",
       "      <td>-1</td>\n",
       "      <td>-1</td>\n",
       "      <td>-1</td>\n",
       "      <td>-1</td>\n",
       "      <td>-1</td>\n",
       "      <td>-1</td>\n",
       "      <td>-1</td>\n",
       "    </tr>\n",
       "    <tr>\n",
       "      <td>DBA.2J</td>\n",
       "      <td>1</td>\n",
       "      <td>1</td>\n",
       "      <td>1</td>\n",
       "      <td>1</td>\n",
       "      <td>1</td>\n",
       "      <td>1</td>\n",
       "      <td>1</td>\n",
       "      <td>1</td>\n",
       "      <td>1</td>\n",
       "      <td>1</td>\n",
       "      <td>...</td>\n",
       "      <td>1</td>\n",
       "      <td>1</td>\n",
       "      <td>1</td>\n",
       "      <td>1</td>\n",
       "      <td>1</td>\n",
       "      <td>1</td>\n",
       "      <td>1</td>\n",
       "      <td>1</td>\n",
       "      <td>1</td>\n",
       "      <td>1</td>\n",
       "    </tr>\n",
       "    <tr>\n",
       "      <td>BXD1</td>\n",
       "      <td>-1</td>\n",
       "      <td>-1</td>\n",
       "      <td>-1</td>\n",
       "      <td>-1</td>\n",
       "      <td>-1</td>\n",
       "      <td>-1</td>\n",
       "      <td>-1</td>\n",
       "      <td>-1</td>\n",
       "      <td>-1</td>\n",
       "      <td>-1</td>\n",
       "      <td>...</td>\n",
       "      <td>-1</td>\n",
       "      <td>-1</td>\n",
       "      <td>-1</td>\n",
       "      <td>-1</td>\n",
       "      <td>-1</td>\n",
       "      <td>-1</td>\n",
       "      <td>1</td>\n",
       "      <td>1</td>\n",
       "      <td>1</td>\n",
       "      <td>-1</td>\n",
       "    </tr>\n",
       "  </tbody>\n",
       "</table>\n",
       "<p>5 rows × 7324 columns</p>\n",
       "</div>"
      ],
      "text/plain": [
       "SNP         rs31443144  rs6269442  rs32285189  rs258367496  rs32430919  \\\n",
       "BDX_strain                                                               \n",
       "B6D2F1               0          0           0            0           0   \n",
       "D2B6F1               0          0           0            0           0   \n",
       "C57BL.6J            -1         -1          -1           -1          -1   \n",
       "DBA.2J               1          1           1            1           1   \n",
       "BXD1                -1         -1          -1           -1          -1   \n",
       "\n",
       "SNP         rs36251697  rs30658298  rs51852623  rs31879829  rs36742481  ...  \\\n",
       "BDX_strain                                                              ...   \n",
       "B6D2F1               0           0           0           0           0  ...   \n",
       "D2B6F1               0           0           0           0           0  ...   \n",
       "C57BL.6J            -1          -1          -1          -1          -1  ...   \n",
       "DBA.2J               1           1           1           1           1  ...   \n",
       "BXD1                -1          -1          -1          -1          -1  ...   \n",
       "\n",
       "SNP         rs47382998  rs13484107  rs3693969  DXMit223  rs31638776  \\\n",
       "BDX_strain                                                            \n",
       "B6D2F1               0           0          0         0           0   \n",
       "D2B6F1               0           0          0         0           0   \n",
       "C57BL.6J            -1          -1         -1        -1          -1   \n",
       "DBA.2J               1           1          1         1           1   \n",
       "BXD1                -1          -1         -1        -1          -1   \n",
       "\n",
       "SNP         rs31639754  rs46326766  rs31412493  rs31417520  UT-M-9461  \n",
       "BDX_strain                                                             \n",
       "B6D2F1               0           1           1           1         -1  \n",
       "D2B6F1               0          -1          -1          -1          1  \n",
       "C57BL.6J            -1          -1          -1          -1         -1  \n",
       "DBA.2J               1           1           1           1          1  \n",
       "BXD1                -1           1           1           1         -1  \n",
       "\n",
       "[5 rows x 7324 columns]"
      ]
     },
     "execution_count": 3,
     "metadata": {},
     "output_type": "execute_result"
    }
   ],
   "source": [
    "df_genotype = pd.read_csv(data_folder + 'genotype_BXD.txt', delimiter =\"\\t\", index_col='SNP').transpose()\n",
    "df_genotype.index.name = 'BDX_strain'\n",
    "print(df_genotype.shape)\n",
    "df_genotype.head()"
   ]
  },
  {
   "cell_type": "markdown",
   "metadata": {},
   "source": [
    "### 2.2 Phenotype\n",
    "<a id='phenotype'></a>"
   ]
  },
  {
   "cell_type": "markdown",
   "metadata": {},
   "source": [
    ">Phenotype data contained in ``Phenotype.txt`` are also matrices indicating the values of each phenotype for each strain."
   ]
  },
  {
   "cell_type": "code",
   "execution_count": 23,
   "metadata": {},
   "outputs": [
    {
     "name": "stdout",
     "output_type": "stream",
     "text": [
      "(97, 5092)\n"
     ]
    },
    {
     "data": {
      "text/html": [
       "<div>\n",
       "<style scoped>\n",
       "    .dataframe tbody tr th:only-of-type {\n",
       "        vertical-align: middle;\n",
       "    }\n",
       "\n",
       "    .dataframe tbody tr th {\n",
       "        vertical-align: top;\n",
       "    }\n",
       "\n",
       "    .dataframe thead th {\n",
       "        text-align: right;\n",
       "    }\n",
       "</style>\n",
       "<table border=\"1\" class=\"dataframe\">\n",
       "  <thead>\n",
       "    <tr style=\"text-align: right;\">\n",
       "      <th>PhenoID</th>\n",
       "      <th>X3063</th>\n",
       "      <th>X3352</th>\n",
       "      <th>X1093</th>\n",
       "      <th>X2256</th>\n",
       "      <th>X830</th>\n",
       "      <th>X1516</th>\n",
       "      <th>X2451</th>\n",
       "      <th>X3938</th>\n",
       "      <th>X1892</th>\n",
       "      <th>X908</th>\n",
       "      <th>...</th>\n",
       "      <th>X794</th>\n",
       "      <th>X1245</th>\n",
       "      <th>X2048</th>\n",
       "      <th>X502</th>\n",
       "      <th>X2307</th>\n",
       "      <th>X1827</th>\n",
       "      <th>X1149</th>\n",
       "      <th>X3873</th>\n",
       "      <th>X35</th>\n",
       "      <th>X57</th>\n",
       "    </tr>\n",
       "    <tr>\n",
       "      <th>BXD_strain</th>\n",
       "      <th></th>\n",
       "      <th></th>\n",
       "      <th></th>\n",
       "      <th></th>\n",
       "      <th></th>\n",
       "      <th></th>\n",
       "      <th></th>\n",
       "      <th></th>\n",
       "      <th></th>\n",
       "      <th></th>\n",
       "      <th></th>\n",
       "      <th></th>\n",
       "      <th></th>\n",
       "      <th></th>\n",
       "      <th></th>\n",
       "      <th></th>\n",
       "      <th></th>\n",
       "      <th></th>\n",
       "      <th></th>\n",
       "      <th></th>\n",
       "      <th></th>\n",
       "    </tr>\n",
       "  </thead>\n",
       "  <tbody>\n",
       "    <tr>\n",
       "      <td>B6D2F1</td>\n",
       "      <td>NaN</td>\n",
       "      <td>NaN</td>\n",
       "      <td>NaN</td>\n",
       "      <td>NaN</td>\n",
       "      <td>NaN</td>\n",
       "      <td>NaN</td>\n",
       "      <td>NaN</td>\n",
       "      <td>NaN</td>\n",
       "      <td>NaN</td>\n",
       "      <td>NaN</td>\n",
       "      <td>...</td>\n",
       "      <td>NaN</td>\n",
       "      <td>NaN</td>\n",
       "      <td>NaN</td>\n",
       "      <td>NaN</td>\n",
       "      <td>NaN</td>\n",
       "      <td>NaN</td>\n",
       "      <td>NaN</td>\n",
       "      <td>NaN</td>\n",
       "      <td>52.894</td>\n",
       "      <td>NaN</td>\n",
       "    </tr>\n",
       "    <tr>\n",
       "      <td>D2B6F1</td>\n",
       "      <td>NaN</td>\n",
       "      <td>NaN</td>\n",
       "      <td>NaN</td>\n",
       "      <td>NaN</td>\n",
       "      <td>NaN</td>\n",
       "      <td>NaN</td>\n",
       "      <td>NaN</td>\n",
       "      <td>NaN</td>\n",
       "      <td>NaN</td>\n",
       "      <td>NaN</td>\n",
       "      <td>...</td>\n",
       "      <td>NaN</td>\n",
       "      <td>NaN</td>\n",
       "      <td>NaN</td>\n",
       "      <td>NaN</td>\n",
       "      <td>NaN</td>\n",
       "      <td>NaN</td>\n",
       "      <td>NaN</td>\n",
       "      <td>NaN</td>\n",
       "      <td>NaN</td>\n",
       "      <td>NaN</td>\n",
       "    </tr>\n",
       "    <tr>\n",
       "      <td>C57BL.6J</td>\n",
       "      <td>1254.09</td>\n",
       "      <td>724.205</td>\n",
       "      <td>887.5</td>\n",
       "      <td>607.708</td>\n",
       "      <td>35444.0</td>\n",
       "      <td>26784.0</td>\n",
       "      <td>13018.0</td>\n",
       "      <td>9457.0</td>\n",
       "      <td>4764.0</td>\n",
       "      <td>2704.0</td>\n",
       "      <td>...</td>\n",
       "      <td>NaN</td>\n",
       "      <td>NaN</td>\n",
       "      <td>NaN</td>\n",
       "      <td>NaN</td>\n",
       "      <td>NaN</td>\n",
       "      <td>NaN</td>\n",
       "      <td>NaN</td>\n",
       "      <td>100.22</td>\n",
       "      <td>47.847</td>\n",
       "      <td>NaN</td>\n",
       "    </tr>\n",
       "    <tr>\n",
       "      <td>DBA.2J</td>\n",
       "      <td>NaN</td>\n",
       "      <td>NaN</td>\n",
       "      <td>507.4</td>\n",
       "      <td>460.070</td>\n",
       "      <td>25325.0</td>\n",
       "      <td>22411.0</td>\n",
       "      <td>2792.0</td>\n",
       "      <td>4354.0</td>\n",
       "      <td>4471.0</td>\n",
       "      <td>4114.0</td>\n",
       "      <td>...</td>\n",
       "      <td>NaN</td>\n",
       "      <td>NaN</td>\n",
       "      <td>NaN</td>\n",
       "      <td>NaN</td>\n",
       "      <td>NaN</td>\n",
       "      <td>NaN</td>\n",
       "      <td>NaN</td>\n",
       "      <td>158.28</td>\n",
       "      <td>52.500</td>\n",
       "      <td>NaN</td>\n",
       "    </tr>\n",
       "    <tr>\n",
       "      <td>BXD1</td>\n",
       "      <td>NaN</td>\n",
       "      <td>NaN</td>\n",
       "      <td>NaN</td>\n",
       "      <td>NaN</td>\n",
       "      <td>NaN</td>\n",
       "      <td>NaN</td>\n",
       "      <td>NaN</td>\n",
       "      <td>NaN</td>\n",
       "      <td>4032.0</td>\n",
       "      <td>3366.0</td>\n",
       "      <td>...</td>\n",
       "      <td>NaN</td>\n",
       "      <td>NaN</td>\n",
       "      <td>NaN</td>\n",
       "      <td>NaN</td>\n",
       "      <td>NaN</td>\n",
       "      <td>NaN</td>\n",
       "      <td>NaN</td>\n",
       "      <td>NaN</td>\n",
       "      <td>NaN</td>\n",
       "      <td>NaN</td>\n",
       "    </tr>\n",
       "    <tr>\n",
       "      <td>BXD2</td>\n",
       "      <td>NaN</td>\n",
       "      <td>NaN</td>\n",
       "      <td>NaN</td>\n",
       "      <td>NaN</td>\n",
       "      <td>NaN</td>\n",
       "      <td>NaN</td>\n",
       "      <td>NaN</td>\n",
       "      <td>NaN</td>\n",
       "      <td>NaN</td>\n",
       "      <td>NaN</td>\n",
       "      <td>...</td>\n",
       "      <td>NaN</td>\n",
       "      <td>NaN</td>\n",
       "      <td>NaN</td>\n",
       "      <td>NaN</td>\n",
       "      <td>NaN</td>\n",
       "      <td>NaN</td>\n",
       "      <td>NaN</td>\n",
       "      <td>NaN</td>\n",
       "      <td>NaN</td>\n",
       "      <td>NaN</td>\n",
       "    </tr>\n",
       "    <tr>\n",
       "      <td>BXD5</td>\n",
       "      <td>NaN</td>\n",
       "      <td>NaN</td>\n",
       "      <td>NaN</td>\n",
       "      <td>NaN</td>\n",
       "      <td>NaN</td>\n",
       "      <td>NaN</td>\n",
       "      <td>NaN</td>\n",
       "      <td>NaN</td>\n",
       "      <td>NaN</td>\n",
       "      <td>NaN</td>\n",
       "      <td>...</td>\n",
       "      <td>NaN</td>\n",
       "      <td>NaN</td>\n",
       "      <td>NaN</td>\n",
       "      <td>NaN</td>\n",
       "      <td>NaN</td>\n",
       "      <td>NaN</td>\n",
       "      <td>NaN</td>\n",
       "      <td>NaN</td>\n",
       "      <td>NaN</td>\n",
       "      <td>NaN</td>\n",
       "    </tr>\n",
       "    <tr>\n",
       "      <td>BXD6</td>\n",
       "      <td>NaN</td>\n",
       "      <td>700.643</td>\n",
       "      <td>NaN</td>\n",
       "      <td>NaN</td>\n",
       "      <td>NaN</td>\n",
       "      <td>NaN</td>\n",
       "      <td>NaN</td>\n",
       "      <td>NaN</td>\n",
       "      <td>3046.0</td>\n",
       "      <td>2532.0</td>\n",
       "      <td>...</td>\n",
       "      <td>NaN</td>\n",
       "      <td>NaN</td>\n",
       "      <td>NaN</td>\n",
       "      <td>NaN</td>\n",
       "      <td>NaN</td>\n",
       "      <td>NaN</td>\n",
       "      <td>NaN</td>\n",
       "      <td>NaN</td>\n",
       "      <td>55.602</td>\n",
       "      <td>NaN</td>\n",
       "    </tr>\n",
       "    <tr>\n",
       "      <td>BXD8</td>\n",
       "      <td>NaN</td>\n",
       "      <td>1304.790</td>\n",
       "      <td>NaN</td>\n",
       "      <td>NaN</td>\n",
       "      <td>NaN</td>\n",
       "      <td>NaN</td>\n",
       "      <td>NaN</td>\n",
       "      <td>NaN</td>\n",
       "      <td>NaN</td>\n",
       "      <td>NaN</td>\n",
       "      <td>...</td>\n",
       "      <td>NaN</td>\n",
       "      <td>NaN</td>\n",
       "      <td>NaN</td>\n",
       "      <td>NaN</td>\n",
       "      <td>NaN</td>\n",
       "      <td>NaN</td>\n",
       "      <td>NaN</td>\n",
       "      <td>NaN</td>\n",
       "      <td>NaN</td>\n",
       "      <td>NaN</td>\n",
       "    </tr>\n",
       "    <tr>\n",
       "      <td>BXD9</td>\n",
       "      <td>NaN</td>\n",
       "      <td>NaN</td>\n",
       "      <td>NaN</td>\n",
       "      <td>NaN</td>\n",
       "      <td>NaN</td>\n",
       "      <td>NaN</td>\n",
       "      <td>NaN</td>\n",
       "      <td>NaN</td>\n",
       "      <td>NaN</td>\n",
       "      <td>NaN</td>\n",
       "      <td>...</td>\n",
       "      <td>0.61</td>\n",
       "      <td>0.44</td>\n",
       "      <td>0.61</td>\n",
       "      <td>0.79</td>\n",
       "      <td>2.32</td>\n",
       "      <td>1.12</td>\n",
       "      <td>NaN</td>\n",
       "      <td>NaN</td>\n",
       "      <td>50.816</td>\n",
       "      <td>NaN</td>\n",
       "    </tr>\n",
       "  </tbody>\n",
       "</table>\n",
       "<p>10 rows × 5092 columns</p>\n",
       "</div>"
      ],
      "text/plain": [
       "PhenoID       X3063     X3352  X1093    X2256     X830    X1516    X2451  \\\n",
       "BXD_strain                                                                 \n",
       "B6D2F1          NaN       NaN    NaN      NaN      NaN      NaN      NaN   \n",
       "D2B6F1          NaN       NaN    NaN      NaN      NaN      NaN      NaN   \n",
       "C57BL.6J    1254.09   724.205  887.5  607.708  35444.0  26784.0  13018.0   \n",
       "DBA.2J          NaN       NaN  507.4  460.070  25325.0  22411.0   2792.0   \n",
       "BXD1            NaN       NaN    NaN      NaN      NaN      NaN      NaN   \n",
       "BXD2            NaN       NaN    NaN      NaN      NaN      NaN      NaN   \n",
       "BXD5            NaN       NaN    NaN      NaN      NaN      NaN      NaN   \n",
       "BXD6            NaN   700.643    NaN      NaN      NaN      NaN      NaN   \n",
       "BXD8            NaN  1304.790    NaN      NaN      NaN      NaN      NaN   \n",
       "BXD9            NaN       NaN    NaN      NaN      NaN      NaN      NaN   \n",
       "\n",
       "PhenoID      X3938   X1892    X908  ...  X794  X1245  X2048  X502  X2307  \\\n",
       "BXD_strain                          ...                                    \n",
       "B6D2F1         NaN     NaN     NaN  ...   NaN    NaN    NaN   NaN    NaN   \n",
       "D2B6F1         NaN     NaN     NaN  ...   NaN    NaN    NaN   NaN    NaN   \n",
       "C57BL.6J    9457.0  4764.0  2704.0  ...   NaN    NaN    NaN   NaN    NaN   \n",
       "DBA.2J      4354.0  4471.0  4114.0  ...   NaN    NaN    NaN   NaN    NaN   \n",
       "BXD1           NaN  4032.0  3366.0  ...   NaN    NaN    NaN   NaN    NaN   \n",
       "BXD2           NaN     NaN     NaN  ...   NaN    NaN    NaN   NaN    NaN   \n",
       "BXD5           NaN     NaN     NaN  ...   NaN    NaN    NaN   NaN    NaN   \n",
       "BXD6           NaN  3046.0  2532.0  ...   NaN    NaN    NaN   NaN    NaN   \n",
       "BXD8           NaN     NaN     NaN  ...   NaN    NaN    NaN   NaN    NaN   \n",
       "BXD9           NaN     NaN     NaN  ...  0.61   0.44   0.61  0.79   2.32   \n",
       "\n",
       "PhenoID     X1827  X1149   X3873     X35  X57  \n",
       "BXD_strain                                     \n",
       "B6D2F1        NaN    NaN     NaN  52.894  NaN  \n",
       "D2B6F1        NaN    NaN     NaN     NaN  NaN  \n",
       "C57BL.6J      NaN    NaN  100.22  47.847  NaN  \n",
       "DBA.2J        NaN    NaN  158.28  52.500  NaN  \n",
       "BXD1          NaN    NaN     NaN     NaN  NaN  \n",
       "BXD2          NaN    NaN     NaN     NaN  NaN  \n",
       "BXD5          NaN    NaN     NaN     NaN  NaN  \n",
       "BXD6          NaN    NaN     NaN  55.602  NaN  \n",
       "BXD8          NaN    NaN     NaN     NaN  NaN  \n",
       "BXD9         1.12    NaN     NaN  50.816  NaN  \n",
       "\n",
       "[10 rows x 5092 columns]"
      ]
     },
     "execution_count": 23,
     "metadata": {},
     "output_type": "execute_result"
    }
   ],
   "source": [
    "df_phenotype = pd.read_csv(data_folder + \"Phenotype.txt\", delimiter=\"\\t\", index_col='PhenoID').transpose() \n",
    "df_phenotype.index.name = 'BXD_strain'\n",
    "print(df_phenotype.shape)\n",
    "df_phenotype.head(10)"
   ]
  },
  {
   "cell_type": "markdown",
   "metadata": {},
   "source": [
    "### 2.3 Expression data\n",
    "<a id='expression'></a>"
   ]
  },
  {
   "cell_type": "markdown",
   "metadata": {},
   "source": [
    ">In addition, multiomic molecular phenotypes from different mouse organs are represented as one matrix per organ (e.g., brain, bone, muscle, liver, etc.), in the ``expression_data`` folder."
   ]
  },
  {
   "cell_type": "code",
   "execution_count": 5,
   "metadata": {},
   "outputs": [],
   "source": [
    "def open_expression_data(folder, txt_file):\n",
    "    expression_data = pd.read_csv(folder + txt_file + '.txt', delimiter =\"\\t\", index_col='gene').transpose()\n",
    "    expression_data.index.name = 'BXD_strain'\n",
    "    \n",
    "    return expression_data"
   ]
  },
  {
   "cell_type": "code",
   "execution_count": 6,
   "metadata": {},
   "outputs": [],
   "source": [
    "expression_data_folder = data_folder + '/expression data/'"
   ]
  },
  {
   "cell_type": "code",
   "execution_count": 7,
   "metadata": {},
   "outputs": [
    {
     "name": "stdout",
     "output_type": "stream",
     "text": [
      "(50, 25613)\n"
     ]
    },
    {
     "data": {
      "text/html": [
       "<div>\n",
       "<style scoped>\n",
       "    .dataframe tbody tr th:only-of-type {\n",
       "        vertical-align: middle;\n",
       "    }\n",
       "\n",
       "    .dataframe tbody tr th {\n",
       "        vertical-align: top;\n",
       "    }\n",
       "\n",
       "    .dataframe thead th {\n",
       "        text-align: right;\n",
       "    }\n",
       "</style>\n",
       "<table border=\"1\" class=\"dataframe\">\n",
       "  <thead>\n",
       "    <tr style=\"text-align: right;\">\n",
       "      <th>gene</th>\n",
       "      <th>Nmt1_10338077</th>\n",
       "      <th>Psmb5_10338095</th>\n",
       "      <th>Hdac5_10338098</th>\n",
       "      <th>Dlg1_10338109</th>\n",
       "      <th>Wars_10338116</th>\n",
       "      <th>Psph_10338122</th>\n",
       "      <th>Copa_10338123</th>\n",
       "      <th>Tbl3_10338144</th>\n",
       "      <th>Gbf1_10338168</th>\n",
       "      <th>Polr2f_10338173</th>\n",
       "      <th>...</th>\n",
       "      <th>Defa-rs7_10608643</th>\n",
       "      <th>Defacr_10608653</th>\n",
       "      <th>Hjurp_10608671</th>\n",
       "      <th>Defa-rs2_10608688</th>\n",
       "      <th>rRNA_10608690</th>\n",
       "      <th>rRNA_10608691</th>\n",
       "      <th>Pdia4_10608692</th>\n",
       "      <th>Rn5s_10608693</th>\n",
       "      <th>Prkcg_10608705</th>\n",
       "      <th>Kdelr2_10608708</th>\n",
       "    </tr>\n",
       "    <tr>\n",
       "      <th>BXD_strain</th>\n",
       "      <th></th>\n",
       "      <th></th>\n",
       "      <th></th>\n",
       "      <th></th>\n",
       "      <th></th>\n",
       "      <th></th>\n",
       "      <th></th>\n",
       "      <th></th>\n",
       "      <th></th>\n",
       "      <th></th>\n",
       "      <th></th>\n",
       "      <th></th>\n",
       "      <th></th>\n",
       "      <th></th>\n",
       "      <th></th>\n",
       "      <th></th>\n",
       "      <th></th>\n",
       "      <th></th>\n",
       "      <th></th>\n",
       "      <th></th>\n",
       "      <th></th>\n",
       "    </tr>\n",
       "  </thead>\n",
       "  <tbody>\n",
       "    <tr>\n",
       "      <td>B6D2F1</td>\n",
       "      <td>12.032</td>\n",
       "      <td>13.556</td>\n",
       "      <td>9.238</td>\n",
       "      <td>7.332</td>\n",
       "      <td>10.890</td>\n",
       "      <td>5.092</td>\n",
       "      <td>10.124</td>\n",
       "      <td>8.632</td>\n",
       "      <td>9.258</td>\n",
       "      <td>8.277</td>\n",
       "      <td>...</td>\n",
       "      <td>8.762</td>\n",
       "      <td>8.512</td>\n",
       "      <td>9.057</td>\n",
       "      <td>7.274</td>\n",
       "      <td>14.632</td>\n",
       "      <td>14.626</td>\n",
       "      <td>11.419</td>\n",
       "      <td>8.013</td>\n",
       "      <td>7.566</td>\n",
       "      <td>11.703</td>\n",
       "    </tr>\n",
       "    <tr>\n",
       "      <td>C57BL.6J</td>\n",
       "      <td>11.739</td>\n",
       "      <td>13.179</td>\n",
       "      <td>8.870</td>\n",
       "      <td>8.543</td>\n",
       "      <td>10.911</td>\n",
       "      <td>6.153</td>\n",
       "      <td>9.971</td>\n",
       "      <td>8.430</td>\n",
       "      <td>9.690</td>\n",
       "      <td>8.713</td>\n",
       "      <td>...</td>\n",
       "      <td>8.730</td>\n",
       "      <td>8.388</td>\n",
       "      <td>9.538</td>\n",
       "      <td>7.270</td>\n",
       "      <td>14.838</td>\n",
       "      <td>14.777</td>\n",
       "      <td>11.119</td>\n",
       "      <td>8.505</td>\n",
       "      <td>7.552</td>\n",
       "      <td>11.564</td>\n",
       "    </tr>\n",
       "    <tr>\n",
       "      <td>DBA.2J</td>\n",
       "      <td>11.690</td>\n",
       "      <td>12.750</td>\n",
       "      <td>9.690</td>\n",
       "      <td>3.976</td>\n",
       "      <td>10.947</td>\n",
       "      <td>5.877</td>\n",
       "      <td>10.151</td>\n",
       "      <td>8.760</td>\n",
       "      <td>9.439</td>\n",
       "      <td>8.122</td>\n",
       "      <td>...</td>\n",
       "      <td>8.549</td>\n",
       "      <td>8.029</td>\n",
       "      <td>9.124</td>\n",
       "      <td>7.084</td>\n",
       "      <td>14.628</td>\n",
       "      <td>14.581</td>\n",
       "      <td>11.210</td>\n",
       "      <td>7.729</td>\n",
       "      <td>7.326</td>\n",
       "      <td>11.774</td>\n",
       "    </tr>\n",
       "    <tr>\n",
       "      <td>BXD1</td>\n",
       "      <td>11.718</td>\n",
       "      <td>12.516</td>\n",
       "      <td>9.119</td>\n",
       "      <td>7.630</td>\n",
       "      <td>10.494</td>\n",
       "      <td>5.732</td>\n",
       "      <td>10.502</td>\n",
       "      <td>8.690</td>\n",
       "      <td>9.272</td>\n",
       "      <td>8.599</td>\n",
       "      <td>...</td>\n",
       "      <td>8.750</td>\n",
       "      <td>8.259</td>\n",
       "      <td>9.326</td>\n",
       "      <td>7.246</td>\n",
       "      <td>14.698</td>\n",
       "      <td>14.599</td>\n",
       "      <td>11.386</td>\n",
       "      <td>8.397</td>\n",
       "      <td>7.683</td>\n",
       "      <td>12.343</td>\n",
       "    </tr>\n",
       "    <tr>\n",
       "      <td>BXD11</td>\n",
       "      <td>11.633</td>\n",
       "      <td>12.935</td>\n",
       "      <td>9.060</td>\n",
       "      <td>3.902</td>\n",
       "      <td>10.595</td>\n",
       "      <td>5.021</td>\n",
       "      <td>9.719</td>\n",
       "      <td>8.233</td>\n",
       "      <td>9.310</td>\n",
       "      <td>8.954</td>\n",
       "      <td>...</td>\n",
       "      <td>8.616</td>\n",
       "      <td>8.182</td>\n",
       "      <td>10.588</td>\n",
       "      <td>7.321</td>\n",
       "      <td>14.758</td>\n",
       "      <td>14.707</td>\n",
       "      <td>10.778</td>\n",
       "      <td>8.258</td>\n",
       "      <td>7.386</td>\n",
       "      <td>11.724</td>\n",
       "    </tr>\n",
       "  </tbody>\n",
       "</table>\n",
       "<p>5 rows × 25613 columns</p>\n",
       "</div>"
      ],
      "text/plain": [
       "gene        Nmt1_10338077  Psmb5_10338095  Hdac5_10338098  Dlg1_10338109  \\\n",
       "BXD_strain                                                                 \n",
       "B6D2F1             12.032          13.556           9.238          7.332   \n",
       "C57BL.6J           11.739          13.179           8.870          8.543   \n",
       "DBA.2J             11.690          12.750           9.690          3.976   \n",
       "BXD1               11.718          12.516           9.119          7.630   \n",
       "BXD11              11.633          12.935           9.060          3.902   \n",
       "\n",
       "gene        Wars_10338116  Psph_10338122  Copa_10338123  Tbl3_10338144  \\\n",
       "BXD_strain                                                               \n",
       "B6D2F1             10.890          5.092         10.124          8.632   \n",
       "C57BL.6J           10.911          6.153          9.971          8.430   \n",
       "DBA.2J             10.947          5.877         10.151          8.760   \n",
       "BXD1               10.494          5.732         10.502          8.690   \n",
       "BXD11              10.595          5.021          9.719          8.233   \n",
       "\n",
       "gene        Gbf1_10338168  Polr2f_10338173  ...  Defa-rs7_10608643  \\\n",
       "BXD_strain                                  ...                      \n",
       "B6D2F1              9.258            8.277  ...              8.762   \n",
       "C57BL.6J            9.690            8.713  ...              8.730   \n",
       "DBA.2J              9.439            8.122  ...              8.549   \n",
       "BXD1                9.272            8.599  ...              8.750   \n",
       "BXD11               9.310            8.954  ...              8.616   \n",
       "\n",
       "gene        Defacr_10608653  Hjurp_10608671  Defa-rs2_10608688  rRNA_10608690  \\\n",
       "BXD_strain                                                                      \n",
       "B6D2F1                8.512           9.057              7.274         14.632   \n",
       "C57BL.6J              8.388           9.538              7.270         14.838   \n",
       "DBA.2J                8.029           9.124              7.084         14.628   \n",
       "BXD1                  8.259           9.326              7.246         14.698   \n",
       "BXD11                 8.182          10.588              7.321         14.758   \n",
       "\n",
       "gene        rRNA_10608691  Pdia4_10608692  Rn5s_10608693  Prkcg_10608705  \\\n",
       "BXD_strain                                                                 \n",
       "B6D2F1             14.626          11.419          8.013           7.566   \n",
       "C57BL.6J           14.777          11.119          8.505           7.552   \n",
       "DBA.2J             14.581          11.210          7.729           7.326   \n",
       "BXD1               14.599          11.386          8.397           7.683   \n",
       "BXD11              14.707          10.778          8.258           7.386   \n",
       "\n",
       "gene        Kdelr2_10608708  \n",
       "BXD_strain                   \n",
       "B6D2F1               11.703  \n",
       "C57BL.6J             11.564  \n",
       "DBA.2J               11.774  \n",
       "BXD1                 12.343  \n",
       "BXD11                11.724  \n",
       "\n",
       "[5 rows x 25613 columns]"
      ]
     },
     "execution_count": 7,
     "metadata": {},
     "output_type": "execute_result"
    }
   ],
   "source": [
    "adrenal_female = open_expression_data(expression_data_folder, 'Adrenal_Female')\n",
    "print(adrenal_female.shape)\n",
    "adrenal_female.head()"
   ]
  },
  {
   "cell_type": "code",
   "execution_count": 8,
   "metadata": {},
   "outputs": [],
   "source": [
    "adrenal_male = open_expression_data(expression_data_folder, 'Adrenal_Male')\n",
    "eye = open_expression_data(expression_data_folder, 'Eye')"
   ]
  },
  {
   "cell_type": "markdown",
   "metadata": {},
   "source": [
    "### 2.4 Others\n",
    "<a id='others'></a>"
   ]
  },
  {
   "cell_type": "code",
   "execution_count": 63,
   "metadata": {},
   "outputs": [
    {
     "data": {
      "text/html": [
       "<div>\n",
       "<style scoped>\n",
       "    .dataframe tbody tr th:only-of-type {\n",
       "        vertical-align: middle;\n",
       "    }\n",
       "\n",
       "    .dataframe tbody tr th {\n",
       "        vertical-align: top;\n",
       "    }\n",
       "\n",
       "    .dataframe thead th {\n",
       "        text-align: right;\n",
       "    }\n",
       "</style>\n",
       "<table border=\"1\" class=\"dataframe\">\n",
       "  <thead>\n",
       "    <tr style=\"text-align: right;\">\n",
       "      <th></th>\n",
       "      <th>PhenoID.1</th>\n",
       "      <th>RecordID</th>\n",
       "      <th>Phenotype</th>\n",
       "      <th>Shown_pheno</th>\n",
       "      <th>Category</th>\n",
       "      <th>Category_ID</th>\n",
       "      <th>color</th>\n",
       "      <th>Phenotype_post</th>\n",
       "      <th>Phenotype_pre</th>\n",
       "      <th>Authors</th>\n",
       "      <th>Senior.Author</th>\n",
       "      <th>Abbreviation</th>\n",
       "      <th>Quantitive.trait</th>\n",
       "      <th>Tissues</th>\n",
       "      <th>Diet</th>\n",
       "      <th>Strains</th>\n",
       "    </tr>\n",
       "    <tr>\n",
       "      <th>PhenoID</th>\n",
       "      <th></th>\n",
       "      <th></th>\n",
       "      <th></th>\n",
       "      <th></th>\n",
       "      <th></th>\n",
       "      <th></th>\n",
       "      <th></th>\n",
       "      <th></th>\n",
       "      <th></th>\n",
       "      <th></th>\n",
       "      <th></th>\n",
       "      <th></th>\n",
       "      <th></th>\n",
       "      <th></th>\n",
       "      <th></th>\n",
       "      <th></th>\n",
       "    </tr>\n",
       "  </thead>\n",
       "  <tbody>\n",
       "    <tr>\n",
       "      <td>X3063</td>\n",
       "      <td>3063</td>\n",
       "      <td>12890</td>\n",
       "      <td>Central nervous system, metabolism, behavior: ...</td>\n",
       "      <td>Activity of 13-week old females, total counts ...</td>\n",
       "      <td>Activity</td>\n",
       "      <td>1.0</td>\n",
       "      <td>1.0</td>\n",
       "      <td>Central nervous system, metabolism, behavior: ...</td>\n",
       "      <td>Central nervous system, metabolism, behavior: ...</td>\n",
       "      <td>Andreux P, Williams EG, Koutnikova H, Houtkoop...</td>\n",
       "      <td>Auwerx_1</td>\n",
       "      <td>Activity of 13-week old females</td>\n",
       "      <td>Yes</td>\n",
       "      <td>muscle</td>\n",
       "      <td>NaN</td>\n",
       "      <td>19</td>\n",
       "    </tr>\n",
       "  </tbody>\n",
       "</table>\n",
       "</div>"
      ],
      "text/plain": [
       "         PhenoID.1  RecordID  \\\n",
       "PhenoID                        \n",
       "X3063         3063     12890   \n",
       "\n",
       "                                                 Phenotype  \\\n",
       "PhenoID                                                      \n",
       "X3063    Central nervous system, metabolism, behavior: ...   \n",
       "\n",
       "                                               Shown_pheno  Category  \\\n",
       "PhenoID                                                                \n",
       "X3063    Activity of 13-week old females, total counts ...  Activity   \n",
       "\n",
       "         Category_ID  color  \\\n",
       "PhenoID                       \n",
       "X3063            1.0    1.0   \n",
       "\n",
       "                                            Phenotype_post  \\\n",
       "PhenoID                                                      \n",
       "X3063    Central nervous system, metabolism, behavior: ...   \n",
       "\n",
       "                                             Phenotype_pre  \\\n",
       "PhenoID                                                      \n",
       "X3063    Central nervous system, metabolism, behavior: ...   \n",
       "\n",
       "                                                   Authors Senior.Author  \\\n",
       "PhenoID                                                                    \n",
       "X3063    Andreux P, Williams EG, Koutnikova H, Houtkoop...      Auwerx_1   \n",
       "\n",
       "                            Abbreviation Quantitive.trait Tissues Diet  \\\n",
       "PhenoID                                                                  \n",
       "X3063    Activity of 13-week old females              Yes  muscle  NaN   \n",
       "\n",
       "         Strains  \n",
       "PhenoID           \n",
       "X3063         19  "
      ]
     },
     "execution_count": 63,
     "metadata": {},
     "output_type": "execute_result"
    }
   ],
   "source": [
    "df_id_aligner = pd.read_csv(data_folder + 'phenotypes_id_aligner.txt', sep='\\t', encoding='latin1', index_col='PhenoID')\n",
    "df_id_aligner.head(1)"
   ]
  },
  {
   "cell_type": "code",
   "execution_count": 76,
   "metadata": {},
   "outputs": [
    {
     "data": {
      "application/vnd.jupyter.widget-view+json": {
       "model_id": "53abca7a6cef4c0fa701be4407f86fc8",
       "version_major": 2,
       "version_minor": 0
      },
      "text/plain": [
       "interactive(children=(Text(value='Strains', description='column'), IntSlider(value=49, description='x', max=97…"
      ]
     },
     "metadata": {},
     "output_type": "display_data"
    }
   ],
   "source": [
    "names = df_id_aligner.columns[4:].to_list() # just to make it fit in the available space\n",
    "\n",
    "@interact\n",
    "def show_strains_more_than(column='Strains', x=(1,97,1)):\n",
    "    return df_id_aligner.loc[df_id_aligner[column] > x][names].sort_values(by='Strains', ascending=False)"
   ]
  },
  {
   "cell_type": "code",
   "execution_count": 109,
   "metadata": {},
   "outputs": [
    {
     "name": "stdout",
     "output_type": "stream",
     "text": [
      "(7324, 3)\n"
     ]
    },
    {
     "data": {
      "text/html": [
       "<div>\n",
       "<style scoped>\n",
       "    .dataframe tbody tr th:only-of-type {\n",
       "        vertical-align: middle;\n",
       "    }\n",
       "\n",
       "    .dataframe tbody tr th {\n",
       "        vertical-align: top;\n",
       "    }\n",
       "\n",
       "    .dataframe thead th {\n",
       "        text-align: right;\n",
       "    }\n",
       "</style>\n",
       "<table border=\"1\" class=\"dataframe\">\n",
       "  <thead>\n",
       "    <tr style=\"text-align: right;\">\n",
       "      <th></th>\n",
       "      <th>SNP</th>\n",
       "      <th>Chr</th>\n",
       "      <th>Pos</th>\n",
       "    </tr>\n",
       "  </thead>\n",
       "  <tbody>\n",
       "    <tr>\n",
       "      <td>0</td>\n",
       "      <td>rs31443144</td>\n",
       "      <td>1</td>\n",
       "      <td>3.010274</td>\n",
       "    </tr>\n",
       "    <tr>\n",
       "      <td>1</td>\n",
       "      <td>rs6269442</td>\n",
       "      <td>1</td>\n",
       "      <td>3.492195</td>\n",
       "    </tr>\n",
       "    <tr>\n",
       "      <td>2</td>\n",
       "      <td>rs32285189</td>\n",
       "      <td>1</td>\n",
       "      <td>3.511204</td>\n",
       "    </tr>\n",
       "    <tr>\n",
       "      <td>3</td>\n",
       "      <td>rs258367496</td>\n",
       "      <td>1</td>\n",
       "      <td>3.659804</td>\n",
       "    </tr>\n",
       "    <tr>\n",
       "      <td>4</td>\n",
       "      <td>rs32430919</td>\n",
       "      <td>1</td>\n",
       "      <td>3.777023</td>\n",
       "    </tr>\n",
       "  </tbody>\n",
       "</table>\n",
       "</div>"
      ],
      "text/plain": [
       "           SNP Chr       Pos\n",
       "0   rs31443144   1  3.010274\n",
       "1    rs6269442   1  3.492195\n",
       "2   rs32285189   1  3.511204\n",
       "3  rs258367496   1  3.659804\n",
       "4   rs32430919   1  3.777023"
      ]
     },
     "execution_count": 109,
     "metadata": {},
     "output_type": "execute_result"
    }
   ],
   "source": [
    "df_map = pd.read_csv(data_folder + 'map_BXD.txt', sep =\"\\t\")\n",
    "print(df_map.shape)\n",
    "df_map.head()"
   ]
  },
  {
   "cell_type": "markdown",
   "metadata": {
    "toc-hr-collapsed": false
   },
   "source": [
    "## 3. Data exploration\n",
    "<a id='exploration'></a>"
   ]
  },
  {
   "cell_type": "markdown",
   "metadata": {},
   "source": [
    "This section aims at building the different adjacency matrix for the different data. According to:\n",
    "\n",
    "$$ A_{ij} = \\begin{cases} 1, \\; \\text{if} \\; d(i,j)< \\mathbb{E}[D], \\; i \\neq j, \\\\ 0, \\; \\text{otherwise.} \\end{cases} $$\n",
    "\n",
    "First, let us choose the mean distance as the threshold."
   ]
  },
  {
   "cell_type": "code",
   "execution_count": 133,
   "metadata": {},
   "outputs": [],
   "source": [
    "def gaussian_kernel(dist, sigma):\n",
    "    return np.exp(-dist**2 / (2*sigma**2))"
   ]
  },
  {
   "cell_type": "code",
   "execution_count": 134,
   "metadata": {},
   "outputs": [],
   "source": [
    "def get_adjacency(X: np.ndarray, dist_metric, normalize=True, weighted=False, sigma=None):\n",
    "    ''' X (n x d): coordinates of the n data points in R^d.\n",
    "        dist_metric: metric used to compute the distance between nodes -> e.g. 'euclidean', 'cosine', 'jaccard'\n",
    "        normalize (bool): normalize data using zscore along the 0-axis\n",
    "        weighted  (bool): if we want a weighted graph using a gaussian_kernel \n",
    "        \n",
    "        Return:\n",
    "        adjacency (n x n ndarray): adjacency matrix of the graph.\n",
    "    '''\n",
    "    N = len(X)\n",
    "    if normalize:\n",
    "        X = stats.zscore(X, axis=0)\n",
    "         \n",
    "    X_dist = squareform(pdist(X, metric=dist_metric))\n",
    "    \n",
    "    # Threshold using the mean distance\n",
    "    threshold = np.nanmean(X_dist) #X_dist.mean()\n",
    "    \n",
    "    # build adjacency\n",
    "    if weighted:\n",
    "        if sigma is None:\n",
    "            sigma = 0.6\n",
    "        adjacency = gaussian_kernel(X_dist, sigma)\n",
    "        adjacency -= np.identity(N)\n",
    "        adjacency[X_dist >= threshold] = 0\n",
    "    else:\n",
    "        adjacency = X_dist.copy()\n",
    "        adjacency[X_dist < threshold] = 1\n",
    "        adjacency[X_dist >= threshold] = 0\n",
    "        np.fill_diagonal(adjacency, 0.0)\n",
    "    \n",
    "    return adjacency"
   ]
  },
  {
   "cell_type": "code",
   "execution_count": 122,
   "metadata": {},
   "outputs": [],
   "source": [
    "# TODO\n",
    "def get_weight_matrix(X: np.ndarray, dist_metric):\n",
    "    raise NotImplementedError"
   ]
  },
  {
   "cell_type": "markdown",
   "metadata": {},
   "source": [
    "### 3.1 Genotype network\n",
    "<a id='genotype_net'></a>"
   ]
  },
  {
   "cell_type": "code",
   "execution_count": 135,
   "metadata": {},
   "outputs": [
    {
     "data": {
      "text/plain": [
       "<matplotlib.image.AxesImage at 0x23f20d7b5f8>"
      ]
     },
     "execution_count": 135,
     "metadata": {},
     "output_type": "execute_result"
    },
    {
     "data": {
      "image/png": "[encoded data removed]",
      "text/plain": [
       "<Figure size 432x288 with 1 Axes>"
      ]
     },
     "metadata": {
      "needs_background": "light"
     },
     "output_type": "display_data"
    }
   ],
   "source": [
    "genotype_adjacency = get_adjacency(df_genotype.to_numpy(), 'jaccard', normalize=True)\n",
    "plt.spy(genotype_adjacency, vmin=0, vmax=1)"
   ]
  },
  {
   "cell_type": "markdown",
   "metadata": {},
   "source": [
    "### 3.2 Phenotype network\n",
    "<a id='phenotype_net'></a>"
   ]
  },
  {
   "cell_type": "code",
   "execution_count": 29,
   "metadata": {},
   "outputs": [
    {
     "name": "stdout",
     "output_type": "stream",
     "text": [
      "There are 0 rows with all NaN values\n",
      "There are 4 cols with all NaN values\n"
     ]
    }
   ],
   "source": [
    "# Check NaN\n",
    "# Check if there is a line full of NaN\n",
    "print('There are {} rows with all NaN values'.format(df_phenotype.shape[0] - df_phenotype.dropna(axis=0, how='all').shape[0]))\n",
    "print('There are {} cols with all NaN values'.format(df_phenotype.shape[1] - df_phenotype.dropna(axis=1, how='all').shape[1]))"
   ]
  },
  {
   "cell_type": "code",
   "execution_count": 53,
   "metadata": {},
   "outputs": [
    {
     "data": {
      "text/plain": [
       "['X40', 'X2271', 'X1149', 'X57']"
      ]
     },
     "execution_count": 53,
     "metadata": {},
     "output_type": "execute_result"
    }
   ],
   "source": [
    "# list of the all NaN columns (golf coding mode)\n",
    "df_phenotype.drop(columns=df_phenotype.dropna(axis=1, how='all').columns.to_list()).columns.to_list()"
   ]
  },
  {
   "cell_type": "code",
   "execution_count": 54,
   "metadata": {},
   "outputs": [
    {
     "data": {
      "text/plain": [
       "97"
      ]
     },
     "execution_count": 54,
     "metadata": {},
     "output_type": "execute_result"
    }
   ],
   "source": [
    "# Check\n",
    "df_phenotype['X40'].isna().sum()"
   ]
  },
  {
   "cell_type": "code",
   "execution_count": null,
   "metadata": {},
   "outputs": [],
   "source": []
  },
  {
   "cell_type": "markdown",
   "metadata": {},
   "source": [
    "### 3.3 Expression data network\n",
    "<a id='expression_net'></a>"
   ]
  },
  {
   "cell_type": "code",
   "execution_count": 98,
   "metadata": {},
   "outputs": [],
   "source": [
    "def check_for_nan(filename):\n",
    "    ''' filename: name (= string) of the file in the 'expression data' folder\n",
    "        output: bool assessing for the presence or NaN or not\n",
    "    '''\n",
    "    df = open_expression_data(expression_data_folder, filename)\n",
    "    \n",
    "    if df.isna().any(axis=None):\n",
    "        print('{}: NaN!, number of strains: {}'.format(filename, df.shape[0]))\n",
    "    else:\n",
    "        print('{}: OK!, number of strains: {}'.format(filename, df.shape[0]))"
   ]
  },
  {
   "cell_type": "code",
   "execution_count": 99,
   "metadata": {},
   "outputs": [
    {
     "name": "stdout",
     "output_type": "stream",
     "text": [
      "Adrenal_Female: OK!, number of strains: 50\n",
      "Adrenal_Male: OK!, number of strains: 46\n",
      "Amygdala_Female: OK!, number of strains: 53\n",
      "Amygdala_Male: OK!, number of strains: 56\n",
      "BAT: OK!, number of strains: 37\n",
      "Bone_Femur: NaN!, number of strains: 32\n",
      "Brain_INIA: OK!, number of strains: 43\n",
      "Brain_UTHSC: OK!, number of strains: 32\n",
      "Cerebellum: OK!, number of strains: 30\n",
      "Eye: OK!, number of strains: 72\n",
      "Gastrointestinal: OK!, number of strains: 50\n",
      "Heart_CD: OK!, number of strains: 42\n",
      "Heart_HFD: OK!, number of strains: 39\n",
      "Hippocampus: OK!, number of strains: 71\n",
      "Hypothalamus_Female: OK!, number of strains: 43\n",
      "Hypothalamus_Male: OK!, number of strains: 44\n",
      "Kidney_Female: OK!, number of strains: 52\n",
      "Kidney_Male: OK!, number of strains: 38\n",
      "LiverProt_CD: NaN!, number of strains: 97\n",
      "LiverProt_HFD: NaN!, number of strains: 97\n",
      "Liver_CD: OK!, number of strains: 41\n",
      "Liver_HFD: OK!, number of strains: 40\n",
      "Liver_metabolite_CD: NaN!, number of strains: 97\n",
      "Liver_metabolite_HFD: NaN!, number of strains: 97\n",
      "Lung: OK!, number of strains: 51\n",
      "Midbrain: OK!, number of strains: 37\n",
      "Muscle_CD: OK!, number of strains: 42\n",
      "Muscle_HFD: OK!, number of strains: 37\n",
      "Muscle_metabolite_CD: NaN!, number of strains: 97\n",
      "Muscle_metabolite_HFD: NaN!, number of strains: 97\n",
      "Nucleus_accumbens: OK!, number of strains: 36\n",
      "PFC: OK!, number of strains: 29\n",
      "Pituitary_Female: OK!, number of strains: 45\n",
      "Pituitary_Male: OK!, number of strains: 49\n",
      "ScWAT_CD: OK!, number of strains: 41\n",
      "ScWAT_HFD: OK!, number of strains: 38\n",
      "Spleen_Female: NaN!, number of strains: 67\n",
      "Spleen_Male: OK!, number of strains: 67\n",
      "Striatum: OK!, number of strains: 32\n",
      "VTA: OK!, number of strains: 37\n"
     ]
    }
   ],
   "source": [
    "# check files\n",
    "expression_data_files = listdir(expression_data_folder)  \n",
    "expression_data_files = [filename for filename in expression_data_files if filename.endswith(\".txt\")] # take only .txt files\n",
    "\n",
    "for file in expression_data_files:\n",
    "    check_for_nan(os.path.splitext(file)[0]) # we don't need extension"
   ]
  },
  {
   "cell_type": "code",
   "execution_count": 95,
   "metadata": {},
   "outputs": [],
   "source": [
    "#check_for_nan('Adrenal_Female')\n",
    "#check_for_nan('Adrenal_Male')\n",
    "#check_for_nan('Eye')"
   ]
  },
  {
   "cell_type": "code",
   "execution_count": 80,
   "metadata": {},
   "outputs": [],
   "source": [
    "# Check for NaN\n",
    "#print(adrenal_female.isna().any(axis=None))\n",
    "#print(adrenal_male.isna().any(axis=None))\n",
    "#print(eye.isna().any(axis=None))"
   ]
  },
  {
   "cell_type": "code",
   "execution_count": 100,
   "metadata": {},
   "outputs": [],
   "source": [
    "phenotypes_list = ['Adrenal_Female', 'Adrenal_Male', 'Eye', 'Hypothalamus_Female', 'Hypothalamus_Male']"
   ]
  },
  {
   "cell_type": "code",
   "execution_count": 101,
   "metadata": {},
   "outputs": [
    {
     "data": {
      "application/vnd.jupyter.widget-view+json": {
       "model_id": "d1aea6ca07b44720a9567cc5b4c04c35",
       "version_major": 2,
       "version_minor": 0
      },
      "text/plain": [
       "interactive(children=(Dropdown(description='phenotype', options=('Adrenal_Female', 'Adrenal_Male', 'Eye', 'Hyp…"
      ]
     },
     "metadata": {},
     "output_type": "display_data"
    },
    {
     "data": {
      "text/plain": [
       "<function __main__.plot_matrix(phenotype=['Adrenal_Female', 'Adrenal_Male', 'Eye', 'Hypothalamus_Female', 'Hypothalamus_Male'])>"
      ]
     },
     "execution_count": 101,
     "metadata": {},
     "output_type": "execute_result"
    }
   ],
   "source": [
    "# Visualization\n",
    "def plot_matrix(phenotype=phenotypes_list):\n",
    "    df = open_expression_data(expression_data_folder, phenotype)\n",
    "    adj = get_adjacency(df.to_numpy(), 'euclidean', normalize=True) \n",
    "    fig = plt.spy(adj, vmin=0, vmax=1)\n",
    "\n",
    "interact(plot_matrix, n_iter=IntSlider(min=1, max=len(phenotypes_list)))"
   ]
  },
  {
   "cell_type": "code",
   "execution_count": null,
   "metadata": {},
   "outputs": [],
   "source": [
    "# TODO: phenotype matrix"
   ]
  },
  {
   "cell_type": "code",
   "execution_count": null,
   "metadata": {},
   "outputs": [],
   "source": []
  },
  {
   "cell_type": "markdown",
   "metadata": {},
   "source": [
    "## 4. Exploitation\n",
    "<a id='exploitation'></a>"
   ]
  },
  {
   "cell_type": "markdown",
   "metadata": {},
   "source": [
    "Goal of this section: build networks."
   ]
  },
  {
   "cell_type": "markdown",
   "metadata": {},
   "source": [
    "### 4.3 Expression data network\n",
    "<a id='expression_network'></a>"
   ]
  },
  {
   "cell_type": "code",
   "execution_count": 119,
   "metadata": {},
   "outputs": [],
   "source": [
    "mouse_strains = eye.index.to_list()[3:-1]"
   ]
  },
  {
   "cell_type": "code",
   "execution_count": 120,
   "metadata": {},
   "outputs": [
    {
     "data": {
      "text/plain": [
       "<matplotlib.image.AxesImage at 0x23f1c8b4978>"
      ]
     },
     "execution_count": 120,
     "metadata": {},
     "output_type": "execute_result"
    },
    {
     "data": {
      "image/png": "[encoded data removed]",
      "text/plain": [
       "<Figure size 432x288 with 1 Axes>"
      ]
     },
     "metadata": {
      "needs_background": "light"
     },
     "output_type": "display_data"
    }
   ],
   "source": [
    "adj = get_adjacency(eye.loc[mouse_strains], 'euclidean', normalize=True)\n",
    "plt.spy(adj, vmin=0, vmax=1)"
   ]
  },
  {
   "cell_type": "code",
   "execution_count": 124,
   "metadata": {},
   "outputs": [],
   "source": [
    "graph_g = nx.from_numpy_array(adj)"
   ]
  },
  {
   "cell_type": "code",
   "execution_count": 136,
   "metadata": {},
   "outputs": [],
   "source": [
    "#nx.draw_spring(graph_g, node_size=10)"
   ]
  },
  {
   "cell_type": "markdown",
   "metadata": {},
   "source": [
    "## Supp"
   ]
  },
  {
   "cell_type": "code",
   "execution_count": 106,
   "metadata": {},
   "outputs": [
    {
     "data": {
      "text/plain": [
       "19"
      ]
     },
     "execution_count": 106,
     "metadata": {},
     "output_type": "execute_result"
    }
   ],
   "source": [
    "df_phenotype.shape[0] - df_phenotype['X3063'].isna().sum()"
   ]
  },
  {
   "cell_type": "code",
   "execution_count": 107,
   "metadata": {},
   "outputs": [
    {
     "data": {
      "text/plain": [
       "97"
      ]
     },
     "execution_count": 107,
     "metadata": {},
     "output_type": "execute_result"
    }
   ],
   "source": [
    "df_phenotype.shape[0]"
   ]
  },
  {
   "cell_type": "code",
   "execution_count": 108,
   "metadata": {},
   "outputs": [
    {
     "data": {
      "text/plain": [
       "78"
      ]
     },
     "execution_count": 108,
     "metadata": {},
     "output_type": "execute_result"
    }
   ],
   "source": [
    "df_phenotype['X3063'].isna().sum()"
   ]
  },
  {
   "cell_type": "markdown",
   "metadata": {},
   "source": [
    "### 4.4 Custom Graph Neural Network Approach"
   ]
  },
  {
   "cell_type": "markdown",
   "metadata": {},
   "source": [
    "<div class=\"alert alert-info\">\n",
    "Load data --> genotype for adjacency matrix, expressions for features nodes and phenotype \"X62\" as label\n",
    "</div>"
   ]
  },
  {
   "cell_type": "code",
   "execution_count": null,
   "metadata": {},
   "outputs": [],
   "source": [
    "DATA_DIR = \"../../Data/\"\n",
    "\n",
    "#Phenotype\n",
    "pheno = pd.read_csv(DATA_DIR+'Phenotype.txt', sep=\"\\t\", index_col=\"PhenoID\")\n",
    "pheno.drop(['B6D2F1', 'D2B6F1', 'C57BL.6J', 'DBA.2J'], axis=1, inplace=True)\n",
    "y = pheno.loc[\"X62\"].dropna()\n",
    "y_cat = pd.get_dummies(y)\n",
    "\n",
    "#Genotype\n",
    "geno = pd.read_csv(DATA_DIR+'Genotype_BXD.txt', sep=\"\\t\", index_col=[\"SNP\"])\n",
    "genotype_df = geno.loc[:,y.index].T\n",
    "\n",
    "#Expression\n",
    "filenames = glob.glob(DATA_DIR+\"expression data\" + \"/*.txt\")\n",
    "dfs = [pd.read_csv(f, sep=\"\\t\") for f in filenames]\n",
    "expression = pd.concat(dfs, ignore_index=True, sort=False)\n",
    "expression = expression.set_index([\"gene\"])\n",
    "expression.drop(['B6D2F1', 'D2B6F1', 'C57BL.6J', 'DBA.2J'], axis=1, inplace=True)\n",
    "# keep only gene where there is less than 30 Nan // so more than 60 mice recorded.\n",
    "nanByGene = expression.loc[:,y.index].isnull().sum(axis=1)\n",
    "mask = nanByGene < 30\n",
    "maskedEx = expression.loc[mask,y.index].T"
   ]
  },
  {
   "cell_type": "markdown",
   "metadata": {},
   "source": [
    "<div class=\"alert alert-info\">Generate Ajdacency from genotype</div>"
   ]
  },
  {
   "cell_type": "code",
   "execution_count": null,
   "metadata": {},
   "outputs": [],
   "source": [
    "# Generate adjacency from genotype\n",
    "weighted_adj = adjacency_subset(genotype_df, genotype_df.index, 'cosine')\n",
    "weighted_adj = th.tensor(weighted_adj.todense())\n",
    "g = graphs.Graph(weighted_adj,\"normalized\")"
   ]
  },
  {
   "cell_type": "markdown",
   "metadata": {},
   "source": [
    "<div class=\"alert alert-info\">Imputations methods</div>"
   ]
  },
  {
   "cell_type": "code",
   "execution_count": null,
   "metadata": {},
   "outputs": [],
   "source": [
    "#Naive mean\n",
    "maskedExMean = maskedEx.fillna(masedEx.mean(axis=0))\n",
    "\n",
    "# Thikonov method\n",
    "def tikhonov_imputation(G, meas):\n",
    "    \"\"\"Impute missing values to a ndarray signal of shape (G.N, # of features)\"\"\"\n",
    "    assert isinstance(G, graphs.Graph)\n",
    "    assert isinstance(meas, np.ndarray)\n",
    "    #assert meas.shape[0] == G.n_vertices\n",
    "    \n",
    "    # Init\n",
    "    meas_copy = np.copy(meas)    \n",
    "    imputed_array = np.zeros(meas.shape)\n",
    "    val_mask = ~np.isnan(meas_copy)\n",
    "\n",
    "    for idx in range(meas.shape[1]):\n",
    "        \n",
    "        if (idx%10000 == 0):\n",
    "            print(idx,\"/\",meas.shape[1])\n",
    "        imputed_array[:, idx] = learning.regression_tikhonov(G, meas_copy[:, idx], val_mask[:, idx], tau=0.1)\n",
    "    \n",
    "    imputed_array[val_mask] = meas[val_mask]\n",
    "    # Verify consistancy\n",
    "    assert (meas[val_mask] == imputed_array[val_mask]).all()\n",
    "    return imputed_array\n",
    "\n",
    "\n",
    "maskedExTik = tikhonov_imputation(g, np.array(maskedEx))"
   ]
  },
  {
   "cell_type": "markdown",
   "metadata": {},
   "source": [
    "<div class=\"alert alert-info\">Features Selections / Generation of subsets</div>"
   ]
  },
  {
   "cell_type": "code",
   "execution_count": null,
   "metadata": {},
   "outputs": [],
   "source": [
    "#RandomForest\n",
    "clf = RandomForestClassifier(n_estimators=500, random_state=0, n_jobs=-1)\n",
    "clf.fit(maskedExMean, y_cat)\n",
    "top30RFind = np.argsort(clf.feature_importances_)[::-1][:30]\n",
    "top30RF = maskedExMean[:,top30RFind]\n",
    "\n",
    "#same with thikonov imputated values\n",
    "clfTik = RandomForestClassifier(n_estimators=500, random_state=0, n_jobs=-1)\n",
    "clfTik.fit(maskedExTik, y_cat)\n",
    "top30RFind = np.argsort(clfTik.feature_importances_)[::-1][:30]\n",
    "top30RFTik = maskedExTik[:,top30RFind]"
   ]
  },
  {
   "cell_type": "code",
   "execution_count": null,
   "metadata": {},
   "outputs": [],
   "source": [
    "#Mutual Information\n",
    "mi = mutual_info_classif(maskedExMean,y)\n",
    "top30Ind = np.argsort(mi)[::-1][:30]\n",
    "top30MI = maskedExMean[:,top30Ind]\n",
    "\n",
    "#same with thikonov imputated values\n",
    "miTik = mutual_info_classif(maskedExTik,y)\n",
    "top30IndTik = np.argsort(mi)[::-1][:30]\n",
    "top30MITik = maskedExTik[:,top30Ind]"
   ]
  },
  {
   "cell_type": "code",
   "execution_count": null,
   "metadata": {},
   "outputs": [],
   "source": [
    "#Chi-squared\n",
    "chi,_ = chi2(maskedExMedian,y_cat)\n",
    "top30CHIind = np.argsort(chi)[::-1][:30]\n",
    "top30CHI = maskedExMedian[:,top30CHIind]\n",
    "\n",
    "#same with thikonov imputated values\n",
    "chiTik,_ = chi2(maskedExMedian,y_cat)\n",
    "top30CHIindTik = np.argsort(chi)[::-1][:30]\n",
    "top30CHITik = maskedExMedian[:,top30CHIind]"
   ]
  },
  {
   "cell_type": "markdown",
   "metadata": {},
   "source": [
    "<div class=\"alert alert-info\">Startified Split of the data into train/test</div>"
   ]
  },
  {
   "cell_type": "code",
   "execution_count": null,
   "metadata": {},
   "outputs": [],
   "source": [
    "labels = th.LongTensor(y_cat.values)\n",
    "labels = np.argmax(labels,axis=1)\n",
    "\n",
    "ind_0 = np.where(labels==0)[0][:12]\n",
    "ind_1 = np.where(labels==1)[0][:12]\n",
    "ind_2 = np.where(labels==2)[0][:12]\n",
    "ind_3 = np.where(labels==3)[0][:12]\n",
    "\n",
    "train_mask = [*ind_0,*ind_1,*ind_2,*ind_3]\n",
    "valTest_mask = [i for i in range(len(labels)) if i not in train_mask]\n",
    "\n",
    "ind_0 = np.where(labels==0)[0][12:12+9]\n",
    "ind_1 = np.where(labels==1)[0][12:12+6]\n",
    "ind_2 = np.where(labels==2)[0][12:12+3]\n",
    "ind_3 = np.where(labels==3)[0][12:12+4]\n",
    "\n",
    "val_mask = [*ind_0,*ind_1,*ind_2,*ind_3]\n",
    "test_mask = [i for i in valTest_mask if i not in val_mask]"
   ]
  },
  {
   "cell_type": "markdown",
   "metadata": {},
   "source": [
    "<div class=\"alert alert-info\">Graph Neural Network construction</div>"
   ]
  },
  {
   "cell_type": "code",
   "execution_count": null,
   "metadata": {},
   "outputs": [],
   "source": [
    "class GraphLayer(nn.Module):\n",
    "    def __init__(self, in_features, out_features, activation=nn.LeakyReLU(0.6,True)):\n",
    "        super(GraphLayer, self).__init__()\n",
    "        fc = [nn.Linear(in_features, out_features)]\n",
    "        if activation is not None:\n",
    "            fc.append(activation)\n",
    "        self.fc = nn.Sequential(*fc)\n",
    "        \n",
    "    def forward(self, A, x):\n",
    "        \"\"\"See randomWalk function to better understand as A was modified\"\"\"\n",
    "        #Weighted average of neighbours's features.\n",
    "        y = th.mm(A, x)\n",
    "        \n",
    "        return self.fc(y)"
   ]
  },
  {
   "cell_type": "code",
   "execution_count": null,
   "metadata": {},
   "outputs": [],
   "source": [
    "class GNN(nn.Module):\n",
    "    def __init__(self, num_feats, h1, h2, drop, num_classes):         \n",
    "        super(GNN, self).__init__()\n",
    "        self.gl1 = GraphLayer(num_feats,h1)\n",
    "        self.gl2 = GraphLayer(h1,h2)\n",
    "        self.fc3 = nn.Linear(h2, num_classes)\n",
    "        self.Dropout = nn.Dropout(drop)\n",
    "\n",
    "    def forward(self, A, x):\n",
    "        x = self.Dropout(self.gl1(A,x))\n",
    "        x = self.Dropout(self.gl2(A,x))\n",
    "        return self.fc3(x) "
   ]
  },
  {
   "cell_type": "code",
   "execution_count": null,
   "metadata": {},
   "outputs": [],
   "source": [
    "def train(model, A, batchs, loss_fcn, train_mask, optimizer, n_neigh):\n",
    "    model.train()  # Activate dropout\n",
    "    \n",
    "    losses_ = []\n",
    "    real_batchs = 32\n",
    "    for i in range(real_batchs):\n",
    "        \n",
    "        A_nn = randomWalk(A,2,n_neigh)\n",
    "        \n",
    "        for batch in batchs:\n",
    "\n",
    "            features, labels = batch\n",
    "            optimizer.zero_grad()\n",
    "            logits = model(A_nn, features.float())\n",
    "            loss = loss_fcn(logits[train_mask], labels[train_mask])\n",
    "            loss.backward()\n",
    "            optimizer.step()\n",
    "            losses_.append(loss)\n",
    "        \n",
    "    return th.mean(th.stack(losses_))\n",
    "\n",
    "\n",
    "def evaluate(model, A, features, labels, mask, n_neigh):\n",
    "    model.eval()  # Deactivate dropout\n",
    "    with th.no_grad():\n",
    "        real_batchs = 32\n",
    "        corrects = 0\n",
    "        labels = labels[mask]\n",
    "        mc_ = []\n",
    "        for i in range(real_batchs):\n",
    "            A_nn = randomWalk(A,2,n_neigh)\n",
    "    \n",
    "            logits = model(A_nn, features.float())[mask]  # only compute the evaluation set\n",
    "            _, indices = th.max(logits, dim=1)\n",
    "            corrects = corrects + th.sum(indices == labels)\n",
    "            mc_.append(mc(labels,indices))\n",
    "            \n",
    "        #return Accuracy and Mcc\n",
    "        return corrects.item() * 1.0 / (len(labels)*real_batchs),  np.sum(mc_)/real_batchs"
   ]
  },
  {
   "cell_type": "code",
   "execution_count": null,
   "metadata": {},
   "outputs": [],
   "source": [
    "def randomWalk(A, max_path=4, max_n=4):\n",
    "    \"\"\"Not actually a randomWalk but the idea is the same;\n",
    "    Take only in account \"max_n\" randomly chosen neighbours of degree <= \"max_path\",\n",
    "    weighted by the edge(s) in between.\n",
    "    (degree == how many step from initial node to get to neighbour)\"\"\"\n",
    "    \n",
    "    A_1 = A.float() + th.eye(A.shape[0])\n",
    "    A_n = F.normalize(A_1, p=1, dim=1)\n",
    "    A_4 = np.linalg.matrix_power(A_n,max_path)\n",
    "    \n",
    "    for i in range(A.shape[1]):\n",
    "\n",
    "        ind_non_empty = np.where(A_4[i,:] > 0)[0]\n",
    "        \n",
    "        if len(ind_non_empty) < max_n:\n",
    "            select_ind = ind_non_empty\n",
    "        else:\n",
    "            select_ind = list(np.random.choice(ind_non_empty,max_n))\n",
    "\n",
    "        select_ind = np.append(select_ind,i)\n",
    "        A_4[i,~select_ind] = 0\n",
    "\n",
    "    A_4t = th.tensor(A_4)\n",
    "    A_nn = F.normalize(A_4t.float(), p=1, dim=1)\n",
    "        \n",
    "    return A_nn"
   ]
  },
  {
   "cell_type": "markdown",
   "metadata": {},
   "source": [
    "<div class=\"alert alert-info\">Graph Neural Network Training and Evaluation </div>"
   ]
  },
  {
   "cell_type": "code",
   "execution_count": null,
   "metadata": {},
   "outputs": [],
   "source": [
    "#Generate result for 3 varying parameters; imputation method, Feature selection method, # of neighbours\n",
    "\n",
    "subsets_ = [[top30RF, top30MI, top30CHI],[top30RFTik, top30MITik, top30CHITik]]\n",
    "names = [\"median\",\"thikonov\"]\n",
    "subnames = [\"RF\",\"MI\",\"CHI2\"]\n",
    "max_neighbours = [1,3,5,10]\n",
    "max_trials = 10\n",
    "\n",
    "WholeResults = {}\n",
    "\n",
    "#imputing method\n",
    "for mname, methodsubset in zip(names,subsets_):\n",
    "    \n",
    "    WholeResults[mname] = {}\n",
    "    \n",
    "    #Subsets derived from diff. Features Selection Methods\n",
    "    for subname, subset in zip(subnames, methodsubset):\n",
    "        \n",
    "        WholeResults[mname][subname] = {}\n",
    "        mm = MinMaxScaler()\n",
    "        norm_subset = mm.fit_transform(subset)\n",
    "        features, labels = th.tensor(norm_subset), th.LongTensor(y_cat.values)\n",
    "        labels = np.argmax(labels,axis=1)\n",
    "\n",
    "        model = GNN(num_feats,64, 32, 0.5, 4)\n",
    "        loss_fcn = th.nn.CrossEntropyLoss()\n",
    "        optimizer = th.optim.Adam(model.parameters(), lr=0.01)\n",
    "        dataset = TensorDataset(features, labels)\n",
    "        batchs = DataLoader(dataset,batch_size=90,shuffle=False,drop_last=False)\n",
    "\n",
    "        #Test diff. # of neighbours\n",
    "        for n in max_neighbours:\n",
    "            print(\"new neigh:\", n)\n",
    "            neighname = \"N\" + str(n)\n",
    "            WholeResults[mname][subname][neighname] = {}\n",
    "            WholeResults[mname][subname][neighname][\"train\"] = {}\n",
    "            WholeResults[mname][subname][neighname][\"validation\"] = {}\n",
    "            WholeResults[mname][subname][neighname][\"test\"] = {}\n",
    "            \n",
    "            trials_results = np.zeros((max_trials,6))\n",
    "            \n",
    "            #Multiple Trials to get more robust results\n",
    "            for t in range(max_trials):\n",
    "                print(\"trial: \", t,\"/\",max_trials)\n",
    "                \n",
    "                results_ = np.zeros((15,4))\n",
    "                for epoch in range(15):\n",
    "\n",
    "                    loss = train(model, weighted_adj, batchs, loss_fcn, train_mask, optimizer, n)\n",
    "\n",
    "                    val_acc, val_mcc = evaluate(model, weighted_adj, features, labels, val_mask, n)\n",
    "                    tr_acc, tr_mcc = evaluate(model, weighted_adj, features, labels, train_mask, n)\n",
    "                    results_[epoch,:] = [tr_acc, tr_mcc, val_acc, val_mcc]\n",
    "                \n",
    "                te_acc, te_mcc = evaluate(model, weighted_adj, features, labels, test_mask, n)\n",
    "                trials_results[t,:] = [*results_.mean(axis=0),te_acc,te_mcc]\n",
    "            \n",
    "            \n",
    "            #save all in dico WholeResults\n",
    "            subdico_train = WholeResults[mname][subname][neighname][\"train\"]\n",
    "            subdico_validation = WholeResults[mname][subname][neighname][\"validation\"]\n",
    "            subdico_test = WholeResults[mname][subname][neighname][\"test\"]\n",
    "            subdico_train[\"acc\"],subdico_train[\"mcc\"] = trials_results[:,:2].mean(axis=0) \n",
    "            subdico_validation[\"acc\"],subdico_validation[\"mcc\"] = trials_results[:,2:4].mean(axis=0) \n",
    "            subdico_test[\"acc\"],subdico_test[\"mcc\"] = trials_results[:,-2:].mean(axis=0)                    \n",
    "                                       "
   ]
  }
 ],
 "metadata": {
  "kernelspec": {
   "display_name": "Python 3",
   "language": "python",
   "name": "python3"
  },
  "language_info": {
   "codemirror_mode": {
    "name": "ipython",
    "version": 3
   },
   "file_extension": ".py",
   "mimetype": "text/x-python",
   "name": "python",
   "nbconvert_exporter": "python",
   "pygments_lexer": "ipython3",
   "version": "3.6.8"
  }
 },
 "nbformat": 4,
 "nbformat_minor": 4
}
