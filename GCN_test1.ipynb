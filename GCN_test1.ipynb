{
 "cells": [
  {
   "cell_type": "code",
   "execution_count": 1,
   "metadata": {},
   "outputs": [],
   "source": [
    "import pandas as pd\n",
    "import numpy as np\n",
    "import matplotlib.pyplot as plt\n",
    "import networkx as nx\n",
    "from tabulate import tabulate\n",
    "\n",
    "\n",
    "from pygsp import graphs, filters, plotting\n",
    "from scipy.spatial.distance import pdist, squareform\n",
    "from scipy.stats import norm\n",
    "import scipy\n",
    "import matplotlib\n",
    "import utils\n",
    "\n",
    "\n",
    "\n",
    "import dgl\n",
    "import dgl.function as fn\n",
    "import torch as th\n",
    "import torch.nn as nn\n",
    "import torch.nn.functional as F\n",
    "from dgl import DGLGraph"
   ]
  },
  {
   "cell_type": "code",
   "execution_count": 2,
   "metadata": {},
   "outputs": [],
   "source": [
    "gcn_message = fn.copy_src(src='h', out='m')\n",
    "gcn_reduce = fn.sum(msg='m', out='h')"
   ]
  },
  {
   "cell_type": "code",
   "execution_count": 3,
   "metadata": {},
   "outputs": [],
   "source": [
    "# Define the GCNLayer module\n",
    "class GCNLayer(nn.Module):\n",
    "    def __init__(self, in_feats, out_feats):\n",
    "        super(GCNLayer, self).__init__()\n",
    "        self.linear = nn.Linear(in_feats, out_feats)\n",
    "\n",
    "    def forward(self, g, inputs):\n",
    "        # g is the graph and the inputs is the input node features\n",
    "        # first set the node features\n",
    "        g.ndata['h'] = inputs\n",
    "        # trigger message passing on all edges\n",
    "        g.send(g.edges(), gcn_message)\n",
    "        # trigger aggregation at all nodes\n",
    "        g.recv(g.nodes(), gcn_reduce)\n",
    "        # get the result node features\n",
    "        h = g.ndata.pop('h')\n",
    "        # perform linear transformation\n",
    "        return self.linear(h)"
   ]
  },
  {
   "cell_type": "code",
   "execution_count": 4,
   "metadata": {},
   "outputs": [],
   "source": [
    "# Define a 2-layer GCN model\n",
    "class GCN(nn.Module):\n",
    "    def __init__(self, in_feats, hidden_size, num_classes):\n",
    "        super(GCN, self).__init__()\n",
    "        self.gcn1 = GCNLayer(in_feats, hidden_size)\n",
    "        self.gcn2 = GCNLayer(hidden_size, num_classes)\n",
    "\n",
    "    def forward(self, g, inputs):\n",
    "        h = self.gcn1(g, inputs.float())\n",
    "        h = th.relu(h)\n",
    "        h = self.gcn2(g, h)\n",
    "        return h\n",
    "# The first layer transforms input features of size of 30 to a hidden size of 5.\n",
    "# The second layer transforms the hidden layer and produces output features of\n",
    "# size 2, corresponding to the two groups of the karate club."
   ]
  },
  {
   "cell_type": "code",
   "execution_count": 5,
   "metadata": {},
   "outputs": [],
   "source": [
    "# Build the target\n",
    "genotype_gene_expression_present_df = pd.read_pickle(\"data/pickle/genotype_gene_expression_present_df.pkl\")\n",
    "phenotype_df = pd.read_pickle(\"data/pickle/phenotype.pkl\")\n",
    "y = phenotype_df.loc['X62'].dropna().astype('int64')\n",
    "y = y[genotype_gene_expression_present_df.index]"
   ]
  },
  {
   "cell_type": "code",
   "execution_count": 6,
   "metadata": {},
   "outputs": [],
   "source": [
    "# Build the relevant high variance signals\n",
    "gene_expression_df = pd.read_pickle(\"data/pickle/gene_expression_df.pkl\")\n",
    "top_var = 30\n",
    "top_var_gene = gene_expression_df.std().sort_values().tail(top_var)\n",
    "signal = gene_expression_df[top_var_gene.index]"
   ]
  },
  {
   "cell_type": "code",
   "execution_count": 7,
   "metadata": {},
   "outputs": [
    {
     "data": {
      "text/plain": [
       "1    25\n",
       "4    17\n",
       "3    16\n",
       "2    14\n",
       "Name: X62, dtype: int64"
      ]
     },
     "execution_count": 7,
     "metadata": {},
     "output_type": "execute_result"
    }
   ],
   "source": [
    "# What are the most present labels ?\n",
    "y.value_counts()"
   ]
  },
  {
   "cell_type": "code",
   "execution_count": 8,
   "metadata": {},
   "outputs": [],
   "source": [
    "# Select only the mice that have label 1 or 4. We chose it because they are the most present\n",
    "y_binary = y[(y.values == 1) | (y.values == 4)]"
   ]
  },
  {
   "cell_type": "code",
   "execution_count": 9,
   "metadata": {},
   "outputs": [],
   "source": [
    "# Drop the rows with only nan values\n",
    "sign = signal[signal.index.isin(y_binary.index)].dropna(how='all')"
   ]
  },
  {
   "cell_type": "code",
   "execution_count": 10,
   "metadata": {},
   "outputs": [],
   "source": [
    "# Filter y_binary to take into account nan filtering\n",
    "y_binary = y_binary[y_binary.index.isin(sign.index)]"
   ]
  },
  {
   "cell_type": "code",
   "execution_count": 11,
   "metadata": {},
   "outputs": [
    {
     "data": {
      "text/plain": [
       "True"
      ]
     },
     "execution_count": 11,
     "metadata": {},
     "output_type": "execute_result"
    }
   ],
   "source": [
    "# Are both index the same ?\n",
    "(y_binary.index == sign.index).all()"
   ]
  },
  {
   "cell_type": "code",
   "execution_count": 12,
   "metadata": {},
   "outputs": [],
   "source": [
    "# Transfrom to np.array\n",
    "sign_np = sign.values"
   ]
  },
  {
   "cell_type": "code",
   "execution_count": 13,
   "metadata": {},
   "outputs": [],
   "source": [
    "# Transfrom to np.array\n",
    "sign_np = sign.values\n",
    "y_b = y_binary.values"
   ]
  },
  {
   "cell_type": "code",
   "execution_count": 28,
   "metadata": {},
   "outputs": [],
   "source": [
    "inputs = th.tensor(sign_np)"
   ]
  },
  {
   "cell_type": "code",
   "execution_count": 15,
   "metadata": {},
   "outputs": [
    {
     "name": "stdout",
     "output_type": "stream",
     "text": [
      "13 0\n",
      "y_b[one_node_labeled]: 1, y_b[four_node_labeled]: 4\n"
     ]
    }
   ],
   "source": [
    "import random\n",
    "# Select randomly which node to use as first labeled nodes \n",
    "# !!! idea: chose the best one based on graph properties !!!\n",
    "\n",
    "one_node_labeled = np.random.choice(np.where(y_b == 1)[0])\n",
    "four_node_labeled = np.random.choice(np.where(y_b == 4)[0])\n",
    "print(one_node_labeled, four_node_labeled)\n",
    "print(\"y_b[one_node_labeled]: %i, y_b[four_node_labeled]: %i\" % (y_b[one_node_labeled], y_b[four_node_labeled]))"
   ]
  },
  {
   "cell_type": "code",
   "execution_count": 16,
   "metadata": {},
   "outputs": [],
   "source": [
    "# Assign the labels both randomely selected nodes\n",
    "labeled_nodes = th.tensor([one_node_labeled, four_node_labeled]) ## \n",
    "labels = th.tensor([0, 1])"
   ]
  },
  {
   "cell_type": "code",
   "execution_count": 17,
   "metadata": {},
   "outputs": [],
   "source": [
    "# Build a graph adjacency for the subsample and mice labeled as 1 and 4\n",
    "genotype_df = pd.read_pickle('data/pickle/genotype_df.pkl')\n",
    "adj = utils.build_adj_from_strain(genotype_df, sign.index, 'cosine', 70, 0.273)"
   ]
  },
  {
   "cell_type": "code",
   "execution_count": 18,
   "metadata": {},
   "outputs": [
    {
     "name": "stderr",
     "output_type": "stream",
     "text": [
      "/Users/Raphael/anaconda3/envs/ntds_2019/lib/python3.7/site-packages/networkx/drawing/nx_pylab.py:579: MatplotlibDeprecationWarning: \n",
      "The iterable function was deprecated in Matplotlib 3.1 and will be removed in 3.3. Use np.iterable instead.\n",
      "  if not cb.iterable(width):\n"
     ]
    },
    {
     "data": {
      "image/png": "[encoded data removed]",
      "text/plain": [
       "<Figure size 432x288 with 1 Axes>"
      ]
     },
     "metadata": {},
     "output_type": "display_data"
    }
   ],
   "source": [
    "nx.draw(nx.from_numpy_array(adj))"
   ]
  },
  {
   "cell_type": "code",
   "execution_count": 19,
   "metadata": {},
   "outputs": [
    {
     "name": "stdout",
     "output_type": "stream",
     "text": [
      "╒═════════════════════════════════════════════════╤════════╕\n",
      "│ Number of nodes                                 │  30    │\n",
      "├─────────────────────────────────────────────────┼────────┤\n",
      "│ Number of edges                                 │ 106    │\n",
      "├─────────────────────────────────────────────────┼────────┤\n",
      "│ Graph density                                   │  24.37 │\n",
      "├─────────────────────────────────────────────────┼────────┤\n",
      "│ Average degree                                  │   7.07 │\n",
      "├─────────────────────────────────────────────────┼────────┤\n",
      "│ Number of connected components                  │   1    │\n",
      "├─────────────────────────────────────────────────┼────────┤\n",
      "│ Average clustering coefficient                  │   0.49 │\n",
      "├─────────────────────────────────────────────────┼────────┤\n",
      "│ Diameter of the network (longest shortest path) │   5    │\n",
      "╘═════════════════════════════════════════════════╧════════╛\n"
     ]
    }
   ],
   "source": [
    "utils.graph_basic_stats(nx.from_numpy_array(adj))"
   ]
  },
  {
   "cell_type": "code",
   "execution_count": 20,
   "metadata": {},
   "outputs": [],
   "source": [
    "G = DGLGraph(adj)"
   ]
  },
  {
   "cell_type": "code",
   "execution_count": 21,
   "metadata": {},
   "outputs": [],
   "source": [
    "net = GCN(sign_np.shape[1], 2, 2)"
   ]
  },
  {
   "cell_type": "code",
   "execution_count": 23,
   "metadata": {},
   "outputs": [
    {
     "name": "stdout",
     "output_type": "stream",
     "text": [
      "Epoch 0 | Loss: 0.7660\n",
      "Epoch 1 | Loss: 0.7624\n",
      "Epoch 2 | Loss: 0.7588\n",
      "Epoch 3 | Loss: 0.7554\n",
      "Epoch 4 | Loss: 0.7520\n",
      "Epoch 5 | Loss: 0.7487\n",
      "Epoch 6 | Loss: 0.7456\n",
      "Epoch 7 | Loss: 0.7425\n",
      "Epoch 8 | Loss: 0.7395\n",
      "Epoch 9 | Loss: 0.7367\n",
      "Epoch 10 | Loss: 0.7339\n",
      "Epoch 11 | Loss: 0.7312\n",
      "Epoch 12 | Loss: 0.7287\n",
      "Epoch 13 | Loss: 0.7262\n",
      "Epoch 14 | Loss: 0.7238\n",
      "Epoch 15 | Loss: 0.7216\n",
      "Epoch 16 | Loss: 0.7195\n",
      "Epoch 17 | Loss: 0.7174\n",
      "Epoch 18 | Loss: 0.7155\n",
      "Epoch 19 | Loss: 0.7136\n",
      "Epoch 20 | Loss: 0.7119\n",
      "Epoch 21 | Loss: 0.7103\n",
      "Epoch 22 | Loss: 0.7087\n",
      "Epoch 23 | Loss: 0.7073\n",
      "Epoch 24 | Loss: 0.7059\n",
      "Epoch 25 | Loss: 0.7047\n",
      "Epoch 26 | Loss: 0.7035\n",
      "Epoch 27 | Loss: 0.7024\n",
      "Epoch 28 | Loss: 0.7014\n",
      "Epoch 29 | Loss: 0.7005\n"
     ]
    }
   ],
   "source": [
    "optimizer = th.optim.Adam(net.parameters(), lr=0.01)\n",
    "all_logits = []\n",
    "for epoch in range(30):\n",
    "    logits = net(G, inputs)\n",
    "    # we save the logits for visualization later\n",
    "    all_logits.append(logits.detach())\n",
    "    logp = F.log_softmax(logits, 1)\n",
    "    # we only compute loss for labeled nodes\n",
    "    loss = F.nll_loss(logp[labeled_nodes], labels)\n",
    "\n",
    "    optimizer.zero_grad()\n",
    "    loss.backward()\n",
    "    optimizer.step()\n",
    "\n",
    "    print('Epoch %d | Loss: %.4f' % (epoch, loss.item()))"
   ]
  },
  {
   "cell_type": "code",
   "execution_count": 24,
   "metadata": {
    "collapsed": true
   },
   "outputs": [
    {
     "name": "stderr",
     "output_type": "stream",
     "text": [
      "/Users/Raphael/anaconda3/envs/ntds_2019/lib/python3.7/site-packages/networkx/drawing/nx_pylab.py:579: MatplotlibDeprecationWarning: \n",
      "The iterable function was deprecated in Matplotlib 3.1 and will be removed in 3.3. Use np.iterable instead.\n",
      "  if not cb.iterable(width):\n"
     ]
    },
    {
     "data": {
      "image/png": "[encoded data removed]",
      "text/plain": [
       "<Figure size 900x600 with 1 Axes>"
      ]
     },
     "metadata": {},
     "output_type": "display_data"
    }
   ],
   "source": [
    "import matplotlib.animation as animation\n",
    "import matplotlib.pyplot as plt\n",
    "%matplotlib inline\n",
    "\n",
    "nx_G = G.to_networkx().to_undirected()\n",
    "\n",
    "def draw(i):\n",
    "    cls1color = '#00FFFF'\n",
    "    cls2color = '#FF00FF'\n",
    "    pos = {}\n",
    "    colors = []\n",
    "    for v in range(30):\n",
    "        pos[v] = all_logits[i][v].numpy()\n",
    "        cls = pos[v].argmax()\n",
    "        colors.append(cls1color if cls else cls2color)\n",
    "    ax.cla()\n",
    "    ax.axis('off')\n",
    "    ax.set_title('Epoch: %d' % i)\n",
    "    nx.draw_networkx(nx_G.to_undirected(), pos, node_color=colors,\n",
    "            with_labels=True, node_size=300, ax=ax)\n",
    "\n",
    "fig = plt.figure(dpi=150)\n",
    "fig.clf()\n",
    "ax = fig.subplots()\n",
    "draw(29)  # draw the prediction of the first epoch\n",
    "# plt.close()"
   ]
  },
  {
   "cell_type": "code",
   "execution_count": null,
   "metadata": {},
   "outputs": [],
   "source": [
    "from IPython.display import HTML\n",
    "ani = animation.FuncAnimation(fig, draw, frames=len(all_logits), interval=200)\n",
    "HTML(ani.to_jshtml())"
   ]
  },
  {
   "cell_type": "code",
   "execution_count": null,
   "metadata": {},
   "outputs": [],
   "source": [
    "# TRAINING\n",
    "\n",
    "def train(model, g, features, labels, loss_fcn, train_mask, optimizer):\n",
    "    model.train()  # Activate dropout\n",
    "    \n",
    "    logits = model(g, features)\n",
    "    loss = loss_fcn(logits[train_mask], labels[train_mask])\n",
    "\n",
    "    optimizer.zero_grad()\n",
    "    loss.backward()\n",
    "    optimizer.step()\n",
    "    return loss\n",
    "\n",
    "def evaluate(model, g, features, labels, mask):\n",
    "    model.eval()  # Deactivate dropout\n",
    "    with torch.no_grad():\n",
    "        logits = model(g, features)[mask]  # only compute the evaluation set\n",
    "        labels = labels[mask]\n",
    "        _, indices = torch.max(logits, dim=1)\n",
    "        correct = torch.sum(indices == labels)\n",
    "        return correct.item() * 1.0 / len(labels)\n"
   ]
  },
  {
   "cell_type": "code",
   "execution_count": 25,
   "metadata": {},
   "outputs": [],
   "source": [
    "pol_order = 3\n",
    "lr = 0.2\n",
    "weight_decay = 5e-6\n",
    "n_epochs = 1000\n",
    "p_dropout = 0.8"
   ]
  },
  {
   "cell_type": "code",
   "execution_count": 29,
   "metadata": {},
   "outputs": [
    {
     "data": {
      "text/plain": [
       "tensor([0, 1])"
      ]
     },
     "execution_count": 29,
     "metadata": {},
     "output_type": "execute_result"
    }
   ],
   "source": [
    "features = th.tensor(sign_np)\n",
    "labels"
   ]
  },
  {
   "cell_type": "code",
   "execution_count": null,
   "metadata": {},
   "outputs": [],
   "source": [
    "loss_fcn = torch.nn.CrossEntropyLoss()\n",
    "optimizer = torch.optim.Adam(model.parameters(),\n",
    "                             lr=lr,\n",
    "                             weight_decay=weight_decay)\n",
    "\n",
    "dur = []\n",
    "for epoch in range(n_epochs):\n",
    "    if epoch >= 3:\n",
    "        t0 = time.time()\n",
    "    loss = train(model, graph, features, labels, loss_fcn, train_mask, optimizer)\n",
    "\n",
    "    if epoch >= 3:\n",
    "        dur.append(time.time() - t0)\n",
    "\n",
    "    acc = evaluate(model, graph, features, labels, val_mask)\n",
    "    print(\"Epoch {:05d} | Time(s) {:.4f} | Train Loss {:.4f} | Val Accuracy {:.4f}\". format(\n",
    "            epoch, np.mean(dur), loss.item(), acc))\n",
    "\n",
    "print()\n",
    "acc = evaluate(model, graph, features, labels, test_mask)\n",
    "print(\"Test Accuracy {:.4f}\".format(acc))"
   ]
  }
 ],
 "metadata": {
  "kernelspec": {
   "display_name": "Python 3",
   "language": "python",
   "name": "python3"
  },
  "language_info": {
   "codemirror_mode": {
    "name": "ipython",
    "version": 3
   },
   "file_extension": ".py",
   "mimetype": "text/x-python",
   "name": "python",
   "nbconvert_exporter": "python",
   "pygments_lexer": "ipython3",
   "version": "3.7.3"
  }
 },
 "nbformat": 4,
 "nbformat_minor": 2
}
